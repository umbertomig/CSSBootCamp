{
 "cells": [
  {
   "cell_type": "markdown",
   "metadata": {
    "slideshow": {
     "slide_type": "slide"
    }
   },
   "source": [
    "# CSS 201.5 - CSS Bootcamp\n",
    "\n",
    "## Week 02 - Lecture 02 (afternoon)\n",
    "\n",
    "### Umberto Mignozzetti (UCSD)"
   ]
  },
  {
   "cell_type": "markdown",
   "metadata": {
    "slideshow": {
     "slide_type": "slide"
    }
   },
   "source": [
    "# Linear Algebra"
   ]
  },
  {
   "cell_type": "markdown",
   "metadata": {
    "slideshow": {
     "slide_type": "slide"
    }
   },
   "source": [
    "## Linear Algebra\n",
    "\n",
    "### Systems of Linear Equations\n",
    "\n",
    "**Theorem**:\n",
    "\n",
    "![alt](https://github.com/umbertomig/CSSBootCamp/blob/main/img/a11.png?raw=true)"
   ]
  },
  {
   "cell_type": "markdown",
   "metadata": {
    "slideshow": {
     "slide_type": "slide"
    }
   },
   "source": [
    "## Linear Algebra\n",
    "\n",
    "### Systems of Linear Equations\n",
    "\n",
    "To visualize this, note that a system of two linear equations is a pair of lines:\n",
    "\n",
    "![alt](https://github.com/umbertomig/CSSBootCamp/blob/main/img/onesolline.png?raw=true)"
   ]
  },
  {
   "cell_type": "markdown",
   "metadata": {
    "slideshow": {
     "slide_type": "slide"
    }
   },
   "source": [
    "## Linear Algebra\n",
    "\n",
    "### Systems of Linear Equations\n",
    "\n",
    "And a system of three linear equations is a comprised of three planes:\n",
    "\n",
    "![alt](https://github.com/umbertomig/CSSBootCamp/blob/main/img/onesolplane.png?raw=true)"
   ]
  },
  {
   "cell_type": "markdown",
   "metadata": {
    "slideshow": {
     "slide_type": "slide"
    }
   },
   "source": [
    "## Linear Algebra\n",
    "\n",
    "### Systems of Linear Equations\n",
    "\n",
    "Check-in: Solve the following exercises\n",
    "\n",
    "1. \n",
    "![alt](https://github.com/umbertomig/CSSBootCamp/blob/main/img/solvesys.png?raw=true)\n",
    "\n",
    "2. \n",
    "![alt](https://github.com/umbertomig/CSSBootCamp/blob/main/img/findksys.png?raw=true)"
   ]
  },
  {
   "cell_type": "markdown",
   "metadata": {
    "slideshow": {
     "slide_type": "slide"
    }
   },
   "source": [
    "## Linear Algebra\n",
    "\n",
    "### Matrix\n",
    "\n",
    "**Definition**: *Matrix*\n",
    "\n",
    "A **matrix** is a rectangular array of numbers. The numbers in the array are called the **entries** in the matrix.\n",
    "\n",
    "Examples:\n",
    "\n",
    "![alt](https://github.com/umbertomig/CSSBootCamp/blob/main/img/exmat.png?raw=true)"
   ]
  },
  {
   "cell_type": "markdown",
   "metadata": {
    "slideshow": {
     "slide_type": "slide"
    }
   },
   "source": [
    "## Linear Algebra\n",
    "\n",
    "### Matrix\n",
    "\n",
    "1. General Notation:\n",
    "\n",
    "![alt](https://github.com/umbertomig/CSSBootCamp/blob/main/img/genmat.png?raw=true)\n",
    "\n",
    "2. Element-wise notation: denotes a given element in the matrix:\n",
    "\n",
    "$$(A)_{ij} = a_{ij}$$\n",
    "\n",
    "3. Compact matrix form: \n",
    "\n",
    "$$[a_{ij}]_{m\\times n}$$"
   ]
  },
  {
   "cell_type": "markdown",
   "metadata": {
    "slideshow": {
     "slide_type": "slide"
    }
   },
   "source": [
    "## Linear Algebra\n",
    "\n",
    "### Matrix\n",
    "\n",
    "**Definitions**: \n",
    "\n",
    "1. A matrix with only one column is called **column matrix**\n",
    "2. A matrix with only one row is called a **row matrix**\n",
    "\n",
    "Examples:\n",
    "\n",
    "![alt](https://github.com/umbertomig/CSSBootCamp/blob/main/img/rowcol.png?raw=true)"
   ]
  },
  {
   "cell_type": "markdown",
   "metadata": {
    "slideshow": {
     "slide_type": "slide"
    }
   },
   "source": [
    "## Linear Algebra\n",
    "\n",
    "### Matrix\n",
    "\n",
    "**Definitions**: \n",
    "\n",
    "3. A matrix with same number of rows and columns is called a **square matrix**\n",
    "4. Two matrices are the equal if all their entries are the same.\n",
    "5. The entries $a_{ii}$ on a matrix are said to be the **main diagonal** of the matrix.\n",
    "\n",
    "Examples:\n",
    "\n",
    "![alt](https://github.com/umbertomig/CSSBootCamp/blob/main/img/sqmat.png?raw=true)\n",
    "\n",
    "![alt](https://github.com/umbertomig/CSSBootCamp/blob/main/img/diagmat.png?raw=true)"
   ]
  },
  {
   "cell_type": "markdown",
   "metadata": {
    "slideshow": {
     "slide_type": "slide"
    }
   },
   "source": [
    "## Linear Algebra\n",
    "\n",
    "### Matrix\n",
    "\n",
    "**Definition**: *Matrix addition and subtraction*\n",
    "\n",
    "Addition and subtraction of matrices are done by entries. It is only possible when entries have the same size.\n",
    "\n",
    "$$(A + B)_{ij} = a_{ij} + b_{ij}, \\quad (A - B)_{ij} = a_{ij} - b_{ij}$$\n",
    "\n",
    "Example:\n",
    "\n",
    "![alt](https://github.com/umbertomig/CSSBootCamp/blob/main/img/sumex.png?raw=true)"
   ]
  },
  {
   "cell_type": "markdown",
   "metadata": {
    "slideshow": {
     "slide_type": "slide"
    }
   },
   "source": [
    "## Linear Algebra\n",
    "\n",
    "### Matrix\n",
    "\n",
    "**Definition**: *Scalar* Numerical quantities. Usually real numbers. Just the number itself.\n",
    "\n",
    "**Definition**: *Scalar multiplication*\n",
    "\n",
    "If $A$ is any matrix and $c$ is any scalar, then the product $cA$ is the matrix obtained by multiplying each entry of the matrix $A$ by $c$. The matrix $cA$ is said to be a **scalar multiple** of A.\n",
    "\n",
    "$$(cA)_{ij} = c(A)_{ij} = ca_{ij}$$\n",
    "\n",
    "Example:\n",
    "\n",
    "![alt](https://github.com/umbertomig/CSSBootCamp/blob/main/img/scalarprod.png?raw=true)"
   ]
  },
  {
   "cell_type": "markdown",
   "metadata": {
    "slideshow": {
     "slide_type": "slide"
    }
   },
   "source": [
    "## Linear Algebra\n",
    "\n",
    "### Matrix\n",
    "\n",
    "**Definition**: *Matrix Multiplication*\n",
    "\n",
    "If $A$ is an $m\\times r$ matrix and $B$ is an $r\\times n$ matrix, then the product $AB$ is the $m \\times n$ matrix whose entries are determined as follows:\n",
    "\n",
    "- To find the entry in row $i$ and column $j$ of $AB$, single out row $i$ from the matrix $A$ and column $j$ from the matrix $B$. \n",
    "\n",
    "- Multiply the corresponding entries from the row and column together, and then add up the resulting products.\n",
    "\n",
    "$$(AB)_{ij} = a_{i1}b_{1j}+a_{i2}b_{2j}+\\cdots+a_{ir}b_{rj}$$"
   ]
  },
  {
   "cell_type": "markdown",
   "metadata": {
    "slideshow": {
     "slide_type": "slide"
    }
   },
   "source": [
    "## Linear Algebra\n",
    "\n",
    "### Matrix\n",
    "\n",
    "Example 1:\n",
    "\n",
    "![alt](https://github.com/umbertomig/CSSBootCamp/blob/main/img/matmult1.png?raw=true)\n",
    "\n",
    "Example 2:\n",
    "\n",
    "![alt](https://github.com/umbertomig/CSSBootCamp/blob/main/img/matmult2.png?raw=true)\n",
    "\n",
    "Note: Sometimes, the product taken in the inverse form is not defined."
   ]
  },
  {
   "cell_type": "markdown",
   "metadata": {
    "slideshow": {
     "slide_type": "slide"
    }
   },
   "source": [
    "## Linear Algebra\n",
    "\n",
    "### Matrix\n",
    "\n",
    "**Definition**: *Partitioned Matrices*\n",
    "\n",
    "We can partition matrices by inserting horizontal or vertical rules on them.\n",
    "\n",
    "Example:\n",
    "\n",
    "![alt](https://github.com/umbertomig/CSSBootCamp/blob/main/img/matpart.png?raw=true)"
   ]
  },
  {
   "cell_type": "markdown",
   "metadata": {
    "slideshow": {
     "slide_type": "slide"
    }
   },
   "source": [
    "## Linear Algebra\n",
    "\n",
    "### Matrix\n",
    "\n",
    "Partitions can simplify the representations of operations:\n",
    "\n",
    "![alt](https://github.com/umbertomig/CSSBootCamp/blob/main/img/matpartsimpl.png?raw=true)"
   ]
  },
  {
   "cell_type": "markdown",
   "metadata": {
    "jp-MarkdownHeadingCollapsed": true,
    "slideshow": {
     "slide_type": "slide"
    },
    "tags": []
   },
   "source": [
    "## Linear Algebra\n",
    "\n",
    "### Matrix\n",
    "\n",
    "**Definition**: *Linear Combination*\n",
    "\n",
    "If $A_1$,$A_2$, $\\cdots$, $A_r$ are matrices of the same size, and if $c_1$, $c_2$, $\\cdots$, $c_r$ are scalars, then an expression of the form\n",
    "\n",
    "$$c_1A_1 +c_2A_2 + \\cdots +c_rA_r$$\n",
    "\n",
    "is called a **linear combination** of $A_1$, $A_2$, $\\cdots$, $A_r$ with coefficients $c_1$, $c_2$, $\\cdots$, $c_r$.\n",
    "\n",
    "Example:\n",
    "\n",
    "![alt](https://github.com/umbertomig/CSSBootCamp/blob/main/img/lincomb1.png?raw=true)"
   ]
  },
  {
   "cell_type": "markdown",
   "metadata": {
    "jp-MarkdownHeadingCollapsed": true,
    "slideshow": {
     "slide_type": "slide"
    },
    "tags": []
   },
   "source": [
    "## Linear Algebra\n",
    "\n",
    "### Matrix\n",
    "\n",
    "Matrix products are linear combinations:\n",
    "\n",
    "![alt](https://github.com/umbertomig/CSSBootCamp/blob/main/img/matpartsimpl.png?raw=true)"
   ]
  },
  {
   "cell_type": "markdown",
   "metadata": {
    "jp-MarkdownHeadingCollapsed": true,
    "slideshow": {
     "slide_type": "slide"
    },
    "tags": []
   },
   "source": [
    "## Linear Algebra\n",
    "\n",
    "### Matrix\n",
    "\n",
    "Linear Systems are linear combinations and matrix products:\n",
    "\n",
    "![alt](https://github.com/umbertomig/CSSBootCamp/blob/main/img/linsys001.png?raw=true)\n",
    "\n",
    "![alt](https://github.com/umbertomig/CSSBootCamp/blob/main/img/linsys002.png?raw=true)\n",
    "\n",
    "Or, $Ax = b$"
   ]
  },
  {
   "cell_type": "markdown",
   "metadata": {
    "slideshow": {
     "slide_type": "slide"
    },
    "tags": []
   },
   "source": [
    "## Linear Algebra\n",
    "\n",
    "### Matrix\n",
    "\n",
    "**Definition**: *Transpose*\n",
    "\n",
    "If $A$ is any $m \\times n$ matrix, then the **transpose of $A$**, denoted by $A^T$ , is defined to be the $n\\times m$ matrix that results by interchanging the rows and columns of $A$; that is, the first column of $A^T$ is the first row of $A$, the second column of $A^T$ is the second row of A, and so forth.\n",
    "\n",
    "$$(A^T)_{ij} = (A)_{ji}$$\n",
    "\n",
    "Examples:\n",
    "\n",
    "![alt](https://github.com/umbertomig/CSSBootCamp/blob/main/img/extrans.png?raw=true)"
   ]
  },
  {
   "cell_type": "markdown",
   "metadata": {
    "slideshow": {
     "slide_type": "slide"
    }
   },
   "source": [
    "## Linear Algebra\n",
    "\n",
    "### Matrix\n",
    "\n",
    "**Definition**: *Trace*\n",
    "\n",
    "If $A$ is a square matrix, then the **trace of A**, denoted by $tr(A)$, is defined to be the sum of the entries on the main diagonal of $A$. The trace of $A$ is undefined if $A$ is not a square matrix.\n",
    "\n",
    "$$(A^T)_{ij} = (A)_{ji}$$\n",
    "\n",
    "Examples:\n",
    "\n",
    "![alt](https://github.com/umbertomig/CSSBootCamp/blob/main/img/trmat.png?raw=true)"
   ]
  },
  {
   "cell_type": "markdown",
   "metadata": {
    "slideshow": {
     "slide_type": "slide"
    }
   },
   "source": [
    "## Linear Algebra\n",
    "\n",
    "### Matrix\n",
    "\n",
    "Laws of Matrix Algebra:\n",
    "\n",
    "![img](https://github.com/umbertomig/CSSBootCamp/blob/main/img/algmatrices.png?raw=true)"
   ]
  },
  {
   "cell_type": "markdown",
   "metadata": {
    "slideshow": {
     "slide_type": "slide"
    }
   },
   "source": [
    "## Linear Algebra\n",
    "\n",
    "### Matrix\n",
    "\n",
    "Transpose:\n",
    "\n",
    "![img](https://github.com/umbertomig/CSSBootCamp/blob/main/img/transpalgebra.png?raw=true)"
   ]
  },
  {
   "cell_type": "markdown",
   "metadata": {
    "slideshow": {
     "slide_type": "slide"
    }
   },
   "source": [
    "## Linear Algebra\n",
    "\n",
    "### Matrix\n",
    "\n",
    "Special Matrices\n",
    "\n",
    "![alt](https://github.com/umbertomig/CSSBootCamp/blob/main/img/mt1.png?raw=true)"
   ]
  },
  {
   "cell_type": "markdown",
   "metadata": {
    "slideshow": {
     "slide_type": "slide"
    }
   },
   "source": [
    "## Linear Algebra\n",
    "\n",
    "### Matrix\n",
    "\n",
    "Special Matrices\n",
    "\n",
    "![alt](https://github.com/umbertomig/CSSBootCamp/blob/main/img/mt2.png?raw=true)"
   ]
  },
  {
   "cell_type": "markdown",
   "metadata": {
    "slideshow": {
     "slide_type": "slide"
    }
   },
   "source": [
    "## Linear Algebra\n",
    "\n",
    "### Matrix\n",
    "\n",
    "Special Matrices\n",
    "\n",
    "![alt](https://github.com/umbertomig/CSSBootCamp/blob/main/img/mt4.png?raw=true)"
   ]
  },
  {
   "cell_type": "markdown",
   "metadata": {
    "slideshow": {
     "slide_type": "slide"
    }
   },
   "source": [
    "## Linear Algebra\n",
    "\n",
    "### Matrix\n",
    "\n",
    "**Definition**: *Identity Matrix*\n",
    "\n",
    "A square matrix with $1$'s on the main diagonal and zeros elsewhere is called an **identity matrix**.\n",
    "\n",
    "They play the same role as the number $1$ in arithmetics.\n",
    "\n",
    "$$AI_n = A, \\ and \\ I_mA = A$$\n",
    "\n",
    "Examples:\n",
    "\n",
    "![alt](https://github.com/umbertomig/CSSBootCamp/blob/main/img/identmat.png?raw=true)"
   ]
  },
  {
   "cell_type": "markdown",
   "metadata": {
    "slideshow": {
     "slide_type": "slide"
    }
   },
   "source": [
    "## Linear Algebra\n",
    "\n",
    "### Matrix\n",
    "\n",
    "**Definition**: *Inverse Matrix*\n",
    "\n",
    "Let $A$ a matrix $n\\times n$. The matrix $B$ of $n\\times n$ is an called the \\textbf{inverse} for $A$ if $AB=BA=I$ (where $I$ is the Identity Matrix).\n",
    "\n",
    "![alt](https://github.com/umbertomig/CSSBootCamp/blob/main/img/invmat.png?raw=true)\n",
    "\n",
    "![alt](https://github.com/umbertomig/CSSBootCamp/blob/main/img/invprodtheorem.png?raw=true)"
   ]
  },
  {
   "cell_type": "markdown",
   "metadata": {
    "slideshow": {
     "slide_type": "slide"
    }
   },
   "source": [
    "## Symbolic Computing"
   ]
  },
  {
   "cell_type": "code",
   "execution_count": 2,
   "metadata": {
    "execution": {
     "iopub.execute_input": "2024-07-09T19:39:50.407731Z",
     "iopub.status.busy": "2024-07-09T19:39:50.407591Z",
     "iopub.status.idle": "2024-07-09T19:39:50.409830Z",
     "shell.execute_reply": "2024-07-09T19:39:50.409512Z",
     "shell.execute_reply.started": "2024-07-09T19:39:50.407722Z"
    },
    "slideshow": {
     "slide_type": "fragment"
    }
   },
   "outputs": [],
   "source": [
    "# Importing libraries\n",
    "import numpy as np\n",
    "import pandas as pd\n",
    "import scipy\n",
    "import scipy.linalg\n",
    "import matplotlib.pyplot as plt\n",
    "import sympy\n",
    "sympy.init_printing() # Display equations nicely"
   ]
  },
  {
   "cell_type": "markdown",
   "metadata": {
    "slideshow": {
     "slide_type": "slide"
    }
   },
   "source": [
    "## Symbolic Computing\n",
    "\n",
    "How about solving a *system of linear equations* in `sympy`?"
   ]
  },
  {
   "cell_type": "code",
   "execution_count": 3,
   "metadata": {
    "execution": {
     "iopub.execute_input": "2024-07-09T19:39:50.410298Z",
     "iopub.status.busy": "2024-07-09T19:39:50.410216Z",
     "iopub.status.idle": "2024-07-09T19:39:50.412001Z",
     "shell.execute_reply": "2024-07-09T19:39:50.411719Z",
     "shell.execute_reply.started": "2024-07-09T19:39:50.410290Z"
    }
   },
   "outputs": [],
   "source": [
    "x = sympy.Symbol('x')\n",
    "y = sympy.Symbol('y')"
   ]
  },
  {
   "cell_type": "code",
   "execution_count": 4,
   "metadata": {
    "execution": {
     "iopub.execute_input": "2024-07-09T19:39:50.413306Z",
     "iopub.status.busy": "2024-07-09T19:39:50.413153Z",
     "iopub.status.idle": "2024-07-09T19:39:51.680183Z",
     "shell.execute_reply": "2024-07-09T19:39:51.679685Z",
     "shell.execute_reply.started": "2024-07-09T19:39:50.413293Z"
    }
   },
   "outputs": [
    {
     "data": {
      "image/png": "[encoded data removed]",
      "text/latex": [
       "$\\displaystyle x + 2 y - 1$"
      ],
      "text/plain": [
       "x + 2⋅y - 1"
      ]
     },
     "execution_count": 4,
     "metadata": {},
     "output_type": "execute_result"
    }
   ],
   "source": [
    "eq1 = x + 2 * y - 1\n",
    "eq1"
   ]
  },
  {
   "cell_type": "code",
   "execution_count": 5,
   "metadata": {
    "execution": {
     "iopub.execute_input": "2024-07-09T19:39:51.680962Z",
     "iopub.status.busy": "2024-07-09T19:39:51.680854Z",
     "iopub.status.idle": "2024-07-09T19:39:52.004433Z",
     "shell.execute_reply": "2024-07-09T19:39:52.003885Z",
     "shell.execute_reply.started": "2024-07-09T19:39:51.680951Z"
    }
   },
   "outputs": [
    {
     "data": {
      "image/png": "[encoded data removed]",
      "text/latex": [
       "$\\displaystyle x - y + 1$"
      ],
      "text/plain": [
       "x - y + 1"
      ]
     },
     "execution_count": 5,
     "metadata": {},
     "output_type": "execute_result"
    }
   ],
   "source": [
    "eq2 = x - y + 1\n",
    "eq2"
   ]
  },
  {
   "cell_type": "code",
   "execution_count": 6,
   "metadata": {
    "execution": {
     "iopub.execute_input": "2024-07-09T19:39:52.005335Z",
     "iopub.status.busy": "2024-07-09T19:39:52.005214Z",
     "iopub.status.idle": "2024-07-09T19:39:52.329223Z",
     "shell.execute_reply": "2024-07-09T19:39:52.328741Z",
     "shell.execute_reply.started": "2024-07-09T19:39:52.005324Z"
    }
   },
   "outputs": [
    {
     "data": {
      "image/png": "[encoded data removed]",
      "text/latex": [
       "$\\displaystyle \\left\\{ x : - \\frac{1}{3}, \\  y : \\frac{2}{3}\\right\\}$"
      ],
      "text/plain": [
       "{x: -1/3, y: 2/3}"
      ]
     },
     "execution_count": 6,
     "metadata": {},
     "output_type": "execute_result"
    }
   ],
   "source": [
    "sympy.solve([eq1, eq2], [x, y])"
   ]
  },
  {
   "cell_type": "markdown",
   "metadata": {
    "slideshow": {
     "slide_type": "slide"
    }
   },
   "source": [
    "## Symbolic Computing\n",
    "\n",
    "How about a ***system of non-linear equations***?"
   ]
  },
  {
   "cell_type": "code",
   "execution_count": 7,
   "metadata": {
    "execution": {
     "iopub.execute_input": "2024-07-09T19:39:56.381206Z",
     "iopub.status.busy": "2024-07-09T19:39:56.380560Z",
     "iopub.status.idle": "2024-07-09T19:39:56.705804Z",
     "shell.execute_reply": "2024-07-09T19:39:56.705408Z",
     "shell.execute_reply.started": "2024-07-09T19:39:56.381161Z"
    }
   },
   "outputs": [
    {
     "data": {
      "image/png": "[encoded data removed]",
      "text/latex": [
       "$\\displaystyle x^{2} - y$"
      ],
      "text/plain": [
       " 2    \n",
       "x  - y"
      ]
     },
     "execution_count": 7,
     "metadata": {},
     "output_type": "execute_result"
    }
   ],
   "source": [
    "eq1 = x**2 - y\n",
    "eq1"
   ]
  },
  {
   "cell_type": "code",
   "execution_count": 8,
   "metadata": {
    "execution": {
     "iopub.execute_input": "2024-07-09T19:39:56.928853Z",
     "iopub.status.busy": "2024-07-09T19:39:56.928310Z",
     "iopub.status.idle": "2024-07-09T19:39:57.249558Z",
     "shell.execute_reply": "2024-07-09T19:39:57.249109Z",
     "shell.execute_reply.started": "2024-07-09T19:39:56.928812Z"
    }
   },
   "outputs": [
    {
     "data": {
      "image/png": "[encoded data removed]",
      "text/latex": [
       "$\\displaystyle - x + y^{2}$"
      ],
      "text/plain": [
       "      2\n",
       "-x + y "
      ]
     },
     "execution_count": 8,
     "metadata": {},
     "output_type": "execute_result"
    }
   ],
   "source": [
    "eq2 = y**2 - x\n",
    "eq2"
   ]
  },
  {
   "cell_type": "code",
   "execution_count": 9,
   "metadata": {
    "execution": {
     "iopub.execute_input": "2024-07-09T19:39:57.908517Z",
     "iopub.status.busy": "2024-07-09T19:39:57.908042Z",
     "iopub.status.idle": "2024-07-09T19:39:58.243902Z",
     "shell.execute_reply": "2024-07-09T19:39:58.243523Z",
     "shell.execute_reply.started": "2024-07-09T19:39:57.908485Z"
    }
   },
   "outputs": [
    {
     "data": {
      "image/png": "[encoded data removed]",
      "text/latex": [
       "$\\displaystyle \\left[ \\left\\{ x : 0, \\  y : 0\\right\\}, \\  \\left\\{ x : 1, \\  y : 1\\right\\}, \\  \\left\\{ x : \\left(- \\frac{1}{2} - \\frac{\\sqrt{3} i}{2}\\right)^{2}, \\  y : - \\frac{1}{2} - \\frac{\\sqrt{3} i}{2}\\right\\}, \\  \\left\\{ x : \\left(- \\frac{1}{2} + \\frac{\\sqrt{3} i}{2}\\right)^{2}, \\  y : - \\frac{1}{2} + \\frac{\\sqrt{3} i}{2}\\right\\}\\right]$"
      ],
      "text/plain": [
       "⎡                            ⎧               2               ⎫  ⎧             \n",
       "⎢                            ⎪   ⎛  1   √3⋅ⅈ⎞        1   √3⋅ⅈ⎪  ⎪   ⎛  1   √3⋅\n",
       "⎢{x: 0, y: 0}, {x: 1, y: 1}, ⎨x: ⎜- ─ - ────⎟ , y: - ─ - ────⎬, ⎨x: ⎜- ─ + ───\n",
       "⎢                            ⎪   ⎝  2    2  ⎠        2    2  ⎪  ⎪   ⎝  2    2 \n",
       "⎣                            ⎩                               ⎭  ⎩             \n",
       "\n",
       "  2               ⎫⎤\n",
       "ⅈ⎞        1   √3⋅ⅈ⎪⎥\n",
       "─⎟ , y: - ─ + ────⎬⎥\n",
       " ⎠        2    2  ⎪⎥\n",
       "                  ⎭⎦"
      ]
     },
     "execution_count": 9,
     "metadata": {},
     "output_type": "execute_result"
    }
   ],
   "source": [
    "sympy.solve([eq1, eq2], [x, y], dict = True)"
   ]
  },
  {
   "cell_type": "markdown",
   "metadata": {
    "slideshow": {
     "slide_type": "slide"
    }
   },
   "source": [
    "## Symbolic Computing\n",
    "\n",
    "Matrices:"
   ]
  },
  {
   "cell_type": "code",
   "execution_count": 10,
   "metadata": {
    "execution": {
     "iopub.execute_input": "2024-07-09T19:40:00.463528Z",
     "iopub.status.busy": "2024-07-09T19:40:00.463105Z",
     "iopub.status.idle": "2024-07-09T19:40:00.791746Z",
     "shell.execute_reply": "2024-07-09T19:40:00.791328Z",
     "shell.execute_reply.started": "2024-07-09T19:40:00.463498Z"
    }
   },
   "outputs": [
    {
     "data": {
      "image/png": "[encoded data removed]",
      "text/latex": [
       "$\\displaystyle \\left[\\begin{matrix}a & b\\\\c & d\\end{matrix}\\right]$"
      ],
      "text/plain": [
       "⎡a  b⎤\n",
       "⎢    ⎥\n",
       "⎣c  d⎦"
      ]
     },
     "execution_count": 10,
     "metadata": {},
     "output_type": "execute_result"
    }
   ],
   "source": [
    "a, b, c, d = sympy.symbols(\"a, b, c, d\")\n",
    "M = sympy.Matrix([[a, b], [c, d]])\n",
    "M"
   ]
  },
  {
   "cell_type": "markdown",
   "metadata": {},
   "source": [
    "And matrix multiplication:"
   ]
  },
  {
   "cell_type": "code",
   "execution_count": 11,
   "metadata": {
    "execution": {
     "iopub.execute_input": "2024-07-09T19:40:01.864045Z",
     "iopub.status.busy": "2024-07-09T19:40:01.863835Z",
     "iopub.status.idle": "2024-07-09T19:40:02.189149Z",
     "shell.execute_reply": "2024-07-09T19:40:02.188742Z",
     "shell.execute_reply.started": "2024-07-09T19:40:01.864030Z"
    }
   },
   "outputs": [
    {
     "data": {
      "image/png": "[encoded data removed]",
      "text/latex": [
       "$\\displaystyle \\left[\\begin{matrix}a^{2} + b c & a b + b d\\\\a c + c d & b c + d^{2}\\end{matrix}\\right]$"
      ],
      "text/plain": [
       "⎡ 2                  ⎤\n",
       "⎢a  + b⋅c   a⋅b + b⋅d⎥\n",
       "⎢                    ⎥\n",
       "⎢                  2 ⎥\n",
       "⎣a⋅c + c⋅d  b⋅c + d  ⎦"
      ]
     },
     "execution_count": 11,
     "metadata": {},
     "output_type": "execute_result"
    }
   ],
   "source": [
    "M * M"
   ]
  },
  {
   "cell_type": "markdown",
   "metadata": {
    "slideshow": {
     "slide_type": "slide"
    }
   },
   "source": [
    "## Symbolic Computing\n",
    "\n",
    "Matrix operations:"
   ]
  },
  {
   "cell_type": "code",
   "execution_count": 12,
   "metadata": {
    "execution": {
     "iopub.execute_input": "2024-07-09T19:40:03.798569Z",
     "iopub.status.busy": "2024-07-09T19:40:03.798111Z",
     "iopub.status.idle": "2024-07-09T19:40:04.131193Z",
     "shell.execute_reply": "2024-07-09T19:40:04.130798Z",
     "shell.execute_reply.started": "2024-07-09T19:40:03.798538Z"
    }
   },
   "outputs": [
    {
     "data": {
      "image/png": "[encoded data removed]",
      "text/latex": [
       "$\\displaystyle a d - b c$"
      ],
      "text/plain": [
       "a⋅d - b⋅c"
      ]
     },
     "execution_count": 12,
     "metadata": {},
     "output_type": "execute_result"
    }
   ],
   "source": [
    "# Determinant\n",
    "M.det()"
   ]
  },
  {
   "cell_type": "code",
   "execution_count": 13,
   "metadata": {
    "execution": {
     "iopub.execute_input": "2024-07-09T19:40:05.130407Z",
     "iopub.status.busy": "2024-07-09T19:40:05.129955Z",
     "iopub.status.idle": "2024-07-09T19:40:05.523641Z",
     "shell.execute_reply": "2024-07-09T19:40:05.523181Z",
     "shell.execute_reply.started": "2024-07-09T19:40:05.130378Z"
    }
   },
   "outputs": [
    {
     "data": {
      "image/png": "[encoded data removed]",
      "text/latex": [
       "$\\displaystyle \\left[\\begin{matrix}\\frac{d}{a d - b c} & - \\frac{b}{a d - b c}\\\\- \\frac{c}{a d - b c} & \\frac{a}{a d - b c}\\end{matrix}\\right]$"
      ],
      "text/plain": [
       "⎡    d         -b    ⎤\n",
       "⎢─────────  ─────────⎥\n",
       "⎢a⋅d - b⋅c  a⋅d - b⋅c⎥\n",
       "⎢                    ⎥\n",
       "⎢   -c          a    ⎥\n",
       "⎢─────────  ─────────⎥\n",
       "⎣a⋅d - b⋅c  a⋅d - b⋅c⎦"
      ]
     },
     "execution_count": 13,
     "metadata": {},
     "output_type": "execute_result"
    }
   ],
   "source": [
    "# Inverse\n",
    "M.inv()"
   ]
  },
  {
   "cell_type": "code",
   "execution_count": 14,
   "metadata": {
    "execution": {
     "iopub.execute_input": "2024-07-09T19:40:06.192131Z",
     "iopub.status.busy": "2024-07-09T19:40:06.191693Z",
     "iopub.status.idle": "2024-07-09T19:40:06.503698Z",
     "shell.execute_reply": "2024-07-09T19:40:06.503310Z",
     "shell.execute_reply.started": "2024-07-09T19:40:06.192100Z"
    }
   },
   "outputs": [
    {
     "data": {
      "image/png": "[encoded data removed]",
      "text/latex": [
       "$\\displaystyle \\left[\\begin{matrix}a & c\\\\b & d\\end{matrix}\\right]$"
      ],
      "text/plain": [
       "⎡a  c⎤\n",
       "⎢    ⎥\n",
       "⎣b  d⎦"
      ]
     },
     "execution_count": 14,
     "metadata": {},
     "output_type": "execute_result"
    }
   ],
   "source": [
    "# Transpose\n",
    "M.T"
   ]
  },
  {
   "cell_type": "markdown",
   "metadata": {
    "slideshow": {
     "slide_type": "slide"
    }
   },
   "source": [
    "## Symbolic Computing\n",
    "\n",
    "Matrix operations:"
   ]
  },
  {
   "cell_type": "code",
   "execution_count": null,
   "metadata": {},
   "outputs": [],
   "source": [
    "M.rank()"
   ]
  },
  {
   "cell_type": "code",
   "execution_count": null,
   "metadata": {},
   "outputs": [],
   "source": [
    "M.trace()"
   ]
  },
  {
   "cell_type": "markdown",
   "metadata": {
    "jp-MarkdownHeadingCollapsed": true,
    "slideshow": {
     "slide_type": "slide"
    }
   },
   "source": [
    "## Linear Algebra\n",
    "\n",
    "### Matrix\n",
    "\n",
    "Check-in: Find the following inverses (hint: use `sympy`)\n",
    "\n",
    "![alt](https://github.com/umbertomig/CSSBootCamp/blob/main/img/findinv.png?raw=true)"
   ]
  },
  {
   "cell_type": "markdown",
   "metadata": {
    "slideshow": {
     "slide_type": "slide"
    }
   },
   "source": [
    "# Great work!"
   ]
  }
 ],
 "metadata": {
  "celltoolbar": "Slideshow",
  "kernelspec": {
   "display_name": "Python 3 (ipykernel)",
   "language": "python",
   "name": "python3"
  },
  "language_info": {
   "codemirror_mode": {
    "name": "ipython",
    "version": 3
   },
   "file_extension": ".py",
   "mimetype": "text/x-python",
   "name": "python",
   "nbconvert_exporter": "python",
   "pygments_lexer": "ipython3",
   "version": "3.9.18"
  }
 },
 "nbformat": 4,
 "nbformat_minor": 4
}
