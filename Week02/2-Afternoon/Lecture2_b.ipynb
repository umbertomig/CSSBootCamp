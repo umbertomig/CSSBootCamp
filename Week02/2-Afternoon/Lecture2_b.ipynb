{
 "cells": [
  {
   "cell_type": "markdown",
   "metadata": {
    "slideshow": {
     "slide_type": "slide"
    }
   },
   "source": [
    "# CSS 201.5 - CSS Bootcamp\n",
    "\n",
    "## Week 02 - Lecture 01 (afternoon)\n",
    "\n",
    "### Umberto Mignozzetti (UCSD)"
   ]
  },
  {
   "cell_type": "markdown",
   "metadata": {
    "slideshow": {
     "slide_type": "slide"
    }
   },
   "source": [
    "# Linear Algebra"
   ]
  },
  {
   "cell_type": "markdown",
   "metadata": {
    "slideshow": {
     "slide_type": "slide"
    }
   },
   "source": [
    "## Linear Algebra\n",
    "\n",
    "We will use two books:\n",
    "\n",
    "A | B\n",
    "- | - \n",
    "![alt](https://github.com/umbertomig/CSSBootCamp/blob/main/img/antonrorres.png?raw=true) | ![alt](https://github.com/umbertomig/CSSBootCamp/blob/main/img/cohen.png?raw=true)\n",
    "\n",
    "- Don't let the thubnail size tricks you: I tried to make them look the same size (:S)\n",
    "\n",
    "- Anton and Rorres's book is awesome, but less applied to our purposes\n",
    "\n",
    "- Cohen's book is also awesome, and very applied to our purposes. Plus, it is free on oreilly.com with our UC account."
   ]
  },
  {
   "cell_type": "markdown",
   "metadata": {
    "slideshow": {
     "slide_type": "slide"
    }
   },
   "source": [
    "## Linear Algebra\n",
    "\n",
    "Some other good stuff:\n",
    "    \n",
    "- Microsoft FDS: https://tinyurl.com/58jcey9w\n",
    "\n",
    "- Martin Osborne Math for Econ: https://tinyurl.com/48p6sb78\n",
    "\n",
    "Let's get started?!"
   ]
  },
  {
   "cell_type": "markdown",
   "metadata": {
    "slideshow": {
     "slide_type": "slide"
    }
   },
   "source": [
    "## Linear Algebra\n",
    "\n",
    "### Systems of Linear Equations\n",
    "\n",
    "What is linear algebra?\n",
    "\n",
    "- Deals with spreadsheets of data\n",
    "\n",
    "- Basically, methods to store sets of numbers:\n",
    "    + Matrices\n",
    "    + Coordinates\n",
    "    + Systems of equations\n",
    "    + Vectors\n",
    "    \n",
    "+ But until recently, people didn't care much about it until Data Science comes along."
   ]
  },
  {
   "cell_type": "markdown",
   "metadata": {
    "slideshow": {
     "slide_type": "slide"
    }
   },
   "source": [
    "## Linear Algebra\n",
    "\n",
    "### Systems of Linear Equations\n",
    "\n",
    "Linear algebra deals primarily with systems of linear equations. But what is a linear equation?\n",
    "\n",
    "**Definition: Linear Equation**: An equation that can be represented as:\n",
    "\n",
    "$$a_1 x_1 + a_2 x_2 + \\cdots + a_n x_n = b$$\n",
    "\n",
    "Where $x_i$ are the **unknowns** and $a_i$ and $b$ are non-zero **constants**.\n",
    "\n",
    "Examples?"
   ]
  },
  {
   "cell_type": "markdown",
   "metadata": {
    "slideshow": {
     "slide_type": "slide"
    }
   },
   "source": [
    "## Linear Algebra\n",
    "\n",
    "### Systems of Linear Equations\n",
    "\n",
    "When $b = 0$, we say the linear equation is *homogeneous*.\n",
    "\n",
    "Example:\n",
    "\n",
    "$$ x_1 - 2x_2 - 3x_3 + x_4 = 0$$"
   ]
  },
  {
   "cell_type": "markdown",
   "metadata": {
    "slideshow": {
     "slide_type": "slide"
    },
    "tags": []
   },
   "source": [
    "## Linear Algebra\n",
    "\n",
    "### Systems of Linear Equations\n",
    "\n",
    "When we consider more than one equation simultaneously, we have a **system of linear equations**.\n",
    "\n",
    "**Definition:** A system of Linear Equations is denoted as:\n",
    "\n",
    "![alt](https://github.com/umbertomig/CSSBootCamp/blob/main/img/gensys.png?raw=true)"
   ]
  },
  {
   "cell_type": "markdown",
   "metadata": {
    "slideshow": {
     "slide_type": "slide"
    },
    "tags": []
   },
   "source": [
    "## Linear Algebra\n",
    "\n",
    "### Systems of Linear Equations\n",
    "\n",
    "Example of a system of linear equations:\n",
    "\n",
    "\\begin{equation*}\n",
    "\\left\\{\n",
    "\\begin{alignedat}{3}\n",
    "% R & L   &  R & L   &  R & L \n",
    " 2x & +{} &  y & +{} & 3z & = 10 \\\\\n",
    "  x & +{} &  y & +{} &  z & = 6 \\\\\n",
    "  x & +{} & 3y & +{} & 2z & = 13\n",
    "\\end{alignedat}\n",
    "\\right.\n",
    "\\end{equation*}"
   ]
  },
  {
   "cell_type": "markdown",
   "metadata": {
    "slideshow": {
     "slide_type": "slide"
    }
   },
   "source": [
    "## Linear Algebra\n",
    "\n",
    "### Systems of Linear Equations\n",
    "\n",
    "- Linear equations describe geometric objects such as lines and planes.\n",
    "    + And all that our spreadsheets are is some twisted lines and planes.\n",
    "\n",
    "- Linear systems: advantage that we can calculate exact solutions to the equations.\n",
    "\n",
    "- Solution the nonlinear system often cannot be calculate explicitly.\n",
    "\n",
    "- Linear systems are among the most frequently studied in social sciences."
   ]
  },
  {
   "cell_type": "markdown",
   "metadata": {
    "slideshow": {
     "slide_type": "slide"
    }
   },
   "source": [
    "## Linear Algebra\n",
    "\n",
    "### Systems of Linear Equations\n",
    "\n",
    "A linear system does not necessarily need to have a solution. For instance, this system:\n",
    "\n",
    "\\begin{equation*}\n",
    "\\left\\{\n",
    "\\begin{alignedat}{3}\n",
    "%  R & L   &  R & L \n",
    "   x & +{} &  y & = 4 \\\\\n",
    "  3x & +{} & 3y & = 6 \n",
    "\\end{alignedat}\n",
    "\\right.\n",
    "\\end{equation*}\n",
    "\n",
    "Has no solution."
   ]
  },
  {
   "cell_type": "markdown",
   "metadata": {
    "slideshow": {
     "slide_type": "slide"
    }
   },
   "source": [
    "## Linear Algebra\n",
    "\n",
    "### Systems of Linear Equations\n",
    "\n",
    "A linear system does not necessarily need to have one solution. For instance, this system:\n",
    "\n",
    "\\begin{equation*}\n",
    "\\left\\{\n",
    "\\begin{alignedat}{3}\n",
    "%  R & L   &  R & L \n",
    "  4x & -{} & 2y & = 1 \\\\\n",
    " 16x & -{} & 8y & = 4\n",
    "\\end{alignedat}\n",
    "\\right.\n",
    "\\end{equation*}\n",
    "\n",
    "Has infinitely many solution."
   ]
  },
  {
   "cell_type": "markdown",
   "metadata": {
    "slideshow": {
     "slide_type": "slide"
    }
   },
   "source": [
    "## Linear Algebra\n",
    "\n",
    "### Systems of Linear Equations\n",
    "\n",
    "**Definition:** A *solution* for a system of linear equations is a sequence of numbers such that:\n",
    "\n",
    "$$ x_1 = s_1, \\ x_2 = s_2, \\ \\cdots, \\ x_n = s_n $$\n",
    "\n",
    "Makes the system a true statement.\n",
    "\n",
    "Example: The system\n",
    "\n",
    "\\begin{equation*}\n",
    "\\left\\{\n",
    "\\begin{alignedat}{3}\n",
    "%  R & L   &  R & L \n",
    "  5x & +{} &  y & = 3 \\\\\n",
    "  2x & -{} &  y & = 4 \n",
    "\\end{alignedat}\n",
    "\\right.\n",
    "\\end{equation*}\n",
    "\n",
    "Has the solution $x = 1$, $y = -2$."
   ]
  },
  {
   "cell_type": "markdown",
   "metadata": {
    "slideshow": {
     "slide_type": "slide"
    }
   },
   "source": [
    "## Linear Algebra\n",
    "\n",
    "### Systems of Linear Equations\n",
    "\n",
    "For a linear system, we are interested in the following three questions:\n",
    "\n",
    "1. Does a solution exist?\n",
    "1. How many solutions are there?\n",
    "1. Is there an efficient algorithm that computes the solutions?\n",
    "\n",
    "There are, essentially, three ways of solving such systems:\n",
    "\n",
    "1. Substitution\n",
    "1. Elimination of variables\n",
    "1. Matrix methods (Gauss-Jordan)"
   ]
  },
  {
   "cell_type": "markdown",
   "metadata": {
    "slideshow": {
     "slide_type": "slide"
    }
   },
   "source": [
    "## Linear Algebra\n",
    "\n",
    "### Systems of Linear Equations\n",
    "\n",
    "Let us calculate the solution using the the *Substitution Method*:\n",
    "\n",
    "\\begin{equation*}\n",
    "\\left\\{\n",
    "\\begin{alignedat}{3}\n",
    "% R & L   &   R & L \n",
    "  x & -{} &  2y & = 8 \\\\\n",
    " 3x & +{} &   y & = 3 \n",
    "\\end{alignedat}\n",
    "\\right.\n",
    "\\end{equation*}"
   ]
  },
  {
   "cell_type": "markdown",
   "metadata": {
    "slideshow": {
     "slide_type": "slide"
    }
   },
   "source": [
    "## Linear Algebra\n",
    "\n",
    "### Systems of Linear Equations\n",
    "\n",
    "Let us now calculate the solution using the the *Elimination of Variables Method*:\n",
    "\n",
    "\\begin{equation*}\n",
    "\\left\\{\n",
    "\\begin{alignedat}{3}\n",
    "% R & L   &   R & L \n",
    "  x & -{} &  2y & = 8 \\\\\n",
    " 3x & +{} &   y & = 3 \n",
    "\\end{alignedat}\n",
    "\\right.\n",
    "\\end{equation*}"
   ]
  },
  {
   "cell_type": "markdown",
   "metadata": {
    "slideshow": {
     "slide_type": "slide"
    }
   },
   "source": [
    "## Linear Algebra\n",
    "\n",
    "### Systems of Linear Equations\n",
    "\n",
    "Check-in:\n",
    "\n",
    "1. Which equations are linear? \n",
    "![alt](https://github.com/umbertomig/CSSBootCamp/blob/main/img/lineq.png?raw=true)\n",
    "\n",
    "2. Solve the following systems using the methods we have seen so far: \n",
    "![alt](https://github.com/umbertomig/CSSBootCamp/blob/main/img/solvesys3.png?raw=true)"
   ]
  },
  {
   "cell_type": "markdown",
   "metadata": {
    "slideshow": {
     "slide_type": "slide"
    }
   },
   "source": [
    "## Linear Algebra\n",
    "\n",
    "### Systems of Linear Equations\n",
    "\n",
    "Another method that is more efficient is the *Gauss-Jordan Elimination.*\n",
    "\n",
    "We have to transform a system into a **matrix** to perform it:\n",
    "\n",
    "**Matrix**: Informal definition: Collection of numbers in a little table.\n",
    "\n",
    "\\begin{equation*}\n",
    "\\left\\{\n",
    "\\begin{alignedat}{3}\n",
    "% R & L   &   R & L \n",
    "  x & +{} &  2y & = 3 \\\\\n",
    " 3x & +{} &  2y & = 4 \n",
    "\\end{alignedat}\n",
    "\\right.\n",
    "\\end{equation*}"
   ]
  },
  {
   "cell_type": "markdown",
   "metadata": {
    "slideshow": {
     "slide_type": "slide"
    }
   },
   "source": [
    "## Linear Algebra\n",
    "\n",
    "### Systems of Linear Equations\n",
    "\n",
    "\\begin{equation*}\n",
    "\\left\\{\n",
    "\\begin{alignedat}{3}\n",
    "% R & L   &   R & L \n",
    "  x & +{} &  2y & = 3 \\\\\n",
    " 3x & +{} &  2y & = 4 \n",
    "\\end{alignedat}\n",
    "\\right.\n",
    "\\end{equation*}\n",
    "\n",
    "Collecting the terms in the system, we have:\n",
    "\n",
    "1. The **coefficient matrix**:\n",
    "\n",
    "\\begin{equation*}\n",
    "    A = \\begin{bmatrix}\n",
    "    1 & 2\\\\\n",
    "    3 & 2 \\end{bmatrix}\n",
    "\\end{equation*}\n",
    "\n",
    "2. And the **augmented matrix**:\n",
    "\n",
    "\\begin{equation*}\n",
    "    A^{*} = \\begin{pmatrix}\n",
    "    1 & 2 & 3 \\\\\n",
    "    3 & 2 & 4\n",
    "    \\end{pmatrix}\n",
    "\\end{equation*}"
   ]
  },
  {
   "cell_type": "markdown",
   "metadata": {
    "slideshow": {
     "slide_type": "slide"
    }
   },
   "source": [
    "## Linear Algebra\n",
    "\n",
    "### Systems of Linear Equations\n",
    "\n",
    "Check-in: Find the augmented matrices for the following systems:\n",
    "\n",
    "1. \n",
    "$$ x_1 + 3x_2 - 2x_3 + 2x_5 = 0 $$\n",
    "$$ 2x_1 + 6x_2 - 5x_3 - 2x_4 + 4x_5 - 3x_6 = -1 $$\n",
    "$$ 5x_3 + 10x_4 + 15x_6 = 5 $$\n",
    "$$ 2x_1 + 6x_2 + 8x_4 + 4x_5 + 18x_6 = 6 $$\n",
    "\n",
    "2. \n",
    "$$x_1 + x_2 + 2x_3 = 8$$\n",
    "$$-x_1 - 2x_2 + 3x_3 = 1$$\n",
    "$$3x_1 - 7x_2 + 4x_3 = 10$$"
   ]
  },
  {
   "cell_type": "markdown",
   "metadata": {
    "slideshow": {
     "slide_type": "slide"
    },
    "tags": []
   },
   "source": [
    "## Linear Algebra\n",
    "\n",
    "### Elementary Row Operations\n",
    "\n",
    "Elementary row operations are critical because, when done in the augmented matrix, they do not change the solution of the system.\n",
    "\n",
    "They are:\n",
    "\n",
    "1. Interchange two rows of a matrix.\n",
    "1. Change a row by adding a multiple of another row.\n",
    "1. Multiply each element in a row by the same number (scalar multiplication).\n",
    "\n",
    "Examples?"
   ]
  },
  {
   "cell_type": "markdown",
   "metadata": {
    "slideshow": {
     "slide_type": "slide"
    }
   },
   "source": [
    "## Linear Algebra\n",
    "\n",
    "### Elementary Row Operations\n",
    "\n",
    "Let us do it with the following matrix:\n",
    "\n",
    "![alt](https://github.com/umbertomig/CSSBootCamp/blob/main/img/mymattochange.png?raw=true)\n",
    "\n",
    "1. Interchange two rows in matrix\n",
    "1. Change a row by adding a multiple of another row.\n",
    "1. Multiply each element in a row by the same number (scalar multiplication)."
   ]
  },
  {
   "cell_type": "markdown",
   "metadata": {
    "slideshow": {
     "slide_type": "slide"
    }
   },
   "source": [
    "## Linear Algebra\n",
    "\n",
    "### Elementary Row Operations\n",
    "\n",
    "**Definition:** *Row Echelon Form*\n",
    "\n",
    "A matrix row is said to have $k$ leading zeros if the first $k$ elements of the row are all zeros and the $(k + 1)th$ element of the row is not zero. A matrix is in row echelon form if each row has more leading zeros than the preceding one.\n",
    "\n",
    "Examples:\n",
    "\n",
    "\\begin{pmatrix}\n",
    "1 & 3 & 4\\\\\n",
    "0 & 1 & 6\n",
    "\\end{pmatrix}\n",
    "\n",
    "\\begin{pmatrix}\n",
    "1 & 3 \\\\\n",
    "0 & 1 \\\\\n",
    "0 & 0\n",
    "\\end{pmatrix}\n",
    "\n",
    "\\begin{pmatrix}\n",
    "1 & 3 \\\\\n",
    "0 & 1 \n",
    "\\end{pmatrix}"
   ]
  },
  {
   "cell_type": "markdown",
   "metadata": {
    "slideshow": {
     "slide_type": "slide"
    },
    "tags": []
   },
   "source": [
    "## Linear Algebra\n",
    "\n",
    "### Elementary Row Operations\n",
    "\n",
    "Why the row echelon form? Because it makes it easier to solve a system. Let see that in practice:\n",
    "\n",
    "![alt](https://github.com/umbertomig/CSSBootCamp/blob/main/img/mymattochange.png?raw=true)"
   ]
  },
  {
   "cell_type": "markdown",
   "metadata": {
    "slideshow": {
     "slide_type": "slide"
    }
   },
   "source": [
    "## Linear Algebra\n",
    "\n",
    "### Elementary Row Operations\n",
    "\n",
    "**Definition:** *Reduced Row Echelon Form*\n",
    "\n",
    "1. If a row does not consist entirely of zeros, then the first nonzero number in the row is a $1$. We call this a leading $1$.\n",
    "1. If there are any rows that consist entirely of zeros, then they are grouped together at the bottom of the matrix.\n",
    "1. In any two successive rows that do not consist entirely of zeros, the leading 1 in the lower row occurs farther to the right than the leading $1$ in the higher row.\n",
    "1. Each column that contains a leading $1$ has zeros everywhere else in that column.\n",
    "\n",
    "As you can see, 1-3 means row echelon form."
   ]
  },
  {
   "cell_type": "markdown",
   "metadata": {
    "slideshow": {
     "slide_type": "slide"
    }
   },
   "source": [
    "## Linear Algebra\n",
    "\n",
    "### Elementary Row Operations\n",
    "\n",
    "Reduced row echelon form examples:\n",
    "\n",
    "![alt](https://github.com/umbertomig/CSSBootCamp/blob/main/img/rechformex.png?raw=true)"
   ]
  },
  {
   "cell_type": "markdown",
   "metadata": {
    "slideshow": {
     "slide_type": "slide"
    }
   },
   "source": [
    "## Linear Algebra\n",
    "\n",
    "### Gauss-Jordan\n",
    "\n",
    "To make a matrix into reduced row echelon form, we use the **Gauss-Jordan elimination method**:\n",
    "\n",
    "1. Locate the leftmost column that does not consist entirely of zeros.\n",
    "1. Interchange the top row with another row, if necessary, to bring a nonzero entry to the top of the column found in Step 1.\n",
    "1. If the entry that is now at the top of the column found in Step 1 is $a$, multiply the first row by $1/a$ in order to introduce a leading $1$.\n",
    "1. Add suitable multiples of the top row to the rows below so that all entries below the leading 1 become zeros.\n",
    "1. Now cover the top row in the matrix and begin again with Step 1 applied to the submatrix that remains. Continue in this way until the entire matrix is in row echelon form.\n",
    "1. Beginning with the last nonzero row and working upward, add suitable multiples of each row to the rows above to introduce zeros above the leading 1's.\n",
    "\n",
    "The last matrix is in reduced row echelon form."
   ]
  },
  {
   "cell_type": "markdown",
   "metadata": {
    "slideshow": {
     "slide_type": "slide"
    }
   },
   "source": [
    "## Linear Algebra\n",
    "\n",
    "### Gauss-Jordan\n",
    "\n",
    "Check-in: Compute the reduced row echelon form.\n",
    "\n",
    "![alt](https://github.com/umbertomig/CSSBootCamp/blob/main/img/rechform.png?raw=true)"
   ]
  },
  {
   "cell_type": "markdown",
   "metadata": {
    "slideshow": {
     "slide_type": "slide"
    }
   },
   "source": [
    "## Linear Algebra\n",
    "\n",
    "### Gauss-Jordan\n",
    "\n",
    "Check-in: Solve the following systems using Gauss-Jordan:\n",
    "\n",
    "$$x_1 + x_2 + 2x_3 = 8$$\n",
    "$$-x_1 - 2x_2 + 3x_3 = 1$$\n",
    "$$3x_1 - 7x_2 + 4x_3 = 10$$\n",
    "\n",
    "and\n",
    "\n",
    "![alt](https://github.com/umbertomig/CSSBootCamp/blob/main/img/solsysinf.png?raw=true)"
   ]
  },
  {
   "cell_type": "markdown",
   "metadata": {
    "slideshow": {
     "slide_type": "slide"
    }
   },
   "source": [
    "## Linear Algebra\n",
    "\n",
    "### Gauss-Jordan\n",
    "\n",
    "Check-in: Prove that if $ad - bc \\neq 0$, then the reduced row echelon form of \n",
    "\n",
    "\\begin{pmatrix}\n",
    "a & b \\\\\n",
    "c & d \n",
    "\\end{pmatrix}\n",
    "\n",
    "is\n",
    "\n",
    "\\begin{pmatrix}\n",
    "1 & 0 \\\\\n",
    "0 & 1 \n",
    "\\end{pmatrix}"
   ]
  },
  {
   "cell_type": "markdown",
   "metadata": {
    "slideshow": {
     "slide_type": "slide"
    }
   },
   "source": [
    "## Linear Algebra\n",
    "\n",
    "### Rank\n",
    "\n",
    "**Definition:** *Rank of a Matrix* The Rank of a matrix is the number of nonzero rows in its row echelon form.\n",
    "\n",
    "Let us check the rank of the following matrices:\n",
    "\n",
    "\\begin{pmatrix}\n",
    "  2 &1\\\\\n",
    "  1& 3\n",
    "\\end{pmatrix}\n",
    "\n",
    "and\n",
    "\n",
    "\\begin{pmatrix}\n",
    "  2 & 2 \\\\\n",
    "  1& 1\n",
    "\\end{pmatrix}"
   ]
  },
  {
   "cell_type": "markdown",
   "metadata": {
    "slideshow": {
     "slide_type": "slide"
    }
   },
   "source": [
    "## Linear Algebra\n",
    "\n",
    "### Gauss-Jordan\n",
    "\n",
    "Check-in: Find the rank of the following matrices\n",
    "\n",
    "![alt](https://github.com/umbertomig/CSSBootCamp/blob/main/img/findrank.png?raw=true)"
   ]
  },
  {
   "cell_type": "markdown",
   "metadata": {
    "slideshow": {
     "slide_type": "slide"
    }
   },
   "source": [
    "## Linear Algebra\n",
    "\n",
    "### Systems of Linear Equations\n",
    "\n",
    "**Theorem**:\n",
    "\n",
    "![alt](https://github.com/umbertomig/CSSBootCamp/blob/main/img/a11.png?raw=true)"
   ]
  },
  {
   "cell_type": "markdown",
   "metadata": {
    "slideshow": {
     "slide_type": "slide"
    }
   },
   "source": [
    "## Linear Algebra\n",
    "\n",
    "### Systems of Linear Equations\n",
    "\n",
    "To visualize this, note that a system of two linear equations is a pair of lines:\n",
    "\n",
    "![alt](https://github.com/umbertomig/CSSBootCamp/blob/main/img/onesolline.png?raw=true)"
   ]
  },
  {
   "cell_type": "markdown",
   "metadata": {
    "slideshow": {
     "slide_type": "slide"
    }
   },
   "source": [
    "## Linear Algebra\n",
    "\n",
    "### Systems of Linear Equations\n",
    "\n",
    "And a system of three linear equations is a comprised of three planes:\n",
    "\n",
    "![alt](https://github.com/umbertomig/CSSBootCamp/blob/main/img/onesolplane.png?raw=true)"
   ]
  },
  {
   "cell_type": "markdown",
   "metadata": {
    "slideshow": {
     "slide_type": "slide"
    }
   },
   "source": [
    "## Linear Algebra\n",
    "\n",
    "### Systems of Linear Equations\n",
    "\n",
    "Check-in: Solve the following exercises\n",
    "\n",
    "1. \n",
    "![alt](https://github.com/umbertomig/CSSBootCamp/blob/main/img/solvesys.png?raw=true)\n",
    "\n",
    "2. \n",
    "![alt](https://github.com/umbertomig/CSSBootCamp/blob/main/img/findksys.png?raw=true)"
   ]
  },
  {
   "cell_type": "markdown",
   "metadata": {
    "slideshow": {
     "slide_type": "slide"
    }
   },
   "source": [
    "## Linear Algebra\n",
    "\n",
    "### Matrix\n",
    "\n",
    "**Definition**: *Matrix*\n",
    "\n",
    "A **matrix** is a rectangular array of numbers. The numbers in the array are called the **entries** in the matrix.\n",
    "\n",
    "Examples:\n",
    "\n",
    "![alt](https://github.com/umbertomig/CSSBootCamp/blob/main/img/exmat.png?raw=true)"
   ]
  },
  {
   "cell_type": "markdown",
   "metadata": {
    "slideshow": {
     "slide_type": "slide"
    }
   },
   "source": [
    "## Linear Algebra\n",
    "\n",
    "### Matrix\n",
    "\n",
    "1. General Notation:\n",
    "\n",
    "![alt](https://github.com/umbertomig/CSSBootCamp/blob/main/img/genmat.png?raw=true)\n",
    "\n",
    "2. Element-wise notation: denotes a given element in the matrix:\n",
    "\n",
    "$$(A)_{ij} = a_{ij}$$\n",
    "\n",
    "3. Compact matrix form: \n",
    "\n",
    "$$[a_{ij}]_{m\\times n}$$"
   ]
  },
  {
   "cell_type": "markdown",
   "metadata": {
    "slideshow": {
     "slide_type": "slide"
    }
   },
   "source": [
    "## Linear Algebra\n",
    "\n",
    "### Matrix\n",
    "\n",
    "**Definitions**: \n",
    "\n",
    "1. A matrix with only one column is called **column matrix**\n",
    "2. A matrix with only one row is called a **row matrix**\n",
    "\n",
    "Examples:\n",
    "\n",
    "![alt](https://github.com/umbertomig/CSSBootCamp/blob/main/img/rowcol.png?raw=true)"
   ]
  },
  {
   "cell_type": "markdown",
   "metadata": {
    "slideshow": {
     "slide_type": "slide"
    }
   },
   "source": [
    "## Linear Algebra\n",
    "\n",
    "### Matrix\n",
    "\n",
    "**Definitions**: \n",
    "\n",
    "3. A matrix with same number of rows and columns is called a **square matrix**\n",
    "4. Two matrices are the equal if all their entries are the same.\n",
    "5. The entries $a_{ii}$ on a matrix are said to be the **main diagonal** of the matrix.\n",
    "\n",
    "Examples:\n",
    "\n",
    "![alt](https://github.com/umbertomig/CSSBootCamp/blob/main/img/sqmat.png?raw=true)\n",
    "\n",
    "![alt](https://github.com/umbertomig/CSSBootCamp/blob/main/img/diagmat.png?raw=true)"
   ]
  },
  {
   "cell_type": "markdown",
   "metadata": {
    "slideshow": {
     "slide_type": "slide"
    }
   },
   "source": [
    "## Linear Algebra\n",
    "\n",
    "### Matrix\n",
    "\n",
    "**Definition**: *Matrix addition and subtraction*\n",
    "\n",
    "Addition and subtraction of matrices are done by entries. It is only possible when entries have the same size.\n",
    "\n",
    "$$(A + B)_{ij} = a_{ij} + b_{ij}, \\quad (A - B)_{ij} = a_{ij} - b_{ij}$$\n",
    "\n",
    "Example:\n",
    "\n",
    "![alt](https://github.com/umbertomig/CSSBootCamp/blob/main/img/sumex.png?raw=true)"
   ]
  },
  {
   "cell_type": "markdown",
   "metadata": {
    "slideshow": {
     "slide_type": "slide"
    }
   },
   "source": [
    "## Linear Algebra\n",
    "\n",
    "### Matrix\n",
    "\n",
    "**Definition**: *Scalar* Numerical quantities. Usually real numbers. Just the number itself.\n",
    "\n",
    "**Definition**: *Scalar multiplication*\n",
    "\n",
    "If $A$ is any matrix and $c$ is any scalar, then the product $cA$ is the matrix obtained by multiplying each entry of the matrix $A$ by $c$. The matrix $cA$ is said to be a **scalar multiple** of A.\n",
    "\n",
    "$$(cA)_{ij} = c(A)_{ij} = ca_{ij}$$\n",
    "\n",
    "Example:\n",
    "\n",
    "![alt](https://github.com/umbertomig/CSSBootCamp/blob/main/img/scalarprod.png?raw=true)"
   ]
  },
  {
   "cell_type": "markdown",
   "metadata": {
    "slideshow": {
     "slide_type": "slide"
    }
   },
   "source": [
    "## Linear Algebra\n",
    "\n",
    "### Matrix\n",
    "\n",
    "**Definition**: *Matrix Multiplication*\n",
    "\n",
    "If $A$ is an $m\\times r$ matrix and $B$ is an $r\\times n$ matrix, then the product $AB$ is the $m \\times n$ matrix whose entries are determined as follows:\n",
    "\n",
    "- To find the entry in row $i$ and column $j$ of $AB$, single out row $i$ from the matrix $A$ and column $j$ from the matrix $B$. \n",
    "\n",
    "- Multiply the corresponding entries from the row and column together, and then add up the resulting products.\n",
    "\n",
    "$$(AB)_{ij} = a_{i1}b_{1j}+a_{i2}b_{2j}+\\cdots+a_{ir}b_{rj}$$"
   ]
  },
  {
   "cell_type": "markdown",
   "metadata": {
    "slideshow": {
     "slide_type": "slide"
    }
   },
   "source": [
    "## Linear Algebra\n",
    "\n",
    "### Matrix\n",
    "\n",
    "Example 1:\n",
    "\n",
    "![alt](https://github.com/umbertomig/CSSBootCamp/blob/main/img/matmult1.png?raw=true)\n",
    "\n",
    "Example 2:\n",
    "\n",
    "![alt](https://github.com/umbertomig/CSSBootCamp/blob/main/img/matmult2.png?raw=true)\n",
    "\n",
    "Note: Sometimes, the product taken in the inverse form is not defined."
   ]
  },
  {
   "cell_type": "markdown",
   "metadata": {
    "slideshow": {
     "slide_type": "slide"
    }
   },
   "source": [
    "## Linear Algebra\n",
    "\n",
    "### Matrix\n",
    "\n",
    "**Definition**: *Partitioned Matrices*\n",
    "\n",
    "We can partition matrices by inserting horizontal or vertical rules on them.\n",
    "\n",
    "Example:\n",
    "\n",
    "![alt](https://github.com/umbertomig/CSSBootCamp/blob/main/img/matpart.png?raw=true)"
   ]
  },
  {
   "cell_type": "markdown",
   "metadata": {
    "slideshow": {
     "slide_type": "slide"
    }
   },
   "source": [
    "## Linear Algebra\n",
    "\n",
    "### Matrix\n",
    "\n",
    "Partitions can simplify the representations of operations:\n",
    "\n",
    "![alt](https://github.com/umbertomig/CSSBootCamp/blob/main/img/matpartsimpl.png?raw=true)"
   ]
  },
  {
   "cell_type": "markdown",
   "metadata": {
    "jp-MarkdownHeadingCollapsed": true,
    "slideshow": {
     "slide_type": "slide"
    },
    "tags": []
   },
   "source": [
    "## Linear Algebra\n",
    "\n",
    "### Matrix\n",
    "\n",
    "**Definition**: *Linear Combination*\n",
    "\n",
    "If $A_1$,$A_2$, $\\cdots$, $A_r$ are matrices of the same size, and if $c_1$, $c_2$, $\\cdots$, $c_r$ are scalars, then an expression of the form\n",
    "\n",
    "$$c_1A_1 +c_2A_2 + \\cdots +c_rA_r$$\n",
    "\n",
    "is called a **linear combination** of $A_1$, $A_2$, $\\cdots$, $A_r$ with coefficients $c_1$, $c_2$, $\\cdots$, $c_r$.\n",
    "\n",
    "Example:\n",
    "\n",
    "![alt](https://github.com/umbertomig/CSSBootCamp/blob/main/img/lincomb1.png?raw=true)"
   ]
  },
  {
   "cell_type": "markdown",
   "metadata": {
    "jp-MarkdownHeadingCollapsed": true,
    "slideshow": {
     "slide_type": "slide"
    },
    "tags": []
   },
   "source": [
    "## Linear Algebra\n",
    "\n",
    "### Matrix\n",
    "\n",
    "Matrix products are linear combinations:\n",
    "\n",
    "![alt](https://github.com/umbertomig/CSSBootCamp/blob/main/img/matpartsimpl.png?raw=true)"
   ]
  },
  {
   "cell_type": "markdown",
   "metadata": {
    "jp-MarkdownHeadingCollapsed": true,
    "slideshow": {
     "slide_type": "slide"
    },
    "tags": []
   },
   "source": [
    "## Linear Algebra\n",
    "\n",
    "### Matrix\n",
    "\n",
    "Linear Systems are linear combinations and matrix products:\n",
    "\n",
    "![alt](https://github.com/umbertomig/CSSBootCamp/blob/main/img/linsys001.png?raw=true)\n",
    "\n",
    "![alt](https://github.com/umbertomig/CSSBootCamp/blob/main/img/linsys002.png?raw=true)\n",
    "\n",
    "Or, $Ax = b$"
   ]
  },
  {
   "cell_type": "markdown",
   "metadata": {
    "slideshow": {
     "slide_type": "slide"
    },
    "tags": []
   },
   "source": [
    "## Linear Algebra\n",
    "\n",
    "### Matrix\n",
    "\n",
    "**Definition**: *Transpose*\n",
    "\n",
    "If $A$ is any $m \\times n$ matrix, then the **transpose of $A$**, denoted by $A^T$ , is defined to be the $n\\times m$ matrix that results by interchanging the rows and columns of $A$; that is, the first column of $A^T$ is the first row of $A$, the second column of $A^T$ is the second row of A, and so forth.\n",
    "\n",
    "$$(A^T)_{ij} = (A)_{ji}$$\n",
    "\n",
    "Examples:\n",
    "\n",
    "![alt](https://github.com/umbertomig/CSSBootCamp/blob/main/img/extrans.png?raw=true)"
   ]
  },
  {
   "cell_type": "markdown",
   "metadata": {
    "slideshow": {
     "slide_type": "slide"
    }
   },
   "source": [
    "## Linear Algebra\n",
    "\n",
    "### Matrix\n",
    "\n",
    "**Definition**: *Trace*\n",
    "\n",
    "If $A$ is a square matrix, then the **trace of A**, denoted by $tr(A)$, is defined to be the sum of the entries on the main diagonal of $A$. The trace of $A$ is undefined if $A$ is not a square matrix.\n",
    "\n",
    "$$(A^T)_{ij} = (A)_{ji}$$\n",
    "\n",
    "Examples:\n",
    "\n",
    "![alt](https://github.com/umbertomig/CSSBootCamp/blob/main/img/trmat.png?raw=true)"
   ]
  },
  {
   "cell_type": "markdown",
   "metadata": {
    "slideshow": {
     "slide_type": "slide"
    }
   },
   "source": [
    "## Linear Algebra\n",
    "\n",
    "### Matrix\n",
    "\n",
    "Laws of Matrix Algebra:\n",
    "\n",
    "![img](https://github.com/umbertomig/CSSBootCamp/blob/main/img/algmatrices.png?raw=true)"
   ]
  },
  {
   "cell_type": "markdown",
   "metadata": {
    "slideshow": {
     "slide_type": "slide"
    }
   },
   "source": [
    "## Linear Algebra\n",
    "\n",
    "### Matrix\n",
    "\n",
    "Transpose:\n",
    "\n",
    "![img](https://github.com/umbertomig/CSSBootCamp/blob/main/img/transpalgebra.png?raw=true)"
   ]
  },
  {
   "cell_type": "markdown",
   "metadata": {
    "slideshow": {
     "slide_type": "slide"
    }
   },
   "source": [
    "## Linear Algebra\n",
    "\n",
    "### Matrix\n",
    "\n",
    "Special Matrices\n",
    "\n",
    "![alt](https://github.com/umbertomig/CSSBootCamp/blob/main/img/m1.png?raw=true)"
   ]
  },
  {
   "cell_type": "markdown",
   "metadata": {
    "slideshow": {
     "slide_type": "slide"
    }
   },
   "source": [
    "## Linear Algebra\n",
    "\n",
    "### Matrix\n",
    "\n",
    "Special Matrices\n",
    "\n",
    "![alt](https://github.com/umbertomig/CSSBootCamp/blob/main/img/m2.png?raw=true)"
   ]
  },
  {
   "cell_type": "markdown",
   "metadata": {
    "slideshow": {
     "slide_type": "slide"
    }
   },
   "source": [
    "## Linear Algebra\n",
    "\n",
    "### Matrix\n",
    "\n",
    "Special Matrices\n",
    "\n",
    "![alt](https://github.com/umbertomig/CSSBootCamp/blob/main/img/m4.png?raw=true)"
   ]
  },
  {
   "cell_type": "markdown",
   "metadata": {
    "slideshow": {
     "slide_type": "slide"
    }
   },
   "source": [
    "## Linear Algebra\n",
    "\n",
    "### Matrix\n",
    "\n",
    "**Definition**: *Identity Matrix*\n",
    "\n",
    "A square matrix with $1$'s on the main diagonal and zeros elsewhere is called an **identity matrix**.\n",
    "\n",
    "They play the same role as the number $1$ in arithmetics.\n",
    "\n",
    "$$AI_n = A, \\ and \\ I_mA = A$$\n",
    "\n",
    "Examples:\n",
    "\n",
    "![alt](https://github.com/umbertomig/CSSBootCamp/blob/main/img/identmat.png?raw=true)"
   ]
  },
  {
   "cell_type": "markdown",
   "metadata": {
    "slideshow": {
     "slide_type": "slide"
    }
   },
   "source": [
    "## Linear Algebra\n",
    "\n",
    "### Matrix\n",
    "\n",
    "**Definition**: *Inverse Matrix*\n",
    "\n",
    "Let $A$ a matrix $n\\times n$. The matrix $B$ of $n\\times n$ is an called the \\textbf{inverse} for $A$ if $AB=BA=I$ (where $I$ is the Identity Matrix).\n",
    "\n",
    "![alt](https://github.com/umbertomig/CSSBootCamp/blob/main/img/invmat.png?raw=true)\n",
    "\n",
    "![alt](https://github.com/umbertomig/CSSBootCamp/blob/main/img/invprodtheorem.png?raw=true)"
   ]
  },
  {
   "cell_type": "markdown",
   "metadata": {
    "slideshow": {
     "slide_type": "slide"
    }
   },
   "source": [
    "## Linear Algebra\n",
    "\n",
    "### Matrix\n",
    "\n",
    "Check-in: Find the following inverses\n",
    "\n",
    "![alt](https://github.com/umbertomig/CSSBootCamp/blob/main/img/findinv.png?raw=true)"
   ]
  },
  {
   "cell_type": "markdown",
   "metadata": {
    "slideshow": {
     "slide_type": "slide"
    }
   },
   "source": [
    "# Great work!"
   ]
  }
 ],
 "metadata": {
  "celltoolbar": "Slideshow",
  "kernelspec": {
   "display_name": "Python 3 (ipykernel)",
   "language": "python",
   "name": "python3"
  },
  "language_info": {
   "codemirror_mode": {
    "name": "ipython",
    "version": 3
   },
   "file_extension": ".py",
   "mimetype": "text/x-python",
   "name": "python",
   "nbconvert_exporter": "python",
   "pygments_lexer": "ipython3",
   "version": "3.9.18"
  }
 },
 "nbformat": 4,
 "nbformat_minor": 4
}
