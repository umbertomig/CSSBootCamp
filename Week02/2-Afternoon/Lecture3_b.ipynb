{
 "cells": [
  {
   "cell_type": "markdown",
   "metadata": {
    "slideshow": {
     "slide_type": "slide"
    }
   },
   "source": [
    "# CSS 201 / 202 - CSS Bootcamp\n",
    "\n",
    "## Week 02 - Lecture 03 (afternoon)\n",
    "\n",
    "### Umberto Mignozzetti"
   ]
  },
  {
   "cell_type": "markdown",
   "metadata": {
    "slideshow": {
     "slide_type": "slide"
    }
   },
   "source": [
    "# Linear Algebra\n",
    "\n",
    "## Vectors\n",
    "\n",
    "- Vectors: Ordered list of numbers.\n",
    "    + Dimension: $\\mathbb{R}^2$, $\\mathbb{R}^k$, $\\mathbb{C}^5$, etc\n",
    "    + Orientation: Usually does not matter for data analytics (it will matter in ways that you don't need to care about)\n",
    "\n",
    "<div>\n",
    "<img src=\"https://github.com/umbertomig/CSSBootCamp/blob/main/img/vec1.png?raw=true\" width=\"500\"/>\n",
    "</div>"
   ]
  },
  {
   "cell_type": "markdown",
   "metadata": {
    "slideshow": {
     "slide_type": "slide"
    }
   },
   "source": [
    "## Vectors\n",
    "\n",
    "Examples on how to create vectors:"
   ]
  },
  {
   "cell_type": "code",
   "execution_count": 44,
   "metadata": {
    "slideshow": {
     "slide_type": "fragment"
    }
   },
   "outputs": [],
   "source": [
    "# Importing libraries\n",
    "import numpy as np\n",
    "import scipy\n",
    "import matplotlib.pyplot as plt\n",
    "\n",
    "# Vectors\n",
    "asList  = [1,2,3]\n",
    "asArray = np.array([1,2,3]) # 1D array\n",
    "rowVec  = np.array([ [1,2,3] ]) # row\n",
    "colVec  = np.array([ [1],[2],[3] ]) # column"
   ]
  },
  {
   "cell_type": "markdown",
   "metadata": {
    "slideshow": {
     "slide_type": "slide"
    }
   },
   "source": [
    "## Vectors\n",
    "\n",
    "Dimensionality in `numpy`:"
   ]
  },
  {
   "cell_type": "code",
   "execution_count": null,
   "metadata": {
    "slideshow": {
     "slide_type": "fragment"
    }
   },
   "outputs": [],
   "source": [
    "print(f'asList:  {np.shape(asList)}')\n",
    "print(f'asArray: {asArray.shape}')\n",
    "print(f'rowVec:  {rowVec.shape}')\n",
    "print(f'colVec:  {colVec.shape}')"
   ]
  },
  {
   "cell_type": "markdown",
   "metadata": {
    "slideshow": {
     "slide_type": "slide"
    }
   },
   "source": [
    "## Vectors\n",
    "\n",
    "Geometry:\n",
    "\n",
    "- A vector has magnitude and orientation.\n",
    "    + Always start at the origin of the space\n",
    "    + Orientation relative to the x-axis.\n",
    "    \n",
    "Example:\n",
    "\n",
    "<div>\n",
    "<img src=\"https://github.com/umbertomig/CSSBootCamp/blob/main/img/vec2.png?raw=true\" width=\"500\"/>\n",
    "</div>"
   ]
  },
  {
   "cell_type": "markdown",
   "metadata": {
    "slideshow": {
     "slide_type": "slide"
    }
   },
   "source": [
    "## Vectors\n",
    "\n",
    "Operations: `sum` and `subtraction`\n",
    "\n",
    "<div>\n",
    "<img src=\"https://github.com/umbertomig/CSSBootCamp/blob/main/img/vec3.png?raw=true\" width=\"500\"/>\n",
    "</div>"
   ]
  },
  {
   "cell_type": "code",
   "execution_count": null,
   "metadata": {
    "slideshow": {
     "slide_type": "fragment"
    }
   },
   "outputs": [],
   "source": [
    "# Vectors\n",
    "v = np.array([4, 5, 6])\n",
    "w = np.array([10, 20, 30])\n",
    "u = np.array([0, 3, 6, 9])\n",
    "\n",
    "# Sum\n",
    "print(v + w) # Note that u + w is undefined\n",
    "\n",
    "# Subtraction\n",
    "print(v - w) # Note that w - u is undefined"
   ]
  },
  {
   "cell_type": "markdown",
   "metadata": {
    "slideshow": {
     "slide_type": "slide"
    }
   },
   "source": [
    "## Vectors\n",
    "\n",
    "Operations: `scalar multiplication`\n",
    "\n",
    "<div>\n",
    "<img src=\"https://github.com/umbertomig/CSSBootCamp/blob/main/img/vec4.png?raw=true\" width=\"500\"/>\n",
    "</div>"
   ]
  },
  {
   "cell_type": "code",
   "execution_count": null,
   "metadata": {
    "slideshow": {
     "slide_type": "fragment"
    }
   },
   "outputs": [],
   "source": [
    "alpha = 3\n",
    "v = np.array([4, 5, 6])\n",
    "\n",
    "# Scalar multiplication:\n",
    "v * alpha"
   ]
  },
  {
   "cell_type": "markdown",
   "metadata": {
    "slideshow": {
     "slide_type": "slide"
    }
   },
   "source": [
    "## Vectors\n",
    "\n",
    "Vector `magnitude`:\n",
    "\n",
    "- **Definition:** The **norm of a vector** (or its magnitude) is defined as:\n",
    "\n",
    "$$||\\mathbf{v}|| = \\sqrt{\\sum_iv_i^2}$$\n",
    "\n",
    "+ Note that this is different than the **dimension** of a vector."
   ]
  },
  {
   "cell_type": "code",
   "execution_count": null,
   "metadata": {
    "slideshow": {
     "slide_type": "fragment"
    }
   },
   "outputs": [],
   "source": [
    "v = np.array([1,2,3,7,8,9])\n",
    "\n",
    "print(len(v)) # Dimensionality\n",
    "\n",
    "print(np.linalg.norm(v)) # Norm or magnitude"
   ]
  },
  {
   "cell_type": "markdown",
   "metadata": {
    "slideshow": {
     "slide_type": "slide"
    }
   },
   "source": [
    "## Vectors\n",
    "\n",
    "- **Definition:** The **unit vector** is defined as $\\mathbf{v}$ such that:\n",
    "\n",
    "$$||\\mathbf{v}|| = 1$$\n",
    "\n",
    "- Creating a unit vector:\n",
    "\n",
    "$$||\\widehat{\\mathbf{v}}|| = \\dfrac{1}{||\\mathbf{v}||}\\mathbf{v}$$\n",
    "\n",
    "<div>\n",
    "<img src=\"https://github.com/umbertomig/CSSBootCamp/blob/main/img/vec6.png?raw=true\" width=\"500\"/>\n",
    "</div>"
   ]
  },
  {
   "cell_type": "code",
   "execution_count": 7,
   "metadata": {
    "slideshow": {
     "slide_type": "fragment"
    }
   },
   "outputs": [
    {
     "name": "stdout",
     "output_type": "stream",
     "text": [
      "[0.26726124 0.53452248 0.80178373]\n",
      "\n",
      "1.0\n"
     ]
    }
   ],
   "source": [
    "v = np.array([1,2,3])\n",
    "\n",
    "print((1/np.linalg.norm(v)) * v, end = '\\n\\n')\n",
    "\n",
    "print(np.linalg.norm((1/np.linalg.norm(v)) * v))"
   ]
  },
  {
   "cell_type": "markdown",
   "metadata": {
    "slideshow": {
     "slide_type": "slide"
    }
   },
   "source": [
    "## Vectors\n",
    "\n",
    "**Definition:** The **dot-product** (inner-product) of a vector is defined as:\n",
    "\n",
    "$$ \\mathbf{v}^T\\mathbf{w} \\ = \\ \\mathbf{v} \\cdot \\mathbf{w} \\ = \\ <\\mathbf{v}, \\mathbf{w}> \\ = \\ \\sum_i a_i b_i$$\n",
    "\n",
    "The dot-product is a foundational operation, used in pretty much all data analysis applications of linear algebra."
   ]
  },
  {
   "cell_type": "code",
   "execution_count": 34,
   "metadata": {
    "slideshow": {
     "slide_type": "fragment"
    }
   },
   "outputs": [
    {
     "name": "stdout",
     "output_type": "stream",
     "text": [
      "12\n"
     ]
    },
    {
     "data": {
      "text/plain": [
       "array([1, 2, 3])"
      ]
     },
     "execution_count": 34,
     "metadata": {},
     "output_type": "execute_result"
    }
   ],
   "source": [
    "v = np.array([1, 2, 3])\n",
    "w = np.array([5, 2, 1])\n",
    "\n",
    "print(np.dot(v, w))"
   ]
  },
  {
   "cell_type": "markdown",
   "metadata": {
    "slideshow": {
     "slide_type": "slide"
    }
   },
   "source": [
    "## Vectors\n",
    "\n",
    "1. The **dot-product** is distributive:\n",
    "\n",
    "$$\\mathbf{v}^T(\\mathbf{w} + \\mathbf{z}) = \\mathbf{v}^T\\mathbf{w} + \\mathbf{v}^T\\mathbf{z}$$\n",
    "\n",
    "2. Geometry of the dot-product:\n",
    "\n",
    "$$\\mathbf{v}^T\\mathbf{w} = cos(\\theta_{v, w}) \\ ||\\mathbf{v}|| \\ ||\\widehat{\\mathbf{w}}||$$\n",
    "\n",
    "<div>\n",
    "<img src=\"https://github.com/umbertomig/CSSBootCamp/blob/main/img/vec7.png?raw=true\" width=\"500\"/>\n",
    "</div>"
   ]
  },
  {
   "cell_type": "markdown",
   "metadata": {
    "slideshow": {
     "slide_type": "slide"
    }
   },
   "source": [
    "## Vectors\n",
    "\n",
    "**Orthogonal Decomposition**: Suppose we have two vectors $\\mathbf{a}$ and $\\mathbf{b}$ as in the image. \n",
    "\n",
    "<div>\n",
    "<img src=\"https://github.com/umbertomig/CSSBootCamp/blob/main/img/vec8.png?raw=true\" width=\"500\"/>\n",
    "</div>\n",
    "\n",
    "We may want to find a *projection* of $\\mathbf{b}$ in $\\mathbf{a}$ such that the distance between the projection and the point is minimized.\n",
    "\n",
    "Let us solve this problem?"
   ]
  },
  {
   "cell_type": "markdown",
   "metadata": {
    "slideshow": {
     "slide_type": "slide"
    }
   },
   "source": [
    "## Vectors\n",
    "\n",
    "We can use the solution above to find the **parallel component** of a vector:\n",
    "\n",
    "<div>\n",
    "<img src=\"https://github.com/umbertomig/CSSBootCamp/blob/main/img/vec9.png?raw=true\" width=\"500\"/>\n",
    "</div>\n",
    "\n",
    "$$\\mathbf{t}_{||\\mathbf{r}} = \\mathbf{r} \\dfrac{\\mathbf{t}^T\\mathbf{r}}{\\mathbf{r}^T\\mathbf{r}}$$\n",
    "\n",
    "And we can further decompose:\n",
    "\n",
    "$$\\mathbf{t} = \\mathbf{t}_{\\perp \\mathbf{r}} + \\mathbf{t}_{||\\mathbf{r}}$$\n",
    "\n",
    "$$\\mathbf{t}_{\\perp \\mathbf{r}} = \\mathbf{t} -  \\mathbf{t}_{||\\mathbf{r}}$$"
   ]
  },
  {
   "cell_type": "markdown",
   "metadata": {
    "slideshow": {
     "slide_type": "slide"
    }
   },
   "source": [
    "## Vectors\n",
    "\n",
    "- We are now going to work with sets of vectors:\n",
    "\n",
    "<div>\n",
    "<img src=\"https://github.com/umbertomig/CSSBootCamp/blob/main/img/vec10.png?raw=true\" width=\"500\"/>\n",
    "</div>\n",
    "\n",
    "- **Linear Combination**: Same as with matrices: We use vectors times weights to create new vectors."
   ]
  },
  {
   "cell_type": "code",
   "execution_count": 9,
   "metadata": {
    "slideshow": {
     "slide_type": "fragment"
    }
   },
   "outputs": [
    {
     "name": "stdout",
     "output_type": "stream",
     "text": [
      "[ -7  -4 -13]\n"
     ]
    }
   ],
   "source": [
    "l1, l2, l3 = 1, 2, -3\n",
    "\n",
    "v1, v2, v3 = np.array([4, 5, 1]), np.array([-4, 0, -4]), np.array([1, 3, 2])\n",
    "\n",
    "print(l1*v1 + l2*v2 + l3*v3)"
   ]
  },
  {
   "cell_type": "markdown",
   "metadata": {
    "slideshow": {
     "slide_type": "slide"
    }
   },
   "source": [
    "## Vectors\n",
    "\n",
    "- **Definition**: A vector in a set is **linearly dependent** if we can write it as a combination of other vectors in the set.\n",
    "\n",
    "Example:\n",
    "\n",
    "$$\n",
    "V = \\left\\{\n",
    "\\begin{pmatrix} 1\\\\ 0\\\\ 1 \\end{pmatrix},\n",
    "\\begin{pmatrix} 0\\\\ 1\\\\  1 \\end{pmatrix},\n",
    "\\begin{pmatrix} 1\\\\ -2\\\\  -1 \\end{pmatrix}\n",
    "\\right\\}\n",
    "$$"
   ]
  },
  {
   "cell_type": "markdown",
   "metadata": {
    "slideshow": {
     "slide_type": "slide"
    }
   },
   "source": [
    "## Vectors\n",
    "\n",
    "- **Definition**: A set is **linearly independent** if no vector in the set can be expressed as a linear weighted combination of other vectors in the set.\n",
    "\n",
    "Is this set $LI$ or $LD$?\n",
    "\n",
    "$$\n",
    "W = \\left\\{\n",
    "\\begin{pmatrix} 8  \\\\ -4 \\\\ 14 \\\\ 6 \\end{pmatrix},\n",
    "\\begin{pmatrix} 4  \\\\  6 \\\\  0 \\\\ 3 \\end{pmatrix},\n",
    "\\begin{pmatrix} 14 \\\\  2 \\\\  4 \\\\ 7 \\end{pmatrix},\n",
    "\\begin{pmatrix} 13 \\\\  2 \\\\  9 \\\\ 8 \\end{pmatrix}\n",
    "\\right\\}\n",
    "$$\n",
    "\n",
    "What?? How??"
   ]
  },
  {
   "cell_type": "markdown",
   "metadata": {
    "slideshow": {
     "slide_type": "slide"
    }
   },
   "source": [
    "## Vectors\n",
    "\n",
    "**Definition** (revisited): A set $V$ is **linearly dependent** if $\\exists \\lambda \\in \\mathbb{R}^n_*$ such that:\n",
    "\n",
    "$$\\mathbf{0} = \\lambda_1\\mathbf{v}_1 + \\lambda_2\\mathbf{v}_2 + \\cdots + \\lambda_n\\mathbf{v}_n$$\n",
    "\n",
    "**Definition** (revisited): A set $V$ is ***linearly independent*** if the only $\\lambda \\in \\mathbb{R}^n$ that satisfies this equality is $\\lambda = \\mathbf{0}$."
   ]
  },
  {
   "cell_type": "markdown",
   "metadata": {
    "slideshow": {
     "slide_type": "slide"
    }
   },
   "source": [
    "## Vectors\n",
    "\n",
    "These definitions are important, because we can then expand those to look at *subspace* and *span*.\n",
    "\n",
    "**Definition:** Let a vector set $V$. The subspace is defined as all the vectors that can be created by combining the vectors in $V$.\n",
    "\n",
    "Example:\n",
    "\n",
    "<div>\n",
    "<img src=\"https://github.com/umbertomig/CSSBootCamp/blob/main/img/vec11.png?raw=true\" width=\"300\"/>\n",
    "</div>\n",
    "\n",
    "<div>\n",
    "<img src=\"https://github.com/umbertomig/CSSBootCamp/blob/main/img/vec12.png?raw=true\" width=\"300\"/>\n",
    "</div>"
   ]
  },
  {
   "cell_type": "markdown",
   "metadata": {
    "slideshow": {
     "slide_type": "slide"
    }
   },
   "source": [
    "## Vectors\n",
    "\n",
    "These definitions are important, because we can then expand those to look at *subspace* and *span*.\n",
    "\n",
    "**Definition:** Let a vector set $V$. The subspace is defined as all the vectors that can be created by combining the vectors in $V$.\n",
    "\n",
    "Example:\n",
    "\n",
    "<div>\n",
    "<img src=\"https://github.com/umbertomig/CSSBootCamp/blob/main/img/vec13.png?raw=true\" width=\"500\"/>\n",
    "</div>\n",
    "\n",
    "<div>\n",
    "<img src=\"https://github.com/umbertomig/CSSBootCamp/blob/main/img/vec14.png?raw=true\" width=\"500\"/>\n",
    "</div>"
   ]
  },
  {
   "cell_type": "markdown",
   "metadata": {
    "slideshow": {
     "slide_type": "slide"
    }
   },
   "source": [
    "## Vectors\n",
    "\n",
    "**Definition:** A basis is a representation in the space.\n",
    "\n",
    "Cohen's example:\n",
    "\n",
    ">\n",
    ">How far apart are Amsterdam and Tenerife? Approximately 2,000. What does “2,000” mean? That number makes sense only if we attach a basis unit. A basis is like a ruler for measuring a space.\n",
    ">\n",
    "> In this example, the unit is mile. So our basis measurement for Dutch-Spanish distance is 1 mile. We could, of course, use different measurement units, like nanometers or light-years, but I think we can agree that mile is a convenient basis for distance at that scale. What about the length that your fingernail grows in one day -- should we still use miles? Technically we can, but I think we can agree that millimeter is a more convenient basis unit.\n",
    "> \n",
    "\n",
    "And representation is everything when solving a problem."
   ]
  },
  {
   "cell_type": "markdown",
   "metadata": {
    "slideshow": {
     "slide_type": "slide"
    }
   },
   "source": [
    "## Vectors\n",
    "\n",
    "**Definition:** A basis is a representation in the space.\n",
    "\n",
    "Example: Canonical Basis:\n",
    "\n",
    "$$\n",
    "S_2 = \\left\\{\n",
    "\\begin{pmatrix} 1 \\\\ 0 \\end{pmatrix},\n",
    "\\begin{pmatrix} 0 \\\\ 1 \\end{pmatrix}\n",
    "\\right\\} \\quad S_3 = \\left\\{\n",
    "\\begin{pmatrix} 1 \\\\ 0 \\\\ 0 \\end{pmatrix},\n",
    "\\begin{pmatrix} 0 \\\\ 1 \\\\ 0 \\end{pmatrix},\n",
    "\\begin{pmatrix} 0 \\\\ 0 \\\\ 1 \\end{pmatrix}\n",
    "\\right\\}\n",
    "$$\n",
    "\n",
    "(Not-Canonical but a) Basis:\n",
    "\n",
    "$$\n",
    "V = \\left\\{\n",
    "\\begin{pmatrix} 3 \\\\ 1 \\end{pmatrix},\n",
    "\\begin{pmatrix} -3 \\\\ 1 \\end{pmatrix}\n",
    "\\right\\}\n",
    "$$"
   ]
  },
  {
   "cell_type": "markdown",
   "metadata": {
    "slideshow": {
     "slide_type": "slide"
    }
   },
   "source": [
    "## Vectors\n",
    "\n",
    "**Applications:**\n",
    "\n",
    "1. **Correlation:** Pearson product-moment correlation is just an application of the dot-product. To see this, rewrite the equation leaving the cosine in the left-hand side. Note: we use `centered vectors` in stats.\n",
    "\n",
    "$$\\mathbf{v}^T\\mathbf{w} = cos(\\theta_{v, w}) \\ ||\\mathbf{v}|| \\ ||\\widehat{\\mathbf{w}}||$$"
   ]
  },
  {
   "cell_type": "markdown",
   "metadata": {
    "slideshow": {
     "slide_type": "slide"
    }
   },
   "source": [
    "## Vectors\n",
    "\n",
    "**Applications:**\n",
    "\n",
    "2. **Cosine Similarity:** The same concept can be applied to check whether two variables are correlated, or also whether to words tend to go together. This is called *cosine similarity*\n",
    "\n",
    "<div>\n",
    "<img src=\"https://github.com/umbertomig/CSSBootCamp/blob/main/img/vecalt.png?raw=true\" width=\"500\"/>\n",
    "</div>"
   ]
  },
  {
   "cell_type": "markdown",
   "metadata": {
    "slideshow": {
     "slide_type": "slide"
    }
   },
   "source": [
    "## Vectors\n",
    "\n",
    "**Applications:**\n",
    "\n",
    "3. **Filtering:** Dot-products are also the basis of filtering in time-series.\n",
    "\n",
    "<div>\n",
    "<img src=\"https://github.com/umbertomig/CSSBootCamp/blob/main/img/vec15.png?raw=true\" width=\"500\"/>\n",
    "</div>"
   ]
  },
  {
   "cell_type": "markdown",
   "metadata": {
    "slideshow": {
     "slide_type": "slide"
    }
   },
   "source": [
    "## Vectors\n",
    "\n",
    "**Applications:**\n",
    "\n",
    "4. **k-Means Cluster:** Only uses vector distance. Algorithm:\n",
    "\n",
    "    1. Initialize $k$ centroids as random points in the data space. Each centroid is a class, or category, and the next steps will assign each data observation to each class. (A centroid is a center generalized to any number of dimensions.)\n",
    "\n",
    "    1. Compute the (Euclidean) distance between each data observation and each centroid.\n",
    "\n",
    "    1. Assign each data observation to the group with the closest centroid.\n",
    "\n",
    "    1. Update each centroid as the average of all data observations assigned to that centroid.\n",
    "\n",
    "    1. Repeat steps 2–4 until a convergence criteria is satisfied, or for $N$ iterations."
   ]
  },
  {
   "cell_type": "markdown",
   "metadata": {
    "slideshow": {
     "slide_type": "slide"
    }
   },
   "source": [
    "## Vectors\n",
    "\n",
    "**Applications:**\n",
    "\n",
    "4. **k-Means Cluster:**\n",
    "\n",
    "<div>\n",
    "<img src=\"https://github.com/umbertomig/CSSBootCamp/blob/main/img/vec16.png?raw=true\" width=\"500\"/>\n",
    "</div>"
   ]
  },
  {
   "cell_type": "markdown",
   "metadata": {
    "slideshow": {
     "slide_type": "slide"
    }
   },
   "source": [
    "## Vectors\n",
    "\n",
    "**Exercises**:\n",
    "\n",
    "1. Write a pseudo-code (like a cake recipe) that computes correlation using linear algebra techniques.\n",
    "\n",
    "2. Create a pseudo-code to compute 2-means cluster. **(Hard)**: Can you generalize it to $k$?\n",
    "\n",
    "3. **(Very hard)**: Create a pseudo-code that checks whether a basis is LI or LD. Hint: Break the problem into steps."
   ]
  },
  {
   "cell_type": "code",
   "execution_count": null,
   "metadata": {
    "slideshow": {
     "slide_type": "fragment"
    }
   },
   "outputs": [],
   "source": [
    "## Your code here"
   ]
  },
  {
   "cell_type": "markdown",
   "metadata": {
    "slideshow": {
     "slide_type": "slide"
    }
   },
   "source": [
    "## Matrices (cont'd)\n",
    "\n",
    "**Definition**: *Identity Matrix*\n",
    "\n",
    "A square matrix with $1$'s on the main diagonal and zeros elsewhere is called an **identity matrix**.\n",
    "\n",
    "They play the same role as the number $1$ in arithmetics.\n",
    "\n",
    "$$AI_n = A, \\ and \\ I_mA = A$$\n",
    "\n",
    "Examples:\n",
    "\n",
    "![alt](https://github.com/umbertomig/CSSBootCamp/blob/main/img/identmat.png?raw=true)"
   ]
  },
  {
   "cell_type": "markdown",
   "metadata": {
    "slideshow": {
     "slide_type": "slide"
    }
   },
   "source": [
    "## Matrices\n",
    "\n",
    "A little bit of visualizing matrices (well, yes, we can do that...):"
   ]
  },
  {
   "cell_type": "code",
   "execution_count": 12,
   "metadata": {
    "scrolled": true,
    "slideshow": {
     "slide_type": "fragment"
    }
   },
   "outputs": [
    {
     "data": {
      "image/png": "[encoded data removed]",
      "text/plain": [
       "<Figure size 640x480 with 1 Axes>"
      ]
     },
     "metadata": {},
     "output_type": "display_data"
    }
   ],
   "source": [
    "M = np.array([[1, 2], [3.14, 4], [5, 6]])\n",
    "plt.imshow(M, cmap = \"coolwarm\")\n",
    "plt.show()"
   ]
  },
  {
   "cell_type": "code",
   "execution_count": 13,
   "metadata": {
    "scrolled": true,
    "slideshow": {
     "slide_type": "fragment"
    }
   },
   "outputs": [
    {
     "data": {
      "image/png": "[encoded data removed]",
      "text/plain": [
       "<Figure size 640x480 with 1 Axes>"
      ]
     },
     "metadata": {},
     "output_type": "display_data"
    }
   ],
   "source": [
    "M2 = np.arange(60).reshape(6,10)\n",
    "plt.imshow(M2, cmap = \"coolwarm\")\n",
    "plt.show()"
   ]
  },
  {
   "cell_type": "markdown",
   "metadata": {
    "slideshow": {
     "slide_type": "slide"
    }
   },
   "source": [
    "## Matrices\n",
    "\n",
    "In `numpy`, here are a few handy commands to create matrices:\n",
    "\n",
    "- Diagonal Matrices: `np.diag(vec)`\n",
    "- Random Number Matrices: `np.random.randn(rows, cols)`"
   ]
  },
  {
   "cell_type": "code",
   "execution_count": 16,
   "metadata": {
    "slideshow": {
     "slide_type": "slide"
    }
   },
   "outputs": [
    {
     "name": "stdout",
     "output_type": "stream",
     "text": [
      "[[ 1  0]\n",
      " [ 0 -1]]\n"
     ]
    }
   ],
   "source": [
    "print(np.diag([1, -1]))"
   ]
  },
  {
   "cell_type": "code",
   "execution_count": 17,
   "metadata": {
    "slideshow": {
     "slide_type": "slide"
    }
   },
   "outputs": [
    {
     "name": "stdout",
     "output_type": "stream",
     "text": [
      "[[0.61407048 0.70268792]\n",
      " [0.90845876 0.84636378]]\n"
     ]
    }
   ],
   "source": [
    "print(np.random.rand(2, 2))"
   ]
  },
  {
   "cell_type": "markdown",
   "metadata": {
    "slideshow": {
     "slide_type": "slide"
    }
   },
   "source": [
    "## Matrices\n",
    "\n",
    "In `numpy`, here are a few handy commands to create matrices:\n",
    "\n",
    "- Upper and Lower Triangular Matrices: `np.triu(mat)` and  `np.tril(mat)`"
   ]
  },
  {
   "cell_type": "code",
   "execution_count": 18,
   "metadata": {
    "scrolled": true,
    "slideshow": {
     "slide_type": "slide"
    }
   },
   "outputs": [
    {
     "name": "stdout",
     "output_type": "stream",
     "text": [
      "[[0.1053221  0.29529488 0.94402007]\n",
      " [0.         0.36137084 0.82144567]\n",
      " [0.         0.         0.60764076]]\n"
     ]
    }
   ],
   "source": [
    "print(np.triu(np.random.rand(3, 3)))"
   ]
  },
  {
   "cell_type": "code",
   "execution_count": 19,
   "metadata": {
    "slideshow": {
     "slide_type": "slide"
    }
   },
   "outputs": [
    {
     "name": "stdout",
     "output_type": "stream",
     "text": [
      "[[0.659323   0.         0.        ]\n",
      " [0.28416859 0.98092078 0.        ]\n",
      " [0.08078056 0.48068109 0.62933635]]\n"
     ]
    }
   ],
   "source": [
    "print(np.tril(np.random.rand(3, 3)))"
   ]
  },
  {
   "cell_type": "markdown",
   "metadata": {
    "slideshow": {
     "slide_type": "slide"
    }
   },
   "source": [
    "## Matrices\n",
    "\n",
    "In `numpy`, here are a few handy commands to create matrices:\n",
    "\n",
    "- Identity Matrices: `np.eye(dim)`\n",
    "- Zeros Matrices: `np.zeros([nrows, ncols])`"
   ]
  },
  {
   "cell_type": "code",
   "execution_count": 20,
   "metadata": {
    "scrolled": true,
    "slideshow": {
     "slide_type": "slide"
    }
   },
   "outputs": [
    {
     "name": "stdout",
     "output_type": "stream",
     "text": [
      "[[1. 0. 0. 0. 0.]\n",
      " [0. 1. 0. 0. 0.]\n",
      " [0. 0. 1. 0. 0.]\n",
      " [0. 0. 0. 1. 0.]\n",
      " [0. 0. 0. 0. 1.]]\n"
     ]
    }
   ],
   "source": [
    "print(np.eye(5))"
   ]
  },
  {
   "cell_type": "code",
   "execution_count": 23,
   "metadata": {
    "scrolled": true,
    "slideshow": {
     "slide_type": "slide"
    }
   },
   "outputs": [
    {
     "name": "stdout",
     "output_type": "stream",
     "text": [
      "[[0. 0.]\n",
      " [0. 0.]\n",
      " [0. 0.]]\n"
     ]
    }
   ],
   "source": [
    "print(np.zeros([3, 2]))"
   ]
  },
  {
   "cell_type": "markdown",
   "metadata": {
    "slideshow": {
     "slide_type": "slide"
    }
   },
   "source": [
    "## Matrices\n",
    "\n",
    "To create an identity matrix use `np.eye`. Let us visualize a 10 x 10 identity matrix?!"
   ]
  },
  {
   "cell_type": "code",
   "execution_count": 27,
   "metadata": {
    "slideshow": {
     "slide_type": "fragment"
    }
   },
   "outputs": [],
   "source": [
    "## Your code here"
   ]
  },
  {
   "cell_type": "markdown",
   "metadata": {
    "slideshow": {
     "slide_type": "slide"
    }
   },
   "source": [
    "## Matrices\n",
    "\n",
    "How to shift a matrix in the space? Easy: To shift it $\\lambda \\in \\mathbb{R}$, we do:\n",
    "\n",
    "$$A + \\lambda I$$"
   ]
  },
  {
   "cell_type": "code",
   "execution_count": 24,
   "metadata": {
    "slideshow": {
     "slide_type": "fragment"
    }
   },
   "outputs": [
    {
     "name": "stdout",
     "output_type": "stream",
     "text": [
      "[[0.14522495 0.19662641 0.64666248 0.64715915]\n",
      " [0.85819329 0.80016405 0.50627899 0.43451138]\n",
      " [0.21024733 0.70830626 0.00995481 0.11974253]\n",
      " [0.42813849 0.4062579  0.27976194 0.96212614]]\n"
     ]
    }
   ],
   "source": [
    "A = np.random.rand(4, 4)\n",
    "print(A)"
   ]
  },
  {
   "cell_type": "code",
   "execution_count": 26,
   "metadata": {
    "slideshow": {
     "slide_type": "fragment"
    }
   },
   "outputs": [
    {
     "name": "stdout",
     "output_type": "stream",
     "text": [
      "[[3.14522495 0.19662641 0.64666248 0.64715915]\n",
      " [0.85819329 3.80016405 0.50627899 0.43451138]\n",
      " [0.21024733 0.70830626 3.00995481 0.11974253]\n",
      " [0.42813849 0.4062579  0.27976194 3.96212614]]\n"
     ]
    }
   ],
   "source": [
    "print(A + 3*np.eye(4))"
   ]
  },
  {
   "cell_type": "markdown",
   "metadata": {
    "slideshow": {
     "slide_type": "slide"
    }
   },
   "source": [
    "## Matrices\n",
    "\n",
    "In `numpy`, if you multiply a vector for another, it does what we call the *Hadamard* multiplication: **component-wise multiplication.** \n",
    "\n",
    "It is denoted by $A \\odot B$"
   ]
  },
  {
   "cell_type": "code",
   "execution_count": 28,
   "metadata": {
    "slideshow": {
     "slide_type": "fragment"
    }
   },
   "outputs": [
    {
     "data": {
      "text/plain": [
       "array([[0, 2],\n",
       "       [1, 0]])"
      ]
     },
     "execution_count": 28,
     "metadata": {},
     "output_type": "execute_result"
    }
   ],
   "source": [
    "np.array([[1, 2], [1, 1]]) * np.array([[0, 1], [1, 0]])"
   ]
  },
  {
   "cell_type": "markdown",
   "metadata": {
    "slideshow": {
     "slide_type": "slide"
    }
   },
   "source": [
    "## Matrices\n",
    "\n",
    "Matrix multiplication in `numpy`: Use the `@` symbol"
   ]
  },
  {
   "cell_type": "code",
   "execution_count": 31,
   "metadata": {
    "slideshow": {
     "slide_type": "fragment"
    }
   },
   "outputs": [
    {
     "data": {
      "text/plain": [
       "array([[ 2,  1],\n",
       "       [-1,  1]])"
      ]
     },
     "execution_count": 31,
     "metadata": {},
     "output_type": "execute_result"
    }
   ],
   "source": [
    "## Your answers here\n",
    "np.array([[1, 2], [1, -1]]) @ np.array([[0, 1], [1, 0]])"
   ]
  },
  {
   "cell_type": "markdown",
   "metadata": {
    "slideshow": {
     "slide_type": "slide"
    }
   },
   "source": [
    "## Matrices\n",
    "\n",
    "- Matrix multiplication: It is, inside it, a bunch of dot-products.\n",
    "\n",
    "- Then, what we are really doing is to apply a transformation to a space.\n",
    "\n",
    "Example: I am going to stretch the space $A$ by two units:"
   ]
  },
  {
   "cell_type": "code",
   "execution_count": 32,
   "metadata": {
    "slideshow": {
     "slide_type": "fragment"
    }
   },
   "outputs": [
    {
     "data": {
      "text/plain": [
       "array([[ 2.,  4.],\n",
       "       [ 2., -2.]])"
      ]
     },
     "execution_count": 32,
     "metadata": {},
     "output_type": "execute_result"
    }
   ],
   "source": [
    "A = np.array([[1, 2], [1, -1]])\n",
    "\n",
    "A @ (np.eye(2) * 2)"
   ]
  },
  {
   "cell_type": "markdown",
   "metadata": {
    "slideshow": {
     "slide_type": "slide"
    }
   },
   "source": [
    "## Matrices\n",
    "\n",
    "Change place of the lines:"
   ]
  },
  {
   "cell_type": "code",
   "execution_count": 36,
   "metadata": {
    "slideshow": {
     "slide_type": "fragment"
    }
   },
   "outputs": [
    {
     "name": "stdout",
     "output_type": "stream",
     "text": [
      "Transformation: \n",
      "[[0 1]\n",
      " [1 0]]\n",
      "\n",
      "Result: \n",
      "[[ 2  1]\n",
      " [-1  1]]\n"
     ]
    }
   ],
   "source": [
    "T = np.array([[0, 1],[1, 0]])\n",
    "print('Transformation: ')\n",
    "print(T)\n",
    "\n",
    "print('\\nResult: ')\n",
    "print(A @ T)"
   ]
  },
  {
   "cell_type": "markdown",
   "metadata": {
    "slideshow": {
     "slide_type": "slide"
    }
   },
   "source": [
    "## Matrices\n",
    "\n",
    "Multiply the second line by two and add to the first line:"
   ]
  },
  {
   "cell_type": "code",
   "execution_count": 37,
   "metadata": {
    "slideshow": {
     "slide_type": "fragment"
    }
   },
   "outputs": [
    {
     "name": "stdout",
     "output_type": "stream",
     "text": [
      "Transformation: \n",
      "[[1 2]\n",
      " [0 1]]\n",
      "\n",
      "Result: \n",
      "[[1 4]\n",
      " [1 1]]\n"
     ]
    }
   ],
   "source": [
    "T = np.array([[1, 2],[0, 1]])\n",
    "print('Transformation: ')\n",
    "print(T)\n",
    "\n",
    "print('\\nResult: ')\n",
    "print(A @ T)"
   ]
  },
  {
   "cell_type": "markdown",
   "metadata": {
    "slideshow": {
     "slide_type": "slide"
    }
   },
   "source": [
    "## Matrices\n",
    "\n",
    "**Definition:** The (Frobenius) **norm of a matrix** is defined as:\n",
    "\n",
    "$$\\lVert A \\rVert = \\sqrt{\\sum_i\\sum_ja_{ij}^2} = \\sqrt{tr(A^T A)} $$\n",
    "\n",
    "**Spaces**: Consider a matrix as a set of column vectors.\n",
    "\n",
    "- **Column space:** We can use the matrix colums to span the space generated by the matrix\n",
    "\n",
    "- **Row spaces:** Just transpose the column space and you got it."
   ]
  },
  {
   "cell_type": "markdown",
   "metadata": {
    "slideshow": {
     "slide_type": "slide"
    }
   },
   "source": [
    "## Matrices\n",
    "\n",
    "**Column space:**\n",
    "\n",
    "<div>\n",
    "<img src=\"https://github.com/umbertomig/CSSBootCamp/blob/main/img/mat1.png?raw=true\" width=\"300\"/>\n",
    "</div>\n",
    "\n",
    "<div>\n",
    "<img src=\"https://github.com/umbertomig/CSSBootCamp/blob/main/img/mat2.png?raw=true\" width=\"300\"/>\n",
    "</div>"
   ]
  },
  {
   "cell_type": "markdown",
   "metadata": {
    "slideshow": {
     "slide_type": "slide"
    }
   },
   "source": [
    "## Matrices\n",
    "\n",
    "**Definition**: The **null space** of a matrix is defined as the set of vectors such that $\\mathbf{x} \\neq \\mathbf{0}$ and:\n",
    "\n",
    "$$A\\mathbf{x} = \\mathbf{0}$$\n",
    "\n",
    "Or, *can we find weights in a matrix that produce the zero vector?*\n",
    "\n",
    "Answer: It depends. If the columns of the matrix is LI, no. If they are LD, yes!"
   ]
  },
  {
   "cell_type": "code",
   "execution_count": 40,
   "metadata": {
    "slideshow": {
     "slide_type": "fragment"
    }
   },
   "outputs": [
    {
     "name": "stdout",
     "output_type": "stream",
     "text": [
      "[[-0.89442719]\n",
      " [ 0.4472136 ]]\n",
      "\n",
      "[]\n"
     ]
    }
   ],
   "source": [
    "A = np.array([[1, 2], [2, 4]]) \n",
    "B = np.array([[1, 2], [1, 1]]) \n",
    "print( scipy.linalg.null_space(A) , end = '\\n\\n')\n",
    "print( scipy.linalg.null_space(B) )"
   ]
  },
  {
   "cell_type": "markdown",
   "metadata": {
    "slideshow": {
     "slide_type": "slide"
    }
   },
   "source": [
    "## Matrices\n",
    "\n",
    "**Definition**: (but now like a pro) The **rank** of the matrix is the number of LI vectors in te matrix column space.\n",
    "\n",
    "What is the rank here?"
   ]
  },
  {
   "cell_type": "code",
   "execution_count": 45,
   "metadata": {
    "slideshow": {
     "slide_type": "fragment"
    }
   },
   "outputs": [
    {
     "name": "stdout",
     "output_type": "stream",
     "text": [
      "[[-0.89442719]\n",
      " [ 0.4472136 ]]\n",
      "\n",
      "[]\n"
     ]
    }
   ],
   "source": [
    "A = np.array([[1, 2], [2, 4]]) \n",
    "B = np.array([[1, 2], [1, 1]]) \n",
    "print( scipy.linalg.null_space(A) , end = '\\n\\n')\n",
    "print( scipy.linalg.null_space(B) )"
   ]
  },
  {
   "cell_type": "markdown",
   "metadata": {
    "slideshow": {
     "slide_type": "slide"
    }
   },
   "source": [
    "## Matrices\n",
    "\n",
    "**Properties of the rank**:\n",
    "\n",
    "1. Vectors always have rank 1\n",
    "1. Zero matrices always have rank zero\n",
    "1. Identity matrices always have full rank\n",
    "1. Diagonal and triangular matrices always have full rank when the main diagonal has no zero elements.\n",
    "1. $rank(A + B) \\leq rank(A) + rank(B)$\n",
    "1. $rank(AB) \\leq \\min \\{rank(A), rank(B)\\}$"
   ]
  },
  {
   "cell_type": "markdown",
   "metadata": {
    "slideshow": {
     "slide_type": "slide"
    }
   },
   "source": [
    "## Matrices\n",
    "\n",
    "**Definition**: The **determinant** is a quantity associated with square matrices, that tells us how much matrix stretches the vectors in matrix times vectors operations. (what?)"
   ]
  },
  {
   "cell_type": "code",
   "execution_count": 41,
   "metadata": {
    "slideshow": {
     "slide_type": "fragment"
    }
   },
   "outputs": [
    {
     "name": "stdout",
     "output_type": "stream",
     "text": [
      "0.0\n",
      "\n",
      "-1.0\n"
     ]
    }
   ],
   "source": [
    "A = np.array([[1, 2], [2, 4]]) \n",
    "B = np.array([[1, 2], [1, 1]]) \n",
    "print( np.linalg.det(A) , end = '\\n\\n')\n",
    "print( np.linalg.det(B) )"
   ]
  },
  {
   "cell_type": "markdown",
   "metadata": {
    "slideshow": {
     "slide_type": "slide"
    }
   },
   "source": [
    "## Matrices\n",
    "\n",
    "**Properties of the determinant**: \n",
    "\n",
    "1. The determinant is zero if the matrix is not full-rank.\n",
    "1. The determinant is only defined for square matrices.\n",
    "1. If the determinant is zero, the matrix has no inverse."
   ]
  },
  {
   "cell_type": "markdown",
   "metadata": {
    "slideshow": {
     "slide_type": "slide"
    }
   },
   "source": [
    "## Matrices\n",
    "\n",
    "**Definition**: *Inverse Matrix*\n",
    "\n",
    "Let $A$ a matrix $n\\times n$. The matrix $B$ of $n\\times n$ is an called the $\\textbf{inverse}$ for $A$ if $AB=BA=I$ (where $I$ is the Identity Matrix).\n",
    "\n",
    "![alt](https://github.com/umbertomig/CSSBootCamp/blob/main/img/invmat.png?raw=true)\n",
    "\n",
    "![alt](https://github.com/umbertomig/CSSBootCamp/blob/main/img/invprodtheorem.png?raw=true)"
   ]
  },
  {
   "cell_type": "code",
   "execution_count": 43,
   "metadata": {
    "slideshow": {
     "slide_type": "fragment"
    }
   },
   "outputs": [
    {
     "data": {
      "text/plain": [
       "array([[-1.,  2.],\n",
       "       [ 1., -1.]])"
      ]
     },
     "execution_count": 43,
     "metadata": {},
     "output_type": "execute_result"
    }
   ],
   "source": [
    "A = np.array([[1, 2], [1, 1]]) \n",
    "np.linalg.inv(A)"
   ]
  },
  {
   "cell_type": "markdown",
   "metadata": {
    "slideshow": {
     "slide_type": "slide"
    }
   },
   "source": [
    "## Matrices\n",
    "\n",
    "**Applications**:\n",
    "\n",
    "1. We can determine the polynomial that passes through a point.\n",
    "\n",
    "2. We can calculate the line the minimize the prediction error."
   ]
  },
  {
   "cell_type": "markdown",
   "metadata": {
    "slideshow": {
     "slide_type": "slide"
    }
   },
   "source": [
    "# Great job!!!"
   ]
  }
 ],
 "metadata": {
  "celltoolbar": "Slideshow",
  "kernelspec": {
   "display_name": "Python 3 (ipykernel)",
   "language": "python",
   "name": "python3"
  },
  "language_info": {
   "codemirror_mode": {
    "name": "ipython",
    "version": 3
   },
   "file_extension": ".py",
   "mimetype": "text/x-python",
   "name": "python",
   "nbconvert_exporter": "python",
   "pygments_lexer": "ipython3",
   "version": "3.9.18"
  }
 },
 "nbformat": 4,
 "nbformat_minor": 4
}
