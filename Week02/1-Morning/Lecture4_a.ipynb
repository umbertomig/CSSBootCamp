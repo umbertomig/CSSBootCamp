{
 "cells": [
  {
   "cell_type": "markdown",
   "metadata": {
    "slideshow": {
     "slide_type": "slide"
    }
   },
   "source": [
    "# CSS 201.5 - CSS MA Bootcamp\n",
    "\n",
    "## Week 02 - Lecture 4 (morning)"
   ]
  },
  {
   "cell_type": "markdown",
   "metadata": {
    "slideshow": {
     "slide_type": "slide"
    }
   },
   "source": [
    "# Data Wrangling"
   ]
  },
  {
   "cell_type": "code",
   "execution_count": null,
   "metadata": {
    "slideshow": {
     "slide_type": "fragment"
    }
   },
   "outputs": [],
   "source": [
    "# Loading packages\n",
    "import pandas as pd\n",
    "import numpy as np\n",
    "import matplotlib.pyplot as plt\n",
    "import seaborn as sns\n",
    "import plotly\n",
    "from plotly import express as px\n",
    "from plotly.subplots import make_subplots\n",
    "\n",
    "# Dates and times handlers\n",
    "from datetime import date\n",
    "from datetime import timedelta\n",
    "from datetime import datetime as dtm\n",
    "from datetime import timezone as tmz"
   ]
  },
  {
   "cell_type": "markdown",
   "metadata": {
    "slideshow": {
     "slide_type": "slide"
    }
   },
   "source": [
    "## Roadmap\n",
    "\n",
    "1. Chaining\n",
    "\n",
    "1. Stacking data\n",
    "\n",
    "1. Joining data\n",
    "\n",
    "1. Reshaping data"
   ]
  },
  {
   "cell_type": "markdown",
   "metadata": {
    "slideshow": {
     "slide_type": "slide"
    }
   },
   "source": [
    "## Loading PErisk"
   ]
  },
  {
   "cell_type": "code",
   "execution_count": null,
   "metadata": {
    "tags": []
   },
   "outputs": [],
   "source": [
    "perisk = pd.read_csv('PErisk.csv')\n",
    "perisk.head(2)"
   ]
  },
  {
   "cell_type": "code",
   "execution_count": null,
   "metadata": {
    "tags": []
   },
   "outputs": [],
   "source": [
    "tips = pd.read_csv('tips.csv')\n",
    "tips.head(2)"
   ]
  },
  {
   "cell_type": "markdown",
   "metadata": {},
   "source": [
    "## Variable operations\n",
    "\n",
    "**Your turn**: Create a variable `share_bill_tip`, that computes the fraction of the bill that was give as a `tip`."
   ]
  },
  {
   "cell_type": "code",
   "execution_count": null,
   "metadata": {
    "tags": []
   },
   "outputs": [],
   "source": [
    "tips.head(2)\n",
    "# Your answers here"
   ]
  },
  {
   "cell_type": "markdown",
   "metadata": {
    "tags": []
   },
   "source": [
    "## Variable operations\n",
    "\n",
    "Quantiles of a variable:"
   ]
  },
  {
   "cell_type": "code",
   "execution_count": null,
   "metadata": {
    "tags": []
   },
   "outputs": [],
   "source": [
    "perisk.gdpw2.quantile(q = [0, 0.25, 0.5, 0.75, 1])"
   ]
  },
  {
   "cell_type": "markdown",
   "metadata": {},
   "source": [
    "And we can bin by quantiles:"
   ]
  },
  {
   "cell_type": "code",
   "execution_count": null,
   "metadata": {
    "tags": []
   },
   "outputs": [],
   "source": [
    "new_perisk = perisk.assign(\n",
    "    gdpw2_bin = pd.qcut(perisk.gdpw2, q = 4)\n",
    ")\n",
    "new_perisk.head()"
   ]
  },
  {
   "cell_type": "markdown",
   "metadata": {},
   "source": [
    "## Quantile cuts\n",
    "\n",
    "**Your turn**: Cut the `share_bill_tip` into three categories. Then build a table of this variable."
   ]
  },
  {
   "cell_type": "code",
   "execution_count": null,
   "metadata": {
    "tags": []
   },
   "outputs": [],
   "source": [
    "tips.head(2)\n",
    "# Your answers here"
   ]
  },
  {
   "cell_type": "markdown",
   "metadata": {
    "tags": []
   },
   "source": [
    "## Variable operations\n",
    "\n",
    "Little bit of a 0-1 index:"
   ]
  },
  {
   "cell_type": "code",
   "execution_count": null,
   "metadata": {
    "tags": []
   },
   "outputs": [],
   "source": [
    "new_perisk = perisk.assign(\n",
    "    z1_barb2 = (perisk.barb2 - perisk.barb2.min()) / (perisk.barb2.max() - perisk.barb2.min())\n",
    ")\n",
    "new_perisk.head()"
   ]
  },
  {
   "cell_type": "markdown",
   "metadata": {},
   "source": [
    "## Zero-One Indexing\n",
    "\n",
    "**Your turn**: Create a variable `zero_one_totbill`, that transforms the total bill into a zero - one variable."
   ]
  },
  {
   "cell_type": "code",
   "execution_count": null,
   "metadata": {
    "tags": []
   },
   "outputs": [],
   "source": [
    "tips.head(2)\n",
    "# Your answers here"
   ]
  },
  {
   "cell_type": "markdown",
   "metadata": {
    "tags": []
   },
   "source": [
    "## Variable operations\n",
    "\n",
    "Standardizing values or taking absolute values:"
   ]
  },
  {
   "cell_type": "code",
   "execution_count": null,
   "metadata": {
    "tags": []
   },
   "outputs": [],
   "source": [
    "stdz = lambda x: (x - x.mean()) / x.std()\n",
    "new_perisk = perisk.assign(\n",
    "    stdz_barb2 = stdz(perisk.barb2),\n",
    "    stdz_gdpw2 = stdz(perisk.gdpw2),\n",
    "    abs_barb2 = perisk.barb2.abs()\n",
    ")\n",
    "new_perisk.head()"
   ]
  },
  {
   "cell_type": "markdown",
   "metadata": {},
   "source": [
    "Clipping values: force lower and higher to be of a given value (danger zone!)."
   ]
  },
  {
   "cell_type": "code",
   "execution_count": null,
   "metadata": {
    "tags": []
   },
   "outputs": [],
   "source": [
    "new_perisk = new_perisk.assign(\n",
    "    stdz_barb2 = new_perisk.stdz_barb2.clip(lower = -1, upper = 1),\n",
    "    stdz_gdpw2 = new_perisk.stdz_gdpw2.clip(lower = -1, upper = 1),\n",
    ")\n",
    "new_perisk.head(3)"
   ]
  },
  {
   "cell_type": "markdown",
   "metadata": {},
   "source": [
    "## Standardizing\n",
    "\n",
    "**Your turn**: \n",
    "\n",
    "1. Standardize the total bill.\n",
    "2. Create a new variable that standardize the tips, clipping values to be between -2 and 2 standard deviations.\n",
    "3. Count the values within and outside these bounds.\n",
    "\n",
    "Do you know what they mean?"
   ]
  },
  {
   "cell_type": "code",
   "execution_count": null,
   "metadata": {
    "tags": []
   },
   "outputs": [],
   "source": [
    "tips.head(2)\n",
    "# Your answers here"
   ]
  },
  {
   "cell_type": "markdown",
   "metadata": {
    "tags": []
   },
   "source": [
    "## Chaining\n",
    "\n",
    "This is useful when you want to run multiple commands at once."
   ]
  },
  {
   "cell_type": "code",
   "execution_count": null,
   "metadata": {
    "tags": []
   },
   "outputs": [],
   "source": [
    "new_perisk = (perisk.assign(expr_risk = 5 - perisk.prsexp2,\n",
    "                            corr_risk = 5 - perisk.prsexp2)\n",
    "                    .query('courts == 1')\n",
    "                    .sample(n = 5)\n",
    "                    .set_index('country')\n",
    "                    .sort_index()\n",
    "             )"
   ]
  },
  {
   "cell_type": "code",
   "execution_count": null,
   "metadata": {
    "tags": []
   },
   "outputs": [],
   "source": [
    "new_perisk.head()"
   ]
  },
  {
   "cell_type": "markdown",
   "metadata": {},
   "source": [
    "## Standardizing\n",
    "\n",
    "**Your turn**: Using chaining, perform the following operations:\n",
    "\n",
    "1. Select 50 samples of `tips`\n",
    "1. Standardize the total bill.\n",
    "1. Create a new variable that standardize the tips, clipping values to be between -2 and 2 standard deviations.\n",
    "1. Create a new variable that creates a zero-one representation of `totbill` and `tip`\n",
    "1. Use qcut to create a 10-cut discrete variable representation of the zero-one `tip` created before."
   ]
  },
  {
   "cell_type": "code",
   "execution_count": null,
   "metadata": {
    "tags": []
   },
   "outputs": [],
   "source": [
    "tips.head(2)\n",
    "# Your answers here"
   ]
  },
  {
   "cell_type": "markdown",
   "metadata": {
    "slideshow": {
     "slide_type": "slide"
    },
    "tags": []
   },
   "source": [
    "## Stacking data\n",
    "\n",
    "Suppose you have two datasets, both with half of the data you need, and the same variables in both datasets.\n",
    "\n",
    "For instance:"
   ]
  },
  {
   "cell_type": "code",
   "execution_count": null,
   "metadata": {
    "tags": []
   },
   "outputs": [],
   "source": [
    "# First dataset\n",
    "perisk_1sthalf = perisk.loc[0:1]\n",
    "perisk_1sthalf"
   ]
  },
  {
   "cell_type": "code",
   "execution_count": null,
   "metadata": {
    "tags": []
   },
   "outputs": [],
   "source": [
    "# Second dataset\n",
    "perisk_2ndhalf = perisk.loc[2:3]\n",
    "perisk_2ndhalf"
   ]
  },
  {
   "cell_type": "markdown",
   "metadata": {
    "slideshow": {
     "slide_type": "slide"
    },
    "tags": []
   },
   "source": [
    "## Stacking data\n",
    "\n",
    "To stack the data, you should do:"
   ]
  },
  {
   "cell_type": "code",
   "execution_count": null,
   "metadata": {
    "tags": []
   },
   "outputs": [],
   "source": [
    "pd.concat([perisk_1sthalf, perisk_2ndhalf])"
   ]
  },
  {
   "cell_type": "markdown",
   "metadata": {},
   "source": [
    "## Stacking\n",
    "\n",
    "**Your turn**: Stack the datasets `tips_1` and `tips_2`."
   ]
  },
  {
   "cell_type": "code",
   "execution_count": null,
   "metadata": {
    "tags": []
   },
   "outputs": [],
   "source": [
    "tips_1 = tips.head(2)\n",
    "tips_2 = tips.tail(2)\n",
    "# Your answers here"
   ]
  },
  {
   "cell_type": "markdown",
   "metadata": {
    "slideshow": {
     "slide_type": "slide"
    },
    "tags": []
   },
   "source": [
    "## Stacking data\n",
    "\n",
    "But what if the variables are in different order, with possibly some differences from one dataset to the other?"
   ]
  },
  {
   "cell_type": "code",
   "execution_count": null,
   "metadata": {
    "tags": []
   },
   "outputs": [],
   "source": [
    "perisk_1sthalf = (\n",
    "    perisk.loc[0:1]\n",
    "          .drop(columns = ['barb2'])\n",
    "          .reindex(columns = ['country', 'prscorr2', 'gdpw2', 'courts', 'prsexp2'])\n",
    ")\n",
    "perisk_1sthalf"
   ]
  },
  {
   "cell_type": "code",
   "execution_count": null,
   "metadata": {
    "tags": []
   },
   "outputs": [],
   "source": [
    "perisk_2ndhalf = (\n",
    "    perisk.loc[2:3]\n",
    "          .drop(columns = ['gdpw2'])\n",
    "          .reindex(columns = ['country', 'courts', 'prsexp2', 'prscorr2', 'barb2'])\n",
    ")\n",
    "perisk_2ndhalf"
   ]
  },
  {
   "cell_type": "code",
   "execution_count": null,
   "metadata": {
    "tags": []
   },
   "outputs": [],
   "source": [
    "pd.concat([perisk_1sthalf, perisk_2ndhalf])"
   ]
  },
  {
   "cell_type": "markdown",
   "metadata": {},
   "source": [
    "## Stacking\n",
    "\n",
    "**Your turn**: Stack the datasets `tips_1` and `tips_2`."
   ]
  },
  {
   "cell_type": "code",
   "execution_count": null,
   "metadata": {
    "tags": []
   },
   "outputs": [],
   "source": [
    "tips_1 = tips.head(2).drop(columns = ['day'])\n",
    "tips_2 = tips.tail(2).drop(columns = ['time'])\n",
    "# Your answers here"
   ]
  },
  {
   "cell_type": "markdown",
   "metadata": {
    "slideshow": {
     "slide_type": "slide"
    },
    "tags": []
   },
   "source": [
    "## Join Data\n",
    "\n",
    "Suppose you have two datasets that have a common key, with different types of information in them. How to we join them together?"
   ]
  },
  {
   "cell_type": "code",
   "execution_count": null,
   "metadata": {
    "tags": []
   },
   "outputs": [],
   "source": [
    "perisk_inc1 = (\n",
    "    perisk.loc[0:4]\n",
    "          .drop(columns = ['prsexp2', 'prscorr2', 'gdpw2'])\n",
    ")\n",
    "perisk_inc1"
   ]
  },
  {
   "cell_type": "code",
   "execution_count": null,
   "metadata": {
    "tags": []
   },
   "outputs": [],
   "source": [
    "perisk_inc2 = (\n",
    "    perisk.loc[1:5]\n",
    "          .drop(columns = ['courts', 'barb2'])\n",
    ")\n",
    "perisk_inc2"
   ]
  },
  {
   "cell_type": "markdown",
   "metadata": {
    "slideshow": {
     "slide_type": "slide"
    },
    "tags": []
   },
   "source": [
    "## Join Data\n",
    "\n",
    "Inner joins:"
   ]
  },
  {
   "cell_type": "code",
   "execution_count": null,
   "metadata": {
    "tags": []
   },
   "outputs": [],
   "source": [
    "pd.merge(perisk_inc1, perisk_inc2, how = 'inner', on = 'country')"
   ]
  },
  {
   "cell_type": "markdown",
   "metadata": {},
   "source": [
    "## Inner Join\n",
    "\n",
    "**Your turn**: Join the datasets `tips_1` and `tips_2` using inner join."
   ]
  },
  {
   "cell_type": "code",
   "execution_count": null,
   "metadata": {
    "tags": []
   },
   "outputs": [],
   "source": [
    "tips_1 = tips.head(4).drop(columns = ['day'])\n",
    "tips_2 = tips.loc[2:].head(4).drop(columns = ['time'])\n",
    "# Your answers here"
   ]
  },
  {
   "cell_type": "markdown",
   "metadata": {
    "slideshow": {
     "slide_type": "slide"
    },
    "tags": []
   },
   "source": [
    "## Join Data\n",
    "\n",
    "Left joins:"
   ]
  },
  {
   "cell_type": "code",
   "execution_count": null,
   "metadata": {
    "tags": []
   },
   "outputs": [],
   "source": [
    "pd.merge(perisk_inc1, perisk_inc2, how = 'left', on = 'country')"
   ]
  },
  {
   "cell_type": "markdown",
   "metadata": {},
   "source": [
    "## Left Join\n",
    "\n",
    "**Your turn**: Join the datasets `tips_1` and `tips_2` using left join."
   ]
  },
  {
   "cell_type": "code",
   "execution_count": null,
   "metadata": {
    "tags": []
   },
   "outputs": [],
   "source": [
    "tips_1 = tips.head(4).drop(columns = ['day'])\n",
    "tips_2 = tips.loc[2:].head(4).drop(columns = ['time'])\n",
    "# Your answers here"
   ]
  },
  {
   "cell_type": "markdown",
   "metadata": {
    "slideshow": {
     "slide_type": "slide"
    },
    "tags": []
   },
   "source": [
    "## Join Data\n",
    "\n",
    "Right joins:"
   ]
  },
  {
   "cell_type": "code",
   "execution_count": null,
   "metadata": {
    "tags": []
   },
   "outputs": [],
   "source": [
    "pd.merge(perisk_inc1, perisk_inc2, how = 'right', on = 'country')"
   ]
  },
  {
   "cell_type": "markdown",
   "metadata": {
    "slideshow": {
     "slide_type": "slide"
    },
    "tags": []
   },
   "source": [
    "## Join Data\n",
    "\n",
    "Full (outer) joins:"
   ]
  },
  {
   "cell_type": "markdown",
   "metadata": {},
   "source": [
    "## Right Join\n",
    "\n",
    "**Your turn**: Join the datasets `tips_1` and `tips_2` using right join."
   ]
  },
  {
   "cell_type": "code",
   "execution_count": null,
   "metadata": {
    "tags": []
   },
   "outputs": [],
   "source": [
    "tips_1 = tips.head(4).drop(columns = ['day'])\n",
    "tips_2 = tips.loc[2:].head(4).drop(columns = ['time'])\n",
    "# Your answers here"
   ]
  },
  {
   "cell_type": "code",
   "execution_count": null,
   "metadata": {
    "tags": []
   },
   "outputs": [],
   "source": [
    "pd.merge(perisk_inc1, perisk_inc2, how = 'outer', on = 'country')"
   ]
  },
  {
   "cell_type": "markdown",
   "metadata": {},
   "source": [
    "## Full Join\n",
    "\n",
    "**Your turn**: Join the datasets `tips_1` and `tips_2` using full join."
   ]
  },
  {
   "cell_type": "code",
   "execution_count": null,
   "metadata": {
    "tags": []
   },
   "outputs": [],
   "source": [
    "tips_1 = tips.head(4).drop(columns = ['day'])\n",
    "tips_2 = tips.loc[2:].head(4).drop(columns = ['time'])\n",
    "# Your answers here"
   ]
  },
  {
   "cell_type": "markdown",
   "metadata": {
    "slideshow": {
     "slide_type": "slide"
    },
    "tags": []
   },
   "source": [
    "## Join Data\n",
    "\n",
    "Diagnostics one: matched?"
   ]
  },
  {
   "cell_type": "code",
   "execution_count": null,
   "metadata": {
    "tags": []
   },
   "outputs": [],
   "source": [
    "perisk_inc1[perisk_inc1.country.isin(perisk_inc2.country)].country"
   ]
  },
  {
   "cell_type": "markdown",
   "metadata": {},
   "source": [
    "Diagnostics two: Unmatched?"
   ]
  },
  {
   "cell_type": "code",
   "execution_count": null,
   "metadata": {
    "tags": []
   },
   "outputs": [],
   "source": [
    "perisk_inc1[~perisk_inc1.country.isin(perisk_inc2.country)].country"
   ]
  },
  {
   "cell_type": "markdown",
   "metadata": {
    "slideshow": {
     "slide_type": "slide"
    },
    "tags": []
   },
   "source": [
    "## Join Data\n",
    "\n",
    "Now reversing:\n",
    "\n",
    "Diagnostics one: matched?"
   ]
  },
  {
   "cell_type": "code",
   "execution_count": null,
   "metadata": {
    "tags": []
   },
   "outputs": [],
   "source": [
    "perisk_inc2[perisk_inc2.country.isin(perisk_inc1.country)].country"
   ]
  },
  {
   "cell_type": "markdown",
   "metadata": {},
   "source": [
    "Diagnostics two: Unmatched?"
   ]
  },
  {
   "cell_type": "code",
   "execution_count": null,
   "metadata": {
    "tags": []
   },
   "outputs": [],
   "source": [
    "perisk_inc2[~perisk_inc2.country.isin(perisk_inc1.country)].country"
   ]
  },
  {
   "cell_type": "markdown",
   "metadata": {},
   "source": [
    "## Joins\n",
    "\n",
    "**Your turn**: Diagnose the joins you ran before."
   ]
  },
  {
   "cell_type": "code",
   "execution_count": null,
   "metadata": {
    "tags": []
   },
   "outputs": [],
   "source": [
    "tips_1 = tips.head(4).drop(columns = ['day'])\n",
    "tips_2 = tips.loc[2:].head(4).drop(columns = ['time'])\n",
    "# Your answers here"
   ]
  },
  {
   "cell_type": "markdown",
   "metadata": {},
   "source": [
    "## Reshaping data\n",
    "\n",
    "It is very common that the data we use is in a different format than the required for analysis.\n",
    "\n",
    "Fortunately, it is easy to deal with that in `pandas`."
   ]
  },
  {
   "cell_type": "code",
   "execution_count": null,
   "metadata": {
    "tags": []
   },
   "outputs": [],
   "source": [
    "# cases data\n",
    "cases = pd.DataFrame({\n",
    "  'country': [\"Afghanistan\", \"Brazil\", \"China\"],\n",
    "  1999: [745, 37737, 212258],\n",
    "  2000: [2666, 80488, 213766]  \n",
    "})\n",
    "cases"
   ]
  },
  {
   "cell_type": "markdown",
   "metadata": {
    "slideshow": {
     "slide_type": "slide"
    }
   },
   "source": [
    "## Reshaping data (gather)\n",
    "\n",
    "Suppose you have this data:"
   ]
  },
  {
   "cell_type": "code",
   "execution_count": null,
   "metadata": {
    "tags": []
   },
   "outputs": [],
   "source": [
    "cases_spread = pd.DataFrame({\n",
    "  'country': [\"Afghanistan\", \"Brazil\", \"China\"],\n",
    "  1999: [745, 37737, 212258],\n",
    "  2000: [2666, 80488, 213766]  \n",
    "})\n",
    "cases_spread"
   ]
  },
  {
   "cell_type": "markdown",
   "metadata": {},
   "source": [
    "The first thing we can do in here is to `gather` this data:"
   ]
  },
  {
   "cell_type": "code",
   "execution_count": null,
   "metadata": {
    "scrolled": true,
    "slideshow": {
     "slide_type": "fragment"
    },
    "tags": []
   },
   "outputs": [],
   "source": [
    "cases_new = pd.melt(cases_spread, id_vars = 'country', var_name = 'year', value_name = 'cases')\n",
    "cases_new"
   ]
  },
  {
   "cell_type": "markdown",
   "metadata": {
    "slideshow": {
     "slide_type": "slide"
    }
   },
   "source": [
    "## Reshaping data (spread)\n",
    "\n",
    "Now, suppose you have this data:"
   ]
  },
  {
   "cell_type": "code",
   "execution_count": null,
   "metadata": {
    "tags": []
   },
   "outputs": [],
   "source": [
    "cases_new"
   ]
  },
  {
   "cell_type": "markdown",
   "metadata": {},
   "source": [
    "But you want to go back to the previous pattern:"
   ]
  },
  {
   "cell_type": "code",
   "execution_count": null,
   "metadata": {
    "scrolled": true,
    "slideshow": {
     "slide_type": "fragment"
    },
    "tags": []
   },
   "outputs": [],
   "source": [
    "pd.pivot(cases_new, index = 'country', columns = 'year', values = 'cases').reset_index()"
   ]
  },
  {
   "cell_type": "markdown",
   "metadata": {
    "slideshow": {
     "slide_type": "slide"
    }
   },
   "source": [
    "## Reshaping data\n",
    "\n",
    "**Your turn**: Create a dataset that separates the tips and total bills based on the people were smokers or non-smokers."
   ]
  },
  {
   "cell_type": "code",
   "execution_count": null,
   "metadata": {
    "tags": []
   },
   "outputs": [],
   "source": [
    "tips.head(2)"
   ]
  },
  {
   "cell_type": "markdown",
   "metadata": {
    "slideshow": {
     "slide_type": "slide"
    }
   },
   "source": [
    "# Great work!"
   ]
  }
 ],
 "metadata": {
  "celltoolbar": "Slideshow",
  "kernelspec": {
   "display_name": "Python 3 (ipykernel)",
   "language": "python",
   "name": "python3"
  },
  "language_info": {
   "codemirror_mode": {
    "name": "ipython",
    "version": 3
   },
   "file_extension": ".py",
   "mimetype": "text/x-python",
   "name": "python",
   "nbconvert_exporter": "python",
   "pygments_lexer": "ipython3",
   "version": "3.9.18"
  }
 },
 "nbformat": 4,
 "nbformat_minor": 4
}
