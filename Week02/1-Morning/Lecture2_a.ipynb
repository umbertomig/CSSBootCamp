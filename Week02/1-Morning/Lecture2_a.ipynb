{
 "cells": [
  {
   "cell_type": "markdown",
   "metadata": {
    "slideshow": {
     "slide_type": "slide"
    }
   },
   "source": [
    "# CSS 201.5 - CSS MA Bootcamp\n",
    "\n",
    "## Week 02 - Lecture 2 (morning)"
   ]
  },
  {
   "cell_type": "markdown",
   "metadata": {
    "slideshow": {
     "slide_type": "slide"
    }
   },
   "source": [
    "# Data Wrangling"
   ]
  },
  {
   "cell_type": "markdown",
   "metadata": {
    "slideshow": {
     "slide_type": "slide"
    }
   },
   "source": [
    "## Wrangling Categorical Variables"
   ]
  },
  {
   "cell_type": "code",
   "execution_count": 2,
   "metadata": {
    "execution": {
     "iopub.execute_input": "2024-07-09T14:19:32.639869Z",
     "iopub.status.busy": "2024-07-09T14:19:32.639664Z",
     "iopub.status.idle": "2024-07-09T14:19:33.597351Z",
     "shell.execute_reply": "2024-07-09T14:19:33.597048Z",
     "shell.execute_reply.started": "2024-07-09T14:19:32.639859Z"
    },
    "slideshow": {
     "slide_type": "fragment"
    }
   },
   "outputs": [],
   "source": [
    "## Loading a couple of friends in here\n",
    "import pandas as pd\n",
    "import numpy as np\n",
    "import matplotlib.pyplot as plt\n",
    "import seaborn as sns\n",
    "import plotly\n",
    "from plotly import express as px\n",
    "from plotly.subplots import make_subplots"
   ]
  },
  {
   "cell_type": "markdown",
   "metadata": {
    "slideshow": {
     "slide_type": "slide"
    }
   },
   "source": [
    "## Wrangling Categorical Variables"
   ]
  },
  {
   "cell_type": "code",
   "execution_count": 3,
   "metadata": {
    "execution": {
     "iopub.execute_input": "2024-07-09T14:19:34.450957Z",
     "iopub.status.busy": "2024-07-09T14:19:34.450397Z",
     "iopub.status.idle": "2024-07-09T14:19:36.065346Z",
     "shell.execute_reply": "2024-07-09T14:19:36.065024Z",
     "shell.execute_reply.started": "2024-07-09T14:19:34.450920Z"
    },
    "slideshow": {
     "slide_type": "fragment"
    }
   },
   "outputs": [
    {
     "data": {
      "text/html": [
       "<div>\n",
       "<style scoped>\n",
       "    .dataframe tbody tr th:only-of-type {\n",
       "        vertical-align: middle;\n",
       "    }\n",
       "\n",
       "    .dataframe tbody tr th {\n",
       "        vertical-align: top;\n",
       "    }\n",
       "\n",
       "    .dataframe thead th {\n",
       "        text-align: right;\n",
       "    }\n",
       "</style>\n",
       "<table border=\"1\" class=\"dataframe\">\n",
       "  <thead>\n",
       "    <tr style=\"text-align: right;\">\n",
       "      <th></th>\n",
       "      <th>region</th>\n",
       "      <th>income</th>\n",
       "      <th>happy</th>\n",
       "      <th>age</th>\n",
       "      <th>finrela</th>\n",
       "      <th>marital</th>\n",
       "      <th>degree</th>\n",
       "      <th>health</th>\n",
       "      <th>wrkstat</th>\n",
       "      <th>partyid</th>\n",
       "      <th>polviews</th>\n",
       "      <th>sex</th>\n",
       "      <th>year</th>\n",
       "    </tr>\n",
       "  </thead>\n",
       "  <tbody>\n",
       "    <tr>\n",
       "      <th>0</th>\n",
       "      <td>E. NOR. CENTRAL</td>\n",
       "      <td>$10000 - 14999</td>\n",
       "      <td>NOT TOO HAPPY</td>\n",
       "      <td>54.0</td>\n",
       "      <td>AVERAGE</td>\n",
       "      <td>MARRIED</td>\n",
       "      <td>LT HIGH SCHOOL</td>\n",
       "      <td>FAIR</td>\n",
       "      <td>WORKING FULLTIME</td>\n",
       "      <td>OTHER PARTY</td>\n",
       "      <td>NaN</td>\n",
       "      <td>MALE</td>\n",
       "      <td>1973</td>\n",
       "    </tr>\n",
       "    <tr>\n",
       "      <th>1</th>\n",
       "      <td>E. NOR. CENTRAL</td>\n",
       "      <td>$7000 TO 7999</td>\n",
       "      <td>VERY HAPPY</td>\n",
       "      <td>51.0</td>\n",
       "      <td>AVERAGE</td>\n",
       "      <td>MARRIED</td>\n",
       "      <td>LT HIGH SCHOOL</td>\n",
       "      <td>GOOD</td>\n",
       "      <td>KEEPING HOUSE</td>\n",
       "      <td>NOT STR DEMOCRAT</td>\n",
       "      <td>NaN</td>\n",
       "      <td>FEMALE</td>\n",
       "      <td>1973</td>\n",
       "    </tr>\n",
       "    <tr>\n",
       "      <th>2</th>\n",
       "      <td>E. NOR. CENTRAL</td>\n",
       "      <td>$10000 - 14999</td>\n",
       "      <td>PRETTY HAPPY</td>\n",
       "      <td>36.0</td>\n",
       "      <td>AVERAGE</td>\n",
       "      <td>MARRIED</td>\n",
       "      <td>LT HIGH SCHOOL</td>\n",
       "      <td>EXCELLENT</td>\n",
       "      <td>WORKING FULLTIME</td>\n",
       "      <td>IND NEAR REP</td>\n",
       "      <td>NaN</td>\n",
       "      <td>FEMALE</td>\n",
       "      <td>1973</td>\n",
       "    </tr>\n",
       "    <tr>\n",
       "      <th>3</th>\n",
       "      <td>E. NOR. CENTRAL</td>\n",
       "      <td>$10000 - 14999</td>\n",
       "      <td>PRETTY HAPPY</td>\n",
       "      <td>32.0</td>\n",
       "      <td>AVERAGE</td>\n",
       "      <td>MARRIED</td>\n",
       "      <td>HIGH SCHOOL</td>\n",
       "      <td>EXCELLENT</td>\n",
       "      <td>WORKING FULLTIME</td>\n",
       "      <td>NOT STR DEMOCRAT</td>\n",
       "      <td>NaN</td>\n",
       "      <td>MALE</td>\n",
       "      <td>1973</td>\n",
       "    </tr>\n",
       "    <tr>\n",
       "      <th>4</th>\n",
       "      <td>E. NOR. CENTRAL</td>\n",
       "      <td>$10000 - 14999</td>\n",
       "      <td>PRETTY HAPPY</td>\n",
       "      <td>54.0</td>\n",
       "      <td>AVERAGE</td>\n",
       "      <td>MARRIED</td>\n",
       "      <td>LT HIGH SCHOOL</td>\n",
       "      <td>GOOD</td>\n",
       "      <td>KEEPING HOUSE</td>\n",
       "      <td>IND NEAR REP</td>\n",
       "      <td>NaN</td>\n",
       "      <td>FEMALE</td>\n",
       "      <td>1973</td>\n",
       "    </tr>\n",
       "  </tbody>\n",
       "</table>\n",
       "</div>"
      ],
      "text/plain": [
       "            region          income          happy   age  finrela  marital  \\\n",
       "0  E. NOR. CENTRAL  $10000 - 14999  NOT TOO HAPPY  54.0  AVERAGE  MARRIED   \n",
       "1  E. NOR. CENTRAL   $7000 TO 7999     VERY HAPPY  51.0  AVERAGE  MARRIED   \n",
       "2  E. NOR. CENTRAL  $10000 - 14999   PRETTY HAPPY  36.0  AVERAGE  MARRIED   \n",
       "3  E. NOR. CENTRAL  $10000 - 14999   PRETTY HAPPY  32.0  AVERAGE  MARRIED   \n",
       "4  E. NOR. CENTRAL  $10000 - 14999   PRETTY HAPPY  54.0  AVERAGE  MARRIED   \n",
       "\n",
       "           degree     health           wrkstat           partyid polviews  \\\n",
       "0  LT HIGH SCHOOL       FAIR  WORKING FULLTIME       OTHER PARTY      NaN   \n",
       "1  LT HIGH SCHOOL       GOOD     KEEPING HOUSE  NOT STR DEMOCRAT      NaN   \n",
       "2  LT HIGH SCHOOL  EXCELLENT  WORKING FULLTIME      IND NEAR REP      NaN   \n",
       "3     HIGH SCHOOL  EXCELLENT  WORKING FULLTIME  NOT STR DEMOCRAT      NaN   \n",
       "4  LT HIGH SCHOOL       GOOD     KEEPING HOUSE      IND NEAR REP      NaN   \n",
       "\n",
       "      sex  year  \n",
       "0    MALE  1973  \n",
       "1  FEMALE  1973  \n",
       "2  FEMALE  1973  \n",
       "3    MALE  1973  \n",
       "4  FEMALE  1973  "
      ]
     },
     "execution_count": 3,
     "metadata": {},
     "output_type": "execute_result"
    }
   ],
   "source": [
    "# Loading the General Social Survey\n",
    "dat = pd.read_csv('https://raw.githubusercontent.com/umbertomig/qtm151/main/datasets/gss.csv')\n",
    "dat.head()"
   ]
  },
  {
   "cell_type": "markdown",
   "metadata": {
    "slideshow": {
     "slide_type": "slide"
    }
   },
   "source": [
    "## Wrangling Categorical Variables\n",
    "\n",
    "### Updating Categories\n",
    "\n",
    "We can rename categories using the `.rename_categories` method."
   ]
  },
  {
   "cell_type": "code",
   "execution_count": 8,
   "metadata": {
    "execution": {
     "iopub.execute_input": "2024-07-09T14:22:33.718148Z",
     "iopub.status.busy": "2024-07-09T14:22:33.717948Z",
     "iopub.status.idle": "2024-07-09T14:22:33.726751Z",
     "shell.execute_reply": "2024-07-09T14:22:33.726348Z",
     "shell.execute_reply.started": "2024-07-09T14:22:33.718138Z"
    },
    "scrolled": true,
    "slideshow": {
     "slide_type": "fragment"
    }
   },
   "outputs": [
    {
     "data": {
      "text/plain": [
       "EXTREMELY LIBERAL          1249\n",
       "LIBERAL                    5338\n",
       "SLIGHTLY LIBERAL           5973\n",
       "MODERATE                  17781\n",
       "SLIGHTLY CONSERVATIVE      7423\n",
       "CONSERVATIVE               6800\n",
       "EXTREMELY CONSERVATIVE     1438\n",
       "Name: count, dtype: int64"
      ]
     },
     "execution_count": 8,
     "metadata": {},
     "output_type": "execute_result"
    }
   ],
   "source": [
    "## Seeing it\n",
    "polv = pd.Series(\n",
    "    pd.Categorical(\n",
    "        dat.polviews, categories = [\n",
    "            'EXTREMELY LIBERAL', 'LIBERAL', 'SLIGHTLY LIBERAL', 'MODERATE', 'SLGHTLY CONSERVATIVE', 'CONSERVATIVE', 'EXTRMLY CONSERVATIVE'\n",
    "        ], \n",
    "        ordered = True)\n",
    ")\n",
    "polv3 = polv.cat.rename_categories(new_categories = {\n",
    "    'SLGHTLY CONSERVATIVE': 'SLIGHTLY CONSERVATIVE',\n",
    "    'EXTRMLY CONSERVATIVE': 'EXTREMELY CONSERVATIVE'\n",
    "})\n",
    "polv3.value_counts(sort = False)"
   ]
  },
  {
   "cell_type": "markdown",
   "metadata": {
    "slideshow": {
     "slide_type": "slide"
    }
   },
   "source": [
    "## Wrangling Categorical Variables\n",
    "\n",
    "### Updating Categories\n",
    "\n",
    "Your turn: fix the `degreevar` values."
   ]
  },
  {
   "cell_type": "code",
   "execution_count": 10,
   "metadata": {
    "execution": {
     "iopub.execute_input": "2024-07-09T14:25:21.588382Z",
     "iopub.status.busy": "2024-07-09T14:25:21.588202Z",
     "iopub.status.idle": "2024-07-09T14:25:21.594820Z",
     "shell.execute_reply": "2024-07-09T14:25:21.594390Z",
     "shell.execute_reply.started": "2024-07-09T14:25:21.588369Z"
    },
    "scrolled": true,
    "slideshow": {
     "slide_type": "fragment"
    }
   },
   "outputs": [
    {
     "data": {
      "text/plain": [
       "LT HIGH SCHOOL    11744\n",
       "HIGH SCHOOL       27549\n",
       "JUNIOR COLLEGE     2902\n",
       "BACHELOR           7524\n",
       "GRADUATE           3613\n",
       "Name: count, dtype: int64"
      ]
     },
     "execution_count": 10,
     "metadata": {},
     "output_type": "execute_result"
    }
   ],
   "source": [
    "## Seeing it\n",
    "degreevar = pd.Series(\n",
    "    pd.Categorical(\n",
    "        dat.degree, categories = [\n",
    "            'LT HIGH SCHOOL', 'HIGH SCHOOL', 'JUNIOR COLLEGE', 'BACHELOR', 'GRADUATE'\n",
    "        ], \n",
    "        ordered = True)\n",
    ")\n",
    "degreevar.value_counts(sort = False)"
   ]
  },
  {
   "cell_type": "markdown",
   "metadata": {
    "slideshow": {
     "slide_type": "slide"
    }
   },
   "source": [
    "## Wrangling Categorical Variables\n",
    "\n",
    "### Updating Categories\n",
    "\n",
    "And one nice way is that we can apply functions to the texts using this command."
   ]
  },
  {
   "cell_type": "code",
   "execution_count": 37,
   "metadata": {
    "scrolled": true,
    "slideshow": {
     "slide_type": "fragment"
    }
   },
   "outputs": [
    {
     "data": {
      "text/plain": [
       "Extremely Liberal          1249\n",
       "Liberal                    5338\n",
       "Slightly Liberal           5973\n",
       "Moderate                  17781\n",
       "Slightly Conservative      7423\n",
       "Conservative               6800\n",
       "Extremely Conservative     1438\n",
       "Name: polviews, dtype: int64"
      ]
     },
     "execution_count": 37,
     "metadata": {},
     "output_type": "execute_result"
    }
   ],
   "source": [
    "## Seeing it (no worries about lambda and title, we will learn those)\n",
    "polv6 = polv3.cat.rename_categories(lambda cat: cat.title())\n",
    "polv6.value_counts(sort = False)"
   ]
  },
  {
   "cell_type": "markdown",
   "metadata": {
    "slideshow": {
     "slide_type": "slide"
    }
   },
   "source": [
    "## Wrangling Categorical Variables\n",
    "\n",
    "**Exercise:** Do the same with the variable `degree`"
   ]
  },
  {
   "cell_type": "code",
   "execution_count": 38,
   "metadata": {},
   "outputs": [],
   "source": [
    "## Your code here"
   ]
  },
  {
   "cell_type": "markdown",
   "metadata": {
    "slideshow": {
     "slide_type": "slide"
    }
   },
   "source": [
    "## Wrangling Categorical Variables\n",
    "\n",
    "### Collapsing Categories"
   ]
  },
  {
   "cell_type": "code",
   "execution_count": 39,
   "metadata": {
    "scrolled": true,
    "slideshow": {
     "slide_type": "fragment"
    }
   },
   "outputs": [
    {
     "data": {
      "text/plain": [
       "Liberal         12560\n",
       "Moderate        17781\n",
       "Conservative    15661\n",
       "Name: polviews, dtype: int64"
      ]
     },
     "execution_count": 39,
     "metadata": {},
     "output_type": "execute_result"
    }
   ],
   "source": [
    "## collapsing\n",
    "polv7 = polv6.replace({\n",
    "    'Extremely Liberal': 'Liberal',\n",
    "    'Slightly Liberal': 'Liberal',\n",
    "    'Slightly Conservative': 'Conservative',\n",
    "    'Extremely Conservative': 'Conservative'\n",
    "})\n",
    "polv7.value_counts(sort = False)"
   ]
  },
  {
   "cell_type": "markdown",
   "metadata": {
    "slideshow": {
     "slide_type": "slide"
    }
   },
   "source": [
    "## Wrangling Categorical Variables\n",
    "\n",
    "**Exercise:** Collapse `degree` categories to just three categories of your choice."
   ]
  },
  {
   "cell_type": "code",
   "execution_count": 40,
   "metadata": {},
   "outputs": [],
   "source": [
    "## Your code here"
   ]
  },
  {
   "cell_type": "markdown",
   "metadata": {
    "slideshow": {
     "slide_type": "slide"
    }
   },
   "source": [
    "## Wrangling Categorical Variables\n",
    "\n",
    "### Reordering Categories"
   ]
  },
  {
   "cell_type": "code",
   "execution_count": 41,
   "metadata": {
    "scrolled": true,
    "slideshow": {
     "slide_type": "fragment"
    }
   },
   "outputs": [
    {
     "data": {
      "text/plain": [
       "Conservative    15661\n",
       "Moderate        17781\n",
       "Liberal         12560\n",
       "Name: polviews, dtype: int64"
      ]
     },
     "execution_count": 41,
     "metadata": {},
     "output_type": "execute_result"
    }
   ],
   "source": [
    "## reordering\n",
    "polv8 = polv7.cat.reorder_categories(\n",
    "    new_categories = ['Conservative', 'Moderate', 'Liberal'],\n",
    "    ordered = True\n",
    ")\n",
    "polv8.value_counts(sort = False)"
   ]
  },
  {
   "cell_type": "markdown",
   "metadata": {
    "slideshow": {
     "slide_type": "slide"
    }
   },
   "source": [
    "## Wrangling Categorical Variables\n",
    "\n",
    "**Exercise:** Reorder the `degree` categories."
   ]
  },
  {
   "cell_type": "code",
   "execution_count": 42,
   "metadata": {},
   "outputs": [],
   "source": [
    "## Your code here"
   ]
  },
  {
   "cell_type": "markdown",
   "metadata": {
    "slideshow": {
     "slide_type": "slide"
    }
   },
   "source": [
    "## Wrangling Categorical Variables\n",
    "\n",
    "### Wrong Data Types\n",
    "\n",
    "- Being, for example, object instead of category\n",
    "\n",
    "- We know how to deal with this!\n",
    "\n",
    "### Inconsistencies\n",
    "\n",
    "- It is very common that our data is inconsistent. \n",
    "    \n",
    "Example: `house`, `House`, ` House`, `HOUSE`. All the same for us, but all different for the computer."
   ]
  },
  {
   "cell_type": "code",
   "execution_count": 43,
   "metadata": {},
   "outputs": [
    {
     "data": {
      "text/plain": [
       "house     5\n",
       "House     3\n",
       "condo     2\n",
       "Condo     2\n",
       " house    1\n",
       "CONDO     1\n",
       " Condo    1\n",
       "Horse     1\n",
       "Hoseu     1\n",
       "Codno     1\n",
       "dtype: int64"
      ]
     },
     "execution_count": 43,
     "metadata": {},
     "output_type": "execute_result"
    }
   ],
   "source": [
    "myv = ['house', 'condo', ' house', 'condo', 'house',\n",
    "       'House', 'Condo', 'CONDO',  'House', 'house',\n",
    "       'House', 'house', 'house', 'Condo', ' Condo',\n",
    "       'Horse', 'Hoseu', 'Codno']\n",
    "myv = pd.Series(myv)\n",
    "myv.value_counts()"
   ]
  },
  {
   "cell_type": "markdown",
   "metadata": {
    "slideshow": {
     "slide_type": "slide"
    }
   },
   "source": [
    "## Wrangling Categorical Variables\n",
    "\n",
    "### Inconsistencies\n",
    "\n",
    "- Removing whitespace:"
   ]
  },
  {
   "cell_type": "code",
   "execution_count": 44,
   "metadata": {},
   "outputs": [
    {
     "data": {
      "text/plain": [
       "house    6\n",
       "House    3\n",
       "Condo    3\n",
       "condo    2\n",
       "CONDO    1\n",
       "Horse    1\n",
       "Hoseu    1\n",
       "Codno    1\n",
       "dtype: int64"
      ]
     },
     "execution_count": 44,
     "metadata": {},
     "output_type": "execute_result"
    }
   ],
   "source": [
    "myv = myv.str.strip() # Strip out whitespaces!\n",
    "myv.value_counts()"
   ]
  },
  {
   "cell_type": "markdown",
   "metadata": {
    "slideshow": {
     "slide_type": "slide"
    }
   },
   "source": [
    "## Wrangling Categorical Variables\n",
    "\n",
    "### Inconsistencies\n",
    "\n",
    "- Capitalization: we can use `.lower`, `.upper`, or `.title`\n",
    "    + `upper`: All upper case\n",
    "    + `lower`: All lower case\n",
    "    + `title`: Only first letter capitalized"
   ]
  },
  {
   "cell_type": "code",
   "execution_count": 45,
   "metadata": {},
   "outputs": [
    {
     "data": {
      "text/plain": [
       "House    9\n",
       "Condo    6\n",
       "Horse    1\n",
       "Hoseu    1\n",
       "Codno    1\n",
       "dtype: int64"
      ]
     },
     "execution_count": 45,
     "metadata": {},
     "output_type": "execute_result"
    }
   ],
   "source": [
    "myv = myv.str.title() # Make it title\n",
    "myv.value_counts()"
   ]
  },
  {
   "cell_type": "markdown",
   "metadata": {
    "slideshow": {
     "slide_type": "slide"
    }
   },
   "source": [
    "## Wrangling Categorical Variables\n",
    "\n",
    "### Misspelling\n",
    "\n",
    "- Example: `house`, `Hosue`."
   ]
  },
  {
   "cell_type": "code",
   "execution_count": 46,
   "metadata": {},
   "outputs": [
    {
     "data": {
      "text/plain": [
       "House    11\n",
       "Condo     7\n",
       "dtype: int64"
      ]
     },
     "execution_count": 46,
     "metadata": {},
     "output_type": "execute_result"
    }
   ],
   "source": [
    "myv = myv.replace({\n",
    "    'Horse': 'House',\n",
    "    'Hoseu': 'House',\n",
    "    'Codno': 'Condo',\n",
    "})\n",
    "myv.value_counts()"
   ]
  },
  {
   "cell_type": "markdown",
   "metadata": {
    "slideshow": {
     "slide_type": "slide"
    }
   },
   "source": [
    "## Wrangling Categorical Variables\n",
    "\n",
    "**Exercise:** Fix the following vector:"
   ]
  },
  {
   "cell_type": "code",
   "execution_count": 47,
   "metadata": {},
   "outputs": [],
   "source": [
    "vec = pd.Series(\n",
    "    ['yes', 'yes', 'yes', 'Yes', 'yEs', 'YESSS', ' yes',\n",
    "     ' yes ', 'no', 'nooo', '  no way', 'no', 'No', 'Nononono',\n",
    "     'Sure thing']\n",
    ")\n",
    "## Your code here"
   ]
  },
  {
   "cell_type": "markdown",
   "metadata": {
    "slideshow": {
     "slide_type": "slide"
    }
   },
   "source": [
    "## Wrangling Categorical Variables\n",
    "\n",
    "**Exercise**: Fix the remaining variables in this dataset. If you want, build this as a report."
   ]
  },
  {
   "cell_type": "code",
   "execution_count": 48,
   "metadata": {
    "slideshow": {
     "slide_type": "fragment"
    }
   },
   "outputs": [],
   "source": [
    "## Answers here (in case you don't want to build a report)"
   ]
  },
  {
   "cell_type": "markdown",
   "metadata": {
    "slideshow": {
     "slide_type": "slide"
    }
   },
   "source": [
    "# Wrangling Dates and Times"
   ]
  },
  {
   "cell_type": "markdown",
   "metadata": {
    "slideshow": {
     "slide_type": "slide"
    }
   },
   "source": [
    "## Wrangling Dates and Times\n",
    "\n",
    "Working with dates and times in a computer requires special methods.\n",
    "\n",
    "1. Representation: Dates and times have a complex and structured nature. Storing and manipulating these components in a consistent and reliable manner requires specific data structures and formats.\n",
    "\n",
    "1. Time Zones: Accurate handling of time zones is crucial for calculating time differences, scheduling events, and ensuring correct timestamps across different locations.\n",
    "\n",
    "1. Leap Years and Daylight Saving Time\n",
    "\n",
    "1. Arithmetic Operations: Dates and times often require arithmetic operations such as addition, subtraction, and comparison.\n",
    "\n",
    "1. Formatting and Localization: Displaying dates and times in a human-readable format, adhering to cultural conventions.\n",
    "\n",
    "1. Integration with External Systems: Dates and times often need to be exchanged and communicated with external systems, such as databases, APIs, and other software applications."
   ]
  },
  {
   "cell_type": "markdown",
   "metadata": {
    "slideshow": {
     "slide_type": "slide"
    }
   },
   "source": [
    "## Wrangling Dates and Times\n",
    "\n",
    "Let us look at this example:"
   ]
  },
  {
   "cell_type": "code",
   "execution_count": 49,
   "metadata": {
    "slideshow": {
     "slide_type": "fragment"
    }
   },
   "outputs": [],
   "source": [
    "# Here are two dates\n",
    "dts = ['5/17/2020', '12/2/2022']"
   ]
  },
  {
   "cell_type": "markdown",
   "metadata": {
    "slideshow": {
     "slide_type": "slide"
    }
   },
   "source": [
    "## Wrangling Dates and Times\n",
    "\n",
    "Let's get started by loading a package that deals with dates and times:"
   ]
  },
  {
   "cell_type": "code",
   "execution_count": 50,
   "metadata": {},
   "outputs": [],
   "source": [
    "# Dates and times handlers\n",
    "from datetime import date\n",
    "from datetime import timedelta\n",
    "from datetime import datetime as dtm\n",
    "from datetime import timezone as tmz"
   ]
  },
  {
   "cell_type": "markdown",
   "metadata": {
    "slideshow": {
     "slide_type": "slide"
    }
   },
   "source": [
    "## Wrangling Dates and Times\n",
    "\n",
    "- To create a date object:\n",
    "    + The order: `date(YEAR, MONTH, DAY)`"
   ]
  },
  {
   "cell_type": "code",
   "execution_count": 51,
   "metadata": {
    "slideshow": {
     "slide_type": "fragment"
    }
   },
   "outputs": [
    {
     "name": "stdout",
     "output_type": "stream",
     "text": [
      "2020-05-17\n",
      "\n",
      "2020\n",
      "\n",
      "5\n",
      "\n",
      "17\n",
      "\n"
     ]
    }
   ],
   "source": [
    "dts2 = [date(2020, 5, 17), date(2022, 12, 2)]\n",
    "print(dts2[0], end = '\\n\\n') # ISO formatted date!\n",
    "print(dts2[0].year, end = '\\n\\n')\n",
    "print(dts2[0].month, end = '\\n\\n')\n",
    "print(dts2[0].day, end = '\\n\\n')"
   ]
  },
  {
   "cell_type": "markdown",
   "metadata": {
    "slideshow": {
     "slide_type": "slide"
    }
   },
   "source": [
    "## Wrangling Dates and Times\n",
    "\n",
    "Weekdays:\n",
    "\n",
    "- 0 = Monday\n",
    "- 1 = Tuesday\n",
    "- .\n",
    "- .\n",
    "- .\n",
    "- 6 = Sunday"
   ]
  },
  {
   "cell_type": "code",
   "execution_count": 52,
   "metadata": {
    "slideshow": {
     "slide_type": "fragment"
    }
   },
   "outputs": [
    {
     "data": {
      "text/plain": [
       "6"
      ]
     },
     "execution_count": 52,
     "metadata": {},
     "output_type": "execute_result"
    }
   ],
   "source": [
    "dts2[0].weekday()"
   ]
  },
  {
   "cell_type": "markdown",
   "metadata": {
    "slideshow": {
     "slide_type": "slide"
    }
   },
   "source": [
    "## Wrangling Dates and Times\n",
    "\n",
    "**Exercise:** Find the weekday of the following date:"
   ]
  },
  {
   "cell_type": "code",
   "execution_count": 53,
   "metadata": {},
   "outputs": [],
   "source": [
    "mydate = date(2020, 1, 16)\n",
    "## Your code here"
   ]
  },
  {
   "cell_type": "markdown",
   "metadata": {
    "slideshow": {
     "slide_type": "slide"
    }
   },
   "source": [
    "## Wrangling Dates and Times\n",
    "\n",
    "### Math\n",
    "\n",
    "- The order of two dates is not trivial for a computer. For instance:"
   ]
  },
  {
   "cell_type": "code",
   "execution_count": 54,
   "metadata": {
    "slideshow": {
     "slide_type": "fragment"
    }
   },
   "outputs": [
    {
     "name": "stdout",
     "output_type": "stream",
     "text": [
      "['5/17/2020', '12/2/2022']\n"
     ]
    },
    {
     "data": {
      "text/plain": [
       "'12/2/2022'"
      ]
     },
     "execution_count": 54,
     "metadata": {},
     "output_type": "execute_result"
    }
   ],
   "source": [
    "print(dts)\n",
    "min(dts)"
   ]
  },
  {
   "cell_type": "code",
   "execution_count": 55,
   "metadata": {
    "slideshow": {
     "slide_type": "fragment"
    }
   },
   "outputs": [],
   "source": [
    "# Difference between two dates?\n",
    "# Run this and see: '12/2/2022' - '5/17/2020'"
   ]
  },
  {
   "cell_type": "markdown",
   "metadata": {
    "jp-MarkdownHeadingCollapsed": true,
    "slideshow": {
     "slide_type": "slide"
    },
    "tags": []
   },
   "source": [
    "## Wrangling Dates and Times\n",
    "\n",
    "### Math\n",
    "\n",
    "With date objects, things get less complicated:"
   ]
  },
  {
   "cell_type": "code",
   "execution_count": 56,
   "metadata": {
    "slideshow": {
     "slide_type": "fragment"
    }
   },
   "outputs": [
    {
     "name": "stdout",
     "output_type": "stream",
     "text": [
      "[datetime.date(2020, 5, 17), datetime.date(2022, 12, 2)]\n"
     ]
    },
    {
     "data": {
      "text/plain": [
       "datetime.date(2020, 5, 17)"
      ]
     },
     "execution_count": 56,
     "metadata": {},
     "output_type": "execute_result"
    }
   ],
   "source": [
    "print(dts2)\n",
    "min(dts2)"
   ]
  },
  {
   "cell_type": "code",
   "execution_count": 57,
   "metadata": {},
   "outputs": [
    {
     "data": {
      "text/plain": [
       "datetime.timedelta(days=929)"
      ]
     },
     "execution_count": 57,
     "metadata": {},
     "output_type": "execute_result"
    }
   ],
   "source": [
    "# Differences create something called a delta object:\n",
    "dts2[1] - dts2[0]"
   ]
  },
  {
   "cell_type": "code",
   "execution_count": 58,
   "metadata": {},
   "outputs": [
    {
     "data": {
      "text/plain": [
       "929"
      ]
     },
     "execution_count": 58,
     "metadata": {},
     "output_type": "execute_result"
    }
   ],
   "source": [
    "delta = dts2[1] - dts2[0]\n",
    "delta.days"
   ]
  },
  {
   "cell_type": "markdown",
   "metadata": {
    "slideshow": {
     "slide_type": "slide"
    }
   },
   "source": [
    "## Wrangling Dates and Times\n",
    "\n",
    "**Exercise:** Find the difference in days of the following dates"
   ]
  },
  {
   "cell_type": "code",
   "execution_count": 59,
   "metadata": {},
   "outputs": [],
   "source": [
    "mydate1 = date(2020, 1, 16)\n",
    "mydate2 = date(2021, 3, 26)\n",
    "## Your code here"
   ]
  },
  {
   "cell_type": "markdown",
   "metadata": {
    "slideshow": {
     "slide_type": "slide"
    }
   },
   "source": [
    "## Wrangling Dates and Times\n",
    "\n",
    "### Math\n",
    "\n",
    "What day it is going to be exactly 30 days from now?\n",
    "\n",
    "We can use `timedelta` to create the difference and add it to today's date."
   ]
  },
  {
   "cell_type": "code",
   "execution_count": 60,
   "metadata": {
    "slideshow": {
     "slide_type": "fragment"
    }
   },
   "outputs": [
    {
     "name": "stdout",
     "output_type": "stream",
     "text": [
      "2023-07-07\n",
      "2023-08-06\n"
     ]
    }
   ],
   "source": [
    "# Descriptive of irrigation\n",
    "print(date.today())\n",
    "print(date.today() + timedelta(days = 30))"
   ]
  },
  {
   "cell_type": "markdown",
   "metadata": {
    "slideshow": {
     "slide_type": "slide"
    }
   },
   "source": [
    "## Wrangling Dates and Times\n",
    "\n",
    "### Turning dates back to strings\n",
    "\n",
    "- ISO dates: \n",
    "    + Format: 'YYYY-MM-DD'\n",
    "    + Great for computation, since they are always the same length.\n",
    "    + It adds zeros\n",
    "    + Even if it is a string, it sorts correctly!"
   ]
  },
  {
   "cell_type": "code",
   "execution_count": 61,
   "metadata": {
    "scrolled": true,
    "slideshow": {
     "slide_type": "fragment"
    }
   },
   "outputs": [
    {
     "name": "stdout",
     "output_type": "stream",
     "text": [
      "2023-07-07\n"
     ]
    }
   ],
   "source": [
    "print(date.today())"
   ]
  },
  {
   "cell_type": "markdown",
   "metadata": {
    "slideshow": {
     "slide_type": "fragment"
    }
   },
   "source": [
    "Express the data into ISO format:"
   ]
  },
  {
   "cell_type": "code",
   "execution_count": 62,
   "metadata": {
    "slideshow": {
     "slide_type": "fragment"
    }
   },
   "outputs": [
    {
     "data": {
      "text/plain": [
       "'2023-07-07'"
      ]
     },
     "execution_count": 62,
     "metadata": {},
     "output_type": "execute_result"
    }
   ],
   "source": [
    "date.today().isoformat() # Creates a string!"
   ]
  },
  {
   "cell_type": "markdown",
   "metadata": {
    "slideshow": {
     "slide_type": "slide"
    }
   },
   "source": [
    "## Wrangling Dates and Times\n",
    "\n",
    "### Turning dates back to strings\n",
    "\n",
    "- Custom dates: We will use the `strftime`\n",
    "    + '%Y': Year\n",
    "    + '%m': Month\n",
    "    + '%d': Day\n",
    "    + '%B': Month\n",
    "    + '%D': US format\n",
    "    + And others [here](https://strftime.org)"
   ]
  },
  {
   "cell_type": "code",
   "execution_count": 63,
   "metadata": {
    "scrolled": true,
    "slideshow": {
     "slide_type": "fragment"
    }
   },
   "outputs": [
    {
     "name": "stdout",
     "output_type": "stream",
     "text": [
      "2023\n",
      "\n",
      "The year is 2023\n",
      "\n",
      "July (2023)\n",
      "\n",
      "2023/07/07\n",
      "\n",
      "2023-188\n",
      "\n",
      "07/07/23\n",
      "\n"
     ]
    }
   ],
   "source": [
    "print(date.today().strftime('%Y'), end = '\\n\\n')\n",
    "print(date.today().strftime('The year is %Y'), end = '\\n\\n')\n",
    "print(date.today().strftime('%B (%Y)'), end = '\\n\\n')\n",
    "print(date.today().strftime('%Y/%m/%d'), end = '\\n\\n')\n",
    "print(date.today().strftime('%Y-%j'), end = '\\n\\n')\n",
    "print(date.today().strftime('%D'), end = '\\n\\n')"
   ]
  },
  {
   "cell_type": "markdown",
   "metadata": {
    "slideshow": {
     "slide_type": "slide"
    }
   },
   "source": [
    "## Wrangling Dates and Times\n",
    "\n",
    "**Exercise:** Print each of these dates in four different formats based on the formats in [here](https://strftime.org)."
   ]
  },
  {
   "cell_type": "code",
   "execution_count": 64,
   "metadata": {},
   "outputs": [],
   "source": [
    "mydate1 = date(2020, 1, 16)\n",
    "mydate2 = date(2021, 3, 26)\n",
    "## Your code here"
   ]
  },
  {
   "cell_type": "markdown",
   "metadata": {
    "slideshow": {
     "slide_type": "slide"
    }
   },
   "source": [
    "## Wrangling Dates and Times\n",
    "\n",
    "### Times and dates\n",
    "\n",
    "Sometimes, we also have to work with times: E.g., detect credit card fraud!\n",
    "\n",
    "For instance:\n",
    "\n",
    ">\n",
    "> May, 12 2021, 3:23:15 PM\n",
    "> \n",
    "\n",
    "Means:"
   ]
  },
  {
   "cell_type": "code",
   "execution_count": 65,
   "metadata": {
    "slideshow": {
     "slide_type": "fragment"
    }
   },
   "outputs": [
    {
     "data": {
      "text/plain": [
       "datetime.datetime(2021, 5, 12, 15, 23, 25)"
      ]
     },
     "execution_count": 65,
     "metadata": {},
     "output_type": "execute_result"
    }
   ],
   "source": [
    "# Computers work with 24-h settings\n",
    "dt1 = dtm(2021, 5, 12, 15, 23, 25)\n",
    "dt1"
   ]
  },
  {
   "cell_type": "markdown",
   "metadata": {
    "slideshow": {
     "slide_type": "slide"
    }
   },
   "source": [
    "## Wrangling Dates and Times\n",
    "\n",
    "### Times and dates\n",
    "\n",
    "We can display the dates nicely:"
   ]
  },
  {
   "cell_type": "code",
   "execution_count": 66,
   "metadata": {},
   "outputs": [
    {
     "name": "stdout",
     "output_type": "stream",
     "text": [
      "2021-05-12T15:23:25\n",
      "\n",
      "2021-05-12\n",
      "\n",
      "2021-05-12 15:23:25\n",
      "\n",
      "The thing happened in-on-at (no idea...) 15:23:25 in-on-at 2021-05-12\n",
      "\n"
     ]
    }
   ],
   "source": [
    "print(dt1.isoformat(), end = '\\n\\n')\n",
    "print(dt1.strftime('%Y-%m-%d'), end = '\\n\\n')\n",
    "print(dt1.strftime('%Y-%m-%d %H:%M:%S'), end = '\\n\\n')\n",
    "print(dt1.strftime('The thing happened in-on-at (no idea...) %H:%M:%S in-on-at %Y-%m-%d'), end = '\\n\\n')"
   ]
  },
  {
   "cell_type": "markdown",
   "metadata": {
    "slideshow": {
     "slide_type": "slide"
    }
   },
   "source": [
    "## Wrangling Dates and Times\n",
    "\n",
    "### Times and dates\n",
    "\n",
    "And if we have data in the same format, such as:"
   ]
  },
  {
   "cell_type": "code",
   "execution_count": 67,
   "metadata": {},
   "outputs": [
    {
     "name": "stdout",
     "output_type": "stream",
     "text": [
      "05/12/2021 15:23:25\n"
     ]
    }
   ],
   "source": [
    "mydt = dt1.strftime('%m/%d/%Y %H:%M:%S')\n",
    "print(mydt)"
   ]
  },
  {
   "cell_type": "markdown",
   "metadata": {
    "slideshow": {
     "slide_type": "fragment"
    }
   },
   "source": [
    "We can easily parse it:"
   ]
  },
  {
   "cell_type": "code",
   "execution_count": 68,
   "metadata": {
    "slideshow": {
     "slide_type": "slide"
    }
   },
   "outputs": [
    {
     "data": {
      "text/plain": [
       "datetime.datetime(2021, 5, 12, 15, 23, 25)"
      ]
     },
     "execution_count": 68,
     "metadata": {},
     "output_type": "execute_result"
    }
   ],
   "source": [
    "dtm.strptime(mydt, '%m/%d/%Y %H:%M:%S')"
   ]
  },
  {
   "cell_type": "markdown",
   "metadata": {
    "slideshow": {
     "slide_type": "slide"
    }
   },
   "source": [
    "## Wrangling Dates and Times\n",
    "\n",
    "### Timedeltas and duration\n",
    "\n",
    "As we see before, we can create time differences (or timedeltas) by subtracting one date from another:"
   ]
  },
  {
   "cell_type": "code",
   "execution_count": 69,
   "metadata": {
    "slideshow": {
     "slide_type": "fragment"
    }
   },
   "outputs": [],
   "source": [
    "begin = dtm(2021, 5, 5, 23, 20, 2)\n",
    "end = dtm(2021, 7, 5, 8, 15, 22)\n",
    "delta = end - begin"
   ]
  },
  {
   "cell_type": "markdown",
   "metadata": {
    "slideshow": {
     "slide_type": "slide"
    }
   },
   "source": [
    "## Wrangling Dates and Times\n",
    "\n",
    "### Timedeltas and duration"
   ]
  },
  {
   "cell_type": "code",
   "execution_count": 70,
   "metadata": {
    "slideshow": {
     "slide_type": "fragment"
    }
   },
   "outputs": [
    {
     "data": {
      "text/plain": [
       "5216120.0"
      ]
     },
     "execution_count": 70,
     "metadata": {},
     "output_type": "execute_result"
    }
   ],
   "source": [
    "delta.total_seconds()"
   ]
  },
  {
   "cell_type": "markdown",
   "metadata": {
    "slideshow": {
     "slide_type": "slide"
    }
   },
   "source": [
    "## Wrangling Dates and Times\n",
    "\n",
    "**Exercise:** Read the following date and time correctly: \"Jan 16, 2021 at 3:30 AM\""
   ]
  },
  {
   "cell_type": "code",
   "execution_count": 71,
   "metadata": {},
   "outputs": [],
   "source": [
    "# Your answers here"
   ]
  },
  {
   "cell_type": "markdown",
   "metadata": {
    "slideshow": {
     "slide_type": "slide"
    }
   },
   "source": [
    "## Wrangling Dates and Times\n",
    "\n",
    "### Timezone"
   ]
  },
  {
   "cell_type": "code",
   "execution_count": 72,
   "metadata": {
    "slideshow": {
     "slide_type": "fragment"
    }
   },
   "outputs": [
    {
     "name": "stdout",
     "output_type": "stream",
     "text": [
      "2021-05-12 15:23:25-07:00\n"
     ]
    }
   ],
   "source": [
    "# Timezone PDT\n",
    "PDT = tmz(timedelta(hours = -7))\n",
    "\n",
    "# Date and time in an specific time zone\n",
    "dtPDT = dtm(2021, 5, 12, 15, 23, 25, tzinfo = PDT)\n",
    "print(dtPDT)"
   ]
  },
  {
   "cell_type": "code",
   "execution_count": 73,
   "metadata": {},
   "outputs": [
    {
     "name": "stdout",
     "output_type": "stream",
     "text": [
      "2021-05-12 15:23:25\n",
      "2021-05-12 17:23:25-05:00\n"
     ]
    }
   ],
   "source": [
    "# Or we can adjust\n",
    "ET = tmz(timedelta(hours = -5))\n",
    "\n",
    "# Before\n",
    "print(dt1)\n",
    "\n",
    "# After\n",
    "dtET = dt1.astimezone(ET)\n",
    "print(dtET)"
   ]
  },
  {
   "cell_type": "markdown",
   "metadata": {
    "slideshow": {
     "slide_type": "slide"
    }
   },
   "source": [
    "## Wrangling Dates and Times\n",
    "\n",
    "**Exercise:** Change `dt1` to India time zone (UTC+3:30)."
   ]
  },
  {
   "cell_type": "code",
   "execution_count": 74,
   "metadata": {},
   "outputs": [],
   "source": [
    "# Your answers here"
   ]
  },
  {
   "cell_type": "markdown",
   "metadata": {
    "slideshow": {
     "slide_type": "slide"
    }
   },
   "source": [
    "## Wrangling Dates and Times\n",
    "\n",
    "### Pandas"
   ]
  },
  {
   "cell_type": "code",
   "execution_count": 75,
   "metadata": {
    "slideshow": {
     "slide_type": "fragment"
    }
   },
   "outputs": [],
   "source": [
    "# Datasets\n",
    "dat2 = pd.read_csv('https://raw.githubusercontent.com/umbertomig/elements_css/main/lakers.csv')\n",
    "dat3 = pd.read_csv('https://raw.githubusercontent.com/umbertomig/elements_css/main/nyc13flight.csv')"
   ]
  },
  {
   "cell_type": "markdown",
   "metadata": {
    "slideshow": {
     "slide_type": "slide"
    }
   },
   "source": [
    "## Wrangling Dates and Times\n",
    "\n",
    "**Exercise**: Explore these datasets."
   ]
  },
  {
   "cell_type": "code",
   "execution_count": 76,
   "metadata": {
    "slideshow": {
     "slide_type": "fragment"
    }
   },
   "outputs": [],
   "source": [
    "# Your code here"
   ]
  },
  {
   "cell_type": "markdown",
   "metadata": {
    "slideshow": {
     "slide_type": "slide"
    }
   },
   "source": [
    "## Wrangling Dates and Times\n",
    "\n",
    "### Pandas\n",
    "\n",
    "To parse dates and times on pandas, we use the to_datetime method:"
   ]
  },
  {
   "cell_type": "code",
   "execution_count": 75,
   "metadata": {
    "slideshow": {
     "slide_type": "fragment"
    }
   },
   "outputs": [],
   "source": [
    "# More on that later..."
   ]
  },
  {
   "cell_type": "markdown",
   "metadata": {
    "slideshow": {
     "slide_type": "slide"
    }
   },
   "source": [
    "# Great work!"
   ]
  }
 ],
 "metadata": {
  "celltoolbar": "Slideshow",
  "kernelspec": {
   "display_name": "Python 3 (ipykernel)",
   "language": "python",
   "name": "python3"
  },
  "language_info": {
   "codemirror_mode": {
    "name": "ipython",
    "version": 3
   },
   "file_extension": ".py",
   "mimetype": "text/x-python",
   "name": "python",
   "nbconvert_exporter": "python",
   "pygments_lexer": "ipython3",
   "version": "3.9.18"
  }
 },
 "nbformat": 4,
 "nbformat_minor": 4
}
