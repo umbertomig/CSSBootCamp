{
 "cells": [
  {
   "cell_type": "markdown",
   "metadata": {
    "slideshow": {
     "slide_type": "slide"
    }
   },
   "source": [
    "# CSS 201.5 - CSS MA Bootcamp\n",
    "\n",
    "## Lecture 01 - Week 02\n",
    "\n",
    "### Advanced Data Analysis in Python"
   ]
  },
  {
   "cell_type": "markdown",
   "metadata": {
    "slideshow": {
     "slide_type": "slide"
    }
   },
   "source": [
    "## Recap\n",
    "\n",
    "We learned:\n",
    "\n",
    "1. `pandas`\n",
    "2. Loading CSV data\n",
    "3. Checking the dataset\n",
    "4. Creating plots\n",
    "5. Creating `plotly` interactive plots\n",
    "\n",
    "Great work! Any questions about these contents?"
   ]
  },
  {
   "cell_type": "markdown",
   "metadata": {
    "slideshow": {
     "slide_type": "slide"
    }
   },
   "source": [
    "## Today\n",
    "\n",
    "This week, we start with data wrangling.\n",
    "\n",
    "This is the most of what you will do in your jobs, so pay attention to these parts.\n",
    "\n",
    "They are also very boring, what makes us try to not pay attention at all.\n",
    "\n",
    "Today we will do ***categorical variables***."
   ]
  },
  {
   "cell_type": "markdown",
   "metadata": {
    "slideshow": {
     "slide_type": "slide"
    }
   },
   "source": [
    "# Data Wrangling"
   ]
  },
  {
   "cell_type": "markdown",
   "metadata": {
    "slideshow": {
     "slide_type": "slide"
    }
   },
   "source": [
    "## Data Wrangling\n",
    "\n",
    "Data wrangling, also known as data munging or data preprocessing, refers to the process of cleaning, transforming, and preparing raw data into a structured format suitable for analysis. Here are some common tasks involved in data wrangling:\n",
    "\n",
    "1. Data cleaning: Handling missing values, dealing with outliers, correcting inconsistent or inaccurate data.\n",
    "\n",
    "1. Data integration: When working with multiple data sources, data integration involves combining data from different sources into a single dataset.\n",
    "\n",
    "1. Data transformation: Data transformation involves converting data into a suitable format for analysis.\n",
    "\n",
    "1. Data reduction: In some cases, the original dataset may be too large or contain unnecessary variables. Data reduction involves selecting relevant variables and reducing the size of the dataset without losing critical information.\n",
    "\n",
    "1. Handling inconsistencies: Addressing inconsistencies in the data, such as inconsistent formatting, inconsistent units of measurement, or inconsistent categorical values.\n",
    "\n",
    "\n",
    "Data wrangling is the most important skills you are going to learn as a Computational Social Scientist. It is a crucial step in the data analysis pipeline, as the quality of the final analysis depend on the quality of the prepared data."
   ]
  },
  {
   "cell_type": "markdown",
   "metadata": {
    "slideshow": {
     "slide_type": "slide"
    }
   },
   "source": [
    "# Wrangling Categorical Variables"
   ]
  },
  {
   "cell_type": "markdown",
   "metadata": {
    "slideshow": {
     "slide_type": "slide"
    }
   },
   "source": [
    "## Wrangling Categorical Variables\n",
    "\n",
    "- **Categorical variable**: Variable that represents qualitative data, often organized into discrete categories or groups.\n",
    "\n",
    "- It can take on a limited number of distinct values or levels, where each value represents a particular group or category."
   ]
  },
  {
   "cell_type": "markdown",
   "metadata": {
    "slideshow": {
     "slide_type": "slide"
    }
   },
   "source": [
    "## Wrangling Categorical Variables\n",
    "\n",
    "- Categorical variables are commonly used to classify or describe characteristics, attributes, or qualities.\n",
    "\n",
    "- Examples of categorical variables:\n",
    "    + *Gender* (male, female, and others)\n",
    "    + *Marital status* (single, married, divorced, etc)\n",
    "    + *Educational level* (high school, college, graduate, etc)."
   ]
  },
  {
   "cell_type": "markdown",
   "metadata": {
    "slideshow": {
     "slide_type": "slide"
    }
   },
   "source": [
    "## Wrangling Categorical Variables\n",
    "\n",
    "- Categorical variables can be further classified into:\n",
    "    + **Nominal**: Categories have no inherent order\n",
    "    + **Ordinal**: Categories have a specific order or ranking."
   ]
  },
  {
   "cell_type": "markdown",
   "metadata": {
    "slideshow": {
     "slide_type": "slide"
    }
   },
   "source": [
    "## Wrangling Categorical Variables"
   ]
  },
  {
   "cell_type": "code",
   "execution_count": 1,
   "metadata": {
    "slideshow": {
     "slide_type": "fragment"
    }
   },
   "outputs": [],
   "source": [
    "## Loading a couple of friends in here\n",
    "import pandas as pd\n",
    "import numpy as np\n",
    "import matplotlib.pyplot as plt\n",
    "import seaborn as sns\n",
    "import plotly\n",
    "from plotly import express as px\n",
    "from plotly.subplots import make_subplots"
   ]
  },
  {
   "cell_type": "markdown",
   "metadata": {
    "slideshow": {
     "slide_type": "slide"
    }
   },
   "source": [
    "## Wrangling Categorical Variables"
   ]
  },
  {
   "cell_type": "code",
   "execution_count": 2,
   "metadata": {
    "slideshow": {
     "slide_type": "fragment"
    }
   },
   "outputs": [
    {
     "data": {
      "text/html": [
       "<div>\n",
       "<style scoped>\n",
       "    .dataframe tbody tr th:only-of-type {\n",
       "        vertical-align: middle;\n",
       "    }\n",
       "\n",
       "    .dataframe tbody tr th {\n",
       "        vertical-align: top;\n",
       "    }\n",
       "\n",
       "    .dataframe thead th {\n",
       "        text-align: right;\n",
       "    }\n",
       "</style>\n",
       "<table border=\"1\" class=\"dataframe\">\n",
       "  <thead>\n",
       "    <tr style=\"text-align: right;\">\n",
       "      <th></th>\n",
       "      <th>region</th>\n",
       "      <th>income</th>\n",
       "      <th>happy</th>\n",
       "      <th>age</th>\n",
       "      <th>finrela</th>\n",
       "      <th>marital</th>\n",
       "      <th>degree</th>\n",
       "      <th>health</th>\n",
       "      <th>wrkstat</th>\n",
       "      <th>partyid</th>\n",
       "      <th>polviews</th>\n",
       "      <th>sex</th>\n",
       "      <th>year</th>\n",
       "    </tr>\n",
       "  </thead>\n",
       "  <tbody>\n",
       "    <tr>\n",
       "      <th>0</th>\n",
       "      <td>E. NOR. CENTRAL</td>\n",
       "      <td>$10000 - 14999</td>\n",
       "      <td>NOT TOO HAPPY</td>\n",
       "      <td>54.0</td>\n",
       "      <td>AVERAGE</td>\n",
       "      <td>MARRIED</td>\n",
       "      <td>LT HIGH SCHOOL</td>\n",
       "      <td>FAIR</td>\n",
       "      <td>WORKING FULLTIME</td>\n",
       "      <td>OTHER PARTY</td>\n",
       "      <td>NaN</td>\n",
       "      <td>MALE</td>\n",
       "      <td>1973</td>\n",
       "    </tr>\n",
       "    <tr>\n",
       "      <th>1</th>\n",
       "      <td>E. NOR. CENTRAL</td>\n",
       "      <td>$7000 TO 7999</td>\n",
       "      <td>VERY HAPPY</td>\n",
       "      <td>51.0</td>\n",
       "      <td>AVERAGE</td>\n",
       "      <td>MARRIED</td>\n",
       "      <td>LT HIGH SCHOOL</td>\n",
       "      <td>GOOD</td>\n",
       "      <td>KEEPING HOUSE</td>\n",
       "      <td>NOT STR DEMOCRAT</td>\n",
       "      <td>NaN</td>\n",
       "      <td>FEMALE</td>\n",
       "      <td>1973</td>\n",
       "    </tr>\n",
       "    <tr>\n",
       "      <th>2</th>\n",
       "      <td>E. NOR. CENTRAL</td>\n",
       "      <td>$10000 - 14999</td>\n",
       "      <td>PRETTY HAPPY</td>\n",
       "      <td>36.0</td>\n",
       "      <td>AVERAGE</td>\n",
       "      <td>MARRIED</td>\n",
       "      <td>LT HIGH SCHOOL</td>\n",
       "      <td>EXCELLENT</td>\n",
       "      <td>WORKING FULLTIME</td>\n",
       "      <td>IND NEAR REP</td>\n",
       "      <td>NaN</td>\n",
       "      <td>FEMALE</td>\n",
       "      <td>1973</td>\n",
       "    </tr>\n",
       "    <tr>\n",
       "      <th>3</th>\n",
       "      <td>E. NOR. CENTRAL</td>\n",
       "      <td>$10000 - 14999</td>\n",
       "      <td>PRETTY HAPPY</td>\n",
       "      <td>32.0</td>\n",
       "      <td>AVERAGE</td>\n",
       "      <td>MARRIED</td>\n",
       "      <td>HIGH SCHOOL</td>\n",
       "      <td>EXCELLENT</td>\n",
       "      <td>WORKING FULLTIME</td>\n",
       "      <td>NOT STR DEMOCRAT</td>\n",
       "      <td>NaN</td>\n",
       "      <td>MALE</td>\n",
       "      <td>1973</td>\n",
       "    </tr>\n",
       "    <tr>\n",
       "      <th>4</th>\n",
       "      <td>E. NOR. CENTRAL</td>\n",
       "      <td>$10000 - 14999</td>\n",
       "      <td>PRETTY HAPPY</td>\n",
       "      <td>54.0</td>\n",
       "      <td>AVERAGE</td>\n",
       "      <td>MARRIED</td>\n",
       "      <td>LT HIGH SCHOOL</td>\n",
       "      <td>GOOD</td>\n",
       "      <td>KEEPING HOUSE</td>\n",
       "      <td>IND NEAR REP</td>\n",
       "      <td>NaN</td>\n",
       "      <td>FEMALE</td>\n",
       "      <td>1973</td>\n",
       "    </tr>\n",
       "  </tbody>\n",
       "</table>\n",
       "</div>"
      ],
      "text/plain": [
       "            region          income          happy   age  finrela  marital  \\\n",
       "0  E. NOR. CENTRAL  $10000 - 14999  NOT TOO HAPPY  54.0  AVERAGE  MARRIED   \n",
       "1  E. NOR. CENTRAL   $7000 TO 7999     VERY HAPPY  51.0  AVERAGE  MARRIED   \n",
       "2  E. NOR. CENTRAL  $10000 - 14999   PRETTY HAPPY  36.0  AVERAGE  MARRIED   \n",
       "3  E. NOR. CENTRAL  $10000 - 14999   PRETTY HAPPY  32.0  AVERAGE  MARRIED   \n",
       "4  E. NOR. CENTRAL  $10000 - 14999   PRETTY HAPPY  54.0  AVERAGE  MARRIED   \n",
       "\n",
       "           degree     health           wrkstat           partyid polviews  \\\n",
       "0  LT HIGH SCHOOL       FAIR  WORKING FULLTIME       OTHER PARTY      NaN   \n",
       "1  LT HIGH SCHOOL       GOOD     KEEPING HOUSE  NOT STR DEMOCRAT      NaN   \n",
       "2  LT HIGH SCHOOL  EXCELLENT  WORKING FULLTIME      IND NEAR REP      NaN   \n",
       "3     HIGH SCHOOL  EXCELLENT  WORKING FULLTIME  NOT STR DEMOCRAT      NaN   \n",
       "4  LT HIGH SCHOOL       GOOD     KEEPING HOUSE      IND NEAR REP      NaN   \n",
       "\n",
       "      sex  year  \n",
       "0    MALE  1973  \n",
       "1  FEMALE  1973  \n",
       "2  FEMALE  1973  \n",
       "3    MALE  1973  \n",
       "4  FEMALE  1973  "
      ]
     },
     "execution_count": 2,
     "metadata": {},
     "output_type": "execute_result"
    }
   ],
   "source": [
    "# Loading the General Social Survey\n",
    "dat = pd.read_csv('gss.csv')\n",
    "dat.head()"
   ]
  },
  {
   "cell_type": "markdown",
   "metadata": {
    "slideshow": {
     "slide_type": "slide"
    }
   },
   "source": [
    "## Wrangling Categorical Variables\n",
    "\n",
    "**Exercise:** Explore the data.\n",
    "\n",
    "1. Make at least two plots\n",
    "2. Generate at least two descriptive stats\n",
    "3. How about missing data? Tell me something about that and if there is, do something about it.\n",
    "\n",
    "Feel free to ask me the meaning of the variables, if it is not clear."
   ]
  },
  {
   "cell_type": "code",
   "execution_count": 3,
   "metadata": {},
   "outputs": [],
   "source": [
    "## Your code here"
   ]
  },
  {
   "cell_type": "markdown",
   "metadata": {
    "slideshow": {
     "slide_type": "slide"
    }
   },
   "source": [
    "## Wrangling Categorical Variables\n",
    "\n",
    "The first step to take is to explore the variables. There are two ways to do that:\n",
    "\n",
    "1. `.describe()`\n",
    "2. `.value_counts()`"
   ]
  },
  {
   "cell_type": "code",
   "execution_count": 4,
   "metadata": {
    "scrolled": true,
    "slideshow": {
     "slide_type": "fragment"
    }
   },
   "outputs": [
    {
     "name": "stdout",
     "output_type": "stream",
     "text": [
      "count     40273\n",
      "unique        6\n",
      "top        GOOD\n",
      "freq      17747\n",
      "Name: health, dtype: object\n",
      "\n",
      "\n",
      "GOOD         17747\n",
      "EXCELLENT    12135\n",
      "FAIR          7402\n",
      "POOR          2224\n",
      "IAP            763\n",
      "DK               2\n",
      "Name: health, dtype: int64\n"
     ]
    }
   ],
   "source": [
    "# Health status\n",
    "print(dat.health.describe(), end = '\\n\\n\\n')\n",
    "print(dat.health.value_counts())"
   ]
  },
  {
   "cell_type": "markdown",
   "metadata": {
    "slideshow": {
     "slide_type": "slide"
    }
   },
   "source": [
    "## Wrangling Categorical Variables\n",
    "\n",
    "**Exercise:** Do the same with the variable `polviews`."
   ]
  },
  {
   "cell_type": "code",
   "execution_count": 5,
   "metadata": {},
   "outputs": [],
   "source": [
    "## Your code here"
   ]
  },
  {
   "cell_type": "markdown",
   "metadata": {
    "slideshow": {
     "slide_type": "slide"
    }
   },
   "source": [
    "## Wrangling Categorical Variables\n",
    "\n",
    "The second thing we can do is to identify data and categorical data we have. \n",
    "\n",
    "We should print the data type:"
   ]
  },
  {
   "cell_type": "code",
   "execution_count": 6,
   "metadata": {
    "slideshow": {
     "slide_type": "fragment"
    }
   },
   "outputs": [
    {
     "data": {
      "text/plain": [
       "region       object\n",
       "income       object\n",
       "happy        object\n",
       "age         float64\n",
       "finrela      object\n",
       "marital      object\n",
       "degree       object\n",
       "health       object\n",
       "wrkstat      object\n",
       "partyid      object\n",
       "polviews     object\n",
       "sex          object\n",
       "year          int64\n",
       "dtype: object"
      ]
     },
     "execution_count": 6,
     "metadata": {},
     "output_type": "execute_result"
    }
   ],
   "source": [
    "dat.dtypes"
   ]
  },
  {
   "cell_type": "markdown",
   "metadata": {
    "jp-MarkdownHeadingCollapsed": true,
    "slideshow": {
     "slide_type": "slide"
    },
    "tags": []
   },
   "source": [
    "## Wrangling Categorical Variables\n",
    "\n",
    "Data types can be:\n",
    "\n",
    "- `int`: Numerical integer data\n",
    "- `float`: Numerical continuous data\n",
    "- `object`: Something else...\n",
    "- others\n",
    "\n",
    "We want it to be `category`."
   ]
  },
  {
   "cell_type": "code",
   "execution_count": 7,
   "metadata": {},
   "outputs": [
    {
     "data": {
      "text/plain": [
       "dtype('O')"
      ]
     },
     "execution_count": 7,
     "metadata": {},
     "output_type": "execute_result"
    }
   ],
   "source": [
    "dat.happy.dtype"
   ]
  },
  {
   "cell_type": "code",
   "execution_count": 8,
   "metadata": {},
   "outputs": [],
   "source": [
    "dat.happy = dat.happy.astype('category')"
   ]
  },
  {
   "cell_type": "markdown",
   "metadata": {
    "jp-MarkdownHeadingCollapsed": true,
    "slideshow": {
     "slide_type": "slide"
    },
    "tags": []
   },
   "source": [
    "## Wrangling Categorical Variables\n",
    "\n",
    "And when we check it again:"
   ]
  },
  {
   "cell_type": "code",
   "execution_count": 9,
   "metadata": {},
   "outputs": [
    {
     "data": {
      "text/plain": [
       "region        object\n",
       "income        object\n",
       "happy       category\n",
       "age          float64\n",
       "finrela       object\n",
       "marital       object\n",
       "degree        object\n",
       "health        object\n",
       "wrkstat       object\n",
       "partyid       object\n",
       "polviews      object\n",
       "sex           object\n",
       "year           int64\n",
       "dtype: object"
      ]
     },
     "execution_count": 9,
     "metadata": {},
     "output_type": "execute_result"
    }
   ],
   "source": [
    "dat.dtypes"
   ]
  },
  {
   "cell_type": "code",
   "execution_count": 10,
   "metadata": {},
   "outputs": [
    {
     "data": {
      "text/plain": [
       "CategoricalDtype(categories=['DK', 'NOT TOO HAPPY', 'PRETTY HAPPY', 'VERY HAPPY'], ordered=False)"
      ]
     },
     "execution_count": 10,
     "metadata": {},
     "output_type": "execute_result"
    }
   ],
   "source": [
    "dat.happy.dtype"
   ]
  },
  {
   "cell_type": "markdown",
   "metadata": {
    "slideshow": {
     "slide_type": "slide"
    }
   },
   "source": [
    "## Wrangling Categorical Variables\n",
    "\n",
    "**Exercise:** Do the same with the variable `degree`."
   ]
  },
  {
   "cell_type": "code",
   "execution_count": 11,
   "metadata": {},
   "outputs": [],
   "source": [
    "## Your code here"
   ]
  },
  {
   "cell_type": "markdown",
   "metadata": {
    "slideshow": {
     "slide_type": "slide"
    }
   },
   "source": [
    "## Wrangling Categorical Variables\n",
    "\n",
    "There are two ways to create a Categorical Series in pandas.\n",
    "\n",
    "- By the way, in pandas, the variables (data columns) are called *series*.\n",
    "\n",
    "Way 1:"
   ]
  },
  {
   "cell_type": "code",
   "execution_count": 12,
   "metadata": {},
   "outputs": [
    {
     "data": {
      "text/plain": [
       "0    Happy\n",
       "1    Happy\n",
       "2      Sad\n",
       "3    Happy\n",
       "4      Sad\n",
       "5      Meh\n",
       "dtype: category\n",
       "Categories (3, object): ['Happy', 'Meh', 'Sad']"
      ]
     },
     "execution_count": 12,
     "metadata": {},
     "output_type": "execute_result"
    }
   ],
   "source": [
    "myvar = ['Happy', 'Happy', 'Sad', 'Happy', 'Sad', 'Meh']\n",
    "myseries = pd.Series(myvar, dtype = 'category')\n",
    "myseries"
   ]
  },
  {
   "cell_type": "markdown",
   "metadata": {},
   "source": [
    "Way 2 (better!):"
   ]
  },
  {
   "cell_type": "code",
   "execution_count": 13,
   "metadata": {},
   "outputs": [
    {
     "data": {
      "text/plain": [
       "['Happy', 'Happy', 'Sad', 'Happy', 'Sad', 'Meh']\n",
       "Categories (3, object): ['Sad' < 'Meh' < 'Happy']"
      ]
     },
     "execution_count": 13,
     "metadata": {},
     "output_type": "execute_result"
    }
   ],
   "source": [
    "myseries2 = pd.Categorical(myvar, \n",
    "                           categories = ['Sad', 'Meh', 'Happy'],\n",
    "                           ordered = True)\n",
    "myseries2"
   ]
  },
  {
   "cell_type": "markdown",
   "metadata": {
    "slideshow": {
     "slide_type": "slide"
    }
   },
   "source": [
    "## Wrangling Categorical Variables\n",
    "\n",
    "**Exercise:** Do the same with the variable `degree`."
   ]
  },
  {
   "cell_type": "code",
   "execution_count": 14,
   "metadata": {},
   "outputs": [],
   "source": [
    "## Your code here"
   ]
  },
  {
   "cell_type": "markdown",
   "metadata": {
    "slideshow": {
     "slide_type": "slide"
    }
   },
   "source": [
    "## Wrangling Categorical Variables\n",
    "\n",
    "Why to store variables as categorical?\n",
    "\n",
    "1. Methods built-in to deal with the data\n",
    "1. We can specify order\n",
    "1. Very important but neglected: Memory issues"
   ]
  },
  {
   "cell_type": "code",
   "execution_count": 15,
   "metadata": {},
   "outputs": [
    {
     "data": {
      "text/plain": [
       "427792"
      ]
     },
     "execution_count": 15,
     "metadata": {},
     "output_type": "execute_result"
    }
   ],
   "source": [
    "vobject = dat.polviews\n",
    "vobject.nbytes"
   ]
  },
  {
   "cell_type": "code",
   "execution_count": 16,
   "metadata": {},
   "outputs": [
    {
     "data": {
      "text/plain": [
       "53538"
      ]
     },
     "execution_count": 16,
     "metadata": {},
     "output_type": "execute_result"
    }
   ],
   "source": [
    "vobject = dat.polviews.astype('category')\n",
    "vobject.nbytes"
   ]
  },
  {
   "cell_type": "markdown",
   "metadata": {
    "slideshow": {
     "slide_type": "slide"
    }
   },
   "source": [
    "## Wrangling Categorical Variables\n",
    "\n",
    "And we can specify all that at the beginning stage, when loading the data:"
   ]
  },
  {
   "cell_type": "code",
   "execution_count": 17,
   "metadata": {},
   "outputs": [
    {
     "data": {
      "text/plain": [
       "region        object\n",
       "income        object\n",
       "happy       category\n",
       "age          float64\n",
       "finrela       object\n",
       "marital       object\n",
       "degree        object\n",
       "health        object\n",
       "wrkstat       object\n",
       "partyid       object\n",
       "polviews      object\n",
       "sex           object\n",
       "year           int64\n",
       "dtype: object"
      ]
     },
     "execution_count": 17,
     "metadata": {},
     "output_type": "execute_result"
    }
   ],
   "source": [
    "data_types = {'happy': 'category'}\n",
    "dat = pd.read_csv('gss.csv',\n",
    "                 dtype = data_types)\n",
    "dat.dtypes"
   ]
  },
  {
   "cell_type": "markdown",
   "metadata": {
    "slideshow": {
     "slide_type": "fragment"
    }
   },
   "source": [
    "Doing this step at this point saves lots of memory!"
   ]
  },
  {
   "cell_type": "markdown",
   "metadata": {
    "slideshow": {
     "slide_type": "slide"
    }
   },
   "source": [
    "## Wrangling Categorical Variables\n",
    "\n",
    "We did some group by. Let's do it again with categorical data now."
   ]
  },
  {
   "cell_type": "code",
   "execution_count": 18,
   "metadata": {
    "slideshow": {
     "slide_type": "fragment"
    }
   },
   "outputs": [
    {
     "data": {
      "text/plain": [
       "happy\n",
       "DK               51.500000\n",
       "NOT TOO HAPPY    46.130420\n",
       "PRETTY HAPPY     44.632033\n",
       "VERY HAPPY       46.953361\n",
       "Name: age, dtype: float64"
      ]
     },
     "execution_count": 18,
     "metadata": {},
     "output_type": "execute_result"
    }
   ],
   "source": [
    "## Group by (pipe-ing)\n",
    "(dat.groupby('happy')\n",
    "    .age\n",
    "    .mean())"
   ]
  },
  {
   "cell_type": "markdown",
   "metadata": {
    "slideshow": {
     "slide_type": "slide"
    }
   },
   "source": [
    "## Wrangling Categorical Variables\n",
    "\n",
    "**Exercise:** Do the same with the variables `degree` and `age`."
   ]
  },
  {
   "cell_type": "code",
   "execution_count": 19,
   "metadata": {},
   "outputs": [],
   "source": [
    "## Your code here"
   ]
  },
  {
   "cell_type": "markdown",
   "metadata": {
    "slideshow": {
     "slide_type": "slide"
    }
   },
   "source": [
    "## Wrangling Categorical Variables\n",
    "\n",
    "We can do that with multiple categories."
   ]
  },
  {
   "cell_type": "code",
   "execution_count": 20,
   "metadata": {
    "slideshow": {
     "slide_type": "fragment"
    }
   },
   "outputs": [
    {
     "data": {
      "text/plain": [
       "happy          health   \n",
       "DK             DK                 NaN\n",
       "               EXCELLENT          NaN\n",
       "               FAIR         51.500000\n",
       "               GOOD               NaN\n",
       "               IAP                NaN\n",
       "               POOR               NaN\n",
       "NOT TOO HAPPY  DK           53.500000\n",
       "               EXCELLENT    40.870445\n",
       "               FAIR         47.171703\n",
       "               GOOD         42.869019\n",
       "               IAP          49.242718\n",
       "               POOR         56.920000\n",
       "PRETTY HAPPY   DK                 NaN\n",
       "               EXCELLENT    39.277410\n",
       "               FAIR         51.043950\n",
       "               GOOD         43.226660\n",
       "               IAP          47.133772\n",
       "               POOR         60.323988\n",
       "VERY HAPPY     DK                 NaN\n",
       "               EXCELLENT    43.093289\n",
       "               FAIR         55.592857\n",
       "               GOOD         47.616559\n",
       "               IAP          50.044554\n",
       "               POOR         61.384401\n",
       "Name: age, dtype: float64"
      ]
     },
     "execution_count": 20,
     "metadata": {},
     "output_type": "execute_result"
    }
   ],
   "source": [
    "## Group by (pipe-ing)\n",
    "(dat.groupby(['happy', 'health'])\n",
    "    .age\n",
    "    .mean())"
   ]
  },
  {
   "cell_type": "markdown",
   "metadata": {
    "slideshow": {
     "slide_type": "slide"
    }
   },
   "source": [
    "## Wrangling Categorical Variables\n",
    "\n",
    "**Exercise:** Do the same with the variables `degree`, `happy`, and `age`."
   ]
  },
  {
   "cell_type": "code",
   "execution_count": 21,
   "metadata": {},
   "outputs": [],
   "source": [
    "## Your code here"
   ]
  },
  {
   "cell_type": "markdown",
   "metadata": {
    "slideshow": {
     "slide_type": "slide"
    }
   },
   "source": [
    "## Wrangling Categorical Variables\n",
    "\n",
    "The weird values are because some combinations have no data.\n",
    "\n",
    "We check the number of cases within category using the `.size()` function:"
   ]
  },
  {
   "cell_type": "code",
   "execution_count": 22,
   "metadata": {
    "slideshow": {
     "slide_type": "fragment"
    }
   },
   "outputs": [
    {
     "data": {
      "text/plain": [
       "happy          health   \n",
       "DK             DK              0\n",
       "               EXCELLENT       0\n",
       "               FAIR            2\n",
       "               GOOD            0\n",
       "               IAP             0\n",
       "               POOR            0\n",
       "NOT TOO HAPPY  DK              2\n",
       "               EXCELLENT     745\n",
       "               FAIR         1464\n",
       "               GOOD         1675\n",
       "               IAP           103\n",
       "               POOR          730\n",
       "PRETTY HAPPY   DK              0\n",
       "               EXCELLENT    5290\n",
       "               FAIR         3969\n",
       "               GOOD         9971\n",
       "               IAP           456\n",
       "               POOR          965\n",
       "VERY HAPPY     DK              0\n",
       "               EXCELLENT    5171\n",
       "               FAIR         1402\n",
       "               GOOD         4665\n",
       "               IAP           202\n",
       "               POOR          361\n",
       "dtype: int64"
      ]
     },
     "execution_count": 22,
     "metadata": {},
     "output_type": "execute_result"
    }
   ],
   "source": [
    "## Groupby + size\n",
    "(dat.groupby(['happy', 'health'])\n",
    "    .size())"
   ]
  },
  {
   "cell_type": "markdown",
   "metadata": {
    "slideshow": {
     "slide_type": "slide"
    }
   },
   "source": [
    "## Wrangling Categorical Variables\n",
    "\n",
    "**Exercise:** Do the same with the variables `degree` and `happy`."
   ]
  },
  {
   "cell_type": "code",
   "execution_count": 23,
   "metadata": {},
   "outputs": [],
   "source": [
    "## Your code here"
   ]
  },
  {
   "cell_type": "markdown",
   "metadata": {
    "slideshow": {
     "slide_type": "slide"
    }
   },
   "source": [
    "## Wrangling Categorical Variables"
   ]
  },
  {
   "cell_type": "code",
   "execution_count": 24,
   "metadata": {
    "scrolled": true,
    "slideshow": {
     "slide_type": "fragment"
    }
   },
   "outputs": [
    {
     "data": {
      "text/plain": [
       "happy          health   \n",
       "DK             FAIR         51.500000\n",
       "NOT TOO HAPPY  DK           53.500000\n",
       "               EXCELLENT    40.870445\n",
       "               FAIR         47.171703\n",
       "               GOOD         42.869019\n",
       "               IAP          49.242718\n",
       "               POOR         56.920000\n",
       "PRETTY HAPPY   EXCELLENT    39.277410\n",
       "               FAIR         51.043950\n",
       "               GOOD         43.226660\n",
       "               IAP          47.133772\n",
       "               POOR         60.323988\n",
       "VERY HAPPY     EXCELLENT    43.093289\n",
       "               FAIR         55.592857\n",
       "               GOOD         47.616559\n",
       "               IAP          50.044554\n",
       "               POOR         61.384401\n",
       "Name: age, dtype: float64"
      ]
     },
     "execution_count": 24,
     "metadata": {},
     "output_type": "execute_result"
    }
   ],
   "source": [
    "## Groupby + dropna\n",
    "(dat.groupby(['happy', 'health'])\n",
    "    .age\n",
    "    .mean()\n",
    "    .dropna())"
   ]
  },
  {
   "cell_type": "markdown",
   "metadata": {
    "slideshow": {
     "slide_type": "slide"
    }
   },
   "source": [
    "## Wrangling Categorical Variables\n",
    "\n",
    "**Exercise:** Do the same with the variables `degree`, `happy`, and `age`, removing the missing values."
   ]
  },
  {
   "cell_type": "code",
   "execution_count": 25,
   "metadata": {},
   "outputs": [],
   "source": [
    "## Your code here"
   ]
  },
  {
   "cell_type": "markdown",
   "metadata": {
    "slideshow": {
     "slide_type": "slide"
    }
   },
   "source": [
    "## Wrangling Categorical Variables\n",
    "\n",
    "The third step in here is to set the categorical variables parameters in a way that would help the analysis.\n",
    "\n",
    "Let us look at the variable `polviews`. We start by setting it to categorical and see what we have there:"
   ]
  },
  {
   "cell_type": "code",
   "execution_count": 26,
   "metadata": {},
   "outputs": [
    {
     "data": {
      "text/plain": [
       "MODERATE                17781\n",
       "SLGHTLY CONSERVATIVE     7423\n",
       "NaN                      7411\n",
       "CONSERVATIVE             6800\n",
       "SLIGHTLY LIBERAL         5973\n",
       "LIBERAL                  5338\n",
       "EXTRMLY CONSERVATIVE     1438\n",
       "EXTREMELY LIBERAL        1249\n",
       "DK                         61\n",
       "Name: polviews, dtype: int64"
      ]
     },
     "execution_count": 26,
     "metadata": {},
     "output_type": "execute_result"
    }
   ],
   "source": [
    "dat.polviews = dat.polviews.astype('category')\n",
    "(dat.polviews\n",
    "    .value_counts(dropna = False))"
   ]
  },
  {
   "cell_type": "markdown",
   "metadata": {
    "slideshow": {
     "slide_type": "slide"
    }
   },
   "source": [
    "## Wrangling Categorical Variables\n",
    "\n",
    "To see some more details, let us separate the series:"
   ]
  },
  {
   "cell_type": "code",
   "execution_count": 27,
   "metadata": {
    "scrolled": true
   },
   "outputs": [
    {
     "data": {
      "text/plain": [
       "0                         NaN\n",
       "1                         NaN\n",
       "2                         NaN\n",
       "3                         NaN\n",
       "4                         NaN\n",
       "                 ...         \n",
       "53469    SLGHTLY CONSERVATIVE\n",
       "53470    EXTRMLY CONSERVATIVE\n",
       "53471        SLIGHTLY LIBERAL\n",
       "53472        SLIGHTLY LIBERAL\n",
       "53473                MODERATE\n",
       "Name: polviews, Length: 53474, dtype: category\n",
       "Categories (8, object): ['CONSERVATIVE', 'DK', 'EXTREMELY LIBERAL', 'EXTRMLY CONSERVATIVE', 'LIBERAL', 'MODERATE', 'SLGHTLY CONSERVATIVE', 'SLIGHTLY LIBERAL']"
      ]
     },
     "execution_count": 27,
     "metadata": {},
     "output_type": "execute_result"
    }
   ],
   "source": [
    "polv = dat.polviews\n",
    "polv"
   ]
  },
  {
   "cell_type": "markdown",
   "metadata": {
    "slideshow": {
     "slide_type": "slide"
    }
   },
   "source": [
    "## Wrangling Categorical Variables\n",
    "\n",
    "### Set Categories"
   ]
  },
  {
   "cell_type": "code",
   "execution_count": 28,
   "metadata": {
    "scrolled": true
   },
   "outputs": [
    {
     "name": "stdout",
     "output_type": "stream",
     "text": [
      "MODERATE                17781\n",
      "NaN                      7472\n",
      "SLGHTLY CONSERVATIVE     7423\n",
      "CONSERVATIVE             6800\n",
      "SLIGHTLY LIBERAL         5973\n",
      "LIBERAL                  5338\n",
      "EXTRMLY CONSERVATIVE     1438\n",
      "EXTREMELY LIBERAL        1249\n",
      "Name: polviews, dtype: int64\n",
      "\n",
      "\n",
      "MODERATE                17781\n",
      "SLGHTLY CONSERVATIVE     7423\n",
      "NaN                      7411\n",
      "CONSERVATIVE             6800\n",
      "SLIGHTLY LIBERAL         5973\n",
      "LIBERAL                  5338\n",
      "EXTRMLY CONSERVATIVE     1438\n",
      "EXTREMELY LIBERAL        1249\n",
      "DK                         61\n",
      "Name: polviews, dtype: int64\n",
      "\n",
      "\n"
     ]
    }
   ],
   "source": [
    "polv2 = polv.cat.set_categories(\n",
    "    new_categories = ['EXTREMELY LIBERAL', \n",
    "                      'LIBERAL', \n",
    "                      'SLIGHTLY LIBERAL', \n",
    "                      'MODERATE', \n",
    "                      'SLGHTLY CONSERVATIVE', \n",
    "                      'CONSERVATIVE', \n",
    "                      'EXTRMLY CONSERVATIVE']\n",
    ")\n",
    "print(polv2.value_counts(dropna = False), end = '\\n\\n\\n')\n",
    "print(polv.value_counts(dropna = False), end = '\\n\\n\\n')"
   ]
  },
  {
   "cell_type": "markdown",
   "metadata": {
    "slideshow": {
     "slide_type": "slide"
    }
   },
   "source": [
    "## Wrangling Categorical Variables\n",
    "\n",
    "**Exercise:** Do the same with the variable `degree`"
   ]
  },
  {
   "cell_type": "code",
   "execution_count": 29,
   "metadata": {},
   "outputs": [],
   "source": [
    "## Your code here"
   ]
  },
  {
   "cell_type": "markdown",
   "metadata": {
    "slideshow": {
     "slide_type": "slide"
    }
   },
   "source": [
    "## Wrangling Categorical Variables\n",
    "\n",
    "### Set Categories"
   ]
  },
  {
   "cell_type": "code",
   "execution_count": 30,
   "metadata": {
    "scrolled": true
   },
   "outputs": [
    {
     "name": "stdout",
     "output_type": "stream",
     "text": [
      "EXTREMELY LIBERAL        1249\n",
      "LIBERAL                  5338\n",
      "SLIGHTLY LIBERAL         5973\n",
      "MODERATE                17781\n",
      "SLGHTLY CONSERVATIVE     7423\n",
      "CONSERVATIVE             6800\n",
      "EXTRMLY CONSERVATIVE     1438\n",
      "NaN                      7472\n",
      "Name: polviews, dtype: int64\n",
      "\n",
      "\n",
      "MODERATE                17781\n",
      "SLGHTLY CONSERVATIVE     7423\n",
      "NaN                      7411\n",
      "CONSERVATIVE             6800\n",
      "SLIGHTLY LIBERAL         5973\n",
      "LIBERAL                  5338\n",
      "EXTRMLY CONSERVATIVE     1438\n",
      "EXTREMELY LIBERAL        1249\n",
      "DK                         61\n",
      "Name: polviews, dtype: int64\n",
      "\n",
      "\n"
     ]
    }
   ],
   "source": [
    "polv3 = polv.cat.set_categories(\n",
    "    new_categories = ['EXTREMELY LIBERAL', 'LIBERAL', 'SLIGHTLY LIBERAL', 'MODERATE', 'SLGHTLY CONSERVATIVE', 'CONSERVATIVE', 'EXTRMLY CONSERVATIVE'],\n",
    "    ordered = True\n",
    ")\n",
    "print(polv3.value_counts(dropna = False, sort = False), end = '\\n\\n\\n')\n",
    "print(polv.value_counts(dropna = False), end = '\\n\\n\\n')"
   ]
  },
  {
   "cell_type": "markdown",
   "metadata": {
    "slideshow": {
     "slide_type": "slide"
    }
   },
   "source": [
    "## Wrangling Categorical Variables\n",
    "\n",
    "**Exercise:** Do the same with the variable `degree`"
   ]
  },
  {
   "cell_type": "code",
   "execution_count": 31,
   "metadata": {},
   "outputs": [],
   "source": [
    "## Your code here"
   ]
  },
  {
   "cell_type": "markdown",
   "metadata": {
    "slideshow": {
     "slide_type": "slide"
    }
   },
   "source": [
    "## Wrangling Categorical Variables\n",
    "\n",
    "### Add and Remove Categories\n",
    "\n",
    "We can also add and remove categories. If we add categories that are not there, they will have a zero count:"
   ]
  },
  {
   "cell_type": "code",
   "execution_count": 32,
   "metadata": {
    "scrolled": true
   },
   "outputs": [
    {
     "name": "stdout",
     "output_type": "stream",
     "text": [
      "CONSERVATIVE               6800\n",
      "DK                           61\n",
      "EXTREMELY LIBERAL          1249\n",
      "EXTRMLY CONSERVATIVE       1438\n",
      "LIBERAL                    5338\n",
      "MODERATE                  17781\n",
      "SLGHTLY CONSERVATIVE       7423\n",
      "SLIGHTLY LIBERAL           5973\n",
      "very very liberal             0\n",
      "very very conservative        0\n",
      "NaN                        7411\n",
      "Name: polviews, dtype: int64\n"
     ]
    }
   ],
   "source": [
    "polv4 = polv.cat.add_categories(\n",
    "    new_categories = [\n",
    "        'very very liberal',\n",
    "        'very very conservative'],\n",
    ")\n",
    "print(polv4.value_counts(dropna = False, sort = False))"
   ]
  },
  {
   "cell_type": "markdown",
   "metadata": {
    "slideshow": {
     "slide_type": "slide"
    }
   },
   "source": [
    "## Wrangling Categorical Variables\n",
    "\n",
    "**Exercise:** Do the same with the variable `degree`, creating one imaginary degree."
   ]
  },
  {
   "cell_type": "code",
   "execution_count": 33,
   "metadata": {},
   "outputs": [],
   "source": [
    "## Your code here"
   ]
  },
  {
   "cell_type": "markdown",
   "metadata": {
    "slideshow": {
     "slide_type": "slide"
    }
   },
   "source": [
    "## Wrangling Categorical Variables\n",
    "\n",
    "### Add and Remove Categories"
   ]
  },
  {
   "cell_type": "code",
   "execution_count": 34,
   "metadata": {
    "scrolled": true
   },
   "outputs": [
    {
     "name": "stdout",
     "output_type": "stream",
     "text": [
      "CONSERVATIVE               6800\n",
      "DK                           61\n",
      "EXTREMELY LIBERAL          1249\n",
      "EXTRMLY CONSERVATIVE       1438\n",
      "LIBERAL                    5338\n",
      "SLGHTLY CONSERVATIVE       7423\n",
      "SLIGHTLY LIBERAL           5973\n",
      "very very liberal             0\n",
      "very very conservative        0\n",
      "NaN                       25192\n",
      "Name: polviews, dtype: int64\n"
     ]
    }
   ],
   "source": [
    "polv5 = polv4.cat.remove_categories(\n",
    "    removals = ['MODERATE']\n",
    ")\n",
    "print(polv5.value_counts(dropna = False, sort = False))"
   ]
  },
  {
   "cell_type": "markdown",
   "metadata": {
    "slideshow": {
     "slide_type": "slide"
    }
   },
   "source": [
    "## Wrangling Categorical Variables\n",
    "\n",
    "**Exercise:** Remove the imaginary degree you created (`degree`)."
   ]
  },
  {
   "cell_type": "code",
   "execution_count": 35,
   "metadata": {},
   "outputs": [],
   "source": [
    "## Your code here"
   ]
  },
  {
   "cell_type": "markdown",
   "metadata": {
    "slideshow": {
     "slide_type": "slide"
    }
   },
   "source": [
    "# Great work!"
   ]
  }
 ],
 "metadata": {
  "celltoolbar": "Slideshow",
  "kernelspec": {
   "display_name": "Python 3 (ipykernel)",
   "language": "python",
   "name": "python3"
  },
  "language_info": {
   "codemirror_mode": {
    "name": "ipython",
    "version": 3
   },
   "file_extension": ".py",
   "mimetype": "text/x-python",
   "name": "python",
   "nbconvert_exporter": "python",
   "pygments_lexer": "ipython3",
   "version": "3.9.18"
  }
 },
 "nbformat": 4,
 "nbformat_minor": 4
}
