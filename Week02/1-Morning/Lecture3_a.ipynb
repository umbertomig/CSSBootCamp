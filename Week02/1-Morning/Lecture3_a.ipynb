{
 "cells": [
  {
   "cell_type": "markdown",
   "metadata": {
    "slideshow": {
     "slide_type": "slide"
    }
   },
   "source": [
    "# CSS 201.5 - CSS MA Bootcamp\n",
    "\n",
    "## Week 02 - Lecture 3 (morning)"
   ]
  },
  {
   "cell_type": "markdown",
   "metadata": {
    "slideshow": {
     "slide_type": "slide"
    }
   },
   "source": [
    "# Data Wrangling"
   ]
  },
  {
   "cell_type": "markdown",
   "metadata": {
    "slideshow": {
     "slide_type": "slide"
    }
   },
   "source": [
    "## Wrangling Categorical Variables"
   ]
  },
  {
   "cell_type": "code",
   "execution_count": 1,
   "metadata": {
    "execution": {
     "iopub.execute_input": "2024-07-10T14:36:46.827368Z",
     "iopub.status.busy": "2024-07-10T14:36:46.827271Z",
     "iopub.status.idle": "2024-07-10T14:36:47.833271Z",
     "shell.execute_reply": "2024-07-10T14:36:47.832915Z",
     "shell.execute_reply.started": "2024-07-10T14:36:46.827359Z"
    },
    "slideshow": {
     "slide_type": "fragment"
    }
   },
   "outputs": [],
   "source": [
    "# Loading packages\n",
    "import pandas as pd\n",
    "import numpy as np\n",
    "import matplotlib.pyplot as plt\n",
    "import seaborn as sns\n",
    "import plotly\n",
    "from plotly import express as px\n",
    "from plotly.subplots import make_subplots\n",
    "\n",
    "# Dates and times handlers\n",
    "from datetime import date\n",
    "from datetime import timedelta\n",
    "from datetime import datetime as dtm\n",
    "from datetime import timezone as tmz"
   ]
  },
  {
   "cell_type": "markdown",
   "metadata": {
    "slideshow": {
     "slide_type": "slide"
    }
   },
   "source": [
    "# Wrangling Dates and Times (cont'd)"
   ]
  },
  {
   "cell_type": "code",
   "execution_count": 10,
   "metadata": {
    "execution": {
     "iopub.execute_input": "2024-07-10T14:37:35.199347Z",
     "iopub.status.busy": "2024-07-10T14:37:35.199142Z",
     "iopub.status.idle": "2024-07-10T14:37:35.202200Z",
     "shell.execute_reply": "2024-07-10T14:37:35.201879Z",
     "shell.execute_reply.started": "2024-07-10T14:37:35.199335Z"
    },
    "slideshow": {
     "slide_type": "fragment"
    }
   },
   "outputs": [],
   "source": [
    "# Here are two dates\n",
    "dts = ['5/17/2020', '12/2/2022']\n",
    "dt1 = dtm(2021, 5, 5, 23, 20, 2)\n",
    "dts2 = [date(2020, 5, 17), date(2022, 12, 2)]"
   ]
  },
  {
   "cell_type": "code",
   "execution_count": 11,
   "metadata": {
    "execution": {
     "iopub.execute_input": "2024-07-10T14:37:35.720454Z",
     "iopub.status.busy": "2024-07-10T14:37:35.719952Z",
     "iopub.status.idle": "2024-07-10T14:37:35.725173Z",
     "shell.execute_reply": "2024-07-10T14:37:35.724646Z",
     "shell.execute_reply.started": "2024-07-10T14:37:35.720420Z"
    }
   },
   "outputs": [
    {
     "data": {
      "text/plain": [
       "929"
      ]
     },
     "execution_count": 11,
     "metadata": {},
     "output_type": "execute_result"
    }
   ],
   "source": [
    "delta = dts2[1] - dts2[0]\n",
    "delta.days"
   ]
  },
  {
   "cell_type": "markdown",
   "metadata": {
    "slideshow": {
     "slide_type": "slide"
    }
   },
   "source": [
    "## Wrangling Dates and Times\n",
    "\n",
    "### Timedeltas and duration\n",
    "\n",
    "As we see before, we can create time differences (or timedeltas) by subtracting one date from another:"
   ]
  },
  {
   "cell_type": "code",
   "execution_count": 12,
   "metadata": {
    "execution": {
     "iopub.execute_input": "2024-07-10T14:37:36.596100Z",
     "iopub.status.busy": "2024-07-10T14:37:36.595665Z",
     "iopub.status.idle": "2024-07-10T14:37:36.599751Z",
     "shell.execute_reply": "2024-07-10T14:37:36.599371Z",
     "shell.execute_reply.started": "2024-07-10T14:37:36.596073Z"
    },
    "slideshow": {
     "slide_type": "fragment"
    }
   },
   "outputs": [],
   "source": [
    "begin = dtm(2021, 5, 5, 23, 20, 2)\n",
    "end = dtm(2021, 7, 5, 8, 15, 22)\n",
    "delta = end - begin"
   ]
  },
  {
   "cell_type": "markdown",
   "metadata": {
    "slideshow": {
     "slide_type": "slide"
    }
   },
   "source": [
    "## Wrangling Dates and Times\n",
    "\n",
    "### Timedeltas and duration\n",
    "\n",
    "The handlers for time deltas and duration can be found in [here](https://images.datacamp.com/image/upload/v1666944896/Marketing/Blog/Working_with_Dates_and_Times_Cheat_Sheet.pdf)"
   ]
  },
  {
   "cell_type": "code",
   "execution_count": 13,
   "metadata": {
    "execution": {
     "iopub.execute_input": "2024-07-10T14:37:37.610427Z",
     "iopub.status.busy": "2024-07-10T14:37:37.610201Z",
     "iopub.status.idle": "2024-07-10T14:37:37.613472Z",
     "shell.execute_reply": "2024-07-10T14:37:37.612951Z",
     "shell.execute_reply.started": "2024-07-10T14:37:37.610414Z"
    },
    "slideshow": {
     "slide_type": "fragment"
    }
   },
   "outputs": [
    {
     "data": {
      "text/plain": [
       "5216120.0"
      ]
     },
     "execution_count": 13,
     "metadata": {},
     "output_type": "execute_result"
    }
   ],
   "source": [
    "delta.total_seconds()"
   ]
  },
  {
   "cell_type": "markdown",
   "metadata": {
    "slideshow": {
     "slide_type": "slide"
    }
   },
   "source": [
    "## Wrangling Dates and Times\n",
    "\n",
    "**Exercise:** Read the following date and time correctly: \"Jan 16, 2021 at 3:30 AM\""
   ]
  },
  {
   "cell_type": "code",
   "execution_count": 14,
   "metadata": {
    "execution": {
     "iopub.execute_input": "2024-07-10T14:37:38.664204Z",
     "iopub.status.busy": "2024-07-10T14:37:38.663809Z",
     "iopub.status.idle": "2024-07-10T14:37:38.667284Z",
     "shell.execute_reply": "2024-07-10T14:37:38.666466Z",
     "shell.execute_reply.started": "2024-07-10T14:37:38.664178Z"
    }
   },
   "outputs": [],
   "source": [
    "# Your answers here"
   ]
  },
  {
   "cell_type": "markdown",
   "metadata": {
    "slideshow": {
     "slide_type": "slide"
    }
   },
   "source": [
    "## Wrangling Dates and Times\n",
    "\n",
    "### Timezone"
   ]
  },
  {
   "cell_type": "code",
   "execution_count": 15,
   "metadata": {
    "execution": {
     "iopub.execute_input": "2024-07-10T14:37:39.751353Z",
     "iopub.status.busy": "2024-07-10T14:37:39.750782Z",
     "iopub.status.idle": "2024-07-10T14:37:39.756249Z",
     "shell.execute_reply": "2024-07-10T14:37:39.755383Z",
     "shell.execute_reply.started": "2024-07-10T14:37:39.751319Z"
    },
    "slideshow": {
     "slide_type": "fragment"
    }
   },
   "outputs": [
    {
     "name": "stdout",
     "output_type": "stream",
     "text": [
      "2021-05-12 15:23:25-07:00\n"
     ]
    }
   ],
   "source": [
    "# Timezone PDT\n",
    "PDT = tmz(timedelta(hours = -7))\n",
    "\n",
    "# Date and time in an specific time zone\n",
    "dtPDT = dtm(2021, 5, 12, 15, 23, 25, tzinfo = PDT)\n",
    "print(dtPDT)"
   ]
  },
  {
   "cell_type": "code",
   "execution_count": 16,
   "metadata": {
    "execution": {
     "iopub.execute_input": "2024-07-10T14:37:40.334819Z",
     "iopub.status.busy": "2024-07-10T14:37:40.334334Z",
     "iopub.status.idle": "2024-07-10T14:37:40.339908Z",
     "shell.execute_reply": "2024-07-10T14:37:40.339000Z",
     "shell.execute_reply.started": "2024-07-10T14:37:40.334789Z"
    }
   },
   "outputs": [
    {
     "name": "stdout",
     "output_type": "stream",
     "text": [
      "2021-05-05 23:20:02\n",
      "2021-05-06 01:20:02-05:00\n"
     ]
    }
   ],
   "source": [
    "# Or we can adjust\n",
    "ET = tmz(timedelta(hours = -5))\n",
    "\n",
    "# Before\n",
    "print(dt1)\n",
    "\n",
    "# After\n",
    "dtET = dt1.astimezone(ET)\n",
    "print(dtET)"
   ]
  },
  {
   "cell_type": "markdown",
   "metadata": {
    "slideshow": {
     "slide_type": "slide"
    }
   },
   "source": [
    "## Wrangling Dates and Times\n",
    "\n",
    "**Exercise:** Change `dt1` to India time zone (UTC+3:30)."
   ]
  },
  {
   "cell_type": "code",
   "execution_count": 17,
   "metadata": {
    "execution": {
     "iopub.execute_input": "2024-07-10T14:37:45.891780Z",
     "iopub.status.busy": "2024-07-10T14:37:45.891298Z",
     "iopub.status.idle": "2024-07-10T14:37:45.894942Z",
     "shell.execute_reply": "2024-07-10T14:37:45.894206Z",
     "shell.execute_reply.started": "2024-07-10T14:37:45.891752Z"
    }
   },
   "outputs": [],
   "source": [
    "# Your answers here"
   ]
  },
  {
   "cell_type": "markdown",
   "metadata": {
    "slideshow": {
     "slide_type": "slide"
    }
   },
   "source": [
    "## Wrangling Dates and Times\n",
    "\n",
    "### Pandas"
   ]
  },
  {
   "cell_type": "code",
   "execution_count": 18,
   "metadata": {
    "execution": {
     "iopub.execute_input": "2024-07-10T14:37:48.830552Z",
     "iopub.status.busy": "2024-07-10T14:37:48.830154Z",
     "iopub.status.idle": "2024-07-10T14:37:49.116838Z",
     "shell.execute_reply": "2024-07-10T14:37:49.116187Z",
     "shell.execute_reply.started": "2024-07-10T14:37:48.830527Z"
    },
    "slideshow": {
     "slide_type": "fragment"
    }
   },
   "outputs": [
    {
     "ename": "FileNotFoundError",
     "evalue": "[Errno 2] No such file or directory: 'lakers.csv'",
     "output_type": "error",
     "traceback": [
      "\u001b[0;31m---------------------------------------------------------------------------\u001b[0m",
      "\u001b[0;31mFileNotFoundError\u001b[0m                         Traceback (most recent call last)",
      "Cell \u001b[0;32mIn[18], line 2\u001b[0m\n\u001b[1;32m      1\u001b[0m \u001b[38;5;66;03m# Datasets\u001b[39;00m\n\u001b[0;32m----> 2\u001b[0m dat2 \u001b[38;5;241m=\u001b[39m \u001b[43mpd\u001b[49m\u001b[38;5;241;43m.\u001b[39;49m\u001b[43mread_csv\u001b[49m\u001b[43m(\u001b[49m\u001b[38;5;124;43m'\u001b[39;49m\u001b[38;5;124;43mlakers.csv\u001b[39;49m\u001b[38;5;124;43m'\u001b[39;49m\u001b[43m)\u001b[49m\n",
      "File \u001b[0;32m/opt/miniconda3/envs/deepverse/lib/python3.9/site-packages/pandas/io/parsers/readers.py:1026\u001b[0m, in \u001b[0;36mread_csv\u001b[0;34m(filepath_or_buffer, sep, delimiter, header, names, index_col, usecols, dtype, engine, converters, true_values, false_values, skipinitialspace, skiprows, skipfooter, nrows, na_values, keep_default_na, na_filter, verbose, skip_blank_lines, parse_dates, infer_datetime_format, keep_date_col, date_parser, date_format, dayfirst, cache_dates, iterator, chunksize, compression, thousands, decimal, lineterminator, quotechar, quoting, doublequote, escapechar, comment, encoding, encoding_errors, dialect, on_bad_lines, delim_whitespace, low_memory, memory_map, float_precision, storage_options, dtype_backend)\u001b[0m\n\u001b[1;32m   1013\u001b[0m kwds_defaults \u001b[38;5;241m=\u001b[39m _refine_defaults_read(\n\u001b[1;32m   1014\u001b[0m     dialect,\n\u001b[1;32m   1015\u001b[0m     delimiter,\n\u001b[0;32m   (...)\u001b[0m\n\u001b[1;32m   1022\u001b[0m     dtype_backend\u001b[38;5;241m=\u001b[39mdtype_backend,\n\u001b[1;32m   1023\u001b[0m )\n\u001b[1;32m   1024\u001b[0m kwds\u001b[38;5;241m.\u001b[39mupdate(kwds_defaults)\n\u001b[0;32m-> 1026\u001b[0m \u001b[38;5;28;01mreturn\u001b[39;00m \u001b[43m_read\u001b[49m\u001b[43m(\u001b[49m\u001b[43mfilepath_or_buffer\u001b[49m\u001b[43m,\u001b[49m\u001b[43m \u001b[49m\u001b[43mkwds\u001b[49m\u001b[43m)\u001b[49m\n",
      "File \u001b[0;32m/opt/miniconda3/envs/deepverse/lib/python3.9/site-packages/pandas/io/parsers/readers.py:620\u001b[0m, in \u001b[0;36m_read\u001b[0;34m(filepath_or_buffer, kwds)\u001b[0m\n\u001b[1;32m    617\u001b[0m _validate_names(kwds\u001b[38;5;241m.\u001b[39mget(\u001b[38;5;124m\"\u001b[39m\u001b[38;5;124mnames\u001b[39m\u001b[38;5;124m\"\u001b[39m, \u001b[38;5;28;01mNone\u001b[39;00m))\n\u001b[1;32m    619\u001b[0m \u001b[38;5;66;03m# Create the parser.\u001b[39;00m\n\u001b[0;32m--> 620\u001b[0m parser \u001b[38;5;241m=\u001b[39m \u001b[43mTextFileReader\u001b[49m\u001b[43m(\u001b[49m\u001b[43mfilepath_or_buffer\u001b[49m\u001b[43m,\u001b[49m\u001b[43m \u001b[49m\u001b[38;5;241;43m*\u001b[39;49m\u001b[38;5;241;43m*\u001b[39;49m\u001b[43mkwds\u001b[49m\u001b[43m)\u001b[49m\n\u001b[1;32m    622\u001b[0m \u001b[38;5;28;01mif\u001b[39;00m chunksize \u001b[38;5;129;01mor\u001b[39;00m iterator:\n\u001b[1;32m    623\u001b[0m     \u001b[38;5;28;01mreturn\u001b[39;00m parser\n",
      "File \u001b[0;32m/opt/miniconda3/envs/deepverse/lib/python3.9/site-packages/pandas/io/parsers/readers.py:1620\u001b[0m, in \u001b[0;36mTextFileReader.__init__\u001b[0;34m(self, f, engine, **kwds)\u001b[0m\n\u001b[1;32m   1617\u001b[0m     \u001b[38;5;28mself\u001b[39m\u001b[38;5;241m.\u001b[39moptions[\u001b[38;5;124m\"\u001b[39m\u001b[38;5;124mhas_index_names\u001b[39m\u001b[38;5;124m\"\u001b[39m] \u001b[38;5;241m=\u001b[39m kwds[\u001b[38;5;124m\"\u001b[39m\u001b[38;5;124mhas_index_names\u001b[39m\u001b[38;5;124m\"\u001b[39m]\n\u001b[1;32m   1619\u001b[0m \u001b[38;5;28mself\u001b[39m\u001b[38;5;241m.\u001b[39mhandles: IOHandles \u001b[38;5;241m|\u001b[39m \u001b[38;5;28;01mNone\u001b[39;00m \u001b[38;5;241m=\u001b[39m \u001b[38;5;28;01mNone\u001b[39;00m\n\u001b[0;32m-> 1620\u001b[0m \u001b[38;5;28mself\u001b[39m\u001b[38;5;241m.\u001b[39m_engine \u001b[38;5;241m=\u001b[39m \u001b[38;5;28;43mself\u001b[39;49m\u001b[38;5;241;43m.\u001b[39;49m\u001b[43m_make_engine\u001b[49m\u001b[43m(\u001b[49m\u001b[43mf\u001b[49m\u001b[43m,\u001b[49m\u001b[43m \u001b[49m\u001b[38;5;28;43mself\u001b[39;49m\u001b[38;5;241;43m.\u001b[39;49m\u001b[43mengine\u001b[49m\u001b[43m)\u001b[49m\n",
      "File \u001b[0;32m/opt/miniconda3/envs/deepverse/lib/python3.9/site-packages/pandas/io/parsers/readers.py:1880\u001b[0m, in \u001b[0;36mTextFileReader._make_engine\u001b[0;34m(self, f, engine)\u001b[0m\n\u001b[1;32m   1878\u001b[0m     \u001b[38;5;28;01mif\u001b[39;00m \u001b[38;5;124m\"\u001b[39m\u001b[38;5;124mb\u001b[39m\u001b[38;5;124m\"\u001b[39m \u001b[38;5;129;01mnot\u001b[39;00m \u001b[38;5;129;01min\u001b[39;00m mode:\n\u001b[1;32m   1879\u001b[0m         mode \u001b[38;5;241m+\u001b[39m\u001b[38;5;241m=\u001b[39m \u001b[38;5;124m\"\u001b[39m\u001b[38;5;124mb\u001b[39m\u001b[38;5;124m\"\u001b[39m\n\u001b[0;32m-> 1880\u001b[0m \u001b[38;5;28mself\u001b[39m\u001b[38;5;241m.\u001b[39mhandles \u001b[38;5;241m=\u001b[39m \u001b[43mget_handle\u001b[49m\u001b[43m(\u001b[49m\n\u001b[1;32m   1881\u001b[0m \u001b[43m    \u001b[49m\u001b[43mf\u001b[49m\u001b[43m,\u001b[49m\n\u001b[1;32m   1882\u001b[0m \u001b[43m    \u001b[49m\u001b[43mmode\u001b[49m\u001b[43m,\u001b[49m\n\u001b[1;32m   1883\u001b[0m \u001b[43m    \u001b[49m\u001b[43mencoding\u001b[49m\u001b[38;5;241;43m=\u001b[39;49m\u001b[38;5;28;43mself\u001b[39;49m\u001b[38;5;241;43m.\u001b[39;49m\u001b[43moptions\u001b[49m\u001b[38;5;241;43m.\u001b[39;49m\u001b[43mget\u001b[49m\u001b[43m(\u001b[49m\u001b[38;5;124;43m\"\u001b[39;49m\u001b[38;5;124;43mencoding\u001b[39;49m\u001b[38;5;124;43m\"\u001b[39;49m\u001b[43m,\u001b[49m\u001b[43m \u001b[49m\u001b[38;5;28;43;01mNone\u001b[39;49;00m\u001b[43m)\u001b[49m\u001b[43m,\u001b[49m\n\u001b[1;32m   1884\u001b[0m \u001b[43m    \u001b[49m\u001b[43mcompression\u001b[49m\u001b[38;5;241;43m=\u001b[39;49m\u001b[38;5;28;43mself\u001b[39;49m\u001b[38;5;241;43m.\u001b[39;49m\u001b[43moptions\u001b[49m\u001b[38;5;241;43m.\u001b[39;49m\u001b[43mget\u001b[49m\u001b[43m(\u001b[49m\u001b[38;5;124;43m\"\u001b[39;49m\u001b[38;5;124;43mcompression\u001b[39;49m\u001b[38;5;124;43m\"\u001b[39;49m\u001b[43m,\u001b[49m\u001b[43m \u001b[49m\u001b[38;5;28;43;01mNone\u001b[39;49;00m\u001b[43m)\u001b[49m\u001b[43m,\u001b[49m\n\u001b[1;32m   1885\u001b[0m \u001b[43m    \u001b[49m\u001b[43mmemory_map\u001b[49m\u001b[38;5;241;43m=\u001b[39;49m\u001b[38;5;28;43mself\u001b[39;49m\u001b[38;5;241;43m.\u001b[39;49m\u001b[43moptions\u001b[49m\u001b[38;5;241;43m.\u001b[39;49m\u001b[43mget\u001b[49m\u001b[43m(\u001b[49m\u001b[38;5;124;43m\"\u001b[39;49m\u001b[38;5;124;43mmemory_map\u001b[39;49m\u001b[38;5;124;43m\"\u001b[39;49m\u001b[43m,\u001b[49m\u001b[43m \u001b[49m\u001b[38;5;28;43;01mFalse\u001b[39;49;00m\u001b[43m)\u001b[49m\u001b[43m,\u001b[49m\n\u001b[1;32m   1886\u001b[0m \u001b[43m    \u001b[49m\u001b[43mis_text\u001b[49m\u001b[38;5;241;43m=\u001b[39;49m\u001b[43mis_text\u001b[49m\u001b[43m,\u001b[49m\n\u001b[1;32m   1887\u001b[0m \u001b[43m    \u001b[49m\u001b[43merrors\u001b[49m\u001b[38;5;241;43m=\u001b[39;49m\u001b[38;5;28;43mself\u001b[39;49m\u001b[38;5;241;43m.\u001b[39;49m\u001b[43moptions\u001b[49m\u001b[38;5;241;43m.\u001b[39;49m\u001b[43mget\u001b[49m\u001b[43m(\u001b[49m\u001b[38;5;124;43m\"\u001b[39;49m\u001b[38;5;124;43mencoding_errors\u001b[39;49m\u001b[38;5;124;43m\"\u001b[39;49m\u001b[43m,\u001b[49m\u001b[43m \u001b[49m\u001b[38;5;124;43m\"\u001b[39;49m\u001b[38;5;124;43mstrict\u001b[39;49m\u001b[38;5;124;43m\"\u001b[39;49m\u001b[43m)\u001b[49m\u001b[43m,\u001b[49m\n\u001b[1;32m   1888\u001b[0m \u001b[43m    \u001b[49m\u001b[43mstorage_options\u001b[49m\u001b[38;5;241;43m=\u001b[39;49m\u001b[38;5;28;43mself\u001b[39;49m\u001b[38;5;241;43m.\u001b[39;49m\u001b[43moptions\u001b[49m\u001b[38;5;241;43m.\u001b[39;49m\u001b[43mget\u001b[49m\u001b[43m(\u001b[49m\u001b[38;5;124;43m\"\u001b[39;49m\u001b[38;5;124;43mstorage_options\u001b[39;49m\u001b[38;5;124;43m\"\u001b[39;49m\u001b[43m,\u001b[49m\u001b[43m \u001b[49m\u001b[38;5;28;43;01mNone\u001b[39;49;00m\u001b[43m)\u001b[49m\u001b[43m,\u001b[49m\n\u001b[1;32m   1889\u001b[0m \u001b[43m\u001b[49m\u001b[43m)\u001b[49m\n\u001b[1;32m   1890\u001b[0m \u001b[38;5;28;01massert\u001b[39;00m \u001b[38;5;28mself\u001b[39m\u001b[38;5;241m.\u001b[39mhandles \u001b[38;5;129;01mis\u001b[39;00m \u001b[38;5;129;01mnot\u001b[39;00m \u001b[38;5;28;01mNone\u001b[39;00m\n\u001b[1;32m   1891\u001b[0m f \u001b[38;5;241m=\u001b[39m \u001b[38;5;28mself\u001b[39m\u001b[38;5;241m.\u001b[39mhandles\u001b[38;5;241m.\u001b[39mhandle\n",
      "File \u001b[0;32m/opt/miniconda3/envs/deepverse/lib/python3.9/site-packages/pandas/io/common.py:873\u001b[0m, in \u001b[0;36mget_handle\u001b[0;34m(path_or_buf, mode, encoding, compression, memory_map, is_text, errors, storage_options)\u001b[0m\n\u001b[1;32m    868\u001b[0m \u001b[38;5;28;01melif\u001b[39;00m \u001b[38;5;28misinstance\u001b[39m(handle, \u001b[38;5;28mstr\u001b[39m):\n\u001b[1;32m    869\u001b[0m     \u001b[38;5;66;03m# Check whether the filename is to be opened in binary mode.\u001b[39;00m\n\u001b[1;32m    870\u001b[0m     \u001b[38;5;66;03m# Binary mode does not support 'encoding' and 'newline'.\u001b[39;00m\n\u001b[1;32m    871\u001b[0m     \u001b[38;5;28;01mif\u001b[39;00m ioargs\u001b[38;5;241m.\u001b[39mencoding \u001b[38;5;129;01mand\u001b[39;00m \u001b[38;5;124m\"\u001b[39m\u001b[38;5;124mb\u001b[39m\u001b[38;5;124m\"\u001b[39m \u001b[38;5;129;01mnot\u001b[39;00m \u001b[38;5;129;01min\u001b[39;00m ioargs\u001b[38;5;241m.\u001b[39mmode:\n\u001b[1;32m    872\u001b[0m         \u001b[38;5;66;03m# Encoding\u001b[39;00m\n\u001b[0;32m--> 873\u001b[0m         handle \u001b[38;5;241m=\u001b[39m \u001b[38;5;28;43mopen\u001b[39;49m\u001b[43m(\u001b[49m\n\u001b[1;32m    874\u001b[0m \u001b[43m            \u001b[49m\u001b[43mhandle\u001b[49m\u001b[43m,\u001b[49m\n\u001b[1;32m    875\u001b[0m \u001b[43m            \u001b[49m\u001b[43mioargs\u001b[49m\u001b[38;5;241;43m.\u001b[39;49m\u001b[43mmode\u001b[49m\u001b[43m,\u001b[49m\n\u001b[1;32m    876\u001b[0m \u001b[43m            \u001b[49m\u001b[43mencoding\u001b[49m\u001b[38;5;241;43m=\u001b[39;49m\u001b[43mioargs\u001b[49m\u001b[38;5;241;43m.\u001b[39;49m\u001b[43mencoding\u001b[49m\u001b[43m,\u001b[49m\n\u001b[1;32m    877\u001b[0m \u001b[43m            \u001b[49m\u001b[43merrors\u001b[49m\u001b[38;5;241;43m=\u001b[39;49m\u001b[43merrors\u001b[49m\u001b[43m,\u001b[49m\n\u001b[1;32m    878\u001b[0m \u001b[43m            \u001b[49m\u001b[43mnewline\u001b[49m\u001b[38;5;241;43m=\u001b[39;49m\u001b[38;5;124;43m\"\u001b[39;49m\u001b[38;5;124;43m\"\u001b[39;49m\u001b[43m,\u001b[49m\n\u001b[1;32m    879\u001b[0m \u001b[43m        \u001b[49m\u001b[43m)\u001b[49m\n\u001b[1;32m    880\u001b[0m     \u001b[38;5;28;01melse\u001b[39;00m:\n\u001b[1;32m    881\u001b[0m         \u001b[38;5;66;03m# Binary mode\u001b[39;00m\n\u001b[1;32m    882\u001b[0m         handle \u001b[38;5;241m=\u001b[39m \u001b[38;5;28mopen\u001b[39m(handle, ioargs\u001b[38;5;241m.\u001b[39mmode)\n",
      "\u001b[0;31mFileNotFoundError\u001b[0m: [Errno 2] No such file or directory: 'lakers.csv'"
     ]
    }
   ],
   "source": [
    "# Datasets\n",
    "dat2 = pd.read_csv('lakers.csv')"
   ]
  },
  {
   "cell_type": "markdown",
   "metadata": {
    "slideshow": {
     "slide_type": "slide"
    }
   },
   "source": [
    "## Wrangling Dates and Times\n",
    "\n",
    "**Exercise**: Explore this dataset."
   ]
  },
  {
   "cell_type": "code",
   "execution_count": null,
   "metadata": {
    "execution": {
     "iopub.status.busy": "2024-07-10T14:36:48.156318Z",
     "iopub.status.idle": "2024-07-10T14:36:48.156448Z",
     "shell.execute_reply": "2024-07-10T14:36:48.156388Z",
     "shell.execute_reply.started": "2024-07-10T14:36:48.156383Z"
    },
    "slideshow": {
     "slide_type": "fragment"
    }
   },
   "outputs": [],
   "source": [
    "# Your code here"
   ]
  },
  {
   "cell_type": "markdown",
   "metadata": {
    "slideshow": {
     "slide_type": "slide"
    }
   },
   "source": [
    "## Wrangling Dates and Times\n",
    "\n",
    "### Pandas\n",
    "\n",
    "To parse dates and times on pandas, we use the to_datetime method:"
   ]
  },
  {
   "cell_type": "code",
   "execution_count": null,
   "metadata": {
    "execution": {
     "iopub.status.busy": "2024-07-10T14:36:48.157098Z",
     "iopub.status.idle": "2024-07-10T14:36:48.157226Z",
     "shell.execute_reply": "2024-07-10T14:36:48.157159Z",
     "shell.execute_reply.started": "2024-07-10T14:36:48.157154Z"
    },
    "slideshow": {
     "slide_type": "fragment"
    }
   },
   "outputs": [],
   "source": [
    "# More on that later..."
   ]
  },
  {
   "cell_type": "markdown",
   "metadata": {
    "slideshow": {
     "slide_type": "slide"
    }
   },
   "source": [
    "# Advanced Data Wrangling"
   ]
  },
  {
   "cell_type": "markdown",
   "metadata": {
    "slideshow": {
     "slide_type": "slide"
    }
   },
   "source": [
    "## Roadmap\n",
    "\n",
    "1. Drop variables\n",
    "\n",
    "1. Sort variables\n",
    "\n",
    "1. Indexing (basics)\n",
    "\n",
    "1. Subsetting observations\n",
    "\n",
    "1. Variable computations\n",
    "\n",
    "1. Chaining\n",
    "\n",
    "1. Stacking data\n",
    "\n",
    "1. Joining data\n",
    "\n",
    "1. Reshaping data"
   ]
  },
  {
   "cell_type": "markdown",
   "metadata": {
    "slideshow": {
     "slide_type": "slide"
    }
   },
   "source": [
    "## Loading PErisk"
   ]
  },
  {
   "cell_type": "code",
   "execution_count": null,
   "metadata": {
    "execution": {
     "iopub.status.busy": "2024-07-10T14:36:48.157837Z",
     "iopub.status.idle": "2024-07-10T14:36:48.158083Z",
     "shell.execute_reply": "2024-07-10T14:36:48.157985Z",
     "shell.execute_reply.started": "2024-07-10T14:36:48.157979Z"
    },
    "tags": []
   },
   "outputs": [],
   "source": [
    "perisk = pd.read_csv('PErisk.csv')\n",
    "perisk.head(2)"
   ]
  },
  {
   "cell_type": "code",
   "execution_count": null,
   "metadata": {
    "execution": {
     "iopub.status.busy": "2024-07-10T14:36:48.158563Z",
     "iopub.status.idle": "2024-07-10T14:36:48.158702Z",
     "shell.execute_reply": "2024-07-10T14:36:48.158621Z",
     "shell.execute_reply.started": "2024-07-10T14:36:48.158617Z"
    },
    "tags": []
   },
   "outputs": [],
   "source": [
    "tips = pd.read_csv('tips.csv')\n",
    "tips.head(2)"
   ]
  },
  {
   "cell_type": "markdown",
   "metadata": {},
   "source": [
    "## Dropping variables\n",
    "\n",
    "This should be useful, especially when you have multiple variables."
   ]
  },
  {
   "cell_type": "code",
   "execution_count": null,
   "metadata": {
    "execution": {
     "iopub.status.busy": "2024-07-10T14:36:48.159232Z",
     "iopub.status.idle": "2024-07-10T14:36:48.159362Z",
     "shell.execute_reply": "2024-07-10T14:36:48.159285Z",
     "shell.execute_reply.started": "2024-07-10T14:36:48.159281Z"
    },
    "tags": []
   },
   "outputs": [],
   "source": [
    "new_perisk = perisk.drop(columns = ['courts', 'barb2', 'gdpw2'])"
   ]
  },
  {
   "cell_type": "code",
   "execution_count": null,
   "metadata": {
    "execution": {
     "iopub.status.busy": "2024-07-10T14:36:48.160021Z",
     "iopub.status.idle": "2024-07-10T14:36:48.160168Z",
     "shell.execute_reply": "2024-07-10T14:36:48.160081Z",
     "shell.execute_reply.started": "2024-07-10T14:36:48.160077Z"
    },
    "tags": []
   },
   "outputs": [],
   "source": [
    "new_perisk.head(4)"
   ]
  },
  {
   "cell_type": "markdown",
   "metadata": {},
   "source": [
    "## Dropping variables\n",
    "\n",
    "**Your turn**: Drop two variables of your choice in the `tips` dataset."
   ]
  },
  {
   "cell_type": "code",
   "execution_count": null,
   "metadata": {
    "execution": {
     "iopub.status.busy": "2024-07-10T14:36:48.160646Z",
     "iopub.status.idle": "2024-07-10T14:36:48.160779Z",
     "shell.execute_reply": "2024-07-10T14:36:48.160718Z",
     "shell.execute_reply.started": "2024-07-10T14:36:48.160713Z"
    },
    "tags": []
   },
   "outputs": [],
   "source": [
    "tips.head(2)\n",
    "# Your answers here"
   ]
  },
  {
   "cell_type": "markdown",
   "metadata": {},
   "source": [
    "## Changing position variables\n",
    "\n",
    "Reindex helps you with this:"
   ]
  },
  {
   "cell_type": "code",
   "execution_count": null,
   "metadata": {
    "execution": {
     "iopub.status.busy": "2024-07-10T14:36:48.161294Z",
     "iopub.status.idle": "2024-07-10T14:36:48.161483Z",
     "shell.execute_reply": "2024-07-10T14:36:48.161410Z",
     "shell.execute_reply.started": "2024-07-10T14:36:48.161405Z"
    },
    "tags": []
   },
   "outputs": [],
   "source": [
    "new_perisk = perisk.reindex(columns = ['country', 'courts', 'prsexp2', 'prscorr2', 'gdpw2', 'barb2'])"
   ]
  },
  {
   "cell_type": "code",
   "execution_count": null,
   "metadata": {
    "execution": {
     "iopub.status.busy": "2024-07-10T14:36:48.162094Z",
     "iopub.status.idle": "2024-07-10T14:36:48.162239Z",
     "shell.execute_reply": "2024-07-10T14:36:48.162156Z",
     "shell.execute_reply.started": "2024-07-10T14:36:48.162151Z"
    },
    "tags": []
   },
   "outputs": [],
   "source": [
    "new_perisk.head(4)"
   ]
  },
  {
   "cell_type": "markdown",
   "metadata": {},
   "source": [
    "## Changing position variables\n",
    "\n",
    "**Your turn**: Organize the `tips` dataset by placing the numeric variables first, and the other variables last."
   ]
  },
  {
   "cell_type": "code",
   "execution_count": null,
   "metadata": {
    "execution": {
     "iopub.status.busy": "2024-07-10T14:36:48.162751Z",
     "iopub.status.idle": "2024-07-10T14:36:48.162900Z",
     "shell.execute_reply": "2024-07-10T14:36:48.162817Z",
     "shell.execute_reply.started": "2024-07-10T14:36:48.162813Z"
    },
    "tags": []
   },
   "outputs": [],
   "source": [
    "tips.head(2)\n",
    "# Your answers here"
   ]
  },
  {
   "cell_type": "markdown",
   "metadata": {},
   "source": [
    "## Sorting variables\n",
    "\n",
    "Useful for situations when need to check the dataset."
   ]
  },
  {
   "cell_type": "code",
   "execution_count": null,
   "metadata": {
    "execution": {
     "iopub.status.busy": "2024-07-10T14:36:48.163826Z",
     "iopub.status.idle": "2024-07-10T14:36:48.163973Z",
     "shell.execute_reply": "2024-07-10T14:36:48.163903Z",
     "shell.execute_reply.started": "2024-07-10T14:36:48.163898Z"
    },
    "tags": []
   },
   "outputs": [],
   "source": [
    "new_perisk = perisk.sort_values('gdpw2', ascending = True)"
   ]
  },
  {
   "cell_type": "code",
   "execution_count": null,
   "metadata": {
    "execution": {
     "iopub.status.busy": "2024-07-10T14:36:48.164444Z",
     "iopub.status.idle": "2024-07-10T14:36:48.164675Z",
     "shell.execute_reply": "2024-07-10T14:36:48.164565Z",
     "shell.execute_reply.started": "2024-07-10T14:36:48.164559Z"
    },
    "tags": []
   },
   "outputs": [],
   "source": [
    "new_perisk.head(3)"
   ]
  },
  {
   "cell_type": "code",
   "execution_count": null,
   "metadata": {
    "execution": {
     "iopub.status.busy": "2024-07-10T14:36:48.165247Z",
     "iopub.status.idle": "2024-07-10T14:36:48.165371Z",
     "shell.execute_reply": "2024-07-10T14:36:48.165309Z",
     "shell.execute_reply.started": "2024-07-10T14:36:48.165304Z"
    },
    "tags": []
   },
   "outputs": [],
   "source": [
    "new_perisk = perisk.sort_values('gdpw2', ascending = False)"
   ]
  },
  {
   "cell_type": "code",
   "execution_count": null,
   "metadata": {
    "execution": {
     "iopub.status.busy": "2024-07-10T14:36:48.165759Z",
     "iopub.status.idle": "2024-07-10T14:36:48.165869Z",
     "shell.execute_reply": "2024-07-10T14:36:48.165810Z",
     "shell.execute_reply.started": "2024-07-10T14:36:48.165806Z"
    },
    "tags": []
   },
   "outputs": [],
   "source": [
    "new_perisk.head(3)"
   ]
  },
  {
   "cell_type": "markdown",
   "metadata": {},
   "source": [
    "## Sorting variables\n",
    "\n",
    "**Your turn**: Sort the `tips` dataset by the value of the tip."
   ]
  },
  {
   "cell_type": "code",
   "execution_count": null,
   "metadata": {
    "execution": {
     "iopub.status.busy": "2024-07-10T14:36:48.166387Z",
     "iopub.status.idle": "2024-07-10T14:36:48.166495Z",
     "shell.execute_reply": "2024-07-10T14:36:48.166436Z",
     "shell.execute_reply.started": "2024-07-10T14:36:48.166432Z"
    },
    "tags": []
   },
   "outputs": [],
   "source": [
    "tips.head(2)\n",
    "# Your answers here"
   ]
  },
  {
   "cell_type": "markdown",
   "metadata": {},
   "source": [
    "## Indexing (basics)\n",
    "\n",
    "Adding indexes:"
   ]
  },
  {
   "cell_type": "code",
   "execution_count": null,
   "metadata": {
    "execution": {
     "iopub.status.busy": "2024-07-10T14:36:48.166971Z",
     "iopub.status.idle": "2024-07-10T14:36:48.167100Z",
     "shell.execute_reply": "2024-07-10T14:36:48.167039Z",
     "shell.execute_reply.started": "2024-07-10T14:36:48.167034Z"
    },
    "tags": []
   },
   "outputs": [],
   "source": [
    "new_perisk = perisk.set_index('country')"
   ]
  },
  {
   "cell_type": "code",
   "execution_count": null,
   "metadata": {
    "execution": {
     "iopub.status.busy": "2024-07-10T14:36:48.167693Z",
     "iopub.status.idle": "2024-07-10T14:36:48.168056Z",
     "shell.execute_reply": "2024-07-10T14:36:48.167979Z",
     "shell.execute_reply.started": "2024-07-10T14:36:48.167973Z"
    },
    "tags": []
   },
   "outputs": [],
   "source": [
    "new_perisk.head(2)"
   ]
  },
  {
   "cell_type": "markdown",
   "metadata": {},
   "source": [
    "Sort indexes:"
   ]
  },
  {
   "cell_type": "code",
   "execution_count": null,
   "metadata": {
    "execution": {
     "iopub.status.busy": "2024-07-10T14:36:48.168555Z",
     "iopub.status.idle": "2024-07-10T14:36:48.168705Z",
     "shell.execute_reply": "2024-07-10T14:36:48.168616Z",
     "shell.execute_reply.started": "2024-07-10T14:36:48.168610Z"
    },
    "tags": []
   },
   "outputs": [],
   "source": [
    "new_perisk = new_perisk.sort_index(ascending = False)\n",
    "new_perisk.head(2)"
   ]
  },
  {
   "cell_type": "markdown",
   "metadata": {},
   "source": [
    "Drop indexes:"
   ]
  },
  {
   "cell_type": "code",
   "execution_count": null,
   "metadata": {
    "execution": {
     "iopub.status.busy": "2024-07-10T14:36:48.169349Z",
     "iopub.status.idle": "2024-07-10T14:36:48.169493Z",
     "shell.execute_reply": "2024-07-10T14:36:48.169413Z",
     "shell.execute_reply.started": "2024-07-10T14:36:48.169408Z"
    },
    "tags": []
   },
   "outputs": [],
   "source": [
    "new_perisk = new_perisk.reset_index()\n",
    "new_perisk.head(2)"
   ]
  },
  {
   "cell_type": "markdown",
   "metadata": {},
   "source": [
    "## Indexing (basics)\n",
    "\n",
    "**Your turn**: Set the `obs` as the index of the `tips` dataset. Then undo it."
   ]
  },
  {
   "cell_type": "code",
   "execution_count": null,
   "metadata": {
    "execution": {
     "iopub.status.busy": "2024-07-10T14:36:48.170385Z",
     "iopub.status.idle": "2024-07-10T14:36:48.170514Z",
     "shell.execute_reply": "2024-07-10T14:36:48.170452Z",
     "shell.execute_reply.started": "2024-07-10T14:36:48.170442Z"
    },
    "tags": []
   },
   "outputs": [],
   "source": [
    "tips.head(2)\n",
    "# Your answers here"
   ]
  },
  {
   "cell_type": "markdown",
   "metadata": {},
   "source": [
    "## Sampling\n",
    "\n",
    "Sample a fraction of the data:"
   ]
  },
  {
   "cell_type": "code",
   "execution_count": null,
   "metadata": {
    "execution": {
     "iopub.status.busy": "2024-07-10T14:36:48.170937Z",
     "iopub.status.idle": "2024-07-10T14:36:48.171093Z",
     "shell.execute_reply": "2024-07-10T14:36:48.171034Z",
     "shell.execute_reply.started": "2024-07-10T14:36:48.171029Z"
    },
    "tags": []
   },
   "outputs": [],
   "source": [
    "new_perisk = perisk.sample(frac = 0.05)\n",
    "new_perisk"
   ]
  },
  {
   "cell_type": "markdown",
   "metadata": {},
   "source": [
    "Sample a given number of cases:"
   ]
  },
  {
   "cell_type": "code",
   "execution_count": null,
   "metadata": {
    "execution": {
     "iopub.status.busy": "2024-07-10T14:36:48.171454Z",
     "iopub.status.idle": "2024-07-10T14:36:48.171562Z",
     "shell.execute_reply": "2024-07-10T14:36:48.171505Z",
     "shell.execute_reply.started": "2024-07-10T14:36:48.171501Z"
    },
    "tags": []
   },
   "outputs": [],
   "source": [
    "new_perisk = perisk.sample(n = 3)\n",
    "new_perisk"
   ]
  },
  {
   "cell_type": "markdown",
   "metadata": {},
   "source": [
    "## Sampling\n",
    "\n",
    "**Your turn**: Sample `20` observations from `tips`."
   ]
  },
  {
   "cell_type": "code",
   "execution_count": null,
   "metadata": {
    "execution": {
     "iopub.status.busy": "2024-07-10T14:36:48.172467Z",
     "iopub.status.idle": "2024-07-10T14:36:48.172585Z",
     "shell.execute_reply": "2024-07-10T14:36:48.172525Z",
     "shell.execute_reply.started": "2024-07-10T14:36:48.172521Z"
    },
    "tags": []
   },
   "outputs": [],
   "source": [
    "tips.head(2)\n",
    "# Your answers here"
   ]
  },
  {
   "cell_type": "markdown",
   "metadata": {
    "tags": []
   },
   "source": [
    "## Subsetting\n",
    "\n",
    "Subsetting using query:"
   ]
  },
  {
   "cell_type": "code",
   "execution_count": null,
   "metadata": {
    "execution": {
     "iopub.status.busy": "2024-07-10T14:36:48.173097Z",
     "iopub.status.idle": "2024-07-10T14:36:48.173233Z",
     "shell.execute_reply": "2024-07-10T14:36:48.173149Z",
     "shell.execute_reply.started": "2024-07-10T14:36:48.173144Z"
    },
    "tags": []
   },
   "outputs": [],
   "source": [
    "new_perisk = perisk.query('gdpw2 > 10 and courts == 1')\n",
    "new_perisk.head()"
   ]
  },
  {
   "cell_type": "markdown",
   "metadata": {},
   "source": [
    "## Subsetting\n",
    "\n",
    "**Your turn**: Sample `50` observations from `tips`. Then, keep only the tips that are either bigger than or equal 10 dollars or came from a smoker. How many observations did you end up with?"
   ]
  },
  {
   "cell_type": "code",
   "execution_count": null,
   "metadata": {
    "execution": {
     "iopub.status.busy": "2024-07-10T14:36:48.174025Z",
     "iopub.status.idle": "2024-07-10T14:36:48.174335Z",
     "shell.execute_reply": "2024-07-10T14:36:48.174232Z",
     "shell.execute_reply.started": "2024-07-10T14:36:48.174221Z"
    },
    "tags": []
   },
   "outputs": [],
   "source": [
    "tips.head(2)\n",
    "# Your answers here"
   ]
  },
  {
   "cell_type": "markdown",
   "metadata": {
    "tags": []
   },
   "source": [
    "## Subsetting\n",
    "\n",
    "Dropping duplicates:"
   ]
  },
  {
   "cell_type": "code",
   "execution_count": null,
   "metadata": {
    "execution": {
     "iopub.status.busy": "2024-07-10T14:36:48.174753Z",
     "iopub.status.idle": "2024-07-10T14:36:48.174911Z",
     "shell.execute_reply": "2024-07-10T14:36:48.174833Z",
     "shell.execute_reply.started": "2024-07-10T14:36:48.174828Z"
    },
    "tags": []
   },
   "outputs": [],
   "source": [
    "new_perisk = perisk.sample(n = 5, replace = True, random_state = 479)\n",
    "new_perisk"
   ]
  },
  {
   "cell_type": "code",
   "execution_count": null,
   "metadata": {
    "execution": {
     "iopub.status.busy": "2024-07-10T14:36:48.175486Z",
     "iopub.status.idle": "2024-07-10T14:36:48.175612Z",
     "shell.execute_reply": "2024-07-10T14:36:48.175548Z",
     "shell.execute_reply.started": "2024-07-10T14:36:48.175544Z"
    },
    "tags": []
   },
   "outputs": [],
   "source": [
    "new_perisk.drop_duplicates()"
   ]
  },
  {
   "cell_type": "markdown",
   "metadata": {},
   "source": [
    "## Subsetting\n",
    "\n",
    "**Your turn**: A common operation in data science is called [`bootstrapping`](https://en.wikipedia.org/wiki/Bootstrapping_(statistics)). It consists in randomly generate samples of the dataset you are working with replacement.\n",
    "\n",
    "1. Create a sample with the `tips` with replacement, with the same size as the original data.\n",
    "\n",
    "2. Check how many observations were repeated."
   ]
  },
  {
   "cell_type": "code",
   "execution_count": null,
   "metadata": {
    "execution": {
     "iopub.status.busy": "2024-07-10T14:36:48.176329Z",
     "iopub.status.idle": "2024-07-10T14:36:48.176475Z",
     "shell.execute_reply": "2024-07-10T14:36:48.176392Z",
     "shell.execute_reply.started": "2024-07-10T14:36:48.176388Z"
    },
    "tags": []
   },
   "outputs": [],
   "source": [
    "tips.head(2)\n",
    "# Your answers here"
   ]
  },
  {
   "cell_type": "markdown",
   "metadata": {
    "tags": []
   },
   "source": [
    "## Variable operations\n",
    "\n",
    "Creating new variables with computations (multiple columns):"
   ]
  },
  {
   "cell_type": "code",
   "execution_count": null,
   "metadata": {
    "execution": {
     "iopub.status.busy": "2024-07-10T14:36:48.177113Z",
     "iopub.status.idle": "2024-07-10T14:36:48.177506Z",
     "shell.execute_reply": "2024-07-10T14:36:48.177431Z",
     "shell.execute_reply.started": "2024-07-10T14:36:48.177425Z"
    },
    "tags": []
   },
   "outputs": [],
   "source": [
    "new_perisk = perisk.assign(\n",
    "    risk_expr = 5 - perisk.prsexp2,\n",
    "    risk_corr = 5 - perisk.prscorr2,\n",
    ")\n",
    "new_perisk.head()"
   ]
  },
  {
   "cell_type": "markdown",
   "metadata": {},
   "source": [
    "## Variable operations\n",
    "\n",
    "**Your turn**: Create a variable `share_bill_tip`, that computes the fraction of the bill that was give as a `tip`."
   ]
  },
  {
   "cell_type": "code",
   "execution_count": null,
   "metadata": {
    "execution": {
     "iopub.status.busy": "2024-07-10T14:36:48.177868Z",
     "iopub.status.idle": "2024-07-10T14:36:48.178016Z",
     "shell.execute_reply": "2024-07-10T14:36:48.177924Z",
     "shell.execute_reply.started": "2024-07-10T14:36:48.177920Z"
    },
    "tags": []
   },
   "outputs": [],
   "source": [
    "tips.head(2)\n",
    "# Your answers here"
   ]
  },
  {
   "cell_type": "markdown",
   "metadata": {
    "tags": []
   },
   "source": [
    "## Variable operations\n",
    "\n",
    "Quantiles of a variable:"
   ]
  },
  {
   "cell_type": "code",
   "execution_count": null,
   "metadata": {
    "execution": {
     "iopub.status.busy": "2024-07-10T14:36:48.178790Z",
     "iopub.status.idle": "2024-07-10T14:36:48.178926Z",
     "shell.execute_reply": "2024-07-10T14:36:48.178861Z",
     "shell.execute_reply.started": "2024-07-10T14:36:48.178856Z"
    },
    "tags": []
   },
   "outputs": [],
   "source": [
    "perisk.gdpw2.quantile(q = [0, 0.25, 0.5, 0.75, 1])"
   ]
  },
  {
   "cell_type": "markdown",
   "metadata": {},
   "source": [
    "And we can bin by quantiles:"
   ]
  },
  {
   "cell_type": "code",
   "execution_count": null,
   "metadata": {
    "execution": {
     "iopub.status.busy": "2024-07-10T14:36:48.179353Z",
     "iopub.status.idle": "2024-07-10T14:36:48.179488Z",
     "shell.execute_reply": "2024-07-10T14:36:48.179423Z",
     "shell.execute_reply.started": "2024-07-10T14:36:48.179418Z"
    },
    "tags": []
   },
   "outputs": [],
   "source": [
    "new_perisk = perisk.assign(\n",
    "    gdpw2_bin = pd.qcut(perisk.gdpw2, q = 4)\n",
    ")\n",
    "new_perisk.head()"
   ]
  },
  {
   "cell_type": "markdown",
   "metadata": {},
   "source": [
    "## Quantile cuts\n",
    "\n",
    "**Your turn**: Cut the `share_bill_tip` into three categories. Then build a table of this variable."
   ]
  },
  {
   "cell_type": "code",
   "execution_count": null,
   "metadata": {
    "execution": {
     "iopub.status.busy": "2024-07-10T14:36:48.179857Z",
     "iopub.status.idle": "2024-07-10T14:36:48.179997Z",
     "shell.execute_reply": "2024-07-10T14:36:48.179913Z",
     "shell.execute_reply.started": "2024-07-10T14:36:48.179908Z"
    },
    "tags": []
   },
   "outputs": [],
   "source": [
    "tips.head(2)\n",
    "# Your answers here"
   ]
  },
  {
   "cell_type": "markdown",
   "metadata": {
    "tags": []
   },
   "source": [
    "## Variable operations\n",
    "\n",
    "Little bit of a 0-1 index:"
   ]
  },
  {
   "cell_type": "code",
   "execution_count": null,
   "metadata": {
    "execution": {
     "iopub.status.busy": "2024-07-10T14:36:48.180637Z",
     "iopub.status.idle": "2024-07-10T14:36:48.180866Z",
     "shell.execute_reply": "2024-07-10T14:36:48.180771Z",
     "shell.execute_reply.started": "2024-07-10T14:36:48.180763Z"
    },
    "tags": []
   },
   "outputs": [],
   "source": [
    "new_perisk = perisk.assign(\n",
    "    z1_barb2 = (perisk.barb2 - perisk.barb2.min()) / (perisk.barb2.max() - perisk.barb2.min())\n",
    ")\n",
    "new_perisk.head()"
   ]
  },
  {
   "cell_type": "markdown",
   "metadata": {},
   "source": [
    "## Zero-One Indexing\n",
    "\n",
    "**Your turn**: Create a variable `zero_one_totbill`, that transforms the total bill into a zero - one variable."
   ]
  },
  {
   "cell_type": "code",
   "execution_count": null,
   "metadata": {
    "execution": {
     "iopub.status.busy": "2024-07-10T14:36:48.181209Z",
     "iopub.status.idle": "2024-07-10T14:36:48.181335Z",
     "shell.execute_reply": "2024-07-10T14:36:48.181268Z",
     "shell.execute_reply.started": "2024-07-10T14:36:48.181263Z"
    },
    "tags": []
   },
   "outputs": [],
   "source": [
    "tips.head(2)\n",
    "# Your answers here"
   ]
  },
  {
   "cell_type": "markdown",
   "metadata": {
    "tags": []
   },
   "source": [
    "## Variable operations\n",
    "\n",
    "Standardizing values or taking absolute values:"
   ]
  },
  {
   "cell_type": "code",
   "execution_count": null,
   "metadata": {
    "execution": {
     "iopub.status.busy": "2024-07-10T14:36:48.181961Z",
     "iopub.status.idle": "2024-07-10T14:36:48.182106Z",
     "shell.execute_reply": "2024-07-10T14:36:48.182024Z",
     "shell.execute_reply.started": "2024-07-10T14:36:48.182020Z"
    },
    "tags": []
   },
   "outputs": [],
   "source": [
    "stdz = lambda x: (x - x.mean()) / x.std()\n",
    "new_perisk = perisk.assign(\n",
    "    stdz_barb2 = stdz(perisk.barb2),\n",
    "    stdz_gdpw2 = stdz(perisk.gdpw2),\n",
    "    abs_barb2 = perisk.barb2.abs()\n",
    ")\n",
    "new_perisk.head()"
   ]
  },
  {
   "cell_type": "markdown",
   "metadata": {},
   "source": [
    "Clipping values: force lower and higher to be of a given value (danger zone!)."
   ]
  },
  {
   "cell_type": "code",
   "execution_count": null,
   "metadata": {
    "execution": {
     "iopub.status.busy": "2024-07-10T14:36:48.182569Z",
     "iopub.status.idle": "2024-07-10T14:36:48.182695Z",
     "shell.execute_reply": "2024-07-10T14:36:48.182634Z",
     "shell.execute_reply.started": "2024-07-10T14:36:48.182629Z"
    },
    "tags": []
   },
   "outputs": [],
   "source": [
    "new_perisk = new_perisk.assign(\n",
    "    stdz_barb2 = new_perisk.stdz_barb2.clip(lower = -1, upper = 1),\n",
    "    stdz_gdpw2 = new_perisk.stdz_gdpw2.clip(lower = -1, upper = 1),\n",
    ")\n",
    "new_perisk.head(3)"
   ]
  },
  {
   "cell_type": "markdown",
   "metadata": {},
   "source": [
    "## Standardizing\n",
    "\n",
    "**Your turn**: \n",
    "\n",
    "1. Standardize the total bill.\n",
    "2. Create a new variable that standardize the tips, clipping values to be between -2 and 2 standard deviations.\n",
    "3. Count the values within and outside these bounds.\n",
    "\n",
    "Do you know what these countings mean?"
   ]
  },
  {
   "cell_type": "code",
   "execution_count": null,
   "metadata": {
    "execution": {
     "iopub.status.busy": "2024-07-10T14:36:48.183170Z",
     "iopub.status.idle": "2024-07-10T14:36:48.183383Z",
     "shell.execute_reply": "2024-07-10T14:36:48.183231Z",
     "shell.execute_reply.started": "2024-07-10T14:36:48.183226Z"
    },
    "tags": []
   },
   "outputs": [],
   "source": [
    "tips.head(2)\n",
    "# Your answers here"
   ]
  },
  {
   "cell_type": "markdown",
   "metadata": {
    "slideshow": {
     "slide_type": "slide"
    }
   },
   "source": [
    "# Great work!"
   ]
  }
 ],
 "metadata": {
  "celltoolbar": "Slideshow",
  "kernelspec": {
   "display_name": "Python 3 (ipykernel)",
   "language": "python",
   "name": "python3"
  },
  "language_info": {
   "codemirror_mode": {
    "name": "ipython",
    "version": 3
   },
   "file_extension": ".py",
   "mimetype": "text/x-python",
   "name": "python",
   "nbconvert_exporter": "python",
   "pygments_lexer": "ipython3",
   "version": "3.9.18"
  }
 },
 "nbformat": 4,
 "nbformat_minor": 4
}
