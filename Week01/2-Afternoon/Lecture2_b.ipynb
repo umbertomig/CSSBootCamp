{
 "cells": [
  {
   "cell_type": "markdown",
   "metadata": {
    "slideshow": {
     "slide_type": "slide"
    }
   },
   "source": [
    "# CSS 201 / 202 - CSS Bootcamp\n",
    "\n",
    "## Week 01 - Lecture 02 (afternoon)\n",
    "\n",
    "### Umberto Mignozzetti (UCSD)"
   ]
  },
  {
   "cell_type": "markdown",
   "metadata": {
    "slideshow": {
     "slide_type": "slide"
    }
   },
   "source": [
    "# Calculus"
   ]
  },
  {
   "cell_type": "markdown",
   "metadata": {
    "slideshow": {
     "slide_type": "slide"
    }
   },
   "source": [
    "## Recap\n",
    "\n",
    "- Functions\n",
    "- Derivatives\n",
    "- Optimization"
   ]
  },
  {
   "cell_type": "markdown",
   "metadata": {
    "slideshow": {
     "slide_type": "slide"
    }
   },
   "source": [
    "## Today\n",
    "\n",
    "- Composite function\n",
    "- Exponentials and logarithms\n",
    "- Functions of several variables"
   ]
  },
  {
   "cell_type": "markdown",
   "metadata": {
    "slideshow": {
     "slide_type": "slide"
    }
   },
   "source": [
    "## Composite function"
   ]
  },
  {
   "cell_type": "markdown",
   "metadata": {
    "slideshow": {
     "slide_type": "slide"
    }
   },
   "source": [
    "### Composite Function\n",
    "\n",
    "Let $g$ and $h$ be two functions on $\\mathbb{R}$.\n",
    "\n",
    "- The function built by applying $g$ to any number $x$ and then using $h$ to the result $g(x)$ is called the *composition of functions* $g$ and $h$.\n",
    "- $f(x) = h(g(x))$ or $f(x) = (h \\circ g)(x)$.\n",
    "- The function $f$ is called the composite of functions $h$ and $g$."
   ]
  },
  {
   "cell_type": "markdown",
   "metadata": {
    "slideshow": {
     "slide_type": "slide"
    }
   },
   "source": [
    "### Composite Function Examples\n",
    "\n",
    "If $g(x) = x^2$ and $h(x) = x + 4$:\n",
    "\n",
    "- $(h \\circ g)(x) = x^2 + 4$\n",
    "- $(g \\circ h)(x) = (x + 4)^2$\n",
    "- **Important:** $(h \\circ g)(x) \\neq (g \\circ h)(x)$\n",
    "\n",
    "Let $g(x)$. If $h(x) = x^k$, then $(h \\circ g)(x) = (g(x))^k$."
   ]
  },
  {
   "cell_type": "markdown",
   "metadata": {
    "slideshow": {
     "slide_type": "slide"
    }
   },
   "source": [
    "### Chain Rule\n",
    "\n",
    "**Chain Rule**\n",
    "\n",
    "Let $f(x) = (h \\circ g)(x) = h(g(x))$. Then:\n",
    "\n",
    "$$ f'(x) = h'(g(x))g'(x) $$\n",
    "\n",
    "Example: Prove that $\\dfrac{d}{dx}\\left[g(x)^k\\right] = k(g(x))^{k-1}g'(x)$."
   ]
  },
  {
   "cell_type": "markdown",
   "metadata": {
    "slideshow": {
     "slide_type": "slide"
    }
   },
   "source": [
    "### Exercise\n",
    "\n",
    "**Your turn!** Find the derivatives for:\n",
    "\n",
    "1. $(h \\circ g)(x)$, with $g(x) = x^2 + 4$ and $h(z) = 5z - 1$.\n",
    "2. $(\\varphi \\circ \\gamma)(\\tau)$, with $\\gamma(\\tau) = \\tau^3$ and $\\varphi(\\lambda) = \\dfrac{\\lambda - 1}{\\lambda + 1}$."
   ]
  },
  {
   "cell_type": "markdown",
   "metadata": {
    "slideshow": {
     "slide_type": "slide"
    }
   },
   "source": [
    "## Exponentials and Logarithms"
   ]
  },
  {
   "cell_type": "markdown",
   "metadata": {
    "slideshow": {
     "slide_type": "slide"
    }
   },
   "source": [
    "### Exponentials and Logs\n",
    "\n",
    "**Definition: Exponential Function**\n",
    "\n",
    "For $a \\in \\mathbb{R}^*_{+}$ (positive real number), the exponential function is defined as:\n",
    "\n",
    "$$ f(x) = a^x $$\n",
    "\n",
    "And $a$ is called the base of the exp. function.\n",
    "\n",
    "Examples:\n",
    "\n",
    "1. If $x$ is a positive integer, $a^{x}$ means \"multiply $a$ by itself $x$ times.\"\n",
    "2. If $x=0$, \\quad $a^{0}=1$, by definition.\n",
    "3. If $x=\\dfrac{1}{n}$, \\quad  $a^{\\frac{1}{n}}=\\sqrt[n]{a}$.\n",
    "4. If $x=\\dfrac{m}{n}$, \\quad  $a^{\\frac{m}{n}}=(\\sqrt[n]{a})^{m}$."
   ]
  },
  {
   "cell_type": "markdown",
   "metadata": {
    "slideshow": {
     "slide_type": "slide"
    }
   },
   "source": [
    "### Exponential Function and Graphs\n",
    "\n",
    "![explog1](https://github.com/umbertomig/CSSBootCamp/blob/main/img/explog1.png?raw=true)\n",
    "![explog2](https://github.com/umbertomig/CSSBootCamp/blob/main/img/explog2.png?raw=true)"
   ]
  },
  {
   "cell_type": "markdown",
   "metadata": {
    "slideshow": {
     "slide_type": "slide"
    }
   },
   "source": [
    "### More Graphs of Exponentials\n",
    "\n",
    "![explog3](https://github.com/umbertomig/CSSBootCamp/blob/main/img/explog3.png?raw=true)"
   ]
  },
  {
   "cell_type": "markdown",
   "metadata": {
    "slideshow": {
     "slide_type": "slide"
    }
   },
   "source": [
    "### Base Between 0 and 1\n",
    "\n",
    "The graph of $y=b^{x}$ is a bit different if the base $b$ lies between 0 and 1.\n",
    "\n",
    "Consider $h(x)= \\left( \\dfrac{1}{2} \\right)^{x}$ as an example.\n",
    "\n",
    "$$ h(x)=\\left( \\dfrac{1}{2} \\right)^{x}= 2^{-x} $$\n",
    "\n",
    "This means that the graph of $h(x)= \\left( \\dfrac{1}{2} \\right)^{x}$ is simply the reflection of the graph of $f(x)=2^{x}$ in the $y$-axis."
   ]
  },
  {
   "cell_type": "markdown",
   "metadata": {
    "slideshow": {
     "slide_type": "slide"
    }
   },
   "source": [
    "### Graphs for Base Between 0 and 1\n",
    "\n",
    "![explog4](https://github.com/umbertomig/CSSBootCamp/blob/main/img/explog4.png?raw=true)\n",
    "![explog5](https://github.com/umbertomig/CSSBootCamp/blob/main/img/explog5.png?raw=true)"
   ]
  },
  {
   "cell_type": "markdown",
   "metadata": {
    "slideshow": {
     "slide_type": "slide"
    }
   },
   "source": [
    "### Important Properties of Exponentials\n",
    "\n",
    "**Important Properties:**\n",
    "\n",
    "Let $a \\in \\mathbb{R}^*_{+}$, we have:\n",
    "\n",
    "1. $a^{s}a^{r}=a^{s+r}$\n",
    "2. $a^{-r}=\\dfrac{1}{a^{r}}$\n",
    "3. $\\dfrac{a^{r}}{a^{s}}=a^{r-s}$\n",
    "4. $(a^{n})^{m}=a^{nm}$\n",
    "5. $a^{0}=1$"
   ]
  },
  {
   "cell_type": "markdown",
   "metadata": {
    "slideshow": {
     "slide_type": "slide"
    }
   },
   "source": [
    "### Number $e$\n",
    "\n",
    "The number $e$ is a mathematical constant that is the base of the natural logarithm: the unique number whose natural logarithm is equal to one.\n",
    "\n",
    "![explog6](https://github.com/umbertomig/CSSBootCamp/blob/main/img/explog6.png?raw=true)"
   ]
  },
  {
   "cell_type": "markdown",
   "metadata": {
    "slideshow": {
     "slide_type": "slide"
    }
   },
   "source": [
    "### Logarithms\n",
    "\n",
    "Consider a general exponential function $y=a^{x}$, with base $a> 1$. Such an exponential function is a strictly increasing function:\n",
    "\n",
    "$$ x_{1} > x_{2} \\implies a^{x_{1}} > a^{x_{2}} $$\n",
    "\n",
    "When $a <1$, it is strictly decreasing.\n",
    "\n",
    "The inverse of $z=a^{y}$, when the base $a$, is the **logarithm** with base $a$, and we write:\n",
    "\n",
    "$$ y = \\log_{a}(z) $$\n",
    "\n",
    "By definition, the logarithm of $z$ is the power to which one must raise $a$ to yield $z$.\n",
    "\n",
    "$$ a^{\\log_{a}(z)}=z \\quad \\text{and} \\quad \\log_{a}(a^{z})=z $$"
   ]
  },
  {
   "cell_type": "markdown",
   "metadata": {
    "slideshow": {
     "slide_type": "slide"
    }
   },
   "source": [
    "### Logarithm Examples\n",
    "\n",
    "Examples:\n",
    "\n",
    "1. $\\log 10=1$ since $10^{1}=10$\n",
    "2. $\\log 1=0$ since $10^{0}=1$\n",
    "3. $\\log 100000= 5$ since $10^{5}=100000$\n",
    "\n",
    "![explog7](https://github.com/umbertomig/CSSBootCamp/blob/main/img/explog7.png?raw=true)"
   ]
  },
  {
   "cell_type": "markdown",
   "metadata": {
    "slideshow": {
     "slide_type": "slide"
    }
   },
   "source": [
    "### Base $e$ Logarithms\n",
    "\n",
    "The inverse of $e^{x}$ is called the natural logarithm function and is written as $\\ln x$. Formally,\n",
    "\n",
    "$$ \\ln x = y \\text{ if and only if } e^{y} = x $$\n",
    "\n",
    "Examples:\n",
    "\n",
    "1. $\\ln e=1$ since $e^{1}=e$\n",
    "2. $\\ln 1=0$ since $e^{0}=1$\n",
    "3. $\\ln 40= 3.688...$ since $e^{3.688...}=40$"
   ]
  },
  {
   "cell_type": "markdown",
   "metadata": {
    "slideshow": {
     "slide_type": "slide"
    }
   },
   "source": [
    "### Properties of Logarithms\n",
    "\n",
    "Properties:\n",
    "\n",
    "1. $\\log (r \\cdot s)= \\log r + \\log s$\n",
    "2. $\\log \\left( \\frac{1}{s} \\right)=-\\log s$\n",
    "3. $\\log \\left( \\frac{r}{s} \\right)=\\log r - \\log s$\n",
    "4. $\\log r^{s}= s\\log r$\n",
    "5. $\\log 1=0$\n",
    "\n",
    "Solve the following equations:\n",
    "\n",
    "1. $e^{5x}=10$\n",
    "2. $\\ln x^{2}= 5$\n",
    "3. $2e^{6x}=18$"
   ]
  },
  {
   "cell_type": "markdown",
   "metadata": {
    "slideshow": {
     "slide_type": "slide"
    }
   },
   "source": [
    "### Derivative of Exponentials and Logs\n",
    "\n",
    "![explog8](https://github.com/umbertomig/CSSBootCamp/blob/main/img/explog8.png?raw=true)"
   ]
  },
  {
   "cell_type": "markdown",
   "metadata": {
    "slideshow": {
     "slide_type": "slide"
    }
   },
   "source": [
    "### Exercise\n",
    "\n",
    "**Your turn!** Compute the following derivatives:\n",
    "\n",
    "1. $(e^{5x})^{'}$\n",
    "2. $(\\ln x^{2})^{'}$\n",
    "3. $(e^{x}\\ln (x))^{'}$\n",
    "\n",
    "Study the properties of the density function of the standard normal distribution\n",
    "\n",
    "$$ f(x)= \\dfrac{1}{\\sqrt{2\\pi }}e^{-\\frac{x^{2}}{2}} $$"
   ]
  },
  {
   "cell_type": "markdown",
   "metadata": {
    "slideshow": {
     "slide_type": "slide"
    }
   },
   "source": [
    "### Newton's method\n",
    "\n",
    "Suppose we want to find a root of an equation. We can walk along the derivative! This guarantees the maximal rate of change:\n",
    "\n",
    "![nm1](https://github.com/umbertomig/CSSBootCamp/blob/main/img/nm1.png?raw=true)\n",
    "\n",
    "This is the formula for the Newton method:\n",
    "\n",
    "![nm1](https://github.com/umbertomig/CSSBootCamp/blob/main/img/nm2.png?raw=true)\n",
    "\n",
    "This is the basis for more complicated techniques we use in ML, such as Gradient Descent and its flavors."
   ]
  },
  {
   "cell_type": "markdown",
   "metadata": {
    "slideshow": {
     "slide_type": "slide"
    }
   },
   "source": [
    "### Newton's method (example)\n",
    "\n",
    "Starting with $x = 2$, find the approximation of the root of the equation:\n",
    "\n",
    "$$x^3 - 2x - 5 = 0$$"
   ]
  },
  {
   "cell_type": "markdown",
   "metadata": {
    "slideshow": {
     "slide_type": "slide"
    }
   },
   "source": [
    "### Newton's method (exercise)\n",
    "\n",
    "Consider the function:\n",
    "\n",
    "$$ f(x) = x^6 - x^4 + 3x^3 - 2x $$\n",
    "\n",
    "1. Use Newton’s method to find the critical numbers of the function $f$ correct to six decimal places.\n",
    "\n",
    "1. Find the absolute minimum value of $f$ correct to four decimal places."
   ]
  },
  {
   "cell_type": "markdown",
   "metadata": {
    "slideshow": {
     "slide_type": "slide"
    }
   },
   "source": [
    "## Functions of Several Variables"
   ]
  },
  {
   "cell_type": "markdown",
   "metadata": {
    "slideshow": {
     "slide_type": "slide"
    }
   },
   "source": [
    "### Functions of Several Variables\n",
    "\n",
    "**Definition**: A function from a set $A$ to a set $B$ is a rule that assigns to each object in $A$ one and only one object in $B$.\n",
    "\n",
    "In this case, we write $f: A \\rightarrow B$.\n",
    "\n",
    "The set $A$ of elements on which $f$ is defined is called the domain of the function $f$, the set $B$ in which $f$ takes its values is called the target or target space of $f$, and $y=f(x)$ is the image of $x$ under $f$.\n",
    "\n",
    "**Example**: Consider the function $f: \\mathbb{R}^{2} \\rightarrow \\mathbb{R}$ defined by $f(x, y)= x^{2}+y^{2}$.\n",
    "\n",
    "Domain of $f$: $\\mathbb{R}^{2}$, target space: $\\mathbb{R}$, image of $f$: $\\mathbb{R}_{+}$"
   ]
  },
  {
   "cell_type": "markdown",
   "metadata": {
    "slideshow": {
     "slide_type": "slide"
    }
   },
   "source": [
    "### Functions from $\\mathbb{R}^{m}$ to $\\mathbb{R}$\n",
    "\n",
    "**Example:**\n",
    "\n",
    "The amount of money $(z)$ currently in a savings account depends on how much was originally invested $(A)$, what the annual interest rate $(r)$ is, how many times $(n)$ a year interest is compounded, and how many years $(t)$ since the original deposit.\n",
    "\n",
    "The functional relationship between these variables is:\n",
    "\n",
    "$$z = A\\bigg( 1+ \\dfrac{r}{n}\\bigg)^{nt}$$"
   ]
  },
  {
   "cell_type": "markdown",
   "metadata": {
    "slideshow": {
     "slide_type": "slide"
    }
   },
   "source": [
    "### Graphs of Functions of Two Variables\n",
    "\n",
    "Just as we need two dimensions to draw the graph of a function from $\\mathbb{R}^{1}$ to $\\mathbb{R}^{1}$, we need three dimensions to draw the graph of a function from $\\mathbb{R}^{2}$ to $\\mathbb{R}^{1}$.\n",
    "\n",
    "We will use $(x, y, z)$ notation instead of $(x_{1}, x_{2}, x_{3})$ notation to describe the construction of these graphs.\n",
    "\n",
    "For each value $(x, y)$ in the domain, we evaluate $f$ at $(x, y)$ and mark the point $(x, y, f(x,y))$ in $\\mathbb{R}^{3}$.\n",
    "\n",
    "We have drawn the graph of $f(x, y)= x^{2}+y^{2}$ and have labeled some points on the graph.\n",
    "\n",
    "![cup1](https://github.com/umbertomig/CSSBootCamp/blob/main/img/cup1.png?raw=true)"
   ]
  },
  {
   "cell_type": "markdown",
   "metadata": {
    "slideshow": {
     "slide_type": "slide"
    }
   },
   "source": [
    "### Graphs of Functions of Two Variables\n",
    "\n",
    "Now, the same for $f(x, y)= y^{2}-x^{2}$:\n",
    "\n",
    "![cup2](https://github.com/umbertomig/CSSBootCamp/blob/main/img/cup2.png?raw=true)"
   ]
  },
  {
   "cell_type": "markdown",
   "metadata": {
    "slideshow": {
     "slide_type": "slide"
    }
   },
   "source": [
    "### Partial Derivatives\n",
    "\n",
    "**Definition:**\n",
    "\n",
    "Let $f: \\mathbb{R}^{n} \\rightarrow \\mathbb{R}$. Then for each variable $x_{i}$ at each point $x^{0}= (x_{1}, x_{2},...,x_{n})$ in the domain of $f$,\n",
    "\n",
    "$$\\dfrac{\\partial f}{\\partial x_{i}}=\\lim_{h \\rightarrow 0}\\dfrac{f(x_{1},..., x_{i}+h,...x_{n})-f(x_{1}, ..., x_{n})}{h}$$\n",
    "\n",
    "if this limit exists.\n",
    "\n",
    "Only the $i$th variable changes; the others are treated as constants."
   ]
  },
  {
   "cell_type": "markdown",
   "metadata": {
    "slideshow": {
     "slide_type": "slide"
    }
   },
   "source": [
    "### Partial Derivatives\n",
    "\n",
    "**Examples:**\n",
    "\n",
    "Compute all the partial derivatives of the following functions:\n",
    "\n",
    "1. $ax^{2} + bxy + cy^{2}$\n",
    "2. $ye^{x+y}$\n",
    "3. $e^{x-y}$\n",
    "\n",
    "Compute the partial derivatives of the Cobb-Douglas production function $Q(x,y)=kx^{a}y^{b}$."
   ]
  },
  {
   "cell_type": "markdown",
   "metadata": {
    "slideshow": {
     "slide_type": "slide"
    }
   },
   "source": [
    "### The Gradient Vector\n",
    "\n",
    "We write the derivative of $F$ at $x^{*}$ as a column matrix:\n",
    "\n",
    "$$\\begin{pmatrix} \\dfrac{\\partial F}{\\partial x_{1}}(x^{*})\\\\.\\\\.\\\\.\\\\ \\dfrac{\\partial F}{\\partial x_{n}}(x^{*}) \\end{pmatrix}$$\n",
    "\n",
    "We write it as $\\nabla F(x^{*})$ and call it the gradient or gradient vector of $F$ at $x^{*}$.\n",
    "\n",
    "The vital characteristic of the gradient vector is its length and direction.\n",
    "\n",
    "![grad1](https://github.com/umbertomig/CSSBootCamp/blob/main/img/grad1.png?raw=true)\n",
    "![grad2](https://github.com/umbertomig/CSSBootCamp/blob/main/img/grad2.png?raw=true)"
   ]
  },
  {
   "cell_type": "markdown",
   "metadata": {
    "slideshow": {
     "slide_type": "slide"
    }
   },
   "source": [
    "### Higher-Order Derivatives\n",
    "\n",
    "**Higher-Order Derivatives:**\n",
    "\n",
    "$$\\dfrac{\\partial}{\\partial x_{j}}\\bigg( \\dfrac{\\partial f}{\\partial x_{i}}\\bigg)$$\n",
    "\n",
    "is called the $x_{i}x_{j}$-second order partial derivative of $f$. It is usually written as:\n",
    "\n",
    "$$\\dfrac{\\partial^{2}f}{\\partial x_{j}\\partial x_{i}}$$\n",
    "\n",
    "The $x_{i}x_{i}$-derivative is usually written as $\\dfrac{\\partial^{2}}{\\partial x_{i}^{2}}$.\n",
    "\n",
    "Terms of the form $\\frac{\\partial^{2}}{\\partial x_{i}\\partial x_{j}}$ with $i\\neq j$ are called cross partial derivatives or mixed partial derivatives."
   ]
  },
  {
   "cell_type": "markdown",
   "metadata": {
    "slideshow": {
     "slide_type": "slide"
    }
   },
   "source": [
    "### Higher-Order Derivatives\n",
    "\n",
    "Useful theorem:\n",
    "\n",
    "![hess1](https://github.com/umbertomig/CSSBootCamp/blob/main/img/hess1.png?raw=true)\n",
    "\n",
    "**Example:** Consider a production function $Q$ that depends on capital $K$ and labor $L$. Find all the second derivatives of the production function for\n",
    "\n",
    "$$ Q= 4K^{\\frac{3}{4}}L^{\\frac{1}{4}} $$"
   ]
  },
  {
   "cell_type": "markdown",
   "metadata": {
    "slideshow": {
     "slide_type": "slide"
    }
   },
   "source": [
    "### Hessian Matrix\n",
    "\n",
    "The matrix with all the second derivatives is called the **Hessian Matrix**. Here is an example of it:\n",
    "\n",
    "![hess2](https://github.com/umbertomig/CSSBootCamp/blob/main/img/hess2.png?raw=true)\n",
    "\n",
    "In the previous example, write the Hessian Matrix for the production function."
   ]
  },
  {
   "cell_type": "markdown",
   "metadata": {
    "slideshow": {
     "slide_type": "slide"
    }
   },
   "source": [
    "### Exercises\n",
    "\n",
    "**Your turn!**\n",
    "\n",
    "Compute the Gradient vector and the Hessian Matrix of the following functions:\n",
    "\n",
    "1. $x^{2}+2xy-y^{2}$\n",
    "2. $ye^{x}$\n",
    "3. $e^{2x+3y}$"
   ]
  },
  {
   "cell_type": "markdown",
   "metadata": {
    "slideshow": {
     "slide_type": "slide"
    }
   },
   "source": [
    "## Questions?"
   ]
  },
  {
   "cell_type": "markdown",
   "metadata": {
    "slideshow": {
     "slide_type": "slide"
    }
   },
   "source": [
    "## See you in the next class!"
   ]
  }
 ],
 "metadata": {
  "celltoolbar": "Slideshow",
  "kernelspec": {
   "display_name": "Python 3 (ipykernel)",
   "language": "python",
   "name": "python3"
  },
  "language_info": {
   "codemirror_mode": {
    "name": "ipython",
    "version": 3
   },
   "file_extension": ".py",
   "mimetype": "text/x-python",
   "name": "python",
   "nbconvert_exporter": "python",
   "pygments_lexer": "ipython3",
   "version": "3.9.5"
  }
 },
 "nbformat": 4,
 "nbformat_minor": 4
}
