{
 "cells": [
  {
   "cell_type": "markdown",
   "id": "161202b4",
   "metadata": {
    "slideshow": {
     "slide_type": "slide"
    }
   },
   "source": [
    "# CSS Bootcamp\n",
    "\n",
    "## Lecture 01 - Calculus 1\n",
    "\n",
    "### Umberto Mignozzetti (UCSD)"
   ]
  },
  {
   "cell_type": "markdown",
   "id": "f978602b",
   "metadata": {
    "slideshow": {
     "slide_type": "slide"
    }
   },
   "source": [
    "## Today\n",
    "\n",
    "- Functions\n",
    "- Polynomials\n",
    "- Properties of the Functions\n",
    "- Derivative: Definition\n",
    "- Monotonicity\n",
    "- Concavity"
   ]
  },
  {
   "cell_type": "markdown",
   "id": "911bfe64",
   "metadata": {
    "slideshow": {
     "slide_type": "slide"
    }
   },
   "source": [
    "## Functions"
   ]
  },
  {
   "cell_type": "markdown",
   "id": "1912bdb3",
   "metadata": {
    "slideshow": {
     "slide_type": "slide"
    }
   },
   "source": [
    "### Definition\n",
    "\n",
    "A function is a relation that associates each element \\( x \\in X \\), the *domain* of the function, to a single element \\( y \\in Y \\) (possibly the same set), the *co-domain* of the function.\n",
    "\n",
    "![f1](https://github.com/umbertomig/CSSBootCamp/blob/main/img/f1.png?raw=true)"
   ]
  },
  {
   "cell_type": "markdown",
   "id": "eeb53fc7",
   "metadata": {
    "slideshow": {
     "slide_type": "slide"
    }
   },
   "source": [
    "### Examples\n",
    "\n",
    "![f2](https://github.com/umbertomig/CSSBootCamp/blob/main/img/f2.png?raw=true)"
   ]
  },
  {
   "cell_type": "markdown",
   "id": "ab6933e4",
   "metadata": {
    "slideshow": {
     "slide_type": "slide"
    }
   },
   "source": [
    "### Analytic Function\n",
    "\n",
    "Examples:\n",
    "\n",
    "1. $f(x) = x + 1 \\quad \\quad f(2) = 2 + 1 = 3$\n",
    "\n",
    "\n",
    "2. $f(x) = \\dfrac{1}{x + 1} \\quad \\quad f(1) = \\dfrac{1}{1 + 1} = \\dfrac{1}{2} $"
   ]
  },
  {
   "cell_type": "markdown",
   "id": "e7b3c8bd",
   "metadata": {
    "slideshow": {
     "slide_type": "slide"
    }
   },
   "source": [
    "## Polynomials"
   ]
  },
  {
   "cell_type": "markdown",
   "id": "efe5e8e6",
   "metadata": {
    "slideshow": {
     "slide_type": "slide"
    }
   },
   "source": [
    "### Linear function\n",
    "\n",
    "![g2](https://github.com/umbertomig/CSSBootCamp/blob/main/img/g2.png?raw=true)\n",
    "\n",
    "Examples:\n",
    "\n",
    "- $f(x) = 2x + 1$\n",
    "- $f(x) = -x - 10$"
   ]
  },
  {
   "cell_type": "markdown",
   "id": "e6cfc3ce",
   "metadata": {
    "slideshow": {
     "slide_type": "slide"
    }
   },
   "source": [
    "### The slope of a line in the plane\n",
    "\n",
    "![g3](https://github.com/umbertomig/CSSBootCamp/blob/main/img/g3.png?raw=true)"
   ]
  },
  {
   "cell_type": "markdown",
   "id": "bb3b3603",
   "metadata": {
    "slideshow": {
     "slide_type": "slide"
    }
   },
   "source": [
    "### The slope of a line in the plane\n",
    "\n",
    "![g4](https://github.com/umbertomig/CSSBootCamp/blob/main/img/g4.png?raw=true)"
   ]
  },
  {
   "cell_type": "markdown",
   "id": "6d083d10",
   "metadata": {
    "slideshow": {
     "slide_type": "slide"
    }
   },
   "source": [
    "### The equation of a line\n",
    "\n",
    "![g5](https://github.com/umbertomig/CSSBootCamp/blob/main/img/g5.png?raw=true)\n",
    "\n",
    "![g6](https://github.com/umbertomig/CSSBootCamp/blob/main/img/g6.png?raw=true)"
   ]
  },
  {
   "cell_type": "markdown",
   "id": "f5b4110a",
   "metadata": {
    "slideshow": {
     "slide_type": "slide"
    }
   },
   "source": [
    "### The equation of a line\n",
    "\n",
    "![g7](https://github.com/umbertomig/CSSBootCamp/blob/main/img/g7.png?raw=true)"
   ]
  },
  {
   "cell_type": "markdown",
   "id": "631cb266",
   "metadata": {
    "slideshow": {
     "slide_type": "slide"
    }
   },
   "source": [
    "## Properties of the Functions"
   ]
  },
  {
   "cell_type": "markdown",
   "id": "fb745ef5",
   "metadata": {
    "slideshow": {
     "slide_type": "slide"
    }
   },
   "source": [
    "### Definitions\n",
    "\n",
    "Give a function $f$, the set of numbers $x$ at which $f(x)$ is defined is called the domain of $f$.\n",
    "\n",
    "Examples:\n",
    "\n",
    "- $f(x) = \\dfrac{1}{x}$ is not defined at $x = 0$.\n",
    "- $h(x) = \\dfrac{1}{x^2 - 1}$ the domain is all $x$ except $\\{-1, 1\\}$.\n",
    "- $g(x) = \\sqrt{x - 7}$ the domain is all $x \\geq 7$."
   ]
  },
  {
   "cell_type": "markdown",
   "id": "471ec47a",
   "metadata": {
    "slideshow": {
     "slide_type": "slide"
    }
   },
   "source": [
    "### Definitions\n",
    "\n",
    "If we were to consider our height above sea level, $y$, as a function of the amount of time we are walking, $x$, we would say that $y$ is increasing as $x$ is increasing while we are on that hill. \n",
    "\n",
    "In mathematics, we would say that when we are walking uphill, our function is an increasing function.\n",
    "\n",
    "**Definition: Increasing Function**\n",
    "\n",
    "A function $f$ is increasing if:\n",
    "\n",
    "$x > y$ implies that $f(x) > f(y)$"
   ]
  },
  {
   "cell_type": "markdown",
   "id": "c74e7754",
   "metadata": {
    "slideshow": {
     "slide_type": "slide"
    }
   },
   "source": [
    "### Definitions\n",
    "\n",
    "Analogously defined decreasing and we have:\n",
    "\n",
    "**Definition: Decreasing Function**\n",
    "\n",
    "A function $f$ is decreasing if:\n",
    "\n",
    "$x > y$ implies that $f(x) < f(y)$\n",
    "\n",
    "In these cases, it is said strictly increasing or decreasing because the inequality is strict."
   ]
  },
  {
   "cell_type": "markdown",
   "id": "957cb945",
   "metadata": {
    "slideshow": {
     "slide_type": "slide"
    }
   },
   "source": [
    "### Examples\n",
    "\n",
    "![f3](https://github.com/umbertomig/CSSBootCamp/blob/main/img/f3.png?raw=true)"
   ]
  },
  {
   "cell_type": "markdown",
   "id": "fc3b2ee6",
   "metadata": {
    "slideshow": {
     "slide_type": "slide"
    }
   },
   "source": [
    "### Examples\n",
    "\n",
    "![f4](https://github.com/umbertomig/CSSBootCamp/blob/main/img/f4.png?raw=true)"
   ]
  },
  {
   "cell_type": "markdown",
   "id": "f0c6e836",
   "metadata": {
    "slideshow": {
     "slide_type": "slide"
    }
   },
   "source": [
    "### Exercise\n",
    "\n",
    "**Your turn!** Find the formula for the linear function such that:\n",
    "\n",
    "1. has slope 2 and y-intercept $(0,3)$\n",
    "2. has slope -3 and y-intercept $(0,0)$\n",
    "\n",
    "What is the domain of each of the following functions:\n",
    "\n",
    "1. $y = \\dfrac{1}{x - 1}$\n",
    "2. $y = \\sqrt{1 - x^2}$\n",
    "\n",
    "Analyze the monotonicity of the following functions:\n",
    "\n",
    "1. $f(x) = -x^7$\n",
    "2. $f(x) = x^2$"
   ]
  },
  {
   "cell_type": "markdown",
   "id": "5150b198",
   "metadata": {
    "slideshow": {
     "slide_type": "slide"
    }
   },
   "source": [
    "## Derivative"
   ]
  },
  {
   "cell_type": "markdown",
   "id": "6d854c4e",
   "metadata": {
    "slideshow": {
     "slide_type": "slide"
    }
   },
   "source": [
    "### Derivative\n",
    "\n",
    "![g8](https://github.com/umbertomig/CSSBootCamp/blob/main/img/g8.png?raw=true)"
   ]
  },
  {
   "cell_type": "markdown",
   "id": "011719f9",
   "metadata": {
    "slideshow": {
     "slide_type": "slide"
    }
   },
   "source": [
    "### Definition\n",
    "\n",
    "![g9](https://github.com/umbertomig/CSSBootCamp/blob/main/img/g9.png?raw=true)"
   ]
  },
  {
   "cell_type": "markdown",
   "id": "35721a34",
   "metadata": {
    "slideshow": {
     "slide_type": "slide"
    }
   },
   "source": [
    "### Derivative\n",
    "\n",
    "![g10](https://github.com/umbertomig/CSSBootCamp/blob/main/img/g10.png?raw=true)\n",
    "\n",
    "![h1](https://github.com/umbertomig/CSSBootCamp/blob/main/img/h1.png?raw=true)"
   ]
  },
  {
   "cell_type": "markdown",
   "id": "00073933",
   "metadata": {
    "slideshow": {
     "slide_type": "slide"
    }
   },
   "source": [
    "### Examples\n",
    "\n",
    "Use the theorem to calculate the derivative of the following functions:\n",
    "\n",
    "1. $f(x) = mx + b$\n",
    "2. $f(x) = ax^2 + bx + c$\n",
    "3. $f(x) = x^{100} + x + 1$\n",
    "4. $f(x) = 3$\n",
    "5. $f(x) = (x^2 + 2x + 3)(x^2 - 1)$"
   ]
  },
  {
   "cell_type": "markdown",
   "id": "f6fa1baa",
   "metadata": {
    "slideshow": {
     "slide_type": "slide"
    }
   },
   "source": [
    "### Continuous Functions\n",
    "\n",
    "**Definition: Continuous Functions**\n",
    "\n",
    "A function is continuous if its graph has no breaks.\n",
    "\n",
    "Example: **All the elementary functions.**\n",
    "\n",
    "And an example of a discontinuous function:\n",
    "\n",
    "![h2](https://github.com/umbertomig/CSSBootCamp/blob/main/img/h2.png?raw=true)"
   ]
  },
  {
   "cell_type": "markdown",
   "id": "bed0437e",
   "metadata": {
    "slideshow": {
     "slide_type": "slide"
    }
   },
   "source": [
    "### Important\n",
    "\n",
    "**There are continuous but not differentiable (not derivable) functions at certain points of the domains. For example:**\n",
    "\n",
    "$$f(x) = |x|$$\n",
    "\n",
    "![h3](https://github.com/umbertomig/CSSBootCamp/blob/main/img/h3.png?raw=true)"
   ]
  },
  {
   "cell_type": "markdown",
   "id": "1a4c8240",
   "metadata": {
    "slideshow": {
     "slide_type": "slide"
    }
   },
   "source": [
    "### Exercise\n",
    "\n",
    "**Your turn!** Find the derivative of:\n",
    "\n",
    "1. $f(x) = x^7 + 2x^3 + 5$\n",
    "\n",
    "2. $f(x) = x^{-1} + 2x^{-3}$\n",
    "\n",
    "3. $f(x) = \\dfrac{x^2 - 1}{x^2 + 1}$\n",
    "\n",
    "4. $f(x) = (x^3 + 2x^2)^5$"
   ]
  },
  {
   "cell_type": "markdown",
   "id": "3f96c332",
   "metadata": {
    "slideshow": {
     "slide_type": "slide"
    }
   },
   "source": [
    "## Monotonicity"
   ]
  },
  {
   "cell_type": "markdown",
   "id": "327a5a54",
   "metadata": {
    "slideshow": {
     "slide_type": "slide"
    }
   },
   "source": [
    "### Monotonicity\n",
    "\n",
    "**First Derivative**\n",
    "\n",
    "The first derivative describes the monotonicity of the function.\n",
    "\n",
    "![der1](https://github.com/umbertomig/CSSBootCamp/blob/main/img/der1.png?raw=true)"
   ]
  },
  {
   "cell_type": "markdown",
   "id": "3cc20935",
   "metadata": {},
   "source": [
    "### Monotonicity\n",
    "\n",
    "**First Derivative**\n",
    "\n",
    "![der2](https://github.com/umbertomig/CSSBootCamp/blob/main/img/der2.png?raw=true)"
   ]
  },
  {
   "cell_type": "markdown",
   "id": "bc95d961",
   "metadata": {
    "slideshow": {
     "slide_type": "slide"
    }
   },
   "source": [
    "### Monotonicity\n",
    "\n",
    "![der3](https://github.com/umbertomig/CSSBootCamp/blob/main/img/der3.png?raw=true)\n",
    "\n",
    "**Example:** Study the monotonicity of the following functions:\n",
    "\n",
    "1. $f(x) = x^2 + 2x + 1$\n",
    "2. $f(x) = 9x - 3x^3$"
   ]
  },
  {
   "cell_type": "markdown",
   "id": "75d7039b",
   "metadata": {
    "slideshow": {
     "slide_type": "slide"
    }
   },
   "source": [
    "## Concavity"
   ]
  },
  {
   "cell_type": "markdown",
   "id": "8f8ae9bc",
   "metadata": {
    "slideshow": {
     "slide_type": "slide"
    }
   },
   "source": [
    "### Concavity\n",
    "\n",
    "**Definition: Convex (or Concave upward)**\n",
    "\n",
    "A function $f$ is concave upward at the point $(c, f(c))$ if:\n",
    "\n",
    "1. $f'(x)$ exists for $c$ and for all $x$ in some open interval containing $c$.\n",
    "2. The point $(x, f(x))$ on the graph of $f$ lies above the corresponding point on the graph of the tangent line to $f$ at $c$.\n",
    "\n",
    "- This is expressed by the inequality $f(x) < f(c) + f'(c) (x - c)$ for all $x$ in some open interval containing $c$.\n",
    "\n",
    "- Imagine holding a ruler along the tangent line through the point $(c, f(c))$. If the ruler supports the graph of $f$ near $(c, f(c))$, then the graph of the function is concave upward."
   ]
  },
  {
   "cell_type": "markdown",
   "id": "11dd5778",
   "metadata": {
    "slideshow": {
     "slide_type": "slide"
    }
   },
   "source": [
    "### Concavity\n",
    "\n",
    "**Definition: Concave (or Concave downward)**\n",
    "\n",
    "The graph of a function $f$ is concave downward at the point $(c, f(c))$ if:\n",
    "\n",
    "1. $f'(c)$ exists and if for all $x$ in some open interval containing $c$.\n",
    "\n",
    "2. The point $(x, f(x))$ on the graph of $f$ lies below the corresponding point on the graph of the tangent line to $f$ at $c$.\n",
    "\n",
    "- This is expressed by the inequality $f(x) > f(c) + f'(c) (x - c)$ for all $x$ in some open interval containing $c$.\n",
    "\n",
    "- Imagine holding a ruler along the tangent line through the point $(c, f(c))$. If the graph of $f$ supports the ruler near $(c, f(c))$, then the graph of the function is concave downward."
   ]
  },
  {
   "cell_type": "markdown",
   "id": "7ff1657e",
   "metadata": {
    "slideshow": {
     "slide_type": "slide"
    }
   },
   "source": [
    "### Concavity\n",
    "\n",
    "![ruler](https://github.com/umbertomig/CSSBootCamp/blob/main/img/ruler.png?raw=true)"
   ]
  },
  {
   "cell_type": "markdown",
   "id": "5b1f5534",
   "metadata": {
    "slideshow": {
     "slide_type": "slide"
    }
   },
   "source": [
    "### Concavity\n",
    "\n",
    "Another definition of concavity, but now with inequalities:\n",
    "\n",
    "![conc](https://github.com/umbertomig/CSSBootCamp/blob/main/img/conc.png?raw=true)"
   ]
  },
  {
   "cell_type": "markdown",
   "id": "cf2e416e",
   "metadata": {
    "slideshow": {
     "slide_type": "slide"
    }
   },
   "source": [
    "### Concavity\n",
    "\n",
    "The definition of concavity using inequalities resembles holding chords between points of the graph:\n",
    "\n",
    "![conc2](https://github.com/umbertomig/CSSBootCamp/blob/main/img/conc2.png?raw=true)"
   ]
  },
  {
   "cell_type": "markdown",
   "id": "f42feff3",
   "metadata": {
    "slideshow": {
     "slide_type": "slide"
    }
   },
   "source": [
    "### Concavity\n",
    "\n",
    "**Optimization**\n",
    "\n",
    "Suppose that $c$ is a critical point at which $f'(c) = 0$. If $f''(x)$ exists in a neighborhood around $c$, then:\n",
    "\n",
    "- $f$ has a *relative maximum* value at $c$ if $f''(c) < 0$.\n",
    "- $f$ has a *relative minimum* value at $c$ if $f''(c) > 0$.\n",
    "- And if $f''(c) = 0$, the test is not informative.\n",
    "\n",
    "![max1](https://github.com/umbertomig/CSSBootCamp/blob/main/img/max1.png?raw=true)"
   ]
  },
  {
   "cell_type": "markdown",
   "id": "c6d67108",
   "metadata": {
    "slideshow": {
     "slide_type": "slide"
    }
   },
   "source": [
    "### Concavity\n",
    "\n",
    "**Optimization: Extreme Value Theorem**\n",
    "\n",
    "If we are looking for the global maximum of a $C^1$ function $f$ with domain $I = [a, b]$, we need only:\n",
    "\n",
    "![max2](https://github.com/umbertomig/CSSBootCamp/blob/main/img/max2.png?raw=true)"
   ]
  },
  {
   "cell_type": "markdown",
   "id": "9bd3156c",
   "metadata": {
    "slideshow": {
     "slide_type": "slide"
    }
   },
   "source": [
    "### Examples\n",
    "\n",
    "Find the maxima and minima of the following functions:\n",
    "\n",
    "$$f(x) = x^3 - 3x^2 + x - 2$$\n",
    "\n",
    "$$f(x) = x^3 + 6x$$"
   ]
  },
  {
   "cell_type": "markdown",
   "id": "9a91b865",
   "metadata": {
    "slideshow": {
     "slide_type": "slide"
    }
   },
   "source": [
    "### Exercise\n",
    "\n",
    "**Your turn!** Find the local maxima and minima of the following functions:\n",
    "\n",
    "- $f(x) = x^4 - 4x^3 + 4x^2 + 4$\n",
    "- $f(x) = x^2 + 1$ where $x \\in [-2, 1]$\n",
    "\n",
    "Suppose that $x$ years after its founding in 1960, the association of X had a membership given by the function $f(x) = 2x^3 - 45x^2 + 300x + 500$. Between 1960 and 1980, what was its largest and smallest membership, and when were these two extremes realized?"
   ]
  },
  {
   "cell_type": "markdown",
   "id": "c836b8a6",
   "metadata": {
    "slideshow": {
     "slide_type": "slide"
    }
   },
   "source": [
    "## Symbolic Computing\n",
    "\n",
    "- Different paradigm: representations of mathematical objects and expressions are manipulated and transformed analytically.\n",
    "\n",
    "- Way to automate things that we can do on pencil and paper.\n",
    "\n",
    "- Helpful to reduce complexity of calculations.\n",
    "\n",
    "- In Python, we use `SymPy` to do symbolic computing."
   ]
  },
  {
   "cell_type": "markdown",
   "id": "f6a1e7e2",
   "metadata": {},
   "source": [
    "## Symbolic Computing\n",
    "\n",
    "And we are using this book in here:\n",
    "\n",
    "<div>\n",
    "<img src=\"https://github.com/umbertomig/CSSBootCamp/blob/main/img/sympybook.png\" width=\"300\"/>\n",
    "</div>"
   ]
  },
  {
   "cell_type": "markdown",
   "id": "33ece5f3",
   "metadata": {
    "slideshow": {
     "slide_type": "slide"
    }
   },
   "source": [
    "## Symbolic Computing\n",
    "\n",
    "Defining a variable:"
   ]
  },
  {
   "cell_type": "code",
   "execution_count": 1,
   "id": "83b8e0c6",
   "metadata": {},
   "outputs": [],
   "source": [
    "import sympy\n",
    "sympy.init_printing() "
   ]
  },
  {
   "cell_type": "code",
   "execution_count": 2,
   "id": "cfafe050",
   "metadata": {},
   "outputs": [],
   "source": [
    "x = sympy.Symbol(\"x\")\n",
    "y = sympy.Symbol(\"y\", real = True)"
   ]
  },
  {
   "cell_type": "markdown",
   "id": "31d1b5b2",
   "metadata": {
    "slideshow": {
     "slide_type": "slide"
    }
   },
   "source": [
    "## Symbolic Computing\n",
    "\n",
    "<div>\n",
    "<img src=\"https://github.com/umbertomig/CSSBootCamp/blob/main/img/sympytypes.png\" width=\"500\"/>\n",
    "</div>"
   ]
  },
  {
   "cell_type": "markdown",
   "id": "7839594b",
   "metadata": {
    "slideshow": {
     "slide_type": "slide"
    }
   },
   "source": [
    "## Symbolic Computing\n",
    "\n",
    "And it process symbols correctly:"
   ]
  },
  {
   "cell_type": "code",
   "execution_count": 3,
   "id": "feb24e2b",
   "metadata": {
    "slideshow": {
     "slide_type": "fragment"
    }
   },
   "outputs": [
    {
     "data": {
      "image/png": "[encoded data removed]",
      "text/latex": [
       "$\\displaystyle \\sqrt{x^{2}}$"
      ],
      "text/plain": [
       "   ____\n",
       "  ╱  2 \n",
       "╲╱  x  "
      ]
     },
     "execution_count": 3,
     "metadata": {},
     "output_type": "execute_result"
    }
   ],
   "source": [
    "x = sympy.Symbol(\"x\")\n",
    "y = sympy.Symbol(\"y\", positive = True)\n",
    "sympy.sqrt(x ** 2)"
   ]
  },
  {
   "cell_type": "code",
   "execution_count": 4,
   "id": "f63e0afb",
   "metadata": {
    "slideshow": {
     "slide_type": "fragment"
    }
   },
   "outputs": [
    {
     "data": {
      "image/png": "[encoded data removed]",
      "text/latex": [
       "$\\displaystyle y$"
      ],
      "text/plain": [
       "y"
      ]
     },
     "execution_count": 4,
     "metadata": {},
     "output_type": "execute_result"
    }
   ],
   "source": [
    "sympy.sqrt(y ** 2)"
   ]
  },
  {
   "cell_type": "markdown",
   "id": "d971583f",
   "metadata": {
    "slideshow": {
     "slide_type": "slide"
    }
   },
   "source": [
    "## Symbolic Computing\n",
    "\n",
    "It unpack symbols for easy definition:"
   ]
  },
  {
   "cell_type": "code",
   "execution_count": 5,
   "id": "bf9ccc0a",
   "metadata": {
    "slideshow": {
     "slide_type": "fragment"
    }
   },
   "outputs": [],
   "source": [
    "a, b, c = sympy.symbols(\"a, b, c\", negative = True)\n",
    "d, e, f = sympy.symbols(\"d, e, f\", positive = True)"
   ]
  },
  {
   "cell_type": "markdown",
   "id": "89dbf3a0",
   "metadata": {
    "slideshow": {
     "slide_type": "slide"
    }
   },
   "source": [
    "## Symbolic Computing\n",
    "\n",
    "We can define the right types for numbers:"
   ]
  },
  {
   "cell_type": "code",
   "execution_count": 6,
   "id": "b6a6a42d",
   "metadata": {
    "slideshow": {
     "slide_type": "fragment"
    }
   },
   "outputs": [
    {
     "data": {
      "text/plain": [
       "sympy.core.numbers.Integer"
      ]
     },
     "execution_count": 6,
     "metadata": {},
     "output_type": "execute_result"
    }
   ],
   "source": [
    "i = sympy.Integer(19)\n",
    "type(i)"
   ]
  },
  {
   "cell_type": "code",
   "execution_count": 7,
   "id": "651d3579",
   "metadata": {},
   "outputs": [
    {
     "data": {
      "text/plain": [
       "(True, True, True)"
      ]
     },
     "execution_count": 7,
     "metadata": {},
     "output_type": "execute_result"
    }
   ],
   "source": [
    "i.is_Integer, i.is_real, i.is_odd"
   ]
  },
  {
   "cell_type": "code",
   "execution_count": 8,
   "id": "a169f5be",
   "metadata": {},
   "outputs": [
    {
     "data": {
      "text/plain": [
       "sympy.core.numbers.Float"
      ]
     },
     "execution_count": 8,
     "metadata": {},
     "output_type": "execute_result"
    }
   ],
   "source": [
    "f = sympy.Float(2.3)\n",
    "type(f)"
   ]
  },
  {
   "cell_type": "code",
   "execution_count": 9,
   "id": "e0e6585a",
   "metadata": {},
   "outputs": [
    {
     "data": {
      "text/plain": [
       "(False, True, False)"
      ]
     },
     "execution_count": 9,
     "metadata": {},
     "output_type": "execute_result"
    }
   ],
   "source": [
    "f.is_Integer, f.is_real, f.is_odd"
   ]
  },
  {
   "cell_type": "markdown",
   "id": "191d9672",
   "metadata": {
    "slideshow": {
     "slide_type": "slide"
    }
   },
   "source": [
    "## Symbolic Computing"
   ]
  },
  {
   "cell_type": "code",
   "execution_count": 10,
   "id": "88f9297d",
   "metadata": {},
   "outputs": [
    {
     "data": {
      "image/png": "[encoded data removed]",
      "text/latex": [
       "$\\displaystyle 8663234049605954426644038200675212212900743262211018069459689001$"
      ],
      "text/plain": [
       "8663234049605954426644038200675212212900743262211018069459689001"
      ]
     },
     "execution_count": 10,
     "metadata": {},
     "output_type": "execute_result"
    }
   ],
   "source": [
    "i ** 50"
   ]
  },
  {
   "cell_type": "code",
   "execution_count": 11,
   "id": "fbd7f6ed",
   "metadata": {},
   "outputs": [
    {
     "data": {
      "image/png": "[encoded data removed]",
      "text/latex": [
       "$\\displaystyle 93326215443944152681699238856266700490715968264381621468592963895217599993229915608941463976156518286253697920827223758251185210916864000000000000000000000000$"
      ],
      "text/plain": [
       "933262154439441526816992388562667004907159682643816214685929638952175999932299\n",
       "156089414639761565182862536979208272237582511852109168640000000000000000000000\n",
       "00"
      ]
     },
     "execution_count": 11,
     "metadata": {},
     "output_type": "execute_result"
    }
   ],
   "source": [
    "sympy.factorial(100)"
   ]
  },
  {
   "cell_type": "markdown",
   "id": "8806eb24",
   "metadata": {
    "slideshow": {
     "slide_type": "slide"
    }
   },
   "source": [
    "## Symbolic Computing\n",
    "\n",
    "It does rational numbers computations and display them nicely:"
   ]
  },
  {
   "cell_type": "code",
   "execution_count": 12,
   "id": "78264fc0",
   "metadata": {},
   "outputs": [
    {
     "data": {
      "image/png": "[encoded data removed]",
      "text/latex": [
       "$\\displaystyle \\frac{11}{13}$"
      ],
      "text/plain": [
       "11\n",
       "──\n",
       "13"
      ]
     },
     "execution_count": 12,
     "metadata": {},
     "output_type": "execute_result"
    }
   ],
   "source": [
    "sympy.Rational(11, 13)"
   ]
  },
  {
   "cell_type": "code",
   "execution_count": 13,
   "id": "3e61ba35",
   "metadata": {},
   "outputs": [
    {
     "data": {
      "image/png": "[encoded data removed]",
      "text/latex": [
       "$\\displaystyle \\frac{8}{15}$"
      ],
      "text/plain": [
       "8/15"
      ]
     },
     "execution_count": 13,
     "metadata": {},
     "output_type": "execute_result"
    }
   ],
   "source": [
    "sympy.Rational(2, 3) * sympy.Rational(4, 5)"
   ]
  },
  {
   "cell_type": "code",
   "execution_count": 14,
   "id": "08812fe0",
   "metadata": {},
   "outputs": [
    {
     "data": {
      "image/png": "[encoded data removed]",
      "text/latex": [
       "$\\displaystyle \\frac{5}{6}$"
      ],
      "text/plain": [
       "5/6"
      ]
     },
     "execution_count": 14,
     "metadata": {},
     "output_type": "execute_result"
    }
   ],
   "source": [
    "sympy.Rational(2, 3) / sympy.Rational(4, 5)"
   ]
  },
  {
   "cell_type": "markdown",
   "id": "ef2f06ad",
   "metadata": {
    "slideshow": {
     "slide_type": "slide"
    }
   },
   "source": [
    "## Symbolic Computing\n",
    "\n",
    "Constants and special symbols:\n",
    "\n",
    "<div>\n",
    "<img src=\"https://github.com/umbertomig/CSSBootCamp/blob/main/img/sympyconsts.png\" width=\"500\"/>\n",
    "</div>"
   ]
  },
  {
   "cell_type": "markdown",
   "id": "968d3008",
   "metadata": {
    "slideshow": {
     "slide_type": "slide"
    }
   },
   "source": [
    "## Symbolic Computing\n",
    "\n",
    "We can declare functions using `sympy.Function`. Two types:\n",
    "\n",
    "1. Undefined functions: Abstract entities\n",
    "2. Unapplied functions: Arbitrary that has not been applied to any inputs"
   ]
  },
  {
   "cell_type": "code",
   "execution_count": 15,
   "id": "7a3d0533",
   "metadata": {},
   "outputs": [
    {
     "data": {
      "text/plain": [
       "sympy.core.function.UndefinedFunction"
      ]
     },
     "execution_count": 15,
     "metadata": {},
     "output_type": "execute_result"
    }
   ],
   "source": [
    "x, y, z = sympy.symbols(\"x, y, z\")\n",
    "f = sympy.Function(\"f\")\n",
    "type(f)"
   ]
  },
  {
   "cell_type": "code",
   "execution_count": 16,
   "id": "c115b816",
   "metadata": {},
   "outputs": [
    {
     "data": {
      "image/png": "[encoded data removed]",
      "text/latex": [
       "$\\displaystyle f{\\left(x \\right)}$"
      ],
      "text/plain": [
       "f(x)"
      ]
     },
     "execution_count": 16,
     "metadata": {},
     "output_type": "execute_result"
    }
   ],
   "source": [
    "f(x)"
   ]
  },
  {
   "cell_type": "code",
   "execution_count": 17,
   "id": "404bec02",
   "metadata": {},
   "outputs": [
    {
     "data": {
      "text/plain": [
       "g"
      ]
     },
     "execution_count": 17,
     "metadata": {},
     "output_type": "execute_result"
    }
   ],
   "source": [
    "g = sympy.Function(\"g\")(x, y, z)\n",
    "type(g)"
   ]
  },
  {
   "cell_type": "code",
   "execution_count": 18,
   "id": "7bf083bb",
   "metadata": {},
   "outputs": [
    {
     "data": {
      "image/png": "[encoded data removed]",
      "text/latex": [
       "$\\displaystyle g{\\left(x,y,z \\right)}$"
      ],
      "text/plain": [
       "g(x, y, z)"
      ]
     },
     "execution_count": 18,
     "metadata": {},
     "output_type": "execute_result"
    }
   ],
   "source": [
    "g"
   ]
  },
  {
   "cell_type": "code",
   "execution_count": 19,
   "id": "ab3519a5",
   "metadata": {},
   "outputs": [
    {
     "data": {
      "image/png": "[encoded data removed]",
      "text/latex": [
       "$\\displaystyle \\left\\{x, y, z\\right\\}$"
      ],
      "text/plain": [
       "{x, y, z}"
      ]
     },
     "execution_count": 19,
     "metadata": {},
     "output_type": "execute_result"
    }
   ],
   "source": [
    "g.free_symbols"
   ]
  },
  {
   "cell_type": "markdown",
   "id": "533444ae",
   "metadata": {
    "slideshow": {
     "slide_type": "slide"
    }
   },
   "source": [
    "## Symbolic Computing\n",
    "\n",
    "We can also define lambda functions:"
   ]
  },
  {
   "cell_type": "code",
   "execution_count": 20,
   "id": "5cca2429",
   "metadata": {
    "slideshow": {
     "slide_type": "fragment"
    }
   },
   "outputs": [
    {
     "data": {
      "image/png": "[encoded data removed]",
      "text/latex": [
       "$\\displaystyle \\left( x \\mapsto x^{2} \\right)$"
      ],
      "text/plain": [
       "     2\n",
       "x ↦ x "
      ]
     },
     "execution_count": 20,
     "metadata": {},
     "output_type": "execute_result"
    }
   ],
   "source": [
    "h = sympy.Lambda(x, x ** 2)\n",
    "h"
   ]
  },
  {
   "cell_type": "code",
   "execution_count": 21,
   "id": "090b7b0e",
   "metadata": {},
   "outputs": [
    {
     "data": {
      "image/png": "[encoded data removed]",
      "text/latex": [
       "$\\displaystyle 9$"
      ],
      "text/plain": [
       "9"
      ]
     },
     "execution_count": 21,
     "metadata": {},
     "output_type": "execute_result"
    }
   ],
   "source": [
    "h(3)"
   ]
  },
  {
   "cell_type": "code",
   "execution_count": 22,
   "id": "f43a2e97",
   "metadata": {},
   "outputs": [
    {
     "data": {
      "image/png": "[encoded data removed]",
      "text/latex": [
       "$\\displaystyle \\left(3 x + 1\\right)^{2}$"
      ],
      "text/plain": [
       "         2\n",
       "(3⋅x + 1) "
      ]
     },
     "execution_count": 22,
     "metadata": {},
     "output_type": "execute_result"
    }
   ],
   "source": [
    "h(1 + 3 * x)"
   ]
  },
  {
   "cell_type": "markdown",
   "id": "cea3d164",
   "metadata": {
    "slideshow": {
     "slide_type": "slide"
    }
   },
   "source": [
    "## Symbolic Computing\n",
    "\n",
    "We can declare expressions:"
   ]
  },
  {
   "cell_type": "code",
   "execution_count": 23,
   "id": "383b5c76",
   "metadata": {
    "slideshow": {
     "slide_type": "fragment"
    }
   },
   "outputs": [
    {
     "data": {
      "image/png": "[encoded data removed]",
      "text/latex": [
       "$\\displaystyle 3 x^{3} + 2 x^{2} + 1$"
      ],
      "text/plain": [
       "   3      2    \n",
       "3⋅x  + 2⋅x  + 1"
      ]
     },
     "execution_count": 23,
     "metadata": {},
     "output_type": "execute_result"
    }
   ],
   "source": [
    "expr = 1 + 2 * x ** 2 + 3 * x ** 3\n",
    "expr"
   ]
  },
  {
   "cell_type": "code",
   "execution_count": 24,
   "id": "eff2dfb6",
   "metadata": {},
   "outputs": [
    {
     "data": {
      "image/png": "[encoded data removed]",
      "text/latex": [
       "$\\displaystyle \\left( 1, \\  2 x^{2}, \\  3 x^{3}\\right)$"
      ],
      "text/plain": [
       "⎛      2     3⎞\n",
       "⎝1, 2⋅x , 3⋅x ⎠"
      ]
     },
     "execution_count": 24,
     "metadata": {},
     "output_type": "execute_result"
    }
   ],
   "source": [
    "expr.args"
   ]
  },
  {
   "cell_type": "code",
   "execution_count": 25,
   "id": "43d3af23",
   "metadata": {},
   "outputs": [
    {
     "data": {
      "image/png": "[encoded data removed]",
      "text/latex": [
       "$\\displaystyle 3 x^{3}$"
      ],
      "text/plain": [
       "   3\n",
       "3⋅x "
      ]
     },
     "execution_count": 25,
     "metadata": {},
     "output_type": "execute_result"
    }
   ],
   "source": [
    "expr.args[2]"
   ]
  },
  {
   "cell_type": "code",
   "execution_count": 26,
   "id": "d2ab7342",
   "metadata": {},
   "outputs": [
    {
     "data": {
      "image/png": "[encoded data removed]",
      "text/latex": [
       "$\\displaystyle \\left( 3, \\  x^{3}\\right)$"
      ],
      "text/plain": [
       "⎛    3⎞\n",
       "⎝3, x ⎠"
      ]
     },
     "execution_count": 26,
     "metadata": {},
     "output_type": "execute_result"
    }
   ],
   "source": [
    "expr.args[2].args"
   ]
  },
  {
   "cell_type": "markdown",
   "id": "80961deb",
   "metadata": {
    "slideshow": {
     "slide_type": "slide"
    }
   },
   "source": [
    "## Symbolic Computing\n",
    "\n",
    "In manipulating expressions we can:\n",
    "\n",
    "- `simplify`\n",
    "\n",
    "- `expand`\n",
    "\n",
    "Simplification:"
   ]
  },
  {
   "cell_type": "code",
   "execution_count": 27,
   "id": "82cd61f0",
   "metadata": {
    "slideshow": {
     "slide_type": "fragment"
    }
   },
   "outputs": [
    {
     "data": {
      "image/png": "[encoded data removed]",
      "text/latex": [
       "$\\displaystyle 2 x^{2} - x \\left(x + 1\\right) - 2 x$"
      ],
      "text/plain": [
       "   2                  \n",
       "2⋅x  - x⋅(x + 1) - 2⋅x"
      ]
     },
     "execution_count": 27,
     "metadata": {},
     "output_type": "execute_result"
    }
   ],
   "source": [
    "expr = 2 * (x**2 - x) - x * (x + 1)\n",
    "expr"
   ]
  },
  {
   "cell_type": "code",
   "execution_count": 28,
   "id": "ebd1e528",
   "metadata": {},
   "outputs": [
    {
     "data": {
      "image/png": "[encoded data removed]",
      "text/latex": [
       "$\\displaystyle x \\left(x - 3\\right)$"
      ],
      "text/plain": [
       "x⋅(x - 3)"
      ]
     },
     "execution_count": 28,
     "metadata": {},
     "output_type": "execute_result"
    }
   ],
   "source": [
    "sympy.simplify(expr)"
   ]
  },
  {
   "cell_type": "code",
   "execution_count": 29,
   "id": "ba1fb62f",
   "metadata": {},
   "outputs": [
    {
     "data": {
      "image/png": "[encoded data removed]",
      "text/latex": [
       "$\\displaystyle x \\left(x - 3\\right)$"
      ],
      "text/plain": [
       "x⋅(x - 3)"
      ]
     },
     "execution_count": 29,
     "metadata": {},
     "output_type": "execute_result"
    }
   ],
   "source": [
    "expr.simplify()"
   ]
  },
  {
   "cell_type": "markdown",
   "id": "e2551cdc",
   "metadata": {
    "slideshow": {
     "slide_type": "slide"
    }
   },
   "source": [
    "## Symbolic Computing\n",
    "\n",
    "Types of simplification:\n",
    "\n",
    "<div>\n",
    "<img src=\"https://github.com/umbertomig/CSSBootCamp/blob/main/img/sympysms.png\" width=\"500\"/>\n",
    "</div>"
   ]
  },
  {
   "cell_type": "markdown",
   "id": "7d49c910",
   "metadata": {
    "slideshow": {
     "slide_type": "slide"
    }
   },
   "source": [
    "## Symbolic Computing\n",
    "\n",
    "We can also expand:"
   ]
  },
  {
   "cell_type": "code",
   "execution_count": 30,
   "id": "9f72e19d",
   "metadata": {},
   "outputs": [
    {
     "data": {
      "image/png": "[encoded data removed]",
      "text/latex": [
       "$\\displaystyle x^{2} + 3 x + 2$"
      ],
      "text/plain": [
       " 2          \n",
       "x  + 3⋅x + 2"
      ]
     },
     "execution_count": 30,
     "metadata": {},
     "output_type": "execute_result"
    }
   ],
   "source": [
    "expr = (x + 1) * (x + 2)\n",
    "expr.expand()"
   ]
  },
  {
   "cell_type": "code",
   "execution_count": 31,
   "id": "00fa5f3f",
   "metadata": {},
   "outputs": [
    {
     "data": {
      "image/png": "[encoded data removed]",
      "text/latex": [
       "$\\displaystyle x^{2} + 3 x + 2$"
      ],
      "text/plain": [
       " 2          \n",
       "x  + 3⋅x + 2"
      ]
     },
     "execution_count": 31,
     "metadata": {},
     "output_type": "execute_result"
    }
   ],
   "source": [
    "sympy.expand(expr)"
   ]
  },
  {
   "cell_type": "markdown",
   "id": "370abc0b",
   "metadata": {
    "slideshow": {
     "slide_type": "slide"
    }
   },
   "source": [
    "## Symbolic Computing\n",
    "\n",
    "Log rules made simple:"
   ]
  },
  {
   "cell_type": "code",
   "execution_count": 32,
   "id": "368ee50e",
   "metadata": {},
   "outputs": [
    {
     "data": {
      "image/png": "[encoded data removed]",
      "text/latex": [
       "$\\displaystyle \\log{\\left(a \\right)} + \\log{\\left(b \\right)}$"
      ],
      "text/plain": [
       "log(a) + log(b)"
      ]
     },
     "execution_count": 32,
     "metadata": {},
     "output_type": "execute_result"
    }
   ],
   "source": [
    "a, b = sympy.symbols('a, b', positive = True)\n",
    "k = sympy.symbols('k', positive = True, integer = True)\n",
    "sympy.log(a * b).expand()"
   ]
  },
  {
   "cell_type": "code",
   "execution_count": 33,
   "id": "18c294a6",
   "metadata": {},
   "outputs": [
    {
     "data": {
      "image/png": "[encoded data removed]",
      "text/latex": [
       "$\\displaystyle \\log{\\left(a \\right)} - \\log{\\left(b \\right)}$"
      ],
      "text/plain": [
       "log(a) - log(b)"
      ]
     },
     "execution_count": 33,
     "metadata": {},
     "output_type": "execute_result"
    }
   ],
   "source": [
    "sympy.log(a / b).expand()"
   ]
  },
  {
   "cell_type": "code",
   "execution_count": 34,
   "id": "e701ee71",
   "metadata": {},
   "outputs": [
    {
     "data": {
      "image/png": "[encoded data removed]",
      "text/latex": [
       "$\\displaystyle k \\log{\\left(a \\right)}$"
      ],
      "text/plain": [
       "k⋅log(a)"
      ]
     },
     "execution_count": 34,
     "metadata": {},
     "output_type": "execute_result"
    }
   ],
   "source": [
    "sympy.log(a ** k).expand()"
   ]
  },
  {
   "cell_type": "code",
   "execution_count": 35,
   "id": "6be31ecc",
   "metadata": {},
   "outputs": [
    {
     "data": {
      "image/png": "[encoded data removed]",
      "text/latex": [
       "$\\displaystyle \\frac{\\log{\\left(a \\right)}}{k}$"
      ],
      "text/plain": [
       "log(a)\n",
       "──────\n",
       "  k   "
      ]
     },
     "execution_count": 35,
     "metadata": {},
     "output_type": "execute_result"
    }
   ],
   "source": [
    "sympy.log(a ** (1/k)).expand()"
   ]
  },
  {
   "cell_type": "markdown",
   "id": "71d863f9",
   "metadata": {
    "slideshow": {
     "slide_type": "slide"
    }
   },
   "source": [
    "## Symbolic Computing\n",
    "\n",
    "Factor expressions:"
   ]
  },
  {
   "cell_type": "code",
   "execution_count": 36,
   "id": "cbd3afe2",
   "metadata": {},
   "outputs": [
    {
     "data": {
      "image/png": "[encoded data removed]",
      "text/latex": [
       "$\\displaystyle \\left(x - 1\\right) \\left(x + 1\\right)$"
      ],
      "text/plain": [
       "(x - 1)⋅(x + 1)"
      ]
     },
     "execution_count": 36,
     "metadata": {},
     "output_type": "execute_result"
    }
   ],
   "source": [
    "sympy.factor(x ** 2 - 1)"
   ]
  },
  {
   "cell_type": "code",
   "execution_count": 37,
   "id": "960b2912",
   "metadata": {},
   "outputs": [
    {
     "data": {
      "image/png": "[encoded data removed]",
      "text/latex": [
       "$\\displaystyle \\left(x + 1\\right)^{2}$"
      ],
      "text/plain": [
       "       2\n",
       "(x + 1) "
      ]
     },
     "execution_count": 37,
     "metadata": {},
     "output_type": "execute_result"
    }
   ],
   "source": [
    "sympy.factor(x ** 2 + 2*x +  1)"
   ]
  },
  {
   "cell_type": "code",
   "execution_count": 38,
   "id": "ec870d1f",
   "metadata": {},
   "outputs": [
    {
     "data": {
      "image/png": "[encoded data removed]",
      "text/latex": [
       "$\\displaystyle x \\left(a x + b\\right)$"
      ],
      "text/plain": [
       "x⋅(a⋅x + b)"
      ]
     },
     "execution_count": 38,
     "metadata": {},
     "output_type": "execute_result"
    }
   ],
   "source": [
    "sympy.factor(a * (x ** 2) + b * x)"
   ]
  },
  {
   "cell_type": "markdown",
   "id": "119836ea",
   "metadata": {
    "slideshow": {
     "slide_type": "slide"
    }
   },
   "source": [
    "## Symbolic Computing\n",
    "\n",
    "Collecting terms:"
   ]
  },
  {
   "cell_type": "code",
   "execution_count": 39,
   "id": "9ad502d0",
   "metadata": {
    "slideshow": {
     "slide_type": "fragment"
    }
   },
   "outputs": [
    {
     "data": {
      "image/png": "[encoded data removed]",
      "text/latex": [
       "$\\displaystyle x \\left(y z + 1\\right) + y$"
      ],
      "text/plain": [
       "x⋅(y⋅z + 1) + y"
      ]
     },
     "execution_count": 39,
     "metadata": {},
     "output_type": "execute_result"
    }
   ],
   "source": [
    "expr = x + y + x * y * z\n",
    "expr.collect(x)"
   ]
  },
  {
   "cell_type": "code",
   "execution_count": 40,
   "id": "b5d544f8",
   "metadata": {},
   "outputs": [
    {
     "data": {
      "image/png": "[encoded data removed]",
      "text/latex": [
       "$\\displaystyle x + y \\left(x z + 1\\right)$"
      ],
      "text/plain": [
       "x + y⋅(x⋅z + 1)"
      ]
     },
     "execution_count": 40,
     "metadata": {},
     "output_type": "execute_result"
    }
   ],
   "source": [
    "expr.collect(y)"
   ]
  },
  {
   "cell_type": "markdown",
   "id": "da861bc2",
   "metadata": {
    "slideshow": {
     "slide_type": "slide"
    }
   },
   "source": [
    "## Symbolic Computing\n",
    "\n",
    "Partial fractions and rational polynomials:"
   ]
  },
  {
   "cell_type": "code",
   "execution_count": 41,
   "id": "60472036",
   "metadata": {},
   "outputs": [
    {
     "data": {
      "image/png": "[encoded data removed]",
      "text/latex": [
       "$\\displaystyle \\frac{1}{x^{2} + 3 x + 2}$"
      ],
      "text/plain": [
       "     1      \n",
       "────────────\n",
       " 2          \n",
       "x  + 3⋅x + 2"
      ]
     },
     "execution_count": 41,
     "metadata": {},
     "output_type": "execute_result"
    }
   ],
   "source": [
    "expr = 1/(x**2 + 3*x + 2)\n",
    "expr"
   ]
  },
  {
   "cell_type": "code",
   "execution_count": 42,
   "id": "7c4a754e",
   "metadata": {},
   "outputs": [
    {
     "data": {
      "image/png": "[encoded data removed]",
      "text/latex": [
       "$\\displaystyle - \\frac{1}{x + 2} + \\frac{1}{x + 1}$"
      ],
      "text/plain": [
       "    1       1  \n",
       "- ───── + ─────\n",
       "  x + 2   x + 1"
      ]
     },
     "execution_count": 42,
     "metadata": {},
     "output_type": "execute_result"
    }
   ],
   "source": [
    "sympy.apart(expr)"
   ]
  },
  {
   "cell_type": "markdown",
   "id": "d7defa7f",
   "metadata": {
    "slideshow": {
     "slide_type": "slide"
    }
   },
   "source": [
    "## Symbolic Computing\n",
    "\n",
    "Partial fractions and rational polynomials:"
   ]
  },
  {
   "cell_type": "code",
   "execution_count": 43,
   "id": "e68b3b78",
   "metadata": {},
   "outputs": [
    {
     "data": {
      "image/png": "[encoded data removed]",
      "text/latex": [
       "$\\displaystyle \\frac{1}{x y + y} + \\frac{1}{x + 1}$"
      ],
      "text/plain": [
       "   1        1  \n",
       "─────── + ─────\n",
       "x⋅y + y   x + 1"
      ]
     },
     "execution_count": 43,
     "metadata": {},
     "output_type": "execute_result"
    }
   ],
   "source": [
    "expr = 1 / (y * x + y) + 1 / (1+x)\n",
    "expr"
   ]
  },
  {
   "cell_type": "code",
   "execution_count": 44,
   "id": "ccbac656",
   "metadata": {},
   "outputs": [
    {
     "data": {
      "image/png": "[encoded data removed]",
      "text/latex": [
       "$\\displaystyle \\frac{y + 1}{y \\left(x + 1\\right)}$"
      ],
      "text/plain": [
       "  y + 1  \n",
       "─────────\n",
       "y⋅(x + 1)"
      ]
     },
     "execution_count": 44,
     "metadata": {},
     "output_type": "execute_result"
    }
   ],
   "source": [
    "sympy.together(expr)"
   ]
  },
  {
   "cell_type": "markdown",
   "id": "99fe31a1",
   "metadata": {
    "slideshow": {
     "slide_type": "slide"
    }
   },
   "source": [
    "## Symbolic Computing\n",
    "\n",
    "Partial fractions and rational polynomials:"
   ]
  },
  {
   "cell_type": "code",
   "execution_count": 45,
   "id": "ca040fb5",
   "metadata": {},
   "outputs": [
    {
     "data": {
      "image/png": "[encoded data removed]",
      "text/latex": [
       "$\\displaystyle \\frac{y}{x y + y}$"
      ],
      "text/plain": [
       "   y   \n",
       "───────\n",
       "x⋅y + y"
      ]
     },
     "execution_count": 45,
     "metadata": {},
     "output_type": "execute_result"
    }
   ],
   "source": [
    "expr = y / (y * x + y)\n",
    "expr"
   ]
  },
  {
   "cell_type": "code",
   "execution_count": 46,
   "id": "8cfde499",
   "metadata": {},
   "outputs": [
    {
     "data": {
      "image/png": "[encoded data removed]",
      "text/latex": [
       "$\\displaystyle \\frac{1}{x + 1}$"
      ],
      "text/plain": [
       "  1  \n",
       "─────\n",
       "x + 1"
      ]
     },
     "execution_count": 46,
     "metadata": {},
     "output_type": "execute_result"
    }
   ],
   "source": [
    "sympy.cancel(expr)"
   ]
  },
  {
   "cell_type": "markdown",
   "id": "3ee08620",
   "metadata": {
    "slideshow": {
     "slide_type": "slide"
    }
   },
   "source": [
    "## Symbolic Computing\n",
    "\n",
    "Substitutions:"
   ]
  },
  {
   "cell_type": "code",
   "execution_count": 47,
   "id": "c101fc6e",
   "metadata": {},
   "outputs": [
    {
     "data": {
      "image/png": "[encoded data removed]",
      "text/latex": [
       "$\\displaystyle x + y$"
      ],
      "text/plain": [
       "x + y"
      ]
     },
     "execution_count": 47,
     "metadata": {},
     "output_type": "execute_result"
    }
   ],
   "source": [
    "expr = x + y\n",
    "expr"
   ]
  },
  {
   "cell_type": "code",
   "execution_count": 48,
   "id": "7f0f71d6",
   "metadata": {},
   "outputs": [
    {
     "data": {
      "image/png": "[encoded data removed]",
      "text/latex": [
       "$\\displaystyle 2 y$"
      ],
      "text/plain": [
       "2⋅y"
      ]
     },
     "execution_count": 48,
     "metadata": {},
     "output_type": "execute_result"
    }
   ],
   "source": [
    "expr.subs(x, y)"
   ]
  },
  {
   "cell_type": "markdown",
   "id": "d6b8b75e",
   "metadata": {
    "slideshow": {
     "slide_type": "slide"
    }
   },
   "source": [
    "## Symbolic Computing\n",
    "\n",
    "For numerical evaluation, `sympy.N` and `evalf` both work nicely:"
   ]
  },
  {
   "cell_type": "code",
   "execution_count": 49,
   "id": "b50edc55",
   "metadata": {},
   "outputs": [
    {
     "data": {
      "image/png": "[encoded data removed]",
      "text/latex": [
       "$\\displaystyle 3.14159265358979323846264338328$"
      ],
      "text/plain": [
       "3.14159265358979323846264338328"
      ]
     },
     "execution_count": 49,
     "metadata": {},
     "output_type": "execute_result"
    }
   ],
   "source": [
    "sympy.N(sympy.pi, 30)"
   ]
  },
  {
   "cell_type": "code",
   "execution_count": 50,
   "id": "04a50151",
   "metadata": {},
   "outputs": [
    {
     "data": {
      "image/png": "[encoded data removed]",
      "text/latex": [
       "$\\displaystyle x + 0.3183098862$"
      ],
      "text/plain": [
       "x + 0.3183098862"
      ]
     },
     "execution_count": 50,
     "metadata": {},
     "output_type": "execute_result"
    }
   ],
   "source": [
    "(x + 1 / sympy.pi).evalf(10)"
   ]
  },
  {
   "cell_type": "code",
   "execution_count": 51,
   "id": "2f112cc0",
   "metadata": {},
   "outputs": [
    {
     "data": {
      "image/png": "[encoded data removed]",
      "text/latex": [
       "$\\displaystyle x^{2} + \\pi x + 2$"
      ],
      "text/plain": [
       " 2          \n",
       "x  + π⋅x + 2"
      ]
     },
     "execution_count": 51,
     "metadata": {},
     "output_type": "execute_result"
    }
   ],
   "source": [
    "expr = x ** 2 + sympy.pi * x + 2\n",
    "expr"
   ]
  },
  {
   "cell_type": "code",
   "execution_count": 52,
   "id": "691383cd",
   "metadata": {},
   "outputs": [
    {
     "data": {
      "image/png": "[encoded data removed]",
      "text/latex": [
       "$\\displaystyle \\left[ 1.6, \\  -0.28, \\  -0.14, \\  2.0, \\  6.1, \\  12.0\\right]$"
      ],
      "text/plain": [
       "[1.6, -0.28, -0.14, 2.0, 6.1, 12.0]"
      ]
     },
     "execution_count": 52,
     "metadata": {},
     "output_type": "execute_result"
    }
   ],
   "source": [
    "[expr.subs(x, num).evalf(2) for num in range(-3, 3)]"
   ]
  },
  {
   "cell_type": "markdown",
   "id": "d5cb7823",
   "metadata": {
    "slideshow": {
     "slide_type": "slide"
    }
   },
   "source": [
    "## Symbolic Computing\n",
    "\n",
    "But lambda functions are more efficient to work with in `sympy`:"
   ]
  },
  {
   "cell_type": "code",
   "execution_count": 53,
   "id": "77909b37",
   "metadata": {
    "slideshow": {
     "slide_type": "fragment"
    }
   },
   "outputs": [
    {
     "data": {
      "text/plain": [
       "<function _lambdifygenerated(x)>"
      ]
     },
     "execution_count": 53,
     "metadata": {},
     "output_type": "execute_result"
    }
   ],
   "source": [
    "expr_func = sympy.lambdify(x, expr)\n",
    "expr_func"
   ]
  },
  {
   "cell_type": "code",
   "execution_count": 54,
   "id": "a825b892",
   "metadata": {},
   "outputs": [
    {
     "data": {
      "image/png": "[encoded data removed]",
      "text/latex": [
       "$\\displaystyle \\left[ 1.57522203923062, \\  -0.283185307179586, \\  -0.141592653589793, \\  2.0, \\  6.14159265358979, \\  12.2831853071796\\right]$"
      ],
      "text/plain": [
       "[1.5752220392306207, -0.28318530717958623, -0.14159265358979312, 2.0, 6.141592\n",
       "653589793, 12.283185307179586]"
      ]
     },
     "execution_count": 54,
     "metadata": {},
     "output_type": "execute_result"
    }
   ],
   "source": [
    "[expr_func(num) for num in range(-3, 3)]"
   ]
  },
  {
   "cell_type": "markdown",
   "id": "e6cf4a2e",
   "metadata": {
    "slideshow": {
     "slide_type": "slide"
    }
   },
   "source": [
    "## Symbolic Computing\n",
    "\n",
    "Derivatives in one variable (abstract):"
   ]
  },
  {
   "cell_type": "code",
   "execution_count": 55,
   "id": "352a82fd",
   "metadata": {},
   "outputs": [
    {
     "data": {
      "image/png": "[encoded data removed]",
      "text/latex": [
       "$\\displaystyle f{\\left(x \\right)}$"
      ],
      "text/plain": [
       "f(x)"
      ]
     },
     "execution_count": 55,
     "metadata": {},
     "output_type": "execute_result"
    }
   ],
   "source": [
    "f = sympy.Function('f')(x)\n",
    "f"
   ]
  },
  {
   "cell_type": "code",
   "execution_count": 56,
   "id": "30008cc3",
   "metadata": {},
   "outputs": [
    {
     "data": {
      "image/png": "[encoded data removed]",
      "text/latex": [
       "$\\displaystyle \\frac{d}{d x} f{\\left(x \\right)}$"
      ],
      "text/plain": [
       "d       \n",
       "──(f(x))\n",
       "dx      "
      ]
     },
     "execution_count": 56,
     "metadata": {},
     "output_type": "execute_result"
    }
   ],
   "source": [
    "f.diff()"
   ]
  },
  {
   "cell_type": "code",
   "execution_count": 57,
   "id": "549089e9",
   "metadata": {},
   "outputs": [
    {
     "data": {
      "image/png": "[encoded data removed]",
      "text/latex": [
       "$\\displaystyle \\frac{d^{2}}{d x^{2}} f{\\left(x \\right)}$"
      ],
      "text/plain": [
       "  2      \n",
       " d       \n",
       "───(f(x))\n",
       "  2      \n",
       "dx       "
      ]
     },
     "execution_count": 57,
     "metadata": {},
     "output_type": "execute_result"
    }
   ],
   "source": [
    "f.diff(x, x)"
   ]
  },
  {
   "cell_type": "code",
   "execution_count": 58,
   "id": "492048ab",
   "metadata": {},
   "outputs": [
    {
     "data": {
      "image/png": "[encoded data removed]",
      "text/latex": [
       "$\\displaystyle \\frac{d^{3}}{d x^{3}} f{\\left(x \\right)}$"
      ],
      "text/plain": [
       "  3      \n",
       " d       \n",
       "───(f(x))\n",
       "  3      \n",
       "dx       "
      ]
     },
     "execution_count": 58,
     "metadata": {},
     "output_type": "execute_result"
    }
   ],
   "source": [
    "sympy.diff(f, x, x, x)"
   ]
  },
  {
   "cell_type": "code",
   "execution_count": 59,
   "id": "6a37a71a",
   "metadata": {},
   "outputs": [
    {
     "data": {
      "image/png": "[encoded data removed]",
      "text/latex": [
       "$\\displaystyle \\frac{d^{4}}{d x^{4}} f{\\left(x \\right)}$"
      ],
      "text/plain": [
       "  4      \n",
       " d       \n",
       "───(f(x))\n",
       "  4      \n",
       "dx       "
      ]
     },
     "execution_count": 59,
     "metadata": {},
     "output_type": "execute_result"
    }
   ],
   "source": [
    "sympy.diff(f, x, 4)"
   ]
  },
  {
   "cell_type": "markdown",
   "id": "55f5060a",
   "metadata": {
    "slideshow": {
     "slide_type": "slide"
    }
   },
   "source": [
    "## Questions?"
   ]
  },
  {
   "cell_type": "markdown",
   "id": "8a3f1e9f",
   "metadata": {
    "slideshow": {
     "slide_type": "slide"
    }
   },
   "source": [
    "## Great work! See you in the next class!"
   ]
  }
 ],
 "metadata": {
  "celltoolbar": "Slideshow",
  "kernelspec": {
   "display_name": "Python 3 (ipykernel)",
   "language": "python",
   "name": "python3"
  },
  "language_info": {
   "codemirror_mode": {
    "name": "ipython",
    "version": 3
   },
   "file_extension": ".py",
   "mimetype": "text/x-python",
   "name": "python",
   "nbconvert_exporter": "python",
   "pygments_lexer": "ipython3",
   "version": "3.9.5"
  }
 },
 "nbformat": 4,
 "nbformat_minor": 5
}
