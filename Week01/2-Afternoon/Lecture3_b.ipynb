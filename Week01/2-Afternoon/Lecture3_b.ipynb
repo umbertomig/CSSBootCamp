{
 "cells": [
  {
   "cell_type": "markdown",
   "metadata": {
    "slideshow": {
     "slide_type": "slide"
    }
   },
   "source": [
    "# CSS 201 / 202 - CSS Bootcamp\n",
    "\n",
    "## Week 01 - Lecture 03 (afternoon)\n",
    "\n",
    "### Umberto Mignozzetti (UCSD)"
   ]
  },
  {
   "cell_type": "markdown",
   "metadata": {
    "slideshow": {
     "slide_type": "slide"
    }
   },
   "source": [
    "# Calculus"
   ]
  },
  {
   "cell_type": "markdown",
   "metadata": {
    "slideshow": {
     "slide_type": "slide"
    }
   },
   "source": [
    "## Recap\n",
    "\n",
    "- Functions\n",
    "- Derivatives\n",
    "- Optimization\n",
    "- Composite function\n",
    "- Exponentials and logarithms\n",
    "- Functions of several variables\n",
    "\n",
    "Great work. You are awesome!!"
   ]
  },
  {
   "cell_type": "markdown",
   "metadata": {
    "slideshow": {
     "slide_type": "slide"
    }
   },
   "source": [
    "## Today\n",
    "\n",
    "- Gradient and hessian matrix\n",
    "- Unconstrained Optimization\n",
    "- Integration"
   ]
  },
  {
   "cell_type": "markdown",
   "metadata": {
    "slideshow": {
     "slide_type": "slide"
    }
   },
   "source": [
    "# Gradient vector and Hessian matrix"
   ]
  },
  {
   "cell_type": "markdown",
   "metadata": {
    "slideshow": {
     "slide_type": "slide"
    }
   },
   "source": [
    "## Gradient Vector\n",
    "\n",
    "We write the derivative of $F$ at $x^{*}$ as a column matrix:\n",
    "\n",
    "$$\\nabla F(x^{*})$ = \\begin{pmatrix} \\dfrac{\\partial F}{\\partial x_{1}}(x^{*})\\\\.\\\\.\\\\.\\\\ \\dfrac{\\partial F}{\\partial x_{n}}(x^{*}) \\end{pmatrix}$$\n",
    "\n",
    "And call it the ***gradient*** (or gradient vector) of $F$ at $x^{*}$."
   ]
  },
  {
   "cell_type": "markdown",
   "metadata": {
    "slideshow": {
     "slide_type": "slide"
    }
   },
   "source": [
    "## Gradient Vector\n",
    "\n",
    "The vital characteristic of the gradient vector is its length and direction.\n",
    "\n",
    "![grad1](https://github.com/umbertomig/CSSBootCamp/blob/main/img/grad1.png?raw=true)"
   ]
  },
  {
   "cell_type": "markdown",
   "metadata": {
    "slideshow": {
     "slide_type": "slide"
    }
   },
   "source": [
    "## Gradient Vector\n",
    "\n",
    "![grad2](https://github.com/umbertomig/CSSBootCamp/blob/main/img/grad2.png?raw=true)"
   ]
  },
  {
   "cell_type": "markdown",
   "metadata": {
    "slideshow": {
     "slide_type": "slide"
    }
   },
   "source": [
    "## Higher-Order Derivatives\n",
    "\n",
    "**Higher-Order Derivatives:**\n",
    "\n",
    "$$\\dfrac{\\partial}{\\partial x_{j}}\\bigg( \\dfrac{\\partial f}{\\partial x_{i}}\\bigg)$$\n",
    "\n",
    "is called the $x_{i}x_{j}$-second order partial derivative of $f$. It is usually written as:\n",
    "\n",
    "$$\\dfrac{\\partial^{2}f}{\\partial x_{j}\\partial x_{i}}$$\n",
    "\n",
    "The $x_{i}x_{i}$-derivative is usually written as $\\dfrac{\\partial^{2}}{\\partial x_{i}^{2}}$.\n",
    "\n",
    "Terms of the form $\\frac{\\partial^{2}}{\\partial x_{i}\\partial x_{j}}$ with $i\\neq j$ are called cross partial derivatives or mixed partial derivatives."
   ]
  },
  {
   "cell_type": "markdown",
   "metadata": {
    "slideshow": {
     "slide_type": "slide"
    }
   },
   "source": [
    "## Higher-Order Derivatives\n",
    "\n",
    "Useful theorem:\n",
    "\n",
    "![hess1](https://github.com/umbertomig/CSSBootCamp/blob/main/img/hess1.png?raw=true)"
   ]
  },
  {
   "cell_type": "markdown",
   "metadata": {
    "slideshow": {
     "slide_type": "slide"
    }
   },
   "source": [
    "## Hessian Matrix\n",
    "\n",
    "The matrix with all the second derivatives is called the **Hessian Matrix**. Here is an example of it:\n",
    "\n",
    "![hess2](https://github.com/umbertomig/CSSBootCamp/blob/main/img/hess2.png?raw=true)"
   ]
  },
  {
   "cell_type": "markdown",
   "metadata": {
    "slideshow": {
     "slide_type": "slide"
    }
   },
   "source": [
    "## Higher-order derivatives and Hessian matrix\n",
    "\n",
    "**Examples:** \n",
    "\n",
    "1. Consider a production function $Q$ below that depends on capital $K$ and labor $L$. Find all the second derivatives of the production function and write its hessian.\n",
    "\n",
    "$$ Q= 4K^{\\frac{3}{4}}L^{\\frac{1}{4}} $$\n",
    "\n",
    "2. Find the gradient and the hessian of $$F(x,y)= x^{3}-y^{3}+9xy$$"
   ]
  },
  {
   "cell_type": "markdown",
   "metadata": {
    "jp-MarkdownHeadingCollapsed": true,
    "slideshow": {
     "slide_type": "slide"
    }
   },
   "source": [
    "### Exercises\n",
    "\n",
    "**Your turn!**: Compute the gradient vector and the hessian matrix of the following functions:\n",
    "\n",
    "1. $x^{2}+2xy-y^{2}$\n",
    "2. $ye^{x}$\n",
    "3. $e^{2x+3y}$"
   ]
  },
  {
   "cell_type": "markdown",
   "metadata": {
    "slideshow": {
     "slide_type": "slide"
    }
   },
   "source": [
    "# Unconstrained Optimization"
   ]
  },
  {
   "cell_type": "markdown",
   "metadata": {
    "slideshow": {
     "slide_type": "slide"
    }
   },
   "source": [
    "## Unconstrained Optimization\n",
    "\n",
    "![m1](https://github.com/umbertomig/CSSBootCamp/blob/main/img/m1.png?raw=true)"
   ]
  },
  {
   "cell_type": "markdown",
   "metadata": {
    "slideshow": {
     "slide_type": "slide"
    }
   },
   "source": [
    "## Unconstrained Optimization\n",
    "\n",
    "- **Local Maximum:** A point $x^{*}$ is a local maximum if there are no nearby points at which $F$ takes on a larger value. Of course, any given maximum is always a local maximum.\n",
    "- **Global Maximum:** If we want to emphasize that a point $x^{*}$ is a maximum of $F$ on the whole domain $U$, not just a local maximum, we call $x^{*}$ a ***global maximum** (or absolute maximum) of $F$ on $U$.\n",
    "\n",
    "![m2](https://github.com/umbertomig/CSSBootCamp/blob/main/img/m2.png?raw=true)"
   ]
  },
  {
   "cell_type": "markdown",
   "metadata": {
    "slideshow": {
     "slide_type": "slide"
    }
   },
   "source": [
    "## First Order Condition\n",
    "\n",
    "**Definition: Critical Point**\n",
    "\n",
    "We say that a $n$-vector ${\\bf x}^{*} = (x_{1},..., x_{n})$ is a \\textbf{critical point} of a function $f(x_{1},..., x_{n})$ if ${\\bf x}^{*}$ satisfies:\n",
    "$$\\dfrac{\\partial f}{\\partial x_{i}}(x_{1},..., x_{n})=0 \\quad \\text{for } i=1,2,...,n$$\n",
    "\n",
    "This definition implies that $\\nabla f ({\\bf x}) = {\\bf 0}$.\n",
    "\n",
    "$\\nabla f ({\\bf x}) = {\\bf 0}$ is called a *first order condition*, or a *necessary condition for optimization*."
   ]
  },
  {
   "cell_type": "markdown",
   "metadata": {
    "slideshow": {
     "slide_type": "slide"
    }
   },
   "source": [
    "## Sufficient Conditions\n",
    "\n",
    "We need to analyze the Hessian matrix to find whether a given point is indeed maximum or minimum. This will give us a *sufficient conditions* (or *second-order conditions* for optimization).\n",
    "\n",
    "In single-variable calculus, this is straightforward: compute the second derivative and check whether, in the critical pointm, it is positive (minimum) or negative (maximum).\n",
    "\n",
    "But now we have a matrix. How can we determine whether a given matrix represent a *positive* or *negative* equivalent in the number world?\n",
    "\n",
    "We study a similar concept, called **positive definiteness**. But first, let us define a few auxiliary results that will come handy."
   ]
  },
  {
   "cell_type": "markdown",
   "metadata": {
    "jp-MarkdownHeadingCollapsed": true,
    "slideshow": {
     "slide_type": "slide"
    }
   },
   "source": [
    "## Determinant of a matrix\n",
    "\n",
    "To understand matrices, we need to summarize them. One way to do this is to come up with a number summary. A good one is called the *determinant of a matrix*.\n",
    "\n",
    "**Definition (determinant)**: The determinant of a matrix is a number that can be computed from the elements of a square matrix. In linear algebra you will learn more about this. Right now, you need to know that for a $2 \\times 2$ matrix $A$:\n",
    "\n",
    "$$\n",
    "A = \\begin{pmatrix}\n",
    "a & b \\\\\n",
    "c & d\n",
    "\\end{pmatrix}\n",
    "$$\n",
    "\n",
    "The determinant is defined as:\n",
    "\n",
    "$$\n",
    "\\det(A) = ad - bc.\n",
    "$$\n",
    "\n",
    "The determinant can be thought of as a measure of how much the matrix changes the size or volume of an object when it is used to transform that object.\n",
    "\n",
    "*Note:* The determinant of a matrix $A = (a)$ is just $a$. "
   ]
  },
  {
   "cell_type": "markdown",
   "metadata": {
    "jp-MarkdownHeadingCollapsed": true,
    "slideshow": {
     "slide_type": "slide"
    }
   },
   "source": [
    "## Principal submatrix\n",
    "\n",
    "Consider the matrix $A$ again:\n",
    "\n",
    "$$\n",
    "A = \\begin{pmatrix}\n",
    "a & b \\\\\n",
    "c & d\n",
    "\\end{pmatrix}\n",
    "$$\n",
    "\n",
    "We say it is composed by many submatrices. The main ones are what we call the *principal submatrices*.\n",
    "\n",
    "**Definition (principal submatrix)**: Let $A$ be an $n \\times n$ matrix. A $k \\times k$ submatrix of $A$ formed by deleting $n-k$ columns, say $i_{1}$, $i_{2}$,..., $i_{n-k}$ and the same $n-k$ rows, rows $i_{1}$, $i_{2}$,..., $i_{n-k}$, form $A$ is called a $k$th order principal submatrix of $A$.\n",
    "\n",
    "How many *principal submatrices* we have for $A$?"
   ]
  },
  {
   "cell_type": "markdown",
   "metadata": {
    "slideshow": {
     "slide_type": "slide"
    }
   },
   "source": [
    "## Leading Principal Submatrix\n",
    "\n",
    "Now, to classify whether $A$ is positive or negative definite, we need to compute the determinant of each submatrices: these are called *principal minors*.\n",
    "\n",
    "**Definition (principal minor)**: The determinant of a $k \\times k$ principal submatrix is called a $k$th order principal minor of $A$.\n",
    "\n",
    "Find the principals minors of the matrix \n",
    "\n",
    "$$\n",
    "A = \\begin{pmatrix}\n",
    "a & b \\\\\n",
    "c & d\n",
    "\\end{pmatrix}\n",
    "$$"
   ]
  },
  {
   "cell_type": "markdown",
   "metadata": {
    "slideshow": {
     "slide_type": "slide"
    }
   },
   "source": [
    "## Leading principal minors\n",
    "\n",
    "And now, their relationship with positive and negative definiteness:\n",
    "\n",
    "![qform6](https://github.com/umbertomig/CSSBootCamp/blob/main/img/qform6.png?raw=true)"
   ]
  },
  {
   "cell_type": "markdown",
   "metadata": {
    "slideshow": {
     "slide_type": "slide"
    }
   },
   "source": [
    "## Exercise\n",
    "\n",
    "**Your turn!**: Classify the following matrices:\n",
    "\n",
    "1. $\\begin{pmatrix} 2 & 1 \\\\ 1 & 1 \\end{pmatrix}$\n",
    "\n",
    "1. $\\begin{pmatrix} 1 & 0 \\\\ 0 & 1 \\end{pmatrix}$\n",
    "\n",
    "1. $\\begin{pmatrix} -1 & 0 \\\\ 0 & -1 \\end{pmatrix}$\n",
    "\n",
    "1. $\\begin{pmatrix} -1 & 0 \\\\ 1 & 1 \\end{pmatrix}$"
   ]
  },
  {
   "cell_type": "markdown",
   "metadata": {
    "jp-MarkdownHeadingCollapsed": true,
    "slideshow": {
     "slide_type": "slide"
    }
   },
   "source": [
    "## Sufficient Conditions: Maximum\n",
    "\n",
    "![m6](https://github.com/umbertomig/CSSBootCamp/blob/main/img/m6.png?raw=true)"
   ]
  },
  {
   "cell_type": "markdown",
   "metadata": {
    "jp-MarkdownHeadingCollapsed": true,
    "slideshow": {
     "slide_type": "slide"
    }
   },
   "source": [
    "## Sufficient Conditions: Minimum\n",
    "\n",
    "![m7](https://github.com/umbertomig/CSSBootCamp/blob/main/img/m7.png?raw=true)"
   ]
  },
  {
   "cell_type": "markdown",
   "metadata": {
    "slideshow": {
     "slide_type": "slide"
    }
   },
   "source": [
    "## Examples\n",
    "\n",
    "For each of the following functions defined on $\\mathbb{R}^{2}$, find the critical points and classify these as local max, local min, saddle point, or can't tell:\n",
    "\n",
    "- $x^{2}-2xy$\n",
    "- $x^{3}-y^{3}+9xy$"
   ]
  },
  {
   "cell_type": "markdown",
   "metadata": {
    "jp-MarkdownHeadingCollapsed": true,
    "slideshow": {
     "slide_type": "slide"
    }
   },
   "source": [
    "## Saddle Points\n",
    "\n",
    "**Definition:** A critical point $x^{*}$ of $F$ for which the Hessian $D^{2}F(x^{*})$ is indefinite is called a saddle point of $F$. A saddle point $x^{*}$ is a min of $F$ in some directions and a max of $F$ in others directions.\n",
    "\n",
    "![m5](https://github.com/umbertomig/CSSBootCamp/blob/main/img/m5.png?raw=true)"
   ]
  },
  {
   "cell_type": "markdown",
   "metadata": {
    "slideshow": {
     "slide_type": "slide"
    }
   },
   "source": [
    "## Example: Least Squares Method\n",
    "\n",
    "If we are give $n$ data points in the plane $(x_{1}, y_{1}),...,(x_{n}, y_{n})$, and a straight line whose equation is $y= mx+b$, the we can write the aggregate distance from the $n$ points to the line as:\n",
    "\n",
    "$$S(m, b)=(mx_{1}+b-y_{1})^{2} + \\cdots + (mx_{n}+b-y_{n})^{2}$$\n",
    "\n",
    "Consider calculating $S$ for several lines so that $S$ becomes a function of $m$ and $b$.\n",
    "\n",
    "$$S(m,b)= \\sum_{i=1}(mx_{1}+b-y_{1})^{2}$$"
   ]
  },
  {
   "cell_type": "markdown",
   "metadata": {
    "slideshow": {
     "slide_type": "slide"
    }
   },
   "source": [
    "## Exercise\n",
    "\n",
    "**Your turn:** Find the critical points of\n",
    "\n",
    "$$S(m,b)= \\sum_{i=1}(mx_{1}+b-y_{1})^{2}$$\n",
    "\n",
    "Then, using the critical point (which is the only minimum for this function), adjust a straight line to the following points by least squares $(0,1), (-3,-5), (2.5, 6), (4,9)$ and $(0.5, 0)$."
   ]
  },
  {
   "cell_type": "markdown",
   "metadata": {
    "slideshow": {
     "slide_type": "slide"
    }
   },
   "source": [
    "# Integration"
   ]
  },
  {
   "cell_type": "markdown",
   "metadata": {
    "slideshow": {
     "slide_type": "slide"
    }
   },
   "source": [
    "## Integration\n",
    "\n",
    "- Integration is one of the two main operations of Calculus.\n",
    "    1. Differentiation\n",
    "    2. Integration\n",
    "\n",
    "- Integration: *inverse* operation of differentiation.\n",
    "\n",
    "- Idea: compute area, volume, and other concepts that arise by combining infinitesimal data.\n",
    "\n",
    "Given a function $f$ of a real variable $x$, and an interval $[a, b] \\in \\mathbb{R}$, the definite integral is equal to: \n",
    "$$ \\int_{a}^{b} f(x) \\, dx $$"
   ]
  },
  {
   "cell_type": "markdown",
   "metadata": {
    "slideshow": {
     "slide_type": "slide"
    }
   },
   "source": [
    "## Integrals as areas\n",
    "\n",
    "![Integrals as areas](https://github.com/umbertomig/CSSBootCamp/blob/main/img/int1.png?raw=true)"
   ]
  },
  {
   "cell_type": "markdown",
   "metadata": {
    "slideshow": {
     "slide_type": "slide"
    }
   },
   "source": [
    "## Integrals as areas\n",
    "\n",
    "![Integrals as areas](https://github.com/umbertomig/CSSBootCamp/blob/main/img/int2.png?raw=true)"
   ]
  },
  {
   "cell_type": "markdown",
   "metadata": {
    "slideshow": {
     "slide_type": "slide"
    }
   },
   "source": [
    "## Indefinite Integral\n",
    "\n",
    "- Integration, up to an additive constant, is the inverse of the differentiation operation.\n",
    "\n",
    "- For this reason, the term integral may also refer to the related notion of the antiderivative, a function $F$ whose derivative is the given function $f$.\n",
    "\n",
    "Indefinite integral:\n",
    "\n",
    "$$ F(x) = \\int f(x) \\, dx + C $$"
   ]
  },
  {
   "cell_type": "markdown",
   "metadata": {
    "slideshow": {
     "slide_type": "slide"
    }
   },
   "source": [
    "## Indefinite Integrals\n",
    "\n",
    "An indefinite integral, defined as the inverse of a derivative (antiderivative), is as follows:\n",
    "![Indefinite Integrals](https://github.com/umbertomig/CSSBootCamp/blob/main/img/d1.png?raw=true)\n",
    "\n",
    "The integral is the inverse of the derivative. The example below shows this:\n",
    "\n",
    "$$ \\int x^{2} \\, dx = \\dfrac{x^{3}}{3} + C $$\n",
    "\n",
    "$$ \\dfrac{d}{dx} \\left[ \\dfrac{x^{3}}{3} + C \\right] = x^{2} $$"
   ]
  },
  {
   "cell_type": "markdown",
   "metadata": {
    "slideshow": {
     "slide_type": "slide"
    }
   },
   "source": [
    "## Indefinite integrals: properties\n",
    "\n",
    "1. $$ \\int cf(x) \\, dx = c \\int f(x) \\, dx $$\n",
    "\n",
    "1. $$ \\int [f(x) + g(x)] \\, dx = \\int f(x) \\, dx + \\int g(x) \\, dx $$\n",
    "\n",
    "1. $$ \\int k \\, dx = kx + C $$\n",
    "\n",
    "1. $$ \\int x^{n} \\, dx = \\dfrac{x^{n+1}}{n+1} + C $$\n",
    "\n",
    "1. $$ \\int e^{x} \\, dx = e^{x} + C $$\n",
    "\n",
    "1. $$ \\int \\dfrac{1}{x} \\, dx = \\ln |x| + C $$"
   ]
  },
  {
   "cell_type": "markdown",
   "metadata": {
    "slideshow": {
     "slide_type": "slide"
    }
   },
   "source": [
    "## Fundamental Theorem of Calculus\n",
    "\n",
    "Fundamental Theorem of Calculus:\n",
    "\n",
    "$$ \\int_{a}^{b} f(x) \\, dx = F(b) - F(a) $$\n",
    "\n",
    "Properties:\n",
    "\n",
    "$$ \\int_{a}^{b} f(x) \\, dx = -\\int_{b}^{a} f(x) \\, dx $$\n",
    "$$ \\int_{a}^{a} f(x) \\, dx = 0 $$"
   ]
  },
  {
   "cell_type": "markdown",
   "metadata": {
    "slideshow": {
     "slide_type": "slide"
    }
   },
   "source": [
    "## Properties of the definite integrals\n",
    "\n",
    "![Fundamental Theorem of Calculus](https://github.com/umbertomig/CSSBootCamp/blob/main/img/d2.png?raw=true)"
   ]
  },
  {
   "cell_type": "markdown",
   "metadata": {
    "slideshow": {
     "slide_type": "slide"
    }
   },
   "source": [
    "## Substitution rule\n",
    "\n",
    "![Substitution Rule](https://github.com/umbertomig/CSSBootCamp/blob/main/img/d3.png?raw=true)\n",
    "\n",
    "Examples:\n",
    "1. $\\displaystyle\\int \\sqrt{2x + 1} \\, dx$\n",
    "2. $\\displaystyle\\int_{1}^{2} \\dfrac{dx}{(3-5x)^{2}}$"
   ]
  },
  {
   "cell_type": "markdown",
   "metadata": {
    "slideshow": {
     "slide_type": "slide"
    }
   },
   "source": [
    "## Integration by parts\n",
    "\n",
    "For the indefinite integrals:\n",
    "\n",
    "![Integration by parts](https://github.com/umbertomig/CSSBootCamp/blob/main/img/d4.png?raw=true)\n",
    "\n",
    "Example:\n",
    "1. $\\displaystyle\\int t^{2} e^{t} \\, dt$"
   ]
  },
  {
   "cell_type": "markdown",
   "metadata": {
    "slideshow": {
     "slide_type": "slide"
    }
   },
   "source": [
    "## Formula for integration by parts (definite integrals)\n",
    "\n",
    "![Formula for integration by parts](https://github.com/umbertomig/CSSBootCamp/blob/main/img/d5.png?raw=true)\n",
    "\n",
    "Example:\n",
    "\n",
    "$$ \\int_{0}^{1} (x^{2} + 1)e^{-x} \\, dx $$"
   ]
  },
  {
   "cell_type": "markdown",
   "metadata": {
    "slideshow": {
     "slide_type": "slide"
    }
   },
   "source": [
    "## Application\n",
    "\n",
    "We can use integrals to find areas of regions that lie between the graphs of two functions.\n",
    "\n",
    "Find the region's area bounded above by $y = e^{x}$, bounded below by $y = x$, and bounded on the sides by $x = 0$ and $x = 1$.\n",
    "\n",
    "![Application](https://github.com/umbertomig/CSSBootCamp/blob/main/img/d7.png?raw=true)"
   ]
  },
  {
   "cell_type": "markdown",
   "metadata": {
    "slideshow": {
     "slide_type": "slide"
    }
   },
   "source": [
    "## Exercises\n",
    "\n",
    "**Your turn!**:\n",
    "\n",
    "1. Compute:\n",
    "   - $ \\displaystyle\\int \\dfrac{4}{x^{2}} \\, dx $\n",
    "     \n",
    "   - $ \\displaystyle\\int (x^{3} - 6x) \\, dx $\n",
    "     \n",
    "   - $ \\displaystyle\\int (2x^{3} - 6x + e^{x}) \\, dx $\n",
    "\n",
    "2. Sketch the region enclosed by the given curves and find its area $y = 12 - x^{2}$ and $y = x^{2} - 6$."
   ]
  },
  {
   "cell_type": "markdown",
   "metadata": {
    "slideshow": {
     "slide_type": "slide"
    }
   },
   "source": [
    "## Questions?"
   ]
  },
  {
   "cell_type": "markdown",
   "metadata": {
    "slideshow": {
     "slide_type": "slide"
    }
   },
   "source": [
    "## See you in the next class!"
   ]
  }
 ],
 "metadata": {
  "celltoolbar": "Slideshow",
  "kernelspec": {
   "display_name": "Python 3 (ipykernel)",
   "language": "python",
   "name": "python3"
  },
  "language_info": {
   "codemirror_mode": {
    "name": "ipython",
    "version": 3
   },
   "file_extension": ".py",
   "mimetype": "text/x-python",
   "name": "python",
   "nbconvert_exporter": "python",
   "pygments_lexer": "ipython3",
   "version": "3.9.18"
  }
 },
 "nbformat": 4,
 "nbformat_minor": 4
}
