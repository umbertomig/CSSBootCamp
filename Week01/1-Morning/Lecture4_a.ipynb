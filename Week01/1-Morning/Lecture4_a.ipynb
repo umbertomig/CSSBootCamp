{
 "cells": [
  {
   "cell_type": "markdown",
   "metadata": {
    "slideshow": {
     "slide_type": "slide"
    }
   },
   "source": [
    "# CSS 201.5 - CSS MA Bootcamp\n",
    "\n",
    "## Python for Data Analysis\n",
    "\n",
    "---"
   ]
  },
  {
   "cell_type": "markdown",
   "metadata": {
    "slideshow": {
     "slide_type": "slide"
    }
   },
   "source": [
    "# Matplotlib\n",
    "\n",
    "Matplotlib is the main package for data visualization in Python.\n",
    "\n",
    "To create a data visualization with matplotlib, we need to load the data into Python. We will work here with the datasets `uspop`, `tips` and `PErisk`."
   ]
  },
  {
   "cell_type": "code",
   "execution_count": null,
   "metadata": {
    "slideshow": {
     "slide_type": "fragment"
    }
   },
   "outputs": [],
   "source": [
    "# Importing libraries\n",
    "import pandas as pd\n",
    "import numpy as np\n",
    "import matplotlib.pyplot as plt\n",
    "import seaborn as sns\n",
    "\n",
    "# Reading datasets\n",
    "\n",
    "# US Population\n",
    "uspop = pd.read_csv('uspop.csv', parse_dates = ['year'])\n",
    "uspop = uspop.set_index('year')\n",
    "\n",
    "## Political and Economic Risk Dataset\n",
    "perisk = pd.read_csv('PErisk.csv')\n",
    "perisk = perisk.set_index('country')\n",
    "\n",
    "## Beer Production\n",
    "beerprod = pd.read_csv('beer-prod-australia.csv', parse_dates = ['Month'])\n",
    "beerprod = beerprod.set_index('Month')\n",
    "\n",
    "## Tips Dataset\n",
    "tips = pd.read_csv('tips.csv')\n",
    "tips = tips.set_index('Obs')"
   ]
  },
  {
   "cell_type": "markdown",
   "metadata": {
    "slideshow": {
     "slide_type": "slide"
    }
   },
   "source": [
    "## Plotting Data 101\n",
    "\n",
    "The best way to explore the data is to plot it. However, not all plots are suitable for the variables we want to describe. Starting with a single variable, the first question is what type of variable we are talking about?\n",
    "\n",
    "Types of variables:\n",
    "\n",
    "- `Quantitative` variables: represent measurement.\n",
    "    \n",
    "    + `Discrete`: number of children, age in years, etc.\n",
    "    \n",
    "    + `Continuous`: income, height, GDP per capita, etc.\n",
    "\n",
    "- `Categorical` variables: represent discrete variation\n",
    "\n",
    "    + `Binary`: voted for Trump, smokes or not, etc.\n",
    "    \n",
    "    + `Nominal`: species names, a candidate supported in the primaries, etc.\n",
    "    \n",
    "    + `Ordinal`: schooling, grade, risk, etc.\n",
    "\n",
    "For each variable type, there are specific descriptive stats and plots. Below, see an example of the difference between using the `right` and `wrong` descriptive stats for continuous and binary variables."
   ]
  },
  {
   "cell_type": "markdown",
   "metadata": {
    "slideshow": {
     "slide_type": "slide"
    }
   },
   "source": [
    "## Bivariate Plots\n",
    "\n",
    "Univariate plots are excellent. But in reality, most of the exciting questions in science come from combinations of multiple variables (e.g., cause and effect, correlations, relationships, etc). \n",
    "\n",
    "For two variables' plots there are three combinations:\n",
    "\n",
    "- **discrete x discrete**: mosaic plot\n",
    "\n",
    "- **discrete x continuous**: several useful types\n",
    "\n",
    "- **continuous x continuous**: scatterplots"
   ]
  },
  {
   "cell_type": "markdown",
   "metadata": {
    "slideshow": {
     "slide_type": "slide"
    }
   },
   "source": [
    "## Bivariate Plots\n",
    "\n",
    "### Discrete x Discrete Variables: Mosaicplot\n",
    "\n",
    "The mosaic plot gives an idea of how the ratio of one variable changes when we change another variable. For instance, one empirical question that we can ask about the `perisk` dataset is:\n",
    "\n",
    "**Do countries with independent courts have less corruption than countries without independent courts?**\n",
    "\n",
    "The code to test this idea takes two steps. First, we need to prep the data. Then, we plot the data using the `kind = 'bar'` in the `catplot` function.\n",
    "\n",
    "We need to create a table with cumulative values for the two variables we want to study to prep the data. Here is an example of how to do that:\n",
    "\n",
    "```\n",
    "tab = pd.crosstab(df.v1, df.v2, normalize='index') # 1: Crosstab\n",
    "tab = tab.cumsum(axis = 1).\\     # 2: Cummulative sum\n",
    "      stack().\\                  # 3: Stack the results\n",
    "      reset_index(name = 'dist') # 4: Reset the indexes\n",
    "tab\n",
    "```"
   ]
  },
  {
   "cell_type": "markdown",
   "metadata": {
    "slideshow": {
     "slide_type": "slide"
    }
   },
   "source": [
    "## Bivariate Plots\n",
    "\n",
    "### Discrete x Discrete Variables: Mosaicplot\n",
    "\n",
    "Then, we need to plot the results using `catplot`:\n",
    "\n",
    "```\n",
    "sns.catplot(data = tab,\n",
    "            x = 'v1', # More variation here\n",
    "            y = 'dist', # Proportions\n",
    "            hue = 'v2', # Less variation here\n",
    "            # Comment hue_order if not displaying well\n",
    "            hue_order = tab.v2.unique()[::-1], \n",
    "            dodge = False,\n",
    "            kind = 'bar')\n",
    "plt.show()\n",
    "```\n",
    "\n",
    "*Full disclosure*: A function exists that builds mosaic plots in one line of code. However, I find the results very ugly. You can Google `mosaic plot in python` and check that yourself."
   ]
  },
  {
   "cell_type": "code",
   "execution_count": null,
   "metadata": {
    "slideshow": {
     "slide_type": "slide"
    }
   },
   "outputs": [],
   "source": [
    "## Prepping the data\n",
    "tab = pd.crosstab(perisk.prscorr2, perisk.courts, normalize = 'index')\n",
    "tab = tab.cumsum(axis = 1).\\\n",
    "      stack().\\\n",
    "      reset_index(name = 'dist')\n",
    "tab"
   ]
  },
  {
   "cell_type": "code",
   "execution_count": null,
   "metadata": {
    "slideshow": {
     "slide_type": "slide"
    }
   },
   "outputs": [],
   "source": [
    "## Doing the plot\n",
    "sns.catplot(data = tab,\n",
    "            x = 'prscorr2', # More variation here\n",
    "            y = 'dist',     # Proportions\n",
    "            hue = 'courts', # Less variation here\n",
    "            # Comment here if not displaying well\n",
    "            hue_order = tab.courts.unique()[::-1], \n",
    "            dodge = False,\n",
    "            kind = 'bar',\n",
    "            legend_out = True)\n",
    "plt.show()"
   ]
  },
  {
   "cell_type": "markdown",
   "metadata": {
    "slideshow": {
     "slide_type": "slide"
    }
   },
   "source": [
    "**Exercise**: Do the number of smokers (variable `smoker`) vary by the weekday (`day`)?"
   ]
  },
  {
   "cell_type": "code",
   "execution_count": null,
   "metadata": {
    "slideshow": {
     "slide_type": "fragment"
    }
   },
   "outputs": [],
   "source": [
    "## Your answers here\n",
    "tips.head()"
   ]
  },
  {
   "cell_type": "markdown",
   "metadata": {
    "slideshow": {
     "slide_type": "slide"
    }
   },
   "source": [
    "### Discrete x Continuous Variables: Boxplots, Swarmplots, Violinplots\n",
    "\n",
    "Suppose we want to test whether the data distribution varies based on a categorical variable. For example:\n",
    "\n",
    "**Do you think that having an independent judiciary affects the GDP per capita of a country?**\n",
    "\n",
    "We can check if this hypothesis makes sense by looking into the distribution of GDP per capita and segmenting it by the type of judicial institution.\n",
    "\n",
    "The syntax for building these plots is almost the same as making a single boxplot. The difference is that you add the categorical variable to one of the axes:\n",
    "\n",
    "```\n",
    "sns.catplot(\n",
    "    data = data_set, \n",
    "    x = 'categorical_variable',\n",
    "    y = 'continuous_variable',\n",
    "    kind = 'box') # Or 'violin', 'swarm', 'boxen', 'bar'..\n",
    "```"
   ]
  },
  {
   "cell_type": "code",
   "execution_count": null,
   "metadata": {
    "slideshow": {
     "slide_type": "slide"
    }
   },
   "outputs": [],
   "source": [
    "# My code here\n",
    "sns.catplot(x = 'courts', \n",
    "            y = 'gdpw2', \n",
    "            data = perisk, \n",
    "            kind = 'box')\n",
    "plt.show()"
   ]
  },
  {
   "cell_type": "markdown",
   "metadata": {
    "slideshow": {
     "slide_type": "slide"
    }
   },
   "source": [
    "**Exercise**: Are the tips from smokers higher than tips from non-smokers? (the idea is that smokers would compensate non-smokers for the externality caused) Check that in the `tips` dataset."
   ]
  },
  {
   "cell_type": "code",
   "execution_count": null,
   "metadata": {
    "slideshow": {
     "slide_type": "fragment"
    }
   },
   "outputs": [],
   "source": [
    "## Your answers here"
   ]
  },
  {
   "cell_type": "markdown",
   "metadata": {
    "slideshow": {
     "slide_type": "slide"
    }
   },
   "source": [
    "### Continuous x Continuous Variables: Scatterplots and Regplots\n",
    "\n",
    "To plot two continuous variables, one against the other, we can use two functions. First, we can use the `relplot` function if we want to explore the relationship without fitting any trend line. The syntax is the following:\n",
    "\n",
    "```\n",
    "sns.relplot(data = data_set,\n",
    "            x = 'independent_axis_continuous_variable',\n",
    "            y = 'dependent_axis_continuous_variable',\n",
    "            hue = 'optional_categorical_to_color',\n",
    "            kind = 'scatter')\n",
    "```"
   ]
  },
  {
   "cell_type": "code",
   "execution_count": null,
   "metadata": {
    "slideshow": {
     "slide_type": "fragment"
    }
   },
   "outputs": [],
   "source": [
    "# My code here\n",
    "sns.relplot(data = perisk,\n",
    "            x = 'barb2',\n",
    "            y = 'gdpw2',\n",
    "            hue = 'courts',\n",
    "            kind = 'scatter')\n",
    "plt.show()"
   ]
  },
  {
   "cell_type": "code",
   "execution_count": null,
   "metadata": {},
   "outputs": [],
   "source": [
    "# Or maybe you want to see it in two different plots\n",
    "sns.relplot(data = perisk,\n",
    "            x = 'barb2',\n",
    "            y = 'gdpw2',\n",
    "            col = 'courts',\n",
    "            kind = 'scatter')\n",
    "plt.show()"
   ]
  },
  {
   "cell_type": "markdown",
   "metadata": {
    "slideshow": {
     "slide_type": "slide"
    }
   },
   "source": [
    "## Continuos x Continuous\n",
    "\n",
    "And an excellent version of it, with distribution plots on the top and the left, can be built using the `jointplot` function:\n",
    "\n",
    "```\n",
    "sns.jointplot(data = data_set,\n",
    "              x = 'independent_axis_continuous_variable',\n",
    "              y = 'dependent_axis_continuous_variable',\n",
    "              hue = 'optional_categorical_to_color',\n",
    "              kind = 'scatter') # Or 'scatter', 'kde', 'hist', 'hex', 'reg', 'resid'\n",
    "```\n"
   ]
  },
  {
   "cell_type": "code",
   "execution_count": null,
   "metadata": {
    "slideshow": {
     "slide_type": "slide"
    }
   },
   "outputs": [],
   "source": [
    "sns.jointplot(data = perisk,\n",
    "              x = \"barb2\", \n",
    "              y = \"gdpw2\",\n",
    "             hue = 'courts')\n",
    "plt.show()"
   ]
  },
  {
   "cell_type": "markdown",
   "metadata": {
    "slideshow": {
     "slide_type": "slide"
    }
   },
   "source": [
    "## Continuous x Continuous\n",
    "\n",
    "If you want to add a trend line, it is better to use `lmplot` (instead of 'reg' in the plot above). The syntax is the following:\n",
    "\n",
    "```\n",
    "sns.lmplot(data = data_set,\n",
    "    x = \"total_bill\", \n",
    "    y = \"tip\", \n",
    "    hue = \"smoker\",\n",
    "    logistic = ..False or True.., # Logistic fit for discrete y\n",
    "    order = ..polynomial order.., # Polynomial degree\n",
    "    lowess = ..False or True..,   # Lowess fit\n",
    "    ci = ..None..)                # Remove conf. int.\n",
    "```"
   ]
  },
  {
   "cell_type": "code",
   "execution_count": null,
   "metadata": {
    "slideshow": {
     "slide_type": "slide"
    }
   },
   "outputs": [],
   "source": [
    "g = sns.lmplot(data = perisk,\n",
    "           x = \"barb2\", \n",
    "           y = \"gdpw2\", \n",
    "           hue = \"courts\")\n",
    "g.despine(left = True, bottom = True)\n",
    "plt.xlim(-7, 3)\n",
    "plt.show()"
   ]
  },
  {
   "cell_type": "markdown",
   "metadata": {
    "slideshow": {
     "slide_type": "slide"
    }
   },
   "source": [
    "**Exercise**: Are the tips related with total bill in the `tips` dataset?"
   ]
  },
  {
   "cell_type": "code",
   "execution_count": null,
   "metadata": {
    "slideshow": {
     "slide_type": "fragment"
    }
   },
   "outputs": [],
   "source": [
    "## Your answers here"
   ]
  },
  {
   "cell_type": "markdown",
   "metadata": {
    "slideshow": {
     "slide_type": "slide"
    }
   },
   "source": [
    "# Great job!!!"
   ]
  },
  {
   "cell_type": "markdown",
   "metadata": {
    "slideshow": {
     "slide_type": "slide"
    }
   },
   "source": [
    "## Extras\n",
    "\n",
    "Excellent job learning `seaborn`! It is an easy-to-use yet powerful package to generate lovely plots.\n",
    "\n",
    "Next, you should take a look at the following packages to keep developing your skills:\n",
    "\n",
    "- [`plotnine`](https://plotnine.readthedocs.io/en/stable/index.html#): Implements the ggplot *grammar of graphs* in python\n",
    "\n",
    "- [`cartopy`](https://github.com/SciTools/cartopy): Package to make maps in python.\n",
    "\n",
    "- [`plotly`](https://plotly.com): Builds interactive graphs in python (and other languages). Check also the [`dash`](https://dash.plotly.com/introduction) for plotly in python."
   ]
  },
  {
   "cell_type": "code",
   "execution_count": null,
   "metadata": {
    "slideshow": {
     "slide_type": "slide"
    }
   },
   "outputs": [],
   "source": [
    "## Extra Datasets\n",
    "\n",
    "## Political Information Dataset\n",
    "# ANES 2000 Political Information based on interviews\n",
    "# polInf          : Political Information\n",
    "# collegeDegree   : College Degree\n",
    "# female          : Female\n",
    "# age             : Age in years\n",
    "# homeOwn         : Own house\n",
    "# others...\n",
    "polinf = pd.read_csv('pinf.csv')\n",
    "pinf_order = ['Very Low', 'Fairly Low', 'Average', 'Fairly High', 'Very High']\n",
    "polinf['polInf'] = pd.Categorical(polinf.polInf, \n",
    "                                  ordered=True, \n",
    "                                  categories=pinf_order)\n",
    "print(polinf.head())\n",
    "\n",
    "## US Crime data in the 1970's\n",
    "# Data on violent crime in the US\n",
    "# Muder: number of murders in the state\n",
    "# Assault: number of assaults in the state\n",
    "# others...\n",
    "usarrests = pd.read_csv('usarrests.csv')\n",
    "print(usarrests.head())"
   ]
  },
  {
   "cell_type": "markdown",
   "metadata": {
    "slideshow": {
     "slide_type": "slide"
    }
   },
   "source": [
    "### Exercises\n",
    "\n",
    "1. (Univariate) In the `polinf` dataset, make a count plot of the variable `polInf`. Imagine you want to use this for a talk, so adjust the context. Change the x-axis label and title to appropriate descriptions of the data. (Hint: to rotate the axis tick labels, use `plt.xticks(rotation=number_degree_of_your_choice)`)\n",
    "\n",
    "2. (Univariate) In the `polinf` dataset, make a histogram of the variable `age`.\n",
    "\n",
    "3. (Bivariate) Do you think political information varies with a college degree? Check that using the `polinf` dataset!\n",
    "\n",
    "4. (Bivariate) Do you think political information varies with age? Check that using the `polinf` dataset!\n",
    "\n",
    "5. (Bivariate) Do you think there is a correlation between `Murder` and `Assault`? Check that using the `usarrests` dataset!\n",
    "\n",
    "6. (Challenge: Multivariate) There are four continuous indicators in the `usarrests` dataset: `Murder`, `Assault`, `UrbanPop`, and `Rape`. Do you think you can build a scatterplot matrix? The documentation is in [here](https://seaborn.pydata.org/examples/scatterplot_matrix.html)."
   ]
  },
  {
   "cell_type": "code",
   "execution_count": null,
   "metadata": {},
   "outputs": [],
   "source": [
    "# Your answers here"
   ]
  },
  {
   "cell_type": "markdown",
   "metadata": {
    "slideshow": {
     "slide_type": "slide"
    }
   },
   "source": [
    "# Plot.ly"
   ]
  },
  {
   "cell_type": "markdown",
   "metadata": {
    "slideshow": {
     "slide_type": "slide"
    }
   },
   "source": [
    "## Plot.ly\n",
    "\n",
    "- Plotly is an interactive graph library.\n",
    "\n",
    "- It was built for the web and is implemented in JavaScript.\n",
    "\n",
    "- But there are great wrappers for R and Python (not sure if also for Julia...), so we do not need to learn JavaScript."
   ]
  },
  {
   "cell_type": "markdown",
   "metadata": {
    "slideshow": {
     "slide_type": "slide"
    }
   },
   "source": [
    "## Plot.ly\n",
    "\n",
    "The advantages of Plotly are significant:\n",
    "\n",
    "1. Fast\n",
    "\n",
    "2. (relatively) Easy\n",
    "\n",
    "3. Interactive\n",
    "\n",
    "4. Customizable: If you are patient, you can find a way to plot almost whatever you want."
   ]
  },
  {
   "cell_type": "markdown",
   "metadata": {
    "slideshow": {
     "slide_type": "slide"
    }
   },
   "source": [
    "## Plot.ly\n",
    "\n",
    "Ways to find how to build your plot quickly:\n",
    "\n",
    "- Plotly has one of the best free software documentation I have seen.\n",
    "    - Here it is: https://plotly.com/python/\n",
    "\n",
    "- Unfortunately, no good books on it.\n",
    "    + Makes sense: Plotly is very customizable. I am sure that even people who know it well have yet to learn how to work with most things it does.\n",
    "\n",
    "- I am following it closely, but adapting for Social Sciences Problems.\n",
    "\n",
    "- Never tried to ask ChatGPT to do plotly. If any of you do, please let me know about the quality of the results."
   ]
  },
  {
   "cell_type": "markdown",
   "metadata": {
    "slideshow": {
     "slide_type": "slide"
    },
    "tags": []
   },
   "source": [
    "## Plot.ly\n",
    "\n",
    "Let us install it first.\n",
    "\n",
    "Go to the terminal and do the following:\n",
    "\n",
    "```\n",
    "pip install plotly\n",
    "```\n",
    "\n",
    "And by the way, this is how to install things."
   ]
  },
  {
   "cell_type": "markdown",
   "metadata": {},
   "source": [
    "**Exercise:** Go to your terminal and install plotly."
   ]
  },
  {
   "cell_type": "markdown",
   "metadata": {
    "slideshow": {
     "slide_type": "slide"
    }
   },
   "source": [
    "## Plot.ly\n",
    "\n",
    "Plotly has two components:\n",
    "\n",
    "1. **Data**: the data itself\n",
    "\n",
    "2. **Layout**: the details of your plot\n",
    "\n",
    "And if you happen to do animated plots (yes, we are going to do some of those!), then:\n",
    "\n",
    "3. **Frames**: The step-by-step animation for the plot.\n",
    "\n",
    "The barplot above has only the first two."
   ]
  },
  {
   "cell_type": "markdown",
   "metadata": {
    "slideshow": {
     "slide_type": "slide"
    }
   },
   "source": [
    "## Plot.ly\n",
    "\n",
    "Let's load the library:"
   ]
  },
  {
   "cell_type": "code",
   "execution_count": null,
   "metadata": {
    "slideshow": {
     "slide_type": "fragment"
    }
   },
   "outputs": [],
   "source": [
    "## Importing libraries\n",
    "import plotly.express as px # Plotly express!\n",
    "import plotly.graph_objects as go # Plotly graph objects!\n",
    "from plotly.subplots import make_subplots"
   ]
  },
  {
   "cell_type": "markdown",
   "metadata": {
    "slideshow": {
     "slide_type": "slide"
    }
   },
   "source": [
    "## Plot.ly\n",
    "\n",
    "There are two families of plots in general:\n",
    "\n",
    "1. Plots that we do for one single variable\n",
    "\n",
    "2. Plots that we do for interactions between variables\n",
    "\n",
    "A `how to plot` class has to start with the first and develop the second."
   ]
  },
  {
   "cell_type": "markdown",
   "metadata": {
    "slideshow": {
     "slide_type": "slide"
    }
   },
   "source": [
    "## Plot.ly\n",
    "\n",
    "### Single variable plots\n",
    "\n",
    "- **Why?** We want to learn about our dataset. Very exploratory.\n",
    "\n",
    "- **What** to know before starting? The type of the variable determines the type of plot.\n",
    "    1. Quantitative Continuous (e.g., `income`, `height`, `debt`, `gdp`): Histogram, Boxplots, Violinplots, etc\n",
    "    2. Quantitative Discrete (few categories) and qualitative: Barplots, Piecharts\n",
    "    \n",
    "- **How?** The plot.ly commands!"
   ]
  },
  {
   "cell_type": "markdown",
   "metadata": {
    "slideshow": {
     "slide_type": "slide"
    }
   },
   "source": [
    "## Plot.ly\n",
    "\n",
    "### Single variable plots -- Histograms\n",
    "\n",
    "- Great for visualizing quantitative data:\n",
    "\n",
    "- Syntax (Plotly express): `px.histogram(data_frame = ..., x = ..., nbins = ...)`"
   ]
  },
  {
   "cell_type": "code",
   "execution_count": null,
   "metadata": {
    "slideshow": {
     "slide_type": "fragment"
    }
   },
   "outputs": [],
   "source": [
    "## Histogram\n",
    "g = px.histogram(data_frame = perisk, x = 'gdpw2', nbins = 10)\n",
    "g.show()"
   ]
  },
  {
   "cell_type": "markdown",
   "metadata": {
    "slideshow": {
     "slide_type": "slide"
    }
   },
   "source": [
    "**Exercise:** Build a histogram of total bills in the tips dataset."
   ]
  },
  {
   "cell_type": "code",
   "execution_count": null,
   "metadata": {},
   "outputs": [],
   "source": [
    "## Your answers here"
   ]
  },
  {
   "cell_type": "markdown",
   "metadata": {
    "slideshow": {
     "slide_type": "slide"
    }
   },
   "source": [
    "## Plot.ly\n",
    "\n",
    "### Single variable plots -- Histograms\n",
    "\n",
    "Customizations:\n",
    "\n",
    "1. Orientation: 'h' or 'v'\n",
    "2. Marginal: 'violin', 'box', or 'rug'\n",
    "3. Adding title: `g.update_layout({'title':{'text':'My title'}})`\n",
    "4. Update x-axis label: `g.update_xaxes(title_text='X Label')`\n",
    "5. Update y-axis label: `g.update_yaxes(title_text='Y Label')`"
   ]
  },
  {
   "cell_type": "code",
   "execution_count": null,
   "metadata": {
    "slideshow": {
     "slide_type": "fragment"
    }
   },
   "outputs": [],
   "source": [
    "## Histogram (more at https://plotly.com/python/histograms/)\n",
    "g = px.histogram(\n",
    "    data_frame = perisk,\n",
    "    x = 'gdpw2',\n",
    "    nbins = 10,\n",
    "    marginal = 'rug')\n",
    "g.update_layout({'title':{'text':'Log of GDP per capita'}})\n",
    "g.show()"
   ]
  },
  {
   "cell_type": "markdown",
   "metadata": {
    "slideshow": {
     "slide_type": "slide"
    }
   },
   "source": [
    "**Exercise**: Build a histogram of `tip` in the `tips` dataset."
   ]
  },
  {
   "cell_type": "code",
   "execution_count": null,
   "metadata": {
    "slideshow": {
     "slide_type": "fragment"
    }
   },
   "outputs": [],
   "source": [
    "## Your answers here"
   ]
  },
  {
   "cell_type": "markdown",
   "metadata": {
    "slideshow": {
     "slide_type": "slide"
    }
   },
   "source": [
    "## Plot.ly\n",
    "\n",
    "### Single variable plots -- Barplots\n",
    "\n",
    "- Barplots are good for displaying a count of a discrete variable.\n",
    "\n",
    "- Syntax (Plotly express): `px.bar(data_frame = ..., x = ..., nbins = ...)`\n",
    "    + Need to create a table!"
   ]
  },
  {
   "cell_type": "code",
   "execution_count": null,
   "metadata": {
    "slideshow": {
     "slide_type": "fragment"
    }
   },
   "outputs": [],
   "source": [
    "tab = perisk.groupby([\"prscorr2\"]).size().reset_index(name = \"counts\")\n",
    "\n",
    "g = px.bar(\n",
    "    data_frame = tab,\n",
    "    x = 'prscorr2',\n",
    "    y = 'counts',\n",
    "    title = \"Corruption Barplot\")\n",
    "\n",
    "g.show()"
   ]
  },
  {
   "cell_type": "markdown",
   "metadata": {
    "slideshow": {
     "slide_type": "slide"
    }
   },
   "source": [
    "**Exercise**: Build a barplot of the week days in the `tips` dataset."
   ]
  },
  {
   "cell_type": "code",
   "execution_count": null,
   "metadata": {
    "slideshow": {
     "slide_type": "fragment"
    }
   },
   "outputs": [],
   "source": [
    "## Your answers here"
   ]
  },
  {
   "cell_type": "markdown",
   "metadata": {
    "slideshow": {
     "slide_type": "slide"
    }
   },
   "source": [
    "## Plot.ly for multiple variables"
   ]
  },
  {
   "cell_type": "markdown",
   "metadata": {
    "slideshow": {
     "slide_type": "slide"
    }
   },
   "source": [
    "## Plot.ly\n",
    "\n",
    "- When we have more than two variables, there are several plots we can use to explore the relationships in the data.\n",
    "\n",
    "- First, let us load the packages we will be using in here:"
   ]
  },
  {
   "cell_type": "markdown",
   "metadata": {
    "slideshow": {
     "slide_type": "slide"
    }
   },
   "source": [
    "## Plot.ly\n",
    "\n",
    "Suppose a researcher wants to investigate whether females and males implement different policies. \n",
    "\n",
    "She has data on Indian villages, where they reserve seats randomly to females.\n",
    "\n",
    "Let us look at the data:"
   ]
  },
  {
   "cell_type": "code",
   "execution_count": null,
   "metadata": {
    "slideshow": {
     "slide_type": "fragment"
    }
   },
   "outputs": [],
   "source": [
    "india = pd.read_csv('india.csv')\n",
    "india.head(2)"
   ]
  },
  {
   "cell_type": "markdown",
   "metadata": {
    "slideshow": {
     "slide_type": "slide"
    }
   },
   "source": [
    "## Plot.ly\n",
    "\n",
    "Let us first explore each of the variables. For `female`:"
   ]
  },
  {
   "cell_type": "code",
   "execution_count": null,
   "metadata": {
    "slideshow": {
     "slide_type": "fragment"
    }
   },
   "outputs": [],
   "source": [
    "# Descriptive of female\n",
    "fig = px.bar(india.female.value_counts())\n",
    "fig.show()"
   ]
  },
  {
   "cell_type": "markdown",
   "metadata": {
    "slideshow": {
     "slide_type": "slide"
    },
    "tags": []
   },
   "source": [
    "## Plot.ly\n",
    "\n",
    "For `water`:"
   ]
  },
  {
   "cell_type": "code",
   "execution_count": null,
   "metadata": {
    "slideshow": {
     "slide_type": "fragment"
    }
   },
   "outputs": [],
   "source": [
    "# Descriptive of water\n",
    "fig = px.histogram(india, x = 'water')\n",
    "fig.show()"
   ]
  },
  {
   "cell_type": "markdown",
   "metadata": {
    "slideshow": {
     "slide_type": "slide"
    }
   },
   "source": [
    "## Plot.ly\n",
    "\n",
    "For `irrigation`:"
   ]
  },
  {
   "cell_type": "code",
   "execution_count": null,
   "metadata": {
    "slideshow": {
     "slide_type": "fragment"
    }
   },
   "outputs": [],
   "source": [
    "# Descriptive of irrigation\n",
    "fig = px.histogram(india, x = 'irrigation')\n",
    "fig.show()"
   ]
  },
  {
   "cell_type": "markdown",
   "metadata": {
    "slideshow": {
     "slide_type": "slide"
    }
   },
   "source": [
    "## Plot.ly\n",
    "\n",
    "The hypothesis here is that women care more about driking water while men care more about irrigation. Is this true?"
   ]
  },
  {
   "cell_type": "code",
   "execution_count": null,
   "metadata": {
    "slideshow": {
     "slide_type": "fragment"
    }
   },
   "outputs": [],
   "source": [
    "print(india.head())\n",
    "\n",
    "# Grouped bar: stacks the variation in the y-variables.\n",
    "fig = px.bar(india, \n",
    "             x = \"female\", \n",
    "             y = [\"irrigation\", 'water'], \n",
    "             hover_data = ['village'],\n",
    "             barmode = \"group\") # Exercise: change this to 'stack'\n",
    "fig.show()"
   ]
  },
  {
   "cell_type": "markdown",
   "metadata": {
    "slideshow": {
     "slide_type": "slide"
    }
   },
   "source": [
    "## Plot.ly\n",
    "\n",
    "A better way to visualize it is to use plots that are aligned with the underlying data variation.\n",
    "\n",
    "In this case, `female` is qualitative and `irrigation` / `water` are quantitative.\n",
    "\n",
    "A plot for Qualitative x Quantitative is the `boxplot`:"
   ]
  },
  {
   "cell_type": "code",
   "execution_count": null,
   "metadata": {
    "slideshow": {
     "slide_type": "fragment"
    }
   },
   "outputs": [],
   "source": [
    "# Well, we tried... Exercise: try for water\n",
    "fig = px.box(india, x = \"female\", y = \"irrigation\", points=\"all\")\n",
    "fig.show()"
   ]
  },
  {
   "cell_type": "markdown",
   "metadata": {
    "slideshow": {
     "slide_type": "slide"
    }
   },
   "source": [
    "**Exercise:** Check if countries with high levels of corruption have lower GDP per capita.\n",
    "\n",
    "1. Create a variable for high level of corruption\n",
    "\n",
    "2. Create a variable for GDP per capita (not Log GDPpc).\n",
    "\n",
    "3. Do the plot."
   ]
  },
  {
   "cell_type": "code",
   "execution_count": null,
   "metadata": {},
   "outputs": [],
   "source": [
    "## Your answers here"
   ]
  },
  {
   "cell_type": "markdown",
   "metadata": {
    "slideshow": {
     "slide_type": "slide"
    }
   },
   "source": [
    "## Plot.ly\n",
    "\n",
    "And if you want to test the differences-in-means estimator, we can build from scratch:\n",
    "\n",
    "```\n",
    "fig = go.Figure()\n",
    "\n",
    "fig.add_trace(go.Bar(\n",
    "    name = 'Male',\n",
    "    x = ['Irrigation', 'Water'], \n",
    "    y = [3.39, 14.74],\n",
    "    error_y = dict(type = 'data', array = [1.96 * 0.73, 1.96 * 1.3])\n",
    "))\n",
    "\n",
    "fig.add_trace(go.Bar(\n",
    "    name = 'Female',\n",
    "    x = ['Irrigation', 'Water'], \n",
    "    y = [3.02, 23.99],\n",
    "    error_y = dict(type = 'data', array = [1.96 * 0.64, 1.96 * 4.93])\n",
    "))\n",
    "\n",
    "fig.update_layout(barmode = 'group')\n",
    "\n",
    "fig.show()\n",
    "```\n",
    "\n",
    "With:\n",
    "```\n",
    "dat[dat.female == 1].mean()\n",
    "dat[dat.female == 1].std()/np.sqrt(len(dat[dat.female == 1]))\n",
    "```"
   ]
  },
  {
   "cell_type": "code",
   "execution_count": null,
   "metadata": {
    "slideshow": {
     "slide_type": "slide"
    }
   },
   "outputs": [],
   "source": [
    "# After getting it done:\n",
    "fig = go.Figure()\n",
    "\n",
    "fig.add_trace(go.Bar(\n",
    "    name = 'Male',\n",
    "    x = ['Irrigation', 'Water'], \n",
    "    y = [3.39, 14.74],\n",
    "    error_y = dict(type = 'data', array = [0.73, 1.3])\n",
    "))\n",
    "\n",
    "fig.add_trace(go.Bar(\n",
    "    name = 'Female',\n",
    "    x = ['Irrigation', 'Water'], \n",
    "    y = [3.02, 23.99],\n",
    "    error_y = dict(type = 'data', array = [0.64, 4.93])\n",
    "))\n",
    "\n",
    "fig.update_layout(barmode = 'group')\n",
    "\n",
    "fig.show()"
   ]
  },
  {
   "cell_type": "markdown",
   "metadata": {
    "slideshow": {
     "slide_type": "slide"
    }
   },
   "source": [
    "## Plot.ly\n",
    "\n",
    "Now, suppose that we want to study education expenditure. How does income affect it? Let's see:"
   ]
  },
  {
   "cell_type": "code",
   "execution_count": null,
   "metadata": {
    "slideshow": {
     "slide_type": "fragment"
    }
   },
   "outputs": [],
   "source": [
    "educ = pd.read_csv('educexp.csv')\n",
    "educ.head()"
   ]
  },
  {
   "cell_type": "markdown",
   "metadata": {
    "slideshow": {
     "slide_type": "slide"
    }
   },
   "source": [
    "## Plot.ly\n",
    "\n",
    "Both variables are quantitative. A plot that is especially good for the case is the scatterplot.\n",
    "\n",
    "Remember: `scatterplot` is good for Quantitative x Quantitative relations."
   ]
  },
  {
   "cell_type": "code",
   "execution_count": null,
   "metadata": {
    "slideshow": {
     "slide_type": "fragment"
    }
   },
   "outputs": [],
   "source": [
    "# Education x income\n",
    "fig = px.scatter(\n",
    "    data_frame = educ,\n",
    "    x = \"income\",\n",
    "    y = \"education\",\n",
    "    title = \"My Education x Income data (from the 70s!)\",\n",
    "    hover_data = ['states']\n",
    ")\n",
    "fig.show()"
   ]
  },
  {
   "cell_type": "markdown",
   "metadata": {
    "slideshow": {
     "slide_type": "slide"
    }
   },
   "source": [
    "**Exercise:** Create a plot of Informal Markets x GDP per capita. Make the user able to rover the mouse over the data points and see the names of the countries."
   ]
  },
  {
   "cell_type": "code",
   "execution_count": null,
   "metadata": {},
   "outputs": [],
   "source": [
    "## Your answers here"
   ]
  },
  {
   "cell_type": "markdown",
   "metadata": {
    "slideshow": {
     "slide_type": "slide"
    }
   },
   "source": [
    "## Plot.ly\n",
    "\n",
    "We can add `histogram`s at the side (or `rug`s, `violin`s, `box`plots). For other marginal plots see [here](https://plotly.com/python/marginal-plots/)."
   ]
  },
  {
   "cell_type": "code",
   "execution_count": null,
   "metadata": {
    "slideshow": {
     "slide_type": "fragment"
    }
   },
   "outputs": [],
   "source": [
    "# Education x income\n",
    "fig = px.scatter(\n",
    "    data_frame = educ,\n",
    "    x = \"income\",\n",
    "    y = \"education\",\n",
    "    title = \"My Education x Income data (from the 70s!)\",\n",
    "    hover_data = ['states'],\n",
    "    marginal_x = 'histogram',\n",
    "    marginal_y = 'histogram'\n",
    ")\n",
    "fig.show()"
   ]
  },
  {
   "cell_type": "markdown",
   "metadata": {
    "slideshow": {
     "slide_type": "slide"
    }
   },
   "source": [
    "## Plot.ly\n",
    "\n",
    "To be honest, these grids annoy me a bit. You can change template. Options in [here](https://plotly.com/python/templates/), but I like `simple_white` better.\n",
    "\n",
    "If you are patient enough, you can (and should, if you do lot's of presentations for your startup or job) create your own."
   ]
  },
  {
   "cell_type": "code",
   "execution_count": null,
   "metadata": {
    "slideshow": {
     "slide_type": "fragment"
    }
   },
   "outputs": [],
   "source": [
    "# Education x income\n",
    "fig = px.scatter(\n",
    "    data_frame = educ,\n",
    "    x = \"income\",\n",
    "    y = \"education\",\n",
    "    title = \"My Education x Income data (from the 70s!)\",\n",
    "    hover_data = ['states'],\n",
    "    marginal_x = 'histogram',\n",
    "    marginal_y = 'histogram',\n",
    "    template = 'simple_white'\n",
    ")\n",
    "fig.show()"
   ]
  },
  {
   "cell_type": "markdown",
   "metadata": {
    "slideshow": {
     "slide_type": "slide"
    }
   },
   "source": [
    "## Plot.ly\n",
    "\n",
    "And add a trendline (more [here](https://plotly.com/python/linear-fits/)). Options: `ols`, `lowess`, `rolling` (for moving-averages), `expanding` (for expanding means, medians, maxs...)."
   ]
  },
  {
   "cell_type": "code",
   "execution_count": null,
   "metadata": {
    "slideshow": {
     "slide_type": "fragment"
    }
   },
   "outputs": [],
   "source": [
    "# Education x income\n",
    "fig = px.scatter(\n",
    "    data_frame = educ,\n",
    "    x = \"income\",\n",
    "    y = \"education\",\n",
    "    title = \"My Education x Income data (from the 70s!)\",\n",
    "    hover_data = ['states'],\n",
    "    marginal_x = 'histogram',\n",
    "    marginal_y = 'histogram',\n",
    "    template = 'simple_white',\n",
    "    trendline = 'ols'\n",
    ")\n",
    "fig.show()"
   ]
  },
  {
   "cell_type": "markdown",
   "metadata": {
    "slideshow": {
     "slide_type": "slide"
    }
   },
   "source": [
    "## Plot.ly\n",
    "\n",
    "You can even `log` the axes to make farther-away data look closer:"
   ]
  },
  {
   "cell_type": "code",
   "execution_count": null,
   "metadata": {
    "slideshow": {
     "slide_type": "fragment"
    }
   },
   "outputs": [],
   "source": [
    "# Education x income\n",
    "fig = px.scatter(\n",
    "    data_frame = educ,\n",
    "    x = \"income\",\n",
    "    y = \"education\",\n",
    "    title = \"My Education x Income data (from the 70s!)\",\n",
    "    hover_data = ['states'],\n",
    "    template = 'simple_white',\n",
    "    trendline = 'ols',\n",
    "    log_x = True, log_y = True\n",
    ")\n",
    "fig.show()"
   ]
  },
  {
   "cell_type": "markdown",
   "metadata": {
    "slideshow": {
     "slide_type": "slide"
    }
   },
   "source": [
    "## Plot.ly\n",
    "\n",
    "But let's say you argue that there are good reasons to also check the urban population in places. \n",
    "\n",
    "We can add that there:"
   ]
  },
  {
   "cell_type": "code",
   "execution_count": null,
   "metadata": {
    "slideshow": {
     "slide_type": "fragment"
    }
   },
   "outputs": [],
   "source": [
    "# Education x income + urban\n",
    "fig = px.scatter(\n",
    "    data_frame = educ,\n",
    "    x = \"income\",\n",
    "    y = \"education\",\n",
    "    title = \"My Education x Income data (from the 70s!)\",\n",
    "    size = 'urban',\n",
    "    template = 'simple_white',\n",
    "    hover_data = ['states']\n",
    ")\n",
    "fig.show()"
   ]
  },
  {
   "cell_type": "markdown",
   "metadata": {
    "slideshow": {
     "slide_type": "slide"
    }
   },
   "source": [
    "## Plot.ly\n",
    "\n",
    "Or you may change the color of the dots, if you prefer:"
   ]
  },
  {
   "cell_type": "code",
   "execution_count": null,
   "metadata": {
    "slideshow": {
     "slide_type": "fragment"
    }
   },
   "outputs": [],
   "source": [
    "# Education x income + urban\n",
    "fig = px.scatter(\n",
    "    data_frame = educ,\n",
    "    x = \"income\",\n",
    "    y = \"education\",\n",
    "    title = \"My Education x Income data (from the 70s!)\",\n",
    "    color = 'urban',\n",
    "    template = 'simple_white',\n",
    "    hover_data = ['states']\n",
    ")\n",
    "fig.show()"
   ]
  },
  {
   "cell_type": "markdown",
   "metadata": {
    "slideshow": {
     "slide_type": "slide"
    }
   },
   "source": [
    "## Plot.ly\n",
    "\n",
    "Now let us say that you want to analyze all Quantitative variables, one against the other, in pairs.\n",
    "\n",
    "This is called [scatterplot matrices](https://plotly.com/python/splom/) (or pairplots in other softwares)."
   ]
  },
  {
   "cell_type": "code",
   "execution_count": null,
   "metadata": {
    "slideshow": {
     "slide_type": "fragment"
    }
   },
   "outputs": [],
   "source": [
    "## Very cool plot!\n",
    "fig = px.scatter_matrix(\n",
    "    educ, \n",
    "    dimensions = ['education', 'income', 'young', 'urban'],\n",
    "    template = 'seaborn',\n",
    "    hover_data = ['states']\n",
    ")\n",
    "fig.update_traces(diagonal_visible = False)\n",
    "fig.update_layout(width = 700, height = 700)\n",
    "fig.show()"
   ]
  },
  {
   "cell_type": "markdown",
   "metadata": {
    "slideshow": {
     "slide_type": "slide"
    }
   },
   "source": [
    "**Exercise:** Create a scatterplot matrix of the profession prestige data with type of profession coloring data points and the type of profession showing when you hover the mouse over the observation."
   ]
  },
  {
   "cell_type": "code",
   "execution_count": null,
   "metadata": {},
   "outputs": [],
   "source": [
    "duncan = pd.read_csv('Duncan.csv')\n",
    "## Your answers here"
   ]
  },
  {
   "cell_type": "markdown",
   "metadata": {
    "slideshow": {
     "slide_type": "slide"
    }
   },
   "source": [
    "## Plot.ly\n",
    "\n",
    "If you don't care only about trends, then use a [heatmap](https://plotly.com/python/heatmaps/) on the correlation matrix.\n",
    "\n",
    "And for some color scales, see [here](https://plotly.com/python/colorscales/)."
   ]
  },
  {
   "cell_type": "code",
   "execution_count": null,
   "metadata": {
    "slideshow": {
     "slide_type": "fragment"
    }
   },
   "outputs": [],
   "source": [
    "# Can be also 'kendall' and 'spearman'\n",
    "corm = educ.corr(method = 'pearson', numeric_only = True)\n",
    "## We are tricking the system to make it think the matrix is an image!\n",
    "fig = px.imshow(corm, \n",
    "                color_continuous_scale = 'RdBu_r', \n",
    "                zmin = -1, \n",
    "                zmax = 1)\n",
    "fig.show()"
   ]
  },
  {
   "cell_type": "markdown",
   "metadata": {
    "slideshow": {
     "slide_type": "slide"
    }
   },
   "source": [
    "## Plot.ly\n",
    "\n",
    "Now, suppose you want to investigate discrimination in the job markets.\n",
    "\n",
    "Do you think that women and people of color are treated fairly?\n",
    "\n",
    "Let's check this experimental data:"
   ]
  },
  {
   "cell_type": "code",
   "execution_count": null,
   "metadata": {
    "slideshow": {
     "slide_type": "fragment"
    }
   },
   "outputs": [],
   "source": [
    "resumes = pd.read_csv('resumes.csv')\n",
    "resumes.head()"
   ]
  },
  {
   "cell_type": "markdown",
   "metadata": {
    "slideshow": {
     "slide_type": "slide"
    }
   },
   "source": [
    "## Plot.ly\n",
    "\n",
    "For this, we need to test a relationship between two Qualitative variables."
   ]
  },
  {
   "cell_type": "code",
   "execution_count": null,
   "metadata": {
    "slideshow": {
     "slide_type": "fragment"
    }
   },
   "outputs": [],
   "source": [
    "fig = px.histogram(\n",
    "    resumes,\n",
    "    x = 'race', \n",
    "    y = 'call', \n",
    "    color = 'sex', \n",
    "    barmode = 'group')\n",
    "fig.show()"
   ]
  },
  {
   "cell_type": "markdown",
   "metadata": {
    "slideshow": {
     "slide_type": "slide"
    }
   },
   "source": [
    "## Plot.ly\n",
    "\n",
    "Or you can add one in the top of the other:"
   ]
  },
  {
   "cell_type": "code",
   "execution_count": null,
   "metadata": {
    "slideshow": {
     "slide_type": "fragment"
    }
   },
   "outputs": [],
   "source": [
    "fig = px.histogram(\n",
    "    resumes,\n",
    "    x = 'race', \n",
    "    y = 'call', \n",
    "    color = 'sex', \n",
    "    barmode = 'relative') # Can also 'overlay' the categories.\n",
    "fig.show()"
   ]
  },
  {
   "cell_type": "markdown",
   "metadata": {
    "slideshow": {
     "slide_type": "slide"
    }
   },
   "source": [
    "## Plot.ly\n",
    "\n",
    "Finally, if you want to see a dataset that you have no idea what it is, nothing better than plotly to help you up:"
   ]
  },
  {
   "cell_type": "code",
   "execution_count": null,
   "metadata": {
    "slideshow": {
     "slide_type": "fragment"
    }
   },
   "outputs": [],
   "source": [
    "fig = go.Figure(\n",
    "    data=[\n",
    "        go.Table(\n",
    "            header = dict(\n",
    "                values = list(educ.columns),\n",
    "                fill_color = 'paleturquoise',\n",
    "                align = 'left'\n",
    "            ),\n",
    "            cells = dict(\n",
    "                values = [educ[i] for i in educ.columns],\n",
    "                fill_color = 'lavender',\n",
    "                align = 'left'\n",
    "            )\n",
    "        )\n",
    "    ]\n",
    ")\n",
    "\n",
    "fig.show()"
   ]
  },
  {
   "cell_type": "markdown",
   "metadata": {
    "slideshow": {
     "slide_type": "slide"
    }
   },
   "source": [
    "## Plot.ly\n",
    "\n",
    "Now, supposed that we want to build a plot with multiple plots. We cannot do it on plotly express, but we can do it with graph objects.\n",
    "\n",
    "It is going to be harder, but it is still doable."
   ]
  },
  {
   "cell_type": "code",
   "execution_count": null,
   "metadata": {
    "scrolled": true,
    "slideshow": {
     "slide_type": "fragment"
    }
   },
   "outputs": [],
   "source": [
    "# Multiple histograms\n",
    "fig = make_subplots(rows = 2, cols = 2, subplot_titles=['Education', 'Income', 'Young', 'Urban'])\n",
    "fig.add_trace(go.Histogram(x = educ.education, nbinsx = 10, name='Education'), row = 1, col = 1)\n",
    "fig.add_trace(go.Histogram(x = educ.income, nbinsx = 10, name='Income'), row = 1, col = 2)\n",
    "fig.add_trace(go.Histogram(x = educ.young, nbinsx = 10, name='Young'), row = 2, col = 1)\n",
    "fig.add_trace(go.Histogram(x = educ.urban, nbinsx = 10, name='Urban'), row = 2, col = 2)\n",
    "fig.show()\n",
    "educ.head()"
   ]
  },
  {
   "cell_type": "markdown",
   "metadata": {
    "slideshow": {
     "slide_type": "slide"
    }
   },
   "source": [
    "## Plot.ly\n",
    "\n",
    "We can also have buttons. The first one does not look good, but then improve:"
   ]
  },
  {
   "cell_type": "code",
   "execution_count": null,
   "metadata": {
    "scrolled": true,
    "slideshow": {
     "slide_type": "fragment"
    }
   },
   "outputs": [],
   "source": [
    "# Multiple histograms\n",
    "fig = go.Figure()\n",
    "dropdown_buttons = [\n",
    "    {'label': 'education', 'method': 'restyle',\n",
    "     'args': [{'visible': [True, False, False, False]},\n",
    "              {'title': 'Education'}]},\n",
    "    {'label': 'income', 'method': 'restyle',\n",
    "     'args': [{'visible': [False, True, False, False]},\n",
    "              {'title': 'Income'}]},\n",
    "    {'label': \"young\", 'method': \"restyle\",\n",
    "     'args': [{\"visible\": [False, False, True, False]},\n",
    "              {'title': 'Young'}]},\n",
    "    {'label': \"urban\", 'method': \"restyle\",\n",
    "     'args': [{\"visible\": [False, False, False, True]},\n",
    "              {'title': 'Urban'}]}\n",
    "]\n",
    "fig.update_layout({\n",
    "    'updatemenus':[{\n",
    "        'type': \"dropdown\",\n",
    "        'x': 1.3,\n",
    "        'y': 0.5,\n",
    "        'showactive': True,\n",
    "        'active': 0,\n",
    "        'buttons': dropdown_buttons}]\n",
    "})\n",
    "for var in ['education', 'income', 'young', 'urban']:\n",
    "    fig.add_trace(go.Histogram(x = educ[var], nbinsx = 10, name = var))\n",
    "fig.show()"
   ]
  },
  {
   "cell_type": "markdown",
   "metadata": {
    "slideshow": {
     "slide_type": "slide"
    }
   },
   "source": [
    "## Plot.ly\n",
    "\n",
    "And sliders:"
   ]
  },
  {
   "cell_type": "code",
   "execution_count": null,
   "metadata": {
    "slideshow": {
     "slide_type": "fragment"
    }
   },
   "outputs": [],
   "source": [
    "gapminder = px.data.gapminder()\n",
    "fig = px.scatter(\n",
    "    gapminder, x = 'gdpPercap', y = 'lifeExp', color = 'continent', size = 'pop',\n",
    "    animation_frame = \"year\", \n",
    "    animation_group = \"country\", \n",
    "    log_x = True, size_max = 45, range_x = [100, 100000], range_y = [25, 90])\n",
    "fig['layout'].pop('updatemenus')\n",
    "fig.show()"
   ]
  },
  {
   "cell_type": "code",
   "execution_count": null,
   "metadata": {},
   "outputs": [],
   "source": [
    "gapminder.head()"
   ]
  },
  {
   "cell_type": "markdown",
   "metadata": {
    "slideshow": {
     "slide_type": "slide"
    }
   },
   "source": [
    "## Plot.ly\n",
    "\n",
    "Or you can do a full-on animation:"
   ]
  },
  {
   "cell_type": "code",
   "execution_count": null,
   "metadata": {
    "scrolled": true,
    "slideshow": {
     "slide_type": "fragment"
    }
   },
   "outputs": [],
   "source": [
    "fig = px.scatter(\n",
    "    gapminder, x = 'gdpPercap', y = 'lifeExp', color = 'continent', size = 'pop',\n",
    "    animation_frame = \"year\", \n",
    "    animation_group = \"country\", \n",
    "    log_x = True, size_max = 45, range_x = [100, 100000], range_y = [25, 90])\n",
    "#fig['layout'].pop('updatemenus')\n",
    "fig.show()"
   ]
  },
  {
   "cell_type": "markdown",
   "metadata": {
    "slideshow": {
     "slide_type": "slide"
    }
   },
   "source": [
    "## Plot.ly\n",
    "\n",
    "You learned in the past three classes how to build interactive plots for one or more variables.\n",
    "\n",
    "More about that on the amazing [plotly documentation](https://plotly.com/python/)."
   ]
  },
  {
   "cell_type": "markdown",
   "metadata": {
    "slideshow": {
     "slide_type": "slide"
    }
   },
   "source": [
    "# Great work!"
   ]
  },
  {
   "cell_type": "markdown",
   "metadata": {
    "slideshow": {
     "slide_type": "slide"
    }
   },
   "source": [
    "## Exercise\n",
    "\n",
    "You have now to explore a more complicated dataset: [QOG Environmental Indicators Codebook](https://www.qogdata.pol.gu.se/data/codebook_ei_sept21.pdf)"
   ]
  },
  {
   "cell_type": "code",
   "execution_count": null,
   "metadata": {
    "slideshow": {
     "slide_type": "fragment"
    }
   },
   "outputs": [],
   "source": [
    "envind = pd.read_csv('https://www.qogdata.pol.gu.se/data/qog_ei_sept21.csv', encoding='ISO-8859-1')"
   ]
  },
  {
   "cell_type": "markdown",
   "metadata": {
    "slideshow": {
     "slide_type": "slide"
    }
   },
   "source": [
    "## Exercise\n",
    "\n",
    "Your job:\n",
    "\n",
    "1. Start a new data report (like we did yesterday)\n",
    "\n",
    "2. Describe the variables individually\n",
    "\n",
    "3. Describe relevant variable interactions in the data\n",
    "\n",
    "4. Use **a few** numeric descriptive stats and **a lot** of plots.\n",
    "\n",
    "Hint: Build the analysis around the year of 2019."
   ]
  },
  {
   "cell_type": "code",
   "execution_count": null,
   "metadata": {},
   "outputs": [],
   "source": [
    "## I suggest you focus on two or three of the following environmental indicators\n",
    "\n",
    "epivars = ['epi_tbn', 'epi_tbg', 'epi_ghp', 'epi_uwd', 'epi_usd', 'epi_pmd', \n",
    "           'epi_bhv', 'epi_pbd', 'epi_par', 'epi_ozd', 'epi_msw', 'epi_had', \n",
    "           'epi_wwt', 'epi_snm', 'epi_gib', 'epi_cha', 'epi_cda', 'epi_noa', \n",
    "           'epi_bca', 'epi_sda', 'epi_nxa', 'epi_wrs', 'epi_wmg', 'epi_agr', \n",
    "           'epi_air', 'epi_ape', 'epi_bdh', 'epi_cch', 'epi_hmt', 'epi_eh', \n",
    "           'epi_h2o', 'epi_ev', 'epi_tcl']\n",
    "\n",
    "## Look at the codebook to learn what they are"
   ]
  }
 ],
 "metadata": {
  "celltoolbar": "Slideshow",
  "kernelspec": {
   "display_name": "Python 3 (ipykernel)",
   "language": "python",
   "name": "python3"
  },
  "language_info": {
   "codemirror_mode": {
    "name": "ipython",
    "version": 3
   },
   "file_extension": ".py",
   "mimetype": "text/x-python",
   "name": "python",
   "nbconvert_exporter": "python",
   "pygments_lexer": "ipython3",
   "version": "3.9.18"
  }
 },
 "nbformat": 4,
 "nbformat_minor": 4
}
