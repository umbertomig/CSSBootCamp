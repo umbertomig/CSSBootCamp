{
 "cells": [
  {
   "cell_type": "markdown",
   "metadata": {
    "slideshow": {
     "slide_type": "slide"
    }
   },
   "source": [
    "# CSS 201.5 - CSS MA Bootcamp\n",
    "\n",
    "## Python for Data Analysis\n",
    "\n",
    "### Umberto Mignozzetti (UCSD)\n",
    "\n",
    "---"
   ]
  },
  {
   "cell_type": "markdown",
   "metadata": {
    "jp-MarkdownHeadingCollapsed": true,
    "slideshow": {
     "slide_type": "slide"
    }
   },
   "source": [
    "## Recap\n",
    "\n",
    "We learned:\n",
    "\n",
    "1. `pandas` library for data analysis\n",
    "2. Load data\n",
    "3. Check data\n",
    "4. Elementary operations: select variables, filter observations, etc\n",
    "\n",
    "Matplotlib is the main package for data visualization in Python.\n",
    "\n",
    "To create a data visualization with matplotlib, we need to load the data into Python. We will work here with the datasets `tips` and `PErisk`."
   ]
  },
  {
   "cell_type": "markdown",
   "metadata": {
    "jp-MarkdownHeadingCollapsed": true,
    "slideshow": {
     "slide_type": "slide"
    }
   },
   "source": [
    "## Today\n",
    "\n",
    "Plot data with\n",
    "\n",
    "1. `matplotlib`\n",
    "2. `seaborn`"
   ]
  },
  {
   "cell_type": "markdown",
   "metadata": {
    "slideshow": {
     "slide_type": "slide"
    }
   },
   "source": [
    "## Loading libraries we will use"
   ]
  },
  {
   "cell_type": "code",
   "execution_count": 1,
   "metadata": {
    "execution": {
     "iopub.execute_input": "2024-07-03T14:22:57.328434Z",
     "iopub.status.busy": "2024-07-03T14:22:57.328357Z",
     "iopub.status.idle": "2024-07-03T14:22:58.113716Z",
     "shell.execute_reply": "2024-07-03T14:22:58.113366Z",
     "shell.execute_reply.started": "2024-07-03T14:22:57.328426Z"
    },
    "slideshow": {
     "slide_type": "fragment"
    }
   },
   "outputs": [],
   "source": [
    "import pandas as pd\n",
    "\n",
    "# Plotting data\n",
    "from matplotlib import pyplot as plt\n",
    "import seaborn as sns\n",
    "\n",
    "# Auxiliary\n",
    "import numpy as np # this is a library we use for working with matrices"
   ]
  },
  {
   "cell_type": "markdown",
   "metadata": {},
   "source": [
    "Note that I always start my analysis by loading the libraries!"
   ]
  },
  {
   "cell_type": "markdown",
   "metadata": {
    "slideshow": {
     "slide_type": "slide"
    }
   },
   "source": [
    "## Loading datasets\n",
    "\n",
    "**Political and Economic Risk Dataset**: Info on investment risks in 62 countries in 1992\n",
    "- courts  : 0 = not independent; 1 = independent\n",
    "- barb2   : Informal Markets Benefits\n",
    "- prsexp2 : 0 = very high expropriation risk; 5 = very low\n",
    "- prscorr2: 0 = very high bribing risk; 5 = very low\n",
    "- gdpw2   : Log of GDP per capita"
   ]
  },
  {
   "cell_type": "code",
   "execution_count": 2,
   "metadata": {
    "execution": {
     "iopub.execute_input": "2024-07-03T14:22:58.114904Z",
     "iopub.status.busy": "2024-07-03T14:22:58.114791Z",
     "iopub.status.idle": "2024-07-03T14:22:58.350206Z",
     "shell.execute_reply": "2024-07-03T14:22:58.349550Z",
     "shell.execute_reply.started": "2024-07-03T14:22:58.114896Z"
    },
    "slideshow": {
     "slide_type": "fragment"
    }
   },
   "outputs": [],
   "source": [
    "perisk = pd.read_csv('https://raw.githubusercontent.com/umbertomig/CSSBootCamp/main/datasets/PErisk.csv')\n",
    "\n",
    "# And to make the country names to be the index names\n",
    "perisk = perisk.set_index('country')"
   ]
  },
  {
   "cell_type": "markdown",
   "metadata": {
    "slideshow": {
     "slide_type": "slide"
    }
   },
   "source": [
    "## Loading datasets\n",
    "\n",
    "**US Population Dataset**: Info about US population"
   ]
  },
  {
   "cell_type": "code",
   "execution_count": 3,
   "metadata": {
    "execution": {
     "iopub.execute_input": "2024-07-03T14:22:58.351693Z",
     "iopub.status.busy": "2024-07-03T14:22:58.351287Z",
     "iopub.status.idle": "2024-07-03T14:22:58.577948Z",
     "shell.execute_reply": "2024-07-03T14:22:58.577607Z",
     "shell.execute_reply.started": "2024-07-03T14:22:58.351671Z"
    },
    "slideshow": {
     "slide_type": "fragment"
    }
   },
   "outputs": [],
   "source": [
    "# Note that I informed the read_csv about the fact that `year` is a date object!\n",
    "uspop = pd.read_csv('https://raw.githubusercontent.com/umbertomig/CSSBootCamp/main/datasets/uspop.csv', parse_dates = ['year'])\n",
    "\n",
    "# And to set the years as index names\n",
    "uspop = uspop.set_index('year')"
   ]
  },
  {
   "cell_type": "markdown",
   "metadata": {
    "slideshow": {
     "slide_type": "slide"
    }
   },
   "source": [
    "## Loading datasets\n",
    "\n",
    "**Exercise**: Load this dataset https://raw.githubusercontent.com/umbertomig/CSSBootCamp/main/datasets/beer-prod-australia.csv"
   ]
  },
  {
   "cell_type": "code",
   "execution_count": 4,
   "metadata": {
    "execution": {
     "iopub.execute_input": "2024-07-03T14:22:58.578470Z",
     "iopub.status.busy": "2024-07-03T14:22:58.578388Z",
     "iopub.status.idle": "2024-07-03T14:22:58.580804Z",
     "shell.execute_reply": "2024-07-03T14:22:58.580509Z",
     "shell.execute_reply.started": "2024-07-03T14:22:58.578463Z"
    },
    "slideshow": {
     "slide_type": "fragment"
    }
   },
   "outputs": [],
   "source": [
    "# Your code here (hint: adapt the uspop code)\n",
    "beerprod = ..."
   ]
  },
  {
   "cell_type": "markdown",
   "metadata": {
    "slideshow": {
     "slide_type": "slide"
    }
   },
   "source": [
    "## Loading datasets\n",
    "\n",
    "**Tips Dataset**: Info about tips in a given pub\n",
    "- totbill : Total Bill\n",
    "- tip     : Tip\n",
    "- sex     : F = female; M = male\n",
    "- smoker  : Yes or No\n",
    "- day     : Weekday\n",
    "- time    : Time of the day\n",
    "- size    : Number of people"
   ]
  },
  {
   "cell_type": "code",
   "execution_count": 5,
   "metadata": {
    "execution": {
     "iopub.execute_input": "2024-07-03T14:22:58.581218Z",
     "iopub.status.busy": "2024-07-03T14:22:58.581140Z",
     "iopub.status.idle": "2024-07-03T14:22:58.878262Z",
     "shell.execute_reply": "2024-07-03T14:22:58.877469Z",
     "shell.execute_reply.started": "2024-07-03T14:22:58.581211Z"
    },
    "slideshow": {
     "slide_type": "fragment"
    }
   },
   "outputs": [],
   "source": [
    "tips = pd.read_csv('https://raw.githubusercontent.com/umbertomig/CSSBootCamp/main/datasets/tips.csv')"
   ]
  },
  {
   "cell_type": "markdown",
   "metadata": {
    "slideshow": {
     "slide_type": "slide"
    }
   },
   "source": [
    "## Exercise \n",
    "\n",
    "Check these datasets. What do we have in each of them?"
   ]
  },
  {
   "cell_type": "code",
   "execution_count": 6,
   "metadata": {
    "execution": {
     "iopub.execute_input": "2024-07-03T14:22:58.879855Z",
     "iopub.status.busy": "2024-07-03T14:22:58.879549Z",
     "iopub.status.idle": "2024-07-03T14:22:58.882705Z",
     "shell.execute_reply": "2024-07-03T14:22:58.882029Z",
     "shell.execute_reply.started": "2024-07-03T14:22:58.879835Z"
    },
    "slideshow": {
     "slide_type": "fragment"
    }
   },
   "outputs": [],
   "source": [
    "## Your answer here"
   ]
  },
  {
   "cell_type": "markdown",
   "metadata": {
    "slideshow": {
     "slide_type": "slide"
    }
   },
   "source": [
    "# Matplotlib\n",
    "\n",
    "Matplotlib is the main package for data visualization in Python.\n",
    "\n",
    "## Lineplots\n",
    "\n",
    "The default plot done by matplotlib is the lineplot. This type of plot is well suited for displaying data that varies over time.\n",
    "\n",
    "We assume we have the time in the x-axis and the values of the variables (e.g., stock prices, population, etc) in the y-axis.\n",
    "\n",
    "Let us check how it works:"
   ]
  },
  {
   "cell_type": "markdown",
   "metadata": {
    "slideshow": {
     "slide_type": "slide"
    }
   },
   "source": [
    "## Lineplots"
   ]
  },
  {
   "cell_type": "code",
   "execution_count": 11,
   "metadata": {
    "execution": {
     "iopub.execute_input": "2024-07-03T14:22:58.902429Z",
     "iopub.status.busy": "2024-07-03T14:22:58.902356Z",
     "iopub.status.idle": "2024-07-03T14:22:58.983300Z",
     "shell.execute_reply": "2024-07-03T14:22:58.982988Z",
     "shell.execute_reply.started": "2024-07-03T14:22:58.902422Z"
    },
    "slideshow": {
     "slide_type": "fragment"
    }
   },
   "outputs": [
    {
     "data": {
      "image/png": "[encoded data removed]",
      "text/plain": [
       "<Figure size 640x480 with 1 Axes>"
      ]
     },
     "metadata": {},
     "output_type": "display_data"
    }
   ],
   "source": [
    "# My code here\n",
    "fig, ax = plt.subplots()\n",
    "\n",
    "ax.plot(uspop.index, uspop['uspop'], color = 'red', marker = 'o', linestyle = '--')\n",
    "\n",
    "plt.show()"
   ]
  },
  {
   "cell_type": "markdown",
   "metadata": {
    "slideshow": {
     "slide_type": "slide"
    }
   },
   "source": [
    "### Set Label Text\n",
    "\n",
    "We can add labels using `set_xlabel` and `set_ylabel`."
   ]
  },
  {
   "cell_type": "code",
   "execution_count": 12,
   "metadata": {
    "execution": {
     "iopub.execute_input": "2024-07-03T14:22:58.983976Z",
     "iopub.status.busy": "2024-07-03T14:22:58.983867Z",
     "iopub.status.idle": "2024-07-03T14:22:59.057531Z",
     "shell.execute_reply": "2024-07-03T14:22:59.057250Z",
     "shell.execute_reply.started": "2024-07-03T14:22:58.983967Z"
    },
    "slideshow": {
     "slide_type": "fragment"
    }
   },
   "outputs": [
    {
     "data": {
      "image/png": "[encoded data removed]",
      "text/plain": [
       "<Figure size 640x480 with 1 Axes>"
      ]
     },
     "metadata": {},
     "output_type": "display_data"
    }
   ],
   "source": [
    "# My code here\n",
    "fig, ax = plt.subplots()\n",
    "\n",
    "ax.plot(uspop.index, uspop['uspop'], color = 'red', marker = 'o', linestyle = '--')\n",
    "\n",
    "ax.set_xlabel('Years')\n",
    "\n",
    "ax.set_ylabel('Population (millions)')\n",
    "\n",
    "plt.show()"
   ]
  },
  {
   "cell_type": "markdown",
   "metadata": {
    "slideshow": {
     "slide_type": "slide"
    }
   },
   "source": [
    "### Two plots in the same graph\n",
    "\n",
    "Now, let us create the log of the population and add to the data:"
   ]
  },
  {
   "cell_type": "code",
   "execution_count": 13,
   "metadata": {
    "execution": {
     "iopub.execute_input": "2024-07-03T14:22:59.058200Z",
     "iopub.status.busy": "2024-07-03T14:22:59.058098Z",
     "iopub.status.idle": "2024-07-03T14:22:59.063948Z",
     "shell.execute_reply": "2024-07-03T14:22:59.063600Z",
     "shell.execute_reply.started": "2024-07-03T14:22:59.058193Z"
    },
    "slideshow": {
     "slide_type": "fragment"
    }
   },
   "outputs": [
    {
     "data": {
      "text/html": [
       "<div>\n",
       "<style scoped>\n",
       "    .dataframe tbody tr th:only-of-type {\n",
       "        vertical-align: middle;\n",
       "    }\n",
       "\n",
       "    .dataframe tbody tr th {\n",
       "        vertical-align: top;\n",
       "    }\n",
       "\n",
       "    .dataframe thead th {\n",
       "        text-align: right;\n",
       "    }\n",
       "</style>\n",
       "<table border=\"1\" class=\"dataframe\">\n",
       "  <thead>\n",
       "    <tr style=\"text-align: right;\">\n",
       "      <th></th>\n",
       "      <th>uspop</th>\n",
       "      <th>logpop</th>\n",
       "    </tr>\n",
       "    <tr>\n",
       "      <th>year</th>\n",
       "      <th></th>\n",
       "      <th></th>\n",
       "    </tr>\n",
       "  </thead>\n",
       "  <tbody>\n",
       "    <tr>\n",
       "      <th>1790-01-01</th>\n",
       "      <td>3.93</td>\n",
       "      <td>1.368639</td>\n",
       "    </tr>\n",
       "    <tr>\n",
       "      <th>1800-01-01</th>\n",
       "      <td>5.31</td>\n",
       "      <td>1.669592</td>\n",
       "    </tr>\n",
       "    <tr>\n",
       "      <th>1810-01-01</th>\n",
       "      <td>7.24</td>\n",
       "      <td>1.979621</td>\n",
       "    </tr>\n",
       "    <tr>\n",
       "      <th>1820-01-01</th>\n",
       "      <td>9.64</td>\n",
       "      <td>2.265921</td>\n",
       "    </tr>\n",
       "    <tr>\n",
       "      <th>1830-01-01</th>\n",
       "      <td>12.90</td>\n",
       "      <td>2.557227</td>\n",
       "    </tr>\n",
       "    <tr>\n",
       "      <th>1840-01-01</th>\n",
       "      <td>17.10</td>\n",
       "      <td>2.839078</td>\n",
       "    </tr>\n",
       "    <tr>\n",
       "      <th>1850-01-01</th>\n",
       "      <td>23.20</td>\n",
       "      <td>3.144152</td>\n",
       "    </tr>\n",
       "    <tr>\n",
       "      <th>1860-01-01</th>\n",
       "      <td>31.40</td>\n",
       "      <td>3.446808</td>\n",
       "    </tr>\n",
       "    <tr>\n",
       "      <th>1870-01-01</th>\n",
       "      <td>39.80</td>\n",
       "      <td>3.683867</td>\n",
       "    </tr>\n",
       "    <tr>\n",
       "      <th>1880-01-01</th>\n",
       "      <td>50.20</td>\n",
       "      <td>3.916015</td>\n",
       "    </tr>\n",
       "    <tr>\n",
       "      <th>1890-01-01</th>\n",
       "      <td>62.90</td>\n",
       "      <td>4.141546</td>\n",
       "    </tr>\n",
       "    <tr>\n",
       "      <th>1900-01-01</th>\n",
       "      <td>76.00</td>\n",
       "      <td>4.330733</td>\n",
       "    </tr>\n",
       "    <tr>\n",
       "      <th>1910-01-01</th>\n",
       "      <td>92.00</td>\n",
       "      <td>4.521789</td>\n",
       "    </tr>\n",
       "    <tr>\n",
       "      <th>1920-01-01</th>\n",
       "      <td>105.70</td>\n",
       "      <td>4.660605</td>\n",
       "    </tr>\n",
       "    <tr>\n",
       "      <th>1930-01-01</th>\n",
       "      <td>122.80</td>\n",
       "      <td>4.810557</td>\n",
       "    </tr>\n",
       "    <tr>\n",
       "      <th>1940-01-01</th>\n",
       "      <td>131.70</td>\n",
       "      <td>4.880527</td>\n",
       "    </tr>\n",
       "    <tr>\n",
       "      <th>1950-01-01</th>\n",
       "      <td>151.30</td>\n",
       "      <td>5.019265</td>\n",
       "    </tr>\n",
       "    <tr>\n",
       "      <th>1960-01-01</th>\n",
       "      <td>179.30</td>\n",
       "      <td>5.189060</td>\n",
       "    </tr>\n",
       "    <tr>\n",
       "      <th>1970-01-01</th>\n",
       "      <td>203.20</td>\n",
       "      <td>5.314191</td>\n",
       "    </tr>\n",
       "  </tbody>\n",
       "</table>\n",
       "</div>"
      ],
      "text/plain": [
       "             uspop    logpop\n",
       "year                        \n",
       "1790-01-01    3.93  1.368639\n",
       "1800-01-01    5.31  1.669592\n",
       "1810-01-01    7.24  1.979621\n",
       "1820-01-01    9.64  2.265921\n",
       "1830-01-01   12.90  2.557227\n",
       "1840-01-01   17.10  2.839078\n",
       "1850-01-01   23.20  3.144152\n",
       "1860-01-01   31.40  3.446808\n",
       "1870-01-01   39.80  3.683867\n",
       "1880-01-01   50.20  3.916015\n",
       "1890-01-01   62.90  4.141546\n",
       "1900-01-01   76.00  4.330733\n",
       "1910-01-01   92.00  4.521789\n",
       "1920-01-01  105.70  4.660605\n",
       "1930-01-01  122.80  4.810557\n",
       "1940-01-01  131.70  4.880527\n",
       "1950-01-01  151.30  5.019265\n",
       "1960-01-01  179.30  5.189060\n",
       "1970-01-01  203.20  5.314191"
      ]
     },
     "execution_count": 13,
     "metadata": {},
     "output_type": "execute_result"
    }
   ],
   "source": [
    "# My code here\n",
    "uspop['logpop'] = np.log(uspop['uspop'])\n",
    "uspop"
   ]
  },
  {
   "cell_type": "markdown",
   "metadata": {
    "slideshow": {
     "slide_type": "slide"
    }
   },
   "source": [
    "### Two plots in the same graph\n",
    "\n",
    "We can put the plots together, changing the scale in the left and right hand sides. This is very useful to plot time series that have different axis values:"
   ]
  },
  {
   "cell_type": "code",
   "execution_count": 14,
   "metadata": {
    "execution": {
     "iopub.execute_input": "2024-07-03T14:22:59.064689Z",
     "iopub.status.busy": "2024-07-03T14:22:59.064568Z",
     "iopub.status.idle": "2024-07-03T14:22:59.161980Z",
     "shell.execute_reply": "2024-07-03T14:22:59.161643Z",
     "shell.execute_reply.started": "2024-07-03T14:22:59.064680Z"
    },
    "slideshow": {
     "slide_type": "fragment"
    }
   },
   "outputs": [
    {
     "data": {
      "image/png": "[encoded data removed]",
      "text/plain": [
       "<Figure size 640x480 with 2 Axes>"
      ]
     },
     "metadata": {},
     "output_type": "display_data"
    }
   ],
   "source": [
    "# My code here\n",
    "\n",
    "fig, ax = plt.subplots()\n",
    "\n",
    "ax.plot(uspop.index, uspop['uspop'], color = 'red')\n",
    "\n",
    "ax.set_ylabel('Population (millions)')\n",
    "\n",
    "ax.tick_params('y', colors = 'red')\n",
    "\n",
    "ax.set_xlabel('Years')\n",
    "\n",
    "ax2 = ax.twinx()\n",
    "\n",
    "ax2.plot(uspop.index, uspop['logpop'], color = 'blue')\n",
    "\n",
    "ax2.set_ylabel('Log of Population (millions)')\n",
    "\n",
    "ax2.tick_params('y', colors = 'blue')\n",
    "\n",
    "plt.show()"
   ]
  },
  {
   "cell_type": "markdown",
   "metadata": {
    "slideshow": {
     "slide_type": "slide"
    }
   },
   "source": [
    "## Exercise\n",
    "\n",
    "Create a lineplot of beer production in Australia. Do you see anything interesting?"
   ]
  },
  {
   "cell_type": "code",
   "execution_count": 15,
   "metadata": {
    "execution": {
     "iopub.execute_input": "2024-07-03T14:22:59.162576Z",
     "iopub.status.busy": "2024-07-03T14:22:59.162472Z",
     "iopub.status.idle": "2024-07-03T14:22:59.164495Z",
     "shell.execute_reply": "2024-07-03T14:22:59.164201Z",
     "shell.execute_reply.started": "2024-07-03T14:22:59.162568Z"
    },
    "slideshow": {
     "slide_type": "fragment"
    }
   },
   "outputs": [],
   "source": [
    "# Your code here"
   ]
  },
  {
   "cell_type": "markdown",
   "metadata": {
    "slideshow": {
     "slide_type": "slide"
    }
   },
   "source": [
    "## Bar-Charts\n",
    "\n",
    "Bar-plots are useful to see the frequency in variables:"
   ]
  },
  {
   "cell_type": "code",
   "execution_count": 16,
   "metadata": {
    "execution": {
     "iopub.execute_input": "2024-07-03T14:22:59.164984Z",
     "iopub.status.busy": "2024-07-03T14:22:59.164886Z",
     "iopub.status.idle": "2024-07-03T14:22:59.168299Z",
     "shell.execute_reply": "2024-07-03T14:22:59.168049Z",
     "shell.execute_reply.started": "2024-07-03T14:22:59.164977Z"
    },
    "slideshow": {
     "slide_type": "fragment"
    }
   },
   "outputs": [
    {
     "data": {
      "text/plain": [
       "exprisk\n",
       "4     6\n",
       "0    14\n",
       "5     2\n",
       "1    14\n",
       "2    19\n",
       "3     7\n",
       "Name: count, dtype: int64"
      ]
     },
     "execution_count": 16,
     "metadata": {},
     "output_type": "execute_result"
    }
   ],
   "source": [
    "# My code here\n",
    "perisk['exprisk'] = 5 - perisk['prsexp2']\n",
    "tab = perisk['exprisk'].value_counts(sort = False)\n",
    "tab"
   ]
  },
  {
   "cell_type": "code",
   "execution_count": 17,
   "metadata": {
    "execution": {
     "iopub.execute_input": "2024-07-03T14:22:59.168972Z",
     "iopub.status.busy": "2024-07-03T14:22:59.168888Z",
     "iopub.status.idle": "2024-07-03T14:22:59.217263Z",
     "shell.execute_reply": "2024-07-03T14:22:59.216926Z",
     "shell.execute_reply.started": "2024-07-03T14:22:59.168964Z"
    },
    "slideshow": {
     "slide_type": "slide"
    }
   },
   "outputs": [
    {
     "data": {
      "image/png": "[encoded data removed]",
      "text/plain": [
       "<Figure size 640x480 with 1 Axes>"
      ]
     },
     "metadata": {},
     "output_type": "display_data"
    }
   ],
   "source": [
    "fig, ax = plt.subplots()\n",
    "\n",
    "ax.bar(tab.index, tab)\n",
    "\n",
    "plt.show()"
   ]
  },
  {
   "cell_type": "code",
   "execution_count": 18,
   "metadata": {
    "execution": {
     "iopub.execute_input": "2024-07-03T14:22:59.218086Z",
     "iopub.status.busy": "2024-07-03T14:22:59.217925Z",
     "iopub.status.idle": "2024-07-03T14:22:59.262474Z",
     "shell.execute_reply": "2024-07-03T14:22:59.262118Z",
     "shell.execute_reply.started": "2024-07-03T14:22:59.218073Z"
    },
    "slideshow": {
     "slide_type": "slide"
    }
   },
   "outputs": [
    {
     "name": "stdout",
     "output_type": "stream",
     "text": [
      "   obs  totbill   tip sex smoker  day   time  size\n",
      "0    1    16.99  1.01   F     No  Sun  Night     2\n",
      "1    2    10.34  1.66   M     No  Sun  Night     3\n",
      "2    3    21.01  3.50   M     No  Sun  Night     3\n",
      "3    4    23.68  3.31   M     No  Sun  Night     2\n",
      "4    5    24.59  3.61   F     No  Sun  Night     4\n",
      "day\n",
      "Sat    0.356557\n",
      "Sun    0.311475\n",
      "Thu    0.254098\n",
      "Fri    0.077869\n",
      "Name: proportion, dtype: float64\n"
     ]
    },
    {
     "data": {
      "image/png": "[encoded data removed]",
      "text/plain": [
       "<Figure size 640x480 with 1 Axes>"
      ]
     },
     "metadata": {},
     "output_type": "display_data"
    }
   ],
   "source": [
    "print(tips.head())\n",
    "tab = tips['day'].value_counts(normalize = True)\n",
    "print(tab)\n",
    "fig, ax = plt.subplots()\n",
    "\n",
    "ax.bar(tab.index, tab)\n",
    "\n",
    "plt.show()"
   ]
  },
  {
   "cell_type": "markdown",
   "metadata": {
    "slideshow": {
     "slide_type": "slide"
    }
   },
   "source": [
    "**Exercise**: Do the same bar-chart with weekdays in the `tips` dataset."
   ]
  },
  {
   "cell_type": "code",
   "execution_count": 19,
   "metadata": {
    "execution": {
     "iopub.execute_input": "2024-07-03T14:22:59.263102Z",
     "iopub.status.busy": "2024-07-03T14:22:59.263002Z",
     "iopub.status.idle": "2024-07-03T14:22:59.267922Z",
     "shell.execute_reply": "2024-07-03T14:22:59.267632Z",
     "shell.execute_reply.started": "2024-07-03T14:22:59.263093Z"
    },
    "slideshow": {
     "slide_type": "fragment"
    }
   },
   "outputs": [
    {
     "data": {
      "text/html": [
       "<div>\n",
       "<style scoped>\n",
       "    .dataframe tbody tr th:only-of-type {\n",
       "        vertical-align: middle;\n",
       "    }\n",
       "\n",
       "    .dataframe tbody tr th {\n",
       "        vertical-align: top;\n",
       "    }\n",
       "\n",
       "    .dataframe thead th {\n",
       "        text-align: right;\n",
       "    }\n",
       "</style>\n",
       "<table border=\"1\" class=\"dataframe\">\n",
       "  <thead>\n",
       "    <tr style=\"text-align: right;\">\n",
       "      <th></th>\n",
       "      <th>obs</th>\n",
       "      <th>totbill</th>\n",
       "      <th>tip</th>\n",
       "      <th>sex</th>\n",
       "      <th>smoker</th>\n",
       "      <th>day</th>\n",
       "      <th>time</th>\n",
       "      <th>size</th>\n",
       "    </tr>\n",
       "  </thead>\n",
       "  <tbody>\n",
       "    <tr>\n",
       "      <th>0</th>\n",
       "      <td>1</td>\n",
       "      <td>16.99</td>\n",
       "      <td>1.01</td>\n",
       "      <td>F</td>\n",
       "      <td>No</td>\n",
       "      <td>Sun</td>\n",
       "      <td>Night</td>\n",
       "      <td>2</td>\n",
       "    </tr>\n",
       "    <tr>\n",
       "      <th>1</th>\n",
       "      <td>2</td>\n",
       "      <td>10.34</td>\n",
       "      <td>1.66</td>\n",
       "      <td>M</td>\n",
       "      <td>No</td>\n",
       "      <td>Sun</td>\n",
       "      <td>Night</td>\n",
       "      <td>3</td>\n",
       "    </tr>\n",
       "    <tr>\n",
       "      <th>2</th>\n",
       "      <td>3</td>\n",
       "      <td>21.01</td>\n",
       "      <td>3.50</td>\n",
       "      <td>M</td>\n",
       "      <td>No</td>\n",
       "      <td>Sun</td>\n",
       "      <td>Night</td>\n",
       "      <td>3</td>\n",
       "    </tr>\n",
       "    <tr>\n",
       "      <th>3</th>\n",
       "      <td>4</td>\n",
       "      <td>23.68</td>\n",
       "      <td>3.31</td>\n",
       "      <td>M</td>\n",
       "      <td>No</td>\n",
       "      <td>Sun</td>\n",
       "      <td>Night</td>\n",
       "      <td>2</td>\n",
       "    </tr>\n",
       "    <tr>\n",
       "      <th>4</th>\n",
       "      <td>5</td>\n",
       "      <td>24.59</td>\n",
       "      <td>3.61</td>\n",
       "      <td>F</td>\n",
       "      <td>No</td>\n",
       "      <td>Sun</td>\n",
       "      <td>Night</td>\n",
       "      <td>4</td>\n",
       "    </tr>\n",
       "  </tbody>\n",
       "</table>\n",
       "</div>"
      ],
      "text/plain": [
       "   obs  totbill   tip sex smoker  day   time  size\n",
       "0    1    16.99  1.01   F     No  Sun  Night     2\n",
       "1    2    10.34  1.66   M     No  Sun  Night     3\n",
       "2    3    21.01  3.50   M     No  Sun  Night     3\n",
       "3    4    23.68  3.31   M     No  Sun  Night     2\n",
       "4    5    24.59  3.61   F     No  Sun  Night     4"
      ]
     },
     "execution_count": 19,
     "metadata": {},
     "output_type": "execute_result"
    }
   ],
   "source": [
    "tips.head()"
   ]
  },
  {
   "cell_type": "markdown",
   "metadata": {
    "slideshow": {
     "slide_type": "slide"
    }
   },
   "source": [
    "## Histograms\n",
    "\n",
    "To visualize numeric variables, the histogram is the best plot. For instance, here is a histogram of the log of gdp:"
   ]
  },
  {
   "cell_type": "code",
   "execution_count": 20,
   "metadata": {
    "execution": {
     "iopub.execute_input": "2024-07-03T14:22:59.268408Z",
     "iopub.status.busy": "2024-07-03T14:22:59.268320Z",
     "iopub.status.idle": "2024-07-03T14:22:59.315939Z",
     "shell.execute_reply": "2024-07-03T14:22:59.315563Z",
     "shell.execute_reply.started": "2024-07-03T14:22:59.268400Z"
    },
    "slideshow": {
     "slide_type": "fragment"
    }
   },
   "outputs": [
    {
     "data": {
      "image/png": "[encoded data removed]",
      "text/plain": [
       "<Figure size 640x480 with 1 Axes>"
      ]
     },
     "metadata": {},
     "output_type": "display_data"
    }
   ],
   "source": [
    "perisk['corrisk'] = 5 - perisk['prscorr2']\n",
    "# My code here\n",
    "fig, ax = plt.subplots()\n",
    "\n",
    "ax.hist(np.exp(perisk['gdpw2']), bins = 5)\n",
    "\n",
    "plt.show()"
   ]
  },
  {
   "cell_type": "code",
   "execution_count": 21,
   "metadata": {
    "execution": {
     "iopub.execute_input": "2024-07-03T14:22:59.316673Z",
     "iopub.status.busy": "2024-07-03T14:22:59.316576Z",
     "iopub.status.idle": "2024-07-03T14:22:59.320654Z",
     "shell.execute_reply": "2024-07-03T14:22:59.320358Z",
     "shell.execute_reply.started": "2024-07-03T14:22:59.316665Z"
    },
    "slideshow": {
     "slide_type": "slide"
    }
   },
   "outputs": [
    {
     "data": {
      "text/html": [
       "<div>\n",
       "<style scoped>\n",
       "    .dataframe tbody tr th:only-of-type {\n",
       "        vertical-align: middle;\n",
       "    }\n",
       "\n",
       "    .dataframe tbody tr th {\n",
       "        vertical-align: top;\n",
       "    }\n",
       "\n",
       "    .dataframe thead th {\n",
       "        text-align: right;\n",
       "    }\n",
       "</style>\n",
       "<table border=\"1\" class=\"dataframe\">\n",
       "  <thead>\n",
       "    <tr style=\"text-align: right;\">\n",
       "      <th></th>\n",
       "      <th>courts</th>\n",
       "      <th>barb2</th>\n",
       "      <th>prsexp2</th>\n",
       "      <th>prscorr2</th>\n",
       "      <th>gdpw2</th>\n",
       "      <th>exprisk</th>\n",
       "      <th>corrisk</th>\n",
       "    </tr>\n",
       "    <tr>\n",
       "      <th>country</th>\n",
       "      <th></th>\n",
       "      <th></th>\n",
       "      <th></th>\n",
       "      <th></th>\n",
       "      <th></th>\n",
       "      <th></th>\n",
       "      <th></th>\n",
       "    </tr>\n",
       "  </thead>\n",
       "  <tbody>\n",
       "    <tr>\n",
       "      <th>Argentina</th>\n",
       "      <td>0</td>\n",
       "      <td>-0.720775</td>\n",
       "      <td>1</td>\n",
       "      <td>3</td>\n",
       "      <td>9.690170</td>\n",
       "      <td>4</td>\n",
       "      <td>2</td>\n",
       "    </tr>\n",
       "    <tr>\n",
       "      <th>Australia</th>\n",
       "      <td>1</td>\n",
       "      <td>-6.907755</td>\n",
       "      <td>5</td>\n",
       "      <td>4</td>\n",
       "      <td>10.304840</td>\n",
       "      <td>0</td>\n",
       "      <td>1</td>\n",
       "    </tr>\n",
       "    <tr>\n",
       "      <th>Austria</th>\n",
       "      <td>1</td>\n",
       "      <td>-4.910337</td>\n",
       "      <td>5</td>\n",
       "      <td>4</td>\n",
       "      <td>10.100940</td>\n",
       "      <td>0</td>\n",
       "      <td>1</td>\n",
       "    </tr>\n",
       "    <tr>\n",
       "      <th>Bangladesh</th>\n",
       "      <td>0</td>\n",
       "      <td>0.775975</td>\n",
       "      <td>1</td>\n",
       "      <td>0</td>\n",
       "      <td>8.379768</td>\n",
       "      <td>4</td>\n",
       "      <td>5</td>\n",
       "    </tr>\n",
       "    <tr>\n",
       "      <th>Belgium</th>\n",
       "      <td>1</td>\n",
       "      <td>-4.617344</td>\n",
       "      <td>5</td>\n",
       "      <td>4</td>\n",
       "      <td>10.250120</td>\n",
       "      <td>0</td>\n",
       "      <td>1</td>\n",
       "    </tr>\n",
       "  </tbody>\n",
       "</table>\n",
       "</div>"
      ],
      "text/plain": [
       "            courts     barb2  prsexp2  prscorr2      gdpw2  exprisk  corrisk\n",
       "country                                                                     \n",
       "Argentina        0 -0.720775        1         3   9.690170        4        2\n",
       "Australia        1 -6.907755        5         4  10.304840        0        1\n",
       "Austria          1 -4.910337        5         4  10.100940        0        1\n",
       "Bangladesh       0  0.775975        1         0   8.379768        4        5\n",
       "Belgium          1 -4.617344        5         4  10.250120        0        1"
      ]
     },
     "execution_count": 21,
     "metadata": {},
     "output_type": "execute_result"
    }
   ],
   "source": [
    "perisk.head()"
   ]
  },
  {
   "cell_type": "markdown",
   "metadata": {
    "slideshow": {
     "slide_type": "fragment"
    }
   },
   "source": [
    "We can even add multiple variables to our plot:"
   ]
  },
  {
   "cell_type": "code",
   "execution_count": 22,
   "metadata": {
    "execution": {
     "iopub.execute_input": "2024-07-03T14:22:59.325012Z",
     "iopub.status.busy": "2024-07-03T14:22:59.324872Z",
     "iopub.status.idle": "2024-07-03T14:22:59.380419Z",
     "shell.execute_reply": "2024-07-03T14:22:59.380035Z",
     "shell.execute_reply.started": "2024-07-03T14:22:59.325002Z"
    }
   },
   "outputs": [
    {
     "data": {
      "image/png": "[encoded data removed]",
      "text/plain": [
       "<Figure size 640x480 with 1 Axes>"
      ]
     },
     "metadata": {},
     "output_type": "display_data"
    }
   ],
   "source": [
    "# My code here\n",
    "fig, ax = plt.subplots()\n",
    "\n",
    "ax.hist(perisk['barb2'], bins = 10, histtype = 'step', label = \"barb2\")\n",
    "\n",
    "ax.hist(perisk['gdpw2'], bins = 10, histtype = 'step', label = \"gdpw2\")\n",
    "\n",
    "ax.legend()\n",
    "\n",
    "plt.show()"
   ]
  },
  {
   "cell_type": "markdown",
   "metadata": {
    "slideshow": {
     "slide_type": "slide"
    }
   },
   "source": [
    "**Exercise**: Create a histogram of tips and total bill."
   ]
  },
  {
   "cell_type": "code",
   "execution_count": 23,
   "metadata": {
    "execution": {
     "iopub.execute_input": "2024-07-03T14:22:59.381169Z",
     "iopub.status.busy": "2024-07-03T14:22:59.381068Z",
     "iopub.status.idle": "2024-07-03T14:22:59.383010Z",
     "shell.execute_reply": "2024-07-03T14:22:59.382694Z",
     "shell.execute_reply.started": "2024-07-03T14:22:59.381161Z"
    },
    "slideshow": {
     "slide_type": "fragment"
    }
   },
   "outputs": [],
   "source": [
    "## Your code here"
   ]
  },
  {
   "cell_type": "markdown",
   "metadata": {
    "slideshow": {
     "slide_type": "slide"
    }
   },
   "source": [
    "## Box-plots\n",
    "\n",
    "To visualize numeric variables, the box-plots are also great plots:"
   ]
  },
  {
   "cell_type": "code",
   "execution_count": 24,
   "metadata": {
    "execution": {
     "iopub.execute_input": "2024-07-03T14:22:59.383435Z",
     "iopub.status.busy": "2024-07-03T14:22:59.383351Z",
     "iopub.status.idle": "2024-07-03T14:22:59.423483Z",
     "shell.execute_reply": "2024-07-03T14:22:59.423159Z",
     "shell.execute_reply.started": "2024-07-03T14:22:59.383428Z"
    },
    "slideshow": {
     "slide_type": "fragment"
    }
   },
   "outputs": [
    {
     "data": {
      "image/png": "[encoded data removed]",
      "text/plain": [
       "<Figure size 640x480 with 1 Axes>"
      ]
     },
     "metadata": {},
     "output_type": "display_data"
    }
   ],
   "source": [
    "# My code here\n",
    "fig, ax = plt.subplots()\n",
    "\n",
    "ax.boxplot(uspop['uspop'])\n",
    "\n",
    "plt.show()"
   ]
  },
  {
   "cell_type": "markdown",
   "metadata": {
    "slideshow": {
     "slide_type": "slide"
    }
   },
   "source": [
    "**Exercise**: Create a boxplot of tips and total bill."
   ]
  },
  {
   "cell_type": "code",
   "execution_count": 25,
   "metadata": {
    "execution": {
     "iopub.execute_input": "2024-07-03T14:22:59.424006Z",
     "iopub.status.busy": "2024-07-03T14:22:59.423919Z",
     "iopub.status.idle": "2024-07-03T14:22:59.426456Z",
     "shell.execute_reply": "2024-07-03T14:22:59.426169Z",
     "shell.execute_reply.started": "2024-07-03T14:22:59.423998Z"
    },
    "slideshow": {
     "slide_type": "fragment"
    }
   },
   "outputs": [],
   "source": [
    "## Your code here"
   ]
  },
  {
   "cell_type": "markdown",
   "metadata": {
    "slideshow": {
     "slide_type": "slide"
    }
   },
   "source": [
    "## Scatter-plots\n",
    "\n",
    "Scatter-plots are great to display numeric x numeric relationships."
   ]
  },
  {
   "cell_type": "code",
   "execution_count": 26,
   "metadata": {
    "execution": {
     "iopub.execute_input": "2024-07-03T14:22:59.426879Z",
     "iopub.status.busy": "2024-07-03T14:22:59.426805Z",
     "iopub.status.idle": "2024-07-03T14:22:59.476131Z",
     "shell.execute_reply": "2024-07-03T14:22:59.475800Z",
     "shell.execute_reply.started": "2024-07-03T14:22:59.426872Z"
    },
    "slideshow": {
     "slide_type": "fragment"
    }
   },
   "outputs": [
    {
     "data": {
      "image/png": "[encoded data removed]",
      "text/plain": [
       "<Figure size 640x480 with 1 Axes>"
      ]
     },
     "metadata": {},
     "output_type": "display_data"
    }
   ],
   "source": [
    "# My code here\n",
    "fig, ax = plt.subplots()\n",
    "\n",
    "ax.scatter(perisk['barb2'], perisk['gdpw2'])\n",
    "\n",
    "plt.show()"
   ]
  },
  {
   "cell_type": "markdown",
   "metadata": {
    "slideshow": {
     "slide_type": "slide"
    }
   },
   "source": [
    "**Exercise**: Plot a scatter of total bill x tip in the tips dataset."
   ]
  },
  {
   "cell_type": "code",
   "execution_count": 27,
   "metadata": {
    "execution": {
     "iopub.execute_input": "2024-07-03T14:22:59.476762Z",
     "iopub.status.busy": "2024-07-03T14:22:59.476665Z",
     "iopub.status.idle": "2024-07-03T14:22:59.478627Z",
     "shell.execute_reply": "2024-07-03T14:22:59.478195Z",
     "shell.execute_reply.started": "2024-07-03T14:22:59.476754Z"
    },
    "scrolled": true,
    "slideshow": {
     "slide_type": "fragment"
    }
   },
   "outputs": [],
   "source": [
    "## Your code here"
   ]
  },
  {
   "cell_type": "markdown",
   "metadata": {
    "slideshow": {
     "slide_type": "slide"
    }
   },
   "source": [
    "# Data Visualization with Seaborn"
   ]
  },
  {
   "cell_type": "markdown",
   "metadata": {
    "slideshow": {
     "slide_type": "slide"
    }
   },
   "source": [
    "## Plotting Data 101\n",
    "\n",
    "The best way to explore the data is to plot it. However, not all plots are suitable for the variables we want to describe. Starting with a single variable, the first question is what type of variable we are talking about?\n",
    "\n",
    "Types of variables:\n",
    "\n",
    "- `Quantitative` variables: represent measurement.\n",
    "    \n",
    "    + `Discrete`: number of children, age in years, etc.\n",
    "    \n",
    "    + `Continuous`: income, height, GDP per capita, etc.\n",
    "\n",
    "- `Categorical` variables: represent discrete variation\n",
    "\n",
    "    + `Binary`: voted for Trump, smokes or not, etc.\n",
    "    \n",
    "    + `Nominal`: species names, a candidate supported in the primaries, etc.\n",
    "    \n",
    "    + `Ordinal`: schooling, grade, risk, etc.\n",
    "\n",
    "For each variable type, there are specific descriptive stats and plots. Below, see an example of the difference between using the `right` and `wrong` descriptive stats for continuous and binary variables."
   ]
  },
  {
   "cell_type": "code",
   "execution_count": 7,
   "metadata": {
    "execution": {
     "iopub.execute_input": "2024-07-03T14:22:58.884482Z",
     "iopub.status.busy": "2024-07-03T14:22:58.884382Z",
     "iopub.status.idle": "2024-07-03T14:22:58.891527Z",
     "shell.execute_reply": "2024-07-03T14:22:58.891194Z",
     "shell.execute_reply.started": "2024-07-03T14:22:58.884474Z"
    },
    "slideshow": {
     "slide_type": "slide"
    }
   },
   "outputs": [
    {
     "data": {
      "text/plain": [
       "count    62.000000\n",
       "mean      9.041875\n",
       "std       0.970264\n",
       "min       7.029973\n",
       "25%       8.381027\n",
       "50%       9.185412\n",
       "75%       9.889280\n",
       "max      10.410180\n",
       "Name: gdpw2, dtype: float64"
      ]
     },
     "execution_count": 7,
     "metadata": {},
     "output_type": "execute_result"
    }
   ],
   "source": [
    "# Summary stats for a continuous variable (good)\n",
    "perisk['gdpw2'].describe()"
   ]
  },
  {
   "cell_type": "code",
   "execution_count": 8,
   "metadata": {
    "execution": {
     "iopub.execute_input": "2024-07-03T14:22:58.892394Z",
     "iopub.status.busy": "2024-07-03T14:22:58.892307Z",
     "iopub.status.idle": "2024-07-03T14:22:58.895379Z",
     "shell.execute_reply": "2024-07-03T14:22:58.895068Z",
     "shell.execute_reply.started": "2024-07-03T14:22:58.892386Z"
    },
    "slideshow": {
     "slide_type": "slide"
    }
   },
   "outputs": [
    {
     "data": {
      "text/plain": [
       "gdpw2\n",
       "9.690170     1\n",
       "9.882724     1\n",
       "7.029973     1\n",
       "9.178953     1\n",
       "9.661735     1\n",
       "            ..\n",
       "8.392310     1\n",
       "9.368114     1\n",
       "9.891465     1\n",
       "10.067770    1\n",
       "7.965893     1\n",
       "Name: count, Length: 62, dtype: int64"
      ]
     },
     "execution_count": 8,
     "metadata": {},
     "output_type": "execute_result"
    }
   ],
   "source": [
    "# Frequency table for a continuous variable (bad)\n",
    "perisk['gdpw2'].value_counts()"
   ]
  },
  {
   "cell_type": "code",
   "execution_count": 9,
   "metadata": {
    "execution": {
     "iopub.execute_input": "2024-07-03T14:22:58.895911Z",
     "iopub.status.busy": "2024-07-03T14:22:58.895774Z",
     "iopub.status.idle": "2024-07-03T14:22:58.899059Z",
     "shell.execute_reply": "2024-07-03T14:22:58.898827Z",
     "shell.execute_reply.started": "2024-07-03T14:22:58.895901Z"
    },
    "slideshow": {
     "slide_type": "slide"
    }
   },
   "outputs": [
    {
     "data": {
      "text/plain": [
       "count    62.000000\n",
       "mean      0.451613\n",
       "std       0.501716\n",
       "min       0.000000\n",
       "25%       0.000000\n",
       "50%       0.000000\n",
       "75%       1.000000\n",
       "max       1.000000\n",
       "Name: courts, dtype: float64"
      ]
     },
     "execution_count": 9,
     "metadata": {},
     "output_type": "execute_result"
    }
   ],
   "source": [
    "# Summary stats for a binary variable (bad)\n",
    "perisk['courts'].describe()"
   ]
  },
  {
   "cell_type": "code",
   "execution_count": 10,
   "metadata": {
    "execution": {
     "iopub.execute_input": "2024-07-03T14:22:58.899619Z",
     "iopub.status.busy": "2024-07-03T14:22:58.899498Z",
     "iopub.status.idle": "2024-07-03T14:22:58.902064Z",
     "shell.execute_reply": "2024-07-03T14:22:58.901747Z",
     "shell.execute_reply.started": "2024-07-03T14:22:58.899612Z"
    },
    "slideshow": {
     "slide_type": "slide"
    }
   },
   "outputs": [
    {
     "data": {
      "text/plain": [
       "courts\n",
       "0    34\n",
       "1    28\n",
       "Name: count, dtype: int64"
      ]
     },
     "execution_count": 10,
     "metadata": {},
     "output_type": "execute_result"
    }
   ],
   "source": [
    "# Frequency table for a binary variable (good)\n",
    "perisk['courts'].value_counts()"
   ]
  },
  {
   "cell_type": "markdown",
   "metadata": {
    "jp-MarkdownHeadingCollapsed": true,
    "slideshow": {
     "slide_type": "slide"
    }
   },
   "source": [
    "## Seaborn\n",
    "\n",
    "**`Seaborn`** is a data visualization library built on the top of `matplotlib`. It was created by [Micheal Waskon at the Center for Neural Science, New York University](https://joss.theoj.org/papers/10.21105/joss.03021).\n",
    "\n",
    "**`Seaborn`** has all the attributes of the `matplotlib` library (it is a child class), making it considerably easy to plot data using Python.\n",
    "\n",
    "We will learn some of these plots in this class and a few customizations. More about `Seaborn` can be found in [here](https://seaborn.pydata.org)."
   ]
  },
  {
   "cell_type": "markdown",
   "metadata": {
    "jp-MarkdownHeadingCollapsed": true,
    "slideshow": {
     "slide_type": "slide"
    }
   },
   "source": [
    "## Seaborn\n",
    "\n",
    "Below you can find a list of functions that we can use to plot data on `Seaborn`.\n",
    "\n",
    "![alt image](https://seaborn.pydata.org/_images/function_overview_8_0.png)"
   ]
  },
  {
   "cell_type": "markdown",
   "metadata": {
    "slideshow": {
     "slide_type": "slide"
    }
   },
   "source": [
    "## Univariate Plots\n",
    "\n",
    "*Univariate plots* are plots for single variables.\n",
    "\n",
    "### Quantitative Variables: Histograms\n",
    "\n",
    "Starting with numerical variables, one suitable plot is the *histogram*. It breaks the numerical values into brackets and counts how many values are within each bracket.\n",
    "\n",
    "The syntax is:\n",
    "\n",
    "```\n",
    "sns.displot(data = the_data_frame,\n",
    "    x = 'the_variable',\n",
    "    kind = 'hist',\n",
    "    kde = [..True or False..], \n",
    "    rug = [..True or False..],\n",
    "    bins = [..number of bins..], \n",
    "    stat : [..{\"count\", \"density\", \"probability\"}..],\n",
    "    [..among others..])\n",
    "```\n",
    "\n",
    "Let's plot a histogram for the Log of GDP per capita (`gdpw2`)?"
   ]
  },
  {
   "cell_type": "code",
   "execution_count": 28,
   "metadata": {
    "execution": {
     "iopub.execute_input": "2024-07-03T14:22:59.479201Z",
     "iopub.status.busy": "2024-07-03T14:22:59.479113Z",
     "iopub.status.idle": "2024-07-03T14:22:59.630014Z",
     "shell.execute_reply": "2024-07-03T14:22:59.628659Z",
     "shell.execute_reply.started": "2024-07-03T14:22:59.479194Z"
    },
    "slideshow": {
     "slide_type": "slide"
    }
   },
   "outputs": [
    {
     "data": {
      "image/png": "[encoded data removed]",
      "text/plain": [
       "<Figure size 500x500 with 1 Axes>"
      ]
     },
     "metadata": {},
     "output_type": "display_data"
    }
   ],
   "source": [
    "g = sns.displot(data = perisk, \n",
    "                x = 'gdpw2',\n",
    "                kind = 'hist',\n",
    "                kde = True,\n",
    "                kde_kws = {'bw_adjust': 0.5})\n",
    "plt.show()"
   ]
  },
  {
   "cell_type": "markdown",
   "metadata": {
    "slideshow": {
     "slide_type": "slide"
    }
   },
   "source": [
    "### Customizations\n",
    "\n",
    "We can easily customize the entire plot:\n",
    "\n",
    "1. **Main title**: `plt.title('title here')`\n",
    "\n",
    "2. **X-axis title**: `g.set_xlabels('text')` or `plt.xlabel('text')`\n",
    "\n",
    "3. **Y-axis title**: `g.set_ylabels('text')` or `plt.ylabel('text')`\n",
    "\n",
    "4. **Style**: 'white', 'dark', 'whitegrid', 'darkgrid', and 'ticks'. Usage: `sns.set_style('stylename')`\n",
    "\n",
    "5. Remove the spine: `g.despine(left = True)`\n",
    "\n",
    "6. **Current Palette + display the palette**: `sns.palplot(sns.color_palette())`\n",
    "\n",
    "7. **Which palettes**: `sns.palettes.SEABORN_PALETTES` and to change, use `set_palette('palette')`\n",
    "\n",
    "8. **Save figure**: instead of `plt.show()` use `plt.savefig('figname.png', transparent = False)`.\n",
    "\n",
    "9. **Context**: set the context between 'paper', 'notebook', 'talk', and 'poster'. Use `sns.set_context('context here')`\n",
    "\n",
    "There are even more customization that we can do. Please check the [seaborn documentation](https://seaborn.pydata.org/tutorial/function_overview.html) for more details."
   ]
  },
  {
   "cell_type": "code",
   "execution_count": 29,
   "metadata": {
    "execution": {
     "iopub.execute_input": "2024-07-03T14:22:59.631719Z",
     "iopub.status.busy": "2024-07-03T14:22:59.631078Z",
     "iopub.status.idle": "2024-07-03T14:22:59.812093Z",
     "shell.execute_reply": "2024-07-03T14:22:59.811232Z",
     "shell.execute_reply.started": "2024-07-03T14:22:59.631699Z"
    },
    "slideshow": {
     "slide_type": "slide"
    }
   },
   "outputs": [
    {
     "data": {
      "image/png": "[encoded data removed]",
      "text/plain": [
       "<Figure size 500x500 with 1 Axes>"
      ]
     },
     "metadata": {},
     "output_type": "display_data"
    }
   ],
   "source": [
    "# My code here\n",
    "sns.set_context('notebook')\n",
    "g = sns.displot(data = perisk, \n",
    "                x = 'gdpw2', \n",
    "                kind = 'hist', \n",
    "                rug = True, \n",
    "                kde = True,\n",
    "                stat = 'probability')\n",
    "g.despine(left = True)\n",
    "sns.set_style('dark')\n",
    "g.set_xlabels('Log of GDP per capita')\n",
    "plt.title('Histogram with KDE of Log of GDP per capita')\n",
    "plt.show()"
   ]
  },
  {
   "cell_type": "markdown",
   "metadata": {
    "slideshow": {
     "slide_type": "slide"
    }
   },
   "source": [
    "**Exercise**: Using the histogram, describe the variables `totbill` and `tip` in the `tips` dataset."
   ]
  },
  {
   "cell_type": "code",
   "execution_count": 30,
   "metadata": {
    "execution": {
     "iopub.execute_input": "2024-07-03T14:22:59.813779Z",
     "iopub.status.busy": "2024-07-03T14:22:59.813178Z",
     "iopub.status.idle": "2024-07-03T14:22:59.816455Z",
     "shell.execute_reply": "2024-07-03T14:22:59.815699Z",
     "shell.execute_reply.started": "2024-07-03T14:22:59.813754Z"
    },
    "slideshow": {
     "slide_type": "fragment"
    }
   },
   "outputs": [],
   "source": [
    "## Your code here"
   ]
  },
  {
   "cell_type": "markdown",
   "metadata": {
    "slideshow": {
     "slide_type": "slide"
    }
   },
   "source": [
    "### Categorical Variables: Countplot\n",
    "\n",
    "Countplots are suitable for displaying categorical variables. \n",
    "\n",
    "The syntax is:\n",
    "\n",
    "```\n",
    "sns.catplot(\n",
    "    data = the_data_frame,\n",
    "    x = 'the_variable', \n",
    "    kind = 'count')\n",
    "```\n",
    "\n",
    "Let's check the risk of expropriation in each of the countries in 1992."
   ]
  },
  {
   "cell_type": "code",
   "execution_count": 31,
   "metadata": {
    "execution": {
     "iopub.execute_input": "2024-07-03T14:22:59.818245Z",
     "iopub.status.busy": "2024-07-03T14:22:59.817663Z",
     "iopub.status.idle": "2024-07-03T14:22:59.996086Z",
     "shell.execute_reply": "2024-07-03T14:22:59.995729Z",
     "shell.execute_reply.started": "2024-07-03T14:22:59.818224Z"
    },
    "slideshow": {
     "slide_type": "fragment"
    }
   },
   "outputs": [
    {
     "data": {
      "image/png": "[encoded data removed]",
      "text/plain": [
       "<Figure size 512.222x500 with 1 Axes>"
      ]
     },
     "metadata": {},
     "output_type": "display_data"
    }
   ],
   "source": [
    "# My code here\n",
    "sns.catplot(\n",
    "    data = perisk, \n",
    "    x = 'prsexp2', \n",
    "    kind = 'count')\n",
    "plt.show()"
   ]
  },
  {
   "cell_type": "markdown",
   "metadata": {
    "slideshow": {
     "slide_type": "slide"
    }
   },
   "source": [
    "### Categorical Variables: Countplot\n",
    "\n",
    "All the customizations that we learn apply here as well. We can use them to prettify this plot. \n",
    "\n",
    "However, since the scale is out of order, we can change the order of the x-axis values using the `order` parameter. \n",
    "\n",
    "Even more, for `ordinal` data, it is customary to use a sequential color scheme, i.e., it gets darker as we increase the categories. \n",
    "\n",
    "We can use several palettes:\n",
    "\n",
    "1. `Blues`\n",
    "2. `Greys`\n",
    "3. `PuRd`: Light Purple to Dark Red\n",
    "4. `GnBu`: Light Green to Dark Blue\n",
    "\n",
    "Among others. The syntax to create the color scheme is:\n",
    "\n",
    "```\n",
    "sns.set_palette(\n",
    "    sns.color_palette(\"color_scheme\", # If want revert add '_r'\n",
    "                      [..number_of_colors or as_cmap=True..])\n",
    ")\n",
    "```\n",
    "\n",
    "For more about color palettes, please check [here](https://seaborn.pydata.org/tutorial/color_palettes.html)."
   ]
  },
  {
   "cell_type": "code",
   "execution_count": 32,
   "metadata": {
    "execution": {
     "iopub.execute_input": "2024-07-03T14:22:59.996683Z",
     "iopub.status.busy": "2024-07-03T14:22:59.996598Z",
     "iopub.status.idle": "2024-07-03T14:23:00.113584Z",
     "shell.execute_reply": "2024-07-03T14:23:00.113237Z",
     "shell.execute_reply.started": "2024-07-03T14:22:59.996675Z"
    },
    "slideshow": {
     "slide_type": "slide"
    }
   },
   "outputs": [
    {
     "data": {
      "image/png": "[encoded data removed]",
      "text/plain": [
       "<Figure size 512.222x500 with 1 Axes>"
      ]
     },
     "metadata": {},
     "output_type": "display_data"
    }
   ],
   "source": [
    "# My code here\n",
    "sns.set_palette(sns.color_palette(\"Blues\", 6))\n",
    "sns.set_style('white')\n",
    "cat_order = [5, 4, 3, 2, 1]\n",
    "sns.catplot(x = 'prsexp2', \n",
    "            data = perisk, \n",
    "            kind = 'count', \n",
    "            order = cat_order)\n",
    "plt.title('Expropriation Risk in 62 countries in 1992')\n",
    "plt.show()\n",
    "sns.set_palette('colorblind')"
   ]
  },
  {
   "cell_type": "markdown",
   "metadata": {
    "slideshow": {
     "slide_type": "slide"
    }
   },
   "source": [
    "**Exercise**: Do a countplot for the days (`day`) in the `tips` dataset."
   ]
  },
  {
   "cell_type": "code",
   "execution_count": 33,
   "metadata": {
    "execution": {
     "iopub.execute_input": "2024-07-03T14:23:00.114153Z",
     "iopub.status.busy": "2024-07-03T14:23:00.114051Z",
     "iopub.status.idle": "2024-07-03T14:23:00.116176Z",
     "shell.execute_reply": "2024-07-03T14:23:00.115822Z",
     "shell.execute_reply.started": "2024-07-03T14:23:00.114145Z"
    },
    "slideshow": {
     "slide_type": "fragment"
    }
   },
   "outputs": [],
   "source": [
    "## Your answer here"
   ]
  },
  {
   "cell_type": "markdown",
   "metadata": {
    "slideshow": {
     "slide_type": "slide"
    }
   },
   "source": [
    "## Bivariate Plots\n",
    "\n",
    "Univariate plots are excellent. But in reality, most of the exciting questions in science come from combinations of multiple variables (e.g., cause and effect, correlations, relationships, etc). \n",
    "\n",
    "For two variables' plots there are three combinations:\n",
    "\n",
    "- **discrete x discrete**: mosaic plot\n",
    "\n",
    "- **discrete x continuous**: several useful types\n",
    "\n",
    "- **continuous x continuous**: scatterplots\n",
    "\n",
    "### Discrete x Discrete Variables: Mosaicplot\n",
    "\n",
    "The mosaic plot gives an idea of how the ratio of one variable changes when we change another variable. For instance, one empirical question that we can ask about the `perisk` dataset is:\n",
    "\n",
    "**Do countries with independent courts have less corruption than countries without independent courts?**\n",
    "\n",
    "The code to test this idea takes two steps. First, we need to prep the data. Then, we plot the data using the `kind = 'bar'` in the `catplot` function.\n",
    "\n",
    "We need to create a table with cumulative values for the two variables we want to study to prep the data. Here is an example of how to do that:\n",
    "\n",
    "```\n",
    "tab = pd.crosstab(df.v1, df.v2, normalize='index') # 1: Crosstab\n",
    "tab = tab.cumsum(axis = 1).\\     # 2: Cummulative sum\n",
    "      stack().\\                  # 3: Stack the results\n",
    "      reset_index(name = 'dist') # 4: Reset the indexes\n",
    "tab\n",
    "```\n",
    "\n",
    "Then, we need to plot the results using `catplot`:\n",
    "\n",
    "```\n",
    "sns.catplot(data = tab,\n",
    "            x = 'v1', # More variation here\n",
    "            y = 'dist', # Proportions\n",
    "            hue = 'v2', # Less variation here\n",
    "            # Comment hue_order if not displaying well\n",
    "            hue_order = tab.v2.unique()[::-1], \n",
    "            dodge = False,\n",
    "            kind = 'bar')\n",
    "plt.show()\n",
    "```\n",
    "\n",
    "*Full disclosure*: A function exists that builds mosaic plots in one line of code. However, I find the results very ugly. You can Google `mosaic plot in python` and check that yourself."
   ]
  },
  {
   "cell_type": "code",
   "execution_count": 34,
   "metadata": {
    "execution": {
     "iopub.execute_input": "2024-07-03T14:23:00.116704Z",
     "iopub.status.busy": "2024-07-03T14:23:00.116624Z",
     "iopub.status.idle": "2024-07-03T14:23:00.126176Z",
     "shell.execute_reply": "2024-07-03T14:23:00.125739Z",
     "shell.execute_reply.started": "2024-07-03T14:23:00.116697Z"
    },
    "slideshow": {
     "slide_type": "slide"
    }
   },
   "outputs": [
    {
     "data": {
      "text/html": [
       "<div>\n",
       "<style scoped>\n",
       "    .dataframe tbody tr th:only-of-type {\n",
       "        vertical-align: middle;\n",
       "    }\n",
       "\n",
       "    .dataframe tbody tr th {\n",
       "        vertical-align: top;\n",
       "    }\n",
       "\n",
       "    .dataframe thead th {\n",
       "        text-align: right;\n",
       "    }\n",
       "</style>\n",
       "<table border=\"1\" class=\"dataframe\">\n",
       "  <thead>\n",
       "    <tr style=\"text-align: right;\">\n",
       "      <th></th>\n",
       "      <th>prscorr2</th>\n",
       "      <th>courts</th>\n",
       "      <th>dist</th>\n",
       "    </tr>\n",
       "  </thead>\n",
       "  <tbody>\n",
       "    <tr>\n",
       "      <th>0</th>\n",
       "      <td>0</td>\n",
       "      <td>0</td>\n",
       "      <td>1.000000</td>\n",
       "    </tr>\n",
       "    <tr>\n",
       "      <th>1</th>\n",
       "      <td>0</td>\n",
       "      <td>1</td>\n",
       "      <td>1.000000</td>\n",
       "    </tr>\n",
       "    <tr>\n",
       "      <th>2</th>\n",
       "      <td>1</td>\n",
       "      <td>0</td>\n",
       "      <td>1.000000</td>\n",
       "    </tr>\n",
       "    <tr>\n",
       "      <th>3</th>\n",
       "      <td>1</td>\n",
       "      <td>1</td>\n",
       "      <td>1.000000</td>\n",
       "    </tr>\n",
       "    <tr>\n",
       "      <th>4</th>\n",
       "      <td>2</td>\n",
       "      <td>0</td>\n",
       "      <td>0.722222</td>\n",
       "    </tr>\n",
       "    <tr>\n",
       "      <th>5</th>\n",
       "      <td>2</td>\n",
       "      <td>1</td>\n",
       "      <td>1.000000</td>\n",
       "    </tr>\n",
       "    <tr>\n",
       "      <th>6</th>\n",
       "      <td>3</td>\n",
       "      <td>0</td>\n",
       "      <td>0.272727</td>\n",
       "    </tr>\n",
       "    <tr>\n",
       "      <th>7</th>\n",
       "      <td>3</td>\n",
       "      <td>1</td>\n",
       "      <td>1.000000</td>\n",
       "    </tr>\n",
       "    <tr>\n",
       "      <th>8</th>\n",
       "      <td>4</td>\n",
       "      <td>0</td>\n",
       "      <td>0.250000</td>\n",
       "    </tr>\n",
       "    <tr>\n",
       "      <th>9</th>\n",
       "      <td>4</td>\n",
       "      <td>1</td>\n",
       "      <td>1.000000</td>\n",
       "    </tr>\n",
       "    <tr>\n",
       "      <th>10</th>\n",
       "      <td>5</td>\n",
       "      <td>0</td>\n",
       "      <td>0.000000</td>\n",
       "    </tr>\n",
       "    <tr>\n",
       "      <th>11</th>\n",
       "      <td>5</td>\n",
       "      <td>1</td>\n",
       "      <td>1.000000</td>\n",
       "    </tr>\n",
       "  </tbody>\n",
       "</table>\n",
       "</div>"
      ],
      "text/plain": [
       "    prscorr2  courts      dist\n",
       "0          0       0  1.000000\n",
       "1          0       1  1.000000\n",
       "2          1       0  1.000000\n",
       "3          1       1  1.000000\n",
       "4          2       0  0.722222\n",
       "5          2       1  1.000000\n",
       "6          3       0  0.272727\n",
       "7          3       1  1.000000\n",
       "8          4       0  0.250000\n",
       "9          4       1  1.000000\n",
       "10         5       0  0.000000\n",
       "11         5       1  1.000000"
      ]
     },
     "execution_count": 34,
     "metadata": {},
     "output_type": "execute_result"
    }
   ],
   "source": [
    "## Prepping the data\n",
    "tab = pd.crosstab(perisk.prscorr2, perisk.courts, normalize = 'index')\n",
    "tab = tab.cumsum(axis = 1).\\\n",
    "      stack().\\\n",
    "      reset_index(name = 'dist')\n",
    "tab"
   ]
  },
  {
   "cell_type": "code",
   "execution_count": 35,
   "metadata": {
    "execution": {
     "iopub.execute_input": "2024-07-03T14:23:00.126767Z",
     "iopub.status.busy": "2024-07-03T14:23:00.126670Z",
     "iopub.status.idle": "2024-07-03T14:23:00.263813Z",
     "shell.execute_reply": "2024-07-03T14:23:00.263389Z",
     "shell.execute_reply.started": "2024-07-03T14:23:00.126760Z"
    },
    "slideshow": {
     "slide_type": "slide"
    }
   },
   "outputs": [
    {
     "data": {
      "image/png": "[encoded data removed]",
      "text/plain": [
       "<Figure size 563.5x500 with 1 Axes>"
      ]
     },
     "metadata": {},
     "output_type": "display_data"
    }
   ],
   "source": [
    "## Doing the plot\n",
    "sns.catplot(data = tab,\n",
    "            x = 'prscorr2', # More variation here\n",
    "            y = 'dist',     # Proportions\n",
    "            hue = 'courts', # Less variation here\n",
    "            # Comment here if not displaying well\n",
    "            hue_order = tab.courts.unique()[::-1], \n",
    "            dodge = False,\n",
    "            kind = 'bar',\n",
    "            legend_out = True)\n",
    "plt.show()"
   ]
  },
  {
   "cell_type": "markdown",
   "metadata": {
    "slideshow": {
     "slide_type": "slide"
    }
   },
   "source": [
    "**Exercise**: Do the number of smokers (variable `smoker`) vary by the weekday (`day`)?"
   ]
  },
  {
   "cell_type": "code",
   "execution_count": 36,
   "metadata": {
    "execution": {
     "iopub.execute_input": "2024-07-03T14:23:00.264359Z",
     "iopub.status.busy": "2024-07-03T14:23:00.264274Z",
     "iopub.status.idle": "2024-07-03T14:23:00.269266Z",
     "shell.execute_reply": "2024-07-03T14:23:00.268943Z",
     "shell.execute_reply.started": "2024-07-03T14:23:00.264351Z"
    },
    "slideshow": {
     "slide_type": "fragment"
    }
   },
   "outputs": [
    {
     "data": {
      "text/html": [
       "<div>\n",
       "<style scoped>\n",
       "    .dataframe tbody tr th:only-of-type {\n",
       "        vertical-align: middle;\n",
       "    }\n",
       "\n",
       "    .dataframe tbody tr th {\n",
       "        vertical-align: top;\n",
       "    }\n",
       "\n",
       "    .dataframe thead th {\n",
       "        text-align: right;\n",
       "    }\n",
       "</style>\n",
       "<table border=\"1\" class=\"dataframe\">\n",
       "  <thead>\n",
       "    <tr style=\"text-align: right;\">\n",
       "      <th></th>\n",
       "      <th>obs</th>\n",
       "      <th>totbill</th>\n",
       "      <th>tip</th>\n",
       "      <th>sex</th>\n",
       "      <th>smoker</th>\n",
       "      <th>day</th>\n",
       "      <th>time</th>\n",
       "      <th>size</th>\n",
       "    </tr>\n",
       "  </thead>\n",
       "  <tbody>\n",
       "    <tr>\n",
       "      <th>0</th>\n",
       "      <td>1</td>\n",
       "      <td>16.99</td>\n",
       "      <td>1.01</td>\n",
       "      <td>F</td>\n",
       "      <td>No</td>\n",
       "      <td>Sun</td>\n",
       "      <td>Night</td>\n",
       "      <td>2</td>\n",
       "    </tr>\n",
       "    <tr>\n",
       "      <th>1</th>\n",
       "      <td>2</td>\n",
       "      <td>10.34</td>\n",
       "      <td>1.66</td>\n",
       "      <td>M</td>\n",
       "      <td>No</td>\n",
       "      <td>Sun</td>\n",
       "      <td>Night</td>\n",
       "      <td>3</td>\n",
       "    </tr>\n",
       "    <tr>\n",
       "      <th>2</th>\n",
       "      <td>3</td>\n",
       "      <td>21.01</td>\n",
       "      <td>3.50</td>\n",
       "      <td>M</td>\n",
       "      <td>No</td>\n",
       "      <td>Sun</td>\n",
       "      <td>Night</td>\n",
       "      <td>3</td>\n",
       "    </tr>\n",
       "    <tr>\n",
       "      <th>3</th>\n",
       "      <td>4</td>\n",
       "      <td>23.68</td>\n",
       "      <td>3.31</td>\n",
       "      <td>M</td>\n",
       "      <td>No</td>\n",
       "      <td>Sun</td>\n",
       "      <td>Night</td>\n",
       "      <td>2</td>\n",
       "    </tr>\n",
       "    <tr>\n",
       "      <th>4</th>\n",
       "      <td>5</td>\n",
       "      <td>24.59</td>\n",
       "      <td>3.61</td>\n",
       "      <td>F</td>\n",
       "      <td>No</td>\n",
       "      <td>Sun</td>\n",
       "      <td>Night</td>\n",
       "      <td>4</td>\n",
       "    </tr>\n",
       "  </tbody>\n",
       "</table>\n",
       "</div>"
      ],
      "text/plain": [
       "   obs  totbill   tip sex smoker  day   time  size\n",
       "0    1    16.99  1.01   F     No  Sun  Night     2\n",
       "1    2    10.34  1.66   M     No  Sun  Night     3\n",
       "2    3    21.01  3.50   M     No  Sun  Night     3\n",
       "3    4    23.68  3.31   M     No  Sun  Night     2\n",
       "4    5    24.59  3.61   F     No  Sun  Night     4"
      ]
     },
     "execution_count": 36,
     "metadata": {},
     "output_type": "execute_result"
    }
   ],
   "source": [
    "## Your answers here\n",
    "tips.head()"
   ]
  },
  {
   "cell_type": "markdown",
   "metadata": {
    "slideshow": {
     "slide_type": "slide"
    }
   },
   "source": [
    "### Discrete x Continuous Variables: Boxplots, Swarmplots, Violinplots\n",
    "\n",
    "Suppose we want to test whether the data distribution varies based on a categorical variable. For example:\n",
    "\n",
    "**Do you think that having an independent judiciary affects the GDP per capita of a country?**\n",
    "\n",
    "We can check if this hypothesis makes sense by looking into the distribution of GDP per capita and segmenting it by the type of judicial institution.\n",
    "\n",
    "The syntax for building these plots is almost the same as making a single boxplot. The difference is that you add the categorical variable to one of the axes:\n",
    "\n",
    "```\n",
    "sns.catplot(\n",
    "    data = data_set, \n",
    "    x = 'categorical_variable',\n",
    "    y = 'continuous_variable',\n",
    "    kind = 'box') # Or 'violin', 'swarm', 'boxen', 'bar'..\n",
    "```"
   ]
  },
  {
   "cell_type": "code",
   "execution_count": 37,
   "metadata": {
    "execution": {
     "iopub.execute_input": "2024-07-03T14:23:00.270898Z",
     "iopub.status.busy": "2024-07-03T14:23:00.269895Z",
     "iopub.status.idle": "2024-07-03T14:23:00.413523Z",
     "shell.execute_reply": "2024-07-03T14:23:00.413226Z",
     "shell.execute_reply.started": "2024-07-03T14:23:00.270857Z"
    },
    "slideshow": {
     "slide_type": "slide"
    }
   },
   "outputs": [
    {
     "data": {
      "image/png": "[encoded data removed]",
      "text/plain": [
       "<Figure size 512.222x500 with 1 Axes>"
      ]
     },
     "metadata": {},
     "output_type": "display_data"
    }
   ],
   "source": [
    "# My code here\n",
    "sns.catplot(x = 'courts', \n",
    "            y = 'gdpw2', \n",
    "            data = perisk, \n",
    "            kind = 'box')\n",
    "plt.show()"
   ]
  },
  {
   "cell_type": "markdown",
   "metadata": {
    "slideshow": {
     "slide_type": "slide"
    }
   },
   "source": [
    "**Exercise**: Are the tips from smokers higher than tips from non-smokers? (the idea is that smokers would compensate non-smokers for the externality caused) Check that in the `tips` dataset."
   ]
  },
  {
   "cell_type": "code",
   "execution_count": 38,
   "metadata": {
    "execution": {
     "iopub.execute_input": "2024-07-03T14:23:00.414243Z",
     "iopub.status.busy": "2024-07-03T14:23:00.414140Z",
     "iopub.status.idle": "2024-07-03T14:23:00.416121Z",
     "shell.execute_reply": "2024-07-03T14:23:00.415846Z",
     "shell.execute_reply.started": "2024-07-03T14:23:00.414234Z"
    },
    "slideshow": {
     "slide_type": "fragment"
    }
   },
   "outputs": [],
   "source": [
    "## Your answers here"
   ]
  },
  {
   "cell_type": "markdown",
   "metadata": {
    "slideshow": {
     "slide_type": "slide"
    }
   },
   "source": [
    "### Continuous x Continuous Variables: Scatterplots and Regplots\n",
    "\n",
    "To plot two continuous variables, one against the other, we can use two functions. First, we can use the `relplot` function if we want to explore the relationship without fitting any trend line. The syntax is the following:\n",
    "\n",
    "```\n",
    "sns.relplot(data = data_set,\n",
    "            x = 'independent_axis_continuous_variable',\n",
    "            y = 'dependent_axis_continuous_variable',\n",
    "            hue = 'optional_categorical_to_color',\n",
    "            kind = 'scatter')\n",
    "```"
   ]
  },
  {
   "cell_type": "code",
   "execution_count": 39,
   "metadata": {
    "execution": {
     "iopub.execute_input": "2024-07-03T14:23:00.416592Z",
     "iopub.status.busy": "2024-07-03T14:23:00.416508Z",
     "iopub.status.idle": "2024-07-03T14:23:00.553279Z",
     "shell.execute_reply": "2024-07-03T14:23:00.552893Z",
     "shell.execute_reply.started": "2024-07-03T14:23:00.416585Z"
    },
    "slideshow": {
     "slide_type": "fragment"
    }
   },
   "outputs": [
    {
     "data": {
      "image/png": "[encoded data removed]",
      "text/plain": [
       "<Figure size 563.5x500 with 1 Axes>"
      ]
     },
     "metadata": {},
     "output_type": "display_data"
    }
   ],
   "source": [
    "# My code here\n",
    "sns.relplot(data = perisk,\n",
    "            x = 'barb2',\n",
    "            y = 'gdpw2',\n",
    "            hue = 'courts',\n",
    "            kind = 'scatter')\n",
    "plt.show()"
   ]
  },
  {
   "cell_type": "code",
   "execution_count": 40,
   "metadata": {
    "execution": {
     "iopub.execute_input": "2024-07-03T14:23:00.554004Z",
     "iopub.status.busy": "2024-07-03T14:23:00.553897Z",
     "iopub.status.idle": "2024-07-03T14:23:00.765215Z",
     "shell.execute_reply": "2024-07-03T14:23:00.764850Z",
     "shell.execute_reply.started": "2024-07-03T14:23:00.553996Z"
    }
   },
   "outputs": [
    {
     "data": {
      "image/png": "[encoded data removed]",
      "text/plain": [
       "<Figure size 1000x500 with 2 Axes>"
      ]
     },
     "metadata": {},
     "output_type": "display_data"
    }
   ],
   "source": [
    "# Or maybe you want to see it in two different plots\n",
    "sns.relplot(data = perisk,\n",
    "            x = 'barb2',\n",
    "            y = 'gdpw2',\n",
    "            col = 'courts',\n",
    "            kind = 'scatter')\n",
    "plt.show()"
   ]
  },
  {
   "cell_type": "markdown",
   "metadata": {
    "slideshow": {
     "slide_type": "slide"
    }
   },
   "source": [
    "## Continuos x Continuous\n",
    "\n",
    "And an excellent version of it, with distribution plots on the top and the left, can be built using the `jointplot` function:\n",
    "\n",
    "```\n",
    "sns.jointplot(data = data_set,\n",
    "              x = 'independent_axis_continuous_variable',\n",
    "              y = 'dependent_axis_continuous_variable',\n",
    "              hue = 'optional_categorical_to_color',\n",
    "              kind = 'scatter') # Or 'scatter', 'kde', 'hist', 'hex', 'reg', 'resid'\n",
    "```\n"
   ]
  },
  {
   "cell_type": "code",
   "execution_count": 41,
   "metadata": {
    "execution": {
     "iopub.execute_input": "2024-07-03T14:23:00.765787Z",
     "iopub.status.busy": "2024-07-03T14:23:00.765677Z",
     "iopub.status.idle": "2024-07-03T14:23:01.077879Z",
     "shell.execute_reply": "2024-07-03T14:23:01.077258Z",
     "shell.execute_reply.started": "2024-07-03T14:23:00.765779Z"
    },
    "slideshow": {
     "slide_type": "slide"
    }
   },
   "outputs": [
    {
     "data": {
      "image/png": "[encoded data removed]",
      "text/plain": [
       "<Figure size 600x600 with 3 Axes>"
      ]
     },
     "metadata": {},
     "output_type": "display_data"
    }
   ],
   "source": [
    "sns.jointplot(data = perisk,\n",
    "              x = \"barb2\", \n",
    "              y = \"gdpw2\",\n",
    "             hue = 'courts')\n",
    "plt.show()"
   ]
  },
  {
   "cell_type": "markdown",
   "metadata": {
    "slideshow": {
     "slide_type": "slide"
    }
   },
   "source": [
    "## Continuous x Continuous\n",
    "\n",
    "If you want to add a trend line, it is better to use `lmplot` (instead of 'reg' in the plot above). The syntax is the following:\n",
    "\n",
    "```\n",
    "sns.lmplot(data = data_set,\n",
    "    x = \"total_bill\", \n",
    "    y = \"tip\", \n",
    "    hue = \"smoker\",\n",
    "    logistic = ..False or True.., # Logistic fit for discrete y\n",
    "    order = ..polynomial order.., # Polynomial degree\n",
    "    lowess = ..False or True..,   # Lowess fit\n",
    "    ci = ..None..)                # Remove conf. int.\n",
    "```"
   ]
  },
  {
   "cell_type": "code",
   "execution_count": 42,
   "metadata": {
    "execution": {
     "iopub.execute_input": "2024-07-03T14:23:01.080710Z",
     "iopub.status.busy": "2024-07-03T14:23:01.079165Z",
     "iopub.status.idle": "2024-07-03T14:23:01.322427Z",
     "shell.execute_reply": "2024-07-03T14:23:01.322023Z",
     "shell.execute_reply.started": "2024-07-03T14:23:01.080688Z"
    },
    "slideshow": {
     "slide_type": "slide"
    }
   },
   "outputs": [
    {
     "data": {
      "image/png": "[encoded data removed]",
      "text/plain": [
       "<Figure size 563.5x500 with 1 Axes>"
      ]
     },
     "metadata": {},
     "output_type": "display_data"
    }
   ],
   "source": [
    "g = sns.lmplot(data = perisk,\n",
    "           x = \"barb2\", \n",
    "           y = \"gdpw2\", \n",
    "           hue = \"courts\")\n",
    "g.despine(left = True, bottom = True)\n",
    "plt.xlim(-7, 3)\n",
    "plt.show()"
   ]
  },
  {
   "cell_type": "markdown",
   "metadata": {
    "slideshow": {
     "slide_type": "slide"
    }
   },
   "source": [
    "**Exercise**: Are the tips related with total bill in the `tips` dataset?"
   ]
  },
  {
   "cell_type": "code",
   "execution_count": 43,
   "metadata": {
    "execution": {
     "iopub.execute_input": "2024-07-03T14:23:01.323124Z",
     "iopub.status.busy": "2024-07-03T14:23:01.323022Z",
     "iopub.status.idle": "2024-07-03T14:23:01.325045Z",
     "shell.execute_reply": "2024-07-03T14:23:01.324709Z",
     "shell.execute_reply.started": "2024-07-03T14:23:01.323115Z"
    },
    "slideshow": {
     "slide_type": "fragment"
    }
   },
   "outputs": [],
   "source": [
    "## Your answers here"
   ]
  },
  {
   "cell_type": "markdown",
   "metadata": {
    "slideshow": {
     "slide_type": "slide"
    }
   },
   "source": [
    "# Great job!!!"
   ]
  },
  {
   "cell_type": "markdown",
   "metadata": {
    "slideshow": {
     "slide_type": "slide"
    }
   },
   "source": [
    "## Extras\n",
    "\n",
    "Excellent job learning `seaborn`! It is an easy-to-use yet powerful package to generate lovely plots.\n",
    "\n",
    "Next, you should take a look at the following packages to keep developing your skills:\n",
    "\n",
    "- [`plotnine`](https://plotnine.readthedocs.io/en/stable/index.html#): Implements the ggplot *grammar of graphs* in python\n",
    "\n",
    "- [`cartopy`](https://github.com/SciTools/cartopy): Package to make maps in python.\n",
    "\n",
    "- [`plotly`](https://plotly.com): Builds interactive graphs in python (and other languages). Check also the [`dash`](https://dash.plotly.com/introduction) for plotly in python."
   ]
  },
  {
   "cell_type": "code",
   "execution_count": 44,
   "metadata": {
    "execution": {
     "iopub.execute_input": "2024-07-03T14:23:01.325594Z",
     "iopub.status.busy": "2024-07-03T14:23:01.325510Z",
     "iopub.status.idle": "2024-07-03T14:23:02.586334Z",
     "shell.execute_reply": "2024-07-03T14:23:02.585765Z",
     "shell.execute_reply.started": "2024-07-03T14:23:01.325587Z"
    },
    "slideshow": {
     "slide_type": "slide"
    }
   },
   "outputs": [
    {
     "ename": "HTTPError",
     "evalue": "HTTP Error 404: Not Found",
     "output_type": "error",
     "traceback": [
      "\u001b[0;31m---------------------------------------------------------------------------\u001b[0m",
      "\u001b[0;31mHTTPError\u001b[0m                                 Traceback (most recent call last)",
      "Cell \u001b[0;32mIn[44], line 11\u001b[0m\n\u001b[1;32m      1\u001b[0m \u001b[38;5;66;03m## Extra Datasets\u001b[39;00m\n\u001b[1;32m      2\u001b[0m \n\u001b[1;32m      3\u001b[0m \u001b[38;5;66;03m## Political Information Dataset\u001b[39;00m\n\u001b[0;32m   (...)\u001b[0m\n\u001b[1;32m      9\u001b[0m \u001b[38;5;66;03m# homeOwn         : Own house\u001b[39;00m\n\u001b[1;32m     10\u001b[0m \u001b[38;5;66;03m# others...\u001b[39;00m\n\u001b[0;32m---> 11\u001b[0m polinf \u001b[38;5;241m=\u001b[39m \u001b[43mpd\u001b[49m\u001b[38;5;241;43m.\u001b[39;49m\u001b[43mread_csv\u001b[49m\u001b[43m(\u001b[49m\u001b[38;5;124;43m'\u001b[39;49m\u001b[38;5;124;43mhttps://raw.githubusercontent.com/umbertomig/CSSBootCamp/main/datasets/pinf.csv\u001b[39;49m\u001b[38;5;124;43m'\u001b[39;49m\u001b[43m)\u001b[49m\n\u001b[1;32m     12\u001b[0m pinf_order \u001b[38;5;241m=\u001b[39m [\u001b[38;5;124m'\u001b[39m\u001b[38;5;124mVery Low\u001b[39m\u001b[38;5;124m'\u001b[39m, \u001b[38;5;124m'\u001b[39m\u001b[38;5;124mFairly Low\u001b[39m\u001b[38;5;124m'\u001b[39m, \u001b[38;5;124m'\u001b[39m\u001b[38;5;124mAverage\u001b[39m\u001b[38;5;124m'\u001b[39m, \u001b[38;5;124m'\u001b[39m\u001b[38;5;124mFairly High\u001b[39m\u001b[38;5;124m'\u001b[39m, \u001b[38;5;124m'\u001b[39m\u001b[38;5;124mVery High\u001b[39m\u001b[38;5;124m'\u001b[39m]\n\u001b[1;32m     13\u001b[0m polinf[\u001b[38;5;124m'\u001b[39m\u001b[38;5;124mpolInf\u001b[39m\u001b[38;5;124m'\u001b[39m] \u001b[38;5;241m=\u001b[39m pd\u001b[38;5;241m.\u001b[39mCategorical(polinf\u001b[38;5;241m.\u001b[39mpolInf, \n\u001b[1;32m     14\u001b[0m                                   ordered\u001b[38;5;241m=\u001b[39m\u001b[38;5;28;01mTrue\u001b[39;00m, \n\u001b[1;32m     15\u001b[0m                                   categories\u001b[38;5;241m=\u001b[39mpinf_order)\n",
      "File \u001b[0;32m/opt/miniconda3/envs/deepverse/lib/python3.9/site-packages/pandas/io/parsers/readers.py:1026\u001b[0m, in \u001b[0;36mread_csv\u001b[0;34m(filepath_or_buffer, sep, delimiter, header, names, index_col, usecols, dtype, engine, converters, true_values, false_values, skipinitialspace, skiprows, skipfooter, nrows, na_values, keep_default_na, na_filter, verbose, skip_blank_lines, parse_dates, infer_datetime_format, keep_date_col, date_parser, date_format, dayfirst, cache_dates, iterator, chunksize, compression, thousands, decimal, lineterminator, quotechar, quoting, doublequote, escapechar, comment, encoding, encoding_errors, dialect, on_bad_lines, delim_whitespace, low_memory, memory_map, float_precision, storage_options, dtype_backend)\u001b[0m\n\u001b[1;32m   1013\u001b[0m kwds_defaults \u001b[38;5;241m=\u001b[39m _refine_defaults_read(\n\u001b[1;32m   1014\u001b[0m     dialect,\n\u001b[1;32m   1015\u001b[0m     delimiter,\n\u001b[0;32m   (...)\u001b[0m\n\u001b[1;32m   1022\u001b[0m     dtype_backend\u001b[38;5;241m=\u001b[39mdtype_backend,\n\u001b[1;32m   1023\u001b[0m )\n\u001b[1;32m   1024\u001b[0m kwds\u001b[38;5;241m.\u001b[39mupdate(kwds_defaults)\n\u001b[0;32m-> 1026\u001b[0m \u001b[38;5;28;01mreturn\u001b[39;00m \u001b[43m_read\u001b[49m\u001b[43m(\u001b[49m\u001b[43mfilepath_or_buffer\u001b[49m\u001b[43m,\u001b[49m\u001b[43m \u001b[49m\u001b[43mkwds\u001b[49m\u001b[43m)\u001b[49m\n",
      "File \u001b[0;32m/opt/miniconda3/envs/deepverse/lib/python3.9/site-packages/pandas/io/parsers/readers.py:620\u001b[0m, in \u001b[0;36m_read\u001b[0;34m(filepath_or_buffer, kwds)\u001b[0m\n\u001b[1;32m    617\u001b[0m _validate_names(kwds\u001b[38;5;241m.\u001b[39mget(\u001b[38;5;124m\"\u001b[39m\u001b[38;5;124mnames\u001b[39m\u001b[38;5;124m\"\u001b[39m, \u001b[38;5;28;01mNone\u001b[39;00m))\n\u001b[1;32m    619\u001b[0m \u001b[38;5;66;03m# Create the parser.\u001b[39;00m\n\u001b[0;32m--> 620\u001b[0m parser \u001b[38;5;241m=\u001b[39m \u001b[43mTextFileReader\u001b[49m\u001b[43m(\u001b[49m\u001b[43mfilepath_or_buffer\u001b[49m\u001b[43m,\u001b[49m\u001b[43m \u001b[49m\u001b[38;5;241;43m*\u001b[39;49m\u001b[38;5;241;43m*\u001b[39;49m\u001b[43mkwds\u001b[49m\u001b[43m)\u001b[49m\n\u001b[1;32m    622\u001b[0m \u001b[38;5;28;01mif\u001b[39;00m chunksize \u001b[38;5;129;01mor\u001b[39;00m iterator:\n\u001b[1;32m    623\u001b[0m     \u001b[38;5;28;01mreturn\u001b[39;00m parser\n",
      "File \u001b[0;32m/opt/miniconda3/envs/deepverse/lib/python3.9/site-packages/pandas/io/parsers/readers.py:1620\u001b[0m, in \u001b[0;36mTextFileReader.__init__\u001b[0;34m(self, f, engine, **kwds)\u001b[0m\n\u001b[1;32m   1617\u001b[0m     \u001b[38;5;28mself\u001b[39m\u001b[38;5;241m.\u001b[39moptions[\u001b[38;5;124m\"\u001b[39m\u001b[38;5;124mhas_index_names\u001b[39m\u001b[38;5;124m\"\u001b[39m] \u001b[38;5;241m=\u001b[39m kwds[\u001b[38;5;124m\"\u001b[39m\u001b[38;5;124mhas_index_names\u001b[39m\u001b[38;5;124m\"\u001b[39m]\n\u001b[1;32m   1619\u001b[0m \u001b[38;5;28mself\u001b[39m\u001b[38;5;241m.\u001b[39mhandles: IOHandles \u001b[38;5;241m|\u001b[39m \u001b[38;5;28;01mNone\u001b[39;00m \u001b[38;5;241m=\u001b[39m \u001b[38;5;28;01mNone\u001b[39;00m\n\u001b[0;32m-> 1620\u001b[0m \u001b[38;5;28mself\u001b[39m\u001b[38;5;241m.\u001b[39m_engine \u001b[38;5;241m=\u001b[39m \u001b[38;5;28;43mself\u001b[39;49m\u001b[38;5;241;43m.\u001b[39;49m\u001b[43m_make_engine\u001b[49m\u001b[43m(\u001b[49m\u001b[43mf\u001b[49m\u001b[43m,\u001b[49m\u001b[43m \u001b[49m\u001b[38;5;28;43mself\u001b[39;49m\u001b[38;5;241;43m.\u001b[39;49m\u001b[43mengine\u001b[49m\u001b[43m)\u001b[49m\n",
      "File \u001b[0;32m/opt/miniconda3/envs/deepverse/lib/python3.9/site-packages/pandas/io/parsers/readers.py:1880\u001b[0m, in \u001b[0;36mTextFileReader._make_engine\u001b[0;34m(self, f, engine)\u001b[0m\n\u001b[1;32m   1878\u001b[0m     \u001b[38;5;28;01mif\u001b[39;00m \u001b[38;5;124m\"\u001b[39m\u001b[38;5;124mb\u001b[39m\u001b[38;5;124m\"\u001b[39m \u001b[38;5;129;01mnot\u001b[39;00m \u001b[38;5;129;01min\u001b[39;00m mode:\n\u001b[1;32m   1879\u001b[0m         mode \u001b[38;5;241m+\u001b[39m\u001b[38;5;241m=\u001b[39m \u001b[38;5;124m\"\u001b[39m\u001b[38;5;124mb\u001b[39m\u001b[38;5;124m\"\u001b[39m\n\u001b[0;32m-> 1880\u001b[0m \u001b[38;5;28mself\u001b[39m\u001b[38;5;241m.\u001b[39mhandles \u001b[38;5;241m=\u001b[39m \u001b[43mget_handle\u001b[49m\u001b[43m(\u001b[49m\n\u001b[1;32m   1881\u001b[0m \u001b[43m    \u001b[49m\u001b[43mf\u001b[49m\u001b[43m,\u001b[49m\n\u001b[1;32m   1882\u001b[0m \u001b[43m    \u001b[49m\u001b[43mmode\u001b[49m\u001b[43m,\u001b[49m\n\u001b[1;32m   1883\u001b[0m \u001b[43m    \u001b[49m\u001b[43mencoding\u001b[49m\u001b[38;5;241;43m=\u001b[39;49m\u001b[38;5;28;43mself\u001b[39;49m\u001b[38;5;241;43m.\u001b[39;49m\u001b[43moptions\u001b[49m\u001b[38;5;241;43m.\u001b[39;49m\u001b[43mget\u001b[49m\u001b[43m(\u001b[49m\u001b[38;5;124;43m\"\u001b[39;49m\u001b[38;5;124;43mencoding\u001b[39;49m\u001b[38;5;124;43m\"\u001b[39;49m\u001b[43m,\u001b[49m\u001b[43m \u001b[49m\u001b[38;5;28;43;01mNone\u001b[39;49;00m\u001b[43m)\u001b[49m\u001b[43m,\u001b[49m\n\u001b[1;32m   1884\u001b[0m \u001b[43m    \u001b[49m\u001b[43mcompression\u001b[49m\u001b[38;5;241;43m=\u001b[39;49m\u001b[38;5;28;43mself\u001b[39;49m\u001b[38;5;241;43m.\u001b[39;49m\u001b[43moptions\u001b[49m\u001b[38;5;241;43m.\u001b[39;49m\u001b[43mget\u001b[49m\u001b[43m(\u001b[49m\u001b[38;5;124;43m\"\u001b[39;49m\u001b[38;5;124;43mcompression\u001b[39;49m\u001b[38;5;124;43m\"\u001b[39;49m\u001b[43m,\u001b[49m\u001b[43m \u001b[49m\u001b[38;5;28;43;01mNone\u001b[39;49;00m\u001b[43m)\u001b[49m\u001b[43m,\u001b[49m\n\u001b[1;32m   1885\u001b[0m \u001b[43m    \u001b[49m\u001b[43mmemory_map\u001b[49m\u001b[38;5;241;43m=\u001b[39;49m\u001b[38;5;28;43mself\u001b[39;49m\u001b[38;5;241;43m.\u001b[39;49m\u001b[43moptions\u001b[49m\u001b[38;5;241;43m.\u001b[39;49m\u001b[43mget\u001b[49m\u001b[43m(\u001b[49m\u001b[38;5;124;43m\"\u001b[39;49m\u001b[38;5;124;43mmemory_map\u001b[39;49m\u001b[38;5;124;43m\"\u001b[39;49m\u001b[43m,\u001b[49m\u001b[43m \u001b[49m\u001b[38;5;28;43;01mFalse\u001b[39;49;00m\u001b[43m)\u001b[49m\u001b[43m,\u001b[49m\n\u001b[1;32m   1886\u001b[0m \u001b[43m    \u001b[49m\u001b[43mis_text\u001b[49m\u001b[38;5;241;43m=\u001b[39;49m\u001b[43mis_text\u001b[49m\u001b[43m,\u001b[49m\n\u001b[1;32m   1887\u001b[0m \u001b[43m    \u001b[49m\u001b[43merrors\u001b[49m\u001b[38;5;241;43m=\u001b[39;49m\u001b[38;5;28;43mself\u001b[39;49m\u001b[38;5;241;43m.\u001b[39;49m\u001b[43moptions\u001b[49m\u001b[38;5;241;43m.\u001b[39;49m\u001b[43mget\u001b[49m\u001b[43m(\u001b[49m\u001b[38;5;124;43m\"\u001b[39;49m\u001b[38;5;124;43mencoding_errors\u001b[39;49m\u001b[38;5;124;43m\"\u001b[39;49m\u001b[43m,\u001b[49m\u001b[43m \u001b[49m\u001b[38;5;124;43m\"\u001b[39;49m\u001b[38;5;124;43mstrict\u001b[39;49m\u001b[38;5;124;43m\"\u001b[39;49m\u001b[43m)\u001b[49m\u001b[43m,\u001b[49m\n\u001b[1;32m   1888\u001b[0m \u001b[43m    \u001b[49m\u001b[43mstorage_options\u001b[49m\u001b[38;5;241;43m=\u001b[39;49m\u001b[38;5;28;43mself\u001b[39;49m\u001b[38;5;241;43m.\u001b[39;49m\u001b[43moptions\u001b[49m\u001b[38;5;241;43m.\u001b[39;49m\u001b[43mget\u001b[49m\u001b[43m(\u001b[49m\u001b[38;5;124;43m\"\u001b[39;49m\u001b[38;5;124;43mstorage_options\u001b[39;49m\u001b[38;5;124;43m\"\u001b[39;49m\u001b[43m,\u001b[49m\u001b[43m \u001b[49m\u001b[38;5;28;43;01mNone\u001b[39;49;00m\u001b[43m)\u001b[49m\u001b[43m,\u001b[49m\n\u001b[1;32m   1889\u001b[0m \u001b[43m\u001b[49m\u001b[43m)\u001b[49m\n\u001b[1;32m   1890\u001b[0m \u001b[38;5;28;01massert\u001b[39;00m \u001b[38;5;28mself\u001b[39m\u001b[38;5;241m.\u001b[39mhandles \u001b[38;5;129;01mis\u001b[39;00m \u001b[38;5;129;01mnot\u001b[39;00m \u001b[38;5;28;01mNone\u001b[39;00m\n\u001b[1;32m   1891\u001b[0m f \u001b[38;5;241m=\u001b[39m \u001b[38;5;28mself\u001b[39m\u001b[38;5;241m.\u001b[39mhandles\u001b[38;5;241m.\u001b[39mhandle\n",
      "File \u001b[0;32m/opt/miniconda3/envs/deepverse/lib/python3.9/site-packages/pandas/io/common.py:728\u001b[0m, in \u001b[0;36mget_handle\u001b[0;34m(path_or_buf, mode, encoding, compression, memory_map, is_text, errors, storage_options)\u001b[0m\n\u001b[1;32m    725\u001b[0m     codecs\u001b[38;5;241m.\u001b[39mlookup_error(errors)\n\u001b[1;32m    727\u001b[0m \u001b[38;5;66;03m# open URLs\u001b[39;00m\n\u001b[0;32m--> 728\u001b[0m ioargs \u001b[38;5;241m=\u001b[39m \u001b[43m_get_filepath_or_buffer\u001b[49m\u001b[43m(\u001b[49m\n\u001b[1;32m    729\u001b[0m \u001b[43m    \u001b[49m\u001b[43mpath_or_buf\u001b[49m\u001b[43m,\u001b[49m\n\u001b[1;32m    730\u001b[0m \u001b[43m    \u001b[49m\u001b[43mencoding\u001b[49m\u001b[38;5;241;43m=\u001b[39;49m\u001b[43mencoding\u001b[49m\u001b[43m,\u001b[49m\n\u001b[1;32m    731\u001b[0m \u001b[43m    \u001b[49m\u001b[43mcompression\u001b[49m\u001b[38;5;241;43m=\u001b[39;49m\u001b[43mcompression\u001b[49m\u001b[43m,\u001b[49m\n\u001b[1;32m    732\u001b[0m \u001b[43m    \u001b[49m\u001b[43mmode\u001b[49m\u001b[38;5;241;43m=\u001b[39;49m\u001b[43mmode\u001b[49m\u001b[43m,\u001b[49m\n\u001b[1;32m    733\u001b[0m \u001b[43m    \u001b[49m\u001b[43mstorage_options\u001b[49m\u001b[38;5;241;43m=\u001b[39;49m\u001b[43mstorage_options\u001b[49m\u001b[43m,\u001b[49m\n\u001b[1;32m    734\u001b[0m \u001b[43m\u001b[49m\u001b[43m)\u001b[49m\n\u001b[1;32m    736\u001b[0m handle \u001b[38;5;241m=\u001b[39m ioargs\u001b[38;5;241m.\u001b[39mfilepath_or_buffer\n\u001b[1;32m    737\u001b[0m handles: \u001b[38;5;28mlist\u001b[39m[BaseBuffer]\n",
      "File \u001b[0;32m/opt/miniconda3/envs/deepverse/lib/python3.9/site-packages/pandas/io/common.py:384\u001b[0m, in \u001b[0;36m_get_filepath_or_buffer\u001b[0;34m(filepath_or_buffer, encoding, compression, mode, storage_options)\u001b[0m\n\u001b[1;32m    382\u001b[0m \u001b[38;5;66;03m# assuming storage_options is to be interpreted as headers\u001b[39;00m\n\u001b[1;32m    383\u001b[0m req_info \u001b[38;5;241m=\u001b[39m urllib\u001b[38;5;241m.\u001b[39mrequest\u001b[38;5;241m.\u001b[39mRequest(filepath_or_buffer, headers\u001b[38;5;241m=\u001b[39mstorage_options)\n\u001b[0;32m--> 384\u001b[0m \u001b[38;5;28;01mwith\u001b[39;00m \u001b[43murlopen\u001b[49m\u001b[43m(\u001b[49m\u001b[43mreq_info\u001b[49m\u001b[43m)\u001b[49m \u001b[38;5;28;01mas\u001b[39;00m req:\n\u001b[1;32m    385\u001b[0m     content_encoding \u001b[38;5;241m=\u001b[39m req\u001b[38;5;241m.\u001b[39mheaders\u001b[38;5;241m.\u001b[39mget(\u001b[38;5;124m\"\u001b[39m\u001b[38;5;124mContent-Encoding\u001b[39m\u001b[38;5;124m\"\u001b[39m, \u001b[38;5;28;01mNone\u001b[39;00m)\n\u001b[1;32m    386\u001b[0m     \u001b[38;5;28;01mif\u001b[39;00m content_encoding \u001b[38;5;241m==\u001b[39m \u001b[38;5;124m\"\u001b[39m\u001b[38;5;124mgzip\u001b[39m\u001b[38;5;124m\"\u001b[39m:\n\u001b[1;32m    387\u001b[0m         \u001b[38;5;66;03m# Override compression based on Content-Encoding header\u001b[39;00m\n",
      "File \u001b[0;32m/opt/miniconda3/envs/deepverse/lib/python3.9/site-packages/pandas/io/common.py:289\u001b[0m, in \u001b[0;36murlopen\u001b[0;34m(*args, **kwargs)\u001b[0m\n\u001b[1;32m    283\u001b[0m \u001b[38;5;250m\u001b[39m\u001b[38;5;124;03m\"\"\"\u001b[39;00m\n\u001b[1;32m    284\u001b[0m \u001b[38;5;124;03mLazy-import wrapper for stdlib urlopen, as that imports a big chunk of\u001b[39;00m\n\u001b[1;32m    285\u001b[0m \u001b[38;5;124;03mthe stdlib.\u001b[39;00m\n\u001b[1;32m    286\u001b[0m \u001b[38;5;124;03m\"\"\"\u001b[39;00m\n\u001b[1;32m    287\u001b[0m \u001b[38;5;28;01mimport\u001b[39;00m \u001b[38;5;21;01murllib\u001b[39;00m\u001b[38;5;21;01m.\u001b[39;00m\u001b[38;5;21;01mrequest\u001b[39;00m\n\u001b[0;32m--> 289\u001b[0m \u001b[38;5;28;01mreturn\u001b[39;00m \u001b[43murllib\u001b[49m\u001b[38;5;241;43m.\u001b[39;49m\u001b[43mrequest\u001b[49m\u001b[38;5;241;43m.\u001b[39;49m\u001b[43murlopen\u001b[49m\u001b[43m(\u001b[49m\u001b[38;5;241;43m*\u001b[39;49m\u001b[43margs\u001b[49m\u001b[43m,\u001b[49m\u001b[43m \u001b[49m\u001b[38;5;241;43m*\u001b[39;49m\u001b[38;5;241;43m*\u001b[39;49m\u001b[43mkwargs\u001b[49m\u001b[43m)\u001b[49m\n",
      "File \u001b[0;32m/opt/miniconda3/envs/deepverse/lib/python3.9/urllib/request.py:214\u001b[0m, in \u001b[0;36murlopen\u001b[0;34m(url, data, timeout, cafile, capath, cadefault, context)\u001b[0m\n\u001b[1;32m    212\u001b[0m \u001b[38;5;28;01melse\u001b[39;00m:\n\u001b[1;32m    213\u001b[0m     opener \u001b[38;5;241m=\u001b[39m _opener\n\u001b[0;32m--> 214\u001b[0m \u001b[38;5;28;01mreturn\u001b[39;00m \u001b[43mopener\u001b[49m\u001b[38;5;241;43m.\u001b[39;49m\u001b[43mopen\u001b[49m\u001b[43m(\u001b[49m\u001b[43murl\u001b[49m\u001b[43m,\u001b[49m\u001b[43m \u001b[49m\u001b[43mdata\u001b[49m\u001b[43m,\u001b[49m\u001b[43m \u001b[49m\u001b[43mtimeout\u001b[49m\u001b[43m)\u001b[49m\n",
      "File \u001b[0;32m/opt/miniconda3/envs/deepverse/lib/python3.9/urllib/request.py:523\u001b[0m, in \u001b[0;36mOpenerDirector.open\u001b[0;34m(self, fullurl, data, timeout)\u001b[0m\n\u001b[1;32m    521\u001b[0m \u001b[38;5;28;01mfor\u001b[39;00m processor \u001b[38;5;129;01min\u001b[39;00m \u001b[38;5;28mself\u001b[39m\u001b[38;5;241m.\u001b[39mprocess_response\u001b[38;5;241m.\u001b[39mget(protocol, []):\n\u001b[1;32m    522\u001b[0m     meth \u001b[38;5;241m=\u001b[39m \u001b[38;5;28mgetattr\u001b[39m(processor, meth_name)\n\u001b[0;32m--> 523\u001b[0m     response \u001b[38;5;241m=\u001b[39m \u001b[43mmeth\u001b[49m\u001b[43m(\u001b[49m\u001b[43mreq\u001b[49m\u001b[43m,\u001b[49m\u001b[43m \u001b[49m\u001b[43mresponse\u001b[49m\u001b[43m)\u001b[49m\n\u001b[1;32m    525\u001b[0m \u001b[38;5;28;01mreturn\u001b[39;00m response\n",
      "File \u001b[0;32m/opt/miniconda3/envs/deepverse/lib/python3.9/urllib/request.py:632\u001b[0m, in \u001b[0;36mHTTPErrorProcessor.http_response\u001b[0;34m(self, request, response)\u001b[0m\n\u001b[1;32m    629\u001b[0m \u001b[38;5;66;03m# According to RFC 2616, \"2xx\" code indicates that the client's\u001b[39;00m\n\u001b[1;32m    630\u001b[0m \u001b[38;5;66;03m# request was successfully received, understood, and accepted.\u001b[39;00m\n\u001b[1;32m    631\u001b[0m \u001b[38;5;28;01mif\u001b[39;00m \u001b[38;5;129;01mnot\u001b[39;00m (\u001b[38;5;241m200\u001b[39m \u001b[38;5;241m<\u001b[39m\u001b[38;5;241m=\u001b[39m code \u001b[38;5;241m<\u001b[39m \u001b[38;5;241m300\u001b[39m):\n\u001b[0;32m--> 632\u001b[0m     response \u001b[38;5;241m=\u001b[39m \u001b[38;5;28;43mself\u001b[39;49m\u001b[38;5;241;43m.\u001b[39;49m\u001b[43mparent\u001b[49m\u001b[38;5;241;43m.\u001b[39;49m\u001b[43merror\u001b[49m\u001b[43m(\u001b[49m\n\u001b[1;32m    633\u001b[0m \u001b[43m        \u001b[49m\u001b[38;5;124;43m'\u001b[39;49m\u001b[38;5;124;43mhttp\u001b[39;49m\u001b[38;5;124;43m'\u001b[39;49m\u001b[43m,\u001b[49m\u001b[43m \u001b[49m\u001b[43mrequest\u001b[49m\u001b[43m,\u001b[49m\u001b[43m \u001b[49m\u001b[43mresponse\u001b[49m\u001b[43m,\u001b[49m\u001b[43m \u001b[49m\u001b[43mcode\u001b[49m\u001b[43m,\u001b[49m\u001b[43m \u001b[49m\u001b[43mmsg\u001b[49m\u001b[43m,\u001b[49m\u001b[43m \u001b[49m\u001b[43mhdrs\u001b[49m\u001b[43m)\u001b[49m\n\u001b[1;32m    635\u001b[0m \u001b[38;5;28;01mreturn\u001b[39;00m response\n",
      "File \u001b[0;32m/opt/miniconda3/envs/deepverse/lib/python3.9/urllib/request.py:561\u001b[0m, in \u001b[0;36mOpenerDirector.error\u001b[0;34m(self, proto, *args)\u001b[0m\n\u001b[1;32m    559\u001b[0m \u001b[38;5;28;01mif\u001b[39;00m http_err:\n\u001b[1;32m    560\u001b[0m     args \u001b[38;5;241m=\u001b[39m (\u001b[38;5;28mdict\u001b[39m, \u001b[38;5;124m'\u001b[39m\u001b[38;5;124mdefault\u001b[39m\u001b[38;5;124m'\u001b[39m, \u001b[38;5;124m'\u001b[39m\u001b[38;5;124mhttp_error_default\u001b[39m\u001b[38;5;124m'\u001b[39m) \u001b[38;5;241m+\u001b[39m orig_args\n\u001b[0;32m--> 561\u001b[0m     \u001b[38;5;28;01mreturn\u001b[39;00m \u001b[38;5;28;43mself\u001b[39;49m\u001b[38;5;241;43m.\u001b[39;49m\u001b[43m_call_chain\u001b[49m\u001b[43m(\u001b[49m\u001b[38;5;241;43m*\u001b[39;49m\u001b[43margs\u001b[49m\u001b[43m)\u001b[49m\n",
      "File \u001b[0;32m/opt/miniconda3/envs/deepverse/lib/python3.9/urllib/request.py:494\u001b[0m, in \u001b[0;36mOpenerDirector._call_chain\u001b[0;34m(self, chain, kind, meth_name, *args)\u001b[0m\n\u001b[1;32m    492\u001b[0m \u001b[38;5;28;01mfor\u001b[39;00m handler \u001b[38;5;129;01min\u001b[39;00m handlers:\n\u001b[1;32m    493\u001b[0m     func \u001b[38;5;241m=\u001b[39m \u001b[38;5;28mgetattr\u001b[39m(handler, meth_name)\n\u001b[0;32m--> 494\u001b[0m     result \u001b[38;5;241m=\u001b[39m \u001b[43mfunc\u001b[49m\u001b[43m(\u001b[49m\u001b[38;5;241;43m*\u001b[39;49m\u001b[43margs\u001b[49m\u001b[43m)\u001b[49m\n\u001b[1;32m    495\u001b[0m     \u001b[38;5;28;01mif\u001b[39;00m result \u001b[38;5;129;01mis\u001b[39;00m \u001b[38;5;129;01mnot\u001b[39;00m \u001b[38;5;28;01mNone\u001b[39;00m:\n\u001b[1;32m    496\u001b[0m         \u001b[38;5;28;01mreturn\u001b[39;00m result\n",
      "File \u001b[0;32m/opt/miniconda3/envs/deepverse/lib/python3.9/urllib/request.py:641\u001b[0m, in \u001b[0;36mHTTPDefaultErrorHandler.http_error_default\u001b[0;34m(self, req, fp, code, msg, hdrs)\u001b[0m\n\u001b[1;32m    640\u001b[0m \u001b[38;5;28;01mdef\u001b[39;00m \u001b[38;5;21mhttp_error_default\u001b[39m(\u001b[38;5;28mself\u001b[39m, req, fp, code, msg, hdrs):\n\u001b[0;32m--> 641\u001b[0m     \u001b[38;5;28;01mraise\u001b[39;00m HTTPError(req\u001b[38;5;241m.\u001b[39mfull_url, code, msg, hdrs, fp)\n",
      "\u001b[0;31mHTTPError\u001b[0m: HTTP Error 404: Not Found"
     ]
    }
   ],
   "source": [
    "## Extra Datasets\n",
    "\n",
    "## Political Information Dataset\n",
    "# ANES 2000 Political Information based on interviews\n",
    "# polInf          : Political Information\n",
    "# collegeDegree   : College Degree\n",
    "# female          : Female\n",
    "# age             : Age in years\n",
    "# homeOwn         : Own house\n",
    "# others...\n",
    "polinf = pd.read_csv('https://raw.githubusercontent.com/umbertomig/CSSBootCamp/main/datasets/pinf.csv')\n",
    "pinf_order = ['Very Low', 'Fairly Low', 'Average', 'Fairly High', 'Very High']\n",
    "polinf['polInf'] = pd.Categorical(polinf.polInf, \n",
    "                                  ordered=True, \n",
    "                                  categories=pinf_order)\n",
    "print(polinf.head())\n",
    "\n",
    "## US Crime data in the 1970's\n",
    "# Data on violent crime in the US\n",
    "# Muder: number of murders in the state\n",
    "# Assault: number of assaults in the state\n",
    "# others...\n",
    "usarrests = pd.read_csv('https://raw.githubusercontent.com/umbertomig/CSSBootCamp/main/datasets/usarrests.csv')\n",
    "print(usarrests.head())"
   ]
  },
  {
   "cell_type": "markdown",
   "metadata": {
    "slideshow": {
     "slide_type": "slide"
    }
   },
   "source": [
    "### Exercises\n",
    "\n",
    "1. (Univariate) In the `polinf` dataset, make a count plot of the variable `polInf`. Imagine you want to use this for a talk, so adjust the context. Change the x-axis label and title to appropriate descriptions of the data. (Hint: to rotate the axis tick labels, use `plt.xticks(rotation=number_degree_of_your_choice)`)\n",
    "\n",
    "2. (Univariate) In the `polinf` dataset, make a histogram of the variable `age`.\n",
    "\n",
    "3. (Bivariate) Do you think political information varies with a college degree? Check that using the `polinf` dataset!\n",
    "\n",
    "4. (Bivariate) Do you think political information varies with age? Check that using the `polinf` dataset!\n",
    "\n",
    "5. (Bivariate) Do you think there is a correlation between `Murder` and `Assault`? Check that using the `usarrests` dataset!\n",
    "\n",
    "6. (Challenge: Multivariate) There are four continuous indicators in the `usarrests` dataset: `Murder`, `Assault`, `UrbanPop`, and `Rape`. Do you think you can build a scatterplot matrix? The documentation is in [here](https://seaborn.pydata.org/examples/scatterplot_matrix.html)."
   ]
  },
  {
   "cell_type": "code",
   "execution_count": null,
   "metadata": {
    "execution": {
     "iopub.status.busy": "2024-07-03T14:23:02.586604Z",
     "iopub.status.idle": "2024-07-03T14:23:02.586718Z",
     "shell.execute_reply": "2024-07-03T14:23:02.586658Z",
     "shell.execute_reply.started": "2024-07-03T14:23:02.586653Z"
    }
   },
   "outputs": [],
   "source": [
    "# Your answers here"
   ]
  },
  {
   "cell_type": "markdown",
   "metadata": {
    "slideshow": {
     "slide_type": "slide"
    }
   },
   "source": [
    "**Great job!!!**"
   ]
  }
 ],
 "metadata": {
  "celltoolbar": "Slideshow",
  "kernelspec": {
   "display_name": "Python 3 (ipykernel)",
   "language": "python",
   "name": "python3"
  },
  "language_info": {
   "codemirror_mode": {
    "name": "ipython",
    "version": 3
   },
   "file_extension": ".py",
   "mimetype": "text/x-python",
   "name": "python",
   "nbconvert_exporter": "python",
   "pygments_lexer": "ipython3",
   "version": "3.9.18"
  }
 },
 "nbformat": 4,
 "nbformat_minor": 4
}
