{
 "cells": [
  {
   "cell_type": "markdown",
   "id": "ff8da194",
   "metadata": {
    "slideshow": {
     "slide_type": "slide"
    }
   },
   "source": [
    "# CSS 201.5 - CSS Bootcamp\n",
    "\n",
    "## Python Programming\n",
    "\n",
    "### Umberto Mignozzetti (UCSD)"
   ]
  },
  {
   "cell_type": "markdown",
   "id": "d76f005a",
   "metadata": {
    "slideshow": {
     "slide_type": "slide"
    }
   },
   "source": [
    "## Indexing into a dictionary\n",
    "\n",
    "Once you've created a dictionary, you'll want to **access** the items in it.\n",
    "\n",
    "- An advantage of a `dict` (over a `list`) is that key/value pairings are inherently **structured**.  \n",
    "- So rather than indexing by *position*, you can index by *key*.\n",
    "\n",
    "The syntax for indexing is: `dict_name[key_name]`. "
   ]
  },
  {
   "cell_type": "code",
   "execution_count": null,
   "id": "b233105d",
   "metadata": {
    "slideshow": {
     "slide_type": "-"
    }
   },
   "outputs": [],
   "source": [
    "person = {'Name': 'Smarty Student',\n",
    "          'Occupation': 'UCSD Grad',\n",
    "          'Location': 'San Diego'}\n",
    "print(person['Name'])"
   ]
  },
  {
   "cell_type": "code",
   "execution_count": null,
   "id": "f52d30ee",
   "metadata": {
    "slideshow": {
     "slide_type": "-"
    }
   },
   "outputs": [],
   "source": [
    "print(person['Location'])\n",
    "print(person['Occupation'])"
   ]
  },
  {
   "cell_type": "markdown",
   "id": "11d3bc97",
   "metadata": {
    "slideshow": {
     "slide_type": "slide"
    }
   },
   "source": [
    "### Check-in\n",
    "\n",
    "How would you retrieve the value `25` from the dictionary below?"
   ]
  },
  {
   "cell_type": "code",
   "execution_count": null,
   "id": "e25dc6db",
   "metadata": {
    "slideshow": {
     "slide_type": "-"
    }
   },
   "outputs": [],
   "source": [
    "test_dict = {'apple': 25,\n",
    "            'banana': 37}\n",
    "### Your code here"
   ]
  },
  {
   "cell_type": "markdown",
   "id": "52a71e4f",
   "metadata": {
    "slideshow": {
     "slide_type": "slide"
    }
   },
   "source": [
    "### Indexing requires a key\n",
    "\n",
    "To index into a `dict`, you **need to use the key**.\n",
    "\n",
    "- The *position* of a value will not work.  \n",
    "- The *value* itself will also not work."
   ]
  },
  {
   "cell_type": "code",
   "execution_count": null,
   "id": "e2d64052",
   "metadata": {},
   "outputs": [],
   "source": [
    "test_dict[0] ### will throw an error"
   ]
  },
  {
   "cell_type": "code",
   "execution_count": null,
   "id": "c1b45b18",
   "metadata": {},
   "outputs": [],
   "source": [
    "test_dict[25] ### will throw an error"
   ]
  },
  {
   "cell_type": "markdown",
   "id": "a21c9df9",
   "metadata": {
    "slideshow": {
     "slide_type": "slide"
    }
   },
   "source": [
    "## Updating a `dict`\n",
    "\n",
    "Once you've created a `dict`, it's not set in stone––there are multiple ways to **modify** that dictionary.\n",
    "\n",
    "- Adding new entries.  \n",
    "- Deleting existing entries.  \n",
    "- Combining two dictionaries."
   ]
  },
  {
   "cell_type": "markdown",
   "id": "35cf3e8f",
   "metadata": {
    "slideshow": {
     "slide_type": "slide"
    }
   },
   "source": [
    "### Adding new entries"
   ]
  },
  {
   "cell_type": "code",
   "execution_count": null,
   "id": "622e30f8",
   "metadata": {
    "slideshow": {
     "slide_type": "-"
    }
   },
   "outputs": [],
   "source": [
    "## First, let's create a new dictionary\n",
    "registrar = {'Mignozzetti': 'POLI', \n",
    "             'Trott': 'COGS'}\n",
    "print(registrar)"
   ]
  },
  {
   "cell_type": "markdown",
   "id": "9db111da",
   "metadata": {
    "slideshow": {
     "slide_type": "-"
    }
   },
   "source": [
    "We can add a new entry using the `dict_name[key_name] = new_value` syntax."
   ]
  },
  {
   "cell_type": "code",
   "execution_count": null,
   "id": "46d5dbcb",
   "metadata": {
    "slideshow": {
     "slide_type": "-"
    }
   },
   "outputs": [],
   "source": [
    "## Now we add a new entry to the dictionary\n",
    "registrar['Styler'] = 'LING'\n",
    "print(registrar)"
   ]
  },
  {
   "cell_type": "markdown",
   "id": "92d1958a",
   "metadata": {
    "slideshow": {
     "slide_type": "slide"
    }
   },
   "source": [
    "### Check-in\n",
    "\n",
    "Add an entry for the price of `\"pasta\"` to `prices_dict` below using this new syntax. "
   ]
  },
  {
   "cell_type": "code",
   "execution_count": null,
   "id": "56e0bc99",
   "metadata": {
    "slideshow": {
     "slide_type": "-"
    }
   },
   "outputs": [],
   "source": [
    "prices_dict = {'rice': 4, 'bananas': 3}\n",
    "### Your code here"
   ]
  },
  {
   "cell_type": "markdown",
   "id": "41b64a1d",
   "metadata": {
    "slideshow": {
     "slide_type": "slide"
    }
   },
   "source": [
    "### Check-in\n",
    "\n",
    "What would the `len` of `prices_dict` be after you've added that entry?"
   ]
  },
  {
   "cell_type": "code",
   "execution_count": null,
   "id": "d8d516fd",
   "metadata": {
    "slideshow": {
     "slide_type": "-"
    }
   },
   "outputs": [],
   "source": [
    "### How long is prices_dict after you've added \"pasta\"?\n",
    "len(prices_dict)"
   ]
  },
  {
   "cell_type": "markdown",
   "id": "74905d93",
   "metadata": {
    "slideshow": {
     "slide_type": "slide"
    }
   },
   "source": [
    "### Deleting entries\n",
    "\n",
    "We can also use the `del` function to delete specific key/value pairs from a dictionary."
   ]
  },
  {
   "cell_type": "code",
   "execution_count": null,
   "id": "2d017cc2",
   "metadata": {
    "slideshow": {
     "slide_type": "-"
    }
   },
   "outputs": [],
   "source": [
    "## First, we create a new dictionary.\n",
    "attendance = {'A1': True, 'A2': False}\n",
    "print(attendance)"
   ]
  },
  {
   "cell_type": "code",
   "execution_count": null,
   "id": "dee6d4b6",
   "metadata": {
    "slideshow": {
     "slide_type": "-"
    }
   },
   "outputs": [],
   "source": [
    "## Then, we delete the entry with the \"A2\" key.\n",
    "del(attendance['A2'])\n",
    "print(attendance)"
   ]
  },
  {
   "cell_type": "markdown",
   "id": "4a365dbc",
   "metadata": {
    "slideshow": {
     "slide_type": "slide"
    }
   },
   "source": [
    "### Merging dictionaries using `update`\n",
    "\n",
    "What if we have **two different dictionaries** that we want to combine or *merge*? \n",
    "\n",
    "The `update` function can be used to do this."
   ]
  },
  {
   "cell_type": "code",
   "execution_count": null,
   "id": "fe534e48",
   "metadata": {
    "slideshow": {
     "slide_type": "-"
    }
   },
   "outputs": [],
   "source": [
    "## First, we create a new dictionary.\n",
    "registrar = {'Mignozzetti': 'POLI', \n",
    "             'Trott': 'COGS'}\n",
    "print(registrar)"
   ]
  },
  {
   "cell_type": "code",
   "execution_count": null,
   "id": "a191d50d",
   "metadata": {
    "slideshow": {
     "slide_type": "-"
    }
   },
   "outputs": [],
   "source": [
    "## Now, we define another dictionary with more info.\n",
    "registrar_other = {'Styler': 'LING',\n",
    "                   'Mignozzetti': ['POLI', 'CSS'],\n",
    "                   'Rangel': 'COGS'}\n",
    "## Finally, we \"update\" original registrar\n",
    "registrar.update(registrar_other)"
   ]
  },
  {
   "cell_type": "code",
   "execution_count": null,
   "id": "64b81697",
   "metadata": {
    "slideshow": {
     "slide_type": "-"
    }
   },
   "outputs": [],
   "source": [
    "print(registrar)"
   ]
  },
  {
   "cell_type": "markdown",
   "id": "8a6a47fe",
   "metadata": {
    "slideshow": {
     "slide_type": "slide"
    }
   },
   "source": [
    "### Check-in\n",
    "\n",
    "Recall that a dictionary cannot contain **duplicate keys**. What do you think would happen to `original_dict` if we ran the code below?"
   ]
  },
  {
   "cell_type": "code",
   "execution_count": null,
   "id": "315c00a6",
   "metadata": {
    "slideshow": {
     "slide_type": "-"
    }
   },
   "outputs": [],
   "source": [
    "original_dict = {'a': 1, 'b': 3}\n",
    "new_dict = {'a': 2}\n",
    "original_dict.update(new_dict)\n",
    "### What happens to original_dict['a']?\n",
    "original_dict"
   ]
  },
  {
   "cell_type": "markdown",
   "id": "3652295e",
   "metadata": {
    "slideshow": {
     "slide_type": "slide"
    }
   },
   "source": [
    "#### Updating with duplicate keys\n",
    "\n",
    "If we `update` a dictionary with another dictionary that contains **overlapping keys**, the **new values** replace the old values."
   ]
  },
  {
   "cell_type": "code",
   "execution_count": null,
   "id": "06709c38",
   "metadata": {
    "slideshow": {
     "slide_type": "-"
    }
   },
   "outputs": [],
   "source": [
    "original_dict = {'a': 1, 'b': 3}\n",
    "new_dict = {'a': 2}\n",
    "original_dict.update(new_dict)\n",
    "print(original_dict['a'])"
   ]
  },
  {
   "cell_type": "markdown",
   "id": "5d5c146c",
   "metadata": {
    "slideshow": {
     "slide_type": "slide"
    }
   },
   "source": [
    "## Iterating through a `dict`\n",
    "\n",
    "Dictionaries are **structured** collections of **key/value pairings**.\n",
    "\n",
    "As such, there are several ways to iterate (i.e., **loop**) through a `dict`:\n",
    "\n",
    "- Iterating through a `list` of **keys** (`.keys()`).  \n",
    "- Iterating through a `list` of **values** (`.values()`). \n",
    "- Iterating through a `list` of **key/value** `tuples` (`.items()`)."
   ]
  },
  {
   "cell_type": "markdown",
   "id": "dc8ec7fc",
   "metadata": {
    "slideshow": {
     "slide_type": "slide"
    }
   },
   "source": [
    "### Looping through keys with `.keys()`\n",
    "\n",
    "Each dictionary can be thought of as a `list` of **keys**; each key in turn maps onto some **value**.\n",
    "\n",
    "We can retrieve that `list` of keys using `dict_name.keys()`."
   ]
  },
  {
   "cell_type": "code",
   "execution_count": null,
   "id": "ac05c345",
   "metadata": {
    "slideshow": {
     "slide_type": "-"
    }
   },
   "outputs": [],
   "source": [
    "courses = {'CSS 201': 'Introduction to Computational Social Science',\n",
    "           'CSS 202': 'Computational Social Science Technical Bootcamp',\n",
    "           'CSS 296': 'Research in Computational Social Science'}\n",
    "courses.keys()"
   ]
  },
  {
   "cell_type": "markdown",
   "id": "ce77932f",
   "metadata": {
    "slideshow": {
     "slide_type": "-"
    }
   },
   "source": [
    "This `dict_keys` object behaves like a `list`: we can index into it, loop through it, and so on."
   ]
  },
  {
   "cell_type": "code",
   "execution_count": null,
   "id": "e18ae259",
   "metadata": {
    "slideshow": {
     "slide_type": "-"
    }
   },
   "outputs": [],
   "source": [
    "for abr in courses.keys():\n",
    "    print(abr)"
   ]
  },
  {
   "cell_type": "markdown",
   "id": "c7868572",
   "metadata": {
    "slideshow": {
     "slide_type": "slide"
    }
   },
   "source": [
    "#### Check-in\n",
    "\n",
    "How could we retrieve each **value** of the `dict` using `keys()`?"
   ]
  },
  {
   "cell_type": "code",
   "execution_count": null,
   "id": "2f6b57ee",
   "metadata": {
    "slideshow": {
     "slide_type": "-"
    }
   },
   "outputs": [],
   "source": [
    "### Your code here"
   ]
  },
  {
   "cell_type": "markdown",
   "id": "da86e34c",
   "metadata": {
    "slideshow": {
     "slide_type": "slide"
    }
   },
   "source": [
    "#### Retrieving values\n",
    "\n",
    "Because each key maps onto a **value**, we can simply use it to index into `courses`."
   ]
  },
  {
   "cell_type": "code",
   "execution_count": null,
   "id": "c7df25ba",
   "metadata": {
    "slideshow": {
     "slide_type": "-"
    }
   },
   "outputs": [],
   "source": [
    "for course in courses.keys():\n",
    "    ## Index into courses\n",
    "    name = courses[course]\n",
    "    print(name)"
   ]
  },
  {
   "cell_type": "markdown",
   "id": "34ab8773",
   "metadata": {
    "slideshow": {
     "slide_type": "slide"
    }
   },
   "source": [
    "### Looping through values with `.values()`\n",
    "\n",
    "We can also retrieve the **values** directly using `dict_name.values()`."
   ]
  },
  {
   "cell_type": "code",
   "execution_count": null,
   "id": "e1c9cfec",
   "metadata": {
    "slideshow": {
     "slide_type": "-"
    }
   },
   "outputs": [],
   "source": [
    "courses.values()\n",
    "for abr in courses:\n",
    "    print(abr)"
   ]
  },
  {
   "cell_type": "code",
   "execution_count": null,
   "id": "e3189473",
   "metadata": {
    "slideshow": {
     "slide_type": "-"
    }
   },
   "outputs": [],
   "source": [
    "for course_name in courses.values():\n",
    "    print(course_name)"
   ]
  },
  {
   "cell_type": "markdown",
   "id": "99c202d1",
   "metadata": {
    "slideshow": {
     "slide_type": "slide"
    }
   },
   "source": [
    "### Looping through key/value pairings with `.items()`\n",
    "\n",
    "Dictionaries are, at their core, a list of **key/value pairings**. \n",
    "\n",
    "- We can access each of these using `dict_name.items()`.  \n",
    "- `items()` returns a `list` of `tuples`:\n",
    "  - The first element of each `tuple` is the **key**.\n",
    "  - The second element of each `tuple` is the **value**."
   ]
  },
  {
   "cell_type": "code",
   "execution_count": null,
   "id": "020234c5",
   "metadata": {
    "slideshow": {
     "slide_type": "-"
    }
   },
   "outputs": [],
   "source": [
    "print(list(courses.keys()))\n",
    "for key, value in courses.items():\n",
    "    print(value + ' is abbreviated as ' + key)"
   ]
  },
  {
   "cell_type": "markdown",
   "id": "eb47fc83",
   "metadata": {
    "slideshow": {
     "slide_type": "slide"
    }
   },
   "source": [
    "#### Assignment \"unpacking\"\n",
    "\n",
    "- We can access each element of the `tuple` using indexing, e.g., `item[0]` or `item[1]`.  \n",
    "- However, sometimes it's more convenient to **unpack** these elements directly in the `for` loop itself."
   ]
  },
  {
   "cell_type": "code",
   "execution_count": null,
   "id": "f31f5fb3",
   "metadata": {
    "slideshow": {
     "slide_type": "-"
    }
   },
   "outputs": [],
   "source": [
    "for code, name in courses.items():\n",
    "    print(code)\n",
    "    print(name)"
   ]
  },
  {
   "cell_type": "markdown",
   "id": "4143bcc2",
   "metadata": {
    "slideshow": {
     "slide_type": "slide"
    }
   },
   "source": [
    "#### Converting back to a `dict`\n",
    "\n",
    "We can use the `dict` function to convert a list of **items** back to a `dict`."
   ]
  },
  {
   "cell_type": "code",
   "execution_count": null,
   "id": "4417f523",
   "metadata": {
    "slideshow": {
     "slide_type": "-"
    }
   },
   "outputs": [],
   "source": [
    "items = courses.items()\n",
    "print(items)"
   ]
  },
  {
   "cell_type": "code",
   "execution_count": null,
   "id": "94e294a8",
   "metadata": {
    "slideshow": {
     "slide_type": "-"
    }
   },
   "outputs": [],
   "source": [
    "course_dict = dict(items)\n",
    "print(course_dict)"
   ]
  },
  {
   "cell_type": "markdown",
   "id": "730bcd6a",
   "metadata": {
    "slideshow": {
     "slide_type": "slide"
    }
   },
   "source": [
    "### Check-in: Looping through values\n",
    "\n",
    "Use the `.items()` function to loop through `fruits_dict` below. `print` out each item in a formatted string using `format`: \n",
    "\n",
    "`{fruit_name}: {price}`. "
   ]
  },
  {
   "cell_type": "code",
   "execution_count": null,
   "id": "a4ff0c24",
   "metadata": {
    "slideshow": {
     "slide_type": "-"
    }
   },
   "outputs": [],
   "source": [
    "fruits_dict = {'apple': 2, 'banana': 3}\n",
    "### Your code here"
   ]
  },
  {
   "cell_type": "markdown",
   "id": "6680a8e3",
   "metadata": {
    "slideshow": {
     "slide_type": "slide"
    }
   },
   "source": [
    "### Check-in: Debug\n",
    "\n",
    "Suppose someone writes a piece of code (see below) to loop through `fruits_dict`. Ultimately, they want to print out the price of each fruit. \n",
    "\n",
    "However, they keep running into an error. Can you figure out what they're doing wrong? And further, could you suggest a way to fix it?"
   ]
  },
  {
   "cell_type": "code",
   "execution_count": null,
   "id": "d75e16e5",
   "metadata": {
    "slideshow": {
     "slide_type": "-"
    }
   },
   "outputs": [],
   "source": [
    "### Why is this throwing an error?\n",
    "for fruit in fruits_dict.keys():\n",
    "    print(fruits_dict[fruit])"
   ]
  },
  {
   "cell_type": "markdown",
   "id": "0aae0e9c",
   "metadata": {
    "slideshow": {
     "slide_type": "slide"
    }
   },
   "source": [
    "## Nested dictionaries\n",
    "\n",
    "> A **nested dictionary** is a dictionary contained inside another dictionary, i.e., as a **value**.  \n",
    "\n",
    "In principle, there is no limit on how many nested dictionaries can be contained in a `dict` (besides memory capacity on one's computer).\n",
    "\n",
    "- A nested dictionary is useful when you want to store **complex information** in each entry.  \n",
    "- So far, we've dealt mostly with very simple key/value entries.  \n",
    "- But what if we wanted to represent more complicated information?\n",
    "\n",
    "Example, for each student in CSS (or COGS, etc.), store:\n",
    "\n",
    "- `username`.\n",
    "- `Name`.  \n",
    "- `Courses` (a `list`). \n",
    "- `College`\n",
    "- `Major`. "
   ]
  },
  {
   "cell_type": "markdown",
   "id": "4e5bf058",
   "metadata": {
    "slideshow": {
     "slide_type": "slide"
    }
   },
   "source": [
    "### Check-in (conceptual)\n",
    "\n",
    "What would be a useful `dict` structure to represent information about instructors? For example, say we wanted to represent:\n",
    "\n",
    "- `username` (e.g., `sstudent`)\n",
    "- `Name` (e.g., `Smarty Student`)\n",
    "- `Courses` (e.g., `['CSS 1', ...]`)\n",
    "- `College` (e.g., `ERC`)\n",
    "- `Major` (e.g., `Psychology`)"
   ]
  },
  {
   "cell_type": "markdown",
   "id": "ab5a4ddf",
   "metadata": {
    "slideshow": {
     "slide_type": "slide"
    }
   },
   "source": [
    "### A possible implementation\n",
    "\n",
    "One approach is to use **nested dictionaries**.\n",
    "\n",
    "- At the top level, each instructor is represented by their `username`.  \n",
    "- Each PID then maps onto a nested dictionary, which contains their `Name`, `Email`, and any other info we need."
   ]
  },
  {
   "cell_type": "code",
   "execution_count": null,
   "id": "2a8aa620",
   "metadata": {
    "slideshow": {
     "slide_type": "-"
    }
   },
   "outputs": [],
   "source": [
    "student = {\n",
    "    'sstudent': {'Name': 'Smarty Student',\n",
    "                'Courses': ['COGS 14A', 'CSS 1', 'CSS 2'],\n",
    "               'College': 'ERC',\n",
    "               'Major': 'Psychology'},\n",
    "    'jdoe': {'Name': 'John Doe',\n",
    "                'Courses': ['COGS 18', 'CSS 1'],\n",
    "               'College': 'Revelle',\n",
    "               'Major': 'Undeclared'},\n",
    "    'jlopez': {'Name': 'Jane Lopez',\n",
    "                'Courses': ['LING 6', 'LING 101'],\n",
    "               'College': 'Revelle',\n",
    "               'Major': 'Linguistics'},\n",
    "}"
   ]
  },
  {
   "cell_type": "markdown",
   "id": "67973ee4",
   "metadata": {
    "slideshow": {
     "slide_type": "slide"
    }
   },
   "source": [
    "### Indexing our nested `dict`\n",
    "\n",
    "We can index into this `dict` as we would normally. Note that now, the **value** is itself a `dict`."
   ]
  },
  {
   "cell_type": "code",
   "execution_count": null,
   "id": "0ac0f5d4",
   "metadata": {
    "slideshow": {
     "slide_type": "-"
    }
   },
   "outputs": [],
   "source": [
    "student['jlopez']"
   ]
  },
  {
   "cell_type": "markdown",
   "id": "422000a3",
   "metadata": {
    "slideshow": {
     "slide_type": "slide"
    }
   },
   "source": [
    "#### Check-in\n",
    "\n",
    "How might we index the `College` of a particular student? I.e., what if we wanted to find out the `College` of `jdoe`?"
   ]
  },
  {
   "cell_type": "code",
   "execution_count": null,
   "id": "ea0a9947",
   "metadata": {
    "slideshow": {
     "slide_type": "-"
    }
   },
   "outputs": [],
   "source": [
    "### Your code here"
   ]
  },
  {
   "cell_type": "markdown",
   "id": "efc7d3fb",
   "metadata": {
    "slideshow": {
     "slide_type": "slide"
    }
   },
   "source": [
    "#### Nested indices\n",
    "\n",
    "Indexing into a **nested dictionary** follows the same logic––we can *chain together* index statements to retrieve a particular value."
   ]
  },
  {
   "cell_type": "code",
   "execution_count": null,
   "id": "00fea4ea",
   "metadata": {
    "slideshow": {
     "slide_type": "-"
    }
   },
   "outputs": [],
   "source": [
    "student['jdoe']['College']"
   ]
  },
  {
   "cell_type": "code",
   "execution_count": null,
   "id": "ae19af67",
   "metadata": {
    "slideshow": {
     "slide_type": "-"
    }
   },
   "outputs": [],
   "source": [
    "student['jlopez']['Courses'][1]"
   ]
  },
  {
   "cell_type": "markdown",
   "id": "8059988b",
   "metadata": {
    "slideshow": {
     "slide_type": "slide"
    }
   },
   "source": [
    "### Check-in\n",
    "\n",
    "How would you retrieve the list of `username`s (i.e., keys) in this `dict`?"
   ]
  },
  {
   "cell_type": "code",
   "execution_count": null,
   "id": "9f9be106-fcee-4453-8fc9-4e7c32e98c9a",
   "metadata": {},
   "outputs": [],
   "source": [
    "### Your code here"
   ]
  },
  {
   "cell_type": "markdown",
   "id": "ee1f5a63",
   "metadata": {
    "slideshow": {
     "slide_type": "slide"
    }
   },
   "source": [
    "# Functions"
   ]
  },
  {
   "cell_type": "markdown",
   "id": "0d4f6fb5",
   "metadata": {
    "slideshow": {
     "slide_type": "slide"
    }
   },
   "source": [
    "## What is a function?\n",
    "\n",
    "> A **function** is a re-usable piece of code that performs some operation (typically on some *input*), and then typically returns a result (i.e., an *output*). \n",
    "\n",
    "Breaking this down:\n",
    "\n",
    "- **Input**: a variable defined by the user that is *passed into* a function using the `(input)` syntax.\n",
    "   - Also called an **argument**.\n",
    "   - Functions can have multiple **arguments**.\n",
    "- **Output**: the variable **returned** by a function after this operation is performed.  \n",
    "   - If a `return` value is not specified, a function will return `None`."
   ]
  },
  {
   "cell_type": "markdown",
   "id": "e9183d0a",
   "metadata": {
    "slideshow": {
     "slide_type": "slide"
    }
   },
   "source": [
    "### A very simple function\n",
    "\n",
    "We'll explore the syntax more in a bit, but this will give you a sense for what we're talking about."
   ]
  },
  {
   "cell_type": "code",
   "execution_count": null,
   "id": "1d873342",
   "metadata": {
    "slideshow": {
     "slide_type": "-"
    }
   },
   "outputs": [],
   "source": [
    "def square(x):\n",
    "    \"\"\"Returns the square of X.\"\"\"\n",
    "    return x**2"
   ]
  },
  {
   "cell_type": "code",
   "execution_count": null,
   "id": "2f6abbdf",
   "metadata": {
    "slideshow": {
     "slide_type": "-"
    }
   },
   "outputs": [],
   "source": [
    "square(1)"
   ]
  },
  {
   "cell_type": "code",
   "execution_count": null,
   "id": "e9d2278e",
   "metadata": {
    "slideshow": {
     "slide_type": "-"
    }
   },
   "outputs": [],
   "source": [
    "square(2)"
   ]
  },
  {
   "cell_type": "markdown",
   "id": "1dc36566",
   "metadata": {
    "slideshow": {
     "slide_type": "slide"
    }
   },
   "source": [
    "## Why functions?\n",
    "\n",
    "In principle, we could just rewrite the same code each time we want to execute that operation. So why bother defining functions at all?\n",
    "\n",
    "The answer lies in **modular programming**.\n",
    "\n",
    "- As operations become more and more complex, it becomes unwieldy (and just inefficient) to copy/paste the *same code* again and again.  \n",
    "- In modular programming, we emphasize building **re-usable chunks of code**.\n",
    "- Functions (and loops) are ways to re-use chunks of code that solve basic, recurring problems.\n",
    "\n",
    "Learning to think in a modular way can be hard! But it's a helpful approach to **breaking down a problem into its sub-components**."
   ]
  },
  {
   "cell_type": "markdown",
   "id": "f06bacbc",
   "metadata": {
    "slideshow": {
     "slide_type": "slide"
    }
   },
   "source": [
    "### Functions we've encountered\n",
    "\n",
    "We've already encountered a number of functions in this course.\n",
    "\n",
    "#### `print`\n",
    "\n",
    "- Input: something to `print`.  \n",
    "- Output: technically, `None`.  \n",
    "- \"Side effects\": `print`s out input to designated log (by default, the terminal/Jupyter cell)."
   ]
  },
  {
   "cell_type": "code",
   "execution_count": null,
   "id": "64b97c9e",
   "metadata": {
    "slideshow": {
     "slide_type": "-"
    }
   },
   "outputs": [],
   "source": [
    "print(\"Hello!\")"
   ]
  },
  {
   "cell_type": "markdown",
   "id": "e3cccc7d",
   "metadata": {
    "slideshow": {
     "slide_type": "slide"
    }
   },
   "source": [
    "#### `sorted`\n",
    "\n",
    "- Input: a `list` \n",
    "- Output: a sorted `list`."
   ]
  },
  {
   "cell_type": "code",
   "execution_count": null,
   "id": "3ecd002f",
   "metadata": {
    "slideshow": {
     "slide_type": "-"
    }
   },
   "outputs": [],
   "source": [
    "unsorted = [2, 1, 5]\n",
    "sorted(unsorted)"
   ]
  },
  {
   "cell_type": "markdown",
   "id": "aa393b08",
   "metadata": {
    "slideshow": {
     "slide_type": "slide"
    }
   },
   "source": [
    "## Defining a function\n",
    "\n",
    "In Python, a new function can be created or **defined** using the `def` keyword, followed by the name of the function.\n",
    "\n",
    "See the `square` function definition below:\n",
    "\n",
    "- Function name: `square`. \n",
    "- Function arguments: `x`.  \n",
    "- Function `return`: `x ** 2`.  "
   ]
  },
  {
   "cell_type": "code",
   "execution_count": null,
   "id": "80bce04e",
   "metadata": {
    "slideshow": {
     "slide_type": "-"
    }
   },
   "outputs": [],
   "source": [
    "def square(x):\n",
    "    \"\"\"Returns the square of X.\"\"\"\n",
    "    return x**2"
   ]
  },
  {
   "cell_type": "markdown",
   "id": "8f19c17b",
   "metadata": {
    "slideshow": {
     "slide_type": "slide"
    }
   },
   "source": [
    "### Executing a function\n",
    "\n",
    "To **execute** a function, we can reference the function name (like a variable), followed by the parentheses `()` and any arguments/input for the function."
   ]
  },
  {
   "cell_type": "code",
   "execution_count": null,
   "id": "7dce64fd",
   "metadata": {
    "slideshow": {
     "slide_type": "-"
    }
   },
   "outputs": [],
   "source": [
    "## Function name = square\n",
    "## Input = 2\n",
    "square(2)"
   ]
  },
  {
   "cell_type": "code",
   "execution_count": null,
   "id": "36bec665",
   "metadata": {
    "slideshow": {
     "slide_type": "-"
    }
   },
   "outputs": [],
   "source": [
    "## Function name = square\n",
    "## Input = 4\n",
    "square(4)"
   ]
  },
  {
   "cell_type": "markdown",
   "id": "8a180bd8",
   "metadata": {
    "slideshow": {
     "slide_type": "slide"
    }
   },
   "source": [
    "### What type is a function?\n",
    "\n",
    "A function belongs to a special `type` in Python, called `function`."
   ]
  },
  {
   "cell_type": "code",
   "execution_count": null,
   "id": "ffc4e86f",
   "metadata": {
    "slideshow": {
     "slide_type": "-"
    }
   },
   "outputs": [],
   "source": [
    "type(square)"
   ]
  },
  {
   "cell_type": "markdown",
   "id": "0191963f",
   "metadata": {
    "slideshow": {
     "slide_type": "slide"
    }
   },
   "source": [
    "### A more complex function\n",
    "\n",
    "What if we wanted a function that did the following:\n",
    "\n",
    "- `if` the input `x` is **even**, we square it.  \n",
    "- `if` the input `x` is **odd**, we just `return` that number."
   ]
  },
  {
   "cell_type": "code",
   "execution_count": null,
   "id": "a5f72f4f",
   "metadata": {
    "slideshow": {
     "slide_type": "-"
    }
   },
   "outputs": [],
   "source": [
    "def square_if_even(x):\n",
    "    \"\"\"Squares x if x is even; otherwise return x.\"\"\"\n",
    "    if x % 2 == 0: ## check if even\n",
    "        return x ** 2 ## if so, return square\n",
    "    else: ## otherwise..\n",
    "        return x ## just return x"
   ]
  },
  {
   "cell_type": "code",
   "execution_count": null,
   "id": "d61f3340",
   "metadata": {
    "slideshow": {
     "slide_type": "-"
    }
   },
   "outputs": [],
   "source": [
    "## 2 is even, so square it\n",
    "square_if_even(2)"
   ]
  },
  {
   "cell_type": "code",
   "execution_count": null,
   "id": "7c54492a",
   "metadata": {
    "slideshow": {
     "slide_type": "-"
    }
   },
   "outputs": [],
   "source": [
    "## 3 is odd, so just return it\n",
    "square_if_even(3)"
   ]
  },
  {
   "cell_type": "markdown",
   "id": "5b389919",
   "metadata": {
    "slideshow": {
     "slide_type": "slide"
    }
   },
   "source": [
    "### Another more complex function\n",
    "\n",
    "So far, our functions have only had a **single argument**. But functions can take in *many* arguments. \n",
    "\n",
    "Let's define a function with *two inputs*, which just adds those inputs together."
   ]
  },
  {
   "cell_type": "code",
   "execution_count": null,
   "id": "031eab53",
   "metadata": {
    "slideshow": {
     "slide_type": "-"
    }
   },
   "outputs": [],
   "source": [
    "def add_two_numbers(num1, num2):\n",
    "    \"\"\"Adds num1 to num2.\"\"\"\n",
    "    return num1 + num2"
   ]
  },
  {
   "cell_type": "code",
   "execution_count": null,
   "id": "de96cea9",
   "metadata": {
    "slideshow": {
     "slide_type": "-"
    }
   },
   "outputs": [],
   "source": [
    "add_two_numbers(1, 2)"
   ]
  },
  {
   "cell_type": "code",
   "execution_count": null,
   "id": "b3f785b1",
   "metadata": {
    "slideshow": {
     "slide_type": "-"
    }
   },
   "outputs": [],
   "source": [
    "add_two_numbers(5, 3)"
   ]
  },
  {
   "cell_type": "markdown",
   "id": "93585e2f",
   "metadata": {
    "slideshow": {
     "slide_type": "slide"
    }
   },
   "source": [
    "### Check-in\n",
    "\n",
    "What would the function below produce if the input `x` was `25`?\n",
    "\n",
    "More generally: how would you describe what this function *does*? "
   ]
  },
  {
   "cell_type": "code",
   "execution_count": null,
   "id": "8dc16e47",
   "metadata": {
    "slideshow": {
     "slide_type": "-"
    }
   },
   "outputs": [],
   "source": [
    "def mystery_func(x):\n",
    "    if x % 5 == 0:\n",
    "        return True\n",
    "    return False"
   ]
  },
  {
   "cell_type": "markdown",
   "id": "c7434631",
   "metadata": {
    "slideshow": {
     "slide_type": "slide"
    }
   },
   "source": [
    "### Check-in\n",
    "\n",
    "Write a function that takes a `name` as input and `return`s the formatted `str`: `\"My name is {name}.\"`\n",
    "\n",
    "The code below can get you started:\n",
    "\n",
    "```\n",
    "def hello(name):\n",
    "### your code here\n",
    "```"
   ]
  },
  {
   "cell_type": "code",
   "execution_count": null,
   "id": "4f0c23e8",
   "metadata": {
    "slideshow": {
     "slide_type": "-"
    }
   },
   "outputs": [],
   "source": [
    "# Your code here"
   ]
  },
  {
   "cell_type": "markdown",
   "id": "dcca8b7d",
   "metadata": {
    "slideshow": {
     "slide_type": "slide"
    }
   },
   "source": [
    "## Function arguments: the details\n",
    "\n",
    "Beyond the basics, there are several other important things to know about the **arguments** for a function:\n",
    "\n",
    "- It's important to be aware of what `type` your function expects as an argument.\n",
    "- Arguments can have **default values**.  \n",
    "- Some arguments can be accessed with a **keyword**, while others are **positional** arguments."
   ]
  },
  {
   "cell_type": "markdown",
   "id": "2b065987",
   "metadata": {
    "slideshow": {
     "slide_type": "slide"
    }
   },
   "source": [
    "### Argument `type`\n",
    "\n",
    "Some languages, like Java, require that you specify the `type` of an argument (and variable names, etc.).\n",
    "\n",
    "Python doesn't require that, but it's still important to be aware of.\n",
    "\n",
    "- Otherwise, you can run into a `TypeError`.\n",
    "- If you're interested: Python uses something called [duck typing](https://en.wikipedia.org/wiki/Duck_typing). "
   ]
  },
  {
   "cell_type": "markdown",
   "id": "c337a381",
   "metadata": {
    "slideshow": {
     "slide_type": "slide"
    }
   },
   "source": [
    "#### Example of a `TypeError`\n",
    "\n",
    "Here, the `square` function performs an operation with `x` that requires `x` to be an `int`."
   ]
  },
  {
   "cell_type": "code",
   "execution_count": null,
   "id": "d1d46bd2",
   "metadata": {
    "slideshow": {
     "slide_type": "-"
    }
   },
   "outputs": [],
   "source": [
    "def square(x):\n",
    "    return x ** 2\n",
    "square(\"two\")"
   ]
  },
  {
   "cell_type": "markdown",
   "id": "a721ada0",
   "metadata": {
    "slideshow": {
     "slide_type": "slide"
    }
   },
   "source": [
    "#### How to avoid a `TypeError`?\n",
    "\n",
    "In practice, the best way to avoid a `TypeError` is to **document your code**. \n",
    "\n",
    "- In the `docstring` under a function, you can write details about what the function expects, e.g., whether the input is an `int`, a `str`, etc."
   ]
  },
  {
   "cell_type": "code",
   "execution_count": null,
   "id": "a14ff6c4",
   "metadata": {
    "slideshow": {
     "slide_type": "-"
    }
   },
   "outputs": [],
   "source": [
    "def square(x):\n",
    "    \"\"\"\n",
    "    Parameters\n",
    "    ------\n",
    "    x: int or float\n",
    "      number to be squared\n",
    "    \n",
    "    Returns\n",
    "    -------\n",
    "    int or float\n",
    "      square of x\n",
    "    \"\"\"\n",
    "    return x ** 2\n",
    "\n",
    "square(0.5)"
   ]
  },
  {
   "cell_type": "markdown",
   "id": "7386b204",
   "metadata": {
    "slideshow": {
     "slide_type": "slide"
    }
   },
   "source": [
    "#### Check-in\n",
    "\n",
    "Will the function below result in an error if you called it on the input `\"test\"`? Why or why not?"
   ]
  },
  {
   "cell_type": "code",
   "execution_count": null,
   "id": "55113165",
   "metadata": {
    "slideshow": {
     "slide_type": "-"
    }
   },
   "outputs": [],
   "source": [
    "def mystery_func(x):\n",
    "    return x ** 3"
   ]
  },
  {
   "cell_type": "markdown",
   "id": "cdd7a4f7",
   "metadata": {
    "slideshow": {
     "slide_type": "slide"
    }
   },
   "source": [
    "### Default values\n",
    "\n",
    "> A **default value** is the value taken on by an argument *by default*. If no other value is specified, this is the value assumed by the function.\n",
    "\n",
    "In the function definition, a default value can be specified by setting: `arg_name = default_value`.\n",
    "\n",
    "- In the example below, `name` is required.\n",
    "- But `major` has a default value of `\"COGS\"`."
   ]
  },
  {
   "cell_type": "code",
   "execution_count": null,
   "id": "14b9e0aa",
   "metadata": {
    "slideshow": {
     "slide_type": "-"
    }
   },
   "outputs": [],
   "source": [
    "def my_info(name, major = \"COGS\"):\n",
    "    return \"My name is {name}, and my major is {major}.\".format(name = name, major = major)"
   ]
  },
  {
   "cell_type": "markdown",
   "id": "fe786aa3",
   "metadata": {
    "slideshow": {
     "slide_type": "-"
    }
   },
   "source": [
    "Even if we don't specify a value for `major`, the function will run just fine––it just uses the default value."
   ]
  },
  {
   "cell_type": "code",
   "execution_count": null,
   "id": "8b401735",
   "metadata": {
    "slideshow": {
     "slide_type": "-"
    }
   },
   "outputs": [],
   "source": [
    "my_info(\"Mary\")"
   ]
  },
  {
   "cell_type": "markdown",
   "id": "01a96d6b",
   "metadata": {
    "slideshow": {
     "slide_type": "slide"
    }
   },
   "source": [
    "#### Overriding a default value\n",
    "\n",
    "A default value can be overridden in the call to the function itself. \n",
    "\n",
    "- Note that this can reference the argument name (`major`), or just occupy the correct **position** in the series of arguments. (More on this later.)"
   ]
  },
  {
   "cell_type": "code",
   "execution_count": null,
   "id": "4699346f",
   "metadata": {
    "slideshow": {
     "slide_type": "-"
    }
   },
   "outputs": [],
   "source": [
    "my_info(\"Umberto\", major = \"LIGN\")"
   ]
  },
  {
   "cell_type": "code",
   "execution_count": null,
   "id": "9bc663c2",
   "metadata": {
    "scrolled": true,
    "slideshow": {
     "slide_type": "-"
    }
   },
   "outputs": [],
   "source": [
    "my_info(major = \"LIGN\", name = \"Sean\")"
   ]
  },
  {
   "cell_type": "markdown",
   "id": "79bc5e98",
   "metadata": {
    "slideshow": {
     "slide_type": "slide"
    }
   },
   "source": [
    "#### Arguments without a default must be referenced!\n",
    "\n",
    "If an argument *doesn't* have a default, the function will throw an error if you don't pass in enough arguments."
   ]
  },
  {
   "cell_type": "code",
   "execution_count": null,
   "id": "8752b5a0",
   "metadata": {
    "slideshow": {
     "slide_type": "-"
    }
   },
   "outputs": [],
   "source": [
    "my_info()"
   ]
  },
  {
   "cell_type": "markdown",
   "id": "2b1aca31",
   "metadata": {
    "slideshow": {
     "slide_type": "slide"
    }
   },
   "source": [
    "#### Check-in\n",
    "\n",
    "Why does the following code not throw an error?"
   ]
  },
  {
   "cell_type": "code",
   "execution_count": null,
   "id": "83e35155",
   "metadata": {
    "scrolled": true,
    "slideshow": {
     "slide_type": "-"
    }
   },
   "outputs": [],
   "source": [
    "my_info(\"POLI\")"
   ]
  },
  {
   "cell_type": "markdown",
   "id": "0050dc35",
   "metadata": {
    "slideshow": {
     "slide_type": "slide"
    }
   },
   "source": [
    "### Positional vs. keyword arguments\n",
    "\n",
    "An argument to a function can be indicated using either:\n",
    "\n",
    "- Its **position**, i.e., in the list of possible arguments.\n",
    "- A **keyword**, i.e., the *name* of that argument."
   ]
  },
  {
   "cell_type": "markdown",
   "id": "0d70659d",
   "metadata": {
    "slideshow": {
     "slide_type": "-"
    }
   },
   "source": [
    "A **positional argument** uses the relative position of the arguments to determine which is which. "
   ]
  },
  {
   "cell_type": "code",
   "execution_count": null,
   "id": "d2a24ba1",
   "metadata": {
    "slideshow": {
     "slide_type": "-"
    }
   },
   "outputs": [],
   "source": [
    "def exponentiate(num, exp):\n",
    "    return num ** exp"
   ]
  },
  {
   "cell_type": "code",
   "execution_count": null,
   "id": "e355d311",
   "metadata": {
    "slideshow": {
     "slide_type": "-"
    }
   },
   "outputs": [],
   "source": [
    "## Raise 2 ^ 3\n",
    "exponentiate(2, 3)"
   ]
  },
  {
   "cell_type": "code",
   "execution_count": null,
   "id": "b7bf38ce",
   "metadata": {
    "slideshow": {
     "slide_type": "-"
    }
   },
   "outputs": [],
   "source": [
    "## Raise 3 ^ 2\n",
    "exponentiate(3, 2)"
   ]
  },
  {
   "cell_type": "markdown",
   "id": "7e577a19",
   "metadata": {
    "slideshow": {
     "slide_type": "slide"
    }
   },
   "source": [
    "A **keyword argument** uses the *name* of the argument to determine which is which. \n",
    "\n",
    "- Even if the positions are swapped, the *keyword* will take priority. \n",
    "- (Note that the best practice is to keep the order consistent, however.)"
   ]
  },
  {
   "cell_type": "code",
   "execution_count": null,
   "id": "50728500",
   "metadata": {
    "slideshow": {
     "slide_type": "-"
    }
   },
   "outputs": [],
   "source": [
    "## Raise 2 ^ 3\n",
    "exponentiate(num = 2, exp = 3)"
   ]
  },
  {
   "cell_type": "code",
   "execution_count": null,
   "id": "5c3ae5d8",
   "metadata": {
    "slideshow": {
     "slide_type": "-"
    }
   },
   "outputs": [],
   "source": [
    "## Raise 2 ^ 3\n",
    "exponentiate(exp = 3, num = 2)"
   ]
  },
  {
   "cell_type": "markdown",
   "id": "6814b10e",
   "metadata": {
    "slideshow": {
     "slide_type": "slide"
    }
   },
   "source": [
    "#### Position before keyword\n",
    "\n",
    "- Once you've used a keyword argument, you can't rely on **position** for any arguments coming after that keyword. This will throw a `SyntaxError`.\n",
    "- However, a **positional argument** can come before a **keyword argument**.\n"
   ]
  },
  {
   "cell_type": "code",
   "execution_count": null,
   "id": "70ee59bd",
   "metadata": {
    "slideshow": {
     "slide_type": "-"
    }
   },
   "outputs": [],
   "source": [
    "## This is incorrect\n",
    "exponentiate(num = 2, 3)"
   ]
  },
  {
   "cell_type": "code",
   "execution_count": null,
   "id": "8534ad37",
   "metadata": {
    "slideshow": {
     "slide_type": "-"
    }
   },
   "outputs": [],
   "source": [
    "## This is fine\n",
    "exponentiate(2, exp = 3)"
   ]
  },
  {
   "cell_type": "markdown",
   "id": "adc273f1",
   "metadata": {
    "slideshow": {
     "slide_type": "slide"
    }
   },
   "source": [
    "## Practice problems"
   ]
  },
  {
   "cell_type": "markdown",
   "id": "4c6ac8b5",
   "metadata": {
    "slideshow": {
     "slide_type": "slide"
    }
   },
   "source": [
    "### Problem 1\n",
    "\n",
    "Write a function called `fizzbuzz`. It should take in a single argument, `x`, and follow this behavior:\n",
    "\n",
    "- If `x` is divisible by both `3` and `5`, return the `str` `\"fizzbuzz\"`. \n",
    "- If `x` is divisible by only `3` (and not `5`), return `\"fizz\"`).\n",
    "- If `x` is divisible by only `5` (and not `3`), return `\"buzz\"`).\n",
    "\n",
    "Note: this is part of a famous problem in **coding interviews**!"
   ]
  },
  {
   "cell_type": "code",
   "execution_count": null,
   "id": "25a06421",
   "metadata": {
    "slideshow": {
     "slide_type": "-"
    }
   },
   "outputs": [],
   "source": [
    "def fizzbuzz(x):\n",
    "    pass"
   ]
  },
  {
   "cell_type": "markdown",
   "id": "014891b6",
   "metadata": {
    "slideshow": {
     "slide_type": "slide"
    }
   },
   "source": [
    "### Problem 2\n",
    "\n",
    "Write a function called **product**, which takes a `list` (`lst`) as input, and returns the **product** of every item in the list."
   ]
  },
  {
   "cell_type": "code",
   "execution_count": null,
   "id": "5b35c869",
   "metadata": {
    "slideshow": {
     "slide_type": "-"
    }
   },
   "outputs": [],
   "source": [
    "L = [2, 3, 4, 5]\n",
    "\n",
    "def product(lst):\n",
    "    pass"
   ]
  },
  {
   "cell_type": "markdown",
   "id": "2741a05a",
   "metadata": {
    "slideshow": {
     "slide_type": "slide"
    }
   },
   "source": [
    "## Returning multiple values\n",
    "\n",
    "Functions can `return` multiple values, or even another function. \n",
    "\n",
    "This can be useful when:\n",
    "\n",
    "- The goal of a `function` can't be distilled into a single value.  \n",
    "- You want to `return` multiple bits of information about something, e.g., its `len`, its value, and so on.  \n",
    "\n",
    "Multiple values can be separated with a `,`."
   ]
  },
  {
   "cell_type": "markdown",
   "id": "0540f222",
   "metadata": {
    "slideshow": {
     "slide_type": "slide"
    }
   },
   "source": [
    "### Multiple `return` values: an example\n",
    "\n",
    "Suppose we wanted a function that takes two numbers as input, and returns both:\n",
    "\n",
    "- Their sum.  \n",
    "- Their product."
   ]
  },
  {
   "cell_type": "code",
   "execution_count": null,
   "id": "ee665bc1",
   "metadata": {
    "slideshow": {
     "slide_type": "-"
    }
   },
   "outputs": [],
   "source": [
    "def sum_product(a, b):\n",
    "    sumvar = a + b\n",
    "    prod = a * b\n",
    "    L = [sumvar, prod]\n",
    "    return L, sumvar, prod"
   ]
  },
  {
   "cell_type": "code",
   "execution_count": null,
   "id": "64e739db",
   "metadata": {
    "slideshow": {
     "slide_type": "-"
    }
   },
   "outputs": [],
   "source": [
    "l, s, p = sum_product(10, 200)\n",
    "print(l)\n",
    "print(s)\n",
    "print(p)"
   ]
  },
  {
   "cell_type": "markdown",
   "id": "8e1bd1a6",
   "metadata": {
    "slideshow": {
     "slide_type": "slide"
    }
   },
   "source": [
    "### Check-in\n",
    "\n",
    "What do you notice about the `type` of the object that gets returned when a function returns *multiple values*?"
   ]
  },
  {
   "cell_type": "code",
   "execution_count": null,
   "id": "4eb40bb6",
   "metadata": {
    "slideshow": {
     "slide_type": "-"
    }
   },
   "outputs": [],
   "source": [
    "sum_product(5, 2)"
   ]
  },
  {
   "cell_type": "markdown",
   "id": "0b9c1a4c",
   "metadata": {
    "slideshow": {
     "slide_type": "slide"
    }
   },
   "source": [
    "### `return` and `tuple`s\n",
    "\n",
    "By default, a `function` will package these multiple values into a `tuple`.\n",
    "\n",
    "- It's possible to return them in another form, e.g., in a structured dictionary. \n",
    "- But if you use the `return a, b` syntax, `a` and `b` will returned like: `(a, b)`"
   ]
  },
  {
   "cell_type": "markdown",
   "id": "95967cf6",
   "metadata": {
    "slideshow": {
     "slide_type": "slide"
    }
   },
   "source": [
    "## Namespaces"
   ]
  },
  {
   "cell_type": "markdown",
   "id": "9f06d9c7",
   "metadata": {
    "slideshow": {
     "slide_type": "slide"
    }
   },
   "source": [
    "### What is a namespace?\n",
    "\n",
    "> A [**namespace**](https://realpython.com/python-namespaces-scope/) is the \"space\" where a given set of variable names have been *declared*.\n",
    "\n",
    "Python has several types of namespaces:\n",
    "\n",
    "1. **Built-in**: Built-in objects within Python (e.g., **Exceptions**, **lists**, and more). These can be accessed from anywhere.  \n",
    "2. **Global**: Any objects defined in the main program. These can be accessed anywhere in the main program once you've defined them, but not in another Jupyter notebook, etc.\n",
    "3. **Local**: If you define new variables within a *function*, those variables can only be accessed within the \"scope\" of that function."
   ]
  },
  {
   "cell_type": "markdown",
   "id": "c93b00e1",
   "metadata": {
    "slideshow": {
     "slide_type": "slide"
    }
   },
   "source": [
    "### The global namespace\n",
    "\n",
    "So far, we've mostly been working with variables defined in the **global namespace**.\n",
    "\n",
    "- I.e., once we define a variable in a notebook (and run that cell), we can reference it in another cell."
   ]
  },
  {
   "cell_type": "code",
   "execution_count": null,
   "id": "9bf1751a",
   "metadata": {},
   "outputs": [],
   "source": [
    "## define global variable\n",
    "my_var = 2"
   ]
  },
  {
   "cell_type": "code",
   "execution_count": null,
   "id": "001036c9",
   "metadata": {},
   "outputs": [],
   "source": [
    "## reference global variable\n",
    "print(my_var)"
   ]
  },
  {
   "cell_type": "markdown",
   "id": "af2ac7c1",
   "metadata": {
    "slideshow": {
     "slide_type": "slide"
    }
   },
   "source": [
    "### Functions have their own namespace\n",
    "\n",
    "If you declare a variable **within** a function definition, that variable does *not* persist outside the scope of that function.\n",
    "\n",
    "In the function below, we declare a new variable called `answer`, which is eventually `return`ed.\n",
    "\n",
    "- However, the **variable itself** does not exist outside the function."
   ]
  },
  {
   "cell_type": "code",
   "execution_count": null,
   "id": "1d591ec1",
   "metadata": {
    "slideshow": {
     "slide_type": "-"
    }
   },
   "outputs": [],
   "source": [
    "def exponentiate(num, exp):\n",
    "    ### \"answer\" is a new variable \n",
    "    answer = num ** exp\n",
    "    return answer"
   ]
  },
  {
   "cell_type": "code",
   "execution_count": null,
   "id": "1a31a687",
   "metadata": {
    "slideshow": {
     "slide_type": "-"
    }
   },
   "outputs": [],
   "source": [
    "exponentiate(3, 2)\n",
    "### This will throw an error\n",
    "print(answer)"
   ]
  },
  {
   "cell_type": "markdown",
   "id": "70248681",
   "metadata": {
    "slideshow": {
     "slide_type": "slide"
    }
   },
   "source": [
    "### Global variables *can* be referenced inside a function\n",
    "\n",
    "If you've defined a variable in the global namespace, you *can* reference it inside a function.\n",
    "\n",
    "- **Word of caution ⚠️**: this can make for confusing code. "
   ]
  },
  {
   "cell_type": "code",
   "execution_count": null,
   "id": "82a0f1e5",
   "metadata": {},
   "outputs": [],
   "source": [
    "## define global variable\n",
    "my_var = 2\n",
    "## define function\n",
    "def add_two(x):\n",
    "    ## references my_var\n",
    "    return x + my_var\n",
    "\n",
    "add_two(2)"
   ]
  },
  {
   "cell_type": "markdown",
   "id": "7b349161",
   "metadata": {
    "slideshow": {
     "slide_type": "slide"
    }
   },
   "source": [
    "### Check-in\n",
    "\n",
    "What would value of `new_var` be after running the code below?\n",
    "\n",
    "What about `test_var`?"
   ]
  },
  {
   "cell_type": "code",
   "execution_count": null,
   "id": "186feb9d",
   "metadata": {
    "slideshow": {
     "slide_type": "-"
    }
   },
   "outputs": [],
   "source": [
    "test_var = 2\n",
    "def test_func(x):\n",
    "    test_var = x ** 2\n",
    "    return test_var\n",
    "\n",
    "new_var = test_func(5)"
   ]
  },
  {
   "cell_type": "markdown",
   "id": "52111d6c",
   "metadata": {
    "slideshow": {
     "slide_type": "slide"
    }
   },
   "source": [
    "### Using `whos`\n",
    "\n",
    "Remember that you can check which variables are defined using `whos`.\n",
    "\n",
    "**Warning**: It works on IPython and Jypyter Notebooks. If you open a python script in your computer, it is probably not going to work."
   ]
  },
  {
   "cell_type": "code",
   "execution_count": null,
   "id": "985c7690",
   "metadata": {
    "slideshow": {
     "slide_type": "-"
    }
   },
   "outputs": [],
   "source": [
    "whos"
   ]
  },
  {
   "cell_type": "markdown",
   "id": "7d857c00",
   "metadata": {
    "slideshow": {
     "slide_type": "slide"
    }
   },
   "source": [
    "## `lambda` functions\n",
    "\n",
    "So far, we've focused on creating functions using the `def func_name(...)` syntax.\n",
    "\n",
    "However, Python also has something called [**lambda functions**](https://www.w3schools.com/python/python_lambda.asp). \n",
    "\n",
    "- Syntax: `lambda x: ...`. \n",
    "- Main advantage: can be written in a single line, best if you want a **simple function**.  \n",
    "   - Excellent for passing as *arguments* into other functions, such as `sorted`."
   ]
  },
  {
   "cell_type": "code",
   "execution_count": null,
   "id": "55982d75",
   "metadata": {
    "slideshow": {
     "slide_type": "-"
    }
   },
   "outputs": [],
   "source": [
    "square = lambda x: x ** 2\n",
    "print(square(2))\n",
    "print(square(4))"
   ]
  },
  {
   "cell_type": "markdown",
   "id": "0a13b69a",
   "metadata": {
    "slideshow": {
     "slide_type": "-"
    }
   },
   "source": [
    "In theory, `lambda` functions can have multiple arguments."
   ]
  },
  {
   "cell_type": "code",
   "execution_count": null,
   "id": "039a3f2f",
   "metadata": {
    "slideshow": {
     "slide_type": "-"
    }
   },
   "outputs": [],
   "source": [
    "exp = lambda x, y: x ** y\n",
    "print(exp(2, 3))"
   ]
  },
  {
   "cell_type": "markdown",
   "id": "681897fa",
   "metadata": {
    "slideshow": {
     "slide_type": "slide"
    }
   },
   "source": [
    "### Check-in\n",
    "\n",
    "Convert the function below into a `lambda` function."
   ]
  },
  {
   "cell_type": "code",
   "execution_count": null,
   "id": "5769fb99",
   "metadata": {
    "slideshow": {
     "slide_type": "-"
    }
   },
   "outputs": [],
   "source": [
    "def add_one(x):\n",
    "    ## Adds 1 to x\n",
    "    return x + 1\n",
    "\n",
    "### Your code here"
   ]
  },
  {
   "cell_type": "markdown",
   "id": "4cce465a",
   "metadata": {
    "slideshow": {
     "slide_type": "slide"
    }
   },
   "source": [
    "### `lambda`: summary\n",
    "\n",
    "- `lambda` is an easy, efficient way to define a simple function.  \n",
    "- In practice, `lambda` is most useful when defining functions \"on the fly\".\n",
    "   - As **arguments** to pass into another function.\n",
    "   - As **nested functions** within another function. "
   ]
  },
  {
   "cell_type": "markdown",
   "id": "5bb00b57",
   "metadata": {
    "slideshow": {
     "slide_type": "slide"
    }
   },
   "source": [
    "## Varying number of arguments\n",
    "\n",
    "So far, we've assumed that we *know* how many arguments will be passed into a function at any given time. But this isn't always the case.\n",
    "\n",
    "Fortunately, Python gives us two ways to handle an **arbitrary number** of arguments:\n",
    "\n",
    "- `*args`: allows a `function` to receive an arbitrary number of (positional) arguments, which can be \"unpacked\" as needed. The function treats them as a `tuple`. \n",
    "- `**kwargs`: allows a `function` to receive a `dictionary` of (keyword) arguments, which can be \"unpacked\" as needed. "
   ]
  },
  {
   "cell_type": "markdown",
   "id": "a066c1af",
   "metadata": {
    "slideshow": {
     "slide_type": "slide"
    }
   },
   "source": [
    "### `*args` in practice\n",
    "\n",
    "The `*args` syntax allows you to input an arbitrary number of arguments into a function."
   ]
  },
  {
   "cell_type": "code",
   "execution_count": null,
   "id": "d2657f4c",
   "metadata": {
    "slideshow": {
     "slide_type": "-"
    }
   },
   "outputs": [],
   "source": [
    "def my_function(*fruits):\n",
    "    print(\"The last fruit is \" + fruits[-1] + \".\")"
   ]
  },
  {
   "cell_type": "code",
   "execution_count": null,
   "id": "bae70d4f",
   "metadata": {
    "slideshow": {
     "slide_type": "-"
    }
   },
   "outputs": [],
   "source": [
    "my_function(\"strawberry\")"
   ]
  },
  {
   "cell_type": "code",
   "execution_count": null,
   "id": "8d4eceb8",
   "metadata": {
    "slideshow": {
     "slide_type": "-"
    }
   },
   "outputs": [],
   "source": [
    "my_function(\"strawberry\", \"apple\")"
   ]
  },
  {
   "cell_type": "markdown",
   "id": "c598cf5a",
   "metadata": {
    "slideshow": {
     "slide_type": "slide"
    }
   },
   "source": [
    "#### Check-in\n",
    "\n",
    "How exactly is this working? That is, what is `my_function` treating `*fruits` as? \n",
    "\n",
    "Try `print`ing out `fruits` to see what's going on."
   ]
  },
  {
   "cell_type": "code",
   "execution_count": null,
   "id": "4a902dcf",
   "metadata": {
    "slideshow": {
     "slide_type": "-"
    }
   },
   "outputs": [],
   "source": [
    "### Your code here"
   ]
  },
  {
   "cell_type": "markdown",
   "id": "54a0da36",
   "metadata": {
    "slideshow": {
     "slide_type": "slide"
    }
   },
   "source": [
    "### `**kargs` in practice\n",
    "\n",
    "The `*kwargs` is similar to `*args`, but allows for an arbitrary number of **keyword arguments**.\n",
    "\n",
    "- These are treated as a `dict` by the function."
   ]
  },
  {
   "cell_type": "code",
   "execution_count": null,
   "id": "301b5ffa",
   "metadata": {
    "slideshow": {
     "slide_type": "-"
    }
   },
   "outputs": [],
   "source": [
    "def my_bad_function(*fruits):\n",
    "    print('I have ' + str(fruits[1]) + ' ' + str(fruits[0]))\n",
    "\n",
    "def my_function(**fruits):\n",
    "    print('I have ' + str(fruits['amount']) + ' ' + fruits['name'])\n",
    "    if (fruits['ripe']): print('And they are ripe!')"
   ]
  },
  {
   "cell_type": "code",
   "execution_count": null,
   "id": "3ad1788e",
   "metadata": {
    "slideshow": {
     "slide_type": "-"
    }
   },
   "outputs": [],
   "source": [
    "### Keyword and value are automatically placed into dictionary\n",
    "my_function(amount = 5, name = \"apple\", ripe = False)\n",
    "my_bad_function(5, \"apple\")"
   ]
  },
  {
   "cell_type": "code",
   "execution_count": null,
   "id": "693e7445",
   "metadata": {
    "slideshow": {
     "slide_type": "-"
    }
   },
   "outputs": [],
   "source": [
    "### The specific keyword can be altered as needed\n",
    "my_function(name = \"banana\", cost = 10)"
   ]
  },
  {
   "cell_type": "markdown",
   "id": "d91432d8",
   "metadata": {
    "slideshow": {
     "slide_type": "slide"
    }
   },
   "source": [
    "#### Why use this?\n",
    "\n",
    "In general, `**kwargs` is useful when you want **flexibility**.\n",
    "\n",
    "For example, suppose you have a website, in which people can (optionally) fill out the following information:\n",
    "\n",
    "- `Name`. \n",
    "- `Email`. \n",
    "- `Phone number`.\n",
    "- `Location`.\n",
    "\n",
    "But because not everyone fills out *every field*, the function you use to store this information needs to be flexible about how many arguments it receives."
   ]
  },
  {
   "cell_type": "code",
   "execution_count": null,
   "id": "6b66c35f",
   "metadata": {
    "slideshow": {
     "slide_type": "-"
    }
   },
   "outputs": [],
   "source": [
    "def store_user(**info):\n",
    "    ## For now, this is just a placeholder to demonstrate\n",
    "    for item in info.items():\n",
    "        print(item)"
   ]
  },
  {
   "cell_type": "code",
   "execution_count": null,
   "id": "3a81f3c5",
   "metadata": {
    "slideshow": {
     "slide_type": "-"
    }
   },
   "outputs": [],
   "source": [
    "store_user(Name = \"John\", Location = \"San Diego\", Email = 'john@ucsd.edu')"
   ]
  },
  {
   "cell_type": "markdown",
   "id": "a47102bd",
   "metadata": {
    "slideshow": {
     "slide_type": "slide"
    }
   },
   "source": [
    "## Practice problems\n",
    "\n",
    "One of the best ways to learn a new concept is to actually practice it. Thus, I'm including a number of practice problems at the end of this lecture, which we'll work through."
   ]
  },
  {
   "cell_type": "markdown",
   "id": "a16bb8ea",
   "metadata": {
    "slideshow": {
     "slide_type": "slide"
    }
   },
   "source": [
    "### Problem 1: find the maximum number of a `list`\n",
    "\n",
    "Goal: write a function that takes in a `list` of numbers as input, and finds the **maximum** of the `list`.  \n",
    "\n",
    "The catch: you can't use the operator `max`. \n",
    "\n",
    "Things to consider:\n",
    "\n",
    "- If the input `list` is empty, you should return `None`.  \n",
    "- Since you can't use `max`, you might consider using a `for` loop, checking the value of each number in turn."
   ]
  },
  {
   "cell_type": "code",
   "execution_count": null,
   "id": "e45093aa",
   "metadata": {
    "slideshow": {
     "slide_type": "-"
    }
   },
   "outputs": [],
   "source": [
    "### Your code here"
   ]
  },
  {
   "cell_type": "markdown",
   "id": "cfda08a9",
   "metadata": {
    "slideshow": {
     "slide_type": "slide"
    }
   },
   "source": [
    "### Problem 2: find the maximum number in a set of `*args`\n",
    "\n",
    "Goal: write a function that takes in an arbitrary number of arguments (i.e., uses `*args`), and finds the maximum.\n",
    "\n",
    "The catch: you can't use the operator `max`. \n",
    "\n",
    "Things to consider:\n",
    "\n",
    "- If there are no arguments, you should return `None`.  \n",
    "- Since you can't use `max`, you might consider using a `for` loop, checking the value of each number in turn."
   ]
  },
  {
   "cell_type": "code",
   "execution_count": null,
   "id": "e6877b49",
   "metadata": {
    "slideshow": {
     "slide_type": "-"
    }
   },
   "outputs": [],
   "source": [
    "### Your code here"
   ]
  },
  {
   "cell_type": "markdown",
   "id": "b5c6108b",
   "metadata": {
    "slideshow": {
     "slide_type": "slide"
    }
   },
   "source": [
    "### Problem 3: find the even numbers\n",
    "\n",
    "Goal: write a function that takes in a `list` of numbers, and prints the even ones."
   ]
  },
  {
   "cell_type": "code",
   "execution_count": null,
   "id": "cac2e37e",
   "metadata": {
    "slideshow": {
     "slide_type": "-"
    }
   },
   "outputs": [],
   "source": [
    "### Your code here"
   ]
  },
  {
   "cell_type": "markdown",
   "id": "be3b9dc4",
   "metadata": {
    "slideshow": {
     "slide_type": "slide"
    }
   },
   "source": [
    "### Problem 4: find the tallest in a dictionary.\n",
    "\n",
    "Suppose we want a `function` that takes in a `dict` of `Names` and `Heights`. That is, each *key* is a `Name`, and it maps onto a `Height`.\n",
    "\n",
    "We want the function to return the `Name` of the person with the largest `Height`, *as well as* the `Height` itself."
   ]
  },
  {
   "cell_type": "code",
   "execution_count": null,
   "id": "bf6d04a4",
   "metadata": {
    "slideshow": {
     "slide_type": "-"
    }
   },
   "outputs": [],
   "source": [
    "## Can't just max...that'll return \"Sean\"\n",
    "heights = {'Sean': 67, 'Ben': 72, 'Anne': 66}\n",
    "### Your code here"
   ]
  },
  {
   "cell_type": "markdown",
   "id": "8f4c58a8",
   "metadata": {
    "slideshow": {
     "slide_type": "slide"
    }
   },
   "source": [
    "# Working with Text Files"
   ]
  },
  {
   "cell_type": "markdown",
   "id": "e439b837",
   "metadata": {
    "slideshow": {
     "slide_type": "slide"
    }
   },
   "source": [
    "## Why read and write files?\n",
    "\n",
    "Fundamentally, a **file** is just a way to store **data**.\n",
    "\n",
    "This data could take many forms:\n",
    "\n",
    "- Unstructured text.  \n",
    "- [JSON](https://www.json.org/json-en.html), i.e., a kind of `dict`.  \n",
    "- `.csv`, i.e., like an Excel file.  \n",
    "- An executable file, like a Python script (`.py`). \n",
    "\n",
    "**Computational Social Science** centers around working with data. Thus, it's important to understand how to read and write these files."
   ]
  },
  {
   "cell_type": "markdown",
   "id": "38d369a9",
   "metadata": {
    "slideshow": {
     "slide_type": "slide"
    }
   },
   "source": [
    "### Some common use cases\n",
    "\n",
    "In CSS research, reading and writing files is pretty much *unavoidable*. It happens almost anytime you want to work with data.\n",
    "\n",
    "Examples:\n",
    "\n",
    "- Reading in a [text corpus](https://en.wikipedia.org/wiki/Text_corpus) of Tweets on a particular topic to perform **sentiment analysis**. \n",
    "- Reading in a corpus of [song lyrics](https://pudding.cool/2017/02/vocabulary/) to perform analyses about vocabulary, rhythm, and more.\n",
    "- Reading in [tabular data](https://www.statology.org/tabular-data/#:~:text=In%20statistics%2C%20tabular%20data%20refers,represent%20attributes%20for%20those%20observations.) about Economics to correlate `Economic Connectedness` with `Social Mobility`.  "
   ]
  },
  {
   "cell_type": "markdown",
   "id": "f0a2657a",
   "metadata": {
    "slideshow": {
     "slide_type": "slide"
    }
   },
   "source": [
    "## So what is a file?\n",
    "\n",
    "> A **file** is a set of *bytes* used to store some kind of data.\n",
    "\n",
    "The **format** of this data depends on what you're using it for, but at some level, it is translated into *binary bits* (`1`s and `0`s). \n",
    "\n",
    "The file format is usually specified in the **file extension**.  \n",
    "\n",
    "- `.csv`: comma separated values.  \n",
    "- `.txt`: a plain text file.  \n",
    "- `.py`: an executable Python file.  \n",
    "- `.png`: a portable network graphic file (i.e., an image)."
   ]
  },
  {
   "cell_type": "markdown",
   "id": "d9796bdc",
   "metadata": {
    "slideshow": {
     "slide_type": "slide"
    }
   },
   "source": [
    "### Where are files?\n",
    "\n",
    "Files are **stored** somewhere on your computer (or in a server, etc.), typically in a folder (also called a **directory**). Thus, each file has its own **location**\n",
    "\n",
    "- We call this **location** of a file its **path**.  \n",
    "- File paths can be either **absolute** or **relative**."
   ]
  },
  {
   "cell_type": "markdown",
   "id": "0c6f6b94",
   "metadata": {
    "slideshow": {
     "slide_type": "slide"
    }
   },
   "source": [
    "### Absolute file paths\n",
    "\n",
    "An **absolute** file path specifies the location of a file relative to some **root** directory.\n",
    "\n",
    "- On my computer, the root might be: `/Users/myusername/...`\n",
    "- If a file is called `my_file.txt`, the absolute file path would include *every directory* leading up to that file, starting from the root.\n",
    "- On Mac/Linux, each directory/folder is separated by the the `/` notation.\n",
    "- On Windows, they are separated by the `\\` notation.\n",
    "\n",
    "Example: `Users/myusername/CSS/css201/my_file.txt`"
   ]
  },
  {
   "cell_type": "markdown",
   "id": "98f0c92b",
   "metadata": {
    "slideshow": {
     "slide_type": "slide"
    }
   },
   "source": [
    "### Relative file paths\n",
    "\n",
    "A **relative** file path specifies the location of a file relative to the **current** directory (i.e., the one you're in right now). \n",
    "\n",
    "- For example, say our current directory is `css201`. \n",
    "- If a file is called `my_file.txt`, the relative file path would tell the computer how to get to `my_file.txt` from `css`.\n",
    "- On Mac/Linux, each directory/folder is separated by the the `/` notation.\n",
    "- On Windows, they are separated by the `\\` notation.\n",
    "\n",
    "Example: `css201/my_file.txt`"
   ]
  },
  {
   "cell_type": "markdown",
   "id": "6200ceb1",
   "metadata": {
    "slideshow": {
     "slide_type": "slide"
    }
   },
   "source": [
    "#### The `..` syntax\n",
    "\n",
    "If your target file (e.g., `my_file.txt`) is not stored within your current directory, you'll need to use the `..` syntax.\n",
    "\n",
    "- This tells your computer to \"go up a level\".\n",
    "\n",
    "For example, if we're currently in `css201/lectures/week2`, but we want to get to `css201/my_file.txt`, we'll need to use this notation:\n",
    "\n",
    "`../../my_file.txt`.\n"
   ]
  },
  {
   "cell_type": "markdown",
   "id": "8aaf17fd",
   "metadata": {
    "slideshow": {
     "slide_type": "slide"
    }
   },
   "source": [
    "### Check-in\n",
    "\n",
    "Suppose we want to access a file called `notes.txt`. This is the absolute path leading to that file:\n",
    "\n",
    "`/Users/myusername/css/lectures`\n",
    "\n",
    "How would we write the full **absolute path**, including the file name?\n"
   ]
  },
  {
   "cell_type": "code",
   "execution_count": 1,
   "id": "019c9ad1",
   "metadata": {
    "slideshow": {
     "slide_type": "-"
    }
   },
   "outputs": [],
   "source": [
    "### Your response here"
   ]
  },
  {
   "cell_type": "markdown",
   "id": "9a2b7f2b",
   "metadata": {
    "slideshow": {
     "slide_type": "slide"
    }
   },
   "source": [
    "#### Solution\n",
    "\n",
    "Suppose we want to access a file called `notes.txt`. This is the absolute path leading to that file:\n",
    "\n",
    "`/Users/myusername/css/lectures`\n",
    "\n",
    "Absolute path: `/Users/myusername/css/lectures/notes.txt`"
   ]
  },
  {
   "cell_type": "markdown",
   "id": "fe67d191",
   "metadata": {
    "slideshow": {
     "slide_type": "slide"
    }
   },
   "source": [
    "### Check-in\n",
    "\n",
    "Suppose we want to access a file called `notes.txt`. This is the absolute path leading to that file:\n",
    "\n",
    "`/Users/myusername/css/lectures`\n",
    "\n",
    "However, we're currently in the `labs` directory, which is also in the `css` folder.\n",
    "\n",
    "How would we write the **relative path** leading from our *current directory* to `lectures/notes.txt`?\n"
   ]
  },
  {
   "cell_type": "code",
   "execution_count": 1,
   "id": "662bea14",
   "metadata": {
    "slideshow": {
     "slide_type": "-"
    }
   },
   "outputs": [],
   "source": [
    "### Your response here"
   ]
  },
  {
   "cell_type": "markdown",
   "id": "4938257a",
   "metadata": {
    "slideshow": {
     "slide_type": "slide"
    }
   },
   "source": [
    "#### Solution\n",
    "\n",
    "Suppose we want to access a file called `notes.txt`. This is the absolute path leading to that file:\n",
    "\n",
    "`/Users/myusername/css/lectures`\n",
    "\n",
    "Relative path from `css/labs`: `../lectures/notes.txt`"
   ]
  },
  {
   "cell_type": "markdown",
   "id": "fe69b8a2",
   "metadata": {
    "slideshow": {
     "slide_type": "slide"
    }
   },
   "source": [
    "### File paths: wrap-up\n",
    "\n",
    "**File paths** can be one of the hardest things to get right.\n",
    "\n",
    "- Even as a more experienced programmer, I mess file paths up *all the time* (including for this class!). \n",
    "\n",
    "A helpful command is `pwd`, which reminds us *where we are*: i.e., what our current directory is."
   ]
  },
  {
   "cell_type": "code",
   "execution_count": 4,
   "id": "aaddb72e",
   "metadata": {
    "slideshow": {
     "slide_type": "-"
    }
   },
   "outputs": [
    {
     "data": {
      "text/plain": [
       "'/Users/seantrott/Dropbox/UCSD/Teaching/CSS/css1/css1_book/lectures'"
      ]
     },
     "execution_count": 4,
     "metadata": {},
     "output_type": "execute_result"
    }
   ],
   "source": [
    "pwd"
   ]
  },
  {
   "cell_type": "markdown",
   "id": "f46bcd00",
   "metadata": {
    "slideshow": {
     "slide_type": "slide"
    }
   },
   "source": [
    "## The *how*: interacting with files\n",
    "\n",
    "Once you've located a file, you probably want to either **read** or **write** it in some way. Both **modes** of interacting with a file will require the `open` keyword.\n",
    "\n",
    "In turn, you can `open` a file in one of several **modes**:\n",
    "\n",
    "- `w`: writing to that file (i.e., adding text to it).  \n",
    "- `r`: reading that file (i.e., reading what's already in it).\n",
    "- `a`: appending to what's already in the file. \n",
    "\n",
    "Let's take these step by step."
   ]
  },
  {
   "cell_type": "markdown",
   "id": "0ed7c873",
   "metadata": {
    "slideshow": {
     "slide_type": "slide"
    }
   },
   "source": [
    "### Writing a file\n",
    "\n",
    "The syntax to `open` a file in the **writing mode** is as follows:\n",
    "\n",
    "`open(\"filename.txt\", \"w\")`\n",
    "\n",
    "Often, we'll use the `with` keyword as in the codeblock below, which allows us to `open` that filename and assign it immediately to a variable.\n",
    "\n",
    "- Then, we can can call `var_name.write(\"TEXT TO ADD TO FILE\")`\n",
    "- The advantage of `with` is that it will automatically `close` the file once we're done with the `with` block.\n",
    "\n",
    "The `with` keyword is what we call a [**context manager**](https://book.pythontips.com/en/latest/context_managers.html). More on that in CSS 2 and CSS 100."
   ]
  },
  {
   "cell_type": "code",
   "execution_count": 14,
   "id": "b6afecb2",
   "metadata": {
    "slideshow": {
     "slide_type": "-"
    }
   },
   "outputs": [],
   "source": [
    "### Open up a file called `test.txt`\n",
    "with open(\"test.txt\", \"w\") as f:\n",
    "    ### Write string to file\n",
    "    f.write(\"This is a file.\")"
   ]
  },
  {
   "cell_type": "markdown",
   "id": "671449eb",
   "metadata": {
    "slideshow": {
     "slide_type": "slide"
    }
   },
   "source": [
    "#### Things to be aware of\n",
    "\n",
    "- `filename.txt` doesn't have to exist when you open a file for **writing**. It will be *created* by calling `open(filename.txt).  \n",
    "- If `filename.txt` *does* already exist, then by default you'll over-write what's there. If you want to just *add* to the file, use the `a` (**append**) mode instead.\n",
    "- To separate lines in this file, use the `\\n` character (*newline*). "
   ]
  },
  {
   "cell_type": "markdown",
   "id": "80864bdd",
   "metadata": {
    "slideshow": {
     "slide_type": "slide"
    }
   },
   "source": [
    "### Reading a file\n",
    "\n",
    "The syntax to `open` a file in the **reading mode** is as follows:\n",
    "\n",
    "`open(\"filename.txt\", \"r\")`\n",
    "\n",
    "Once we've opened the file, we can `read` the contents. The `read` function will return the contents as a `str`."
   ]
  },
  {
   "cell_type": "code",
   "execution_count": 18,
   "id": "489685ca",
   "metadata": {
    "slideshow": {
     "slide_type": "-"
    }
   },
   "outputs": [],
   "source": [
    "### Open up a file called `test.txt`\n",
    "with open(\"test.txt\", \"r\") as f:\n",
    "    ### Read the contents\n",
    "    contents = f.read()"
   ]
  },
  {
   "cell_type": "code",
   "execution_count": 19,
   "id": "a3fabaea",
   "metadata": {
    "slideshow": {
     "slide_type": "-"
    }
   },
   "outputs": [
    {
     "name": "stdout",
     "output_type": "stream",
     "text": [
      "This is a file.\n"
     ]
    }
   ],
   "source": [
    "### print out contents\n",
    "print(contents)"
   ]
  },
  {
   "cell_type": "markdown",
   "id": "a94bc387",
   "metadata": {
    "slideshow": {
     "slide_type": "slide"
    }
   },
   "source": [
    "### Check-in\n",
    "\n",
    "Use the `open` command to create and write a new file called `my_first_file.txt`. Once you've opened it, **write** a series of lines to that file:\n",
    "\n",
    "- The first line should read: `My name is {NAME}\\n`.\n",
    "- The next 5 lines should read: `This is line {i} of the file.\\n`, where `i` refers to the specfiic line number.\n",
    "\n",
    "**Hint**: Remember to use the *newline* character to separate each line."
   ]
  },
  {
   "cell_type": "code",
   "execution_count": 49,
   "id": "96888b01",
   "metadata": {
    "slideshow": {
     "slide_type": "-"
    }
   },
   "outputs": [],
   "source": [
    "### Your code here"
   ]
  },
  {
   "cell_type": "markdown",
   "id": "fd71e596",
   "metadata": {
    "slideshow": {
     "slide_type": "slide"
    }
   },
   "source": [
    "### Check-in\n",
    "\n",
    "Now use the `open` command to open `my_first_file.txt`. Once you've opened it, **read** the contents of that file into a new variable called `file_contents`."
   ]
  },
  {
   "cell_type": "code",
   "execution_count": 70,
   "id": "1e9f801d",
   "metadata": {
    "slideshow": {
     "slide_type": "-"
    }
   },
   "outputs": [],
   "source": [
    "### Your code here"
   ]
  },
  {
   "cell_type": "markdown",
   "id": "751c2c1d",
   "metadata": {
    "slideshow": {
     "slide_type": "slide"
    }
   },
   "source": [
    "### File reading, continued\n",
    "\n",
    "Before, we read in the *entire* file as one big `str`. There are several other ways to interact with and **read** a file, however.\n",
    "\n",
    "- `.read(n)`, where `n` refers to the number of characters you want to read.  \n",
    "- `.readlines()`, which returns a `list` of each *line* in the file."
   ]
  },
  {
   "cell_type": "markdown",
   "id": "7c26b41d",
   "metadata": {
    "slideshow": {
     "slide_type": "slide"
    }
   },
   "source": [
    "#### `.read(n)`\n",
    "\n",
    "The `read` function can be **parameterized** by the `n` argument, which tells Python how many characters of the file to read. "
   ]
  },
  {
   "cell_type": "code",
   "execution_count": 73,
   "id": "71a4a950",
   "metadata": {
    "slideshow": {
     "slide_type": "-"
    }
   },
   "outputs": [
    {
     "name": "stdout",
     "output_type": "stream",
     "text": [
      "My name is\n"
     ]
    }
   ],
   "source": [
    "with open(\"my_first_file.txt\", \"r\") as f:\n",
    "    n_characters = f.read(10)\n",
    "print(n_characters)"
   ]
  },
  {
   "cell_type": "code",
   "execution_count": 74,
   "id": "75375cfb",
   "metadata": {
    "slideshow": {
     "slide_type": "-"
    }
   },
   "outputs": [
    {
     "name": "stdout",
     "output_type": "stream",
     "text": [
      "My name is Sean\n"
     ]
    }
   ],
   "source": [
    "with open(\"my_first_file.txt\", \"r\") as f:\n",
    "    n_characters = f.read(15)\n",
    "print(n_characters)"
   ]
  },
  {
   "cell_type": "markdown",
   "id": "b28b1e2d",
   "metadata": {
    "slideshow": {
     "slide_type": "slide"
    }
   },
   "source": [
    "#### `.readlines()`\n",
    "\n",
    "The `readlines` function returns a `list`, where each element in the list corresponds to a line in the file.\n",
    "\n",
    "- *Lines* are defined as being separated by a `\\n` character."
   ]
  },
  {
   "cell_type": "code",
   "execution_count": 75,
   "id": "69ef3668",
   "metadata": {
    "slideshow": {
     "slide_type": "-"
    }
   },
   "outputs": [],
   "source": [
    "with open(\"my_first_file.txt\", \"r\") as f:\n",
    "    all_lines = f.readlines()"
   ]
  },
  {
   "cell_type": "code",
   "execution_count": 76,
   "id": "a1968f9b",
   "metadata": {
    "slideshow": {
     "slide_type": "-"
    }
   },
   "outputs": [
    {
     "data": {
      "text/plain": [
       "['My name is Sean.\\n',\n",
       " 'This is line 2 of the file.\\n',\n",
       " 'This is line 3 of the file.\\n',\n",
       " 'This is line 4 of the file.\\n',\n",
       " 'This is line 5 of the file.\\n']"
      ]
     },
     "execution_count": 76,
     "metadata": {},
     "output_type": "execute_result"
    }
   ],
   "source": [
    "all_lines"
   ]
  },
  {
   "cell_type": "markdown",
   "id": "e0c17f58",
   "metadata": {
    "slideshow": {
     "slide_type": "slide"
    }
   },
   "source": [
    "### Check-in\n",
    "\n",
    "- Use the `readlines` function to read in all lines from `my_first_file.txt`. \n",
    "- Then, use a `for` loop to iterate through each line.  \n",
    "  - For each line, `replace` the `\\n` character with an empty character (i.e., `\"\"`). \n",
    "  - Then, `print` out the line."
   ]
  },
  {
   "cell_type": "code",
   "execution_count": 77,
   "id": "aa885c18",
   "metadata": {
    "slideshow": {
     "slide_type": "-"
    }
   },
   "outputs": [],
   "source": [
    "### Your code here"
   ]
  },
  {
   "cell_type": "markdown",
   "id": "bbffd388",
   "metadata": {
    "slideshow": {
     "slide_type": "slide"
    }
   },
   "source": [
    "### Appending a file\n",
    "\n",
    "If you `open` a pre-existing file in the `w` mode, you can *overwrite* all of its existing content.\n",
    "\n",
    "If you wish to simply *add* to that file, you can instead open it in the `a` mode: `open(\"filename.txt\", \"a\")`"
   ]
  },
  {
   "cell_type": "code",
   "execution_count": 80,
   "id": "3068d513",
   "metadata": {
    "slideshow": {
     "slide_type": "-"
    }
   },
   "outputs": [],
   "source": [
    "## Open in append mode\n",
    "with open(\"my_first_file.txt\", \"a\") as f:\n",
    "    ## Syntax to write is the same.\n",
    "    f.write(\"This is new text I'm adding.\")"
   ]
  },
  {
   "cell_type": "code",
   "execution_count": 82,
   "id": "60e4d0e6",
   "metadata": {
    "slideshow": {
     "slide_type": "-"
    }
   },
   "outputs": [
    {
     "name": "stdout",
     "output_type": "stream",
     "text": [
      "My name is Sean.\n",
      "This is line 2 of the file.\n",
      "This is line 3 of the file.\n",
      "This is line 4 of the file.\n",
      "This is line 5 of the file.\n",
      "This is new text I'm adding.\n"
     ]
    }
   ],
   "source": [
    "## Now let's check if it worked...\n",
    "with open(\"my_first_file.txt\", \"r\") as f:\n",
    "    file_contents = f.read()\n",
    "print(file_contents)"
   ]
  },
  {
   "cell_type": "markdown",
   "id": "c891f283",
   "metadata": {
    "slideshow": {
     "slide_type": "slide"
    }
   },
   "source": [
    "### Closing a file\n",
    "\n",
    "Technically, it is good practice to always `close` a file once you've opened it. \n",
    "\n",
    "- If you're using the context manager (the `with` keyword), it will automatically `close` the file once you finish the `with` block.  \n",
    "- But if you're not, you can `close` a file using `var_name.close()`."
   ]
  },
  {
   "cell_type": "markdown",
   "id": "e69344c5",
   "metadata": {
    "slideshow": {
     "slide_type": "slide"
    }
   },
   "source": [
    "## Finding a target `str`\n",
    "\n",
    "One common use case is **searching** a large volume of text to `return` particular sub-string.\n",
    "\n",
    "- Where in the text does this sub-string occur?  \n",
    "- What is the text surrounding one of its occurrences?\n",
    "\n",
    "Note that this is not too far afield from a **search engine** like [Google](https://www.google.com/)!"
   ]
  },
  {
   "cell_type": "markdown",
   "id": "5ad3b2f9",
   "metadata": {
    "slideshow": {
     "slide_type": "slide"
    }
   },
   "source": [
    "### Our sample text\n",
    "\n",
    "To start, we'll use a `.txt` file of [**Hamlet**](https://en.wikipedia.org/wiki/Hamlet), by [William Shakespeare](https://en.wikipedia.org/wiki/William_Shakespeare). The `.txt` file was retrieved from the [Project Gutenberg Corpus](https://www.gutenberg.org/browse/scores/top) online, and should be credited as such. \n",
    "\n",
    "The file is included in the `lectures` GitHub repository under the `data` directory.\n",
    "\n",
    "First, let's use `readlines()` to extract each **line** of the play as a separate item in a list."
   ]
  },
  {
   "cell_type": "code",
   "execution_count": 1,
   "id": "da1b70a0",
   "metadata": {
    "slideshow": {
     "slide_type": "-"
    }
   },
   "outputs": [],
   "source": [
    "with open(\"data/hamlet.txt\") as f:\n",
    "    book = f.readlines()"
   ]
  },
  {
   "cell_type": "markdown",
   "id": "f08579fb",
   "metadata": {
    "slideshow": {
     "slide_type": "slide"
    }
   },
   "source": [
    "#### Inspecting the text"
   ]
  },
  {
   "cell_type": "code",
   "execution_count": 2,
   "id": "4d33b592",
   "metadata": {
    "slideshow": {
     "slide_type": "-"
    }
   },
   "outputs": [
    {
     "data": {
      "text/plain": [
       "'THE TRAGEDY OF HAMLET, PRINCE OF DENMARK\\n'"
      ]
     },
     "execution_count": 2,
     "metadata": {},
     "output_type": "execute_result"
    }
   ],
   "source": [
    "## This is just the title\n",
    "book[0]"
   ]
  },
  {
   "cell_type": "code",
   "execution_count": 3,
   "id": "8902cddb",
   "metadata": {
    "slideshow": {
     "slide_type": "-"
    }
   },
   "outputs": [
    {
     "name": "stdout",
     "output_type": "stream",
     "text": [
      "\n",
      "Dramatis Personae\n",
      "\n",
      "  Claudius, King of Denmark.\n",
      "  Marcellus, Officer.\n",
      "  Hamlet, son to the former, and nephew to the present king.\n",
      "  Polonius, Lord Chamberlain.\n"
     ]
    }
   ],
   "source": [
    "## Partial list of characters in play\n",
    "for line in book[5:12]:\n",
    "    l = line.replace(\"\\n\", \"\")\n",
    "    print(l)"
   ]
  },
  {
   "cell_type": "markdown",
   "id": "39999a7c",
   "metadata": {
    "slideshow": {
     "slide_type": "slide"
    }
   },
   "source": [
    "#### Check-in\n",
    "\n",
    "How could we check how many **lines** are in the `.txt` file?"
   ]
  },
  {
   "cell_type": "code",
   "execution_count": 4,
   "id": "63d76668",
   "metadata": {
    "slideshow": {
     "slide_type": "-"
    }
   },
   "outputs": [],
   "source": [
    "### Your code here"
   ]
  },
  {
   "cell_type": "markdown",
   "id": "f1363798",
   "metadata": {
    "slideshow": {
     "slide_type": "slide"
    }
   },
   "source": [
    "### Finding a sample `str`\n",
    "\n",
    "One of the most famous lines in *Hamlet* reads:\n",
    "\n",
    "> To be, or not to be- that is the question...\n",
    "\n",
    "Suppose we wanted to **find** the `str` `\"that is the question\"` in the book, and **return** the line number (at least in this `.txt` file).\n",
    "\n",
    "How could we go about that?"
   ]
  },
  {
   "cell_type": "markdown",
   "id": "92b1a9bb",
   "metadata": {
    "slideshow": {
     "slide_type": "slide"
    }
   },
   "source": [
    "### Solution: `enumerate`\n",
    "\n",
    "- Use `enumerate` to iterate through each line of the play.  \n",
    "- For each line, check if some `target_str` occurs in that line.  \n",
    "- If it does, use `break` to **stop** iterating, and record which line it is."
   ]
  },
  {
   "cell_type": "code",
   "execution_count": 5,
   "id": "4fc9c6ae",
   "metadata": {
    "slideshow": {
     "slide_type": "-"
    }
   },
   "outputs": [
    {
     "name": "stdout",
     "output_type": "stream",
     "text": [
      "Line:   Ham. To be, or not to be- that is the question:\n",
      "Line number: 2048\n"
     ]
    }
   ],
   "source": [
    "target_str = \"that is the question\"\n",
    "for index, line in enumerate(book):\n",
    "    if target_str in line:\n",
    "        break\n",
    "print(\"Line: {x}\".format(x = line.replace(\"\\n\", \"\")))\n",
    "print(\"Line number: {x}\".format(x = index))"
   ]
  },
  {
   "cell_type": "markdown",
   "id": "104d5335",
   "metadata": {
    "slideshow": {
     "slide_type": "slide"
    }
   },
   "source": [
    "### Check-in: Finding the next $N$ lines\n",
    "\n",
    "What if we wanted to return the next $N$ (e.g., `5`) lines *after* this target string? \n",
    "\n",
    "- To do this, we just need to add another variable: `keep_lines`, which tells us *how many* additional lines we want to return.  \n",
    "- Then, once we've retrieved the `index` of our `target_str`, we can **slice** between that `index` and `index + 3`.\n",
    "\n",
    "Try implementing this algorithm yourself first. \n",
    "\n",
    "**Hint**: The code can be *mostly* the same as before (i.e., use `enumerate`, etc.). "
   ]
  },
  {
   "cell_type": "code",
   "execution_count": 6,
   "id": "f480705a",
   "metadata": {
    "slideshow": {
     "slide_type": "-"
    }
   },
   "outputs": [],
   "source": [
    "keep_lines = 5 ### New variable to track\n",
    "### Your code here"
   ]
  },
  {
   "cell_type": "markdown",
   "id": "00e320c6",
   "metadata": {
    "slideshow": {
     "slide_type": "slide"
    }
   },
   "source": [
    "### Check-in: What if `target_str` occurs multiple times?\n",
    "\n",
    "What if we were looking for a more common `target_str`, e.g., one that occurred multiple times?  \n",
    "\n",
    "1. What problems do you see with our previous approach (e.g., using `break` once we find `target_str`)?\n",
    "2. How might you solve this problem? "
   ]
  },
  {
   "cell_type": "code",
   "execution_count": 7,
   "id": "949882a6",
   "metadata": {
    "slideshow": {
     "slide_type": "-"
    }
   },
   "outputs": [],
   "source": [
    "target_str = \"the question\"\n",
    "### Your answer here"
   ]
  },
  {
   "cell_type": "markdown",
   "id": "4497fc9d",
   "metadata": {
    "slideshow": {
     "slide_type": "slide"
    }
   },
   "source": [
    "### Check-in: Other considerations\n",
    "\n",
    "These exercises really only scratch the surface of **searching** a file. Here are some other issues for consideration and discussion. \n",
    "\n",
    "How might you address:\n",
    "\n",
    "1. Issues of **case**: e.g., what if *question* is spelled `\"Question\"`, not `\"question\"`?\n",
    "2. Situations where a `target_str` spans multiple *lines*? \n",
    "3. Mismatch in punctuation, e.g., a misplaced `,`? \n",
    "4. A **partial match**, e.g., if $90\\%$ of the characters match?\n",
    "\n",
    "**Note**: These are challenging issues! And each of them likely has multiple solutions."
   ]
  },
  {
   "cell_type": "markdown",
   "id": "3555cdf5",
   "metadata": {
    "slideshow": {
     "slide_type": "slide"
    }
   },
   "source": [
    "## Counting Words\n",
    "\n",
    "Another very common **use case** is simply **counting** words.\n",
    "\n",
    "- How many words are there overall?  \n",
    "- How many *unique words* are used?  \n",
    "- How many times does *each word* occur?  \n",
    "- What is the *most frequent word*?"
   ]
  },
  {
   "cell_type": "markdown",
   "id": "c88b8b75",
   "metadata": {
    "slideshow": {
     "slide_type": "slide"
    }
   },
   "source": [
    "### Caveat: what *is* a word?\n",
    "\n",
    "The question of what defines a word is surprisingly complex.\n",
    "\n",
    "- First, languages have very different [**morphological systems**](https://en.wikipedia.org/wiki/Morphological_typology). So even *conceptually*, it's not always clear what makes a word \"a word\" in a given language.  \n",
    "- Second, languages have very different [**writing systems**](https://en.wikipedia.org/wiki/Orthography). \n",
    "  - Some languages (like English, Spanish, etc.) have *spaces* between words in their written form.  \n",
    "  - Other languages (like Classical Latin, Chinese, etc.) do [not typically use *spaces* between words](https://en.wikipedia.org/wiki/Scriptio_continua) in their written form.\n",
    "\n",
    "Many **conceptual definitions** and **tools** for identifying *words* are rooted in English specifically, but those definitions and tools don't always generalize––languages can be very different."
   ]
  },
  {
   "cell_type": "markdown",
   "id": "3dd3d4c7",
   "metadata": {
    "slideshow": {
     "slide_type": "slide"
    }
   },
   "source": [
    "### How *many* words?\n",
    "\n",
    "The first question that might occur to us is *how many words* are in a book. \n",
    "\n",
    "To do this, we could:\n",
    "\n",
    "- `read` the book in as one long `str`.  \n",
    "- Use the `split` function to separate this long `str` by **spaces**, into a `list` of words.\n",
    "- Count the number of items in this list."
   ]
  },
  {
   "cell_type": "markdown",
   "id": "b2f3ff6a",
   "metadata": {
    "slideshow": {
     "slide_type": "slide"
    }
   },
   "source": [
    "#### Using `split`: a review"
   ]
  },
  {
   "cell_type": "code",
   "execution_count": 8,
   "id": "2bb32f70",
   "metadata": {
    "slideshow": {
     "slide_type": "-"
    }
   },
   "outputs": [
    {
     "data": {
      "text/plain": [
       "['To', 'be', 'or', 'not', 'to', 'be,', 'that', 'is', 'the', 'question']"
      ]
     },
     "execution_count": 8,
     "metadata": {},
     "output_type": "execute_result"
    }
   ],
   "source": [
    "sentence = \"To be or not to be, that is the question\"\n",
    "sentence.split(\" \")"
   ]
  },
  {
   "cell_type": "markdown",
   "id": "78bee5c3",
   "metadata": {
    "slideshow": {
     "slide_type": "slide"
    }
   },
   "source": [
    "#### Using `split` for Hamlet"
   ]
  },
  {
   "cell_type": "code",
   "execution_count": 9,
   "id": "0c4a3564",
   "metadata": {
    "slideshow": {
     "slide_type": "-"
    }
   },
   "outputs": [],
   "source": [
    "# First, read in as string\n",
    "with open(\"data/hamlet.txt\", \"r\") as f:\n",
    "    book_str = f.read()"
   ]
  },
  {
   "cell_type": "code",
   "execution_count": 10,
   "id": "32eaf7a4",
   "metadata": {
    "slideshow": {
     "slide_type": "-"
    }
   },
   "outputs": [
    {
     "data": {
      "text/plain": [
       "['the', 'tragedy', 'of', 'hamlet,', 'prince']"
      ]
     },
     "execution_count": 10,
     "metadata": {},
     "output_type": "execute_result"
    }
   ],
   "source": [
    "# We should also clean up all those *newline* characters.\n",
    "book_str = book_str.replace(\"\\n\", \" \")\n",
    "# To make it easier for later, we can also turn it into lowercase\n",
    "book_str = book_str.lower()\n",
    "# Now, use split to separate into words\n",
    "book_words = book_str.split()\n",
    "book_words[0:5]"
   ]
  },
  {
   "cell_type": "code",
   "execution_count": 11,
   "id": "33c1b6f8",
   "metadata": {
    "slideshow": {
     "slide_type": "-"
    }
   },
   "outputs": [
    {
     "data": {
      "text/plain": [
       "32724"
      ]
     },
     "execution_count": 11,
     "metadata": {},
     "output_type": "execute_result"
    }
   ],
   "source": [
    "# How many items in list?\n",
    "len(book_words)"
   ]
  },
  {
   "cell_type": "markdown",
   "id": "d822fa54",
   "metadata": {
    "slideshow": {
     "slide_type": "slide"
    }
   },
   "source": [
    "### How many *unique* words?\n",
    "\n",
    "Above, we calculated how many word *tokens* were in the book. \n",
    "\n",
    "- This means that the word \"the\" will be counted *every time* it occurs.  \n",
    "- Instead, let's calculate the number of *unique* word types."
   ]
  },
  {
   "cell_type": "markdown",
   "id": "52817de1",
   "metadata": {
    "slideshow": {
     "slide_type": "slide"
    }
   },
   "source": [
    "#### Using `set`\n",
    "\n",
    "The `set` function will turn a `list` into a `set` object, which contains only the *unique elements* in that list."
   ]
  },
  {
   "cell_type": "code",
   "execution_count": 12,
   "id": "c5cdb497",
   "metadata": {
    "slideshow": {
     "slide_type": "-"
    }
   },
   "outputs": [
    {
     "data": {
      "text/plain": [
       "{'best', 'dog', 'is', 'the'}"
      ]
     },
     "execution_count": 12,
     "metadata": {},
     "output_type": "execute_result"
    }
   ],
   "source": [
    "my_list = [\"the\", \"dog\", \"is\", \"the\", \"best\"]\n",
    "set(my_list)"
   ]
  },
  {
   "cell_type": "markdown",
   "id": "fee30ab3",
   "metadata": {
    "slideshow": {
     "slide_type": "slide"
    }
   },
   "source": [
    "#### Check-in\n",
    "\n",
    "Use the `set` function to calculate how many *unique* words are in this book."
   ]
  },
  {
   "cell_type": "code",
   "execution_count": 13,
   "id": "4faccada",
   "metadata": {
    "slideshow": {
     "slide_type": "-"
    }
   },
   "outputs": [],
   "source": [
    "### Your code here"
   ]
  },
  {
   "cell_type": "markdown",
   "id": "715a92fe",
   "metadata": {
    "slideshow": {
     "slide_type": "slide"
    }
   },
   "source": [
    "### How many times does each word occur?\n",
    "\n",
    "We might also want to know *how many times* each word occurs. \n",
    "\n",
    "- For example, perhaps \"the\" occurs $>1000$ times, whereas \"question\" occurs only ~$10$ times.  \n",
    "- Ideally, we would store this in a `dict`:\n",
    "   - Each **key** represents a *word*.  \n",
    "   - Each **value** represents *how many times* that word occurred in *Hamlet*.\n",
    "\n",
    "How might we go about this?"
   ]
  },
  {
   "cell_type": "markdown",
   "id": "ac76e6d5",
   "metadata": {
    "slideshow": {
     "slide_type": "slide"
    }
   },
   "source": [
    "#### First pass: counting each word\n",
    "\n",
    "As a first pass, let's use the following approach:\n",
    "\n",
    "- First, create a `dict` to store our words.  \n",
    "- Then, *iterate* through our `list` of words.  \n",
    "- `if` a given word is not in our `dict`, add an entry for it (and set the value to `1`).  \n",
    "- `if` a given word *is* in a `dict`, increase its value by `1`."
   ]
  },
  {
   "cell_type": "code",
   "execution_count": 14,
   "id": "587ca7b4",
   "metadata": {
    "slideshow": {
     "slide_type": "-"
    }
   },
   "outputs": [],
   "source": [
    "word_counts = {}\n",
    "for w in book_words:\n",
    "    if w not in word_counts:\n",
    "        word_counts[w] = 1\n",
    "    else:\n",
    "        word_counts[w] += 1"
   ]
  },
  {
   "cell_type": "code",
   "execution_count": 15,
   "id": "13d13d1e",
   "metadata": {
    "slideshow": {
     "slide_type": "-"
    }
   },
   "outputs": [
    {
     "data": {
      "text/plain": [
       "1095"
      ]
     },
     "execution_count": 15,
     "metadata": {},
     "output_type": "execute_result"
    }
   ],
   "source": [
    "# How many times does \"the\" occur?\n",
    "word_counts['the']"
   ]
  },
  {
   "cell_type": "code",
   "execution_count": 16,
   "id": "1bbf9eae",
   "metadata": {
    "slideshow": {
     "slide_type": "-"
    }
   },
   "outputs": [
    {
     "data": {
      "text/plain": [
       "43"
      ]
     },
     "execution_count": 16,
     "metadata": {},
     "output_type": "execute_result"
    }
   ],
   "source": [
    "# How many times does \"king\" occur?\n",
    "word_counts['king']"
   ]
  },
  {
   "cell_type": "markdown",
   "id": "027b6f75",
   "metadata": {
    "slideshow": {
     "slide_type": "slide"
    }
   },
   "source": [
    "#### Check-in\n",
    "\n",
    "Any issues with this **first pass** approach? \n",
    "\n",
    "**Hint**: One issue could have to do with punctuation...\n",
    "\n",
    "Write a code that works when you may or may not have a '.' in sentence."
   ]
  },
  {
   "cell_type": "code",
   "execution_count": 17,
   "id": "c9b59e27",
   "metadata": {
    "slideshow": {
     "slide_type": "-"
    }
   },
   "outputs": [],
   "source": [
    "### Your code here"
   ]
  },
  {
   "cell_type": "markdown",
   "id": "7f373957",
   "metadata": {
    "slideshow": {
     "slide_type": "slide"
    }
   },
   "source": [
    "### Which word is most common?\n",
    "\n",
    "Now that we have a `dict` representing how many times each word occurs, we can calculate **which word** is most common.\n",
    "\n",
    "**Check-in**: Which word do you think is most frequent in *Hamlet*?"
   ]
  },
  {
   "cell_type": "markdown",
   "id": "59df2aa1",
   "metadata": {
    "slideshow": {
     "slide_type": "slide"
    }
   },
   "source": [
    "#### Finding the most frequent word\n",
    "\n",
    "As always, there are multiple ways to do this.\n",
    "\n",
    "But one simple approach is to:\n",
    "\n",
    "- Use a `for` loop to iterate through all `items()` in the `dict`.  \n",
    "- Track the `key_with_highest_value` we've seen so far.  \n",
    "- Once the `for` loop is done, inspect `key_with_highest_value`."
   ]
  },
  {
   "cell_type": "code",
   "execution_count": 20,
   "id": "323aa87e",
   "metadata": {
    "slideshow": {
     "slide_type": "-"
    }
   },
   "outputs": [],
   "source": [
    "key_with_highest_value = None\n",
    "max_count = 0\n",
    "for word, count in word_counts.items():\n",
    "    # If this word frequency > max_count\n",
    "    if count > max_count:\n",
    "        # Set new \"highest word\" to this word\n",
    "        key_with_highest_value = word\n",
    "        max_count = count\n"
   ]
  },
  {
   "cell_type": "code",
   "execution_count": 21,
   "id": "d8828c40",
   "metadata": {
    "slideshow": {
     "slide_type": "-"
    }
   },
   "outputs": [
    {
     "data": {
      "text/plain": [
       "'the'"
      ]
     },
     "execution_count": 21,
     "metadata": {},
     "output_type": "execute_result"
    }
   ],
   "source": [
    "## Now, inspect which word was most frequent\n",
    "key_with_highest_value"
   ]
  },
  {
   "cell_type": "markdown",
   "id": "aa2a9d3b",
   "metadata": {
    "slideshow": {
     "slide_type": "slide"
    }
   },
   "source": [
    "#### Other approaches\n",
    "\n",
    "There are *many different approaches* you could take to solving this problem. Some are more generalizable (but also more complicated) than what I've shown here.\n",
    "\n",
    "- You can `sort` the dictionary by **value** (see the lecture on **dictionary operations**).  \n",
    "- You could use the `max` function with `dict.get` as your `key` parameter (see below)."
   ]
  },
  {
   "cell_type": "code",
   "execution_count": 22,
   "id": "f18ee1f1",
   "metadata": {
    "slideshow": {
     "slide_type": "-"
    }
   },
   "outputs": [
    {
     "data": {
      "text/plain": [
       "'the'"
      ]
     },
     "execution_count": 22,
     "metadata": {},
     "output_type": "execute_result"
    }
   ],
   "source": [
    "# Another approach\n",
    "max(word_counts, key = word_counts.get)"
   ]
  },
  {
   "cell_type": "markdown",
   "id": "f0ba81c4",
   "metadata": {
    "slideshow": {
     "slide_type": "slide"
    }
   },
   "source": [
    "## JSON"
   ]
  },
  {
   "cell_type": "markdown",
   "id": "4cc3851b",
   "metadata": {
    "slideshow": {
     "slide_type": "slide"
    }
   },
   "source": [
    "## What is a `.json` file?\n",
    "\n",
    "> A `.json` file is a **file written in the JSON file format**. It allows us to store structured data objects consisting of **key-value** pairs."
   ]
  },
  {
   "cell_type": "markdown",
   "id": "f838c763",
   "metadata": {
    "slideshow": {
     "slide_type": "slide"
    }
   },
   "source": [
    "### What is JSON?\n",
    "\n",
    "**JSON** = JavaScript Object Notation.\n",
    "\n",
    "- Standard format for *representing* and *transmitting* data.  \n",
    "   - \"Standard\" = different people/systems agree to use this format to send and receive information.  \n",
    "- Represents data in **key-value** pairs."
   ]
  },
  {
   "cell_type": "markdown",
   "id": "6a869603",
   "metadata": {
    "slideshow": {
     "slide_type": "slide"
    }
   },
   "source": [
    "#### Check-in\n",
    "\n",
    "What else have we seen that represents data in **key-value pairs**?"
   ]
  },
  {
   "cell_type": "markdown",
   "id": "dd904bdd",
   "metadata": {
    "slideshow": {
     "slide_type": "slide"
    }
   },
   "source": [
    "### A Python `dict` is a collection of key-value pairs\n",
    "\n",
    "A **dictionary** (`dict`) stores **key-value** pairs."
   ]
  },
  {
   "cell_type": "code",
   "execution_count": 13,
   "id": "dcdc1e5e",
   "metadata": {
    "slideshow": {
     "slide_type": "-"
    }
   },
   "outputs": [
    {
     "name": "stdout",
     "output_type": "stream",
     "text": [
      "{'Code': '1', 'Department': 'CSS', 'Instructor': 'Mignozzetti', 'Prerequisite': True, 'Enrollment': 120}\n"
     ]
    }
   ],
   "source": [
    "my_class = {'Code': '1',\n",
    "           'Department': 'CSS',\n",
    "           'Instructor': 'Mignozzetti',\n",
    "            'Prerequisite': True,\n",
    "           'Enrollment': 120}\n",
    "print(my_class)"
   ]
  },
  {
   "cell_type": "code",
   "execution_count": 24,
   "id": "3e30798f",
   "metadata": {
    "slideshow": {
     "slide_type": "-"
    }
   },
   "outputs": [
    {
     "data": {
      "text/plain": [
       "'CSS'"
      ]
     },
     "execution_count": 24,
     "metadata": {},
     "output_type": "execute_result"
    }
   ],
   "source": [
    "my_class['Department']"
   ]
  },
  {
   "cell_type": "markdown",
   "id": "c668230d",
   "metadata": {
    "slideshow": {
     "slide_type": "slide"
    }
   },
   "source": [
    "### JSON and `dict`: an analogy\n",
    "\n",
    "Conceptually, JSON accomplishes the same goals as a Python `dict`.\n",
    "\n",
    "- In fact, Python programmers often *convert* a `dict` into a JSON `str` when they want to store it in a file.  \n",
    "- Similarly, you can **read in** a `.json` file and convert the contents into a `dict`.\n",
    "\n",
    "**Bottom line**: we're not dealing with a fundamentally new data sturcture––it's another standardized way to represent **key-value pairs**."
   ]
  },
  {
   "cell_type": "markdown",
   "id": "9d967777",
   "metadata": {
    "slideshow": {
     "slide_type": "slide"
    }
   },
   "source": [
    "## Reading in a `.json` file\n",
    "\n",
    "Reading in a `.json` file shares some similarities with [reading `.txt` files](17-reading-text).  \n",
    "\n",
    "- Must specify a **file path**.  \n",
    "- File path can be either *absolute* or *relative*.\n",
    "\n",
    "But there are also some important differences:\n",
    "\n",
    "- To **read in** a `.json` file, we'll need to `import` the `json` library.  \n",
    "- `json.load` will read in a **structured `.json` file** as a `dict`, not a `str`."
   ]
  },
  {
   "cell_type": "markdown",
   "id": "515a6509",
   "metadata": {
    "slideshow": {
     "slide_type": "slide"
    }
   },
   "source": [
    "### Example: simple file\n",
    "\n",
    "Here, we will work with a simple `.json` file: `data/restaurant.json`. \n",
    "\n",
    "- The file contains a structured representation of a restaurant.  \n",
    "- We use `json.load(...)` to **load** this representation as a `dict`."
   ]
  },
  {
   "cell_type": "code",
   "execution_count": 2,
   "id": "09263960",
   "metadata": {
    "slideshow": {
     "slide_type": "-"
    }
   },
   "outputs": [],
   "source": [
    "## This imports the json library\n",
    "import json"
   ]
  },
  {
   "cell_type": "code",
   "execution_count": 3,
   "id": "b19b3ed6",
   "metadata": {
    "slideshow": {
     "slide_type": "-"
    }
   },
   "outputs": [],
   "source": [
    "## As with normal .txt. files, we use \"open\" to open the target restaurant\n",
    "with open(\"data/restaurant.json\", \"r\") as fp:\n",
    "    ## use json.load to load as dict\n",
    "    info = json.load(fp)"
   ]
  },
  {
   "cell_type": "code",
   "execution_count": 4,
   "id": "98306902",
   "metadata": {
    "slideshow": {
     "slide_type": "-"
    }
   },
   "outputs": [
    {
     "data": {
      "text/plain": [
       "{'Name': 'Plumeria', 'Location': 'University Heights', 'Cuisine': 'Thai'}"
      ]
     },
     "execution_count": 4,
     "metadata": {},
     "output_type": "execute_result"
    }
   ],
   "source": [
    "info"
   ]
  },
  {
   "cell_type": "markdown",
   "id": "dd7a8046",
   "metadata": {
    "slideshow": {
     "slide_type": "slide"
    }
   },
   "source": [
    "### `load` creates a `dict`\n",
    "\n",
    "Now, we can work with the **contents** of this file as we would any `dict`."
   ]
  },
  {
   "cell_type": "code",
   "execution_count": 6,
   "id": "47502f08",
   "metadata": {
    "slideshow": {
     "slide_type": "-"
    }
   },
   "outputs": [
    {
     "data": {
      "text/plain": [
       "'Plumeria'"
      ]
     },
     "execution_count": 6,
     "metadata": {},
     "output_type": "execute_result"
    }
   ],
   "source": [
    "info['Name']"
   ]
  },
  {
   "cell_type": "code",
   "execution_count": 7,
   "id": "2c906bb6",
   "metadata": {
    "slideshow": {
     "slide_type": "-"
    }
   },
   "outputs": [
    {
     "data": {
      "text/plain": [
       "'University Heights'"
      ]
     },
     "execution_count": 7,
     "metadata": {},
     "output_type": "execute_result"
    }
   ],
   "source": [
    "info['Location']"
   ]
  },
  {
   "cell_type": "code",
   "execution_count": 8,
   "id": "f916caac",
   "metadata": {
    "slideshow": {
     "slide_type": "-"
    }
   },
   "outputs": [
    {
     "data": {
      "text/plain": [
       "'Thai'"
      ]
     },
     "execution_count": 8,
     "metadata": {},
     "output_type": "execute_result"
    }
   ],
   "source": [
    "info['Cuisine']"
   ]
  },
  {
   "cell_type": "markdown",
   "id": "86209f52",
   "metadata": {
    "slideshow": {
     "slide_type": "slide"
    }
   },
   "source": [
    "### Check-in\n",
    "\n",
    "Try reading in another file that's stored in `data`: `data/school.json`. \n",
    "\n",
    "What is the value of the **Name** key?"
   ]
  },
  {
   "cell_type": "code",
   "execution_count": 11,
   "id": "cf870791",
   "metadata": {
    "slideshow": {
     "slide_type": "-"
    }
   },
   "outputs": [
    {
     "name": "stdout",
     "output_type": "stream",
     "text": [
      "{'Name': 'UCSD', 'Location': 'San Diego', 'Affiliation': 'University of California'}\n",
      "UCSD\n"
     ]
    }
   ],
   "source": [
    "### Your code here\n",
    "with open('data/school.json', 'r') as f:\n",
    "    school = json.load(f)\n",
    "print(school)\n",
    "print(school['Name'])"
   ]
  },
  {
   "cell_type": "markdown",
   "id": "1e6a2fe4",
   "metadata": {
    "slideshow": {
     "slide_type": "slide"
    }
   },
   "source": [
    "## Writing a `.json` file\n",
    "\n",
    "Often, you'll want to **write** a structured `dict` to a file.  \n",
    "\n",
    "- Useful for *storing* information, so you can access it later.  \n",
    "- Useful for *transmitting* information between programs.  \n",
    "\n",
    "We can use `json.dump(...)` to **write** (or \"dump\") a `dict` into a `.json` file."
   ]
  },
  {
   "cell_type": "markdown",
   "id": "4f17dde9",
   "metadata": {
    "slideshow": {
     "slide_type": "slide"
    }
   },
   "source": [
    "### Simple example: course \n",
    "\n",
    "To start out, let's use the `my_class` dict we defined earlier."
   ]
  },
  {
   "cell_type": "code",
   "execution_count": 14,
   "id": "bd5d6097",
   "metadata": {
    "slideshow": {
     "slide_type": "-"
    }
   },
   "outputs": [
    {
     "data": {
      "text/plain": [
       "'1'"
      ]
     },
     "execution_count": 14,
     "metadata": {},
     "output_type": "execute_result"
    }
   ],
   "source": [
    "my_class['Code']"
   ]
  },
  {
   "cell_type": "markdown",
   "id": "d3759c7d",
   "metadata": {
    "slideshow": {
     "slide_type": "slide"
    }
   },
   "source": [
    "To **write** this to a file, we:\n",
    "\n",
    "- `open` (create) a file with the name we want to call it.  \n",
    "- Use `json.dump(dict_name, filename)`."
   ]
  },
  {
   "cell_type": "code",
   "execution_count": 15,
   "id": "fdecabfc",
   "metadata": {
    "slideshow": {
     "slide_type": "-"
    }
   },
   "outputs": [],
   "source": [
    "with open(\"course.json\", \"w\") as fp:\n",
    "    json.dump(my_class, fp)"
   ]
  },
  {
   "cell_type": "markdown",
   "id": "d63bf786",
   "metadata": {
    "slideshow": {
     "slide_type": "slide"
    }
   },
   "source": [
    "#### Checking that this worked"
   ]
  },
  {
   "cell_type": "code",
   "execution_count": 16,
   "id": "6e35eedb",
   "metadata": {
    "slideshow": {
     "slide_type": "-"
    }
   },
   "outputs": [
    {
     "name": "stdout",
     "output_type": "stream",
     "text": [
      "{'Code': '1', 'Department': 'CSS', 'Instructor': 'Mignozzetti', 'Prerequisite': True, 'Enrollment': 120}\n"
     ]
    }
   ],
   "source": [
    "with open(\"course.json\", \"r\") as fp:\n",
    "    course_info = json.load(fp)\n",
    "print(course_info)"
   ]
  },
  {
   "cell_type": "markdown",
   "id": "752acfb3",
   "metadata": {
    "slideshow": {
     "slide_type": "slide"
    }
   },
   "source": [
    "### Check-in\n",
    "\n",
    "Create a new `dict` called `my_info`. Add the following keys/values:\n",
    "\n",
    "- `Name`. \n",
    "- `Major`. \n",
    "\n",
    "Then, use `json.dump` to **write** this `dict` to a `.json` file called `my_info.json` to your own computer (in whichever directory you prefer)."
   ]
  },
  {
   "cell_type": "code",
   "execution_count": 18,
   "id": "16910589",
   "metadata": {
    "slideshow": {
     "slide_type": "-"
    }
   },
   "outputs": [],
   "source": [
    "### Your code here"
   ]
  },
  {
   "cell_type": "markdown",
   "id": "ff48d03e",
   "metadata": {
    "slideshow": {
     "slide_type": "slide"
    }
   },
   "source": [
    "## JSON files vs. JSON strings\n",
    "\n",
    "The `load` and `dump` methods can be used to **read** and **write** a `dict` from/to a `.json` file.  \n",
    "\n",
    "However, Python can also represent JSON as a **`str`**.\n",
    "\n",
    "- To *read* a `dict` from a JSON `str`, use `loads` (load + *s*tring).  \n",
    "- To *write* a `dict` into a JSON `str`, use `dumps` (dump + *s*tring)."
   ]
  },
  {
   "cell_type": "markdown",
   "id": "4983dc04",
   "metadata": {
    "slideshow": {
     "slide_type": "slide"
    }
   },
   "source": [
    "### `json.dumps`\n",
    "\n",
    "- Input: a `dict`. \n",
    "- Output: a JSON `str`.  "
   ]
  },
  {
   "cell_type": "code",
   "execution_count": 38,
   "id": "db62177e",
   "metadata": {
    "slideshow": {
     "slide_type": "-"
    }
   },
   "outputs": [
    {
     "data": {
      "text/plain": [
       "'{\"Code\": \"1\", \"Department\": \"CSS\", \"Instructor\": \"Mignozzetti\", \"Prerequisite\": true, \"Enrollment\": 120}'"
      ]
     },
     "execution_count": 38,
     "metadata": {},
     "output_type": "execute_result"
    }
   ],
   "source": [
    "json_str = json.dumps(my_class)\n",
    "json_str"
   ]
  },
  {
   "cell_type": "code",
   "execution_count": 39,
   "id": "938b617c",
   "metadata": {
    "slideshow": {
     "slide_type": "-"
    }
   },
   "outputs": [
    {
     "data": {
      "text/plain": [
       "str"
      ]
     },
     "execution_count": 39,
     "metadata": {},
     "output_type": "execute_result"
    }
   ],
   "source": [
    "type(json_str)"
   ]
  },
  {
   "cell_type": "markdown",
   "id": "499c4d09",
   "metadata": {
    "slideshow": {
     "slide_type": "slide"
    }
   },
   "source": [
    "### `json.loads`\n",
    "\n",
    "- Input: a JSON `str`.  \n",
    "- Output: a `dict`."
   ]
  },
  {
   "cell_type": "markdown",
   "id": "113d4857",
   "metadata": {
    "slideshow": {
     "slide_type": "slide"
    }
   },
   "source": [
    "### Other objects besides `dict`s\n",
    "\n",
    "- Technically, you can use `dumps`/`loads` for other objects, such as `str`, `list`, and more.\n",
    "- Though in my experience, a `dict` is the most common format."
   ]
  },
  {
   "cell_type": "code",
   "execution_count": 40,
   "id": "0114298e",
   "metadata": {
    "slideshow": {
     "slide_type": "-"
    }
   },
   "outputs": [
    {
     "data": {
      "text/plain": [
       "'[1, 2, 3]'"
      ]
     },
     "execution_count": 40,
     "metadata": {},
     "output_type": "execute_result"
    }
   ],
   "source": [
    "json.dumps([1, 2, 3])"
   ]
  },
  {
   "cell_type": "code",
   "execution_count": 41,
   "id": "a4be1383",
   "metadata": {
    "slideshow": {
     "slide_type": "-"
    }
   },
   "outputs": [
    {
     "data": {
      "text/plain": [
       "[1, 2, 3]"
      ]
     },
     "execution_count": 41,
     "metadata": {},
     "output_type": "execute_result"
    }
   ],
   "source": [
    "json.loads('[1, 2, 3]')"
   ]
  },
  {
   "cell_type": "markdown",
   "id": "8c9ac09c",
   "metadata": {
    "slideshow": {
     "slide_type": "slide"
    }
   },
   "source": [
    "## Conclusion\n",
    "\n",
    "There's lots more to working with files (including text files), but this sets the **foundation**. Now you should feel a little more comfortable:\n",
    "\n",
    "- Understanding how to navigate your computer's **directory structure**.  \n",
    "  - E.g., knowing \"where\" a file is located.\n",
    "- Knowing how to `open` a file in Python.\n",
    "- Knowing how to **read** or **write** that file.\n",
    "\n",
    "This will form the basis of working with future file types, such as `.csv` (a very common format for representing tabular data)."
   ]
  }
 ],
 "metadata": {
  "celltoolbar": "Slideshow",
  "kernelspec": {
   "display_name": "Python 3 (ipykernel)",
   "language": "python",
   "name": "python3"
  },
  "language_info": {
   "codemirror_mode": {
    "name": "ipython",
    "version": 3
   },
   "file_extension": ".py",
   "mimetype": "text/x-python",
   "name": "python",
   "nbconvert_exporter": "python",
   "pygments_lexer": "ipython3",
   "version": "3.9.18"
  }
 },
 "nbformat": 4,
 "nbformat_minor": 5
}
