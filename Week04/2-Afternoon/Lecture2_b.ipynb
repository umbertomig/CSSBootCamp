{
 "cells": [
  {
   "cell_type": "markdown",
   "metadata": {
    "slideshow": {
     "slide_type": "slide"
    }
   },
   "source": [
    "# CSS 201 / 202 - CSS Bootcamp\n",
    "\n",
    "## Week 05 - Lecture 03\n",
    "\n",
    "### Umberto Mignozzetti"
   ]
  },
  {
   "cell_type": "markdown",
   "metadata": {
    "slideshow": {
     "slide_type": "slide"
    }
   },
   "source": [
    "# CSS 201 / 202 - CSS Bootcamp\n",
    "\n",
    "## Statistical and Probability Theory"
   ]
  },
  {
   "cell_type": "markdown",
   "metadata": {
    "slideshow": {
     "slide_type": "slide"
    }
   },
   "source": [
    "# Statistical and Probability Theory"
   ]
  },
  {
   "cell_type": "markdown",
   "metadata": {
    "slideshow": {
     "slide_type": "slide"
    }
   },
   "source": [
    "## Fundamentals of Probability Theory\n",
    "\n",
    "### Counting methods\n",
    "\n",
    "**Interesting** What is the chance that in a group, two people would have the same birthday?\n",
    "\n",
    "1. Easier Q: What is the chance that all people have different birthdays?\n",
    "\n",
    "1. Then what?"
   ]
  },
  {
   "cell_type": "markdown",
   "metadata": {
    "slideshow": {
     "slide_type": "slide"
    }
   },
   "source": [
    "## Fundamentals of Probability Theory\n",
    "\n",
    "### Combinatorial Methods\n",
    "\n",
    "Still in counting stuff, suppose we need to count how many subsets of $\\{a, b, c, d \\}$ with two elements we can list.\n",
    "\n",
    "What is the problem? $\\{a, b\\}$ and $\\{b, a\\}$ are the same!\n",
    "\n",
    "For larger numbers this is laborious, but we have a formula for that:\n",
    "\n",
    "**Definition -- Combinations**: Consider a set with $n$ elements. Each subset of size $k$ chosen from this set is called a combination of $n$ elements taken $k$ at a time. We denote the number of distinct such combinations by the symbol $C_{n, k}$.\n",
    "\n",
    "$$C_{n, k} = {n \\choose k} = \\dfrac{P_{n,k}}{k!} = \\dfrac{n!}{k!(n-k)!}$$"
   ]
  },
  {
   "cell_type": "markdown",
   "metadata": {
    "slideshow": {
     "slide_type": "slide"
    }
   },
   "source": [
    "## Fundamentals of Probability Theory\n",
    "\n",
    "### Combinatorial Methods\n",
    "\n",
    "*Selecting a Committee.* \n",
    "\n",
    "Suppose that a committee composed of eight representatives is to be selected from a group of 20 representatives. What is the number of different groups of representatives that might be on the committee?\n",
    "\n",
    "$$C_{n, k} = {n \\choose k} = \\dfrac{P_{n,k}}{k!} = \\dfrac{n!}{k!(n-k)!}$$"
   ]
  },
  {
   "cell_type": "markdown",
   "metadata": {
    "slideshow": {
     "slide_type": "slide"
    }
   },
   "source": [
    "## Fundamentals of Probability Theory\n",
    "\n",
    "### Combinatorial Methods\n",
    "\n",
    "**Combinations -- Rules**:\n",
    "\n",
    "1. $C_{n, k} = {n \\choose k} = \\dfrac{P_{n,k}}{k!} = \\dfrac{n!}{k!(n-k)!}$\n",
    "1. ${n \\choose 0} = {n \\choose n} = 1$\n",
    "1. ${n \\choose k} = {n \\choose n-k}$\n",
    "1. $n + {n \\choose 2} = {n+1 \\choose 2}$"
   ]
  },
  {
   "cell_type": "markdown",
   "metadata": {
    "slideshow": {
     "slide_type": "slide"
    }
   },
   "source": [
    "## Fundamentals of Probability Theory\n",
    "\n",
    "### Combinatorial Methods\n",
    "\n",
    "**Combinations**:\n",
    "\n",
    "*Tossing a Coin.* Suppose that a fair coin is to be tossed 10 times, and suppose we want to find:\n",
    "\n",
    "1. The probability $p$ of obtaining exactly three heads \n",
    "1. The probability $p$ of obtaining three or fewer heads"
   ]
  },
  {
   "cell_type": "markdown",
   "metadata": {
    "slideshow": {
     "slide_type": "slide"
    }
   },
   "source": [
    "## Fundamentals of Probability Theory\n",
    "\n",
    "### Combinatorial Methods\n",
    "\n",
    "**Combinations**: *Sampling without Replacement.*\n",
    "\n",
    "Suppose that a class contains 15 boys and 30 girls, and that 10 students are to be selected at random for a special assignment. What is the probability $p$ that exactly three boys will be selected?"
   ]
  },
  {
   "cell_type": "markdown",
   "metadata": {
    "slideshow": {
     "slide_type": "slide"
    }
   },
   "source": [
    "## Fundamentals of Probability Theory\n",
    "\n",
    "**Check-in:** \n",
    "\n",
    "1. Two pollsters will canvas a neighborhood with 20 houses. Each pollster will visit 10 of the houses. How many different assignments of pollsters to houses are possible?\n",
    "\n",
    "1. A box contains 24 light bulbs, of which four are defective. If a person selects four bulbs from the box at random, without replacement, what is the probability that all four bulbs will be defective?\n",
    "\n",
    "1. The United States Senate contains two senators from each of the 50 states. (a) If a committee of eight senators is selected at random, what is the probability that it will contain at least one of the two senators from a certain specified state? (b) What is the probability that a group of 50 senators selected at random will contain one senator from each state?"
   ]
  },
  {
   "cell_type": "markdown",
   "metadata": {
    "slideshow": {
     "slide_type": "slide"
    }
   },
   "source": [
    "## Fundamentals of Probability Theory\n",
    "\n",
    "### Combinatorial Methods\n",
    "\n",
    "Another common problem is to, instead of draw two distinct groups, draw many distict groups.\n",
    "\n",
    "Example (*Choosing Committees*): Suppose that 20 members of an organization are to be divided into three committees A, B, and C in such a way that each of the committees A and B is to have eight members and committee C is to have four members. We shall determine the number of different ways in which members can be assigned to these committees. Notice that each of the 20 members gets assigned to one and only one committee. \n",
    "\n",
    "Method:\n",
    "1. Choose the first\n",
    "1. Split the remaining in the second\n",
    "1. Done with third\n",
    "\n",
    "Let's see."
   ]
  },
  {
   "cell_type": "markdown",
   "metadata": {
    "slideshow": {
     "slide_type": "slide"
    }
   },
   "source": [
    "## Fundamentals of Probability Theory\n",
    "\n",
    "### Combinatorial Methods\n",
    "\n",
    "In general, suppose that $n$ distinct elements are to be divided into $k$ different groups ($k \\geq 2$).\n",
    "\n",
    "We want to divide in such a way that, for $j = 1, \\cdots, k$, the j-th group contains exactly $n_j$ elements, where $n_1 + n_2 + \\cdots + n_k = n$. \n",
    "\n",
    "In how many different ways the $n$ elements can be divided into the $k$ groups?\n",
    "\n",
    "$${n \\choose n_1}{n-n_1 \\choose n_2}{n-n_1-n_2 \\choose n_3}\\cdots{n-n_1-n_2-\\cdots-n_{k-2} \\choose n_{k-1}} = \\dfrac{n!}{n_1!n_2! \\cdots n_k! }$$\n",
    "\n",
    "**Definition -- Multinomial Coefficients**: The number $\\dfrac{n!}{n_1!n_2! \\cdots n_k! }$ denoted by ${n \\choose n_1, n_2, \\cdots, n_k}$ is called multinomial coefficient."
   ]
  },
  {
   "cell_type": "markdown",
   "metadata": {
    "slideshow": {
     "slide_type": "slide"
    }
   },
   "source": [
    "## Fundamentals of Probability Theory\n",
    "\n",
    "**Properties:** \n",
    "\n",
    "1. $(x_1 + \\cdots + x_n)^n = \\sum {n \\choose n_1, n_2, \\cdots, n_k} x_1^{n_1}x_2^{n_2}\\cdots x_k^{n_k}$\n",
    "1. ${n \\choose k, n - k} = {n \\choose k}$\n",
    "1. Just as binomials determine arrangement of two different types, multinomial determine arranges of $k$ different types.\n",
    "\n",
    "Example (*Rolling Dice*): Suppose that 12 dice are to be rolled. What is the probability $p$ that each of the six different numbers will appear twice?"
   ]
  },
  {
   "cell_type": "markdown",
   "metadata": {
    "slideshow": {
     "slide_type": "slide"
    }
   },
   "source": [
    "## Fundamentals of Probability Theory\n",
    "\n",
    "**Check-in:** \n",
    "\n",
    "1. Three pollsters will canvas a neighborhood with 21 houses. Each pollster will visit seven of the houses. How many different assignments of pollsters to houses are possible?\n",
    "\n",
    "1. Suppose that 18 red beads, 12 yellow beads, eight blue beads, and 12 black beads are to be strung in a row. How many different arrangements of the colors can be formed?\n",
    "\n",
    "1. If the letters s, s, s, t , t , t , i, i, a, c are arranged in a random order, what is the probability that they will spell the word \"statistics\"?"
   ]
  },
  {
   "cell_type": "markdown",
   "metadata": {
    "slideshow": {
     "slide_type": "slide"
    }
   },
   "source": [
    "## Fundamentals of Probability Theory\n",
    "\n",
    "### Conditional Probability\n",
    "\n",
    "We rarely talk about one probability only. In science, we are interested in how thing relate to each other. \n",
    "\n",
    "A good start is to see *events relate to each other.*\n",
    "\n",
    "**Definition -- Conditional Probability**: For $A, B \\in \\mathcal{S}$ (with $P(B)>0$), the **joint probability of A and B** is \n",
    "\n",
    "$$ P(A|B) \\ = \\dfrac{P(A \\cap B)}{P(B)} $$\n",
    "\n",
    "![img](./imgl3/cond1.png)\n",
    "\n",
    "We read: The probability of the event $A$ happening, given that we know that $B$ happened.\n",
    "\n",
    "Or, for short: Probability of $A$ given $B$."
   ]
  },
  {
   "cell_type": "markdown",
   "metadata": {
    "slideshow": {
     "slide_type": "slide"
    }
   },
   "source": [
    "## Fundamentals of Probability Theory\n",
    "\n",
    "**Check-in:**\n",
    "\n",
    "1. Suppose that two dice were rolled and it was observed that the sum $T$ of the two numbers was odd. Determine the probability that $T$ was less than 8."
   ]
  },
  {
   "cell_type": "markdown",
   "metadata": {
    "slideshow": {
     "slide_type": "slide"
    }
   },
   "source": [
    "## Fundamentals of Probability Theory\n",
    "\n",
    "### Conditional Probability\n",
    "\n",
    "Example (*A Clinical Trial*): Prien et al. (1984) studied three treatments for depression: imipramine, lithium carbonate, a combination, and a placebo.\n",
    "\n",
    "In this example, we shall consider 150 patients who entered the study after an episode of depression that was classified as “unipolar” (meaning that there was no manic disorder). \n",
    "\n",
    "They were divided into the four groups (three treatments plus placebo) and followed to see how many had recurrences of depression.\n",
    "\n",
    "![img](./imgl3/cond2.png)\n",
    "\n",
    "If a patient were selected at random from this study and it were found that the patient received the placebo treatment, what is the conditional probability that the patient had a relapse?\n",
    "\n",
    "**Theorem: Multiplicative Law**: For $A, B \\in \\mathcal{S}$, with $P(B) > 0$, then $P(A | B)P(B) = P(A \\cap B)$."
   ]
  },
  {
   "cell_type": "markdown",
   "metadata": {
    "slideshow": {
     "slide_type": "slide"
    }
   },
   "source": [
    "## Fundamentals of Probability Theory\n",
    "\n",
    "**Theorem -- Multiplicative Law**: Let $A$ and $B$ events. \n",
    "\n",
    "1. If with $P(B) > 0$, then $P(A | B)P(B) = P(A \\cap B)$.\n",
    "\n",
    "2. If with $P(A) > 0$, then $P(B | A)P(A) = P(A \\cap B)$.\n",
    "\n",
    "Example (*Selecting Two Balls*): Suppose that two balls are to be selected at random, without replacement, from a box containing $r$ red balls and $b$ blue balls. What is the probability p that the first ball is red and the second ball is blue?"
   ]
  },
  {
   "cell_type": "markdown",
   "metadata": {
    "slideshow": {
     "slide_type": "slide"
    }
   },
   "source": [
    "## Fundamentals of Probability Theory\n",
    "\n",
    "**Definition -- Partition**: If $\\{B_{1},B_{2},\\cdots \\}$, with events $B_{i}$, are non-empty and pairwise disjoint sets such that $S = \\cup_i B_{i}$, the set $\\{B_{1},B_{2},\\cdots\\}$ is called a *partition* of $S$.\n",
    "\n",
    "**Theorem -- Law of Total Probability**: Let $\\{ B_{1}, B_{2}, \\cdots \\}$ is a partition of $S$, and $A$ is an event, then\n",
    "\n",
    "$$ P(B) \\ = \\ \\sum_{i} P(B \\cap A_{i}) $$\n",
    "\n",
    "And if, $\\forall i$,  $P(A_{i}) > 0$, then\n",
    "\n",
    "$$ P(B) \\ = \\ \\sum_{i} P( B | A_{i}) P(A_{i}) $$\n",
    "\n",
    "![img](./imgl3/cond3.png)"
   ]
  },
  {
   "cell_type": "markdown",
   "metadata": {
    "slideshow": {
     "slide_type": "slide"
    }
   },
   "source": [
    "## Fundamentals of Probability Theory\n",
    "\n",
    "Example (*Achieving a High Score.*): Suppose that a person plays a game in which his score must be one of the 50 numbers $1, 2, \\cdots, 50$ and that each of these 50 numbers is equally likely to be his score.\n",
    "\n",
    "1. The first time she plays the game, her score is X. \n",
    "\n",
    "1. She then continues to play the game until she obtains another score $Y$ such that $Y geq X$.\n",
    "\n",
    "We will assume that, conditional on previous plays, the 50 scores remain equally likely on all subsequent plays. \n",
    "\n",
    "What is the probability of the event $A$ that $Y = 50$?\n",
    "\n",
    "1. For each $i = 1, \\cdots, 50$, let $B_i$ be the event that $X = i$. \n",
    "\n",
    "1. Conditional on $B_i$, the value of Y is equally likely to be any one of the numbers $i, i + 1, \\cdots, 50$. Since each of these $(51−i)$ possible values for $Y$ is equally likely, it follows that\n",
    "\n",
    "$$P(A|B_i) = P(Y=50|B_i) = \\dfrac{1}{51-i}$$\n",
    "\n",
    "How much is $P(A)$?"
   ]
  },
  {
   "cell_type": "markdown",
   "metadata": {
    "slideshow": {
     "slide_type": "slide"
    }
   },
   "source": [
    "## Fundamentals of Probability Theory\n",
    "\n",
    "**Check-in:**\n",
    "\n",
    "1. If A and B are disjoint events and $P(B) > 0$, what is the value of $P(A|B)$?\n",
    "\n",
    "1. Each time a shopper purchases a tube of toothpaste, she chooses either brand A or brand B. Suppose that for each purchase after the first, the probability is 1/3 that she will choose the same brand that she chose on his preceding purchase and the probability is 2/3 that she will switch brands. If she is equally likely to choose either brand A or brand B on her first purchase, what is the probability that both her first and second purchases will be brand A and both her third and fourth purchases will be brand B?\n",
    "\n",
    "1. A box contains three coins with a head on each side, four coins with a tail on each side, and two fair coins. If one of these nine coins is selected at random and tossed once, what is the probability that a head will be obtained?"
   ]
  },
  {
   "cell_type": "markdown",
   "metadata": {
    "slideshow": {
     "slide_type": "slide"
    }
   },
   "source": [
    "## Independence\n",
    "\n",
    "**Definition -- Independence of Events**: Events $A, B$ are *independent* if $P(A \\cap B) = P(A)P(B)$\n",
    "\n",
    "**Theorem -- Conditional Probability and Independence**: For $A, B$, with $P(B) > 0$, $A$ and $B$ are independent if, and only if, $P(A|B) = P(A)$.\n",
    "\n",
    "In words, the events are independent if, upon learning about $B$, we do not change our views about $A$.\n",
    "\n",
    "**Theorem -- Independence of Complements**: If two events $A$ and $B$ are independent, then the events $A$ and $B^c$ are also independent."
   ]
  },
  {
   "cell_type": "markdown",
   "metadata": {
    "slideshow": {
     "slide_type": "slide"
    }
   },
   "source": [
    "## Independence\n",
    "\n",
    "Example (*Inspecting Items*). Suppose that a machine produces a defective item with probability p ($0 \\leq p \\leq 1$) and produces a nondefective item with probability $1−p$. Suppose further that six items produced by the machine are selected at random and inspected, and that the results (defective or nondefective) for these six items are independent.\n",
    "\n",
    "1. What are the chances that exactly two of the six items are defective.\n",
    "\n",
    "1. What is the chance that at least one item will be defective?\n",
    "\n",
    "1. What is the probability $p_n$ that exactly $n$ items ($n \\geq 5$) must be selected to obtain the five defectives? (think about $n-1$)"
   ]
  },
  {
   "cell_type": "markdown",
   "metadata": {
    "slideshow": {
     "slide_type": "slide"
    }
   },
   "source": [
    "## Independence\n",
    "\n",
    "Example (*People v. Collins.*):\n",
    "\n",
    "- Finkelstein and Levin (1990) describe a criminal case whose verdict was overturned by the Supreme Court of California in part due to a probability calculation involving both conditional probability and independence. \n",
    "\n",
    "- The case, People v. Collins, 68 Cal. 2d 319, 438 P.2d 33 (1968), involved a purse snatching in which witnesses claimed to see a young woman with blond hair in a ponytail fleeing from the scene in a yellow car driven by a black man with a beard. \n",
    "\n",
    "- A couple meeting the description was arrested a few days after the crime, but no physical evidence was found.\n",
    "\n",
    "- A mathematician calculated the probability that a randomly selected couple would possess the described characteristics as about $8.3 \\times 10^{−8}$, or 1 in 12 million. \n",
    "\n",
    "- Faced with such overwhelming odds and no physical evidence, the jury decided that the defendants must have been the only such couple and convicted them."
   ]
  },
  {
   "cell_type": "markdown",
   "metadata": {
    "slideshow": {
     "slide_type": "slide"
    }
   },
   "source": [
    "## Independence\n",
    "\n",
    "Example (*People v. Collins.*):\n",
    "\n",
    "- The Supreme Court thought that a more useful probability should have been calculated. \n",
    "\n",
    "- Based on the testimony of the witnesses, there was a couple that met the above description. Given that there was already one couple who met the description, ***what is the conditional probability that there was also a second couple such as the defendants?***\n",
    "\n",
    "- Let $p$ be the probability that a randomly selected couple from a population of $n$ couples has certain characteristics. \n",
    "\n",
    "- Let $A$ be the event that at least one couple in the population has the characteristics, and let $B$ be the event that at least two couples have the characteristics.\n",
    "\n",
    "- What is $P(B|A)$? Since $B \\subset A$:\n",
    "\n",
    "$$P(B|A) = \\dfrac{P(B \\cup A)}{P(A)} = \\dfrac{P(B)}{P(A)}$$"
   ]
  },
  {
   "cell_type": "markdown",
   "metadata": {
    "slideshow": {
     "slide_type": "slide"
    }
   },
   "source": [
    "## Independence\n",
    "\n",
    "Example (*People v. Collins.*):\n",
    "\n",
    "- To compute $P(A)$ and $P(B)$, suppose we number couples in the population $1, 2, \\cdots, n$. \n",
    "\n",
    "- Let $A_i$ the event that couple $i$ has the characteristic. Then, (A) ***the event that at least one couple has the characteristic*** is equal to:\n",
    "\n",
    "$$A = (A_1^C \\cap A_2^C \\cap \\cdots \\cap A_n^C)^C$$\n",
    "\n",
    "- Now, let us consider (C) ***the chance that exactly one couple has this characteristic***:\n",
    "\n",
    "$$C = (A_1 \\cap A_2^C \\cap \\cdots \\cap A_n^C) \\cup (A_1^C \\cap A_2 \\cap \\cdots \\cap A_n^C) \\cup \\cdots \\cup (A_1^C \\cap A_2^C \\cap \\cdots \\cap A_n)$$\n",
    "\n",
    "- Now $B$, which is (B) ***the event that at least two couples have the characteristics***, is equal to:\n",
    "\n",
    "$$B = A \\cap C^C$$"
   ]
  },
  {
   "cell_type": "markdown",
   "metadata": {
    "slideshow": {
     "slide_type": "slide"
    }
   },
   "source": [
    "## Independence\n",
    "\n",
    "Example (*People v. Collins.*):\n",
    "\n",
    "- Assuming the $n$ couples are mutually independent:\n",
    "\n",
    "    - $P(A^C) = (1-p)^n$ and $P(A) = 1 - (1-p)^n$\n",
    "    - $P(C) = np(1-p)^{n-1}$\n",
    "    - The chance that at least two couples have the same characteristics is equal to the chance that at least one minus exactly one. $P(B) = P(A) - P(C) = 1-(1-p)^n - np(1-p)^{n-1}$\n",
    "\n",
    "$$P(B|A) = \\dfrac{1-(1-p)^n - np(1-p)^{n-1}}{1 - (1-p)^n}$$\n",
    "\n",
    "- And if $n = 8,000,000$ and $p = 8.3 \\times 10^{-8}$, $P(B|A) = 0.2966$. \n",
    "\n",
    "- Thus, the Supreme Court ruled that there was enough grounds for reasonable doubt."
   ]
  },
  {
   "cell_type": "markdown",
   "metadata": {
    "slideshow": {
     "slide_type": "slide"
    }
   },
   "source": [
    "## Independence\n",
    "\n",
    "**Check-in**:\n",
    "\n",
    "1. Suppose that two machines 1 and 2 in a factory are operated independently of each other. Let $A$ be the event that machine 1 will become inoperative during a given 8-hour period, let $B$ be the event that machine 2 will become inoperative during the same period, and suppose that $P(A) = 1/3$ and $P(B) = 1/4$. What is the chance that at least one machine will become inoperative during a given period?\n",
    "\n",
    "1. Use the fact that $P(A \\cap B^C) = P(A) - P(A \\cap B)$ to prove that if two events $A$ and $B$ are independent, then the events $A$ and $B^C$ are also independent.\n",
    "\n",
    "1. Suppose that a fair coin is tossed until a head appears for the first time, and assume that the outcomes of the tosses are independent. What is the probability $p_n$ that exactly $n$ tosses will be required."
   ]
  },
  {
   "cell_type": "markdown",
   "metadata": {
    "slideshow": {
     "slide_type": "slide"
    }
   },
   "source": [
    "## Fundamentals of Probability Theory\n",
    "\n",
    "One of the most important consequences of this reasoning is the *Bayes theorem*.\n",
    "\n",
    "1. It provides a foundation for us to update the predictive probability of events\n",
    "1. Example: Suppose that we want to predict an event $A$. If we observe an event $B$, we can use the information of $B$ to improve our understanding about the chance of $A$ occuring.\n",
    "1. Concrete example: Suppose you want to go to the beach (yes, please, desperately...). Then, if you see a cloud in the sky, you can update your accessment of the chance that it is going to rain.\n",
    "\n",
    "**Theorem -- Bayes Rule**: For $A, B$ events, with $P(A) > 0$ and $P(B) > 0$, \n",
    "\n",
    "$$ P(A | B) \\ = \\ \\dfrac{P(B|A)P(A)}{P(B)} $$\n",
    "\n",
    "**Theorem -- Bayes Theorem (general)**: Let the events $B_1, B_2, \\cdots, B_k$ form a partition of $S$ such that $P(B_i) > 0$ for all $i \\in \\{1, \\cdots, k\\}$. Then:\n",
    "\n",
    "$$P(B_i|A) \\ = \\ \\dfrac{P(A|B_i)P(B_i)}{\\sum_{j=1}^kP(B_j)P(A|B_j)}$$"
   ]
  },
  {
   "cell_type": "markdown",
   "metadata": {
    "slideshow": {
     "slide_type": "slide"
    }
   },
   "source": [
    "## Fundamentals of Probability Theory\n",
    "\n",
    "**Check-in**: \n",
    "\n",
    "1. Suppose that you are walking down the street and notice that the Department of Public Health is giving a free medical test for a certain disease. The test is 90 percent reliable in the following sense: If a person has the disease, there is a probability of 0.9 that the test will give a positive response; whereas, if a person does not have the disease, there is a probability of only 0.1 that the test will give a positive response. $\\newline$ Data indicate that your chances of having the disease are only 1 in 10,000. However, since the test costs you nothing, and is fast and harmless, you decide to stop and take the test. A few days later you learn that you had a positive response to the test. Now, what is the probability that you have the disease? $\\newline\\newline$\n",
    "\n",
    "1. In a certain city, 30 percent of the people are Conservatives, 50 percent are Liberals, and 20 percent are Independents. Records show that in a particular election, 65 percent of the Conservatives voted, 82 percent of the Liberals voted, and 50 percent of the Independents voted. If a person in the city is selected at random and it is learned that she did not vote in the last election, what is the probability that she is a Liberal?"
   ]
  },
  {
   "cell_type": "markdown",
   "metadata": {
    "slideshow": {
     "slide_type": "slide"
    }
   },
   "source": [
    "## Random Variable\n",
    "\n",
    "**Definition: Random Variable**: Let $S$ be the sample space for an experiment. A real-valued function that is defined on $S$ is called a random variable.\n",
    "\n",
    "A random variable maps each state of the world to a real number.\n",
    "    \n",
    "1. Consider an experiment where a fair coin is tossed 10 times. We can define a random variable $X$ that counts the number of heads."
   ]
  },
  {
   "cell_type": "markdown",
   "metadata": {
    "slideshow": {
     "slide_type": "slide"
    }
   },
   "source": [
    "## Random Variable\n",
    "\n",
    "When a probability measure has been defined on the sample space, we can determine the probabilities associated with each possible value of the random variable.\n",
    "\n",
    "**Definition -- Distribution of a random variable**: Let $X$ be a random variable. The **distribution** of $X$ is the collection of all probabilities of the form $P(X \\in C)$ for all sets $C$ of real numbers such that $\\{X \\in C\\}$ is an event.\n",
    "\n",
    "Example: Let a fair coin be tossed 10 times,\n",
    "and let $X$ be the number of heads that are obtained. In this experiment, the possible values of $X$ are $0, 1, 2, \\cdots, 10$. \n",
    "\n",
    "For each $x$, $P(X = x)$ is the sum of the probabilities\n",
    "of all of the outcomes in the event $\\{X = x\\}$. \n",
    "\n",
    "Because the coin is fair, each outcome has the same probability $\\big(\\frac{1}{2}\\big)^{10}$, and we need only count how many outcomes $s$ have $X(s) = x$.\n",
    "\n",
    "We know that $X(s) = x$ if and only if exactly $x$ of the 10 tosses are $H$.\n",
    "\n",
    "How much is this probabily?"
   ]
  },
  {
   "cell_type": "markdown",
   "metadata": {
    "slideshow": {
     "slide_type": "slide"
    }
   },
   "source": [
    "## Random Variable\n",
    "\n",
    "**Definition - Discrete Random Variable**: A *random variable* $X$ is discrete if takes at most $k$ values or an infinite sequence of countable values.\n",
    "\n",
    "Example: In the 10 times coin toss example, each outcome has chance $\\dfrac{1}{2^{10}}$. But there are ${10 \\choose x}$ number of events with $x$ heads. Therefore:\n",
    "\n",
    "$$P(X = x) = {10 \\choose x}\\dfrac{1}{2^{10}}$$\n",
    "\n",
    "**Definition - Probability Mass Function (PMF) and Support**:\n",
    "\n",
    "- Probability mass function: $f(x) = P(X = x)$\n",
    "\n",
    "- Support of a probability function: The closure of the set $\\{x: f(x) > 0\\}$."
   ]
  },
  {
   "cell_type": "markdown",
   "metadata": {
    "slideshow": {
     "slide_type": "slide"
    }
   },
   "source": [
    "## Random Variable\n",
    "\n",
    "**Theorem**: If $X$ has a discrete distribution, the the probability of each subset $C$ in the real line is:\n",
    "\n",
    "$$P(X \\in C) = \\sum_{x_i \\in C} f(x_i)$$\n",
    "\n",
    "**Theorem**: Let $X$ be a discrete random variable with p.f. (probability function) $f$. \n",
    "\n",
    "1. If $x$ is not one of the possible values of $X$, then $f(x) = 0$.\n",
    "1. If the sequence $x_1, x_2, \\cdots$ includes all the possible values of $X$, then $\\sum_{i=1}^{\\infty}f(x_i) = 1$.\n",
    "\n",
    "**Definition - Bernoulli Distribution**: A random variable $Z$ that takes only two values $0$ and $1$ with $P(Z = 1) = p$ has the ***Bernoulli distribution*** with parameter p. We also say that $Z$ is a Bernoulli random variable with parameter $p$ and denote $Z \\sim Bernoulli(p)$\n",
    "\n",
    "The distribution of the variable is:\n",
    "\n",
    "$$\n",
    "f(x) =\n",
    "  \\begin{cases}\n",
    "    1-p & \\text{for $x = 0$} \\\\\n",
    "    p & \\text{for $x = 1$} \\\\\n",
    "    0 & \\text{otherwise}\n",
    "  \\end{cases}\n",
    "$$"
   ]
  },
  {
   "cell_type": "markdown",
   "metadata": {
    "slideshow": {
     "slide_type": "slide"
    }
   },
   "source": [
    "## Random Variable\n",
    "\n",
    "**Definition - Uniform Distribution**: Let $a \\leq b$ integers. Suppose that the value of a random variable $X$ is equally likely to be each of the integers $a, \\cdots, b$. Then we say that $X$ has the uniform distribution on the integers $a, \\cdots, b$.\n",
    "\n",
    "The distribution of the variable is:\n",
    "\n",
    "$$\n",
    "f(x) =\n",
    "  \\begin{cases}\n",
    "    \\dfrac{1}{b - a + 1} & \\text{for $x = a, \\cdots, b$} \\\\\n",
    "    0 & \\text{otherwise}\n",
    "  \\end{cases}\n",
    "$$"
   ]
  },
  {
   "cell_type": "markdown",
   "metadata": {
    "slideshow": {
     "slide_type": "slide"
    }
   },
   "source": [
    "## Random Variable\n",
    "\n",
    "Suppose that we want to model the distribution of votes for a given politician. If each person has chance $p$, the number of voters is $n$. Then, the chance that the politician gets $x$ votes is:\n",
    "\n",
    "$$P(X = x) = {n \\choose x} p^x(1-p)^{n-x}$$\n",
    "\n",
    "**Definition - Binomial Distribution**: The discrete distribution represented by the probability function\n",
    "\n",
    "$$\n",
    "f(x) =\n",
    "  \\begin{cases}\n",
    "    {n \\choose x} p^x(1-p)^{n-x} & \\text{for $x = 0, 1, \\cdots, n$} \\\\\n",
    "    0 & \\text{otherwise}\n",
    "  \\end{cases}\n",
    "$$\n",
    "\n",
    "is called the binomial distribution with parameters $n$ and $p$."
   ]
  },
  {
   "cell_type": "markdown",
   "metadata": {
    "slideshow": {
     "slide_type": "slide"
    }
   },
   "source": [
    "## Random Variable\n",
    "\n",
    "**Check-in**\n",
    "\n",
    "1. Suppose that a random variable X has the uniform distribution on the integers $10, \\cdots, 20$. Find the probability that X is even.\n",
    "\n",
    "1. Suppose that a random variable X has a discrete distribution with the following probability function: $$\n",
    "f(x) =\n",
    "  \\begin{cases}\n",
    "    cx & \\text{for $x = 1, \\cdots, 5$} \\\\\n",
    "    0 & \\text{otherwise}\n",
    "  \\end{cases}\n",
    "$$ Determine the value of the constant $c$.\n",
    "\n",
    "1. Suppose that two balanced dice are rolled, and let $X$ denote the absolute value of the difference between the two numbers that appear. Determine and sketch the p.f. of $X$."
   ]
  },
  {
   "cell_type": "markdown",
   "metadata": {
    "slideshow": {
     "slide_type": "slide"
    }
   },
   "source": [
    "# Great work!"
   ]
  }
 ],
 "metadata": {
  "celltoolbar": "Slideshow",
  "kernelspec": {
   "display_name": "Python 3 (ipykernel)",
   "language": "python",
   "name": "python3"
  },
  "language_info": {
   "codemirror_mode": {
    "name": "ipython",
    "version": 3
   },
   "file_extension": ".py",
   "mimetype": "text/x-python",
   "name": "python",
   "nbconvert_exporter": "python",
   "pygments_lexer": "ipython3",
   "version": "3.11.3"
  }
 },
 "nbformat": 4,
 "nbformat_minor": 4
}
