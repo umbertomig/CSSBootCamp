{
 "cells": [
  {
   "cell_type": "markdown",
   "id": "ff8da194",
   "metadata": {
    "slideshow": {
     "slide_type": "slide"
    }
   },
   "source": [
    "# CSS 201.5 - CSS Bootcamp\n",
    "\n",
    "## Python Programming\n",
    "\n",
    "### Umberto Mignozzetti (UCSD)"
   ]
  },
  {
   "cell_type": "markdown",
   "id": "4f01d73f",
   "metadata": {
    "slideshow": {
     "slide_type": "slide"
    }
   },
   "source": [
    "# Strings in Python"
   ]
  },
  {
   "cell_type": "markdown",
   "id": "14c0fb0a",
   "metadata": {
    "slideshow": {
     "slide_type": "slide"
    }
   },
   "source": [
    "## What is a string?\n",
    "\n",
    "> A **string** is a *sequence* of characters. It belongs to the `str` type in Python.\n",
    "\n",
    "A string stores characters as text, and is created using either single (`''`) or double (`\"\"`) quotes.\n",
    "\n",
    "Note that although strings are often used to store *words*, this isn't necessarily the case. A string could be:"
   ]
  },
  {
   "cell_type": "code",
   "execution_count": null,
   "id": "659cc36c",
   "metadata": {
    "slideshow": {
     "slide_type": "-"
    }
   },
   "outputs": [],
   "source": [
    "\"dog\\tand\\tcat\""
   ]
  },
  {
   "cell_type": "code",
   "execution_count": null,
   "id": "c7222fbf",
   "metadata": {
    "slideshow": {
     "slide_type": "-"
    }
   },
   "outputs": [],
   "source": [
    "\"abcdef\""
   ]
  },
  {
   "cell_type": "code",
   "execution_count": null,
   "id": "067a818b",
   "metadata": {
    "slideshow": {
     "slide_type": "-"
    }
   },
   "outputs": [],
   "source": [
    "\"1 + 4\""
   ]
  },
  {
   "cell_type": "markdown",
   "id": "f27dd7c9",
   "metadata": {
    "slideshow": {
     "slide_type": "-"
    }
   },
   "source": [
    "With many more possibilities. Basically, *any* character that you wrap with quotes becomes part of a `str` in Python."
   ]
  },
  {
   "cell_type": "markdown",
   "id": "17ee597e",
   "metadata": {
    "slideshow": {
     "slide_type": "slide"
    }
   },
   "source": [
    "### Multi-line strings\n",
    "\n",
    "Multi-line strings can be defined using `\"\"\" \"\"\"`, as below."
   ]
  },
  {
   "cell_type": "code",
   "execution_count": null,
   "id": "40c5e850",
   "metadata": {
    "slideshow": {
     "slide_type": "-"
    }
   },
   "outputs": [],
   "source": [
    "long_str = \"\"\"\n",
    "This string spans multiple lines.\n",
    "    This is the second line.\n",
    "\\\"This is the third line.\\\"\n",
    "Umberto's\n",
    "{} and {}.\n",
    "\"\"\"\n",
    "print(long_str.format('{}','house'))"
   ]
  },
  {
   "cell_type": "markdown",
   "id": "532ee3e8",
   "metadata": {
    "slideshow": {
     "slide_type": "slide"
    }
   },
   "source": [
    "### Side note: a `str` is a kind of sequence\n",
    "\n",
    "> A **sequence** is a collection of items (e.g., numbers, characters, etc.) with some *determined order*.  \n",
    "\n",
    "A `list` and `str` are both kinds of sequences. \n",
    "\n",
    "We'll discuss **sequences** more when we talk about `list`s, but there are a couple of important properties to remember:\n",
    "\n",
    "- Sequences have a particular *order*.  \n",
    "- You can **index** into a sequence to obtain the item at a particular position.  "
   ]
  },
  {
   "cell_type": "markdown",
   "id": "63be9d74",
   "metadata": {
    "slideshow": {
     "slide_type": "slide"
    }
   },
   "source": [
    "### Checking whether something is a `str`\n",
    "\n",
    "Recall that you can check the **type** of a variable using `type`."
   ]
  },
  {
   "cell_type": "code",
   "execution_count": null,
   "id": "5fd3656c",
   "metadata": {
    "slideshow": {
     "slide_type": "-"
    }
   },
   "outputs": [],
   "source": [
    "type(\"This is a sentence.\")"
   ]
  },
  {
   "cell_type": "code",
   "execution_count": null,
   "id": "c5b30c7c",
   "metadata": {
    "slideshow": {
     "slide_type": "-"
    }
   },
   "outputs": [],
   "source": [
    "type(\"1 + 4\")"
   ]
  },
  {
   "cell_type": "code",
   "execution_count": null,
   "id": "0cad8c0e",
   "metadata": {
    "slideshow": {
     "slide_type": "-"
    }
   },
   "outputs": [],
   "source": [
    "type(1 + 4)"
   ]
  },
  {
   "cell_type": "markdown",
   "id": "9e298aac",
   "metadata": {
    "slideshow": {
     "slide_type": "slide"
    }
   },
   "source": [
    "### Check-in\n",
    "\n",
    "Which of the following variables would evaluate to a `str`?"
   ]
  },
  {
   "cell_type": "code",
   "execution_count": null,
   "id": "10df57b0",
   "metadata": {
    "slideshow": {
     "slide_type": "-"
    }
   },
   "outputs": [],
   "source": [
    "x1 = 1.5\n",
    "x2 = True\n",
    "x3 = \"2 * 100\""
   ]
  },
  {
   "cell_type": "markdown",
   "id": "9452484e",
   "metadata": {
    "slideshow": {
     "slide_type": "slide"
    }
   },
   "source": [
    "## Why care about strings?\n",
    "\n",
    "**Strings** are incredibly useful and versatile, so it's important to understand how they work and how to manipulate them.\n",
    "\n",
    "Common uses of strings:\n",
    "\n",
    "- Pretty much all text data is stored as a `str` (e.g., a text corpus, a word, etc.).  \n",
    "- Storing information that can't be represented as `int` or `bool`, such as **password**.  \n",
    "- Declaring **features** of an object in Python that can't be represented as `int` or `bool`. \n",
    "- Representing a **filename**.\n",
    "\n",
    "Strings are so useful that virtually all programming languages have something like a `str` type."
   ]
  },
  {
   "cell_type": "markdown",
   "id": "51de795e",
   "metadata": {
    "slideshow": {
     "slide_type": "slide"
    }
   },
   "source": [
    "## Working with strings: basic operations\n",
    "\n",
    "Today, we're going to focus on a few **basic operations** we can use with strings. In a future lecture, we'll talk about more complex operations.\n",
    "\n",
    "The basic operations include:\n",
    "\n",
    "1. Getting the length (`len`) of a string.  \n",
    "2. Indexing into a string (`string_name[0]`).  \n",
    "3. Looping through a string (`for ch in string_name...`).  \n",
    "\n",
    "You'll note that each of these operations can also be applied to a `list` type!"
   ]
  },
  {
   "cell_type": "markdown",
   "id": "0ba02fba",
   "metadata": {
    "slideshow": {
     "slide_type": "slide"
    }
   },
   "source": [
    "### Calculating string length with `len`\n",
    "\n",
    "> The `len` operator calculates the number of characters in a `str` (or `list`).  "
   ]
  },
  {
   "cell_type": "code",
   "execution_count": null,
   "id": "192536f6",
   "metadata": {
    "slideshow": {
     "slide_type": "-"
    }
   },
   "outputs": [],
   "source": [
    "x1 = \"CSS 201 jhdfkjahsdjfh kfjdhsfkjhasdkjhf. fkjdhsaklfjasdf\"\n",
    "print(len(x1))"
   ]
  },
  {
   "cell_type": "code",
   "execution_count": null,
   "id": "0f0ab10c",
   "metadata": {
    "slideshow": {
     "slide_type": "-"
    }
   },
   "outputs": [],
   "source": [
    "x2 = \"class\"\n",
    "print(len(x2))"
   ]
  },
  {
   "cell_type": "markdown",
   "id": "dd7c590a",
   "metadata": {
    "slideshow": {
     "slide_type": "slide"
    }
   },
   "source": [
    "#### Check-in\n",
    "\n",
    "How many characters are in the string `\"2 + 2\"`?\n",
    "\n",
    "Try answering before you try typing in the expression."
   ]
  },
  {
   "cell_type": "markdown",
   "id": "35555964",
   "metadata": {
    "slideshow": {
     "slide_type": "slide"
    }
   },
   "source": [
    "#### Spaces count as characters!\n",
    "\n",
    "An empty space (`\" \"`) counts as a character in Python.\n",
    "\n",
    "Thus, the `str` `\"big dog\"` has one extra character than the `str` `\"bigdog\"`. "
   ]
  },
  {
   "cell_type": "code",
   "execution_count": null,
   "id": "93b8e83d",
   "metadata": {
    "slideshow": {
     "slide_type": "-"
    }
   },
   "outputs": [],
   "source": [
    "len(\"big dog\")"
   ]
  },
  {
   "cell_type": "code",
   "execution_count": null,
   "id": "578c1104",
   "metadata": {
    "slideshow": {
     "slide_type": "-"
    }
   },
   "outputs": [],
   "source": [
    "len(\"bigdog\")"
   ]
  },
  {
   "cell_type": "markdown",
   "id": "d9ad2f5a",
   "metadata": {
    "slideshow": {
     "slide_type": "slide"
    }
   },
   "source": [
    "#### Check-in\n",
    "\n",
    "How many characters are in the `str` below?"
   ]
  },
  {
   "cell_type": "code",
   "execution_count": null,
   "id": "2e9624ff",
   "metadata": {
    "slideshow": {
     "slide_type": "-"
    }
   },
   "outputs": [],
   "source": [
    "str_test = \"Computational Social Science is fun.\""
   ]
  },
  {
   "cell_type": "markdown",
   "id": "181eb5a2",
   "metadata": {
    "slideshow": {
     "slide_type": "slide"
    }
   },
   "source": [
    "#### Putting quotes into a string\n",
    "\n",
    "Certain characters, like quotes, require an **escape** character if you want to put them into a string. Otherwise they'll simply *end* the string."
   ]
  },
  {
   "cell_type": "code",
   "execution_count": null,
   "id": "68c4a8c1",
   "metadata": {
    "slideshow": {
     "slide_type": "-"
    }
   },
   "outputs": [],
   "source": [
    "quote_str = \"Then he said, \\\"I love CSS!\\\"\"\n",
    "print(quote_str)"
   ]
  },
  {
   "cell_type": "markdown",
   "id": "3d3c37bb",
   "metadata": {
    "slideshow": {
     "slide_type": "slide"
    }
   },
   "source": [
    "### Indexing into a `str`\n",
    "\n",
    "> In programming, **indexing** into a sequence means retrieving the item at a particular position.\n",
    "\n",
    "Because a `str` is a kind of sequence, we can retrieve the character at a particular position.\n",
    "\n",
    "We can index into a `str` (or `list`) using the `string_name[...]` notation, where `...` would be replaced with the **index** of the character we want to retrieve."
   ]
  },
  {
   "cell_type": "code",
   "execution_count": null,
   "id": "a31b6eb2",
   "metadata": {
    "slideshow": {
     "slide_type": "-"
    }
   },
   "outputs": [],
   "source": [
    "test_var = \"computer\"\n",
    "test_var[::-1]"
   ]
  },
  {
   "cell_type": "markdown",
   "id": "e8fcab64",
   "metadata": {
    "slideshow": {
     "slide_type": "slide"
    }
   },
   "source": [
    "#### Note on indexing\n",
    "\n",
    "Python uses **zero-indexing**: the first element in a sequence is assigned the index `0`, the second is assigned `1`, and so on.\n",
    "\n",
    "- This can be hard to get used to at first!  \n",
    "- But over time, it'll start to seem more natural.  "
   ]
  },
  {
   "cell_type": "markdown",
   "id": "7ac1a6d7",
   "metadata": {
    "slideshow": {
     "slide_type": "slide"
    }
   },
   "source": [
    "#### Check-in\n",
    "\n",
    "Which of the indexing operations below would return the letter `\"S\"`?"
   ]
  },
  {
   "cell_type": "code",
   "execution_count": null,
   "id": "704a3af5",
   "metadata": {
    "slideshow": {
     "slide_type": "-"
    }
   },
   "outputs": [],
   "source": [
    "s = \"CSS\""
   ]
  },
  {
   "cell_type": "markdown",
   "id": "cf63cee6",
   "metadata": {
    "slideshow": {
     "slide_type": "slide"
    }
   },
   "source": [
    "#### Check-in\n",
    "\n",
    "Why does the code below return an **error**?"
   ]
  },
  {
   "cell_type": "code",
   "execution_count": null,
   "id": "7a86a8a6",
   "metadata": {
    "slideshow": {
     "slide_type": "-"
    }
   },
   "outputs": [],
   "source": [
    "s = \"CSS\"\n",
    "s[4]"
   ]
  },
  {
   "cell_type": "markdown",
   "id": "ce63b6d8",
   "metadata": {
    "slideshow": {
     "slide_type": "slide"
    }
   },
   "source": [
    "### Slicing into a `str`\n",
    "\n",
    "> **Slicing** is like indexing, but allows you to return a *subset* within a sequence.\n",
    "\n",
    "For example, rather than getting the *n-th* character of a `str`, you can return the characters between index `0` and index `2`.\n",
    "\n",
    "- To **slice**, use the syntax `[start_index:end_index]`.  \n",
    "- `start_index` is the index of the first character you want to return.  \n",
    "- `end_index` is the index of the final character you want to return, plus one.\n",
    "   - Like `range`, the final index is not \"inclusive\".  "
   ]
  },
  {
   "cell_type": "code",
   "execution_count": null,
   "id": "dfcab118",
   "metadata": {
    "slideshow": {
     "slide_type": "-"
    }
   },
   "outputs": [],
   "source": [
    "s = \"programming\"\n",
    "s[0:4]"
   ]
  },
  {
   "cell_type": "markdown",
   "id": "8c7a8e45",
   "metadata": {
    "slideshow": {
     "slide_type": "slide"
    }
   },
   "source": [
    "#### Check-in\n",
    "\n",
    "How many characters would the following **slice** return? *Which* characters would they be?"
   ]
  },
  {
   "cell_type": "code",
   "execution_count": null,
   "id": "d19559b5",
   "metadata": {
    "slideshow": {
     "slide_type": "-"
    }
   },
   "outputs": [],
   "source": [
    "s = \"programming\"\n",
    "subset = s[5:7] ## how many characters is this?"
   ]
  },
  {
   "cell_type": "markdown",
   "id": "86a84d5d",
   "metadata": {
    "slideshow": {
     "slide_type": "slide"
    }
   },
   "source": [
    "#### Check-in\n",
    "\n",
    "Write a **slice** operation to return the `str` `\"humid\"` within the string `\"dehumidify\"`."
   ]
  },
  {
   "cell_type": "code",
   "execution_count": null,
   "id": "5ad242ea",
   "metadata": {
    "slideshow": {
     "slide_type": "-"
    }
   },
   "outputs": [],
   "source": [
    "original_str = \"dehumidify\"\n",
    "### Your code here"
   ]
  },
  {
   "cell_type": "markdown",
   "id": "67a1ecce",
   "metadata": {
    "slideshow": {
     "slide_type": "slide"
    }
   },
   "source": [
    "### Looping through strings\n",
    "\n",
    "> **Looping** through a `str` means repeating some piece of code for each (or a subset) of the characters within a string.\n",
    "\n",
    "We've already discussed [loops in previous lectures](06-loops), so this will be a brief review:\n",
    "\n",
    "- A `for` loop **iterates** through each item in a sequence (like a `str`), repeating some piece of code.  \n",
    "- A `while` loop **continues** as long as some condition is met, and can also be used to iterate through a sequence."
   ]
  },
  {
   "cell_type": "markdown",
   "id": "7e0d158a",
   "metadata": {
    "slideshow": {
     "slide_type": "slide"
    }
   },
   "source": [
    "#### Looping with a `for` loop"
   ]
  },
  {
   "cell_type": "code",
   "execution_count": null,
   "id": "b193de75",
   "metadata": {
    "slideshow": {
     "slide_type": "-"
    }
   },
   "outputs": [],
   "source": [
    "seq = \"CSS\"\n",
    "for i in seq:\n",
    "    print(i)"
   ]
  },
  {
   "cell_type": "markdown",
   "id": "dfa9f4a1",
   "metadata": {
    "slideshow": {
     "slide_type": "slide"
    }
   },
   "source": [
    "#### Looping with a `while` loop"
   ]
  },
  {
   "cell_type": "code",
   "execution_count": null,
   "id": "0ddbeb9f",
   "metadata": {
    "scrolled": true,
    "slideshow": {
     "slide_type": "-"
    }
   },
   "outputs": [],
   "source": [
    "i = 0\n",
    "seq = \"CSS\"\n",
    "while i < len(seq):\n",
    "    print(seq[i])\n",
    "    i += 1"
   ]
  },
  {
   "cell_type": "markdown",
   "id": "cd4cc620",
   "metadata": {
    "slideshow": {
     "slide_type": "slide"
    }
   },
   "source": [
    "## Modifying case\n",
    "\n",
    "Often, you'll need to modify the **case** of a `str` (i.e., make it either *upper* or *lower* case). \n",
    "\n",
    "- One use-case for this is needing to *compare* two strings, but not caring about whether they have identical case. \n",
    "- E.g., \"APplE\" is the same *word* as \"apple\", but these strings wouldn't evaluate as equal."
   ]
  },
  {
   "cell_type": "code",
   "execution_count": null,
   "id": "09e9eb12",
   "metadata": {
    "slideshow": {
     "slide_type": "-"
    }
   },
   "outputs": [],
   "source": [
    "\"appLe\" == \"apple\""
   ]
  },
  {
   "cell_type": "code",
   "execution_count": null,
   "id": "816a04d2",
   "metadata": {
    "slideshow": {
     "slide_type": "-"
    }
   },
   "outputs": [],
   "source": [
    "\"apple\" == \"apple\"\n",
    "\n",
    "'2 * 2' == '4'"
   ]
  },
  {
   "cell_type": "markdown",
   "id": "7807db5a",
   "metadata": {
    "slideshow": {
     "slide_type": "slide"
    }
   },
   "source": [
    "### `upper` and `lower`\n",
    "\n",
    "As the names imply, `upper` and `lower` are both *functions* that you can use on a `str`.  "
   ]
  },
  {
   "cell_type": "code",
   "execution_count": null,
   "id": "4cda0584",
   "metadata": {
    "slideshow": {
     "slide_type": "-"
    }
   },
   "outputs": [],
   "source": [
    "\"APPLE\".lower()"
   ]
  },
  {
   "cell_type": "code",
   "execution_count": null,
   "id": "572432c4",
   "metadata": {
    "slideshow": {
     "slide_type": "-"
    }
   },
   "outputs": [],
   "source": [
    "\"apple\".upper()"
   ]
  },
  {
   "cell_type": "code",
   "execution_count": null,
   "id": "a052db65",
   "metadata": {
    "slideshow": {
     "slide_type": "-"
    }
   },
   "outputs": [],
   "source": [
    "\"APPLE\".lower() == \"apple\""
   ]
  },
  {
   "cell_type": "markdown",
   "id": "5bd5c205",
   "metadata": {
    "slideshow": {
     "slide_type": "slide"
    }
   },
   "source": [
    "### `title`\n",
    "\n",
    "The `title` function is a variant of `upper`/`lower`, which just capitalizes the *first* letter of each word."
   ]
  },
  {
   "cell_type": "code",
   "execution_count": null,
   "id": "61565e20",
   "metadata": {
    "slideshow": {
     "slide_type": "-"
    }
   },
   "outputs": [],
   "source": [
    "og_string = \"my name is umberto\"\n",
    "og_string.title()"
   ]
  },
  {
   "cell_type": "markdown",
   "id": "4b2e0737",
   "metadata": {
    "slideshow": {
     "slide_type": "-"
    }
   },
   "source": [
    "Note that if you have capital letters *after* the first letter of a word, these will now become lowercase!"
   ]
  },
  {
   "cell_type": "code",
   "execution_count": null,
   "id": "05be3bc2",
   "metadata": {
    "slideshow": {
     "slide_type": "-"
    }
   },
   "outputs": [],
   "source": [
    "og_string = \"DNA\"\n",
    "og_string.title()"
   ]
  },
  {
   "cell_type": "markdown",
   "id": "d5b569b3",
   "metadata": {
    "slideshow": {
     "slide_type": "slide"
    }
   },
   "source": [
    "### Evaluating case\n",
    "\n",
    "Just as you can **modify** the case of these strings, you can also evaluate it:\n",
    "\n",
    "- `isupper()` \n",
    "- `islower()` \n",
    "- `istitle()`\n",
    "\n",
    "These functions all check whether a string conforms to those patterns."
   ]
  },
  {
   "cell_type": "code",
   "execution_count": null,
   "id": "dc4f237d",
   "metadata": {
    "slideshow": {
     "slide_type": "-"
    }
   },
   "outputs": [],
   "source": [
    "\"CSS\".isupper()"
   ]
  },
  {
   "cell_type": "code",
   "execution_count": null,
   "id": "0340cb07",
   "metadata": {
    "slideshow": {
     "slide_type": "-"
    }
   },
   "outputs": [],
   "source": [
    "\"CSS\".islower()"
   ]
  },
  {
   "cell_type": "code",
   "execution_count": null,
   "id": "0f3828e8",
   "metadata": {
    "slideshow": {
     "slide_type": "-"
    }
   },
   "outputs": [],
   "source": [
    "\"I Love Programming\".istitle()"
   ]
  },
  {
   "cell_type": "markdown",
   "id": "166fd63d",
   "metadata": {
    "slideshow": {
     "slide_type": "slide"
    }
   },
   "source": [
    "### Check-in\n",
    "\n",
    "If you called `istitle()` on the following string, would it evaluate to `True` or `False`?"
   ]
  },
  {
   "cell_type": "code",
   "execution_count": null,
   "id": "fcb0c83a",
   "metadata": {
    "slideshow": {
     "slide_type": "-"
    }
   },
   "outputs": [],
   "source": [
    "test_str = \"I love CSS\"\n",
    "### Your answer/code here"
   ]
  },
  {
   "cell_type": "markdown",
   "id": "dd4abfae",
   "metadata": {
    "slideshow": {
     "slide_type": "slide"
    }
   },
   "source": [
    "### Other helpful evaluation methods\n",
    "\n",
    "There are a few other helpful methods for **evaluating** properties of a string:\n",
    "\n",
    "- `isdigit`: checks if the characters are entirely digits (e.g., $0, 1, ..., 9$)  \n",
    "- `isalpha`: checks if the characters are entirely alphabetic characters (e.g., `abcd...`). \n",
    "- `isspace`: checks if the string is entirely space characters (e.g., ` `). "
   ]
  },
  {
   "cell_type": "markdown",
   "id": "255e38e8",
   "metadata": {
    "slideshow": {
     "slide_type": "slide"
    }
   },
   "source": [
    "## Replacing characters\n",
    "\n",
    "Another common operation is [**replacing** elements of a string](https://www.w3schools.com/python/ref_string_replace.asp). \n",
    "\n",
    "Examples:\n",
    "\n",
    "- In a `list` of filenames, replacing every `-` with a `_`. \n",
    "- Removing certain words or characters, e.g., replacing every instance of a word with a ` `.  \n",
    "\n",
    "This can be done with the `replace` function."
   ]
  },
  {
   "cell_type": "code",
   "execution_count": null,
   "id": "9c7fce7c",
   "metadata": {
    "slideshow": {
     "slide_type": "-"
    }
   },
   "outputs": [],
   "source": [
    "## Replace \"-\" with \"_\"\n",
    "og_filename = \"css-lecture-06\"\n",
    "og_filename.replace(\"-\", \"_\")"
   ]
  },
  {
   "cell_type": "markdown",
   "id": "38f19007",
   "metadata": {
    "slideshow": {
     "slide_type": "slide"
    }
   },
   "source": [
    "### Replacing the first $N$ instances\n",
    "\n",
    "`replace` can also be used to replace only the first $N$ instances of a string. "
   ]
  },
  {
   "cell_type": "code",
   "execution_count": null,
   "id": "4aa7bb64",
   "metadata": {
    "slideshow": {
     "slide_type": "-"
    }
   },
   "outputs": [],
   "source": [
    "## Replace only the first instance of \"bananas\"\n",
    "og_string = \"bananas, apples, bananas, grapes\"\n",
    "og_string.replace(\"bananas\", \"oranges\", 1)"
   ]
  },
  {
   "cell_type": "markdown",
   "id": "6fe80ac9",
   "metadata": {
    "slideshow": {
     "slide_type": "slide"
    }
   },
   "source": [
    "### Check-in\n",
    "\n",
    "Use the `replace` function to replace the **first 2 instances** of `-` with `_`."
   ]
  },
  {
   "cell_type": "code",
   "execution_count": null,
   "id": "0d359af7",
   "metadata": {
    "slideshow": {
     "slide_type": "-"
    }
   },
   "outputs": [],
   "source": [
    "original_filename = \"css-l06-su23-test.py\"\n",
    "### Your code here"
   ]
  },
  {
   "cell_type": "markdown",
   "id": "35d3a3b1",
   "metadata": {
    "slideshow": {
     "slide_type": "slide"
    }
   },
   "source": [
    "### `replace` is case-sensitive\n",
    "\n",
    "Note that `replace` attempts an **exact match** of the `str` you're looking to replace.\n",
    "\n",
    "- This includes exact **case match**. \n",
    "- `\"apple\" != \"APPLE\"`. "
   ]
  },
  {
   "cell_type": "code",
   "execution_count": null,
   "id": "e5bac30a",
   "metadata": {
    "slideshow": {
     "slide_type": "-"
    }
   },
   "outputs": [],
   "source": [
    "case_mismatch = \"I like Apples\"\n",
    "### replace won't do anything here\n",
    "case_mismatch.replace(\"apples\", \"bananas\")"
   ]
  },
  {
   "cell_type": "code",
   "execution_count": null,
   "id": "7126ce80",
   "metadata": {
    "slideshow": {
     "slide_type": "-"
    }
   },
   "outputs": [],
   "source": [
    "case_mismatch = \"I like Apples\"\n",
    "### replace will replace it here\n",
    "case_mismatch.replace(\"Apples\", \"bananas\")"
   ]
  },
  {
   "cell_type": "markdown",
   "id": "c8904eda",
   "metadata": {
    "slideshow": {
     "slide_type": "slide"
    }
   },
   "source": [
    "## Concatenating strings\n",
    "\n",
    "> String **concatenation** simply means *combining* multiple strings.\n",
    "\n",
    "Often, you'll need to *combine* the characters in multiple strings.\n",
    "\n",
    "- Combining the **directory path** and a **filename** to get the full path of a file.\n",
    "- Combining parts of strings to get a valid **URL**.  \n",
    "- Combining the first and last name of a client to `print` out the **full name**."
   ]
  },
  {
   "cell_type": "markdown",
   "id": "49b5278f",
   "metadata": {
    "slideshow": {
     "slide_type": "slide"
    }
   },
   "source": [
    "### Approach 1: the `+` operator\n",
    "\n",
    "The `+` operator can be used to **combine** multiple `str` objects."
   ]
  },
  {
   "cell_type": "code",
   "execution_count": null,
   "id": "9abfd6e9",
   "metadata": {
    "slideshow": {
     "slide_type": "-"
    }
   },
   "outputs": [],
   "source": [
    "\"Comput\" + \"ational\""
   ]
  },
  {
   "cell_type": "code",
   "execution_count": null,
   "id": "e5bd0c2d",
   "metadata": {
    "slideshow": {
     "slide_type": "-"
    }
   },
   "outputs": [],
   "source": [
    "\"css201/\" + \"lec06/\" + \"file.py\""
   ]
  },
  {
   "cell_type": "markdown",
   "id": "08a5fc81",
   "metadata": {
    "slideshow": {
     "slide_type": "slide"
    }
   },
   "source": [
    "#### Check-in\n",
    "\n",
    "What do you notice about how these strings are combined? Is a space added between each constituent `str` or no?"
   ]
  },
  {
   "cell_type": "markdown",
   "id": "707610e3",
   "metadata": {
    "slideshow": {
     "slide_type": "slide"
    }
   },
   "source": [
    "#### Watch out for spaces (and lack thereof)!\n",
    "\n",
    "By default, `+` will just combine two different string objects directly.\n",
    "\n",
    "That is, `\"Hello\" + \"World\"` will become `\"HelloWorld\"`.\n",
    "\n",
    "If you want to add a space *between* these objects, make sure to add a space character in your concatenation operation."
   ]
  },
  {
   "cell_type": "code",
   "execution_count": null,
   "id": "eaab2f7e",
   "metadata": {
    "slideshow": {
     "slide_type": "-"
    }
   },
   "outputs": [],
   "source": [
    "p1 = \"Hello\"\n",
    "p2 = \"World\"\n",
    "p1 + \" \" + p2"
   ]
  },
  {
   "cell_type": "markdown",
   "id": "14ad8596",
   "metadata": {
    "slideshow": {
     "slide_type": "slide"
    }
   },
   "source": [
    "#### Check-in\n",
    "\n",
    "Why does the code below throw an error? \n",
    "\n",
    "**Bonus**: What would you need to do to make it *not* throw an error?"
   ]
  },
  {
   "cell_type": "code",
   "execution_count": null,
   "id": "af4c0f60",
   "metadata": {
    "slideshow": {
     "slide_type": "-"
    }
   },
   "outputs": [],
   "source": [
    "2 + \" cats\""
   ]
  },
  {
   "cell_type": "markdown",
   "id": "fe273ad9",
   "metadata": {
    "slideshow": {
     "slide_type": "slide"
    }
   },
   "source": [
    "#### Concatenating an `int` to a `str`\n",
    "\n",
    "The `+` operator assumes you are concatenating multiple `str` objects. Thus, trying to combine an `int` with a `str` this way will throw an error.\n",
    "\n",
    "However, you can use **type-casting** to turn the `int` into a `str`, and then combine them."
   ]
  },
  {
   "cell_type": "code",
   "execution_count": null,
   "id": "a39dc2fb",
   "metadata": {
    "slideshow": {
     "slide_type": "-"
    }
   },
   "outputs": [],
   "source": [
    "str(2) + \" cats\""
   ]
  },
  {
   "cell_type": "markdown",
   "id": "013a86f2",
   "metadata": {
    "slideshow": {
     "slide_type": "slide"
    }
   },
   "source": [
    "#### Check-in\n",
    "\n",
    "Use the `+` operator to combine the variables below into a single string (in order, i.e., `var1` followed by `var2`, etc.). \n",
    "- Add a space between each variable. \n",
    "- Watch out for conflicting types!"
   ]
  },
  {
   "cell_type": "code",
   "execution_count": null,
   "id": "cc78dc43",
   "metadata": {
    "slideshow": {
     "slide_type": "-"
    }
   },
   "outputs": [],
   "source": [
    "var1 = \"This\"\n",
    "var2 = \"Is\"\n",
    "var3 = \"CSS\"\n",
    "var4 = 202\n",
    "#### Your code here"
   ]
  },
  {
   "cell_type": "markdown",
   "id": "dd3d79df",
   "metadata": {
    "slideshow": {
     "slide_type": "slide"
    }
   },
   "source": [
    "### Approach 2: using `format`\n",
    "\n",
    "The `format` method can also be used to merge multiple strings together.\n",
    "\n",
    "- This approach is less intuitive at first, but is very flexible.  \n",
    "- I use this approach when I'm `print`ing out lots of custom variable values, e.g., as in an output message.\n",
    "\n",
    "With `format`, you can declare \"variables\" within a `str` using the `{x}` syntax. "
   ]
  },
  {
   "cell_type": "code",
   "execution_count": null,
   "id": "cc9bebbe",
   "metadata": {
    "slideshow": {
     "slide_type": "-"
    }
   },
   "outputs": [],
   "source": [
    "first = \"Smarty\"\n",
    "last = \"Student\"\n",
    "print(\"Hello, {f} {l}\".format(f = first, l = last))"
   ]
  },
  {
   "cell_type": "markdown",
   "id": "90f62e98",
   "metadata": {
    "slideshow": {
     "slide_type": "slide"
    }
   },
   "source": [
    "#### Check-in\n",
    "\n",
    "Use `format` to `print` out a message that reads: \n",
    "\n",
    "`\"Welcome to CSS 201\"`."
   ]
  },
  {
   "cell_type": "code",
   "execution_count": null,
   "id": "c7910fba",
   "metadata": {
    "slideshow": {
     "slide_type": "-"
    }
   },
   "outputs": [],
   "source": [
    "department = \"CSS\"\n",
    "number = \"201\"\n",
    "#### Your code here"
   ]
  },
  {
   "cell_type": "markdown",
   "id": "0cf1698d",
   "metadata": {
    "slideshow": {
     "slide_type": "slide"
    }
   },
   "source": [
    "### Approach 3: using `join`\n",
    "\n",
    "Another somewhat common use-case is **joining** strings that are currently stored as elements of a list.\n",
    "\n",
    "The `join` syntax starts with the *character* (or character*s*) you'll be using to **join** each `str` together.\n",
    "\n",
    "- This could be a space character, an underscore, or anything you want.  \n",
    "- It then makes a call to `.join(list_name)`. "
   ]
  },
  {
   "cell_type": "code",
   "execution_count": null,
   "id": "3bdbf87e",
   "metadata": {
    "slideshow": {
     "slide_type": "-"
    }
   },
   "outputs": [],
   "source": [
    "separate_str = ['The', 'quick', 'brown', 'fox', 'jumped']\n",
    "separate_str"
   ]
  },
  {
   "cell_type": "code",
   "execution_count": null,
   "id": "48a77b65",
   "metadata": {
    "slideshow": {
     "slide_type": "-"
    }
   },
   "outputs": [],
   "source": [
    "\" \".join(separate_str)"
   ]
  },
  {
   "cell_type": "markdown",
   "id": "6ef5fc30",
   "metadata": {
    "slideshow": {
     "slide_type": "slide"
    }
   },
   "source": [
    "#### Check-in\n",
    "\n",
    "Use `join` to turn the following list of directory and sub-directory names into a full file path, connected by the `\"\\\"` symbol. "
   ]
  },
  {
   "cell_type": "code",
   "execution_count": null,
   "id": "b7ff2d97",
   "metadata": {
    "slideshow": {
     "slide_type": "-"
    }
   },
   "outputs": [],
   "source": [
    "dirs = [\"css\", \"201\", \"lectures\", \"lec06\"]\n",
    "#### Your code here"
   ]
  },
  {
   "cell_type": "markdown",
   "id": "03facc1c",
   "metadata": {
    "slideshow": {
     "slide_type": "slide"
    }
   },
   "source": [
    "### Other approaches\n",
    "\n",
    "There are a number of [other approaches](https://www.pythontutorial.net/python-string-methods/python-string-concatenation/) to concatenating strings. \n",
    "\n",
    "Personally, I primarily use:\n",
    "\n",
    "- The `format` operator when I'm `print`ing out complicated strings. \n",
    "- The `+` operator for everything else.  "
   ]
  },
  {
   "cell_type": "markdown",
   "id": "18716a4d",
   "metadata": {
    "slideshow": {
     "slide_type": "slide"
    }
   },
   "source": [
    "## `split`ting a string\n",
    "\n",
    "Just as you can `join` parts of a `list` into a `str`, you can also `split` a `str` into a `list`!\n",
    "\n",
    "Common use cases:\n",
    "\n",
    "- Extracting directories and sub-directories of a file path.  \n",
    "- **Tokenizing** a sentence, i.e., retrieving all the distinct *words* (e.g., in English, written words are typically separated by spaces).  \n",
    "- Extracting different **hash-tags** from a tweet (e.g., `\"#CSS#Programming\"`). "
   ]
  },
  {
   "cell_type": "code",
   "execution_count": null,
   "id": "ef1bff5f",
   "metadata": {
    "slideshow": {
     "slide_type": "-"
    }
   },
   "outputs": [],
   "source": [
    "example_sentence = \"The quick brown fox jumped over the lazy dog\"\n",
    "example_sentence.split(\" \")"
   ]
  },
  {
   "cell_type": "markdown",
   "id": "a688a910",
   "metadata": {
    "slideshow": {
     "slide_type": "slide"
    }
   },
   "source": [
    "#### Check-in\n",
    "\n",
    "How many **words** (i.e., character-sequences separated by spaces) are in the sentence below?\n",
    "\n",
    "Hint: use a combination of `split` and `len` to solve this question."
   ]
  },
  {
   "cell_type": "code",
   "execution_count": null,
   "id": "96a6617d",
   "metadata": {
    "slideshow": {
     "slide_type": "-"
    }
   },
   "outputs": [],
   "source": [
    "test_sentence = \"This sentence has a number of different words and your goal is to count them\"\n",
    "### Your code here"
   ]
  },
  {
   "cell_type": "markdown",
   "id": "b209d4b9",
   "metadata": {
    "slideshow": {
     "slide_type": "slide"
    }
   },
   "source": [
    "## Combining lists\n",
    "\n",
    "Two or more lists can be combined using the `+` operator."
   ]
  },
  {
   "cell_type": "code",
   "execution_count": null,
   "id": "8e98a9b3",
   "metadata": {
    "slideshow": {
     "slide_type": "-"
    }
   },
   "outputs": [],
   "source": [
    "list1 = [1, 2, 3]\n",
    "list2 = ['4', 5, '6']\n",
    "list1 + list2"
   ]
  },
  {
   "cell_type": "markdown",
   "id": "a72cd697",
   "metadata": {
    "slideshow": {
     "slide_type": "slide"
    }
   },
   "source": [
    "These lists do *not* have to have the same `type` or number of objects."
   ]
  },
  {
   "cell_type": "code",
   "execution_count": null,
   "id": "a651e9e2",
   "metadata": {
    "slideshow": {
     "slide_type": "-"
    }
   },
   "outputs": [],
   "source": [
    "list3 = [\"a\", \"b\"]\n",
    "list1 + list3"
   ]
  },
  {
   "cell_type": "markdown",
   "id": "89633e47",
   "metadata": {
    "slideshow": {
     "slide_type": "slide"
    }
   },
   "source": [
    "### Check-in\n",
    "\n",
    "Use the `+` operator to combine the lists below, then use `join` to join the words into a complete sentence (with each word separated by a `\" \"`)."
   ]
  },
  {
   "cell_type": "code",
   "execution_count": null,
   "id": "c39d6665",
   "metadata": {
    "slideshow": {
     "slide_type": "-"
    }
   },
   "outputs": [],
   "source": [
    "l1 = ['CSS', '201']\n",
    "l2 = ['is', 'fun']\n",
    "### Your code here"
   ]
  },
  {
   "cell_type": "markdown",
   "id": "c37a42e2",
   "metadata": {
    "slideshow": {
     "slide_type": "slide"
    }
   },
   "source": [
    "## Adding items to a `list`\n",
    "\n",
    "In addition to using the `+` operator, you can add individual *items* to a list using the `append` function.\n",
    "\n",
    "- Note that this modifies the list \"in place\", i.e., it doesn't *return* a value, but rather it mutates the existing `list` object."
   ]
  },
  {
   "cell_type": "code",
   "execution_count": null,
   "id": "900e300c",
   "metadata": {
    "slideshow": {
     "slide_type": "-"
    }
   },
   "outputs": [],
   "source": [
    "fruits = ['apple', 'banana']\n",
    "fruits.append('orange')\n",
    "print(fruits)"
   ]
  },
  {
   "cell_type": "markdown",
   "id": "28696f40",
   "metadata": {
    "slideshow": {
     "slide_type": "slide"
    }
   },
   "source": [
    "### Filling up an empty `list`\n",
    "\n",
    "The `append` function is often used to **fill up** a `list` with items, such as during a `for` loop.\n",
    "\n",
    "For example, you might:\n",
    "\n",
    "- Initialize an *empty* list.  \n",
    "- Loop through numbers between `1` and `100`.\n",
    "- Add those numbers to the empty list if they're odd."
   ]
  },
  {
   "cell_type": "code",
   "execution_count": null,
   "id": "2f495a1b",
   "metadata": {
    "slideshow": {
     "slide_type": "-"
    }
   },
   "outputs": [],
   "source": [
    "new_list = [] ### Initialize empty list\n",
    "for num in range(1, 101): ### Loop through range\n",
    "    if num % 2 == 1: ### If number is odd...\n",
    "        new_list.append(num) ### Append it to list\n",
    "new_list[0:3] ### Get the first three elements of new list"
   ]
  },
  {
   "cell_type": "markdown",
   "id": "08f30155",
   "metadata": {
    "slideshow": {
     "slide_type": "slide"
    }
   },
   "source": [
    "### Check-in\n",
    "\n",
    "Add the number `4` to the list below using `append`."
   ]
  },
  {
   "cell_type": "code",
   "execution_count": null,
   "id": "ddc36572",
   "metadata": {
    "slideshow": {
     "slide_type": "-"
    }
   },
   "outputs": [],
   "source": [
    "sample_list = [1, 2, 3]\n",
    "### Your code here"
   ]
  },
  {
   "cell_type": "markdown",
   "id": "db202507",
   "metadata": {
    "slideshow": {
     "slide_type": "slide"
    }
   },
   "source": [
    "### Check-in\n",
    "\n",
    "The code cell below contains two lists: one contains a list of foods, the other contains a list of words with the letter \"a\". \n",
    "\n",
    "Using `append` and a `for` loop, add the items from `foods` to `a_words` if:\n",
    "\n",
    "- they contain the letter \"a\".\n",
    "- they don't already appear in `a_words`. "
   ]
  },
  {
   "cell_type": "code",
   "execution_count": null,
   "id": "3c244b1c",
   "metadata": {
    "slideshow": {
     "slide_type": "-"
    }
   },
   "outputs": [],
   "source": [
    "foods = ['apple', 'banana', 'orange', 'kiwi', 'strawberry', 'mango', 'pineapple', 'berry']\n",
    "a_words = ['board', 'table', 'apple', 'human']\n",
    "### Your code here\n",
    "for f in foods:\n",
    "    if 'a' in f and f not in a_words:\n",
    "        a_words.append(f)\n",
    "\n",
    "print(a_words)"
   ]
  },
  {
   "cell_type": "markdown",
   "id": "2677cbd7",
   "metadata": {
    "slideshow": {
     "slide_type": "slide"
    }
   },
   "source": [
    "### Using `insert`\n",
    "\n",
    "- The `append` function always adds items to the **end** of a list.  \n",
    "- Instead, you can use `insert` to insert items at a specific location, such as the start.\n",
    "- Syntax: `list_name.insert(position, item)`"
   ]
  },
  {
   "cell_type": "code",
   "execution_count": null,
   "id": "9318e193",
   "metadata": {},
   "outputs": [],
   "source": [
    "sample_list = [2, 3, 4]\n",
    "sample_list.insert(0, 1) ### insert a 1 at the zero-th position\n",
    "print(sample_list)"
   ]
  },
  {
   "cell_type": "markdown",
   "id": "387eddea",
   "metadata": {
    "slideshow": {
     "slide_type": "slide"
    }
   },
   "source": [
    "## Removing items from a `list`\n",
    "\n",
    "There are two primary ways to **remove** an item from a list.\n",
    "\n",
    "- `pop`: this removes the item at a given index (by default, this is the *last* item), and also **returns** that item. \n",
    "- `remove`: this removes the first occurrence of a particular *value* from a `list`.\n",
    "\n",
    "So, roughly:\n",
    "\n",
    "- `pop` removes by *position*.  \n",
    "- `remove` removes by *value*.  "
   ]
  },
  {
   "cell_type": "markdown",
   "id": "5c75920f",
   "metadata": {
    "slideshow": {
     "slide_type": "slide"
    }
   },
   "source": [
    "### `pop`ping in action\n",
    "\n",
    "The syntax for `pop` is straightforward: `list_name.pop()`"
   ]
  },
  {
   "cell_type": "code",
   "execution_count": null,
   "id": "5ca26e7f",
   "metadata": {
    "slideshow": {
     "slide_type": "-"
    }
   },
   "outputs": [],
   "source": [
    "sample_list = [1, 2, 5, 7]\n",
    "sample_list.pop() ### by default, returns final element"
   ]
  },
  {
   "cell_type": "markdown",
   "id": "27e8b4cb",
   "metadata": {
    "slideshow": {
     "slide_type": "-"
    }
   },
   "source": [
    "Now, if we look back at `sample_list`, we see that the final element has indeed been removed."
   ]
  },
  {
   "cell_type": "code",
   "execution_count": null,
   "id": "c7b0a700",
   "metadata": {
    "slideshow": {
     "slide_type": "-"
    }
   },
   "outputs": [],
   "source": [
    "sample_list"
   ]
  },
  {
   "cell_type": "markdown",
   "id": "3fe109a5",
   "metadata": {
    "slideshow": {
     "slide_type": "slide"
    }
   },
   "source": [
    "### Check-in\n",
    "\n",
    "What do you think would happen if we `pop` from an empty list?"
   ]
  },
  {
   "cell_type": "code",
   "execution_count": null,
   "id": "3315b80e",
   "metadata": {
    "slideshow": {
     "slide_type": "-"
    }
   },
   "outputs": [],
   "source": [
    "empty_list = []\n",
    "### what would happen if we call empty_list.pop()"
   ]
  },
  {
   "cell_type": "markdown",
   "id": "23dd2c54",
   "metadata": {
    "slideshow": {
     "slide_type": "slide"
    }
   },
   "source": [
    "### `remov`ing in action\n",
    "\n",
    "The syntax for `remove` is also straightforward: `list_name.remove(value)`\n",
    "\n",
    "- Where `value` is the value that you want to remove.  \n",
    "- Note that unlike `pop`, `remove` does *not* return a particular value, but it does modify the list in place."
   ]
  },
  {
   "cell_type": "code",
   "execution_count": null,
   "id": "b9d092f2",
   "metadata": {
    "slideshow": {
     "slide_type": "-"
    }
   },
   "outputs": [],
   "source": [
    "sample_list = [1, 2, 5, 7]\n",
    "sample_list.remove(5)\n",
    "print(sample_list)"
   ]
  },
  {
   "cell_type": "markdown",
   "id": "f4213e06",
   "metadata": {
    "slideshow": {
     "slide_type": "slide"
    }
   },
   "source": [
    "### Check-in\n",
    "\n",
    "What would happen to `test_list` if we call `test_list.remove(\"apple\")`?\n",
    "\n",
    "1. `['bread', 'apple', 'cheese', 'apple']`\n",
    "2. `['bread', 'cheese', 'apple']`\n",
    "3. `['bread', 'cheese']`"
   ]
  },
  {
   "cell_type": "code",
   "execution_count": null,
   "id": "eb32778a",
   "metadata": {
    "slideshow": {
     "slide_type": "-"
    }
   },
   "outputs": [],
   "source": [
    "test_list = ['bread', 'apple', 'cheese', 'apple']\n",
    "### Your code here"
   ]
  },
  {
   "cell_type": "markdown",
   "id": "41f90f11",
   "metadata": {
    "slideshow": {
     "slide_type": "slide"
    }
   },
   "source": [
    "## Finding the index of a particular value\n",
    "\n",
    "The `index` function allows you to return the index corresponding to the *first occurrence* of a particular value.\n",
    "\n",
    "**Basic syntax**: `list_name.index(value)`\n",
    "\n",
    "- Note that you can also (optionally) parameterize the `start` and `end` of this search: \n",
    "   - `list_name.index(value, start, end)`"
   ]
  },
  {
   "cell_type": "code",
   "execution_count": null,
   "id": "423fd1c0",
   "metadata": {
    "slideshow": {
     "slide_type": "-"
    }
   },
   "outputs": [],
   "source": [
    "test_list = ['bread', 'apple', 'cheese', 'apple', 'house', 'car', 'yard', 'apple']\n",
    "test_list.index(\"bread\")"
   ]
  },
  {
   "cell_type": "code",
   "execution_count": null,
   "id": "2b64aad1",
   "metadata": {
    "slideshow": {
     "slide_type": "-"
    }
   },
   "outputs": [],
   "source": [
    "### Returns *first* occurrence of \"apple\"\n",
    "test_list.index(\"apple\")"
   ]
  },
  {
   "cell_type": "code",
   "execution_count": null,
   "id": "4210a990",
   "metadata": {
    "slideshow": {
     "slide_type": "-"
    }
   },
   "outputs": [],
   "source": [
    "### Returns first occurrence of \"apple\", *after* index = 2\n",
    "test_list.index(\"apple\", 4, 8)"
   ]
  },
  {
   "cell_type": "markdown",
   "id": "9fdbb2e1",
   "metadata": {
    "slideshow": {
     "slide_type": "slide"
    }
   },
   "source": [
    "### Check-in\n",
    "\n",
    "Use the `index` function to retrieve the index of the first occurrence of the number `10` in the list below."
   ]
  },
  {
   "cell_type": "code",
   "execution_count": null,
   "id": "cb9828d8",
   "metadata": {
    "slideshow": {
     "slide_type": "-"
    }
   },
   "outputs": [],
   "source": [
    "number_list = [1, 10, 15, 20, 10, 55]\n",
    "### Your code here"
   ]
  },
  {
   "cell_type": "markdown",
   "id": "1c43db1c",
   "metadata": {
    "slideshow": {
     "slide_type": "slide"
    }
   },
   "source": [
    "### Check-in\n",
    "\n",
    "Use the `index` function to retrieve the index of the first occurrence of the number `10` between the indices `2` and `5` in the list below."
   ]
  },
  {
   "cell_type": "code",
   "execution_count": null,
   "id": "12d713ba",
   "metadata": {
    "slideshow": {
     "slide_type": "-"
    }
   },
   "outputs": [],
   "source": [
    "number_list = [1, 10, 15, 20, 10, 55, 10]\n",
    "### Your code here"
   ]
  },
  {
   "cell_type": "markdown",
   "id": "1826f121",
   "metadata": {
    "slideshow": {
     "slide_type": "slide"
    }
   },
   "source": [
    "## `sort`ing a list\n",
    "\n",
    "> **Sorting** a `list` means rearranging its elements according to some measure of \"least\" and \"greatest\".\n",
    "\n",
    "There are many different [**algorithms** for sorting a list](https://en.wikipedia.org/wiki/Sorting_algorithm), which we won't cover in detail here.\n",
    "\n",
    "However, in Python, there are two main *functions*:\n",
    "\n",
    "- `sorted(list)`: returns a sorted version of a `list`.  \n",
    "- `list.sort()`: sorts a particular `list` **in place**. "
   ]
  },
  {
   "cell_type": "code",
   "execution_count": null,
   "id": "f9e2b113",
   "metadata": {
    "slideshow": {
     "slide_type": "-"
    }
   },
   "outputs": [],
   "source": [
    "number_list = [2, 1, 9, 5, 3, 4]\n",
    "sorted_list = sorted(number_list)\n",
    "sorted_list"
   ]
  },
  {
   "cell_type": "code",
   "execution_count": null,
   "id": "5836ba6d",
   "metadata": {
    "slideshow": {
     "slide_type": "-"
    }
   },
   "outputs": [],
   "source": [
    "number_list = [2, 1, 9, 5, 3, 4]\n",
    "number_list.sort()\n",
    "number_list"
   ]
  },
  {
   "cell_type": "markdown",
   "id": "94497e1e",
   "metadata": {
    "slideshow": {
     "slide_type": "slide"
    }
   },
   "source": [
    "### Ascending vs. descending?\n",
    "\n",
    "- By default, `sorted` will sort a list in **ascending** order.\n",
    "- The `reverse` key allows you to instead sort that list in **descending** order (i.e., largest elements first).\n",
    "\n"
   ]
  },
  {
   "cell_type": "code",
   "execution_count": null,
   "id": "90225d04",
   "metadata": {
    "slideshow": {
     "slide_type": "-"
    }
   },
   "outputs": [],
   "source": [
    "number_list = [2, 1, 9, 5, 3, 4]\n",
    "sorted_list = sorted(number_list, reverse = True)\n",
    "sorted_list"
   ]
  },
  {
   "cell_type": "markdown",
   "id": "74e5b90e",
   "metadata": {
    "slideshow": {
     "slide_type": "slide"
    }
   },
   "source": [
    "### Check-in\n",
    "\n",
    "The list `names` below is unsorted. Use the `sorted` function to return a new list with the names sorted, in **descending** order."
   ]
  },
  {
   "cell_type": "code",
   "execution_count": null,
   "id": "5286d36a",
   "metadata": {
    "slideshow": {
     "slide_type": "-"
    }
   },
   "outputs": [],
   "source": [
    "names = ['Umberto', 'Will', 'Sean', 'Eileen', 'Sam']\n",
    "names.sort()\n",
    "names"
   ]
  },
  {
   "cell_type": "markdown",
   "id": "7ebd15eb",
   "metadata": {
    "slideshow": {
     "slide_type": "slide"
    }
   },
   "source": [
    "## Nested lists\n",
    "\n",
    "A `list` can contain many different `type`s of objects: `str`, `int`, and even other `list`s!\n",
    "\n",
    "- Each **nested list** can contain further nested lists, or other types of objects.  \n",
    "- Nested lists do not have to be the same length."
   ]
  },
  {
   "cell_type": "code",
   "execution_count": null,
   "id": "8bb197ab",
   "metadata": {
    "slideshow": {
     "slide_type": "-"
    }
   },
   "outputs": [],
   "source": [
    "nested_list = [[1, 2, 3],\n",
    "              ['css', 'poli', 'econ'],\n",
    "              ['tea', 'coffee'],\n",
    "              'text',\n",
    "              [1, 2, 3, 4]]\n",
    "nested_list[4]"
   ]
  },
  {
   "cell_type": "markdown",
   "id": "d767b88e",
   "metadata": {
    "slideshow": {
     "slide_type": "slide"
    }
   },
   "source": [
    "### Check-in\n",
    "\n",
    "What would `len(nested_list)` return?"
   ]
  },
  {
   "cell_type": "code",
   "execution_count": null,
   "id": "cd38634e",
   "metadata": {
    "slideshow": {
     "slide_type": "-"
    }
   },
   "outputs": [],
   "source": [
    "nested_list = [[1, 2, 3],\n",
    "              ['css', 'poli', 'econ'],\n",
    "              ['tea', 'coffee']]\n",
    "## Your answer here"
   ]
  },
  {
   "cell_type": "markdown",
   "id": "c933b966",
   "metadata": {
    "slideshow": {
     "slide_type": "slide"
    }
   },
   "source": [
    "### Check-in\n",
    "\n",
    "Write a `for` loop that iterates through each item in `nested_list`, and prints its length."
   ]
  },
  {
   "cell_type": "code",
   "execution_count": null,
   "id": "8ec8067a",
   "metadata": {
    "slideshow": {
     "slide_type": "-"
    }
   },
   "outputs": [],
   "source": [
    "nested_list = [[1, 2, 3],\n",
    "              ['css', 'poli', 'econ'],\n",
    "              ['tea', 'coffee']]\n",
    "### Your code here"
   ]
  },
  {
   "cell_type": "markdown",
   "id": "c3cf2cbd",
   "metadata": {
    "slideshow": {
     "slide_type": "slide"
    }
   },
   "source": [
    "## Lists vs. tuples\n",
    "\n",
    "So far, we've focused on **lists**.\n",
    "\n",
    "A **tuple** is another type of ordered sequence. They share several similarities with lists:\n",
    "\n",
    "- You can index into both a **tuple** and a **list**.  \n",
    "- You can loop through both a **tuple** and a **list**. \n",
    "\n",
    "However, there are also a couple key differences:\n",
    "\n",
    "- Tuples are declared using `()`, not `[]`.  \n",
    "- Unlike `list`s, a `tuple` is not mutable (i.e., it can't be changed in place)."
   ]
  },
  {
   "cell_type": "code",
   "execution_count": null,
   "id": "3bacc31f",
   "metadata": {},
   "outputs": [],
   "source": [
    "example_tuple = (1, 2, 3)\n",
    "example_tuple"
   ]
  },
  {
   "cell_type": "markdown",
   "id": "a32f227e",
   "metadata": {
    "slideshow": {
     "slide_type": "slide"
    }
   },
   "source": [
    "### Tuples (continued)\n",
    "\n",
    "- We won't focus *too much* on tuples for now.  \n",
    "- However, I wanted to highlight some of those similarities and differences. \n",
    "- It's likely that at some point in your journey with Python, you'll end up using or encountering tuples."
   ]
  },
  {
   "cell_type": "code",
   "execution_count": null,
   "id": "ecd801bd",
   "metadata": {},
   "outputs": [],
   "source": [
    "for i in example_tuple:\n",
    "    print(i)"
   ]
  },
  {
   "cell_type": "markdown",
   "id": "1014d71d",
   "metadata": {
    "slideshow": {
     "slide_type": "slide"
    }
   },
   "source": [
    "## Conclusion\n",
    "\n",
    "In this lecture we learned:\n",
    "\n",
    "1. `strings`\n",
    "1. `lists` \n",
    "1. And how to operate with these objects\n",
    "\n",
    "Next lecture:\n",
    "\n",
    "1. `dictionaries`\n",
    "1. `functions`"
   ]
  },
  {
   "cell_type": "markdown",
   "id": "9115a930",
   "metadata": {
    "slideshow": {
     "slide_type": "slide"
    }
   },
   "source": [
    "# Dictionaries"
   ]
  },
  {
   "cell_type": "markdown",
   "id": "83fd5e53",
   "metadata": {
    "slideshow": {
     "slide_type": "slide"
    }
   },
   "source": [
    "## What is a dictionary?\n",
    "\n",
    "> In Python, a **dictionary**, or `dict`, is a mutable collection of items, which stores **key/value** pairings.\n",
    "\n",
    "Key features:\n",
    "\n",
    "- **Mutable**: dictionaries can be updated.  \n",
    "- **Collection**: like a `list`, dictionaries can contain multiple *entries*.  \n",
    "- **Key/value pairings**: unlike a `list`, dictionary entries consist of a *key* (i.e., how you *index* into that entry), and its *value* (i.e., what it maps onto). "
   ]
  },
  {
   "cell_type": "markdown",
   "id": "477d931a",
   "metadata": {
    "slideshow": {
     "slide_type": "slide"
    }
   },
   "source": [
    "### Simple example of a `dict`\n",
    "\n",
    "A dictionary is very useful for storing **structured information**. "
   ]
  },
  {
   "cell_type": "code",
   "execution_count": null,
   "id": "261b04be",
   "metadata": {
    "slideshow": {
     "slide_type": "-"
    }
   },
   "outputs": [],
   "source": [
    "person = {'Name': 'Smarty Student',\n",
    "          'Occupation': 'UCSD Grad Student',\n",
    "          'Location': 'San Diego'}\n",
    "print(type(person))\n",
    "print(person)"
   ]
  },
  {
   "cell_type": "markdown",
   "id": "8c926ba7",
   "metadata": {
    "slideshow": {
     "slide_type": "-"
    }
   },
   "source": [
    "They also make it really easy to **access** that information. "
   ]
  },
  {
   "cell_type": "code",
   "execution_count": null,
   "id": "4e740c88",
   "metadata": {
    "slideshow": {
     "slide_type": "-"
    }
   },
   "outputs": [],
   "source": [
    "print(person['Name'])\n",
    "print(person['Occupation'])"
   ]
  },
  {
   "cell_type": "markdown",
   "id": "b1e45041",
   "metadata": {
    "slideshow": {
     "slide_type": "slide"
    }
   },
   "source": [
    "### `dict` vs. `list`\n",
    "\n",
    "We could store the same information in a `list`, but it would be a little harder to work with."
   ]
  },
  {
   "cell_type": "code",
   "execution_count": null,
   "id": "7697206e",
   "metadata": {
    "slideshow": {
     "slide_type": "-"
    }
   },
   "outputs": [],
   "source": [
    "person_list = ['Smarty Student', \n",
    "               'UCSD Grad Student',\n",
    "               'San Diego']"
   ]
  },
  {
   "cell_type": "markdown",
   "id": "2a46f004",
   "metadata": {
    "slideshow": {
     "slide_type": "-"
    }
   },
   "source": [
    "To access the information, we have to remember **where** a particular value was stored. This is harder to do, especially if there's not any intrinsic ordering to the values."
   ]
  },
  {
   "cell_type": "code",
   "execution_count": null,
   "id": "12e8189e",
   "metadata": {
    "scrolled": true,
    "slideshow": {
     "slide_type": "-"
    }
   },
   "outputs": [],
   "source": [
    "print(person_list[0])"
   ]
  },
  {
   "cell_type": "markdown",
   "id": "104598cf",
   "metadata": {
    "slideshow": {
     "slide_type": "slide"
    }
   },
   "source": [
    "### Rules about keys and values\n",
    "\n",
    "- A `dict` cannot contain **duplicate keys**. That is, all keys must be unique.  \n",
    "- However, multiple keys can have the same **value**."
   ]
  },
  {
   "cell_type": "code",
   "execution_count": null,
   "id": "544aecba",
   "metadata": {
    "scrolled": true,
    "slideshow": {
     "slide_type": "-"
    }
   },
   "outputs": [],
   "source": [
    "## Different keys, same value\n",
    "fruits = {'apple': 25, \n",
    "         'banana': 25}\n",
    "fruits"
   ]
  },
  {
   "cell_type": "markdown",
   "id": "d359de11",
   "metadata": {
    "slideshow": {
     "slide_type": "slide"
    }
   },
   "source": [
    "## How do you create a dictionary?\n",
    "\n",
    "A dictionary (`dict`) can be created with curly brackets `{}`, along with the syntax `{key_name:value}`."
   ]
  },
  {
   "cell_type": "code",
   "execution_count": null,
   "id": "1e35193b",
   "metadata": {
    "slideshow": {
     "slide_type": "-"
    }
   },
   "outputs": [],
   "source": [
    "simple_dict = {'a': 1,\n",
    "              'b': 2,\n",
    "              'c': 1}\n",
    "simple_dict"
   ]
  },
  {
   "cell_type": "code",
   "execution_count": null,
   "id": "4ac94b12",
   "metadata": {
    "slideshow": {
     "slide_type": "-"
    }
   },
   "outputs": [],
   "source": [
    "simple_dict['d']"
   ]
  },
  {
   "cell_type": "markdown",
   "id": "d75bef7d",
   "metadata": {
    "slideshow": {
     "slide_type": "slide"
    }
   },
   "source": [
    "### Keys vs. values\n",
    "\n",
    "**Keys** are your access-point into a dictionary. \n",
    "\n",
    "- Must be an immutable type (e.g., a `str` or `int`); they *can't* be a `list`.  \n",
    "- Not all keys must be of same `type`.\n",
    "\n",
    "**Values** are what the keys *map onto*.  \n",
    "\n",
    "- Values can be anything: a `str`, `int`, `list`, or even another `dict`."
   ]
  },
  {
   "cell_type": "code",
   "execution_count": null,
   "id": "6bdd3733",
   "metadata": {
    "slideshow": {
     "slide_type": "-"
    }
   },
   "outputs": [],
   "source": [
    "allowable_dict = {'a': [1, 2, 3]}\n",
    "allowable_dict['a']"
   ]
  },
  {
   "cell_type": "code",
   "execution_count": null,
   "id": "22fe4a44",
   "metadata": {
    "slideshow": {
     "slide_type": "-"
    }
   },
   "outputs": [],
   "source": [
    "bad_key = {[1, 2, 3]: 'a'}"
   ]
  },
  {
   "cell_type": "markdown",
   "id": "3fc81061",
   "metadata": {
    "slideshow": {
     "slide_type": "slide"
    }
   },
   "source": [
    "### Dictionary length\n",
    "\n",
    "The `len` of a `dict` is the number of **keys** that it has (*not* the number of values)."
   ]
  },
  {
   "cell_type": "code",
   "execution_count": null,
   "id": "5caaa997",
   "metadata": {
    "slideshow": {
     "slide_type": "-"
    }
   },
   "outputs": [],
   "source": [
    "allowable_dict = {'a': [1, 2, 3],\n",
    "                 'b': [2, 3, 4, 5, 6, 8]}\n",
    "len(allowable_dict)"
   ]
  },
  {
   "cell_type": "markdown",
   "id": "6775a336",
   "metadata": {
    "slideshow": {
     "slide_type": "slide"
    }
   },
   "source": [
    "### Check-in\n",
    "\n",
    "What would the `len` of the dictionary below?"
   ]
  },
  {
   "cell_type": "code",
   "execution_count": null,
   "id": "ca4167bb",
   "metadata": {
    "slideshow": {
     "slide_type": "-"
    }
   },
   "outputs": [],
   "source": [
    "test_dict = {'Artist': 'The Beatles',\n",
    "            'Songs': ['Hey Jude', 'Revolution', 'In My Life']}\n",
    "### Your code here"
   ]
  },
  {
   "cell_type": "markdown",
   "id": "67ef224d",
   "metadata": {
    "slideshow": {
     "slide_type": "slide"
    }
   },
   "source": [
    "### Check-in\n",
    "\n",
    "What would the `len` of the dictionary below?"
   ]
  },
  {
   "cell_type": "code",
   "execution_count": null,
   "id": "dd82a386",
   "metadata": {
    "slideshow": {
     "slide_type": "-"
    }
   },
   "outputs": [],
   "source": [
    "test_dict = {'name': 'John',\n",
    "            'items': {'food': 'sandwich',\n",
    "                     'money': '$40'}}\n",
    "### Your code here"
   ]
  },
  {
   "cell_type": "markdown",
   "id": "d76f005a",
   "metadata": {
    "slideshow": {
     "slide_type": "slide"
    }
   },
   "source": [
    "## Indexing into a dictionary\n",
    "\n",
    "Once you've created a dictionary, you'll want to **access** the items in it.\n",
    "\n",
    "- An advantage of a `dict` (over a `list`) is that key/value pairings are inherently **structured**.  \n",
    "- So rather than indexing by *position*, you can index by *key*.\n",
    "\n",
    "The syntax for indexing is: `dict_name[key_name]`. "
   ]
  },
  {
   "cell_type": "code",
   "execution_count": null,
   "id": "b233105d",
   "metadata": {
    "slideshow": {
     "slide_type": "-"
    }
   },
   "outputs": [],
   "source": [
    "person = {'Name': 'Smarty Student',\n",
    "          'Occupation': 'UCSD Grad',\n",
    "          'Location': 'San Diego'}\n",
    "print(person['Name'])"
   ]
  },
  {
   "cell_type": "code",
   "execution_count": null,
   "id": "f52d30ee",
   "metadata": {
    "slideshow": {
     "slide_type": "-"
    }
   },
   "outputs": [],
   "source": [
    "print(person['Location'])\n",
    "print(person['Occupation'])"
   ]
  },
  {
   "cell_type": "markdown",
   "id": "11d3bc97",
   "metadata": {
    "slideshow": {
     "slide_type": "slide"
    }
   },
   "source": [
    "### Check-in\n",
    "\n",
    "How would you retrieve the value `25` from the dictionary below?"
   ]
  },
  {
   "cell_type": "code",
   "execution_count": null,
   "id": "e25dc6db",
   "metadata": {
    "slideshow": {
     "slide_type": "-"
    }
   },
   "outputs": [],
   "source": [
    "test_dict = {'apple': 25,\n",
    "            'banana': 37}\n",
    "### Your code here"
   ]
  },
  {
   "cell_type": "markdown",
   "id": "52a71e4f",
   "metadata": {
    "slideshow": {
     "slide_type": "slide"
    }
   },
   "source": [
    "### Indexing requires a key\n",
    "\n",
    "To index into a `dict`, you **need to use the key**.\n",
    "\n",
    "- The *position* of a value will not work.  \n",
    "- The *value* itself will also not work."
   ]
  },
  {
   "cell_type": "code",
   "execution_count": null,
   "id": "e2d64052",
   "metadata": {},
   "outputs": [],
   "source": [
    "test_dict[0] ### will throw an error"
   ]
  },
  {
   "cell_type": "code",
   "execution_count": null,
   "id": "c1b45b18",
   "metadata": {},
   "outputs": [],
   "source": [
    "test_dict[25] ### will throw an error"
   ]
  },
  {
   "cell_type": "markdown",
   "id": "a21c9df9",
   "metadata": {
    "slideshow": {
     "slide_type": "slide"
    }
   },
   "source": [
    "## Updating a `dict`\n",
    "\n",
    "Once you've created a `dict`, it's not set in stone––there are multiple ways to **modify** that dictionary.\n",
    "\n",
    "- Adding new entries.  \n",
    "- Deleting existing entries.  \n",
    "- Combining two dictionaries."
   ]
  },
  {
   "cell_type": "markdown",
   "id": "35cf3e8f",
   "metadata": {
    "slideshow": {
     "slide_type": "slide"
    }
   },
   "source": [
    "### Adding new entries"
   ]
  },
  {
   "cell_type": "code",
   "execution_count": null,
   "id": "622e30f8",
   "metadata": {
    "slideshow": {
     "slide_type": "-"
    }
   },
   "outputs": [],
   "source": [
    "## First, let's create a new dictionary\n",
    "registrar = {'Mignozzetti': 'POLI', \n",
    "             'Trott': 'COGS'}\n",
    "print(registrar)"
   ]
  },
  {
   "cell_type": "markdown",
   "id": "9db111da",
   "metadata": {
    "slideshow": {
     "slide_type": "-"
    }
   },
   "source": [
    "We can add a new entry using the `dict_name[key_name] = new_value` syntax."
   ]
  },
  {
   "cell_type": "code",
   "execution_count": null,
   "id": "46d5dbcb",
   "metadata": {
    "slideshow": {
     "slide_type": "-"
    }
   },
   "outputs": [],
   "source": [
    "## Now we add a new entry to the dictionary\n",
    "registrar['Styler'] = 'LING'\n",
    "print(registrar)"
   ]
  },
  {
   "cell_type": "markdown",
   "id": "92d1958a",
   "metadata": {
    "slideshow": {
     "slide_type": "slide"
    }
   },
   "source": [
    "### Check-in\n",
    "\n",
    "Add an entry for the price of `\"pasta\"` to `prices_dict` below using this new syntax. "
   ]
  },
  {
   "cell_type": "code",
   "execution_count": null,
   "id": "56e0bc99",
   "metadata": {
    "slideshow": {
     "slide_type": "-"
    }
   },
   "outputs": [],
   "source": [
    "prices_dict = {'rice': 4, 'bananas': 3}\n",
    "### Your code here"
   ]
  },
  {
   "cell_type": "markdown",
   "id": "41b64a1d",
   "metadata": {
    "slideshow": {
     "slide_type": "slide"
    }
   },
   "source": [
    "### Check-in\n",
    "\n",
    "What would the `len` of `prices_dict` be after you've added that entry?"
   ]
  },
  {
   "cell_type": "code",
   "execution_count": null,
   "id": "d8d516fd",
   "metadata": {
    "slideshow": {
     "slide_type": "-"
    }
   },
   "outputs": [],
   "source": [
    "### How long is prices_dict after you've added \"pasta\"?\n",
    "len(prices_dict)"
   ]
  },
  {
   "cell_type": "markdown",
   "id": "74905d93",
   "metadata": {
    "slideshow": {
     "slide_type": "slide"
    }
   },
   "source": [
    "### Deleting entries\n",
    "\n",
    "We can also use the `del` function to delete specific key/value pairs from a dictionary."
   ]
  },
  {
   "cell_type": "code",
   "execution_count": null,
   "id": "2d017cc2",
   "metadata": {
    "slideshow": {
     "slide_type": "-"
    }
   },
   "outputs": [],
   "source": [
    "## First, we create a new dictionary.\n",
    "attendance = {'A1': True, 'A2': False}\n",
    "print(attendance)"
   ]
  },
  {
   "cell_type": "code",
   "execution_count": null,
   "id": "dee6d4b6",
   "metadata": {
    "slideshow": {
     "slide_type": "-"
    }
   },
   "outputs": [],
   "source": [
    "## Then, we delete the entry with the \"A2\" key.\n",
    "del(attendance['A2'])\n",
    "print(attendance)"
   ]
  },
  {
   "cell_type": "markdown",
   "id": "4a365dbc",
   "metadata": {
    "slideshow": {
     "slide_type": "slide"
    }
   },
   "source": [
    "### Merging dictionaries using `update`\n",
    "\n",
    "What if we have **two different dictionaries** that we want to combine or *merge*? \n",
    "\n",
    "The `update` function can be used to do this."
   ]
  },
  {
   "cell_type": "code",
   "execution_count": null,
   "id": "fe534e48",
   "metadata": {
    "slideshow": {
     "slide_type": "-"
    }
   },
   "outputs": [],
   "source": [
    "## First, we create a new dictionary.\n",
    "registrar = {'Mignozzetti': 'POLI', \n",
    "             'Trott': 'COGS'}\n",
    "print(registrar)"
   ]
  },
  {
   "cell_type": "code",
   "execution_count": null,
   "id": "a191d50d",
   "metadata": {
    "slideshow": {
     "slide_type": "-"
    }
   },
   "outputs": [],
   "source": [
    "## Now, we define another dictionary with more info.\n",
    "registrar_other = {'Styler': 'LING',\n",
    "                   'Mignozzetti': ['POLI', 'CSS'],\n",
    "                   'Rangel': 'COGS'}\n",
    "## Finally, we \"update\" original registrar\n",
    "registrar.update(registrar_other)"
   ]
  },
  {
   "cell_type": "code",
   "execution_count": null,
   "id": "64b81697",
   "metadata": {
    "slideshow": {
     "slide_type": "-"
    }
   },
   "outputs": [],
   "source": [
    "print(registrar)"
   ]
  },
  {
   "cell_type": "markdown",
   "id": "8a6a47fe",
   "metadata": {
    "slideshow": {
     "slide_type": "slide"
    }
   },
   "source": [
    "### Check-in\n",
    "\n",
    "Recall that a dictionary cannot contain **duplicate keys**. What do you think would happen to `original_dict` if we ran the code below?"
   ]
  },
  {
   "cell_type": "code",
   "execution_count": null,
   "id": "315c00a6",
   "metadata": {
    "slideshow": {
     "slide_type": "-"
    }
   },
   "outputs": [],
   "source": [
    "original_dict = {'a': 1, 'b': 3}\n",
    "new_dict = {'a': 2}\n",
    "original_dict.update(new_dict)\n",
    "### What happens to original_dict['a']?\n",
    "original_dict"
   ]
  },
  {
   "cell_type": "markdown",
   "id": "3652295e",
   "metadata": {
    "slideshow": {
     "slide_type": "slide"
    }
   },
   "source": [
    "#### Updating with duplicate keys\n",
    "\n",
    "If we `update` a dictionary with another dictionary that contains **overlapping keys**, the **new values** replace the old values."
   ]
  },
  {
   "cell_type": "code",
   "execution_count": null,
   "id": "06709c38",
   "metadata": {
    "slideshow": {
     "slide_type": "-"
    }
   },
   "outputs": [],
   "source": [
    "original_dict = {'a': 1, 'b': 3}\n",
    "new_dict = {'a': 2}\n",
    "original_dict.update(new_dict)\n",
    "print(original_dict['a'])"
   ]
  },
  {
   "cell_type": "markdown",
   "id": "5d5c146c",
   "metadata": {
    "slideshow": {
     "slide_type": "slide"
    }
   },
   "source": [
    "## Iterating through a `dict`\n",
    "\n",
    "Dictionaries are **structured** collections of **key/value pairings**.\n",
    "\n",
    "As such, there are several ways to iterate (i.e., **loop**) through a `dict`:\n",
    "\n",
    "- Iterating through a `list` of **keys** (`.keys()`).  \n",
    "- Iterating through a `list` of **values** (`.values()`). \n",
    "- Iterating through a `list` of **key/value** `tuples` (`.items()`)."
   ]
  },
  {
   "cell_type": "markdown",
   "id": "dc8ec7fc",
   "metadata": {
    "slideshow": {
     "slide_type": "slide"
    }
   },
   "source": [
    "### Looping through keys with `.keys()`\n",
    "\n",
    "Each dictionary can be thought of as a `list` of **keys**; each key in turn maps onto some **value**.\n",
    "\n",
    "We can retrieve that `list` of keys using `dict_name.keys()`."
   ]
  },
  {
   "cell_type": "code",
   "execution_count": null,
   "id": "ac05c345",
   "metadata": {
    "slideshow": {
     "slide_type": "-"
    }
   },
   "outputs": [],
   "source": [
    "courses = {'CSS 201': 'Introduction to Computational Social Science',\n",
    "           'CSS 202': 'Computational Social Science Technical Bootcamp',\n",
    "           'CSS 296': 'Research in Computational Social Science'}\n",
    "courses.keys()"
   ]
  },
  {
   "cell_type": "markdown",
   "id": "ce77932f",
   "metadata": {
    "slideshow": {
     "slide_type": "-"
    }
   },
   "source": [
    "This `dict_keys` object behaves like a `list`: we can index into it, loop through it, and so on."
   ]
  },
  {
   "cell_type": "code",
   "execution_count": null,
   "id": "e18ae259",
   "metadata": {
    "slideshow": {
     "slide_type": "-"
    }
   },
   "outputs": [],
   "source": [
    "for abr in courses.keys():\n",
    "    print(abr)"
   ]
  },
  {
   "cell_type": "markdown",
   "id": "c7868572",
   "metadata": {
    "slideshow": {
     "slide_type": "slide"
    }
   },
   "source": [
    "#### Check-in\n",
    "\n",
    "How could we retrieve each **value** of the `dict` using `keys()`?"
   ]
  },
  {
   "cell_type": "code",
   "execution_count": null,
   "id": "2f6b57ee",
   "metadata": {
    "slideshow": {
     "slide_type": "-"
    }
   },
   "outputs": [],
   "source": [
    "### Your code here"
   ]
  },
  {
   "cell_type": "markdown",
   "id": "da86e34c",
   "metadata": {
    "slideshow": {
     "slide_type": "slide"
    }
   },
   "source": [
    "#### Retrieving values\n",
    "\n",
    "Because each key maps onto a **value**, we can simply use it to index into `courses`."
   ]
  },
  {
   "cell_type": "code",
   "execution_count": null,
   "id": "c7df25ba",
   "metadata": {
    "slideshow": {
     "slide_type": "-"
    }
   },
   "outputs": [],
   "source": [
    "for course in courses.keys():\n",
    "    ## Index into courses\n",
    "    name = courses[course]\n",
    "    print(name)"
   ]
  },
  {
   "cell_type": "markdown",
   "id": "34ab8773",
   "metadata": {
    "slideshow": {
     "slide_type": "slide"
    }
   },
   "source": [
    "### Looping through values with `.values()`\n",
    "\n",
    "We can also retrieve the **values** directly using `dict_name.values()`."
   ]
  },
  {
   "cell_type": "code",
   "execution_count": null,
   "id": "e1c9cfec",
   "metadata": {
    "slideshow": {
     "slide_type": "-"
    }
   },
   "outputs": [],
   "source": [
    "courses.values()\n",
    "for abr in courses:\n",
    "    print(abr)"
   ]
  },
  {
   "cell_type": "code",
   "execution_count": null,
   "id": "e3189473",
   "metadata": {
    "slideshow": {
     "slide_type": "-"
    }
   },
   "outputs": [],
   "source": [
    "for course_name in courses.values():\n",
    "    print(course_name)"
   ]
  },
  {
   "cell_type": "markdown",
   "id": "99c202d1",
   "metadata": {
    "slideshow": {
     "slide_type": "slide"
    }
   },
   "source": [
    "### Looping through key/value pairings with `.items()`\n",
    "\n",
    "Dictionaries are, at their core, a list of **key/value pairings**. \n",
    "\n",
    "- We can access each of these using `dict_name.items()`.  \n",
    "- `items()` returns a `list` of `tuples`:\n",
    "  - The first element of each `tuple` is the **key**.\n",
    "  - The second element of each `tuple` is the **value**."
   ]
  },
  {
   "cell_type": "code",
   "execution_count": null,
   "id": "020234c5",
   "metadata": {
    "slideshow": {
     "slide_type": "-"
    }
   },
   "outputs": [],
   "source": [
    "print(list(courses.keys()))\n",
    "for key, value in courses.items():\n",
    "    print(value + ' is abbreviated as ' + key)"
   ]
  },
  {
   "cell_type": "markdown",
   "id": "eb47fc83",
   "metadata": {
    "slideshow": {
     "slide_type": "slide"
    }
   },
   "source": [
    "#### Assignment \"unpacking\"\n",
    "\n",
    "- We can access each element of the `tuple` using indexing, e.g., `item[0]` or `item[1]`.  \n",
    "- However, sometimes it's more convenient to **unpack** these elements directly in the `for` loop itself."
   ]
  },
  {
   "cell_type": "code",
   "execution_count": null,
   "id": "f31f5fb3",
   "metadata": {
    "slideshow": {
     "slide_type": "-"
    }
   },
   "outputs": [],
   "source": [
    "for code, name in courses.items():\n",
    "    print(code)\n",
    "    print(name)"
   ]
  },
  {
   "cell_type": "markdown",
   "id": "4143bcc2",
   "metadata": {
    "slideshow": {
     "slide_type": "slide"
    }
   },
   "source": [
    "#### Converting back to a `dict`\n",
    "\n",
    "We can use the `dict` function to convert a list of **items** back to a `dict`."
   ]
  },
  {
   "cell_type": "code",
   "execution_count": null,
   "id": "4417f523",
   "metadata": {
    "slideshow": {
     "slide_type": "-"
    }
   },
   "outputs": [],
   "source": [
    "items = courses.items()\n",
    "print(items)"
   ]
  },
  {
   "cell_type": "code",
   "execution_count": null,
   "id": "94e294a8",
   "metadata": {
    "slideshow": {
     "slide_type": "-"
    }
   },
   "outputs": [],
   "source": [
    "course_dict = dict(items)\n",
    "print(course_dict)"
   ]
  },
  {
   "cell_type": "markdown",
   "id": "730bcd6a",
   "metadata": {
    "slideshow": {
     "slide_type": "slide"
    }
   },
   "source": [
    "### Check-in: Looping through values\n",
    "\n",
    "Use the `.items()` function to loop through `fruits_dict` below. `print` out each item in a formatted string using `format`: \n",
    "\n",
    "`{fruit_name}: {price}`. "
   ]
  },
  {
   "cell_type": "code",
   "execution_count": null,
   "id": "a4ff0c24",
   "metadata": {
    "slideshow": {
     "slide_type": "-"
    }
   },
   "outputs": [],
   "source": [
    "fruits_dict = {'apple': 2, 'banana': 3}\n",
    "### Your code here\n",
    "for k, v in fruits_dict.items():\n",
    "    print('There are ' + str(v) + ' ' + k)"
   ]
  },
  {
   "cell_type": "markdown",
   "id": "6680a8e3",
   "metadata": {
    "slideshow": {
     "slide_type": "slide"
    }
   },
   "source": [
    "### Check-in: Debug\n",
    "\n",
    "Suppose someone writes a piece of code (see below) to loop through `fruits_dict`. Ultimately, they want to print out the price of each fruit. \n",
    "\n",
    "However, they keep running into an error. Can you figure out what they're doing wrong? And further, could you suggest a way to fix it?"
   ]
  },
  {
   "cell_type": "code",
   "execution_count": null,
   "id": "d75e16e5",
   "metadata": {
    "slideshow": {
     "slide_type": "-"
    }
   },
   "outputs": [],
   "source": [
    "### Why is this throwing an error?\n",
    "for fruit in fruits_dict.keys():\n",
    "    print(fruits_dict[fruit])"
   ]
  },
  {
   "cell_type": "markdown",
   "id": "0aae0e9c",
   "metadata": {
    "slideshow": {
     "slide_type": "slide"
    }
   },
   "source": [
    "## Nested dictionaries\n",
    "\n",
    "> A **nested dictionary** is a dictionary contained inside another dictionary, i.e., as a **value**.  \n",
    "\n",
    "In principle, there is no limit on how many nested dictionaries can be contained in a `dict` (besides memory capacity on one's computer).\n",
    "\n",
    "- A nested dictionary is useful when you want to store **complex information** in each entry.  \n",
    "- So far, we've dealt mostly with very simple key/value entries.  \n",
    "- But what if we wanted to represent more complicated information?\n",
    "\n",
    "Example, for each student in CSS (or COGS, etc.), store:\n",
    "\n",
    "- `username`.\n",
    "- `Name`.  \n",
    "- `Courses` (a `list`). \n",
    "- `College`\n",
    "- `Major`. "
   ]
  },
  {
   "cell_type": "markdown",
   "id": "4e5bf058",
   "metadata": {
    "slideshow": {
     "slide_type": "slide"
    }
   },
   "source": [
    "### Check-in (conceptual)\n",
    "\n",
    "What would be a useful `dict` structure to represent information about instructors? For example, say we wanted to represent:\n",
    "\n",
    "- `username` (e.g., `sstudent`)\n",
    "- `Name` (e.g., `Smarty Student`)\n",
    "- `Courses` (e.g., `['CSS 1', ...]`)\n",
    "- `College` (e.g., `ERC`)\n",
    "- `Major` (e.g., `Psychology`)"
   ]
  },
  {
   "cell_type": "markdown",
   "id": "ab5a4ddf",
   "metadata": {
    "slideshow": {
     "slide_type": "slide"
    }
   },
   "source": [
    "### A possible implementation\n",
    "\n",
    "One approach is to use **nested dictionaries**.\n",
    "\n",
    "- At the top level, each instructor is represented by their `username`.  \n",
    "- Each PID then maps onto a nested dictionary, which contains their `Name`, `Email`, and any other info we need."
   ]
  },
  {
   "cell_type": "code",
   "execution_count": null,
   "id": "2a8aa620",
   "metadata": {
    "slideshow": {
     "slide_type": "-"
    }
   },
   "outputs": [],
   "source": [
    "student = {\n",
    "    'sstudent': {'Name': 'Smarty Student',\n",
    "                'Courses': ['COGS 14A', 'CSS 1', 'CSS 2'],\n",
    "               'College': 'ERC',\n",
    "               'Major': 'Psychology'},\n",
    "    'jdoe': {'Name': 'John Doe',\n",
    "                'Courses': ['COGS 18', 'CSS 1'],\n",
    "               'College': 'Revelle',\n",
    "               'Major': 'Undeclared'},\n",
    "    'jlopez': {'Name': 'Jane Lopez',\n",
    "                'Courses': ['LING 6', 'LING 101'],\n",
    "               'College': 'Revelle',\n",
    "               'Major': 'Linguistics'},\n",
    "}"
   ]
  },
  {
   "cell_type": "markdown",
   "id": "67973ee4",
   "metadata": {
    "slideshow": {
     "slide_type": "slide"
    }
   },
   "source": [
    "### Indexing our nested `dict`\n",
    "\n",
    "We can index into this `dict` as we would normally. Note that now, the **value** is itself a `dict`."
   ]
  },
  {
   "cell_type": "code",
   "execution_count": null,
   "id": "0ac0f5d4",
   "metadata": {
    "slideshow": {
     "slide_type": "-"
    }
   },
   "outputs": [],
   "source": [
    "student['jlopez']"
   ]
  },
  {
   "cell_type": "markdown",
   "id": "422000a3",
   "metadata": {
    "slideshow": {
     "slide_type": "slide"
    }
   },
   "source": [
    "#### Check-in\n",
    "\n",
    "How might we index the `College` of a particular student? I.e., what if we wanted to find out the `College` of `jdoe`?"
   ]
  },
  {
   "cell_type": "code",
   "execution_count": null,
   "id": "ea0a9947",
   "metadata": {
    "slideshow": {
     "slide_type": "-"
    }
   },
   "outputs": [],
   "source": [
    "### Your code here"
   ]
  },
  {
   "cell_type": "markdown",
   "id": "efc7d3fb",
   "metadata": {
    "slideshow": {
     "slide_type": "slide"
    }
   },
   "source": [
    "#### Nested indices\n",
    "\n",
    "Indexing into a **nested dictionary** follows the same logic––we can *chain together* index statements to retrieve a particular value."
   ]
  },
  {
   "cell_type": "code",
   "execution_count": null,
   "id": "00fea4ea",
   "metadata": {
    "slideshow": {
     "slide_type": "-"
    }
   },
   "outputs": [],
   "source": [
    "student['jdoe']['College']"
   ]
  },
  {
   "cell_type": "code",
   "execution_count": null,
   "id": "ae19af67",
   "metadata": {
    "slideshow": {
     "slide_type": "-"
    }
   },
   "outputs": [],
   "source": [
    "student['jlopez']['Courses'][1]"
   ]
  },
  {
   "cell_type": "markdown",
   "id": "8059988b",
   "metadata": {
    "slideshow": {
     "slide_type": "slide"
    }
   },
   "source": [
    "### Check-in\n",
    "\n",
    "How would you retrieve the list of `username`s (i.e., keys) in this `dict`?"
   ]
  },
  {
   "cell_type": "code",
   "execution_count": null,
   "id": "9f9be106-fcee-4453-8fc9-4e7c32e98c9a",
   "metadata": {},
   "outputs": [],
   "source": [
    "### Your code here"
   ]
  },
  {
   "cell_type": "markdown",
   "id": "ee1f5a63",
   "metadata": {
    "slideshow": {
     "slide_type": "slide"
    }
   },
   "source": [
    "# Functions"
   ]
  },
  {
   "cell_type": "markdown",
   "id": "0d4f6fb5",
   "metadata": {
    "slideshow": {
     "slide_type": "slide"
    }
   },
   "source": [
    "## What is a function?\n",
    "\n",
    "> A **function** is a re-usable piece of code that performs some operation (typically on some *input*), and then typically returns a result (i.e., an *output*). \n",
    "\n",
    "Breaking this down:\n",
    "\n",
    "- **Input**: a variable defined by the user that is *passed into* a function using the `(input)` syntax.\n",
    "   - Also called an **argument**.\n",
    "   - Functions can have multiple **arguments**.\n",
    "- **Output**: the variable **returned** by a function after this operation is performed.  \n",
    "   - If a `return` value is not specified, a function will return `None`."
   ]
  },
  {
   "cell_type": "markdown",
   "id": "e9183d0a",
   "metadata": {
    "slideshow": {
     "slide_type": "slide"
    }
   },
   "source": [
    "### A very simple function\n",
    "\n",
    "We'll explore the syntax more in a bit, but this will give you a sense for what we're talking about."
   ]
  },
  {
   "cell_type": "code",
   "execution_count": null,
   "id": "1d873342",
   "metadata": {
    "slideshow": {
     "slide_type": "-"
    }
   },
   "outputs": [],
   "source": [
    "def square(x):\n",
    "    \"\"\"Returns the square of X.\"\"\"\n",
    "    return x**2"
   ]
  },
  {
   "cell_type": "code",
   "execution_count": null,
   "id": "2f6abbdf",
   "metadata": {
    "slideshow": {
     "slide_type": "-"
    }
   },
   "outputs": [],
   "source": [
    "square(1)"
   ]
  },
  {
   "cell_type": "code",
   "execution_count": null,
   "id": "e9d2278e",
   "metadata": {
    "slideshow": {
     "slide_type": "-"
    }
   },
   "outputs": [],
   "source": [
    "square(2)"
   ]
  },
  {
   "cell_type": "markdown",
   "id": "1dc36566",
   "metadata": {
    "slideshow": {
     "slide_type": "slide"
    }
   },
   "source": [
    "## Why functions?\n",
    "\n",
    "In principle, we could just rewrite the same code each time we want to execute that operation. So why bother defining functions at all?\n",
    "\n",
    "The answer lies in **modular programming**.\n",
    "\n",
    "- As operations become more and more complex, it becomes unwieldy (and just inefficient) to copy/paste the *same code* again and again.  \n",
    "- In modular programming, we emphasize building **re-usable chunks of code**.\n",
    "- Functions (and loops) are ways to re-use chunks of code that solve basic, recurring problems.\n",
    "\n",
    "Learning to think in a modular way can be hard! But it's a helpful approach to **breaking down a problem into its sub-components**."
   ]
  },
  {
   "cell_type": "markdown",
   "id": "f06bacbc",
   "metadata": {
    "slideshow": {
     "slide_type": "slide"
    }
   },
   "source": [
    "### Functions we've encountered\n",
    "\n",
    "We've already encountered a number of functions in this course.\n",
    "\n",
    "#### `print`\n",
    "\n",
    "- Input: something to `print`.  \n",
    "- Output: technically, `None`.  \n",
    "- \"Side effects\": `print`s out input to designated log (by default, the terminal/Jupyter cell)."
   ]
  },
  {
   "cell_type": "code",
   "execution_count": null,
   "id": "64b97c9e",
   "metadata": {
    "slideshow": {
     "slide_type": "-"
    }
   },
   "outputs": [],
   "source": [
    "print(\"Hello!\")"
   ]
  },
  {
   "cell_type": "markdown",
   "id": "e3cccc7d",
   "metadata": {
    "slideshow": {
     "slide_type": "slide"
    }
   },
   "source": [
    "#### `sorted`\n",
    "\n",
    "- Input: a `list` \n",
    "- Output: a sorted `list`."
   ]
  },
  {
   "cell_type": "code",
   "execution_count": null,
   "id": "3ecd002f",
   "metadata": {
    "slideshow": {
     "slide_type": "-"
    }
   },
   "outputs": [],
   "source": [
    "unsorted = [2, 1, 5]\n",
    "sorted(unsorted)"
   ]
  },
  {
   "cell_type": "markdown",
   "id": "aa393b08",
   "metadata": {
    "slideshow": {
     "slide_type": "slide"
    }
   },
   "source": [
    "## Defining a function\n",
    "\n",
    "In Python, a new function can be created or **defined** using the `def` keyword, followed by the name of the function.\n",
    "\n",
    "See the `square` function definition below:\n",
    "\n",
    "- Function name: `square`. \n",
    "- Function arguments: `x`.  \n",
    "- Function `return`: `x ** 2`.  "
   ]
  },
  {
   "cell_type": "code",
   "execution_count": null,
   "id": "80bce04e",
   "metadata": {
    "slideshow": {
     "slide_type": "-"
    }
   },
   "outputs": [],
   "source": [
    "def square(x):\n",
    "    \"\"\"Returns the square of X.\"\"\"\n",
    "    return x**2"
   ]
  },
  {
   "cell_type": "markdown",
   "id": "8f19c17b",
   "metadata": {
    "slideshow": {
     "slide_type": "slide"
    }
   },
   "source": [
    "### Executing a function\n",
    "\n",
    "To **execute** a function, we can reference the function name (like a variable), followed by the parentheses `()` and any arguments/input for the function."
   ]
  },
  {
   "cell_type": "code",
   "execution_count": null,
   "id": "7dce64fd",
   "metadata": {
    "slideshow": {
     "slide_type": "-"
    }
   },
   "outputs": [],
   "source": [
    "## Function name = square\n",
    "## Input = 2\n",
    "square(2)"
   ]
  },
  {
   "cell_type": "code",
   "execution_count": null,
   "id": "36bec665",
   "metadata": {
    "slideshow": {
     "slide_type": "-"
    }
   },
   "outputs": [],
   "source": [
    "## Function name = square\n",
    "## Input = 4\n",
    "square(4)"
   ]
  },
  {
   "cell_type": "markdown",
   "id": "8a180bd8",
   "metadata": {
    "slideshow": {
     "slide_type": "slide"
    }
   },
   "source": [
    "### What type is a function?\n",
    "\n",
    "A function belongs to a special `type` in Python, called `function`."
   ]
  },
  {
   "cell_type": "code",
   "execution_count": null,
   "id": "ffc4e86f",
   "metadata": {
    "slideshow": {
     "slide_type": "-"
    }
   },
   "outputs": [],
   "source": [
    "type(square)"
   ]
  },
  {
   "cell_type": "markdown",
   "id": "0191963f",
   "metadata": {
    "slideshow": {
     "slide_type": "slide"
    }
   },
   "source": [
    "### A more complex function\n",
    "\n",
    "What if we wanted a function that did the following:\n",
    "\n",
    "- `if` the input `x` is **even**, we square it.  \n",
    "- `if` the input `x` is **odd**, we just `return` that number."
   ]
  },
  {
   "cell_type": "code",
   "execution_count": null,
   "id": "a5f72f4f",
   "metadata": {
    "slideshow": {
     "slide_type": "-"
    }
   },
   "outputs": [],
   "source": [
    "def square_if_even(x):\n",
    "    \"\"\"Squares x if x is even; otherwise return x.\"\"\"\n",
    "    if x % 2 == 0: ## check if even\n",
    "        return x ** 2 ## if so, return square\n",
    "    else: ## otherwise..\n",
    "        return x ## just return x"
   ]
  },
  {
   "cell_type": "code",
   "execution_count": null,
   "id": "d61f3340",
   "metadata": {
    "slideshow": {
     "slide_type": "-"
    }
   },
   "outputs": [],
   "source": [
    "## 2 is even, so square it\n",
    "square_if_even(2)"
   ]
  },
  {
   "cell_type": "code",
   "execution_count": null,
   "id": "7c54492a",
   "metadata": {
    "slideshow": {
     "slide_type": "-"
    }
   },
   "outputs": [],
   "source": [
    "## 3 is odd, so just return it\n",
    "square_if_even(3)"
   ]
  },
  {
   "cell_type": "markdown",
   "id": "5b389919",
   "metadata": {
    "slideshow": {
     "slide_type": "slide"
    }
   },
   "source": [
    "### Another more complex function\n",
    "\n",
    "So far, our functions have only had a **single argument**. But functions can take in *many* arguments. \n",
    "\n",
    "Let's define a function with *two inputs*, which just adds those inputs together."
   ]
  },
  {
   "cell_type": "code",
   "execution_count": null,
   "id": "031eab53",
   "metadata": {
    "slideshow": {
     "slide_type": "-"
    }
   },
   "outputs": [],
   "source": [
    "def add_two_numbers(num1, num2):\n",
    "    \"\"\"Adds num1 to num2.\"\"\"\n",
    "    return num1 + num2"
   ]
  },
  {
   "cell_type": "code",
   "execution_count": null,
   "id": "de96cea9",
   "metadata": {
    "slideshow": {
     "slide_type": "-"
    }
   },
   "outputs": [],
   "source": [
    "add_two_numbers(1, 2)"
   ]
  },
  {
   "cell_type": "code",
   "execution_count": null,
   "id": "b3f785b1",
   "metadata": {
    "slideshow": {
     "slide_type": "-"
    }
   },
   "outputs": [],
   "source": [
    "add_two_numbers(5, 3)"
   ]
  },
  {
   "cell_type": "markdown",
   "id": "93585e2f",
   "metadata": {
    "slideshow": {
     "slide_type": "slide"
    }
   },
   "source": [
    "### Check-in\n",
    "\n",
    "What would the function below produce if the input `x` was `25`?\n",
    "\n",
    "More generally: how would you describe what this function *does*? "
   ]
  },
  {
   "cell_type": "code",
   "execution_count": null,
   "id": "8dc16e47",
   "metadata": {
    "slideshow": {
     "slide_type": "-"
    }
   },
   "outputs": [],
   "source": [
    "def mystery_func(x):\n",
    "    if x % 5 == 0:\n",
    "        return True\n",
    "    return False"
   ]
  },
  {
   "cell_type": "markdown",
   "id": "b52558e1",
   "metadata": {
    "slideshow": {
     "slide_type": "slide"
    }
   },
   "source": [
    "### Solution\n",
    "\n",
    "`mystery_func` can be thought of as a binary \"check\" for whether a particular number is divisible by `5`. "
   ]
  },
  {
   "cell_type": "code",
   "execution_count": null,
   "id": "62fe0bdc",
   "metadata": {
    "slideshow": {
     "slide_type": "-"
    }
   },
   "outputs": [],
   "source": [
    "mystery_func(25)"
   ]
  },
  {
   "cell_type": "code",
   "execution_count": null,
   "id": "238a7c2f",
   "metadata": {
    "slideshow": {
     "slide_type": "-"
    }
   },
   "outputs": [],
   "source": [
    "mystery_func(28)"
   ]
  },
  {
   "cell_type": "markdown",
   "id": "c7434631",
   "metadata": {
    "slideshow": {
     "slide_type": "slide"
    }
   },
   "source": [
    "### Check-in\n",
    "\n",
    "Write a function that takes a `name` as input and `return`s the formatted `str`: `\"My name is {name}.\"`\n",
    "\n",
    "The code below can get you started:\n",
    "\n",
    "```\n",
    "def hello(name):\n",
    "### your code here\n",
    "```"
   ]
  },
  {
   "cell_type": "code",
   "execution_count": null,
   "id": "4f0c23e8",
   "metadata": {
    "slideshow": {
     "slide_type": "-"
    }
   },
   "outputs": [],
   "source": [
    "# Your code here"
   ]
  },
  {
   "cell_type": "markdown",
   "id": "dcca8b7d",
   "metadata": {
    "slideshow": {
     "slide_type": "slide"
    }
   },
   "source": [
    "## Function arguments: the details\n",
    "\n",
    "Beyond the basics, there are several other important things to know about the **arguments** for a function:\n",
    "\n",
    "- It's important to be aware of what `type` your function expects as an argument.\n",
    "- Arguments can have **default values**.  \n",
    "- Some arguments can be accessed with a **keyword**, while others are **positional** arguments."
   ]
  },
  {
   "cell_type": "markdown",
   "id": "2b065987",
   "metadata": {
    "slideshow": {
     "slide_type": "slide"
    }
   },
   "source": [
    "### Argument `type`\n",
    "\n",
    "Some languages, like Java, require that you specify the `type` of an argument (and variable names, etc.).\n",
    "\n",
    "Python doesn't require that, but it's still important to be aware of.\n",
    "\n",
    "- Otherwise, you can run into a `TypeError`.\n",
    "- If you're interested: Python uses something called [duck typing](https://en.wikipedia.org/wiki/Duck_typing). "
   ]
  },
  {
   "cell_type": "markdown",
   "id": "c337a381",
   "metadata": {
    "slideshow": {
     "slide_type": "slide"
    }
   },
   "source": [
    "#### Example of a `TypeError`\n",
    "\n",
    "Here, the `square` function performs an operation with `x` that requires `x` to be an `int`."
   ]
  },
  {
   "cell_type": "code",
   "execution_count": null,
   "id": "d1d46bd2",
   "metadata": {
    "slideshow": {
     "slide_type": "-"
    }
   },
   "outputs": [],
   "source": [
    "def square(x):\n",
    "    return x ** 2\n",
    "square(\"two\")"
   ]
  },
  {
   "cell_type": "markdown",
   "id": "a721ada0",
   "metadata": {
    "slideshow": {
     "slide_type": "slide"
    }
   },
   "source": [
    "#### How to avoid a `TypeError`?\n",
    "\n",
    "In practice, the best way to avoid a `TypeError` is to **document your code**. \n",
    "\n",
    "- In the `docstring` under a function, you can write details about what the function expects, e.g., whether the input is an `int`, a `str`, etc."
   ]
  },
  {
   "cell_type": "code",
   "execution_count": null,
   "id": "a14ff6c4",
   "metadata": {
    "slideshow": {
     "slide_type": "-"
    }
   },
   "outputs": [],
   "source": [
    "def square(x):\n",
    "    \"\"\"\n",
    "    Parameters\n",
    "    ------\n",
    "    x: int or float\n",
    "      number to be squared\n",
    "    \n",
    "    Returns\n",
    "    -------\n",
    "    int or float\n",
    "      square of x\n",
    "    \"\"\"\n",
    "    return x ** 2\n",
    "\n",
    "square(0.5)"
   ]
  },
  {
   "cell_type": "markdown",
   "id": "7386b204",
   "metadata": {
    "slideshow": {
     "slide_type": "slide"
    }
   },
   "source": [
    "#### Check-in\n",
    "\n",
    "Will the function below result in an error if you called it on the input `\"test\"`? Why or why not?"
   ]
  },
  {
   "cell_type": "code",
   "execution_count": null,
   "id": "55113165",
   "metadata": {
    "slideshow": {
     "slide_type": "-"
    }
   },
   "outputs": [],
   "source": [
    "def mystery_func(x):\n",
    "    return x ** 3"
   ]
  },
  {
   "cell_type": "markdown",
   "id": "cdd7a4f7",
   "metadata": {
    "slideshow": {
     "slide_type": "slide"
    }
   },
   "source": [
    "### Default values\n",
    "\n",
    "> A **default value** is the value taken on by an argument *by default*. If no other value is specified, this is the value assumed by the function.\n",
    "\n",
    "In the function definition, a default value can be specified by setting: `arg_name = default_value`.\n",
    "\n",
    "- In the example below, `name` is required.\n",
    "- But `major` has a default value of `\"COGS\"`."
   ]
  },
  {
   "cell_type": "code",
   "execution_count": null,
   "id": "14b9e0aa",
   "metadata": {
    "slideshow": {
     "slide_type": "-"
    }
   },
   "outputs": [],
   "source": [
    "def my_info(name, major = \"COGS\"):\n",
    "    return \"My name is {name}, and my major is {major}.\".format(name = name, major = major)"
   ]
  },
  {
   "cell_type": "markdown",
   "id": "fe786aa3",
   "metadata": {
    "slideshow": {
     "slide_type": "-"
    }
   },
   "source": [
    "Even if we don't specify a value for `major`, the function will run just fine––it just uses the default value."
   ]
  },
  {
   "cell_type": "code",
   "execution_count": null,
   "id": "8b401735",
   "metadata": {
    "slideshow": {
     "slide_type": "-"
    }
   },
   "outputs": [],
   "source": [
    "my_info(\"Mary\")"
   ]
  },
  {
   "cell_type": "markdown",
   "id": "01a96d6b",
   "metadata": {
    "slideshow": {
     "slide_type": "slide"
    }
   },
   "source": [
    "#### Overriding a default value\n",
    "\n",
    "A default value can be overridden in the call to the function itself. \n",
    "\n",
    "- Note that this can reference the argument name (`major`), or just occupy the correct **position** in the series of arguments. (More on this later.)"
   ]
  },
  {
   "cell_type": "code",
   "execution_count": null,
   "id": "4699346f",
   "metadata": {
    "slideshow": {
     "slide_type": "-"
    }
   },
   "outputs": [],
   "source": [
    "my_info(\"Umberto\", major = \"LIGN\")"
   ]
  },
  {
   "cell_type": "code",
   "execution_count": null,
   "id": "9bc663c2",
   "metadata": {
    "scrolled": true,
    "slideshow": {
     "slide_type": "-"
    }
   },
   "outputs": [],
   "source": [
    "my_info(major = \"LIGN\", name = \"Sean\")"
   ]
  },
  {
   "cell_type": "markdown",
   "id": "79bc5e98",
   "metadata": {
    "slideshow": {
     "slide_type": "slide"
    }
   },
   "source": [
    "#### Arguments without a default must be referenced!\n",
    "\n",
    "If an argument *doesn't* have a default, the function will throw an error if you don't pass in enough arguments."
   ]
  },
  {
   "cell_type": "code",
   "execution_count": null,
   "id": "8752b5a0",
   "metadata": {
    "slideshow": {
     "slide_type": "-"
    }
   },
   "outputs": [],
   "source": [
    "my_info()"
   ]
  },
  {
   "cell_type": "markdown",
   "id": "2b1aca31",
   "metadata": {
    "slideshow": {
     "slide_type": "slide"
    }
   },
   "source": [
    "#### Check-in\n",
    "\n",
    "Why does the following code not throw an error?"
   ]
  },
  {
   "cell_type": "code",
   "execution_count": null,
   "id": "83e35155",
   "metadata": {
    "scrolled": true,
    "slideshow": {
     "slide_type": "-"
    }
   },
   "outputs": [],
   "source": [
    "my_info(\"POLI\")"
   ]
  },
  {
   "cell_type": "markdown",
   "id": "0050dc35",
   "metadata": {
    "slideshow": {
     "slide_type": "slide"
    }
   },
   "source": [
    "### Positional vs. keyword arguments\n",
    "\n",
    "An argument to a function can be indicated using either:\n",
    "\n",
    "- Its **position**, i.e., in the list of possible arguments.\n",
    "- A **keyword**, i.e., the *name* of that argument."
   ]
  },
  {
   "cell_type": "markdown",
   "id": "0d70659d",
   "metadata": {
    "slideshow": {
     "slide_type": "-"
    }
   },
   "source": [
    "A **positional argument** uses the relative position of the arguments to determine which is which. "
   ]
  },
  {
   "cell_type": "code",
   "execution_count": null,
   "id": "d2a24ba1",
   "metadata": {
    "slideshow": {
     "slide_type": "-"
    }
   },
   "outputs": [],
   "source": [
    "def exponentiate(num, exp):\n",
    "    return num ** exp"
   ]
  },
  {
   "cell_type": "code",
   "execution_count": null,
   "id": "e355d311",
   "metadata": {
    "slideshow": {
     "slide_type": "-"
    }
   },
   "outputs": [],
   "source": [
    "## Raise 2 ^ 3\n",
    "exponentiate(2, 3)"
   ]
  },
  {
   "cell_type": "code",
   "execution_count": null,
   "id": "b7bf38ce",
   "metadata": {
    "slideshow": {
     "slide_type": "-"
    }
   },
   "outputs": [],
   "source": [
    "## Raise 3 ^ 2\n",
    "exponentiate(3, 2)"
   ]
  },
  {
   "cell_type": "markdown",
   "id": "7e577a19",
   "metadata": {
    "slideshow": {
     "slide_type": "slide"
    }
   },
   "source": [
    "A **keyword argument** uses the *name* of the argument to determine which is which. \n",
    "\n",
    "- Even if the positions are swapped, the *keyword* will take priority. \n",
    "- (Note that the best practice is to keep the order consistent, however.)"
   ]
  },
  {
   "cell_type": "code",
   "execution_count": null,
   "id": "50728500",
   "metadata": {
    "slideshow": {
     "slide_type": "-"
    }
   },
   "outputs": [],
   "source": [
    "## Raise 2 ^ 3\n",
    "exponentiate(num = 2, exp = 3)"
   ]
  },
  {
   "cell_type": "code",
   "execution_count": null,
   "id": "5c3ae5d8",
   "metadata": {
    "slideshow": {
     "slide_type": "-"
    }
   },
   "outputs": [],
   "source": [
    "## Raise 2 ^ 3\n",
    "exponentiate(exp = 3, num = 2)"
   ]
  },
  {
   "cell_type": "markdown",
   "id": "6814b10e",
   "metadata": {
    "slideshow": {
     "slide_type": "slide"
    }
   },
   "source": [
    "#### Position before keyword\n",
    "\n",
    "- Once you've used a keyword argument, you can't rely on **position** for any arguments coming after that keyword. This will throw a `SyntaxError`.\n",
    "- However, a **positional argument** can come before a **keyword argument**.\n"
   ]
  },
  {
   "cell_type": "code",
   "execution_count": null,
   "id": "70ee59bd",
   "metadata": {
    "slideshow": {
     "slide_type": "-"
    }
   },
   "outputs": [],
   "source": [
    "## This is incorrect\n",
    "exponentiate(num = 2, 3)"
   ]
  },
  {
   "cell_type": "code",
   "execution_count": null,
   "id": "8534ad37",
   "metadata": {
    "slideshow": {
     "slide_type": "-"
    }
   },
   "outputs": [],
   "source": [
    "## This is fine\n",
    "exponentiate(2, exp = 3)"
   ]
  },
  {
   "cell_type": "markdown",
   "id": "9b5ad7f9",
   "metadata": {
    "slideshow": {
     "slide_type": "slide"
    }
   },
   "source": [
    "## Conclusion\n",
    "\n",
    "This concludes our initial introduction to **functions**. If there is time, there are also two more challenging practice problems below to work on."
   ]
  },
  {
   "cell_type": "markdown",
   "id": "adc273f1",
   "metadata": {
    "slideshow": {
     "slide_type": "slide"
    }
   },
   "source": [
    "## Practice problems"
   ]
  },
  {
   "cell_type": "markdown",
   "id": "4c6ac8b5",
   "metadata": {
    "slideshow": {
     "slide_type": "slide"
    }
   },
   "source": [
    "### Problem 1\n",
    "\n",
    "Write a function called `fizzbuzz`. It should take in a single argument, `x`, and follow this behavior:\n",
    "\n",
    "- If `x` is divisible by both `3` and `5`, return the `str` `\"fizzbuzz\"`. \n",
    "- If `x` is divisible by only `3` (and not `5`), return `\"fizz\"`).\n",
    "- If `x` is divisible by only `5` (and not `3`), return `\"buzz\"`).\n",
    "\n",
    "Note: this is part of a famous problem in **coding interviews**!"
   ]
  },
  {
   "cell_type": "code",
   "execution_count": null,
   "id": "25a06421",
   "metadata": {
    "slideshow": {
     "slide_type": "-"
    }
   },
   "outputs": [],
   "source": [
    "def fizzbuzz(x):\n",
    "    pass"
   ]
  },
  {
   "cell_type": "markdown",
   "id": "014891b6",
   "metadata": {
    "slideshow": {
     "slide_type": "slide"
    }
   },
   "source": [
    "### Problem 2\n",
    "\n",
    "Write a function called **product**, which takes a `list` (`lst`) as input, and returns the **product** of every item in the list."
   ]
  },
  {
   "cell_type": "code",
   "execution_count": null,
   "id": "5b35c869",
   "metadata": {
    "slideshow": {
     "slide_type": "-"
    }
   },
   "outputs": [],
   "source": [
    "L = [2, 3, 4, 5]\n",
    "\n",
    "def product(lst):\n",
    "    pass"
   ]
  },
  {
   "cell_type": "markdown",
   "id": "2741a05a",
   "metadata": {
    "slideshow": {
     "slide_type": "slide"
    }
   },
   "source": [
    "## Returning multiple values\n",
    "\n",
    "Functions can `return` multiple values, or even another function. \n",
    "\n",
    "This can be useful when:\n",
    "\n",
    "- The goal of a `function` can't be distilled into a single value.  \n",
    "- You want to `return` multiple bits of information about something, e.g., its `len`, its value, and so on.  \n",
    "\n",
    "Multiple values can be separated with a `,`."
   ]
  },
  {
   "cell_type": "markdown",
   "id": "0540f222",
   "metadata": {
    "slideshow": {
     "slide_type": "slide"
    }
   },
   "source": [
    "### Multiple `return` values: an example\n",
    "\n",
    "Suppose we wanted a function that takes two numbers as input, and returns both:\n",
    "\n",
    "- Their sum.  \n",
    "- Their product."
   ]
  },
  {
   "cell_type": "code",
   "execution_count": null,
   "id": "ee665bc1",
   "metadata": {
    "slideshow": {
     "slide_type": "-"
    }
   },
   "outputs": [],
   "source": [
    "def sum_product(a, b):\n",
    "    sumvar = a + b\n",
    "    prod = a * b\n",
    "    L = [sumvar, prod]\n",
    "    return L, sumvar, prod"
   ]
  },
  {
   "cell_type": "code",
   "execution_count": null,
   "id": "64e739db",
   "metadata": {
    "slideshow": {
     "slide_type": "-"
    }
   },
   "outputs": [],
   "source": [
    "l, s, p = sum_product(10, 200)\n",
    "print(l)\n",
    "print(s)\n",
    "print(p)"
   ]
  },
  {
   "cell_type": "markdown",
   "id": "8e1bd1a6",
   "metadata": {
    "slideshow": {
     "slide_type": "slide"
    }
   },
   "source": [
    "### Check-in\n",
    "\n",
    "What do you notice about the `type` of the object that gets returned when a function returns *multiple values*?"
   ]
  },
  {
   "cell_type": "code",
   "execution_count": null,
   "id": "4eb40bb6",
   "metadata": {
    "slideshow": {
     "slide_type": "-"
    }
   },
   "outputs": [],
   "source": [
    "sum_product(5, 2)"
   ]
  },
  {
   "cell_type": "markdown",
   "id": "0b9c1a4c",
   "metadata": {
    "slideshow": {
     "slide_type": "slide"
    }
   },
   "source": [
    "### `return` and `tuple`s\n",
    "\n",
    "By default, a `function` will package these multiple values into a `tuple`.\n",
    "\n",
    "- It's possible to return them in another form, e.g., in a structured dictionary. \n",
    "- But if you use the `return a, b` syntax, `a` and `b` will returned like: `(a, b)`"
   ]
  },
  {
   "cell_type": "markdown",
   "id": "95967cf6",
   "metadata": {
    "slideshow": {
     "slide_type": "slide"
    }
   },
   "source": [
    "## Namespaces"
   ]
  },
  {
   "cell_type": "markdown",
   "id": "9f06d9c7",
   "metadata": {
    "slideshow": {
     "slide_type": "slide"
    }
   },
   "source": [
    "### What is a namespace?\n",
    "\n",
    "> A [**namespace**](https://realpython.com/python-namespaces-scope/) is the \"space\" where a given set of variable names have been *declared*.\n",
    "\n",
    "Python has several types of namespaces:\n",
    "\n",
    "1. **Built-in**: Built-in objects within Python (e.g., **Exceptions**, **lists**, and more). These can be accessed from anywhere.  \n",
    "2. **Global**: Any objects defined in the main program. These can be accessed anywhere in the main program once you've defined them, but not in another Jupyter notebook, etc.\n",
    "3. **Local**: If you define new variables within a *function*, those variables can only be accessed within the \"scope\" of that function."
   ]
  },
  {
   "cell_type": "markdown",
   "id": "c93b00e1",
   "metadata": {
    "slideshow": {
     "slide_type": "slide"
    }
   },
   "source": [
    "### The global namespace\n",
    "\n",
    "So far, we've mostly been working with variables defined in the **global namespace**.\n",
    "\n",
    "- I.e., once we define a variable in a notebook (and run that cell), we can reference it in another cell."
   ]
  },
  {
   "cell_type": "code",
   "execution_count": null,
   "id": "9bf1751a",
   "metadata": {},
   "outputs": [],
   "source": [
    "## define global variable\n",
    "my_var = 2"
   ]
  },
  {
   "cell_type": "code",
   "execution_count": null,
   "id": "001036c9",
   "metadata": {},
   "outputs": [],
   "source": [
    "## reference global variable\n",
    "print(my_var)"
   ]
  },
  {
   "cell_type": "markdown",
   "id": "af2ac7c1",
   "metadata": {
    "slideshow": {
     "slide_type": "slide"
    }
   },
   "source": [
    "### Functions have their own namespace\n",
    "\n",
    "If you declare a variable **within** a function definition, that variable does *not* persist outside the scope of that function.\n",
    "\n",
    "In the function below, we declare a new variable called `answer`, which is eventually `return`ed.\n",
    "\n",
    "- However, the **variable itself** does not exist outside the function."
   ]
  },
  {
   "cell_type": "code",
   "execution_count": null,
   "id": "1d591ec1",
   "metadata": {
    "slideshow": {
     "slide_type": "-"
    }
   },
   "outputs": [],
   "source": [
    "def exponentiate(num, exp):\n",
    "    ### \"answer\" is a new variable \n",
    "    answer = num ** exp\n",
    "    return answer"
   ]
  },
  {
   "cell_type": "code",
   "execution_count": null,
   "id": "1a31a687",
   "metadata": {
    "slideshow": {
     "slide_type": "-"
    }
   },
   "outputs": [],
   "source": [
    "exponentiate(3, 2)\n",
    "### This will throw an error\n",
    "print(answer)"
   ]
  },
  {
   "cell_type": "markdown",
   "id": "70248681",
   "metadata": {
    "slideshow": {
     "slide_type": "slide"
    }
   },
   "source": [
    "### Global variables *can* be referenced inside a function\n",
    "\n",
    "If you've defined a variable in the global namespace, you *can* reference it inside a function.\n",
    "\n",
    "- **Word of caution ⚠️**: this can make for confusing code. "
   ]
  },
  {
   "cell_type": "code",
   "execution_count": null,
   "id": "82a0f1e5",
   "metadata": {},
   "outputs": [],
   "source": [
    "## define global variable\n",
    "my_var = 2\n",
    "## define function\n",
    "def add_two(x):\n",
    "    ## references my_var\n",
    "    return x + my_var\n",
    "\n",
    "add_two(2)"
   ]
  },
  {
   "cell_type": "markdown",
   "id": "7b349161",
   "metadata": {
    "slideshow": {
     "slide_type": "slide"
    }
   },
   "source": [
    "### Check-in\n",
    "\n",
    "What would value of `new_var` be after running the code below?\n",
    "\n",
    "What about `test_var`?"
   ]
  },
  {
   "cell_type": "code",
   "execution_count": null,
   "id": "186feb9d",
   "metadata": {
    "slideshow": {
     "slide_type": "-"
    }
   },
   "outputs": [],
   "source": [
    "test_var = 2\n",
    "def test_func(x):\n",
    "    test_var = x ** 2\n",
    "    return test_var\n",
    "\n",
    "new_var = test_func(5)"
   ]
  },
  {
   "cell_type": "markdown",
   "id": "52111d6c",
   "metadata": {
    "slideshow": {
     "slide_type": "slide"
    }
   },
   "source": [
    "### Using `whos`\n",
    "\n",
    "Remember that you can check which variables are defined using `whos`.\n",
    "\n",
    "**Warning**: It works on IPython and Jypyter Notebooks. If you open a python script in your computer, it is probably not going to work."
   ]
  },
  {
   "cell_type": "code",
   "execution_count": null,
   "id": "985c7690",
   "metadata": {
    "slideshow": {
     "slide_type": "-"
    }
   },
   "outputs": [],
   "source": [
    "whos"
   ]
  },
  {
   "cell_type": "markdown",
   "id": "7d857c00",
   "metadata": {
    "slideshow": {
     "slide_type": "slide"
    }
   },
   "source": [
    "## `lambda` functions\n",
    "\n",
    "So far, we've focused on creating functions using the `def func_name(...)` syntax.\n",
    "\n",
    "However, Python also has something called [**lambda functions**](https://www.w3schools.com/python/python_lambda.asp). \n",
    "\n",
    "- Syntax: `lambda x: ...`. \n",
    "- Main advantage: can be written in a single line, best if you want a **simple function**.  \n",
    "   - Excellent for passing as *arguments* into other functions, such as `sorted`."
   ]
  },
  {
   "cell_type": "code",
   "execution_count": null,
   "id": "55982d75",
   "metadata": {
    "slideshow": {
     "slide_type": "-"
    }
   },
   "outputs": [],
   "source": [
    "square = lambda x: x ** 2\n",
    "print(square(2))\n",
    "print(square(4))"
   ]
  },
  {
   "cell_type": "markdown",
   "id": "0a13b69a",
   "metadata": {
    "slideshow": {
     "slide_type": "-"
    }
   },
   "source": [
    "In theory, `lambda` functions can have multiple arguments."
   ]
  },
  {
   "cell_type": "code",
   "execution_count": null,
   "id": "039a3f2f",
   "metadata": {
    "slideshow": {
     "slide_type": "-"
    }
   },
   "outputs": [],
   "source": [
    "exp = lambda x, y: x ** y\n",
    "print(exp(2, 3))"
   ]
  },
  {
   "cell_type": "markdown",
   "id": "681897fa",
   "metadata": {
    "slideshow": {
     "slide_type": "slide"
    }
   },
   "source": [
    "### Check-in\n",
    "\n",
    "Convert the function below into a `lambda` function."
   ]
  },
  {
   "cell_type": "code",
   "execution_count": null,
   "id": "5769fb99",
   "metadata": {
    "slideshow": {
     "slide_type": "-"
    }
   },
   "outputs": [],
   "source": [
    "def add_one(x):\n",
    "    ## Adds 1 to x\n",
    "    return x + 1\n",
    "\n",
    "### Your code here"
   ]
  },
  {
   "cell_type": "markdown",
   "id": "4cce465a",
   "metadata": {
    "slideshow": {
     "slide_type": "slide"
    }
   },
   "source": [
    "### `lambda`: summary\n",
    "\n",
    "- `lambda` is an easy, efficient way to define a simple function.  \n",
    "- In practice, `lambda` is most useful when defining functions \"on the fly\".\n",
    "   - As **arguments** to pass into another function.\n",
    "   - As **nested functions** within another function. "
   ]
  },
  {
   "cell_type": "markdown",
   "id": "5bb00b57",
   "metadata": {
    "slideshow": {
     "slide_type": "slide"
    }
   },
   "source": [
    "## Varying number of arguments\n",
    "\n",
    "So far, we've assumed that we *know* how many arguments will be passed into a function at any given time. But this isn't always the case.\n",
    "\n",
    "Fortunately, Python gives us two ways to handle an **arbitrary number** of arguments:\n",
    "\n",
    "- `*args`: allows a `function` to receive an arbitrary number of (positional) arguments, which can be \"unpacked\" as needed. The function treats them as a `tuple`. \n",
    "- `**kwargs`: allows a `function` to receive a `dictionary` of (keyword) arguments, which can be \"unpacked\" as needed. "
   ]
  },
  {
   "cell_type": "markdown",
   "id": "a066c1af",
   "metadata": {
    "slideshow": {
     "slide_type": "slide"
    }
   },
   "source": [
    "### `*args` in practice\n",
    "\n",
    "The `*args` syntax allows you to input an arbitrary number of arguments into a function."
   ]
  },
  {
   "cell_type": "code",
   "execution_count": null,
   "id": "d2657f4c",
   "metadata": {
    "slideshow": {
     "slide_type": "-"
    }
   },
   "outputs": [],
   "source": [
    "def my_function(*fruits):\n",
    "    print(\"The last fruit is \" + fruits[-1] + \".\")"
   ]
  },
  {
   "cell_type": "code",
   "execution_count": null,
   "id": "bae70d4f",
   "metadata": {
    "slideshow": {
     "slide_type": "-"
    }
   },
   "outputs": [],
   "source": [
    "my_function(\"strawberry\")"
   ]
  },
  {
   "cell_type": "code",
   "execution_count": null,
   "id": "8d4eceb8",
   "metadata": {
    "slideshow": {
     "slide_type": "-"
    }
   },
   "outputs": [],
   "source": [
    "my_function(\"strawberry\", \"apple\")"
   ]
  },
  {
   "cell_type": "markdown",
   "id": "c598cf5a",
   "metadata": {
    "slideshow": {
     "slide_type": "slide"
    }
   },
   "source": [
    "#### Check-in\n",
    "\n",
    "How exactly is this working? That is, what is `my_function` treating `*fruits` as? \n",
    "\n",
    "Try `print`ing out `fruits` to see what's going on."
   ]
  },
  {
   "cell_type": "code",
   "execution_count": null,
   "id": "4a902dcf",
   "metadata": {
    "slideshow": {
     "slide_type": "-"
    }
   },
   "outputs": [],
   "source": [
    "### Your code here"
   ]
  },
  {
   "cell_type": "markdown",
   "id": "54a0da36",
   "metadata": {
    "slideshow": {
     "slide_type": "slide"
    }
   },
   "source": [
    "### `**kargs` in practice\n",
    "\n",
    "The `*kwargs` is similar to `*args`, but allows for an arbitrary number of **keyword arguments**.\n",
    "\n",
    "- These are treated as a `dict` by the function."
   ]
  },
  {
   "cell_type": "code",
   "execution_count": null,
   "id": "301b5ffa",
   "metadata": {
    "slideshow": {
     "slide_type": "-"
    }
   },
   "outputs": [],
   "source": [
    "def my_bad_function(*fruits):\n",
    "    print('I have ' + str(fruits[1]) + ' ' + str(fruits[0]))\n",
    "\n",
    "def my_function(**fruits):\n",
    "    print('I have ' + str(fruits['amount']) + ' ' + fruits['name'])\n",
    "    if (fruits['ripe']): print('And they are ripe!')"
   ]
  },
  {
   "cell_type": "code",
   "execution_count": null,
   "id": "3ad1788e",
   "metadata": {
    "slideshow": {
     "slide_type": "-"
    }
   },
   "outputs": [],
   "source": [
    "### Keyword and value are automatically placed into dictionary\n",
    "my_function(amount = 5, name = \"apple\", ripe = False)\n",
    "my_bad_function(5, \"apple\")"
   ]
  },
  {
   "cell_type": "code",
   "execution_count": null,
   "id": "693e7445",
   "metadata": {
    "slideshow": {
     "slide_type": "-"
    }
   },
   "outputs": [],
   "source": [
    "### The specific keyword can be altered as needed\n",
    "my_function(name = \"banana\", cost = 10)"
   ]
  },
  {
   "cell_type": "markdown",
   "id": "d91432d8",
   "metadata": {
    "slideshow": {
     "slide_type": "slide"
    }
   },
   "source": [
    "#### Why use this?\n",
    "\n",
    "In general, `**kwargs` is useful when you want **flexibility**.\n",
    "\n",
    "For example, suppose you have a website, in which people can (optionally) fill out the following information:\n",
    "\n",
    "- `Name`. \n",
    "- `Email`. \n",
    "- `Phone number`.\n",
    "- `Location`.\n",
    "\n",
    "But because not everyone fills out *every field*, the function you use to store this information needs to be flexible about how many arguments it receives."
   ]
  },
  {
   "cell_type": "code",
   "execution_count": null,
   "id": "6b66c35f",
   "metadata": {
    "slideshow": {
     "slide_type": "-"
    }
   },
   "outputs": [],
   "source": [
    "def store_user(**info):\n",
    "    ## For now, this is just a placeholder to demonstrate\n",
    "    for item in info.items():\n",
    "        print(item)"
   ]
  },
  {
   "cell_type": "code",
   "execution_count": null,
   "id": "3a81f3c5",
   "metadata": {
    "slideshow": {
     "slide_type": "-"
    }
   },
   "outputs": [],
   "source": [
    "store_user(Name = \"John\", Location = \"San Diego\", Email = 'john@ucsd.edu')"
   ]
  },
  {
   "cell_type": "markdown",
   "id": "a47102bd",
   "metadata": {
    "slideshow": {
     "slide_type": "slide"
    }
   },
   "source": [
    "## Practice problems\n",
    "\n",
    "One of the best ways to learn a new concept is to actually practice it. Thus, I'm including a number of practice problems at the end of this lecture, which we'll work through."
   ]
  },
  {
   "cell_type": "markdown",
   "id": "a16bb8ea",
   "metadata": {
    "slideshow": {
     "slide_type": "slide"
    }
   },
   "source": [
    "### Problem 1: find the maximum number of a `list`\n",
    "\n",
    "Goal: write a function that takes in a `list` of numbers as input, and finds the **maximum** of the `list`.  \n",
    "\n",
    "The catch: you can't use the operator `max`. \n",
    "\n",
    "Things to consider:\n",
    "\n",
    "- If the input `list` is empty, you should return `None`.  \n",
    "- Since you can't use `max`, you might consider using a `for` loop, checking the value of each number in turn."
   ]
  },
  {
   "cell_type": "code",
   "execution_count": null,
   "id": "e45093aa",
   "metadata": {
    "slideshow": {
     "slide_type": "-"
    }
   },
   "outputs": [],
   "source": [
    "### Your code here"
   ]
  },
  {
   "cell_type": "markdown",
   "id": "cfda08a9",
   "metadata": {
    "slideshow": {
     "slide_type": "slide"
    }
   },
   "source": [
    "### Problem 2: find the maximum number in a set of `*args`\n",
    "\n",
    "Goal: write a function that takes in an arbitrary number of arguments (i.e., uses `*args`), and finds the maximum.\n",
    "\n",
    "The catch: you can't use the operator `max`. \n",
    "\n",
    "Things to consider:\n",
    "\n",
    "- If there are no arguments, you should return `None`.  \n",
    "- Since you can't use `max`, you might consider using a `for` loop, checking the value of each number in turn."
   ]
  },
  {
   "cell_type": "code",
   "execution_count": null,
   "id": "e6877b49",
   "metadata": {
    "slideshow": {
     "slide_type": "-"
    }
   },
   "outputs": [],
   "source": [
    "### Your code here"
   ]
  },
  {
   "cell_type": "markdown",
   "id": "b5c6108b",
   "metadata": {
    "slideshow": {
     "slide_type": "slide"
    }
   },
   "source": [
    "### Problem 3: find the even numbers\n",
    "\n",
    "Goal: write a function that takes in a `list` of numbers, and prints the even ones."
   ]
  },
  {
   "cell_type": "code",
   "execution_count": null,
   "id": "cac2e37e",
   "metadata": {
    "slideshow": {
     "slide_type": "-"
    }
   },
   "outputs": [],
   "source": [
    "### Your code here"
   ]
  },
  {
   "cell_type": "markdown",
   "id": "be3b9dc4",
   "metadata": {
    "slideshow": {
     "slide_type": "slide"
    }
   },
   "source": [
    "### Problem 4: find the tallest in a dictionary.\n",
    "\n",
    "Suppose we want a `function` that takes in a `dict` of `Names` and `Heights`. That is, each *key* is a `Name`, and it maps onto a `Height`.\n",
    "\n",
    "We want the function to return the `Name` of the person with the largest `Height`, *as well as* the `Height` itself."
   ]
  },
  {
   "cell_type": "code",
   "execution_count": null,
   "id": "bf6d04a4",
   "metadata": {
    "slideshow": {
     "slide_type": "-"
    }
   },
   "outputs": [],
   "source": [
    "## Can't just max...that'll return \"Sean\"\n",
    "heights = {'Sean': 67, 'Ben': 72, 'Anne': 66}\n",
    "### Your code here"
   ]
  },
  {
   "cell_type": "markdown",
   "id": "6a638571",
   "metadata": {
    "slideshow": {
     "slide_type": "slide"
    }
   },
   "source": [
    "## Conclusion\n",
    "\n",
    "We learned so far:\n",
    "\n",
    "- Operators, assignment, flow control (`if-elif-else`, `for`, `while`)\n",
    "- `strings`, `lists` \n",
    "- `dictionaries`, `functions`\n",
    "\n",
    "Next class we are going to learn:\n",
    "\n",
    "- `classes` and object-oriented programming\n",
    "- Reading files\n",
    "- `numpy` basics"
   ]
  }
 ],
 "metadata": {
  "celltoolbar": "Slideshow",
  "kernelspec": {
   "display_name": "Python 3 (ipykernel)",
   "language": "python",
   "name": "python3"
  },
  "language_info": {
   "codemirror_mode": {
    "name": "ipython",
    "version": 3
   },
   "file_extension": ".py",
   "mimetype": "text/x-python",
   "name": "python",
   "nbconvert_exporter": "python",
   "pygments_lexer": "ipython3",
   "version": "3.9.18"
  }
 },
 "nbformat": 4,
 "nbformat_minor": 5
}
