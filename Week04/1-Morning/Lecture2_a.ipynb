{
 "cells": [
  {
   "cell_type": "markdown",
   "id": "7858c313",
   "metadata": {
    "slideshow": {
     "slide_type": "slide"
    }
   },
   "source": [
    "# CSS 201.5 - CSS Bootcamp\n",
    "\n",
    "## Python Programming\n",
    "\n",
    "### Umberto Mignozzetti (UCSD)"
   ]
  },
  {
   "cell_type": "markdown",
   "id": "a8e79485",
   "metadata": {
    "slideshow": {
     "slide_type": "slide"
    }
   },
   "source": [
    "## What is control flow?\n",
    "\n",
    "By default, Python commands are executed in a *linear* order, i.e., line by line.  \n",
    " - Unless we tell Python otherwise, *each line* will be executed once.\n",
    "\n",
    "But sometimes it's useful to **control the flow of our code**:\n",
    "1. Which lines get executed?\n",
    "2. How many times do those lines get executed?  \n",
    "\n",
    "These control \"parameters\" correspond, roughly, to:\n",
    "1. Conditional statements (`if/elif/else`).  \n",
    "2. Loops (e.g., `for` or `while`). "
   ]
  },
  {
   "cell_type": "markdown",
   "id": "d7e8abd4",
   "metadata": {
    "slideshow": {
     "slide_type": "slide"
    }
   },
   "source": [
    "## What is control flow?\n",
    "\n",
    "![image](https://github.com/umbertomig/CSSBootCamp/blob/main/img/flow1.png?raw=true)"
   ]
  },
  {
   "cell_type": "markdown",
   "id": "825e1d3d",
   "metadata": {
    "slideshow": {
     "slide_type": "slide"
    }
   },
   "source": [
    "## What is a conditional?\n",
    "\n",
    "> In a nutshell, a **conditional** is a statement that checks for whether some *condition* is met.\n",
    "\n",
    "We can use the `if` command to **control** which lines of code are executed."
   ]
  },
  {
   "cell_type": "code",
   "execution_count": null,
   "id": "c1e4ae75",
   "metadata": {
    "slideshow": {
     "slide_type": "-"
    }
   },
   "outputs": [],
   "source": [
    "condition = True\n",
    "if condition:\n",
    "    print(\"This code will only run if the condition is True.\")"
   ]
  },
  {
   "cell_type": "code",
   "execution_count": null,
   "id": "754ea5fc",
   "metadata": {
    "slideshow": {
     "slide_type": "-"
    }
   },
   "outputs": [],
   "source": [
    "condition = False\n",
    "if condition:\n",
    "    print(\"This code will only run if the condition is True.\")"
   ]
  },
  {
   "cell_type": "markdown",
   "id": "0c29e04a",
   "metadata": {
    "slideshow": {
     "slide_type": "slide"
    }
   },
   "source": [
    "### Check-in\n",
    "\n",
    "Consider the code block below. Which part is the **conditional statement**?"
   ]
  },
  {
   "cell_type": "code",
   "execution_count": null,
   "id": "c0afca1f",
   "metadata": {
    "slideshow": {
     "slide_type": "-"
    }
   },
   "outputs": [],
   "source": [
    "x = 10\n",
    "y = 5\n",
    "if x > y:\n",
    "    print(\"X is bigger than Y.\")"
   ]
  },
  {
   "cell_type": "markdown",
   "id": "bf4c25d9",
   "metadata": {
    "slideshow": {
     "slide_type": "slide"
    }
   },
   "source": [
    "### Check-in\n",
    "\n",
    "Consider the code block below. Why won't the `print` statement run?"
   ]
  },
  {
   "cell_type": "code",
   "execution_count": null,
   "id": "e60e9783",
   "metadata": {
    "slideshow": {
     "slide_type": "-"
    }
   },
   "outputs": [],
   "source": [
    "x = \"One string\"\n",
    "y = \"Another string\"\n",
    "if x == y:\n",
    "    print(\"These strings are the same.\")"
   ]
  },
  {
   "cell_type": "markdown",
   "id": "029701de",
   "metadata": {
    "slideshow": {
     "slide_type": "slide"
    }
   },
   "source": [
    "### What belongs in an `if` statement?\n",
    "\n",
    "- An `if` statement should evaluate to `True` or `False`.  \n",
    "  - This includes the outcome of any **comparison** operation (`>`, `==`, etc.).  \n",
    "  - Technically, it also includes numbers/strings (which evaluate to `True`) and `NoneType` (which is equivalent to `False`).  \n",
    "- An `if` statement is *extremely useful* for modifying the behavior of a program, depending on some **condition**."
   ]
  },
  {
   "cell_type": "code",
   "execution_count": null,
   "id": "eab71505",
   "metadata": {
    "slideshow": {
     "slide_type": "-"
    }
   },
   "outputs": [],
   "source": [
    "if None:\n",
    "    print(\"This won't print\")"
   ]
  },
  {
   "cell_type": "markdown",
   "id": "5436d7ce",
   "metadata": {
    "slideshow": {
     "slide_type": "slide"
    }
   },
   "source": [
    "### Check-in\n",
    "\n",
    "What happens if our `if` statement evaluates to `False` (e.g., the statement `4 > 5` would evaluate to `False`)? "
   ]
  },
  {
   "cell_type": "markdown",
   "id": "94a2dc59",
   "metadata": {
    "slideshow": {
     "slide_type": "slide"
    }
   },
   "source": [
    "### Conditionals with operators\n",
    "\n",
    "Conditional statements can be used with **operators**. This is really useful if you want to modify your program based on whether two variables are equal (`==`), or one is larger (`>`) or smaller (`<`) than the others, and so on."
   ]
  },
  {
   "cell_type": "code",
   "execution_count": null,
   "id": "0bdc43a1",
   "metadata": {
    "slideshow": {
     "slide_type": "-"
    }
   },
   "outputs": [],
   "source": [
    "checking_account = 1000\n",
    "if checking_account > 200:\n",
    "    print(\"Withdrawal allowed.\")"
   ]
  },
  {
   "cell_type": "markdown",
   "id": "c22ae539",
   "metadata": {
    "slideshow": {
     "slide_type": "slide"
    }
   },
   "source": [
    "## `else` statement\n",
    "\n",
    "> An `else` statement tells Python what to do if an `if` statement evaluates to `False`."
   ]
  },
  {
   "cell_type": "code",
   "execution_count": null,
   "id": "924a00f2",
   "metadata": {
    "slideshow": {
     "slide_type": "-"
    }
   },
   "outputs": [],
   "source": [
    "condition = False\n",
    "if condition:\n",
    "    print(\"Condition is TRUE.\")\n",
    "else:\n",
    "    print(\"Condition is FALSE.\")"
   ]
  },
  {
   "cell_type": "markdown",
   "id": "58c07b01",
   "metadata": {
    "slideshow": {
     "slide_type": "slide"
    }
   },
   "source": [
    "### When to use an `else` statement?\n",
    "\n",
    "An `else` statement can **only** be used after an `if` statement (see the `SyntaxError` below).  "
   ]
  },
  {
   "cell_type": "code",
   "execution_count": null,
   "id": "a2c00d03",
   "metadata": {
    "slideshow": {
     "slide_type": "-"
    }
   },
   "outputs": [],
   "source": [
    "else:\n",
    "    print(\"test\")"
   ]
  },
  {
   "cell_type": "markdown",
   "id": "9d1e16e4",
   "metadata": {
    "slideshow": {
     "slide_type": "slide"
    }
   },
   "source": [
    "An `else` statement is most useful if you want two different things to happen, depending some condition:\n",
    "\n",
    "1. If `condition == True`, execute Action A.  \n",
    "2. `else`, execute Action B. "
   ]
  },
  {
   "cell_type": "code",
   "execution_count": null,
   "id": "0b3aa3bf",
   "metadata": {
    "slideshow": {
     "slide_type": "-"
    }
   },
   "outputs": [],
   "source": [
    "condition = False\n",
    "if condition:\n",
    "    print(\"Do this if the condition is TRUE.\")\n",
    "else:\n",
    "    print(\"Do this if the condition is FALSE.\")"
   ]
  },
  {
   "cell_type": "markdown",
   "id": "9dba48d1",
   "metadata": {
    "slideshow": {
     "slide_type": "slide"
    }
   },
   "source": [
    "## Quick note on indentation\n",
    "\n",
    "Notice that the code below an `if` or `else` statement must be **indented**, if you want it to be associated with that statement.\n",
    "\n",
    "If there is no indented code below an `if` statement, you'll get an `IndentationError`."
   ]
  },
  {
   "cell_type": "code",
   "execution_count": null,
   "id": "ef9c8ca5",
   "metadata": {
    "slideshow": {
     "slide_type": "-"
    }
   },
   "outputs": [],
   "source": [
    "if 3 > 2:\n",
    "print(\"No idententation\")"
   ]
  },
  {
   "cell_type": "markdown",
   "id": "e608bc3f",
   "metadata": {
    "slideshow": {
     "slide_type": "slide"
    }
   },
   "source": [
    "However, you *can* still have un-indented code below an `if` or `else` statement, as long as there's *also* indented code."
   ]
  },
  {
   "cell_type": "code",
   "execution_count": null,
   "id": "d29102a7",
   "metadata": {
    "slideshow": {
     "slide_type": "-"
    }
   },
   "outputs": [],
   "source": [
    "if 3 > 2:\n",
    "    print(\"This will execute if the condition is met.\")\n",
    "print(\"This will execute regardless.\")"
   ]
  },
  {
   "cell_type": "markdown",
   "id": "41f23d46",
   "metadata": {
    "slideshow": {
     "slide_type": "slide"
    }
   },
   "source": [
    "### Check-in\n",
    "\n",
    "Which lines in the code below would actually print?\n",
    "\n",
    "```python\n",
    "condition = False\n",
    "if condition:\n",
    "    print(\"Do this if the condition is TRUE.\")\n",
    "else:\n",
    "    print(\"Do this if the condition is FALSE.\")\n",
    "print(\"Also do this.\")\n",
    "```"
   ]
  },
  {
   "cell_type": "code",
   "execution_count": null,
   "id": "0257afe9",
   "metadata": {},
   "outputs": [],
   "source": [
    "## Your code here"
   ]
  },
  {
   "cell_type": "markdown",
   "id": "ef34968a",
   "metadata": {
    "slideshow": {
     "slide_type": "slide"
    }
   },
   "source": [
    "## `elif` statement\n",
    "\n",
    "> An `elif` statement tells Python what to do if an `if` statement evaluates to `False`, *and* some other condition is met.\n",
    "\n",
    "This is kind of a combination of an `if` and `else` statement.  "
   ]
  },
  {
   "cell_type": "code",
   "execution_count": null,
   "id": "695f453f",
   "metadata": {
    "slideshow": {
     "slide_type": "-"
    }
   },
   "outputs": [],
   "source": [
    "condition1 = False\n",
    "condition2 = True\n",
    "if condition1:\n",
    "    print(\"Condition 1 is true.\")\n",
    "elif condition2:\n",
    "    print(\"Condition 2 is true.\")"
   ]
  },
  {
   "cell_type": "markdown",
   "id": "63ad04e9",
   "metadata": {
    "slideshow": {
     "slide_type": "slide"
    }
   },
   "source": [
    "### When will an `elif` statement run?\n",
    "\n",
    "An `elif` statement will *only run* if the `if` statement evaluates to `False`––even if the `elif` statement would've evaluated to `True`!"
   ]
  },
  {
   "cell_type": "code",
   "execution_count": null,
   "id": "e663281f",
   "metadata": {
    "slideshow": {
     "slide_type": "-"
    }
   },
   "outputs": [],
   "source": [
    "condition1 = True\n",
    "condition2 = True\n",
    "if condition1:\n",
    "    print(\"Condition 1 is true.\")\n",
    "elif condition2:\n",
    "    print(\"Condition 2 is also true, but this won't print.\")"
   ]
  },
  {
   "cell_type": "markdown",
   "id": "f2ef8847",
   "metadata": {
    "slideshow": {
     "slide_type": "slide"
    }
   },
   "source": [
    "#### `if` vs. `elif`\n",
    "\n",
    "The key difference between two `if` statements in a row vs. an `if/elif` statement is:\n",
    "\n",
    "- The code under both `if` statements can run if both statements are `True`.  \n",
    "- The code under an `elif` statement will only run if the `if` statement is False."
   ]
  },
  {
   "cell_type": "code",
   "execution_count": null,
   "id": "79a05a5d",
   "metadata": {
    "slideshow": {
     "slide_type": "-"
    }
   },
   "outputs": [],
   "source": [
    "condition1 = True\n",
    "condition2 = True\n",
    "if condition1:\n",
    "    print(\"Condition 1 is true.\")\n",
    "if condition2:\n",
    "    print(\"Condition 2 is also true, and this will also print.\")"
   ]
  },
  {
   "cell_type": "markdown",
   "id": "a5ff5a59",
   "metadata": {
    "slideshow": {
     "slide_type": "slide"
    }
   },
   "source": [
    "#### `elif` vs. `else`\n",
    "\n",
    "- An `elif` statement cannot be placed after an `else` statement.\n",
    "   - This will generate a `SyntaxError`. \n",
    "- It also just doesn't make sense logically. If `elif` were at the end, it'd never be evaluated anyway, since `else` covers everything other than the `if` statement.\n"
   ]
  },
  {
   "cell_type": "code",
   "execution_count": null,
   "id": "7b334301",
   "metadata": {
    "slideshow": {
     "slide_type": "-"
    }
   },
   "outputs": [],
   "source": [
    "if 2 > 3:\n",
    "    print(\"True\")\n",
    "else:\n",
    "    print(\"False\")\n",
    "elif 2 > 1:\n",
    "    print(\"True?\")"
   ]
  },
  {
   "cell_type": "markdown",
   "id": "ea43bd99",
   "metadata": {
    "slideshow": {
     "slide_type": "slide"
    }
   },
   "source": [
    "### Check-in\n",
    "\n",
    "What do you expect the value of `x` to be if the following code is run? (Try to figure it out before running the code to check what `x` is.)"
   ]
  },
  {
   "cell_type": "code",
   "execution_count": null,
   "id": "e7d0fa3d",
   "metadata": {
    "slideshow": {
     "slide_type": "-"
    }
   },
   "outputs": [],
   "source": [
    "y = 1\n",
    "x = 0\n",
    "if y >= 1:\n",
    "    x -= 2\n",
    "elif y >= 1:\n",
    "    x -= 1\n",
    "else:\n",
    "    x += 1"
   ]
  },
  {
   "cell_type": "markdown",
   "id": "364de463",
   "metadata": {
    "slideshow": {
     "slide_type": "slide"
    }
   },
   "source": [
    "### Check-in\n",
    "\n",
    "What do you expect the value of `x` to be if the following code is run? (Try to figure it out before running the code to check what `x` is.)"
   ]
  },
  {
   "cell_type": "code",
   "execution_count": null,
   "id": "5f25efc5",
   "metadata": {
    "slideshow": {
     "slide_type": "-"
    }
   },
   "outputs": [],
   "source": [
    "y = 1\n",
    "x = 0\n",
    "if y >= 1:\n",
    "    x -= 2\n",
    "if y >= 0:\n",
    "    x -= 1\n",
    "else:\n",
    "    x += 1"
   ]
  },
  {
   "cell_type": "markdown",
   "id": "2c94be21",
   "metadata": {
    "slideshow": {
     "slide_type": "slide"
    }
   },
   "source": [
    "### Check-in\n",
    "\n",
    "Why did those two different code blocks behave differently?"
   ]
  },
  {
   "cell_type": "markdown",
   "id": "8c10e61a",
   "metadata": {
    "slideshow": {
     "slide_type": "slide"
    }
   },
   "source": [
    "### Both `elif` and `else` \"attach\" to the nearest `if` statement\n",
    "\n",
    "Any given `else` or `elif` statement is attached/associated with exactly one `if` statement (the one immediately above).  \n",
    "\n",
    "This means that we must be very *careful* to think about what each `else` statement is actually comparing against."
   ]
  },
  {
   "cell_type": "markdown",
   "id": "bb158781",
   "metadata": {
    "slideshow": {
     "slide_type": "slide"
    }
   },
   "source": [
    "### Check-in\n",
    "\n",
    "The following code ends up printing a contradiction (e.g., `A is True`, followed by `Neither A nor B are True`). Why is this happening?\n",
    "\n",
    "**Hint**: Think about what we just discussed––an `else` attaches to the nearest `if` statement."
   ]
  },
  {
   "cell_type": "code",
   "execution_count": null,
   "id": "00920007",
   "metadata": {
    "slideshow": {
     "slide_type": "-"
    }
   },
   "outputs": [],
   "source": [
    "A = True\n",
    "B = False\n",
    "C = True\n",
    "if A:\n",
    "    print(\"A is True\")\n",
    "if B:\n",
    "    print(\"B is True\")\n",
    "else:\n",
    "    print(\"Neither A nor B are True.\")"
   ]
  },
  {
   "cell_type": "markdown",
   "id": "61994e01",
   "metadata": {
    "slideshow": {
     "slide_type": "slide"
    }
   },
   "source": [
    "## More complex conditionals\n",
    "\n",
    "So far, we've dealt with fairly limited **conditional** statements:\n",
    "\n",
    "1. Each `if` checks only a single condition.  \n",
    "2. Relatively linear ordering: `if`, `elif`, then `else`.  \n",
    "\n",
    "But conditional statements can be considerably more complex:\n",
    "\n",
    "1. Each `if` statement can check multiple conditions using [logical operators](04-basics-syntax) like `or` and `and`.  \n",
    "2. Conditional statements can be **nested**.  "
   ]
  },
  {
   "cell_type": "markdown",
   "id": "4858d9a8",
   "metadata": {
    "slideshow": {
     "slide_type": "slide"
    }
   },
   "source": [
    "### Using `and` and `or`\n",
    "\n",
    "Recall that `and` and `or` can be used to evaluate *multiple* statements.  \n",
    "\n",
    "- `and` returns `True` if all statements are `True`.  \n",
    "- `or` returns `True` if at least one statement is `True`.  \n",
    "\n",
    "We can use these to check for more complex conditions."
   ]
  },
  {
   "cell_type": "code",
   "execution_count": null,
   "id": "c912c8bf",
   "metadata": {
    "slideshow": {
     "slide_type": "-"
    }
   },
   "outputs": [],
   "source": [
    "a = 20\n",
    "b = 30\n",
    "c = 40\n",
    "if b > a and c > b:\n",
    "    print(\"Both conditions are True.\")"
   ]
  },
  {
   "cell_type": "markdown",
   "id": "3cc75435",
   "metadata": {
    "slideshow": {
     "slide_type": "slide"
    }
   },
   "source": [
    "### Check-in\n",
    "\n",
    "Why does the top code block execute the code under the `if` statement, while the bottom one doesn't?"
   ]
  },
  {
   "cell_type": "code",
   "execution_count": null,
   "id": "4ce7f111",
   "metadata": {
    "slideshow": {
     "slide_type": "-"
    }
   },
   "outputs": [],
   "source": [
    "a = 20\n",
    "b = 30\n",
    "c = 25\n",
    "if b > a or c > b:\n",
    "    print(\"At least one condition is True.\")"
   ]
  },
  {
   "cell_type": "code",
   "execution_count": null,
   "id": "7aa6ca45",
   "metadata": {
    "slideshow": {
     "slide_type": "-"
    }
   },
   "outputs": [],
   "source": [
    "a = 20\n",
    "b = 30\n",
    "c = 25\n",
    "if b > a and c > b:\n",
    "    print(\"Both conditions are True.\")"
   ]
  },
  {
   "cell_type": "markdown",
   "id": "ee8d5ed8",
   "metadata": {
    "slideshow": {
     "slide_type": "slide"
    }
   },
   "source": [
    "### A simple use-case for `and`"
   ]
  },
  {
   "cell_type": "code",
   "execution_count": null,
   "id": "4d0c8057",
   "metadata": {
    "slideshow": {
     "slide_type": "-"
    }
   },
   "outputs": [],
   "source": [
    "is_password = True\n",
    "checking_account = 1000\n",
    "withdrawal = 500\n",
    "if is_password and (withdrawal < checking_account):\n",
    "    print(\"Withdrawal permitted.\")\n",
    "    checking_account -= withdrawal\n",
    "    print(str(checking_account) + \" left in checking.\")"
   ]
  },
  {
   "cell_type": "markdown",
   "id": "eb7f6ecf",
   "metadata": {
    "slideshow": {
     "slide_type": "slide"
    }
   },
   "source": [
    "### A simple use-case for `or`"
   ]
  },
  {
   "cell_type": "code",
   "execution_count": null,
   "id": "9fb7876c",
   "metadata": {
    "slideshow": {
     "slide_type": "-"
    }
   },
   "outputs": [],
   "source": [
    "is_dog = True\n",
    "is_cat = False\n",
    "if is_dog or is_cat:\n",
    "    print(\"This is a dog or cat.\")\n",
    "else:\n",
    "    print(\"This is neither a dog nor cat.\")"
   ]
  },
  {
   "cell_type": "markdown",
   "id": "17d9b8c7",
   "metadata": {
    "slideshow": {
     "slide_type": "slide"
    }
   },
   "source": [
    "### Check-in: `and` vs. `else`\n",
    "\n",
    "How would an `else` statement behave following an `if` statement using an `and` (e.g., `X and Y`)? (Choose either (1) or (2).)\n",
    "\n",
    "1. The `else` statement will run if both `X` and `Y` are `False`.  \n",
    "2. The `else` statement will run if at least one of `X` and `Y` is `False."
   ]
  },
  {
   "cell_type": "markdown",
   "id": "9b5a68f4",
   "metadata": {
    "slideshow": {
     "slide_type": "slide"
    }
   },
   "source": [
    "### Check-in: `or` vs. `else`\n",
    "\n",
    "How would an `else` statement behave following an `if` statement using an `or` (e.g., `X or Y`)? (Choose either (1) or (2).)\n",
    "\n",
    "1. The `else` statement will run if both `X` and `Y` are `False`.  \n",
    "2. The `else` statement will run if at least one of `X` and `Y` is `False."
   ]
  },
  {
   "cell_type": "markdown",
   "id": "de370716",
   "metadata": {
    "slideshow": {
     "slide_type": "slide"
    }
   },
   "source": [
    "### Using nested conditionals\n",
    "\n",
    "> A **nested conditional** is one that contains at least one `if` statement \"nested\" within another conditional statement."
   ]
  },
  {
   "cell_type": "code",
   "execution_count": null,
   "id": "3a4419a0",
   "metadata": {
    "slideshow": {
     "slide_type": "-"
    }
   },
   "outputs": [],
   "source": [
    "a = 8\n",
    "if a > 5:\n",
    "    if a >= 10:\n",
    "        print(\"A is greater than or equal to 10.\")\n",
    "    else:\n",
    "        print(\"A is bigger than 5, but smaller than 10.\")\n",
    "else:\n",
    "    print(\"A is smaller than or equal to 5.\")"
   ]
  },
  {
   "cell_type": "markdown",
   "id": "ee2c7ef8",
   "metadata": {
    "slideshow": {
     "slide_type": "slide"
    }
   },
   "source": [
    "### Nested `if` vs. `and`\n",
    "\n",
    "- A nested `if` statement functions similarly to an `and` statement.\n",
    "- In both cases, some block of code will only run if **both** conditions are met.  \n",
    "- The key difference is that a nested `if` statement allows you more **granularity** in terms of evaluating which conditions are met, and what to do in each case."
   ]
  },
  {
   "cell_type": "markdown",
   "id": "1410e72e",
   "metadata": {
    "slideshow": {
     "slide_type": "slide"
    }
   },
   "source": [
    "## Code Style: Indentation\n",
    "\n",
    "- With conditionals, it's hugely important that you keep track of your **indentation**.  \n",
    "- It's easy to introduce **bugs** by making something indented where it shouldn't be, or the other way around.  \n",
    "- Debugging practice:\n",
    "   - As before, read each line carefully.  \n",
    "   - Track the **state** of each variable.  \n",
    "   - Track whether a given conditional statement evaluates to `True` or `False`, and what would happen next."
   ]
  },
  {
   "cell_type": "markdown",
   "id": "6cd34b00",
   "metadata": {
    "slideshow": {
     "slide_type": "slide"
    }
   },
   "source": [
    "## Loops"
   ]
  },
  {
   "cell_type": "markdown",
   "id": "76d34621",
   "metadata": {
    "slideshow": {
     "slide_type": "slide"
    }
   },
   "source": [
    "## Control flow, revisited\n",
    "\n",
    "By default, Python commands are executed in a *linear* order, i.e., line by line.  \n",
    " - Unless we tell Python otherwise, *each line* will be executed once.\n",
    "\n",
    "But sometimes it's useful to **control**:\n",
    "1. Which lines get executed?\n",
    "2. How many times do those lines get executed?  \n",
    "\n",
    "These control \"parameters\" correspond, roughly, to:\n",
    "\n",
    "1. Conditional statements (`if/elif/else`).  \n",
    "2. Loops (e.g., `for` or `while`). "
   ]
  },
  {
   "cell_type": "markdown",
   "id": "d61c36e3",
   "metadata": {
    "slideshow": {
     "slide_type": "slide"
    }
   },
   "source": [
    "## Loops, explained\n",
    "\n",
    "> A **loop** is a way to repeat the same piece of code multiple times.\n"
   ]
  },
  {
   "cell_type": "markdown",
   "id": "838b115f",
   "metadata": {
    "slideshow": {
     "slide_type": "slide"
    }
   },
   "source": [
    "### When should you use a loop?\n",
    "\n",
    "**Rule of thumb**: if you find yourself copying/pasting the same code many different times...you might think about using a loop!  \n",
    "\n",
    "More generally: in programming, we often want to execute the same action *multiple times*. \n",
    "\n",
    "- Apply the same instruction to every item on a `list`.  \n",
    "- Continue running some code until a condition is met.  "
   ]
  },
  {
   "cell_type": "markdown",
   "id": "e8fffb2b",
   "metadata": {
    "slideshow": {
     "slide_type": "slide"
    }
   },
   "source": [
    "### A loop is an example of *iteration*\n",
    "\n",
    "> Iteration simply means: repeating some sequence of instructions until a specific end result is achieved.\n",
    "\n",
    "That \"end result\" could be any number of things:\n",
    "\n",
    "- You reach the end of a `list`.  \n",
    "- Some other condition is met.  \n",
    "\n",
    "In general, we'll use the term **iterate** to mean \"do over and over again\".\n",
    "\n",
    "- The expression \"iterate over a list\" means: *Do X to every item of that list*. "
   ]
  },
  {
   "cell_type": "markdown",
   "id": "2e21d1f8",
   "metadata": {
    "slideshow": {
     "slide_type": "slide"
    }
   },
   "source": [
    "### Two kinds of loops\n",
    "\n",
    "There are two main kinds of loops you'll use in Python: `for` loops and `while` loops.\n",
    "\n",
    "- A `for` loop runs some code for every item of a `list` or sequence.\n",
    "- A `while` loop runs a piece of code until some condition is met (e.g., `while condition == True`). \n",
    "\n",
    "Today, we'll focus on `for` loops."
   ]
  },
  {
   "cell_type": "markdown",
   "id": "5b8f2852",
   "metadata": {
    "slideshow": {
     "slide_type": "slide"
    }
   },
   "source": [
    "### Side note: lists\n",
    "\n",
    "- We haven't discussed `list` objects in detail yet, but we will introduce them as part of the lecture today.  \n",
    "- High-level: \n",
    "   - A `list` is an ordered collection of elements.  \n",
    "   - Different elements can be accessed by **indexing** through the list."
   ]
  },
  {
   "cell_type": "code",
   "execution_count": null,
   "id": "7b1e11ad",
   "metadata": {
    "slideshow": {
     "slide_type": "-"
    }
   },
   "outputs": [],
   "source": [
    "## This is a list in Python\n",
    "numbers = [1, 2, 3]\n",
    "### This is how we \"index\" particular elements in that list\n",
    "numbers[0]"
   ]
  },
  {
   "cell_type": "markdown",
   "id": "170f9fc1",
   "metadata": {
    "slideshow": {
     "slide_type": "slide"
    }
   },
   "source": [
    "## `for` loops in action\n",
    "\n",
    "> A `for` loop is used for [iterating over a sequence](https://www.w3schools.com/python/python_for_loops.asp). \n",
    "\n",
    "A `for` loop uses the syntax: `for elem in list_name: ...`"
   ]
  },
  {
   "cell_type": "code",
   "execution_count": null,
   "id": "7b8733b7",
   "metadata": {
    "slideshow": {
     "slide_type": "-"
    }
   },
   "outputs": [],
   "source": [
    "## This is a list in Python\n",
    "n = [1, 2, 3]\n",
    "### This is a for loop\n",
    "for i in n:  \n",
    "    print(i ** 2)"
   ]
  },
  {
   "cell_type": "markdown",
   "id": "8a4dac63",
   "metadata": {
    "slideshow": {
     "slide_type": "slide"
    }
   },
   "source": [
    "### Check-in\n",
    "\n",
    "What do you expect the following code block to do, if you executed it?\n",
    "\n",
    "```python\n",
    "for l in \"apple\":\n",
    "    print(l)\n",
    "```"
   ]
  },
  {
   "cell_type": "markdown",
   "id": "0e6da225",
   "metadata": {
    "slideshow": {
     "slide_type": "slide"
    }
   },
   "source": [
    "A `for` loop tells Python to **iterate** over each element in a sequence.\n",
    "\n",
    "The **content** of that loop––the **indented code** underneath the `for` statement––tells Python what to do each time."
   ]
  },
  {
   "cell_type": "code",
   "execution_count": null,
   "id": "d22f7173",
   "metadata": {
    "slideshow": {
     "slide_type": "-"
    }
   },
   "outputs": [],
   "source": [
    "for l in \"apple\":\n",
    "    print(l)"
   ]
  },
  {
   "cell_type": "markdown",
   "id": "c5fd42de",
   "metadata": {
    "slideshow": {
     "slide_type": "slide"
    }
   },
   "source": [
    "### Check-in\n",
    "\n",
    "Approximately how many lines of code would we need if we wanted to `print` each element of a `list` with **100 items**, *without* using any kind of loop? (I.e., copy/paste the same code?)"
   ]
  },
  {
   "cell_type": "markdown",
   "id": "cc188acd",
   "metadata": {
    "slideshow": {
     "slide_type": "slide"
    }
   },
   "source": [
    "### Compare and contrast"
   ]
  },
  {
   "cell_type": "code",
   "execution_count": null,
   "id": "382299de",
   "metadata": {
    "slideshow": {
     "slide_type": "-"
    }
   },
   "outputs": [],
   "source": [
    "### This code prints each number independently\n",
    "numbers = [1, 2, 3, 4, 5]\n",
    "print(numbers[0])\n",
    "print(numbers[1])\n",
    "print(numbers[2])\n",
    "print(numbers[3])\n",
    "print(numbers[4])"
   ]
  },
  {
   "cell_type": "code",
   "execution_count": null,
   "id": "e5979716",
   "metadata": {
    "slideshow": {
     "slide_type": "-"
    }
   },
   "outputs": [],
   "source": [
    "### This code iterates through the list\n",
    "numbers = [1, 2, 3, 4, 5]\n",
    "for number in numbers:\n",
    "    print(number)"
   ]
  },
  {
   "cell_type": "markdown",
   "id": "39e5c41e",
   "metadata": {
    "slideshow": {
     "slide_type": "slide"
    }
   },
   "source": [
    "### What can you use a `for` loop on?\n",
    "\n",
    "> You can use a `for` loop on any **sequence**.\n",
    "\n",
    "We'll talk more about sequences next week, but they include:\n",
    "\n",
    "- Lists, e.g., `[1, 2, 10]`.  \n",
    "- Strings, e.g., `\"apple\"`. \n",
    "- Ranges, e.g., `range(10)`\n",
    "\n"
   ]
  },
  {
   "cell_type": "markdown",
   "id": "8415116b",
   "metadata": {
    "slideshow": {
     "slide_type": "slide"
    }
   },
   "source": [
    "### Introducing `range`\n",
    "\n",
    "> `range` is an **operator** used to create a range of numbers, e.g., from 0 to 100. It's very useful if your main goal is to execute some code $N$ times.\n",
    "\n",
    "Note that `range(10)` will return an iterable object of 10 numbers from *0* to *9*."
   ]
  },
  {
   "cell_type": "code",
   "execution_count": null,
   "id": "ae010a9a",
   "metadata": {
    "slideshow": {
     "slide_type": "-"
    }
   },
   "outputs": [],
   "source": [
    "for i in range(10):\n",
    "    print(i)"
   ]
  },
  {
   "cell_type": "markdown",
   "id": "558f0cd2",
   "metadata": {
    "slideshow": {
     "slide_type": "slide"
    }
   },
   "source": [
    "If you want to start at a different number (e.g., `3`), you can enter that as an argument as well."
   ]
  },
  {
   "cell_type": "code",
   "execution_count": null,
   "id": "a53039ba",
   "metadata": {
    "slideshow": {
     "slide_type": "-"
    }
   },
   "outputs": [],
   "source": [
    "for i in range(3, 10):\n",
    "    print(i)"
   ]
  },
  {
   "cell_type": "markdown",
   "id": "88ef57a9",
   "metadata": {
    "slideshow": {
     "slide_type": "slide"
    }
   },
   "source": [
    "Remember: `range` will produce numbers going all the way up to $N - 1$, *not* $N$. "
   ]
  },
  {
   "cell_type": "code",
   "execution_count": null,
   "id": "0eb4f4d5",
   "metadata": {
    "slideshow": {
     "slide_type": "-"
    }
   },
   "outputs": [],
   "source": [
    "for i in range(5):\n",
    "    print(i)"
   ]
  },
  {
   "cell_type": "markdown",
   "id": "d6dac74f",
   "metadata": {
    "slideshow": {
     "slide_type": "slide"
    }
   },
   "source": [
    "### Check-in\n",
    "\n",
    "Write a `for` loop that `print`s out every letter in the string `\"CSS\"`."
   ]
  },
  {
   "cell_type": "code",
   "execution_count": null,
   "id": "9542eaad",
   "metadata": {
    "slideshow": {
     "slide_type": "-"
    }
   },
   "outputs": [],
   "source": [
    "## First, define a string using something like: word = \"CSS\"\n",
    "for l in 'CSS':\n",
    "    print(l)"
   ]
  },
  {
   "cell_type": "markdown",
   "id": "1427a506",
   "metadata": {
    "slideshow": {
     "slide_type": "slide"
    }
   },
   "source": [
    "### Check-in\n",
    "\n",
    "Write a `for` loop that `print`s out every letter in the string `\"Computational Social Science\"`, **except for the spaces**.\n",
    "\n",
    "**HINT**: Think about how you could combine a `for` loop with an `if` statement."
   ]
  },
  {
   "cell_type": "code",
   "execution_count": null,
   "id": "c0a6f7d2",
   "metadata": {
    "slideshow": {
     "slide_type": "-"
    }
   },
   "outputs": [],
   "source": [
    "## First, define a string using something like: word = \"Computational Social Science\"\n",
    "s = 'Computational Social Sciences'\n",
    "for l in s:\n",
    "    if l != ' ':\n",
    "        print(l, end = '')"
   ]
  },
  {
   "cell_type": "markdown",
   "id": "9ae9dad8",
   "metadata": {
    "slideshow": {
     "slide_type": "slide"
    }
   },
   "source": [
    "## Loops and conditionals, *combined* \n",
    "\n",
    "The real expressive power of a `for` loop comes into play when we use **conditional statements**.\n",
    "\n",
    "- Remember that an `if` statement allows us to run a piece of code *only if* some condition is met.  "
   ]
  },
  {
   "cell_type": "markdown",
   "id": "65d9a2ab",
   "metadata": {
    "slideshow": {
     "slide_type": "slide"
    }
   },
   "source": [
    "### Check-in\n",
    "\n",
    "Why/how could an `if` statement be helpful when using a `for` loop? "
   ]
  },
  {
   "cell_type": "markdown",
   "id": "58fbfb1d",
   "metadata": {
    "slideshow": {
     "slide_type": "slide"
    }
   },
   "source": [
    "### `for` and `if`: a simple use-case\n",
    "\n",
    "Suppose you are instructed to write a program that prints out all the **even numbers** between 1 and 11.\n",
    "\n",
    "Breaking the problem down:\n",
    "\n",
    "1. First, we want to **iterate** through a `range` from `(1, 11)`.  \n",
    "2. Then, we want to check `if` each element of that range is **even**.  \n",
    "3. `if` a given element is even, we `print` it out."
   ]
  },
  {
   "cell_type": "markdown",
   "id": "477774fd",
   "metadata": {
    "slideshow": {
     "slide_type": "slide"
    }
   },
   "source": [
    "#### Check-in\n",
    "\n",
    "How might we determine if a number is even?\n",
    "\n",
    "**Hint**: Think about the *modulo* operator (`%`)."
   ]
  },
  {
   "cell_type": "markdown",
   "id": "e41e0086",
   "metadata": {
    "slideshow": {
     "slide_type": "slide"
    }
   },
   "source": [
    "#### `print`ing even numbers in `range(1, 22)`"
   ]
  },
  {
   "cell_type": "code",
   "execution_count": null,
   "id": "3615ff81",
   "metadata": {
    "slideshow": {
     "slide_type": "-"
    }
   },
   "outputs": [],
   "source": [
    "for num in range(1, 6): ## for loop\n",
    "    if num % 2 == 0:  ## conditional statement\n",
    "        print(num)  ## the code we want to execute"
   ]
  },
  {
   "cell_type": "markdown",
   "id": "6853b530",
   "metadata": {
    "slideshow": {
     "slide_type": "slide"
    }
   },
   "source": [
    "### Check-in\n",
    "\n",
    "Suppose you're going grocery shopping. Here are the costs of each item:"
   ]
  },
  {
   "cell_type": "code",
   "execution_count": null,
   "id": "4a541538",
   "metadata": {
    "slideshow": {
     "slide_type": "-"
    }
   },
   "outputs": [],
   "source": [
    "costs = [5, 8, 4, 10, 15]\n",
    "total_bill = 0\n",
    "for prod in costs:\n",
    "    if prod < 9:\n",
    "        total_bill += prod # (+= same as \"total_bill = total_bill + prod\")\n",
    "print(total_bill)"
   ]
  },
  {
   "cell_type": "markdown",
   "id": "62b5b87f",
   "metadata": {
    "slideshow": {
     "slide_type": "-"
    }
   },
   "source": [
    "You want to keep your costs low, so you decide not to buy anything above $9. How would you write a `for` loop that:\n",
    "\n",
    "- Iterates through `costs`.  \n",
    "- Tracks a `final_bill` variable.  \n",
    "- Only adds items to `final_bill` if they're below 9$?\n",
    "\n",
    "Try to implement this code before looking at the solution below."
   ]
  },
  {
   "cell_type": "code",
   "execution_count": null,
   "id": "701347b1",
   "metadata": {
    "slideshow": {
     "slide_type": "-"
    }
   },
   "outputs": [],
   "source": [
    "#### YOUR CODE HERE"
   ]
  },
  {
   "cell_type": "markdown",
   "id": "0c2f88ff",
   "metadata": {
    "slideshow": {
     "slide_type": "slide"
    }
   },
   "source": [
    "## Controlling `for` loops\n",
    "\n",
    "Sometimes, you may want an even finer degree of control over `for` loops. There are two commands that give you this control:\n",
    "\n",
    "1. `continue`: tells the `for` loop to **continue** onto the next item in the list (i.e., without necessarily doing anything with the current item). \n",
    "2. `break`: **cancels/stops** the `for` loop."
   ]
  },
  {
   "cell_type": "markdown",
   "id": "14333966",
   "metadata": {
    "slideshow": {
     "slide_type": "slide"
    }
   },
   "source": [
    "### `break` in action\n",
    "\n",
    "The following code iterates through a `range`, and `break`s once it gets to `5`."
   ]
  },
  {
   "cell_type": "code",
   "execution_count": null,
   "id": "3ace4eba",
   "metadata": {
    "slideshow": {
     "slide_type": "-"
    }
   },
   "outputs": [],
   "source": [
    "for num in range(1, 10):\n",
    "    if num == 6:\n",
    "        break\n",
    "    print(num)\n",
    "\n",
    "print('back to the flow')"
   ]
  },
  {
   "cell_type": "markdown",
   "id": "682edbe2",
   "metadata": {
    "slideshow": {
     "slide_type": "slide"
    }
   },
   "source": [
    "### `continue` in action\n",
    "\n",
    "The following code iterates through a `range`, and `continue`s once it gets to `5` (i.e., \"skips\")."
   ]
  },
  {
   "cell_type": "code",
   "execution_count": null,
   "id": "d9e78d4d",
   "metadata": {
    "slideshow": {
     "slide_type": "-"
    }
   },
   "outputs": [],
   "source": [
    "for num in range(1, 10):\n",
    "    if num == 5:\n",
    "        continue\n",
    "    print(num)"
   ]
  },
  {
   "cell_type": "markdown",
   "id": "2b540a9e",
   "metadata": {
    "slideshow": {
     "slide_type": "slide"
    }
   },
   "source": [
    "### Check-in\n",
    "\n",
    "How are `break` and `continue` different?"
   ]
  },
  {
   "cell_type": "markdown",
   "id": "321c1b48",
   "metadata": {
    "slideshow": {
     "slide_type": "slide"
    }
   },
   "source": [
    "## Nested `for` loops\n",
    "\n",
    "Just as we can **nest** conditional statements, we can also nest **loops**.  \n",
    "\n",
    "> A **nested loop** is a `for` or `while` loop contained *within* another `for` or `while` loop.\n",
    "\n",
    "As with nested `if` statements, it's very important to **be careful about your indentation**."
   ]
  },
  {
   "cell_type": "markdown",
   "id": "218d2860",
   "metadata": {
    "slideshow": {
     "slide_type": "slide"
    }
   },
   "source": [
    "### Nested loops in action (pt. 1)"
   ]
  },
  {
   "cell_type": "code",
   "execution_count": null,
   "id": "8568edfb",
   "metadata": {
    "slideshow": {
     "slide_type": "-"
    }
   },
   "outputs": [],
   "source": [
    "professors = ['Mignozzetti', 'Styler', 'Trott']\n",
    "classes = ['POLI 30', 'CSS 1']\n",
    "for y in professors:\n",
    "    for x in classes:\n",
    "        print(\"Is {cl} taught by {prof}?\".format(cl = x, prof = y))"
   ]
  },
  {
   "cell_type": "markdown",
   "id": "14f3882b",
   "metadata": {
    "slideshow": {
     "slide_type": "slide"
    }
   },
   "source": [
    "### Nested loops in action (pt. 2)\n",
    "\n",
    "**Note**: The `end = \" \"` parameter in the `print` function just tells Python not to print the `str` on a new line."
   ]
  },
  {
   "cell_type": "code",
   "execution_count": null,
   "id": "f3576464",
   "metadata": {
    "slideshow": {
     "slide_type": "-"
    }
   },
   "outputs": [],
   "source": [
    "for i in range(1, 6):\n",
    "    for j in range(1, i + 1):\n",
    "        print(\"*\", end=\" \")\n",
    "    print(\" \")"
   ]
  },
  {
   "cell_type": "markdown",
   "id": "8fa83d83",
   "metadata": {
    "slideshow": {
     "slide_type": "slide"
    }
   },
   "source": [
    "### A note of caution\n",
    "\n",
    "- Nested `for` loops can take a very long to execute if:\n",
    "   - Your `list`s are very long.  \n",
    "   - You have many, many levels of nesting.  \n",
    "- Technically, the code in a nested for loop will run $N * M$ times, where $N$ is the length of the **outer loop**, and $M$ is the length of the **inner loop**.  \n",
    "   - This is beyond this course, but [making programs more efficient is an important part of Computer Science](https://en.wikipedia.org/wiki/Big_O_notation).  "
   ]
  },
  {
   "cell_type": "markdown",
   "id": "b0d2dd53",
   "metadata": {
    "slideshow": {
     "slide_type": "slide"
    }
   },
   "source": [
    "## `while` loops\n",
    "\n",
    "> A `while` loop is a procedure to repeat the same piece of code `while` some condition is met.\n",
    "\n",
    "For example:\n",
    "\n",
    "- Add numbers to a `shopping_bill` variable `while shopping_bill < 50`.  \n",
    "- Increase a `temperature` variable `while temperature < 85`.  \n",
    "- `while` some condition is met, continue running a **simulation**. "
   ]
  },
  {
   "cell_type": "markdown",
   "id": "a01ee9ec",
   "metadata": {
    "slideshow": {
     "slide_type": "slide"
    }
   },
   "source": [
    "### Check-in\n",
    "\n",
    "How are `for` and `while` loops similar? How are they different?"
   ]
  },
  {
   "cell_type": "markdown",
   "id": "c9bc7719",
   "metadata": {
    "slideshow": {
     "slide_type": "slide"
    }
   },
   "source": [
    "### `while` loops in action\n",
    "\n",
    "A `while` loop is created using the `while` keyword, following by a **condition**. As long as this condition is met, the `while` loop will continue!  \n",
    "\n",
    "In the code below:\n",
    "\n",
    "- The `start` variable begins at `0`.  \n",
    "- We then declare a `while` loop, which will run as long as `start < 2`.  \n",
    "- Then, the `start` variable is incremented by `1` with each **iteration**, guaranteeing that eventually we'll reach the condition where `start >= 2` (thus \"breaking\" the loop)."
   ]
  },
  {
   "cell_type": "code",
   "execution_count": null,
   "id": "6518d5d5",
   "metadata": {
    "slideshow": {
     "slide_type": "-"
    }
   },
   "outputs": [],
   "source": [
    "while start < 10: ### Conditional statement\n",
    "    print(start)\n",
    "    start += 1"
   ]
  },
  {
   "cell_type": "markdown",
   "id": "4da2d601",
   "metadata": {
    "slideshow": {
     "slide_type": "slide"
    }
   },
   "source": [
    "### Iterating through a `list`\n",
    "\n",
    "`while` loops are often used to iterate through a `list`. \n",
    "\n",
    "To do this, we use an **index** variable, which simply keeps track of \"where\" in the list we are.\n",
    "\n",
    "- Recall that we can **index** into a `list` using the syntax `list_name[0]`. \n",
    "- We can also retrieve the **length** of that `list` using `len(list_name)`.  "
   ]
  },
  {
   "cell_type": "code",
   "execution_count": null,
   "id": "434ac8f3",
   "metadata": {
    "slideshow": {
     "slide_type": "-"
    }
   },
   "outputs": [],
   "source": [
    "numbers = [1, 2, 3] ## List to iterate through\n",
    "index = 0 ## Start index at 0\n",
    "while index < len(numbers):\n",
    "    print(\"Index: {i}. Number: {n}.\".format(n = numbers[index], i = index))\n",
    "    index += 1"
   ]
  },
  {
   "cell_type": "markdown",
   "id": "7fc5727d",
   "metadata": {
    "slideshow": {
     "slide_type": "slide"
    }
   },
   "source": [
    "### Check-in\n",
    "\n",
    "You want to keep your grocery costs low, so you decide not to buy anything above 9. How would you write a `while` loop that:\n",
    "\n",
    "- Iterates through `costs`.  \n",
    "- Tracks a `final_bill` variable.  \n",
    "- Only adds items to `final_bill` if they're below 9$?\n",
    "\n",
    "**Hints**:\n",
    "\n",
    "- You can retrieve the *length* of a list using `len(list_name)`.  \n",
    "- If you're using an *index*, remember to **increment** it so you don't get stuck in a loop."
   ]
  },
  {
   "cell_type": "code",
   "execution_count": null,
   "id": "2c3f757b",
   "metadata": {
    "slideshow": {
     "slide_type": "-"
    }
   },
   "outputs": [],
   "source": [
    "costs = [5, 8, 4, 10, 15]\n",
    "#### YOUR CODE HERE"
   ]
  },
  {
   "cell_type": "markdown",
   "id": "2038b863",
   "metadata": {
    "slideshow": {
     "slide_type": "slide"
    }
   },
   "source": [
    "### Stuck in a loop?\n",
    "\n",
    "A common issue that programmers encounter is getting \"stuck\" in an **infinite** `while` loop. This happens because they haven't ensured that the **condition** will eventually evaluate as `False`.  \n",
    "\n",
    "- This is surprisingly easy to do, even as an experienced programmer.  \n",
    "- For this reason, I typically prefer to use a `for` loop rather than a `while` loop, unless I absolutely have to.\n",
    "\n",
    "If you **do** find yourself stuck, you can \"cancel\" the loop manually:\n",
    "\n",
    "- Pressing the **Stop** button in the Jupyter toolbar. \n",
    "- Pressing `Command + C` in the Terminal.  "
   ]
  },
  {
   "cell_type": "markdown",
   "id": "76336178",
   "metadata": {
    "slideshow": {
     "slide_type": "slide"
    }
   },
   "source": [
    "### Check-in\n",
    "\n",
    "What will the final value of `room_temperature` be if the following `while` loop is run? What about the final value of `body_temperature`?"
   ]
  },
  {
   "cell_type": "code",
   "execution_count": null,
   "id": "496e2400",
   "metadata": {
    "slideshow": {
     "slide_type": "-"
    }
   },
   "outputs": [],
   "source": [
    "room_temperature = 40\n",
    "body_temperature = 92\n",
    "while room_temperature < 70:\n",
    "    room_temperature += 1\n",
    "    body_temperature += .2"
   ]
  },
  {
   "cell_type": "markdown",
   "id": "f1361888",
   "metadata": {
    "slideshow": {
     "slide_type": "slide"
    }
   },
   "source": [
    "## Some (challenging) practice"
   ]
  },
  {
   "cell_type": "markdown",
   "id": "e74d3566",
   "metadata": {
    "slideshow": {
     "slide_type": "slide"
    }
   },
   "source": [
    "### Practice 1\n",
    "\n",
    "Write a `while` loop to count the number of **vowels** in a string. The code block below starts with a `list` of vowels alreay, which you can use to cross-reference when iterating through a string.\n",
    "\n",
    "**Hint**: If you're feeling extra ambitious, you might think about how to handle *upper-case* vowels."
   ]
  },
  {
   "cell_type": "code",
   "execution_count": null,
   "id": "1fd42b6a",
   "metadata": {
    "slideshow": {
     "slide_type": "-"
    }
   },
   "outputs": [],
   "source": [
    "vowels = ['a', 'e', 'i', 'o', 'u']\n",
    "example_string = \"CSS is great\"\n",
    "### Your code here"
   ]
  },
  {
   "cell_type": "markdown",
   "id": "1f263321",
   "metadata": {
    "slideshow": {
     "slide_type": "slide"
    }
   },
   "source": [
    "### Practice 2\n",
    "\n",
    "Write a `for` loop that:\n",
    "\n",
    "- Iterates through a `list` of numbers.  \n",
    "- `if` the number (e.g., `i`) is **even**, iterates through a **nested** `for` loop of all those same numbers, and...\n",
    "   - `if` a given number is **odd** `and` larger than `i`, `print`s out the sum of those numbers.\n",
    "   \n",
    "**Hint**: Remember that `%` can be used to figure out whether a given number is divisible by 2 (e.g., `4 % 2 == 0`). "
   ]
  },
  {
   "cell_type": "code",
   "execution_count": null,
   "id": "fbe765f1",
   "metadata": {
    "slideshow": {
     "slide_type": "-"
    }
   },
   "outputs": [],
   "source": [
    "### Your code here"
   ]
  },
  {
   "cell_type": "markdown",
   "id": "fc098dc8",
   "metadata": {
    "slideshow": {
     "slide_type": "slide"
    }
   },
   "source": [
    "### Practice 3\n",
    "\n",
    "Create a command prompt that runs forever, showing for the user: `You typed: ` and adding what the user typed. The command prompt has to stop when the user types `exit`."
   ]
  },
  {
   "cell_type": "code",
   "execution_count": null,
   "id": "aeb2b007",
   "metadata": {},
   "outputs": [],
   "source": [
    "### Your code here"
   ]
  },
  {
   "cell_type": "markdown",
   "id": "6a5858e4",
   "metadata": {
    "slideshow": {
     "slide_type": "slide"
    }
   },
   "source": [
    "### Practice 4\n",
    "\n",
    "Create a command prompt that runs forever, showing for the user how many times she used the letters `a`, `e`, `i`, `o`, `u`, and `y`. The command prompt has to stop when the user types `exit`."
   ]
  },
  {
   "cell_type": "code",
   "execution_count": null,
   "id": "5daccd99",
   "metadata": {},
   "outputs": [],
   "source": [
    "### Your code here"
   ]
  },
  {
   "cell_type": "markdown",
   "id": "4f01d73f",
   "metadata": {
    "slideshow": {
     "slide_type": "slide"
    }
   },
   "source": [
    "# Strings in Python"
   ]
  },
  {
   "cell_type": "markdown",
   "id": "14c0fb0a",
   "metadata": {
    "slideshow": {
     "slide_type": "slide"
    }
   },
   "source": [
    "## What is a string?\n",
    "\n",
    "> A **string** is a *sequence* of characters. It belongs to the `str` type in Python.\n",
    "\n",
    "A string stores characters as text, and is created using either single (`''`) or double (`\"\"`) quotes.\n",
    "\n",
    "Note that although strings are often used to store *words*, this isn't necessarily the case. A string could be:"
   ]
  },
  {
   "cell_type": "code",
   "execution_count": null,
   "id": "659cc36c",
   "metadata": {
    "slideshow": {
     "slide_type": "-"
    }
   },
   "outputs": [],
   "source": [
    "\"dog\\tand\\tcat\""
   ]
  },
  {
   "cell_type": "code",
   "execution_count": null,
   "id": "c7222fbf",
   "metadata": {
    "slideshow": {
     "slide_type": "-"
    }
   },
   "outputs": [],
   "source": [
    "\"abcdef\""
   ]
  },
  {
   "cell_type": "code",
   "execution_count": null,
   "id": "067a818b",
   "metadata": {
    "slideshow": {
     "slide_type": "-"
    }
   },
   "outputs": [],
   "source": [
    "\"1 + 4\""
   ]
  },
  {
   "cell_type": "markdown",
   "id": "f27dd7c9",
   "metadata": {
    "slideshow": {
     "slide_type": "-"
    }
   },
   "source": [
    "With many more possibilities. Basically, *any* character that you wrap with quotes becomes part of a `str` in Python."
   ]
  },
  {
   "cell_type": "markdown",
   "id": "17ee597e",
   "metadata": {
    "slideshow": {
     "slide_type": "slide"
    }
   },
   "source": [
    "### Multi-line strings\n",
    "\n",
    "Multi-line strings can be defined using `\"\"\" \"\"\"`, as below."
   ]
  },
  {
   "cell_type": "code",
   "execution_count": null,
   "id": "40c5e850",
   "metadata": {
    "slideshow": {
     "slide_type": "-"
    }
   },
   "outputs": [],
   "source": [
    "long_str = \"\"\"\n",
    "This string spans multiple lines.\n",
    "    This is the second line.\n",
    "\\\"This is the third line.\\\"\n",
    "Umberto's\n",
    "{} and {}.\n",
    "\"\"\"\n",
    "print(long_str.format('{}','house'))"
   ]
  },
  {
   "cell_type": "markdown",
   "id": "532ee3e8",
   "metadata": {
    "slideshow": {
     "slide_type": "slide"
    }
   },
   "source": [
    "### Side note: a `str` is a kind of sequence\n",
    "\n",
    "> A **sequence** is a collection of items (e.g., numbers, characters, etc.) with some *determined order*.  \n",
    "\n",
    "A `list` and `str` are both kinds of sequences. \n",
    "\n",
    "We'll discuss **sequences** more when we talk about `list`s, but there are a couple of important properties to remember:\n",
    "\n",
    "- Sequences have a particular *order*.  \n",
    "- You can **index** into a sequence to obtain the item at a particular position.  "
   ]
  },
  {
   "cell_type": "markdown",
   "id": "63be9d74",
   "metadata": {
    "slideshow": {
     "slide_type": "slide"
    }
   },
   "source": [
    "### Checking whether something is a `str`\n",
    "\n",
    "Recall that you can check the **type** of a variable using `type`."
   ]
  },
  {
   "cell_type": "code",
   "execution_count": null,
   "id": "5fd3656c",
   "metadata": {
    "slideshow": {
     "slide_type": "-"
    }
   },
   "outputs": [],
   "source": [
    "type(\"This is a sentence.\")"
   ]
  },
  {
   "cell_type": "code",
   "execution_count": null,
   "id": "c5b30c7c",
   "metadata": {
    "slideshow": {
     "slide_type": "-"
    }
   },
   "outputs": [],
   "source": [
    "type(\"1 + 4\")"
   ]
  },
  {
   "cell_type": "code",
   "execution_count": null,
   "id": "0cad8c0e",
   "metadata": {
    "slideshow": {
     "slide_type": "-"
    }
   },
   "outputs": [],
   "source": [
    "type(1 + 4)"
   ]
  },
  {
   "cell_type": "markdown",
   "id": "9e298aac",
   "metadata": {
    "slideshow": {
     "slide_type": "slide"
    }
   },
   "source": [
    "### Check-in\n",
    "\n",
    "Which of the following variables would evaluate to a `str`?"
   ]
  },
  {
   "cell_type": "code",
   "execution_count": null,
   "id": "10df57b0",
   "metadata": {
    "slideshow": {
     "slide_type": "-"
    }
   },
   "outputs": [],
   "source": [
    "x1 = 1.5\n",
    "x2 = True\n",
    "x3 = \"2 * 100\""
   ]
  },
  {
   "cell_type": "markdown",
   "id": "9452484e",
   "metadata": {
    "slideshow": {
     "slide_type": "slide"
    }
   },
   "source": [
    "## Why care about strings?\n",
    "\n",
    "**Strings** are incredibly useful and versatile, so it's important to understand how they work and how to manipulate them.\n",
    "\n",
    "Common uses of strings:\n",
    "\n",
    "- Pretty much all text data is stored as a `str` (e.g., a text corpus, a word, etc.).  \n",
    "- Storing information that can't be represented as `int` or `bool`, such as **password**.  \n",
    "- Declaring **features** of an object in Python that can't be represented as `int` or `bool`. \n",
    "- Representing a **filename**.\n",
    "\n",
    "Strings are so useful that virtually all programming languages have something like a `str` type."
   ]
  },
  {
   "cell_type": "markdown",
   "id": "51de795e",
   "metadata": {
    "slideshow": {
     "slide_type": "slide"
    }
   },
   "source": [
    "## Working with strings: basic operations\n",
    "\n",
    "Today, we're going to focus on a few **basic operations** we can use with strings. In a future lecture, we'll talk about more complex operations.\n",
    "\n",
    "The basic operations include:\n",
    "\n",
    "1. Getting the length (`len`) of a string.  \n",
    "2. Indexing into a string (`string_name[0]`).  \n",
    "3. Looping through a string (`for ch in string_name...`).  \n",
    "\n",
    "You'll note that each of these operations can also be applied to a `list` type!"
   ]
  },
  {
   "cell_type": "markdown",
   "id": "0ba02fba",
   "metadata": {
    "slideshow": {
     "slide_type": "slide"
    }
   },
   "source": [
    "### Calculating string length with `len`\n",
    "\n",
    "> The `len` operator calculates the number of characters in a `str` (or `list`).  "
   ]
  },
  {
   "cell_type": "code",
   "execution_count": null,
   "id": "192536f6",
   "metadata": {
    "slideshow": {
     "slide_type": "-"
    }
   },
   "outputs": [],
   "source": [
    "x1 = \"CSS 201 jhdfkjahsdjfh kfjdhsfkjhasdkjhf. fkjdhsaklfjasdf\"\n",
    "print(len(x1))"
   ]
  },
  {
   "cell_type": "code",
   "execution_count": null,
   "id": "0f0ab10c",
   "metadata": {
    "slideshow": {
     "slide_type": "-"
    }
   },
   "outputs": [],
   "source": [
    "x2 = \"class\"\n",
    "print(len(x2))"
   ]
  },
  {
   "cell_type": "markdown",
   "id": "dd7c590a",
   "metadata": {
    "slideshow": {
     "slide_type": "slide"
    }
   },
   "source": [
    "#### Check-in\n",
    "\n",
    "How many characters are in the string `\"2 + 2\"`?\n",
    "\n",
    "Try answering before you try typing in the expression."
   ]
  },
  {
   "cell_type": "markdown",
   "id": "35555964",
   "metadata": {
    "slideshow": {
     "slide_type": "slide"
    }
   },
   "source": [
    "#### Spaces count as characters!\n",
    "\n",
    "An empty space (`\" \"`) counts as a character in Python.\n",
    "\n",
    "Thus, the `str` `\"big dog\"` has one extra character than the `str` `\"bigdog\"`. "
   ]
  },
  {
   "cell_type": "code",
   "execution_count": null,
   "id": "93b8e83d",
   "metadata": {
    "slideshow": {
     "slide_type": "-"
    }
   },
   "outputs": [],
   "source": [
    "len(\"big dog\")"
   ]
  },
  {
   "cell_type": "code",
   "execution_count": null,
   "id": "578c1104",
   "metadata": {
    "slideshow": {
     "slide_type": "-"
    }
   },
   "outputs": [],
   "source": [
    "len(\"bigdog\")"
   ]
  },
  {
   "cell_type": "markdown",
   "id": "d9ad2f5a",
   "metadata": {
    "slideshow": {
     "slide_type": "slide"
    }
   },
   "source": [
    "#### Check-in\n",
    "\n",
    "How many characters are in the `str` below?"
   ]
  },
  {
   "cell_type": "code",
   "execution_count": null,
   "id": "2e9624ff",
   "metadata": {
    "slideshow": {
     "slide_type": "-"
    }
   },
   "outputs": [],
   "source": [
    "str_test = \"Computational Social Science is fun.\""
   ]
  },
  {
   "cell_type": "markdown",
   "id": "181eb5a2",
   "metadata": {
    "slideshow": {
     "slide_type": "slide"
    }
   },
   "source": [
    "#### Putting quotes into a string\n",
    "\n",
    "Certain characters, like quotes, require an **escape** character if you want to put them into a string. Otherwise they'll simply *end* the string."
   ]
  },
  {
   "cell_type": "code",
   "execution_count": null,
   "id": "68c4a8c1",
   "metadata": {
    "slideshow": {
     "slide_type": "-"
    }
   },
   "outputs": [],
   "source": [
    "quote_str = \"Then he said, \\\"I love CSS!\\\"\"\n",
    "print(quote_str)"
   ]
  },
  {
   "cell_type": "markdown",
   "id": "3d3c37bb",
   "metadata": {
    "slideshow": {
     "slide_type": "slide"
    }
   },
   "source": [
    "### Indexing into a `str`\n",
    "\n",
    "> In programming, **indexing** into a sequence means retrieving the item at a particular position.\n",
    "\n",
    "Because a `str` is a kind of sequence, we can retrieve the character at a particular position.\n",
    "\n",
    "We can index into a `str` (or `list`) using the `string_name[...]` notation, where `...` would be replaced with the **index** of the character we want to retrieve."
   ]
  },
  {
   "cell_type": "code",
   "execution_count": null,
   "id": "a31b6eb2",
   "metadata": {
    "slideshow": {
     "slide_type": "-"
    }
   },
   "outputs": [],
   "source": [
    "test_var = \"computer\"\n",
    "test_var[::-1]"
   ]
  },
  {
   "cell_type": "markdown",
   "id": "e8fcab64",
   "metadata": {
    "slideshow": {
     "slide_type": "slide"
    }
   },
   "source": [
    "#### Note on indexing\n",
    "\n",
    "Python uses **zero-indexing**: the first element in a sequence is assigned the index `0`, the second is assigned `1`, and so on.\n",
    "\n",
    "- This can be hard to get used to at first!  \n",
    "- But over time, it'll start to seem more natural.  "
   ]
  },
  {
   "cell_type": "markdown",
   "id": "7ac1a6d7",
   "metadata": {
    "slideshow": {
     "slide_type": "slide"
    }
   },
   "source": [
    "#### Check-in\n",
    "\n",
    "Which of the indexing operations below would return the letter `\"S\"`?"
   ]
  },
  {
   "cell_type": "code",
   "execution_count": null,
   "id": "704a3af5",
   "metadata": {
    "slideshow": {
     "slide_type": "-"
    }
   },
   "outputs": [],
   "source": [
    "s = \"CSS\"\n",
    "x1 = s[0]\n",
    "x2 = s[1]\n",
    "x3 = s[2]"
   ]
  },
  {
   "cell_type": "markdown",
   "id": "cf63cee6",
   "metadata": {
    "slideshow": {
     "slide_type": "slide"
    }
   },
   "source": [
    "#### Check-in\n",
    "\n",
    "Why does the code below return an **error**?"
   ]
  },
  {
   "cell_type": "code",
   "execution_count": null,
   "id": "7a86a8a6",
   "metadata": {
    "slideshow": {
     "slide_type": "-"
    }
   },
   "outputs": [],
   "source": [
    "s = \"CSS\"\n",
    "s[4]"
   ]
  },
  {
   "cell_type": "markdown",
   "id": "ce63b6d8",
   "metadata": {
    "slideshow": {
     "slide_type": "slide"
    }
   },
   "source": [
    "### Slicing into a `str`\n",
    "\n",
    "> **Slicing** is like indexing, but allows you to return a *subset* within a sequence.\n",
    "\n",
    "For example, rather than getting the *n-th* character of a `str`, you can return the characters between index `0` and index `2`.\n",
    "\n",
    "- To **slice**, use the syntax `[start_index:end_index]`.  \n",
    "- `start_index` is the index of the first character you want to return.  \n",
    "- `end_index` is the index of the final character you want to return, plus one.\n",
    "   - Like `range`, the final index is not \"inclusive\".  "
   ]
  },
  {
   "cell_type": "code",
   "execution_count": null,
   "id": "dfcab118",
   "metadata": {
    "slideshow": {
     "slide_type": "-"
    }
   },
   "outputs": [],
   "source": [
    "s = \"programming\"\n",
    "s[0:4]"
   ]
  },
  {
   "cell_type": "markdown",
   "id": "8c7a8e45",
   "metadata": {
    "slideshow": {
     "slide_type": "slide"
    }
   },
   "source": [
    "#### Check-in\n",
    "\n",
    "How many characters would the following **slice** return? *Which* characters would they be?"
   ]
  },
  {
   "cell_type": "code",
   "execution_count": null,
   "id": "d19559b5",
   "metadata": {
    "slideshow": {
     "slide_type": "-"
    }
   },
   "outputs": [],
   "source": [
    "s = \"programming\"\n",
    "subset = s[5:7] ## how many characters is this?"
   ]
  },
  {
   "cell_type": "markdown",
   "id": "86a84d5d",
   "metadata": {
    "slideshow": {
     "slide_type": "slide"
    }
   },
   "source": [
    "#### Check-in\n",
    "\n",
    "Write a **slice** operation to return the `str` `\"humid\"` within the string `\"dehumidify\"`."
   ]
  },
  {
   "cell_type": "code",
   "execution_count": null,
   "id": "5ad242ea",
   "metadata": {
    "slideshow": {
     "slide_type": "-"
    }
   },
   "outputs": [],
   "source": [
    "original_str = \"dehumidify\"\n",
    "### Your code here"
   ]
  },
  {
   "cell_type": "markdown",
   "id": "67a1ecce",
   "metadata": {
    "slideshow": {
     "slide_type": "slide"
    }
   },
   "source": [
    "### Looping through strings\n",
    "\n",
    "> **Looping** through a `str` means repeating some piece of code for each (or a subset) of the characters within a string.\n",
    "\n",
    "We've already discussed [loops in previous lectures](06-loops), so this will be a brief review:\n",
    "\n",
    "- A `for` loop **iterates** through each item in a sequence (like a `str`), repeating some piece of code.  \n",
    "- A `while` loop **continues** as long as some condition is met, and can also be used to iterate through a sequence."
   ]
  },
  {
   "cell_type": "markdown",
   "id": "7e0d158a",
   "metadata": {
    "slideshow": {
     "slide_type": "slide"
    }
   },
   "source": [
    "#### Looping with a `for` loop"
   ]
  },
  {
   "cell_type": "code",
   "execution_count": null,
   "id": "b193de75",
   "metadata": {
    "slideshow": {
     "slide_type": "-"
    }
   },
   "outputs": [],
   "source": [
    "seq = \"CSS\"\n",
    "for i in seq:\n",
    "    print(i)"
   ]
  },
  {
   "cell_type": "markdown",
   "id": "dfa9f4a1",
   "metadata": {
    "slideshow": {
     "slide_type": "slide"
    }
   },
   "source": [
    "#### Looping with a `while` loop"
   ]
  },
  {
   "cell_type": "code",
   "execution_count": null,
   "id": "0ddbeb9f",
   "metadata": {
    "scrolled": true,
    "slideshow": {
     "slide_type": "-"
    }
   },
   "outputs": [],
   "source": [
    "i = 0\n",
    "seq = \"CSS\"\n",
    "while i < len(seq):\n",
    "    print(seq[i])\n",
    "    i += 1"
   ]
  },
  {
   "cell_type": "markdown",
   "id": "cd4cc620",
   "metadata": {
    "slideshow": {
     "slide_type": "slide"
    }
   },
   "source": [
    "## Modifying case\n",
    "\n",
    "Often, you'll need to modify the **case** of a `str` (i.e., make it either *upper* or *lower* case). \n",
    "\n",
    "- One use-case for this is needing to *compare* two strings, but not caring about whether they have identical case. \n",
    "- E.g., \"APplE\" is the same *word* as \"apple\", but these strings wouldn't evaluate as equal."
   ]
  },
  {
   "cell_type": "code",
   "execution_count": null,
   "id": "09e9eb12",
   "metadata": {
    "slideshow": {
     "slide_type": "-"
    }
   },
   "outputs": [],
   "source": [
    "\"appLe\" == \"apple\""
   ]
  },
  {
   "cell_type": "code",
   "execution_count": null,
   "id": "816a04d2",
   "metadata": {
    "slideshow": {
     "slide_type": "-"
    }
   },
   "outputs": [],
   "source": [
    "\"apple\" == \"apple\"\n",
    "\n",
    "'2 * 2' == '4'"
   ]
  },
  {
   "cell_type": "markdown",
   "id": "7807db5a",
   "metadata": {
    "slideshow": {
     "slide_type": "slide"
    }
   },
   "source": [
    "### `upper` and `lower`\n",
    "\n",
    "As the names imply, `upper` and `lower` are both *functions* that you can use on a `str`.  "
   ]
  },
  {
   "cell_type": "code",
   "execution_count": null,
   "id": "4cda0584",
   "metadata": {
    "slideshow": {
     "slide_type": "-"
    }
   },
   "outputs": [],
   "source": [
    "\"APPLE\".lower()"
   ]
  },
  {
   "cell_type": "code",
   "execution_count": null,
   "id": "572432c4",
   "metadata": {
    "slideshow": {
     "slide_type": "-"
    }
   },
   "outputs": [],
   "source": [
    "\"apple\".upper()"
   ]
  },
  {
   "cell_type": "code",
   "execution_count": null,
   "id": "a052db65",
   "metadata": {
    "slideshow": {
     "slide_type": "-"
    }
   },
   "outputs": [],
   "source": [
    "\"APPLE\".lower() == \"apple\""
   ]
  },
  {
   "cell_type": "markdown",
   "id": "5bd5c205",
   "metadata": {
    "slideshow": {
     "slide_type": "slide"
    }
   },
   "source": [
    "### `title`\n",
    "\n",
    "The `title` function is a variant of `upper`/`lower`, which just capitalizes the *first* letter of each word."
   ]
  },
  {
   "cell_type": "code",
   "execution_count": null,
   "id": "61565e20",
   "metadata": {
    "slideshow": {
     "slide_type": "-"
    }
   },
   "outputs": [],
   "source": [
    "og_string = \"my name is umberto\"\n",
    "og_string.title()"
   ]
  },
  {
   "cell_type": "markdown",
   "id": "4b2e0737",
   "metadata": {
    "slideshow": {
     "slide_type": "-"
    }
   },
   "source": [
    "Note that if you have capital letters *after* the first letter of a word, these will now become lowercase!"
   ]
  },
  {
   "cell_type": "code",
   "execution_count": null,
   "id": "05be3bc2",
   "metadata": {
    "slideshow": {
     "slide_type": "-"
    }
   },
   "outputs": [],
   "source": [
    "og_string = \"DNA\"\n",
    "og_string.title()"
   ]
  },
  {
   "cell_type": "markdown",
   "id": "d5b569b3",
   "metadata": {
    "slideshow": {
     "slide_type": "slide"
    }
   },
   "source": [
    "### Evaluating case\n",
    "\n",
    "Just as you can **modify** the case of these strings, you can also evaluate it:\n",
    "\n",
    "- `isupper()` \n",
    "- `islower()` \n",
    "- `istitle()`\n",
    "\n",
    "These functions all check whether a string conforms to those patterns."
   ]
  },
  {
   "cell_type": "code",
   "execution_count": null,
   "id": "dc4f237d",
   "metadata": {
    "slideshow": {
     "slide_type": "-"
    }
   },
   "outputs": [],
   "source": [
    "\"CSS\".isupper()"
   ]
  },
  {
   "cell_type": "code",
   "execution_count": null,
   "id": "0340cb07",
   "metadata": {
    "slideshow": {
     "slide_type": "-"
    }
   },
   "outputs": [],
   "source": [
    "\"CSS\".islower()"
   ]
  },
  {
   "cell_type": "code",
   "execution_count": null,
   "id": "0f3828e8",
   "metadata": {
    "slideshow": {
     "slide_type": "-"
    }
   },
   "outputs": [],
   "source": [
    "\"I Love Programming\".istitle()"
   ]
  },
  {
   "cell_type": "markdown",
   "id": "166fd63d",
   "metadata": {
    "slideshow": {
     "slide_type": "slide"
    }
   },
   "source": [
    "### Check-in\n",
    "\n",
    "If you called `istitle()` on the following string, would it evaluate to `True` or `False`?"
   ]
  },
  {
   "cell_type": "code",
   "execution_count": null,
   "id": "fcb0c83a",
   "metadata": {
    "slideshow": {
     "slide_type": "-"
    }
   },
   "outputs": [],
   "source": [
    "test_str = \"I love CSS\"\n",
    "### Your answer/code here"
   ]
  },
  {
   "cell_type": "markdown",
   "id": "dd4abfae",
   "metadata": {
    "slideshow": {
     "slide_type": "slide"
    }
   },
   "source": [
    "### Other helpful evaluation methods\n",
    "\n",
    "There are a few other helpful methods for **evaluating** properties of a string:\n",
    "\n",
    "- `isdigit`: checks if the characters are entirely digits (e.g., $0, 1, ..., 9$)  \n",
    "- `isalpha`: checks if the characters are entirely alphabetic characters (e.g., `abcd...`). \n",
    "- `isspace`: checks if the string is entirely space characters (e.g., ` `). "
   ]
  },
  {
   "cell_type": "markdown",
   "id": "255e38e8",
   "metadata": {
    "slideshow": {
     "slide_type": "slide"
    }
   },
   "source": [
    "## Replacing characters\n",
    "\n",
    "Another common operation is [**replacing** elements of a string](https://www.w3schools.com/python/ref_string_replace.asp). \n",
    "\n",
    "Examples:\n",
    "\n",
    "- In a `list` of filenames, replacing every `-` with a `_`. \n",
    "- Removing certain words or characters, e.g., replacing every instance of a word with a ` `.  \n",
    "\n",
    "This can be done with the `replace` function."
   ]
  },
  {
   "cell_type": "code",
   "execution_count": null,
   "id": "9c7fce7c",
   "metadata": {
    "slideshow": {
     "slide_type": "-"
    }
   },
   "outputs": [],
   "source": [
    "## Replace \"-\" with \"_\"\n",
    "og_filename = \"css-lecture-06\"\n",
    "og_filename.replace(\"-\", \"_\")"
   ]
  },
  {
   "cell_type": "markdown",
   "id": "38f19007",
   "metadata": {
    "slideshow": {
     "slide_type": "slide"
    }
   },
   "source": [
    "### Replacing the first $N$ instances\n",
    "\n",
    "`replace` can also be used to replace only the first $N$ instances of a string. "
   ]
  },
  {
   "cell_type": "code",
   "execution_count": null,
   "id": "4aa7bb64",
   "metadata": {
    "slideshow": {
     "slide_type": "-"
    }
   },
   "outputs": [],
   "source": [
    "## Replace only the first instance of \"bananas\"\n",
    "og_string = \"bananas, apples, bananas, grapes\"\n",
    "og_string.replace(\"bananas\", \"oranges\", 1)"
   ]
  },
  {
   "cell_type": "markdown",
   "id": "6fe80ac9",
   "metadata": {
    "slideshow": {
     "slide_type": "slide"
    }
   },
   "source": [
    "### Check-in\n",
    "\n",
    "Use the `replace` function to replace the **first 2 instances** of `-` with `_`."
   ]
  },
  {
   "cell_type": "code",
   "execution_count": null,
   "id": "0d359af7",
   "metadata": {
    "slideshow": {
     "slide_type": "-"
    }
   },
   "outputs": [],
   "source": [
    "original_filename = \"css-l06-su23-test.py\"\n",
    "### Your code here"
   ]
  },
  {
   "cell_type": "markdown",
   "id": "35d3a3b1",
   "metadata": {
    "slideshow": {
     "slide_type": "slide"
    }
   },
   "source": [
    "### `replace` is case-sensitive\n",
    "\n",
    "Note that `replace` attempts an **exact match** of the `str` you're looking to replace.\n",
    "\n",
    "- This includes exact **case match**. \n",
    "- `\"apple\" != \"APPLE\"`. "
   ]
  },
  {
   "cell_type": "code",
   "execution_count": null,
   "id": "e5bac30a",
   "metadata": {
    "slideshow": {
     "slide_type": "-"
    }
   },
   "outputs": [],
   "source": [
    "case_mismatch = \"I like Apples\"\n",
    "### replace won't do anything here\n",
    "case_mismatch.replace(\"apples\", \"bananas\")"
   ]
  },
  {
   "cell_type": "code",
   "execution_count": null,
   "id": "7126ce80",
   "metadata": {
    "slideshow": {
     "slide_type": "-"
    }
   },
   "outputs": [],
   "source": [
    "case_mismatch = \"I like Apples\"\n",
    "### replace will replace it here\n",
    "case_mismatch.replace(\"Apples\", \"bananas\")"
   ]
  },
  {
   "cell_type": "markdown",
   "id": "c8904eda",
   "metadata": {
    "slideshow": {
     "slide_type": "slide"
    }
   },
   "source": [
    "## Concatenating strings\n",
    "\n",
    "> String **concatenation** simply means *combining* multiple strings.\n",
    "\n",
    "Often, you'll need to *combine* the characters in multiple strings.\n",
    "\n",
    "- Combining the **directory path** and a **filename** to get the full path of a file.\n",
    "- Combining parts of strings to get a valid **URL**.  \n",
    "- Combining the first and last name of a client to `print` out the **full name**."
   ]
  },
  {
   "cell_type": "markdown",
   "id": "49b5278f",
   "metadata": {
    "slideshow": {
     "slide_type": "slide"
    }
   },
   "source": [
    "### Approach 1: the `+` operator\n",
    "\n",
    "The `+` operator can be used to **combine** multiple `str` objects."
   ]
  },
  {
   "cell_type": "code",
   "execution_count": null,
   "id": "9abfd6e9",
   "metadata": {
    "slideshow": {
     "slide_type": "-"
    }
   },
   "outputs": [],
   "source": [
    "\"Comput\" + \"ational\""
   ]
  },
  {
   "cell_type": "code",
   "execution_count": null,
   "id": "e5bd0c2d",
   "metadata": {
    "slideshow": {
     "slide_type": "-"
    }
   },
   "outputs": [],
   "source": [
    "\"css201/\" + \"lec06/\" + \"file.py\""
   ]
  },
  {
   "cell_type": "markdown",
   "id": "08a5fc81",
   "metadata": {
    "slideshow": {
     "slide_type": "slide"
    }
   },
   "source": [
    "#### Check-in\n",
    "\n",
    "What do you notice about how these strings are combined? Is a space added between each constituent `str` or no?"
   ]
  },
  {
   "cell_type": "markdown",
   "id": "707610e3",
   "metadata": {
    "slideshow": {
     "slide_type": "slide"
    }
   },
   "source": [
    "#### Watch out for spaces (and lack thereof)!\n",
    "\n",
    "By default, `+` will just combine two different string objects directly.\n",
    "\n",
    "That is, `\"Hello\" + \"World\"` will become `\"HelloWorld\"`.\n",
    "\n",
    "If you want to add a space *between* these objects, make sure to add a space character in your concatenation operation."
   ]
  },
  {
   "cell_type": "code",
   "execution_count": null,
   "id": "eaab2f7e",
   "metadata": {
    "slideshow": {
     "slide_type": "-"
    }
   },
   "outputs": [],
   "source": [
    "p1 = \"Hello\"\n",
    "p2 = \"World\"\n",
    "p1 + \" \" + p2"
   ]
  },
  {
   "cell_type": "markdown",
   "id": "14ad8596",
   "metadata": {
    "slideshow": {
     "slide_type": "slide"
    }
   },
   "source": [
    "#### Check-in\n",
    "\n",
    "Why does the code below throw an error? \n",
    "\n",
    "**Bonus**: What would you need to do to make it *not* throw an error?"
   ]
  },
  {
   "cell_type": "code",
   "execution_count": null,
   "id": "af4c0f60",
   "metadata": {
    "slideshow": {
     "slide_type": "-"
    }
   },
   "outputs": [],
   "source": [
    "2 + \" cats\""
   ]
  },
  {
   "cell_type": "markdown",
   "id": "fe273ad9",
   "metadata": {
    "slideshow": {
     "slide_type": "slide"
    }
   },
   "source": [
    "#### Concatenating an `int` to a `str`\n",
    "\n",
    "The `+` operator assumes you are concatenating multiple `str` objects. Thus, trying to combine an `int` with a `str` this way will throw an error.\n",
    "\n",
    "However, you can use **type-casting** to turn the `int` into a `str`, and then combine them."
   ]
  },
  {
   "cell_type": "code",
   "execution_count": null,
   "id": "a39dc2fb",
   "metadata": {
    "slideshow": {
     "slide_type": "-"
    }
   },
   "outputs": [],
   "source": [
    "str(2) + \" cats\""
   ]
  },
  {
   "cell_type": "markdown",
   "id": "013a86f2",
   "metadata": {
    "slideshow": {
     "slide_type": "slide"
    }
   },
   "source": [
    "#### Check-in\n",
    "\n",
    "Use the `+` operator to combine the variables below into a single string (in order, i.e., `var1` followed by `var2`, etc.). \n",
    "- Add a space between each variable. \n",
    "- Watch out for conflicting types!"
   ]
  },
  {
   "cell_type": "code",
   "execution_count": null,
   "id": "cc78dc43",
   "metadata": {
    "slideshow": {
     "slide_type": "-"
    }
   },
   "outputs": [],
   "source": [
    "var1 = \"This\"\n",
    "var2 = \"Is\"\n",
    "var3 = \"CSS\"\n",
    "var4 = 202\n",
    "#### Your code here"
   ]
  },
  {
   "cell_type": "markdown",
   "id": "dd3d79df",
   "metadata": {
    "slideshow": {
     "slide_type": "slide"
    }
   },
   "source": [
    "### Approach 2: using `format`\n",
    "\n",
    "The `format` method can also be used to merge multiple strings together.\n",
    "\n",
    "- This approach is less intuitive at first, but is very flexible.  \n",
    "- I use this approach when I'm `print`ing out lots of custom variable values, e.g., as in an output message.\n",
    "\n",
    "With `format`, you can declare \"variables\" within a `str` using the `{x}` syntax. "
   ]
  },
  {
   "cell_type": "code",
   "execution_count": null,
   "id": "cc9bebbe",
   "metadata": {
    "slideshow": {
     "slide_type": "-"
    }
   },
   "outputs": [],
   "source": [
    "first = \"Smarty\"\n",
    "last = \"Student\"\n",
    "print(\"Hello, {f} {l}\".format(f = first, l = last))"
   ]
  },
  {
   "cell_type": "markdown",
   "id": "90f62e98",
   "metadata": {
    "slideshow": {
     "slide_type": "slide"
    }
   },
   "source": [
    "#### Check-in\n",
    "\n",
    "Use `format` to `print` out a message that reads: \n",
    "\n",
    "`\"Welcome to CSS 201\"`."
   ]
  },
  {
   "cell_type": "code",
   "execution_count": null,
   "id": "c7910fba",
   "metadata": {
    "slideshow": {
     "slide_type": "-"
    }
   },
   "outputs": [],
   "source": [
    "department = \"CSS\"\n",
    "number = \"201\"\n",
    "#### Your code here"
   ]
  },
  {
   "cell_type": "markdown",
   "id": "0cf1698d",
   "metadata": {
    "slideshow": {
     "slide_type": "slide"
    }
   },
   "source": [
    "### Approach 3: using `join`\n",
    "\n",
    "Another somewhat common use-case is **joining** strings that are currently stored as elements of a list.\n",
    "\n",
    "The `join` syntax starts with the *character* (or character*s*) you'll be using to **join** each `str` together.\n",
    "\n",
    "- This could be a space character, an underscore, or anything you want.  \n",
    "- It then makes a call to `.join(list_name)`. "
   ]
  },
  {
   "cell_type": "code",
   "execution_count": null,
   "id": "3bdbf87e",
   "metadata": {
    "slideshow": {
     "slide_type": "-"
    }
   },
   "outputs": [],
   "source": [
    "separate_str = ['The', 'quick', 'brown', 'fox', 'jumped']\n",
    "separate_str"
   ]
  },
  {
   "cell_type": "code",
   "execution_count": null,
   "id": "48a77b65",
   "metadata": {
    "slideshow": {
     "slide_type": "-"
    }
   },
   "outputs": [],
   "source": [
    "\" \".join(separate_str)"
   ]
  },
  {
   "cell_type": "markdown",
   "id": "6ef5fc30",
   "metadata": {
    "slideshow": {
     "slide_type": "slide"
    }
   },
   "source": [
    "#### Check-in\n",
    "\n",
    "Use `join` to turn the following list of directory and sub-directory names into a full file path, connected by the `\"\\\"` symbol. "
   ]
  },
  {
   "cell_type": "code",
   "execution_count": null,
   "id": "b7ff2d97",
   "metadata": {
    "slideshow": {
     "slide_type": "-"
    }
   },
   "outputs": [],
   "source": [
    "dirs = [\"css\", \"201\", \"lectures\", \"lec06\"]\n",
    "#### Your code here"
   ]
  },
  {
   "cell_type": "markdown",
   "id": "03facc1c",
   "metadata": {
    "slideshow": {
     "slide_type": "slide"
    }
   },
   "source": [
    "### Other approaches\n",
    "\n",
    "There are a number of [other approaches](https://www.pythontutorial.net/python-string-methods/python-string-concatenation/) to concatenating strings. \n",
    "\n",
    "Personally, I primarily use:\n",
    "\n",
    "- The `format` operator when I'm `print`ing out complicated strings. \n",
    "- The `+` operator for everything else.  "
   ]
  },
  {
   "cell_type": "markdown",
   "id": "18716a4d",
   "metadata": {
    "slideshow": {
     "slide_type": "slide"
    }
   },
   "source": [
    "## `split`ting a string\n",
    "\n",
    "Just as you can `join` parts of a `list` into a `str`, you can also `split` a `str` into a `list`!\n",
    "\n",
    "Common use cases:\n",
    "\n",
    "- Extracting directories and sub-directories of a file path.  \n",
    "- **Tokenizing** a sentence, i.e., retrieving all the distinct *words* (e.g., in English, written words are typically separated by spaces).  \n",
    "- Extracting different **hash-tags** from a tweet (e.g., `\"#CSS#Programming\"`). "
   ]
  },
  {
   "cell_type": "code",
   "execution_count": null,
   "id": "ef1bff5f",
   "metadata": {
    "slideshow": {
     "slide_type": "-"
    }
   },
   "outputs": [],
   "source": [
    "example_sentence = \"The quick brown fox jumped over the lazy dog\"\n",
    "example_sentence.split(\" \")"
   ]
  },
  {
   "cell_type": "markdown",
   "id": "a688a910",
   "metadata": {
    "slideshow": {
     "slide_type": "slide"
    }
   },
   "source": [
    "#### Check-in\n",
    "\n",
    "How many **words** (i.e., character-sequences separated by spaces) are in the sentence below?\n",
    "\n",
    "Hint: use a combination of `split` and `len` to solve this question."
   ]
  },
  {
   "cell_type": "code",
   "execution_count": null,
   "id": "96a6617d",
   "metadata": {
    "slideshow": {
     "slide_type": "-"
    }
   },
   "outputs": [],
   "source": [
    "test_sentence = \"This sentence has a number of different words and your goal is to count them\"\n",
    "### Your code here"
   ]
  },
  {
   "cell_type": "code",
   "execution_count": null,
   "id": "8e98a9b3",
   "metadata": {
    "slideshow": {
     "slide_type": "-"
    }
   },
   "outputs": [],
   "source": [
    "list1 = [1, 2, 3]\n",
    "list2 = ['4', 5, '6']\n",
    "list1 + list2"
   ]
  },
  {
   "cell_type": "markdown",
   "id": "a72cd697",
   "metadata": {
    "slideshow": {
     "slide_type": "slide"
    }
   },
   "source": [
    "These lists do *not* have to have the same `type` or number of objects."
   ]
  },
  {
   "cell_type": "code",
   "execution_count": null,
   "id": "a651e9e2",
   "metadata": {
    "slideshow": {
     "slide_type": "-"
    }
   },
   "outputs": [],
   "source": [
    "list3 = [\"a\", \"b\"]\n",
    "list1 + list3"
   ]
  },
  {
   "cell_type": "markdown",
   "id": "89633e47",
   "metadata": {
    "slideshow": {
     "slide_type": "slide"
    }
   },
   "source": [
    "### Check-in\n",
    "\n",
    "Use the `+` operator to combine the lists below, then use `join` to join the words into a complete sentence (with each word separated by a `\" \"`)."
   ]
  },
  {
   "cell_type": "code",
   "execution_count": null,
   "id": "c39d6665",
   "metadata": {
    "slideshow": {
     "slide_type": "-"
    }
   },
   "outputs": [],
   "source": [
    "l1 = ['CSS', '201']\n",
    "l2 = ['is', 'fun']\n",
    "### Your code here"
   ]
  },
  {
   "cell_type": "markdown",
   "id": "1014d71d",
   "metadata": {
    "slideshow": {
     "slide_type": "slide"
    }
   },
   "source": [
    "## Conclusion\n",
    "\n",
    "In this lecture we learned:\n",
    "\n",
    "1. Conditionals\n",
    "2. Loops\n",
    "3. `strings`\n",
    "4. And how to operate with these objects\n",
    "\n",
    "Next lecture:\n",
    "\n",
    "1. `list`s\n",
    "2. `dict`ionaries\n",
    "1. Functions"
   ]
  }
 ],
 "metadata": {
  "celltoolbar": "Slideshow",
  "kernelspec": {
   "display_name": "Python 3 (ipykernel)",
   "language": "python",
   "name": "python3"
  },
  "language_info": {
   "codemirror_mode": {
    "name": "ipython",
    "version": 3
   },
   "file_extension": ".py",
   "mimetype": "text/x-python",
   "name": "python",
   "nbconvert_exporter": "python",
   "pygments_lexer": "ipython3",
   "version": "3.9.18"
  }
 },
 "nbformat": 4,
 "nbformat_minor": 5
}
