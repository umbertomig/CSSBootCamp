{
 "cells": [
  {
   "cell_type": "markdown",
   "metadata": {
    "slideshow": {
     "slide_type": "slide"
    }
   },
   "source": [
    "# CSS 201.5 - CSS Bootcamp\n",
    "\n",
    "## Week 04 - Lecture 01 (afternoon)\n",
    "\n",
    "### Umberto Mignozzetti (UCSD)"
   ]
  },
  {
   "cell_type": "markdown",
   "metadata": {
    "slideshow": {
     "slide_type": "slide"
    }
   },
   "source": [
    "## Statistical and Probability Theory\n",
    "\n",
    "This week we will study statistics and probability theory.\n",
    "\n",
    "These subjects are the foundation of CSS, Data Science, and all the quantitative flavors applied to each of our sciences:\n",
    "\n",
    "- Political Methodology\n",
    "- Econometrics\n",
    "- Psychometrics\n",
    "- Applied stats to [fill the blank with your field]"
   ]
  },
  {
   "cell_type": "markdown",
   "metadata": {
    "slideshow": {
     "slide_type": "slide"
    }
   },
   "source": [
    "## Statistical and Probability Theory\n",
    "\n",
    "Mostly based on two books:\n",
    "\n",
    "+ [Aronow and Miller (2019)](https://www.cambridge.org/core/books/foundations-of-agnostic-statistics/684756357E7E9B3DFF0A8157FB2DCECA): A great book that we have free access here at the UCSD! \n",
    "\n",
    "+ DeGroot and Schervish (2012) Probability and Statistics. 4th Edition. You can find a cheap version of it on Amazon or AbeBooks. Highly recommended!"
   ]
  },
  {
   "cell_type": "markdown",
   "metadata": {
    "slideshow": {
     "slide_type": "slide"
    }
   },
   "source": [
    "# Probability Theory"
   ]
  },
  {
   "cell_type": "markdown",
   "metadata": {
    "slideshow": {
     "slide_type": "slide"
    }
   },
   "source": [
    "## Probability Theory\n",
    "\n",
    "**Probability:** It is self-contained and usually has one answer to problems\n",
    "\n",
    "- Old subject, that started with folks trying to find best way of gambling.\n",
    "\n",
    "- But the face it has today started in the 17th century.\n",
    "\n",
    "**Statistics:** More about data analysis, and can have multiple valid answer to problems."
   ]
  },
  {
   "cell_type": "markdown",
   "metadata": {
    "slideshow": {
     "slide_type": "slide"
    }
   },
   "source": [
    "## Probability Theory\n",
    "\n",
    "There are three most common interpretations of probability:\n",
    "\n",
    "1. **Frequency:** *Relative frequency of something of interest happening* when we repeat the trial an *infinite number of times*\n",
    "    - If we toss a *fair* coin infinitely many times, the chance of seeing head should converge to 1/2.\n",
    "\n",
    "2. **Classical:** Based on the idea of *equally likely* outcomes.\n",
    "    - When a coin is tossed, there is 1/2 chance of each face.\n",
    "    \n",
    "3. **Subjective:** The probability that a person assigns to a process, based on her subjective beliefs about the process.\n",
    "    - I *believe* that the likelyhood of a coin toss go head is 1/2 and I update my belief as we go.\n",
    "    \n",
    "**What matters:** Regardless of the way you interpret probability, the mathematical theory of probability is the same."
   ]
  },
  {
   "cell_type": "markdown",
   "metadata": {
    "slideshow": {
     "slide_type": "slide"
    }
   },
   "source": [
    "## Fundamentals of Probability Theory\n",
    "\n",
    "**Definition - Experiment**: An experiment is any process, real or hypothetical, in which the possible outcomes can be identified ahead of time.\n",
    "\n",
    "**Definition - Event**: An event is a well-defined set of possible outcomes of the experiment.\n",
    "\n",
    "Example:\n",
    "\n",
    "1. Toss a coin 10 times and check the probability of that at least four heads.\n",
    "\n",
    "2. Sample people in the population 1000 times and compute the chance that the majority support free health care."
   ]
  },
  {
   "cell_type": "markdown",
   "metadata": {
    "slideshow": {
     "slide_type": "slide"
    }
   },
   "source": [
    "## Fundamentals of Probability Theory\n",
    "\n",
    "**Definition: Sample Space**: The collection of all possible outcomes of an experiment is called the sample space of the experiment. Denoted by $S$. Containing individual outcomes, denoted as $s \\in S$.\n",
    "\n",
    "+ Polity IV scores: $S = [-10, 10]$\n",
    "+ Income: $S = \\mathbb{R}^+$\n",
    "+ GDP growth: $S = \\mathbb{R}$ (but not really...)\n",
    "+ Deaths in a civil conflict: $S = \\mathbb{N} \\cup {0}$\n",
    "+ Roll a die: $S = \\{1, 2, 3, 4, 5, 6\\}$.\n",
    "+ Roll two dice: $S = \\{x + y: x \\in \\mathbb{Z}, y \\in \\mathbb{Z} \\text{ such that } 1 \\leq x, y \\leq 6\\}$.\n",
    "+ And so on.\n",
    "  \n",
    "One simple case, a coin toss: $S = \\{H, T\\}$."
   ]
  },
  {
   "cell_type": "markdown",
   "metadata": {
    "slideshow": {
     "slide_type": "slide"
    }
   },
   "source": [
    "## Fundamentals of Probability Theory\n",
    "\n",
    "**Definition: Event space**: A set $\\mathcal{S}$ of subsets of $S$ that satisfy the following properties:\n",
    "    + Nonempty: $\\mathcal{S} \\neq \\emptyset$\n",
    "    + Closed under complements: If $A \\in \\mathcal{S}$, then $A^C \\in \\mathcal{S}$\n",
    "    + Closed under Countable Unions: For a countable sequence $A_1, A_2, \\cdots \\in \\mathcal{S}$, then $\\bigcup A_i \\in \\mathcal{S}$\n",
    "  \n",
    "- For a coin toss, let us consider $\\mathcal{S} = 2^S$."
   ]
  },
  {
   "cell_type": "markdown",
   "metadata": {
    "slideshow": {
     "slide_type": "slide"
    }
   },
   "source": [
    "## Fundamentals of Probability Theory\n",
    "\n",
    "We need to know about sets to understand the foundations of probability theory.\n",
    "\n",
    "A few things about sets:\n",
    "\n",
    "1. Set: Collection of (unordered) elements.\n",
    "1. A set $A$ is contained on a set $B$ if all elements in $A$ are also in $B$. Expressed as $A \\subset B$\n",
    "1. It is hard to prove things in set theory: It usually relies on taking elements and show they belong (or not) to other sets.\n",
    "1. So, it is good to have a list of rules (or google it if needed)."
   ]
  },
  {
   "cell_type": "markdown",
   "metadata": {
    "slideshow": {
     "slide_type": "slide"
    }
   },
   "source": [
    "## Fundamentals of Probability Theory\n",
    "\n",
    "Some rules:\n",
    "\n",
    "1. Empty set ($\\emptyset$): Impossible event.\n",
    "1. Every set has the empty set ($\\emptyset \\subset S$).\n",
    "1. Every set has itself ($ S \\subset S$).\n",
    "1. If $A$ is an **event**, then $A \\subset S$ (meaning: events are subsets of the sample space).\n",
    "1. If $A \\subset B$ and $B \\subset A$, then $A = B$.\n",
    "1. If $A \\subset B$ and $B \\subset C$, then $A \\subset C$."
   ]
  },
  {
   "cell_type": "markdown",
   "metadata": {
    "slideshow": {
     "slide_type": "slide"
    }
   },
   "source": [
    "## Fundamentals of Probability Theory\n",
    "\n",
    "Some important things that we neglect:\n",
    "\n",
    "1. Sets can be finite and infinite.\n",
    "1. There are two types of infinite sets:\n",
    "    - Those we can count (countable)\n",
    "    - Those we cannot count (uncountable)\n",
    "        + If you ever study advanced probability theory, they will discuss these. For us, we assume we can do stats in these sets."
   ]
  },
  {
   "cell_type": "markdown",
   "metadata": {
    "slideshow": {
     "slide_type": "slide"
    }
   },
   "source": [
    "## Fundamentals of Probability Theory\n",
    "\n",
    "Operations in Set Theory:\n",
    "\n",
    "- $(A^c)^c = A$, $\\emptyset^c = S$, $S = \\emptyset^c$\n",
    "- $A \\cup B = B \\cup A$, $A \\cup A = A$, $A \\cup A^c = S$\n",
    "- $A \\cup \\emptyset = A$, $A \\cup S = S$\n",
    "- Union of many set: The union of $\\{1, 2, \\cdots, n\\}$ sets $A_1, A_2, \\cdots, A_n$ is denoted as:\n",
    "    + $A_1 \\cup A_2 \\cup \\cdots \\cup A_n = \\bigcup_{i = 1}^{n} A_i$\n",
    "    + If the number of sets is countable, then $\\bigcup_{i = 1}^{\\infty} A_i$ is also an event."
   ]
  },
  {
   "cell_type": "markdown",
   "metadata": {
    "slideshow": {
     "slide_type": "slide"
    }
   },
   "source": [
    "## Fundamentals of Probability Theory\n",
    "\n",
    "Operations in Set Theory:\n",
    "\n",
    "- If $A$ and $B$ are any two sets, the ***intersection*** of $A$ and $B$ ($A\\cap B$) is defined to be the set that **contains all outcomes that belong both to A and to B.**\n",
    "- If $A$ and $B$ are events, so is $A \\cap B$.\n",
    "- $A \\cap B = B \\cap A$, $A \\cap A = A$, $A \\cap A^c = \\emptyset$\n",
    "- $A \\cap \\emptyset = \\emptyset$, $A \\cap S = A$\n",
    "- If $A \\subset B$, then $A \\cap B = A$\n",
    "- Intersection of many set: \n",
    "    + $A_1 \\cap A_2 \\cap \\cdots \\cap A_n = \\bigcap_{i = 1}^{n} A_i$"
   ]
  },
  {
   "cell_type": "markdown",
   "metadata": {
    "slideshow": {
     "slide_type": "slide"
    }
   },
   "source": [
    "## Fundamentals of Probability Theory\n",
    "\n",
    "Operations in Set Theory:\n",
    "\n",
    "- DeMorgan Laws: $(A \\cup B)^c = A^c \\cap B^c$ and $(A \\cap B)^c = A^c \\cup B^c$\n",
    "- $A \\cap (B \\cup C) = (A\\cap B) \\cup (A\\cap C)$ and $A \\cup (B \\cap C) = (A\\cup B) \\cap (A\\cup C)$\n",
    "- Partition of sets:\n",
    "    + $A = (A\\cap B) \\cup (A\\cap B^c)$\n",
    "    + $A \\cup B = B \\cup (A\\cap B^c)$"
   ]
  },
  {
   "cell_type": "markdown",
   "metadata": {
    "slideshow": {
     "slide_type": "slide"
    }
   },
   "source": [
    "## Fundamentals of Probability Theory\n",
    "\n",
    "**Check-in**: Suppose that one card is to be selected from a deck of 20 cards that contains 10 red cards numbered from 1 to 10 and 10 blue cards numbered from 1 to 10. Let: \n",
    "\n",
    "- $A$ be the event that a card with an even number is selected\n",
    "\n",
    "- $B$ be the event that a blue card is selected\n",
    "\n",
    "- $C$ be the event that a card with a number less than 5 is selected. \n",
    "\n",
    "1. Describe the sample space $S$\n",
    "1. $A \\cap B \\cap C$\n",
    "1. $B \\cap C^c$\n",
    "1. $A \\cup B \\cup C$\n",
    "1. $A \\cap (B \\cup C)$\n",
    "1. $A^c \\cap B^c \\cap C^c$"
   ]
  },
  {
   "cell_type": "markdown",
   "metadata": {
    "slideshow": {
     "slide_type": "slide"
    }
   },
   "source": [
    "## Fundamentals of Probability Theory\n",
    "\n",
    "**Check-in**: A simplified model of the human blood-type system has four blood types: A, B, AB, and O. \n",
    "\n",
    "There are two antigens, anti-A and anti-B, that react with a person's blood in different ways depending on the blood type. \n",
    "\n",
    "- Anti-A reacts with blood types A and AB, but not with B and O. \n",
    "\n",
    "- Anti-B reacts with blood types B and AB, but not with A and O. \n",
    "\n",
    "Suppose that a person's blood is sampled and tested with the two antigens. \n",
    "\n",
    "- Let:\n",
    "    + A be the event that the blood reacts with anti-A\n",
    "    + B be the event that it reacts with anti-B\n",
    "    \n",
    "Classify the person's blood type using the events $A$, $B$, and their complements."
   ]
  },
  {
   "cell_type": "markdown",
   "metadata": {
    "slideshow": {
     "slide_type": "slide"
    }
   },
   "source": [
    "## Fundamentals of Probability Theory\n",
    "\n",
    "Operations in Set Theory:\n",
    "\n",
    "![img](https://github.com/umbertomig/CSSBootCamp/blob/main/img/setops.png?raw=true)"
   ]
  },
  {
   "cell_type": "markdown",
   "metadata": {
    "slideshow": {
     "slide_type": "slide"
    }
   },
   "source": [
    "## Fundamentals of Probability Theory\n",
    "\n",
    "Operations in Set Theory:\n",
    "\n",
    "![img](https://github.com/umbertomig/CSSBootCamp/blob/main/img/twosets.png?raw=true)"
   ]
  },
  {
   "cell_type": "markdown",
   "metadata": {
    "slideshow": {
     "slide_type": "slide"
    }
   },
   "source": [
    "## Fundamentals of Probability Theory\n",
    "\n",
    "Operations in Set Theory:\n",
    "\n",
    "![img](https://github.com/umbertomig/CSSBootCamp/blob/main/img/threesets.png?raw=true)"
   ]
  },
  {
   "cell_type": "markdown",
   "metadata": {
    "slideshow": {
     "slide_type": "slide"
    },
    "tags": []
   },
   "source": [
    "## Fundamentals of Probability Theory\n",
    "\n",
    "**Definition: Probability Measure**: A function $P: \\mathcal{S} \\rightarrow [0, 1]$ that satisfy three axioms (Kolmogorov):\n",
    "\n",
    "+ Non-negativity: $\\forall A \\in \\mathcal{S}$, $P(A) \\in [0, 1]$.\n",
    "\n",
    "+ Unitarity: $P(S) = 1$.\n",
    "\n",
    "+ Countable Additivity: If $A_1, A_2, \\cdots \\in \\mathcal{S}$, such that $A_i \\cap A_j = \\emptyset$ $\\forall i \\neq j$. Then: \n",
    "    \n",
    "$$P(\\bigcup_{i=1}^\\infty A_i) = \\sum_{i=1}^\\infty P(A_i)$$\n",
    "\n",
    "For a coin toss, let us consider $P(A) = \\frac{1}{2}|A|$.\n",
    "\n",
    "Lots of consequences can be reached from these simple things: e.g., $P(\\emptyset)$ or $P(A^C) = 1 - P(A)$, etc."
   ]
  },
  {
   "cell_type": "markdown",
   "metadata": {
    "slideshow": {
     "slide_type": "slide"
    }
   },
   "source": [
    "## Fundamentals of Probability Theory\n",
    "\n",
    "**Theorem**: Let $(\\text{S}, \\mathcal{S}, P)$ be a probability space. Then:\n",
    "\n",
    "1. *Monotonicity:* $\\forall A, B \\in \\mathcal{S}$, if $A \\subseteq B$, then $P(A) \\leq P(B)$.\n",
    "\n",
    "1. *Subtraction rule*: $\\forall A, B \\in \\mathcal{S}$, if $A \\subseteq B$, then $P(B \\setminus A) = P(B) - P(A)$. \n",
    "\n",
    "1. *Zero probability of the empty set:* $P(\\emptyset) = 0$.\n",
    "\n",
    "1. *Probability bounds:* $\\forall A \\in \\mathcal{S}$, $0 \\leq P(A) \\leq 1$.\n",
    "\n",
    "1. *Complement rule:* $\\forall A \\in \\mathcal{S}$, $P(A^C) = 1 - P(A)$."
   ]
  },
  {
   "cell_type": "markdown",
   "metadata": {
    "slideshow": {
     "slide_type": "slide"
    }
   },
   "source": [
    "## Fundamentals of Probability Theory\n",
    "\n",
    "**Definition: Joint Probability**: For $A, B \\in \\mathcal{S}$, the joint probability of $A$ and $B$ is $P(A \\cap B)$\n",
    "\n",
    "- Example: Chance of rolling a die and get an even number bigger than three.\n",
    "\n",
    "**Theorem: Addition Rule**: For $A, B \\in \\mathcal{S}$\n",
    "\n",
    "$$ P(A \\cup B) \\ = \\ P(A) + P(B) - P(A \\cap B) $$\n",
    "\n",
    "Note that $A \\setminus B = A \\setminus (A \\cap B)$"
   ]
  },
  {
   "cell_type": "markdown",
   "metadata": {
    "slideshow": {
     "slide_type": "slide"
    }
   },
   "source": [
    "## Fundamentals of Probability Theory\n",
    "\n",
    "**Check-in:**\n",
    "\n",
    "1. In a certain city, three newspapers A, B, and C are published. \n",
    "    - Suppose that 60 percent of the families in the city subscribe to newspaper A, 40 percent of the families subscribe to newspaper B, and 30 percent subscribe to newspaper C. \n",
    "    - Suppose also that 20 percent of the families subscribe to both A and B, 10 percent subscribe to both A and C, 20 percent subscribe to both B and C, and 5 percent subscribe to all three newspapers A, B, and C.\n",
    "    -  What percentage of the families in the city subscribe to at least one of the three newspapers?"
   ]
  },
  {
   "cell_type": "markdown",
   "metadata": {
    "slideshow": {
     "slide_type": "slide"
    }
   },
   "source": [
    "## Fundamentals of Probability Theory\n",
    "\n",
    "**Theorem - Bonferroni Inequality**: For all events $A_1$, $A_2$, $\\cdots$, $A_n$:\n",
    "\n",
    "1. $$P\\bigg( \\bigcup_{i=1}^nA_i \\bigg) \\leq \\sum_{i=1}^n P(A_i) $$\n",
    "1. $$P\\bigg( \\bigcap_{i=1}^nA_i \\bigg) \\geq 1 - \\sum_{i=1}^n P(A_i^c) $$\n",
    "\n",
    "**Fact**: Probability zero does not mean impossible!"
   ]
  },
  {
   "cell_type": "markdown",
   "metadata": {
    "slideshow": {
     "slide_type": "slide"
    }
   },
   "source": [
    "## Fundamentals of Probability Theory\n",
    "\n",
    "**Check-in:**\n",
    "\n",
    "1. A student selected from a class will be either a boy or a girl. If the probability that a boy will be selected is 0.3, what is the probability that a girl will be selected?\n",
    "\n",
    "1. If the probability that student $A$ will fail a certain statistics examination is $0.5$, the probability that student $B$ will fail the examination is $0.2$, and the probability that both student $A$ and student $B$ will fail the examination is $0.1$, what is the probability that at least one of these two students will fail the examination?\n",
    "\n",
    "1. Consider two events $A$ and $B$ with $P(A) = 0.4$ and $P(B) = 0.7$. Determine the maximum and minimum possible values of $P(A \\cap B)$ and the conditions under which each of these values is attained.\n",
    "\n",
    "1. For two arbitrary events $A$ and $B$, prove that\n",
    "\n",
    "$$P(A) = P(A\\cap B) + P(A \\cap B^c)$$"
   ]
  },
  {
   "cell_type": "markdown",
   "metadata": {
    "slideshow": {
     "slide_type": "slide"
    }
   },
   "source": [
    "## Fundamentals of Probability Theory\n",
    "\n",
    "### Finite sample spaces\n",
    "\n",
    "We can do a lot with finite sample spaces.\n",
    "\n",
    "Let $S$ containing oucomes $s_1, \\cdots, s_n$.\n",
    "\n",
    "1. The probability assigned for each outcome is $1/n$\n",
    "1. The probability of an event $A$ containing $m$ outcomes is:\n",
    "\n",
    "$$P(A) = \\dfrac{m}{n}$$"
   ]
  },
  {
   "cell_type": "markdown",
   "metadata": {
    "slideshow": {
     "slide_type": "slide"
    }
   },
   "source": [
    "## Fundamentals of Probability Theory\n",
    "\n",
    "**Check-in:** \n",
    "\n",
    "1. If three fair coins are tossed, what is the probability that all three faces will be the same?\n",
    "\n",
    "1. A school contains students in grades 1, 2, 3, 4, 5, and 6. Grades 2, 3, 4, 5, and 6 all contain the same number of students, but there are twice this number in grade 1. If a student is selected at random from a list of all the students in the school, what is the probability that she will be in grade 3?"
   ]
  },
  {
   "cell_type": "markdown",
   "metadata": {
    "slideshow": {
     "slide_type": "slide"
    }
   },
   "source": [
    "## Fundamentals of Probability Theory\n",
    "\n",
    "### Counting methods\n",
    "\n",
    "As we just saw, one way to determine the probability of events is to count the number of events in a set and the size of the sample space.\n",
    "\n",
    "We need to learn how to count when things become complicated.\n",
    "\n",
    "**Definition -- Two-part Experiments:** Consider an experiment that has the following two characteristics:\n",
    "\n",
    "1. The experiment is performed in two parts.\n",
    "1. The first part of the experiment has $m$ possible outcomes and, regardless of which one of these outcomes occurs, the second part of the experiment has $n$ possible outcomes.\n",
    "\n",
    "**Multiplication rule for two-part experiments:** In two-part experiments, the sample size is the product of the two sizes of the experiment."
   ]
  },
  {
   "cell_type": "markdown",
   "metadata": {
    "slideshow": {
     "slide_type": "slide"
    }
   },
   "source": [
    "## Fundamentals of Probability Theory\n",
    "\n",
    "### Counting methods\n",
    "\n",
    "1. How many ways we get from city A to city C?\n",
    "\n",
    "![img](https://github.com/umbertomig/CSSBootCamp/blob/main/img/mult.png?raw=true)\n",
    "\n",
    "2. A standard combination lock has a dial with tick marks for 40 numbers from 0 to 39. The combination consists of a sequence of three numbers that must be dialed in the correct order to open the lock. How many combinations?"
   ]
  },
  {
   "cell_type": "markdown",
   "metadata": {
    "slideshow": {
     "slide_type": "slide"
    }
   },
   "source": [
    "## Fundamentals of Probability Theory\n",
    "\n",
    "### Counting methods\n",
    "\n",
    "**Definition--Permutations:** Suppose that a set has $n$ elements. Suppose that an experiment consists of selecting $k$ of the elements one at a time *without replacement*. Let each outcome consist of the k elements in the order selected. Each such outcome is called a permutation of $n$ elements taken $k$ at a time. We denote the number of distinct such permutations by the symbol $P_{n, k} = n \\times (n-1) \\cdots (n-k-1)$.\n",
    "\n",
    "Using factorials:\n",
    "\n",
    "$$P_{n, k} = \\dfrac{n!}{(n-k)!}$$\n",
    "\n",
    "1. Consider an experiment in which a card is selected and removed from a deck of $n$ different cards, a second card is then selected and removed from the remaining $n − 1$ cards, and finally a third card is selected from the remaining $n − 2$ cards. How many possible outcomes?\n",
    "\n",
    "1. The Current Population Survey (Census Bureau) researchers 50k people every month. How many different samples of three people we can extract from it?\n",
    "\n",
    "1. Suppose that six different books are to be arranged on a shelf. How many possible permutations we have?\n",
    "\n",
    "1. Suppose that a club consists of 25 members and that a president and a secretary are to be chosen from the membership. How many possible combinations to fill the positions?"
   ]
  },
  {
   "cell_type": "markdown",
   "metadata": {
    "slideshow": {
     "slide_type": "slide"
    }
   },
   "source": [
    "## Fundamentals of Probability Theory\n",
    "\n",
    "### Counting methods\n",
    "\n",
    "**Sampling with Replacement**: Consider a box that contains n balls numbered $1$ to $n$.\n",
    "\n",
    "First, one ball is selected at random from the box and its number is noted. \n",
    "\n",
    "This ball is then put back in the box and another ball is selected (it is possible that the same\n",
    "ball will be selected again). \n",
    "\n",
    "As many balls as desired can be selected in this way.\n",
    "\n",
    "This process is called **sampling with replacement**. \n",
    "\n",
    "It is assumed that each of the $n$ balls is equally likely to be selected at each stage and that all selections are made independently of each other.\n",
    "\n",
    "Suppose that $k$ selections were made. \n",
    "\n",
    "1. What is the total number of possible outcomes?\n",
    "1. What is the chance of these outcomes?\n",
    "\n",
    "**Interesting** What is the chance that in a group, two people would have the same birthday?"
   ]
  },
  {
   "cell_type": "markdown",
   "metadata": {
    "slideshow": {
     "slide_type": "slide"
    }
   },
   "source": [
    "## Fundamentals of Probability Theory\n",
    "\n",
    "### Counting methods\n",
    "\n",
    "**Sampling with Replacement**:\n",
    "\n",
    "Suppose that $k$ selections were made. \n",
    "\n",
    "1. What is the total number of possible outcomes?\n",
    "1. What is the chance of these outcomes?\n",
    "\n",
    "- What is the chance of, after drawing $k$ balls, they have all different numbers?\n",
    "\n",
    "$$p = \\dfrac{P_{n, k}}{n^k}$$\n",
    "\n",
    "**Interesting** What is the chance that in a group, two people would have the same birthday?"
   ]
  },
  {
   "cell_type": "markdown",
   "metadata": {
    "slideshow": {
     "slide_type": "slide"
    }
   },
   "source": [
    "## Fundamentals of Probability Theory\n",
    "\n",
    "**Check-in:** \n",
    "\n",
    "1. In how many different ways can the five letters a, b, c, d, and e be arranged?\n",
    "\n",
    "1. An elevator in a building starts with five passengers and stops at seven floors. If every passenger is equally likely to get off at each floor and all the passengers leave independently of each other, what is the probability that no two passengers will get off at the same floor?"
   ]
  },
  {
   "cell_type": "markdown",
   "metadata": {
    "slideshow": {
     "slide_type": "slide"
    }
   },
   "source": [
    "## Fundamentals of Probability Theory\n",
    "\n",
    "**Definition: Conditional Probability**: For $A, B \\in \\mathcal{S}$, the **joint probability of A and B** is \n",
    "\n",
    "$$ P(A|B) \\ = \\dfrac{P(A \\cap B)}{P(B)} $$\n",
    "\n",
    "**Theorem: Multiplicative Law**: For $A, B \\in \\mathcal{S}$, with $P(B) > 0$, then $P(A | B)P(B) = P(A \\cap B)$."
   ]
  },
  {
   "cell_type": "markdown",
   "metadata": {
    "slideshow": {
     "slide_type": "slide"
    }
   },
   "source": [
    "## Fundamentals of Probability Theory\n",
    "\n",
    "**Check-in:**\n",
    "\n",
    "1. Suppose that two dice were rolled and it was observed that the sum $T$ of the two numbers was odd. Determine the probability that $T$ was less than 8."
   ]
  },
  {
   "cell_type": "markdown",
   "metadata": {
    "slideshow": {
     "slide_type": "slide"
    }
   },
   "source": [
    "## Fundamentals of Probability Theory\n",
    "\n",
    "One of the most important consequences of this reasoning is the *Bayes theorem*.\n",
    "\n",
    "1. It provides a foundation for us to update the predictive probability of events\n",
    "1. Example: Suppose that we want to predict an event $A$. If we observe an event $B$, we can use the information of $B$ to improve our understanding about the chance of $A$ occuring.\n",
    "1. Concrete example: Suppose you want to go to the beach (yes, please, desperately...). Then, if you see a cloud in the sky, you can update your accessment of the chance that it is going to rain.\n",
    "\n",
    "**Theorem: Bayes Rule**: For $A, B \\in \\mathcal{S}$, with $P(A) > 0$ and $P(B) > 0$, \n",
    "\n",
    "$$ P(A | B) \\ = \\ \\dfrac{P(B|A)P(A)}{P(B)} $$"
   ]
  },
  {
   "cell_type": "markdown",
   "metadata": {
    "slideshow": {
     "slide_type": "slide"
    }
   },
   "source": [
    "## Fundamentals of Probability Theory\n",
    "\n",
    "**Check-in**: \n",
    "\n",
    "1. Suppose that you are walking down the street and notice that the Department of Public Health is giving a free medical test for a certain disease. The test is 90 percent reliable in the following sense: If a person has the disease, there is a probability of 0.9 that the test will give a positive response; whereas, if a person does not have the disease, there is a probability of only 0.1 that the test will give a positive response. $\\newline$ Data indicate that your chances of having the disease are only 1 in 10,000. However, since the test costs you nothing, and is fast and harmless, you decide to stop and take the test. A few days later you learn that you had a positive response to the test. Now, what is the probability that you have the disease? $\\newline\\newline$\n",
    "\n",
    "1. In a certain city, 30 percent of the people are Conservatives, 50 percent are Liberals, and 20 percent are Independents. Records show that in a particular election, 65 percent of the Conservatives voted, 82 percent of the Liberals voted, and 50 percent of the Independents voted. If a person in the city is selected at random and it is learned that she did not vote in the last election, what is the probability that she is a Liberal?"
   ]
  },
  {
   "cell_type": "markdown",
   "metadata": {
    "slideshow": {
     "slide_type": "slide"
    }
   },
   "source": [
    "## Fundamentals of Probability Theory\n",
    "\n",
    "**Definition - Partition**: If $\\{A_{1},A_{2},\\cdots \\}$, with $A_{i} \\in \\mathcal{S}$, are non-empty and pairwise disjoint sets such that $\\Omega = \\cup_i A_{i}$, the set $\\{A_{1},A_{2},\\cdots\\}$ is called a *partition* of $\\Omega$.\n",
    "\n",
    "**Theorem - Law of Total Probability**: If $\\{ A_{1}, A_{2}, \\cdots \\}$ is a partition of $\\Omega$, and $B \\in \\mathcal{S}$, then\n",
    "\n",
    "$$ P(B) \\ = \\ \\sum_{i} P(B \\cap A_{i}) $$\n",
    "\n",
    "And if, $\\forall i$,  $P(A_{i}) > 0$, then\n",
    "\n",
    "$$ P(B) \\ = \\ \\sum_{i} P( B | A_{i}) P(A_{i}) $$"
   ]
  },
  {
   "cell_type": "markdown",
   "metadata": {
    "slideshow": {
     "slide_type": "slide"
    }
   },
   "source": [
    "## Fundamentals of Probability Theory\n",
    "\n",
    "**Check-in:**\n",
    "\n",
    "1. Each time a shopper purchases a tube of toothpaste, she chooses either brand A or brand B. Suppose that for each purchase after the first, the probability is 1/3 that she will choose the same brand that she chose on his preceding purchase and the probability is 2/3 that she will switch brands. If she is equally likely to choose either brand A or brand B on her first purchase, what is the probability that both her first and second purchases will be brand A and both her third and fourth purchases will be brand B?"
   ]
  },
  {
   "cell_type": "markdown",
   "metadata": {
    "slideshow": {
     "slide_type": "slide"
    }
   },
   "source": [
    "## Independence\n",
    "\n",
    "**Definition - Independence of Events**: Events $A, B \\in S$ are *independent* if $\\mathbb{P}(A \\cap B) = \\mathbb{P}(A)\\mathbb{P}(B)$\n",
    "\n",
    "**Theorem - Conditional Probability and Independence**: For $A, B \\in S$, with $\\mathbb{P}(B) > 0$, $A$ and $B$ are independent if, and only if, $\\mathbb{P}(A|B) = \\mathbb{P}(A)$."
   ]
  },
  {
   "cell_type": "markdown",
   "metadata": {
    "slideshow": {
     "slide_type": "slide"
    }
   },
   "source": [
    "## Independence\n",
    "\n",
    "**People v. Collins.** \n",
    "\n",
    "- Finkelstein and Levin (1990) describe a criminal case whose verdict was overturned by the Supreme Court of California in part due to a probability calculation involving both conditional probability and independence. \n",
    "\n",
    "- The case, People v. Collins, 68 Cal. 2d 319, 438 P.2d 33 (1968), involved a purse snatching in which witnesses claimed to see a young woman with blond hair in a ponytail fleeing from the scene in a yellow car driven by a black man with a beard. \n",
    "\n",
    "- A couple meeting the description was arrested a few days after the crime, but no physical evidence was found.\n",
    "\n",
    "- A mathematician calculated the probability that a randomly selected couple would possess the described characteristics as about $8.3 \\times 10^{−8}$, or 1 in 12 million. \n",
    "\n",
    "- Faced with such overwhelming odds and no physical evidence, the jury decided that the defendants must have been the only such couple and convicted them."
   ]
  },
  {
   "cell_type": "markdown",
   "metadata": {
    "slideshow": {
     "slide_type": "slide"
    }
   },
   "source": [
    "## Independence\n",
    "\n",
    "**People v. Collins.** \n",
    "\n",
    "- The Supreme Court thought that a more useful probability should have been calculated. \n",
    "\n",
    "- Based on the testimony of the witnesses, there was a couple that met the above description. Given that there was already one couple who met the description, ***what is the conditional probability that there was also a second couple such as the defendants?***\n",
    "\n",
    "- Let $p$ be the probability that a randomly selected couple from a population of $n$ couples has certain characteristics. \n",
    "\n",
    "- Let $A$ be the event that at least one couple in the population has the characteristics, and let $B$ be the event that at least two couples have the characteristics.\n",
    "\n",
    "- What is $P(B|A)$? Since $B \\subset A$:\n",
    "\n",
    "$$P(B|A) = \\dfrac{P(B \\cup A)}{P(A)} = \\dfrac{P(B)}{P(A)}$$"
   ]
  },
  {
   "cell_type": "markdown",
   "metadata": {
    "slideshow": {
     "slide_type": "slide"
    }
   },
   "source": [
    "## Independence\n",
    "\n",
    "**People v. Collins.** \n",
    "\n",
    "- To compute $P(A)$ and $P(B)$, suppose we number couples in the population $1, 2, \\cdots, n$. \n",
    "\n",
    "- Let $A_i$ the event that couple $i$ has the characteristic. Then, (A) ***the event that at least one couple has the characteristic*** is equal to:\n",
    "\n",
    "$$A = (A_1^C \\cap A_2^C \\cap \\cdots \\cap A_n^C)^C$$\n",
    "\n",
    "- Now, let us consider (C) ***the chance that exactly one couple has this characteristic***:\n",
    "\n",
    "$$C = (A_1 \\cap A_2^C \\cap \\cdots \\cap A_n^C) \\cup (A_1^C \\cap A_2 \\cap \\cdots \\cap A_n^C) \\cup \\cdots \\cup (A_1^C \\cap A_2^C \\cap \\cdots \\cap A_n)$$\n",
    "\n",
    "- Now $B$, which is (B) ***the event that at least two couples have the characteristics***, is equal to:\n",
    "\n",
    "$$B = A \\cap C^C$$"
   ]
  },
  {
   "cell_type": "markdown",
   "metadata": {
    "slideshow": {
     "slide_type": "slide"
    }
   },
   "source": [
    "## Independence\n",
    "\n",
    "**People v. Collins.**\n",
    "\n",
    "- Assuming the $n$ couples are mutually independent:\n",
    "\n",
    "    - $P(A^C) = (1-p)^n$ and $P(A) = 1 - (1-p)^n$\n",
    "    - $P(C) = np(1-p)^{n-1}$\n",
    "    - The chance that at least two couples have the same characteristics is equal to the chance that at least one minus exactly one. $P(B) = P(A) - P(C) = 1-(1-p)^n - np(1-p)^{n-1}$\n",
    "\n",
    "$$P(B|A) = \\dfrac{1-(1-p)^n - np(1-p)^{n-1}}{1 - (1-p)^n}$$\n",
    "\n",
    "- And if $n = 8,000,000$ and $p = 8.3 \\times 10^{-8}$, $P(B|A) = 0.2966$. \n",
    "\n",
    "- Thus, the Supreme Court ruled that there was enough grounds for reasonable doubt."
   ]
  },
  {
   "cell_type": "markdown",
   "metadata": {
    "slideshow": {
     "slide_type": "slide"
    }
   },
   "source": [
    "## Independence\n",
    "\n",
    "**Check-in**:\n",
    "\n",
    "1. Suppose that two machines 1 and 2 in a factory are operated independently of each other. Let $A$ be the event that machine 1 will become inoperative during a given 8-hour period, let $B$ be the event that machine 2 will become inoperative during the same period, and suppose that $P(A) = 1/3$ and $P(B) = 1/4$. What is the chance that at least one machine will become inoperative during a given period?\n",
    "\n",
    "1. Use the fact that $P(A \\cap B^C) = P(A) - P(A \\cap B)$ to prove that if two events $A$ and $B$ are independent, then the events $A$ and $B^C$ are also independent.\n",
    "\n",
    "1. Suppose that a fair coin is tossed until a head appears for the first time, and assume that the outcomes of the tosses are independent. What is the probability $p_n$ that exactly $n$ tosses will be required."
   ]
  },
  {
   "cell_type": "markdown",
   "metadata": {
    "slideshow": {
     "slide_type": "slide"
    }
   },
   "source": [
    "## Random Variable\n",
    "\n",
    "**Definition: Random Variable**: A *random variable* is a function $X: \\Omega \\rightarrow \\mathbb{R}$ such that, $\\forall r \\in \\mathbb{R}$, $\\{\\omega \\in \\Omega: X(\\omega) \\leq r\\} \\in \\mathcal{S}$\n",
    "\n",
    "A random variable maps each state of the world ($\\omega \\in \\Omega$) to a real number.\n",
    "\n",
    "- Example: The event $\\{X = 1\\}$ means $\\{\\omega \\in \\Omega: X(\\omega) = 1\\}$\n",
    "    \n",
    "- Example: Consider an experiment where a fair coin is tossed 10 times. We can define a random variable $X$ that counts the number of heads."
   ]
  },
  {
   "cell_type": "markdown",
   "metadata": {
    "slideshow": {
     "slide_type": "slide"
    }
   },
   "source": [
    "## Random Variable\n",
    "\n",
    "When a probability measure has been defined on the sample space, we can determine the probabilities associated with each possible value of the random variable.\n",
    "\n",
    "**Definition - Distribution**: Let $X$ be a random variable. The **distribution** of $X$ is the collection of all probabilities of the form $P(X \\in C$ for all sets $C$ of real numbers such that $\\{X \\in X\\}$."
   ]
  },
  {
   "cell_type": "markdown",
   "metadata": {
    "slideshow": {
     "slide_type": "slide"
    }
   },
   "source": [
    "## Random Variable\n",
    "\n",
    "**Definition - Discrete Random Variable**: A *random variable* $X$ is discrete if takes at most $k$ values or an infinite sequence of countable values.\n",
    "\n",
    "Example: In the 10 times coin toss example, each outcome has chance $\\dfrac{1}{2^{10}}$. But there are ${10 \\choose x}$ number of events with $x$ heads. Therefore:\n",
    "\n",
    "$$P(X = x) = {10 \\choose x}\\dfrac{1}{2^{10}}$$\n",
    "\n",
    "**Definition - Probability Mass Function (PMF) and Support**:\n",
    "\n",
    "- Probability mass function: $f(x) = P(X = x)$\n",
    "\n",
    "- Support of a probability function: The closure of the set $\\{x: f(x) > 0\\}$."
   ]
  },
  {
   "cell_type": "markdown",
   "metadata": {
    "slideshow": {
     "slide_type": "slide"
    }
   },
   "source": [
    "## Random Variable\n",
    "\n",
    "**Theorem**: If $X$ has a discrete distribution, the the probability of each subset $C$ in the real line is:\n",
    "\n",
    "$$P(X \\in C) = \\sum_{x_i \\in C} f(x_i)$$\n",
    "\n",
    "**Definition - Bernoulli Distribution**: A random variable $Z$ that takes only two values $0$ and $1$ with $P(Z = 1) = p$ has the ***Bernoulli distribution*** with parameter p. We also say that $Z$ is a Bernoulli random variable with parameter $p$ and denote $Z \\sim Bernoulli(p)$\n",
    "\n",
    "The distribution of the variable is:\n",
    "\n",
    "$$\n",
    "f(x) =\n",
    "  \\begin{cases}\n",
    "    1-p & \\text{for $x = 0$} \\\\\n",
    "    p & \\text{for $x = 1$} \\\\\n",
    "    0 & \\text{otherwise}\n",
    "  \\end{cases}\n",
    "$$"
   ]
  },
  {
   "cell_type": "markdown",
   "metadata": {
    "slideshow": {
     "slide_type": "slide"
    }
   },
   "source": [
    "## Random Variable\n",
    "\n",
    "**Definition - Uniform Distribution**: Let $a \\leq b$ integers. Suppose that the value of a random variable $X$ is equally likely to be each of the integers $a, \\cdots, b$. Then we say that $X$ has the uniform distribution on the integers $a, \\cdots, b$.\n",
    "\n",
    "The distribution of the variable is:\n",
    "\n",
    "$$\n",
    "f(x) =\n",
    "  \\begin{cases}\n",
    "    \\dfrac{1}{b - a + 1} & \\text{for $x = a, \\cdots, b$} \\\\\n",
    "    0 & \\text{otherwise}\n",
    "  \\end{cases}\n",
    "$$"
   ]
  },
  {
   "cell_type": "markdown",
   "metadata": {
    "slideshow": {
     "slide_type": "slide"
    }
   },
   "source": [
    "## Random Variable\n",
    "\n",
    "Suppose that we want to model the distribution of votes for a given politician. If each person has chance $p$, the number of voters is $n$. Then, the chance that the politician gets $x$ votes is:\n",
    "\n",
    "$$P(X = x) = {n \\choose x} p^x(1-p)^{n-x}$$\n",
    "\n",
    "**Definition - Binomial Distribution**: The discrete distribution represented by the probability function\n",
    "\n",
    "$$\n",
    "f(x) =\n",
    "  \\begin{cases}\n",
    "    {n \\choose x} p^x(1-p)^{n-x} & \\text{for $x = 0, 1, \\cdots, n$} \\\\\n",
    "    0 & \\text{otherwise}\n",
    "  \\end{cases}\n",
    "$$\n",
    "\n",
    "is called the binomial distribution with parameters $n$ and $p$."
   ]
  },
  {
   "cell_type": "markdown",
   "metadata": {
    "slideshow": {
     "slide_type": "slide"
    }
   },
   "source": [
    "## Random Variable\n",
    "\n",
    "**Check-in**\n",
    "\n",
    "1. Suppose that a random variable X has the uniform distribution on the integers $10, \\cdots, 20$. Find the probability that X is even.\n",
    "\n",
    "1. Suppose that a random variable X has a discrete distribution with the following probability function: $$\n",
    "f(x) =\n",
    "  \\begin{cases}\n",
    "    cx & \\text{for $x = 1, \\cdots, 5$} \\\\\n",
    "    0 & \\text{otherwise}\n",
    "  \\end{cases}\n",
    "$$ Determine the value of the constant $c$."
   ]
  },
  {
   "cell_type": "markdown",
   "metadata": {
    "slideshow": {
     "slide_type": "slide"
    }
   },
   "source": [
    "# Great work!"
   ]
  }
 ],
 "metadata": {
  "celltoolbar": "Slideshow",
  "kernelspec": {
   "display_name": "Python 3 (ipykernel)",
   "language": "python",
   "name": "python3"
  },
  "language_info": {
   "codemirror_mode": {
    "name": "ipython",
    "version": 3
   },
   "file_extension": ".py",
   "mimetype": "text/x-python",
   "name": "python",
   "nbconvert_exporter": "python",
   "pygments_lexer": "ipython3",
   "version": "3.9.18"
  }
 },
 "nbformat": 4,
 "nbformat_minor": 4
}
