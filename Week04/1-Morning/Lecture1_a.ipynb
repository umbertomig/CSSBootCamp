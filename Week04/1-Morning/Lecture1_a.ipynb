{
 "cells": [
  {
   "cell_type": "markdown",
   "id": "7858c313",
   "metadata": {
    "slideshow": {
     "slide_type": "slide"
    }
   },
   "source": [
    "# CSS 201.5 - CSS Bootcamp\n",
    "\n",
    "## Python Programming\n",
    "\n",
    "### Umberto Mignozzetti (UCSD)"
   ]
  },
  {
   "cell_type": "markdown",
   "id": "83f91d20-aec1-44d9-b57d-b362d034ec6a",
   "metadata": {
    "slideshow": {
     "slide_type": "slide"
    }
   },
   "source": [
    "## Recap\n",
    "\n",
    "### Week 01\n",
    "\n",
    "- **Morning**: Basic data analysis (load csv data; check it; produce plots)\n",
    "\n",
    "- **Afternoon**: Calculus (derivatives; integrals; exps and logs; sympy)\n",
    "\n",
    "### Week 02\n",
    "\n",
    "- **Morning**: Advanced data analysis (data wrangling; cat vars; dates and times)\n",
    "\n",
    "- **Afternoon**: Linear Algebra$^*$ (linear spaces; matrix algebra; inner products)\n",
    "\n",
    "### Week 03\n",
    "\n",
    "- **Morning**: Computational methods\n",
    "\n",
    "- **Afternoon**: Computational methods\n",
    "\n",
    "### **Are you awesome or what?**"
   ]
  },
  {
   "cell_type": "markdown",
   "id": "734c80e3-ca58-4ada-9397-31e4aa0a6158",
   "metadata": {
    "slideshow": {
     "slide_type": "slide"
    }
   },
   "source": [
    "## This Week\n",
    "\n",
    "- **Morning**: Intro to Python Programming\n",
    "- **Afternoon**: Probability Theory"
   ]
  },
  {
   "cell_type": "markdown",
   "id": "e426df81",
   "metadata": {
    "slideshow": {
     "slide_type": "slide"
    }
   },
   "source": [
    "# Python Programming"
   ]
  },
  {
   "cell_type": "markdown",
   "id": "888e7e73",
   "metadata": {
    "slideshow": {
     "slide_type": "slide"
    }
   },
   "source": [
    "## Python Programming\n",
    "\n",
    "Look at this code:\n",
    "\n",
    "```python\n",
    "# Multiple histograms\n",
    "fig = go.Figure()\n",
    "dropdown_buttons = [\n",
    "    {'label': 'education', 'method': 'restyle',\n",
    "     'args': [{'visible': [True, False, False, False]},\n",
    "              {'title': 'Education'}]},\n",
    "    {'label': 'income', 'method': 'restyle',\n",
    "     'args': [{'visible': [False, True, False, False]},\n",
    "              {'title': 'Income'}]},\n",
    "    {'label': \"young\", 'method': \"restyle\",\n",
    "     'args': [{\"visible\": [False, False, True, False]},\n",
    "              {'title': 'Young'}]},\n",
    "    {'label': \"urban\", 'method': \"restyle\",\n",
    "     'args': [{\"visible\": [False, False, False, True]},\n",
    "              {'title': 'Urban'}]}\n",
    "]\n",
    "fig.update_layout({\n",
    "    'updatemenus':[{\n",
    "        'type': \"dropdown\",\n",
    "        'x': 1.3,\n",
    "        'y': 0.5,\n",
    "        'showactive': True,\n",
    "        'active': 0,\n",
    "        'buttons': dropdown_buttons}]\n",
    "})\n",
    "for var in ['education', 'income', 'young', 'urban']:\n",
    "    fig.add_trace(go.Histogram(x = educ[var], nbinsx = 10, name = var))\n",
    "fig.show()\n",
    "```\n",
    "\n",
    "1. Some stuff has quotes around it\n",
    "1. Some stuff is in curly brackets\n",
    "1. Some stuff is in square brackets\n",
    "1. Some stuff is within parenthesis\n",
    "1. Some stuff is indented\n",
    "\n",
    "Why?"
   ]
  },
  {
   "cell_type": "markdown",
   "id": "e1b19938",
   "metadata": {
    "slideshow": {
     "slide_type": "slide"
    }
   },
   "source": [
    "## Python Programming\n",
    "\n",
    "You can analyze data without knowing what is what in here.\n",
    "\n",
    "Great, ***but what is really going on?!?!?!***\n",
    "\n",
    "To do powerful things in python, you need to understand what is going on.\n",
    "\n",
    "Python was not built to stats, but to create programs.\n",
    "\n",
    "Some example softwares build in python: *Google, Instagram, Reddit, Spotify, Dropbox, Youtube*, and many others.\n",
    "\n",
    "> \n",
    "**In the next five morning lectures, we will learn how to code. In the next five, you will perfect your skills.**\n",
    "> "
   ]
  },
  {
   "cell_type": "markdown",
   "id": "145a49e6",
   "metadata": {
    "slideshow": {
     "slide_type": "slide"
    }
   },
   "source": [
    "## Python expressions\n",
    "\n",
    "An **expression** is just a block of code, e.g.,\n",
    "\n",
    "```python\n",
    "a = 1\n",
    "b = 2\n",
    "c = a + b\n",
    "```\n",
    "\n",
    "Key things to remember:\n",
    "\n",
    "- Python will **execute** (run) an expression from top to bottom.  \n",
    "- Expressions must obey the **syntax** of Python (we'll discuss this more later).  \n"
   ]
  },
  {
   "cell_type": "markdown",
   "id": "5bcbece7",
   "metadata": {
    "slideshow": {
     "slide_type": "slide"
    }
   },
   "source": [
    "### Literal expressions\n",
    "\n",
    "- Some kinds of code will be interpreted \"literally\" by Python.  \n",
    "- A [literal](https://www.scaler.com/topics/python/literals-in-python/) is a kind of object/quantity whose value does not change during the execution of a program (i.e., these are *not* variables).  "
   ]
  },
  {
   "cell_type": "code",
   "execution_count": null,
   "id": "5424d64e",
   "metadata": {
    "slideshow": {
     "slide_type": "-"
    }
   },
   "outputs": [],
   "source": [
    "## Literals can be numbers\n",
    "2"
   ]
  },
  {
   "cell_type": "code",
   "execution_count": null,
   "id": "ea256ccb",
   "metadata": {
    "slideshow": {
     "slide_type": "-"
    }
   },
   "outputs": [],
   "source": [
    "# Or strings\n",
    "\"Hello, world!\""
   ]
  },
  {
   "cell_type": "code",
   "execution_count": null,
   "id": "e9e88bb9",
   "metadata": {
    "slideshow": {
     "slide_type": "-"
    }
   },
   "outputs": [],
   "source": [
    "# Or a \"boolean\"\n",
    "True"
   ]
  },
  {
   "cell_type": "code",
   "execution_count": null,
   "id": "a4f7df4c",
   "metadata": {
    "slideshow": {
     "slide_type": "-"
    }
   },
   "outputs": [],
   "source": [
    "# Or even the special value \"None\"\n",
    "None"
   ]
  },
  {
   "cell_type": "markdown",
   "id": "4931cc0e",
   "metadata": {
    "slideshow": {
     "slide_type": "slide"
    }
   },
   "source": [
    "### Your turn\n",
    "\n",
    "You are going to create a literal. Type your name, between quotation marks (single or double, doesn't matter)."
   ]
  },
  {
   "cell_type": "code",
   "execution_count": null,
   "id": "28cb73ba",
   "metadata": {
    "slideshow": {
     "slide_type": "fragment"
    }
   },
   "outputs": [],
   "source": [
    "## Your code in here!"
   ]
  },
  {
   "cell_type": "markdown",
   "id": "08df9d24",
   "metadata": {
    "slideshow": {
     "slide_type": "slide"
    }
   },
   "source": [
    "### Variables\n",
    "\n",
    "- A **variable** stores a particular value.  \n",
    "  - You can think of this as a **container**.  \n",
    "  - Technically, a variable *points* to an object in memory.  \n",
    "  \n",
    "![image](https://github.com/umbertomig/CSSBootCamp/blob/main/img/var1.png?raw=true)"
   ]
  },
  {
   "cell_type": "markdown",
   "id": "2d8badf4",
   "metadata": {
    "slideshow": {
     "slide_type": "slide"
    }
   },
   "source": [
    "### Variables\n",
    "\n",
    "- Unlike literals, the value of a variable can change (i.e., it can **vary**).  \n",
    "- Variables can be \"set\" (or \"assigned\") using the **assignment operator** (`=`).\n",
    "\n",
    "The syntax is:\n",
    "\n",
    "```python\n",
    "name_of_variable = value\n",
    "```\n",
    "\n",
    "![image](https://github.com/umbertomig/CSSBootCamp/blob/main/img/var2.png?raw=true)"
   ]
  },
  {
   "cell_type": "markdown",
   "id": "31a84705",
   "metadata": {
    "slideshow": {
     "slide_type": "slide"
    }
   },
   "source": [
    "### Variables\n",
    "\n",
    "Examples:"
   ]
  },
  {
   "cell_type": "code",
   "execution_count": null,
   "id": "563e8813",
   "metadata": {
    "slideshow": {
     "slide_type": "-"
    }
   },
   "outputs": [],
   "source": [
    "## This assigns the variable name \"example_var\" to the value 1.\n",
    "example_var = 1\n",
    "example_var"
   ]
  },
  {
   "cell_type": "code",
   "execution_count": null,
   "id": "5466c8f0",
   "metadata": {
    "slideshow": {
     "slide_type": "-"
    }
   },
   "outputs": [],
   "source": [
    "## This assigns the variable name \"example_var\" to the value 1.\n",
    "example_var2 = \"This is a string\"\n",
    "example_var2"
   ]
  },
  {
   "cell_type": "markdown",
   "id": "9356d787",
   "metadata": {
    "slideshow": {
     "slide_type": "slide"
    }
   },
   "source": [
    "### Your turn\n",
    "\n",
    "What happens to the value of the variable `test_var` if we run the following code? Feel free to run it in the Jupyter notebook if you're not sure.\n",
    "\n",
    "```python\n",
    "test_var = 3\n",
    "test_var = test_var + 4\n",
    "```"
   ]
  },
  {
   "cell_type": "code",
   "execution_count": null,
   "id": "4b1f6aa0",
   "metadata": {
    "slideshow": {
     "slide_type": "-"
    }
   },
   "outputs": [],
   "source": [
    "## Your code here\n",
    "test_var = 3\n",
    "test_var = test_var + 4\n",
    "test_var"
   ]
  },
  {
   "cell_type": "markdown",
   "id": "d748773c",
   "metadata": {
    "slideshow": {
     "slide_type": "slide"
    }
   },
   "source": [
    "### Check-in\n",
    "\n",
    "What happens to the value of the variable `test_var` if we run this code? Feel free to run it in the Jupyter notebook if you're not sure.\n",
    "\n",
    "```python\n",
    "test_var = 3\n",
    "test_var = test_var + new_var\n",
    "```"
   ]
  },
  {
   "cell_type": "code",
   "execution_count": null,
   "id": "c2f16c0f",
   "metadata": {
    "slideshow": {
     "slide_type": "-"
    }
   },
   "outputs": [],
   "source": [
    "## Your code here\n",
    "test_var = 3\n",
    "test_var = test_var + new_var"
   ]
  },
  {
   "cell_type": "markdown",
   "id": "766575dd",
   "metadata": {
    "slideshow": {
     "slide_type": "slide"
    }
   },
   "source": [
    "### Quick detour: Exceptions and Errors\n",
    "\n",
    "- Sometimes, there's an [**error**](https://docs.python.org/3/tutorial/errors.html) in our code.  \n",
    "- Fundamentally, an error (or \"exception\") means that our code can't run as written. \n",
    "- But there are multiple reasons that an error can arise:  \n",
    "   - A `SyntaxError` means that we used the wrong syntax in our expression, e.g., it was formatted incorrectly.  \n",
    "   - Even if our code is formatted correctly, other errors can arise, such as a `NameError`.  \n",
    "- When an error arises, Python will give us a message indicating the type and source of the error."
   ]
  },
  {
   "cell_type": "code",
   "execution_count": null,
   "id": "bba5e966",
   "metadata": {
    "slideshow": {
     "slide_type": "-"
    }
   },
   "outputs": [],
   "source": [
    "# This code is referencing \"new_var\", which hasn't been defined\n",
    "new_var = '5'\n",
    "test_var + new_var"
   ]
  },
  {
   "cell_type": "markdown",
   "id": "5548da37",
   "metadata": {
    "slideshow": {
     "slide_type": "slide"
    }
   },
   "source": [
    "### Assigning variables (cont'd)\n",
    "\n",
    "In programming, `=` means **assignment**: it is *not* a test for **equality**.  \n",
    "\n",
    "- The `==` operator is a test for equality (e.g., `1 == (2 - 1)`). \n",
    "\n",
    "Multiple variables can be assigned in a single line:\n",
    "\n",
    "```python\n",
    "test_var = new_var = 2\n",
    "```\n",
    "\n",
    "The Python **interpreter** will always start with the rightmost value (e.g., `2`), then proceed to the left. \n",
    "\n",
    "Note that the order of these terms matters:\n",
    "\n",
    "```python\n",
    "test_var = 2   # This is okay!\n",
    "2 = test_var   # This is not okay!\n",
    "```"
   ]
  },
  {
   "cell_type": "markdown",
   "id": "31991766",
   "metadata": {
    "slideshow": {
     "slide_type": "slide"
    }
   },
   "source": [
    "### Rules on assigning variables\n",
    "\n",
    "- Names on the left, values on the right (e.g., `test_var = 2`).  \n",
    "- Names are case sensitive (the variable `test_var` cannot be accessed with `test_VAR`).  \n",
    "- Variable names must begin with a letter.  \n",
    "   - They can contain a number (e.g., `test1`) or under-score, but can't *begin* with a number or under-score. \n",
    "- Python [*mostly*](https://realpython.com/lessons/reserved-keywords/) doesn't care how you name your variables, though you should!\n",
    "   - Remember that code is intended to be **read** by others––so make sure it's clear!"
   ]
  },
  {
   "cell_type": "markdown",
   "id": "1ab12356",
   "metadata": {
    "slideshow": {
     "slide_type": "slide"
    }
   },
   "source": [
    "### Reserved words\n",
    "\n",
    "Python mostly doesn't care how you name variables, but there are a handful of **reserved words**. \n",
    "\n",
    "The [full list is here](https://realpython.com/lessons/reserved-keywords/), but here are some examples:\n",
    "\n",
    "- `in` \n",
    "- `True`\n",
    "- `for`\n",
    "\n",
    "Importantly, these keywords are **special literals** in Python, meaning they have a built-in function or value.\n",
    "\n",
    "- `in` checks if a value is in a `list`.  \n",
    "- `True` is a boolean type (as opposed to `False`).  \n",
    "- `for` is a way to start a `for` loop (more on this later).   "
   ]
  },
  {
   "cell_type": "code",
   "execution_count": null,
   "id": "e4052795",
   "metadata": {
    "slideshow": {
     "slide_type": "-"
    }
   },
   "outputs": [],
   "source": [
    "## This yields a SyntaxError\n",
    "For = 3"
   ]
  },
  {
   "cell_type": "markdown",
   "id": "9f06d9c7",
   "metadata": {
    "slideshow": {
     "slide_type": "slide"
    }
   },
   "source": [
    "## Namespaces\n",
    "\n",
    "A [**namespace**](https://realpython.com/python-namespaces-scope/) is the \"space\" where a given set of variable names have been *declared*.\n",
    "\n",
    "Recall that *assignment* creates a symbolic name that *points* to a particular value:\n",
    "\n",
    "```python\n",
    "new_var = 2\n",
    "```\n",
    "\n",
    "- Critically, that pointer only exists in the current namespace. \n",
    "- If you opened up a separate Jupyter notebook, `new_var` would not be defined."
   ]
  },
  {
   "cell_type": "markdown",
   "id": "7b7b2a07",
   "metadata": {
    "slideshow": {
     "slide_type": "slide"
    }
   },
   "source": [
    "### Types of namespaces\n",
    "\n",
    "Python has several types of namespaces:\n",
    "\n",
    "1. **Built-in**: Built-in objects within Python (e.g., **Exceptions**, **lists**, and more). These can be accessed from anywhere.  \n",
    "2. **Global**: Any objects defined in the main program. These can be accessed anywhere in the main program once you've defined them, but not in another Jupyter notebook, etc.\n",
    "3. **Local**: If you define new variables within a *function*, those variables can only be accessed within the \"scope\" of that function. (This will make more sense when we discuss functions.)"
   ]
  },
  {
   "cell_type": "markdown",
   "id": "dd89a0b7",
   "metadata": {
    "slideshow": {
     "slide_type": "slide"
    }
   },
   "source": [
    "### Checking the namespace\n",
    "\n",
    "To check the namespace you can type the command `whos`. Note that it only works on IPython (and Jypyter Notebooks)."
   ]
  },
  {
   "cell_type": "code",
   "execution_count": null,
   "id": "2b4061fd",
   "metadata": {
    "slideshow": {
     "slide_type": "-"
    }
   },
   "outputs": [],
   "source": [
    "whos"
   ]
  },
  {
   "cell_type": "markdown",
   "id": "b3117f63",
   "metadata": {
    "slideshow": {
     "slide_type": "slide"
    }
   },
   "source": [
    "## Variable Types\n",
    "\n",
    "Variables/values have different [**types**](https://www.w3schools.com/python/python_datatypes.asp). Intuitively, this is the \"type\" of thing that a variable is (a string, a number, etc.).  \n",
    "\n",
    "Here are some of the possible **types** in Python:\n",
    "\n",
    "| Type | Description | Example |\n",
    "| ---- | ----------- | ------- |\n",
    "| `str` | String/text | `\"A String\"`|\n",
    "| `int` | Integer     | `2`|\n",
    "| `float` | Float       | `2.6789`|\n",
    "| `list`| List | `[1, 2, 3]`|\n",
    "| `dict`| Dictionary | `{'a': 2}`|\n",
    "| `bool`| Boolean | `True`|\n",
    "| `NoneType`| None | `None`|\n"
   ]
  },
  {
   "cell_type": "markdown",
   "id": "b325cf83",
   "metadata": {
    "slideshow": {
     "slide_type": "slide"
    }
   },
   "source": [
    "## Variable Types\n",
    "\n",
    "Think about it as differents shapes of the boxes, each meant to store one type of information.\n",
    "\n",
    "![image](https://github.com/umbertomig/CSSBootCamp/blob/main/img/var3.png?raw=true)"
   ]
  },
  {
   "cell_type": "markdown",
   "id": "5396169b",
   "metadata": {
    "slideshow": {
     "slide_type": "slide"
    }
   },
   "source": [
    "### `int` vs. `float`\n",
    "\n",
    "An **integer** stores a whole number, like `1`. \n",
    "\n",
    "A **float** stores a decimal-point number, like `1.5`.\n"
   ]
  },
  {
   "cell_type": "code",
   "execution_count": null,
   "id": "395a7ded",
   "metadata": {
    "slideshow": {
     "slide_type": "fragment"
    }
   },
   "outputs": [],
   "source": [
    "# My code\n",
    "my_int = 1\n",
    "my_float = 1.0\n",
    "\n",
    "my_int + my_float"
   ]
  },
  {
   "cell_type": "markdown",
   "id": "206f9b1d",
   "metadata": {
    "slideshow": {
     "slide_type": "slide"
    }
   },
   "source": [
    "### `str`\n",
    "\n",
    "A **string** (`str`) stores *characters* as text.\n",
    "\n",
    "- Strings are defined by wrapping a sequence of characters in quotes.  \n",
    "- Note that a string doesn't have to be *words*: `int_string = \"1\"` would define a string with the character `\"1\"`.  \n"
   ]
  },
  {
   "cell_type": "code",
   "execution_count": null,
   "id": "d3f04b9f",
   "metadata": {
    "slideshow": {
     "slide_type": "fragment"
    }
   },
   "outputs": [],
   "source": [
    "# My code\n",
    "my_string = 'Hello CSS Students!'\n",
    "\n",
    "int_string = \"1\"\n",
    "\"Hello\" + \" \" + \"Students!\""
   ]
  },
  {
   "cell_type": "markdown",
   "id": "88b59b43",
   "metadata": {
    "slideshow": {
     "slide_type": "slide"
    }
   },
   "source": [
    "### `bool`\n",
    "\n",
    "A **boolean** (`boolean`) stores either `True` or `False`.  \n",
    "\n",
    "- Booleans will become very important when we want to use **conditional statements**, e.g., \"if X, do Y...\".  \n",
    "- When you check for equality using `==`, the output is a boolean."
   ]
  },
  {
   "cell_type": "code",
   "execution_count": null,
   "id": "d3e54596",
   "metadata": {
    "slideshow": {
     "slide_type": "-"
    }
   },
   "outputs": [],
   "source": [
    "### Checking for equality\n",
    "my_bool = 1 < 2\n",
    "my_bool"
   ]
  },
  {
   "cell_type": "markdown",
   "id": "5f04faff",
   "metadata": {
    "slideshow": {
     "slide_type": "slide"
    }
   },
   "source": [
    "### Checking variable `type`\n",
    "\n",
    "If you're not sure what the **type** of a variable is, you can use the `type` function.\n"
   ]
  },
  {
   "cell_type": "code",
   "execution_count": null,
   "id": "1d9ff8b4",
   "metadata": {
    "slideshow": {
     "slide_type": "-"
    }
   },
   "outputs": [],
   "source": [
    "type(2)"
   ]
  },
  {
   "cell_type": "code",
   "execution_count": null,
   "id": "6dec2912",
   "metadata": {
    "slideshow": {
     "slide_type": "-"
    }
   },
   "outputs": [],
   "source": [
    "type(2.77)"
   ]
  },
  {
   "cell_type": "code",
   "execution_count": null,
   "id": "82c6d704",
   "metadata": {
    "slideshow": {
     "slide_type": "-"
    }
   },
   "outputs": [],
   "source": [
    "type(\"some words\") == str"
   ]
  },
  {
   "cell_type": "markdown",
   "id": "7d9e25cb",
   "metadata": {
    "slideshow": {
     "slide_type": "slide"
    }
   },
   "source": [
    "### Your turn!\n",
    "\n",
    "Suppose we execute the following code:\n",
    "\n",
    "```\n",
    "start_var = 1\n",
    "new_var = str(start_var)\n",
    "type(new_var)\n",
    "```\n",
    "\n",
    "What do you think the `type` of `new_var` would be?"
   ]
  },
  {
   "cell_type": "code",
   "execution_count": null,
   "id": "7f686476",
   "metadata": {},
   "outputs": [],
   "source": [
    "## Your code here"
   ]
  },
  {
   "cell_type": "markdown",
   "id": "4c11f33b",
   "metadata": {
    "slideshow": {
     "slide_type": "slide"
    }
   },
   "source": [
    "### Casting\n",
    "\n",
    "We can use [casting](https://www.w3schools.com/python/python_casting.asp) to force a particular variable to take on a certain type.\n",
    "\n",
    "- `x = int(1)` will ensure that `x` is an `int`.  \n",
    "- `x = str(1)` will ensure that `x` is a `str`.  "
   ]
  },
  {
   "cell_type": "code",
   "execution_count": null,
   "id": "befea054",
   "metadata": {
    "slideshow": {
     "slide_type": "slide"
    }
   },
   "outputs": [],
   "source": [
    "x = str(1)\n",
    "print(type(x))\n",
    "x = int(x)\n",
    "print(type(x))"
   ]
  },
  {
   "cell_type": "markdown",
   "id": "ca7ec783",
   "metadata": {
    "slideshow": {
     "slide_type": "slide"
    }
   },
   "source": [
    "### How do different types interact?\n",
    "\n",
    "The `type` of a variable determines what it it can and can't do.  \n",
    "\n",
    "- Two `int` variables can be added, subtracted, etc.  \n",
    "- But you can't add or subtract an `int` from a `str`.  \n",
    "    - This would cause a `TypeError`!\n",
    "- (However, note that you *can* \"add\" two `str` variables together––this just **concatenates** them.)"
   ]
  },
  {
   "cell_type": "code",
   "execution_count": null,
   "id": "95d1d7b9",
   "metadata": {
    "slideshow": {
     "slide_type": "-"
    }
   },
   "outputs": [],
   "source": [
    "1 + 1 # This is fine"
   ]
  },
  {
   "cell_type": "code",
   "execution_count": null,
   "id": "1905054a",
   "metadata": {
    "slideshow": {
     "slide_type": "-"
    }
   },
   "outputs": [],
   "source": [
    "1 + \"test\" # This is not okay"
   ]
  },
  {
   "cell_type": "code",
   "execution_count": null,
   "id": "6b4b09ce",
   "metadata": {
    "slideshow": {
     "slide_type": "-"
    }
   },
   "outputs": [],
   "source": [
    "\"test\" + \"test\" # This is okay"
   ]
  },
  {
   "cell_type": "markdown",
   "id": "5ece2943",
   "metadata": {
    "slideshow": {
     "slide_type": "slide"
    }
   },
   "source": [
    "### `type` can sometimes be tricky\n",
    "\n",
    "Even if *we* think something is a numeric type, if it's wrapped in quotes, it'll be interpreted as a string.\n"
   ]
  },
  {
   "cell_type": "code",
   "execution_count": null,
   "id": "523820a3",
   "metadata": {
    "slideshow": {
     "slide_type": "-"
    }
   },
   "outputs": [],
   "source": [
    "numeric_string = \"1\" # This is a string\n",
    "type(numeric_string)"
   ]
  },
  {
   "cell_type": "code",
   "execution_count": null,
   "id": "448249a9",
   "metadata": {
    "slideshow": {
     "slide_type": "-"
    }
   },
   "outputs": [],
   "source": [
    "numeric_int = 1 # This is an int\n",
    "type(numeric_int)"
   ]
  },
  {
   "cell_type": "markdown",
   "id": "c23fe199",
   "metadata": {
    "slideshow": {
     "slide_type": "slide"
    }
   },
   "source": [
    "## Debugging Guide: best practices\n",
    "\n",
    "When **reading code**, it's very helpful to put yourself in the mind of the Python interpreter.\n",
    "\n",
    "Remember:\n",
    "\n",
    "- Python reads a block of code from top to bottom.  \n",
    "- When interpreting an **assignment** statement, Python evaluates the right-hand side of the expression first, then works leftward.  \n",
    "- For each line of code, think about the **state** of the namespace.\n",
    "   - Which variables are defined?  \n",
    "   - What are their types and values?\n",
    "\n",
    "When **debugging**, it's helpful to `print` out the value of different variables at different points."
   ]
  },
  {
   "cell_type": "markdown",
   "id": "14b95934",
   "metadata": {
    "slideshow": {
     "slide_type": "slide"
    }
   },
   "source": [
    "### Check-in\n",
    "\n",
    "Will the code below run successfully without an error? If so, what is the value of `c`?\n",
    "\n",
    "```python\n",
    "a = 1\n",
    "b = 'new'\n",
    "c = a + b\n",
    "```"
   ]
  },
  {
   "cell_type": "code",
   "execution_count": null,
   "id": "85521c27",
   "metadata": {
    "slideshow": {
     "slide_type": "-"
    }
   },
   "outputs": [],
   "source": [
    "### Your code here"
   ]
  },
  {
   "cell_type": "markdown",
   "id": "bddad714",
   "metadata": {
    "slideshow": {
     "slide_type": "slide"
    }
   },
   "source": [
    "### Check-in\n",
    "\n",
    "Will the code below run successfully without an error? If so, what is the value of `c`?\n",
    "\n",
    "```python\n",
    "a = 1\n",
    "b = 'new'\n",
    "a = str(a)\n",
    "c = a + b\n",
    "```"
   ]
  },
  {
   "cell_type": "code",
   "execution_count": null,
   "id": "3b430071",
   "metadata": {
    "slideshow": {
     "slide_type": "-"
    }
   },
   "outputs": [],
   "source": [
    "### Your code here"
   ]
  },
  {
   "cell_type": "markdown",
   "id": "e12b0f8e",
   "metadata": {
    "slideshow": {
     "slide_type": "slide"
    }
   },
   "source": [
    "### Using `print` to debug\n",
    "\n",
    "We can `print` out the *value* and the `type` of different variables throughout a block of code.\n",
    "\n",
    "This helps us **isolate** where exactly the code is going wrong."
   ]
  },
  {
   "cell_type": "code",
   "execution_count": null,
   "id": "14f5e142",
   "metadata": {
    "slideshow": {
     "slide_type": "-"
    }
   },
   "outputs": [],
   "source": [
    "a = 1\n",
    "b = 2\n",
    "print(type(a))\n",
    "print(type(b))\n",
    "c = str(b)\n",
    "print(type(c))\n",
    "d = a + c"
   ]
  },
  {
   "cell_type": "markdown",
   "id": "627a462a",
   "metadata": {
    "slideshow": {
     "slide_type": "slide"
    }
   },
   "source": [
    "## Style Guide: best practices\n",
    "\n",
    "Technically, you can use whatever style you want when defining variables (e.g., `new_var`, `NEW_VAR`, `newVar`, etc.).\n",
    "\n",
    "However, it helps to be *consistent*––and within particular programming communities, ceratin styles are preferred.\n",
    "\n",
    "In Python, many people follow these practices:\n",
    "\n",
    "1. Put a **space** around either side of the assignment operator (`a = 1`, not `a=1`).  \n",
    "2. Use **snake_case** for variable names (`new_var`, not `newVar`).  \n",
    "3. Use **informative** variable names (`current_amt`, not `a`).  "
   ]
  },
  {
   "cell_type": "markdown",
   "id": "f0c8fc7b",
   "metadata": {
    "slideshow": {
     "slide_type": "slide"
    }
   },
   "source": [
    "## Python Syntax"
   ]
  },
  {
   "cell_type": "markdown",
   "id": "1e0040e1",
   "metadata": {
    "slideshow": {
     "slide_type": "slide"
    }
   },
   "source": [
    "## Python Syntax: Overview\n",
    "\n",
    "The **syntax** of a programming language is the set of rules about how different symbols can be combined to produce correctly structured statements.  \n",
    "\n",
    "Like other programming languages, Python has particular **syntactic rules**.  \n",
    "- Failure to follow these rules results in a `SyntaxError`.\n",
    "- Although following syntactic rules can *sometimes* seem annoying, remember that there's always a reason the language was designed in a certain way.  \n",
    "\n",
    "Syntax goes hand-in-hand with the **operators** we use in a language, and the rules about how those operators are used."
   ]
  },
  {
   "cell_type": "markdown",
   "id": "7530abbf",
   "metadata": {
    "slideshow": {
     "slide_type": "slide"
    }
   },
   "source": [
    "## Operators\n",
    "\n",
    "An **operator** is used to perform an *operation* on variables and values.\n",
    "\n",
    "We've already seen an example of an operator: `=` is used to **assign** a variable name to some value."
   ]
  },
  {
   "cell_type": "code",
   "execution_count": null,
   "id": "e2687073",
   "metadata": {
    "slideshow": {
     "slide_type": "-"
    }
   },
   "outputs": [],
   "source": [
    "### Assignment operator\n",
    "x = 10"
   ]
  },
  {
   "cell_type": "markdown",
   "id": "aae082dc",
   "metadata": {
    "slideshow": {
     "slide_type": "-"
    }
   },
   "source": [
    "But operators can also include basic *arithmetic operations*, like addition (`+`) and subtraction (`-`). "
   ]
  },
  {
   "cell_type": "code",
   "execution_count": null,
   "id": "329bba79",
   "metadata": {
    "slideshow": {
     "slide_type": "-"
    }
   },
   "outputs": [],
   "source": [
    "### Addition operator\n",
    "1 + 1"
   ]
  },
  {
   "cell_type": "markdown",
   "id": "ca9e0448",
   "metadata": {
    "slideshow": {
     "slide_type": "slide"
    }
   },
   "source": [
    "### Arithmetic in Python\n",
    "\n",
    "Python code can be used to perform arithmetic calculations with **numeric** values, including:\n",
    "\n",
    "| Operation | Symbol |\n",
    "| --------- | ------ |\n",
    "| Addition | `+`|\n",
    "| Subtraction | `-`|\n",
    "| Division | `/`|\n",
    "| Multiplication | `*`|\n",
    "| Exponentiation | `**`|\n",
    "| Modulus | `%`|\n",
    "| Floor division | `//`|"
   ]
  },
  {
   "cell_type": "code",
   "execution_count": null,
   "id": "63af4866",
   "metadata": {
    "slideshow": {
     "slide_type": "-"
    }
   },
   "outputs": [],
   "source": [
    "### Exponentiation\n",
    "2 ** 3"
   ]
  },
  {
   "cell_type": "code",
   "execution_count": null,
   "id": "f4805a7b",
   "metadata": {
    "slideshow": {
     "slide_type": "-"
    }
   },
   "outputs": [],
   "source": [
    "### Division\n",
    "2 / 4"
   ]
  },
  {
   "cell_type": "code",
   "execution_count": null,
   "id": "a379f066",
   "metadata": {
    "slideshow": {
     "slide_type": "-"
    }
   },
   "outputs": [],
   "source": [
    "### Modulus\n",
    "8 % 3"
   ]
  },
  {
   "cell_type": "markdown",
   "id": "50162a4d",
   "metadata": {
    "slideshow": {
     "slide_type": "slide"
    }
   },
   "source": [
    "#### Order of operations\n",
    "\n",
    "If a single line of code has *multiple operations*, Python executes these operations according to [PEMDAS](https://www.cuemath.com/numbers/pemdas/). \n",
    "\n",
    "- E.g., `()` first, then `**`, then `*` or `/`, then `+` or `-`. \n",
    "- Word of caution: it's easy to misplace parentheses (`()`)––many experienced programmers can introduce **bugs** this way."
   ]
  },
  {
   "cell_type": "markdown",
   "id": "0c7c54c3",
   "metadata": {
    "slideshow": {
     "slide_type": "slide"
    }
   },
   "source": [
    "### Check-in\n",
    "\n",
    "What value would `x` take on in the following code?\n",
    "\n",
    "```python\n",
    "x = (1 + 2) / (18 - 3)\n",
    "```"
   ]
  },
  {
   "cell_type": "code",
   "execution_count": null,
   "id": "e4017894",
   "metadata": {
    "slideshow": {
     "slide_type": "-"
    }
   },
   "outputs": [],
   "source": [
    "### Your code here"
   ]
  },
  {
   "cell_type": "markdown",
   "id": "cafa055b",
   "metadata": {
    "slideshow": {
     "slide_type": "slide"
    }
   },
   "source": [
    "### Check-in\n",
    "\n",
    "What about this code?\n",
    "\n",
    "```python\n",
    "x = 1 + 2 / 18 - 3\n",
    "```"
   ]
  },
  {
   "cell_type": "code",
   "execution_count": null,
   "id": "b7ebca05",
   "metadata": {
    "slideshow": {
     "slide_type": "-"
    }
   },
   "outputs": [],
   "source": [
    "### Your code here"
   ]
  },
  {
   "cell_type": "markdown",
   "id": "53d69d8c",
   "metadata": {
    "slideshow": {
     "slide_type": "slide"
    }
   },
   "source": [
    "#### \"Adding\" strings\n",
    "\n",
    "The `+` operator can also be applied to **strings**. In this case, it **concatenates** the strings (i.e., puts them together).\n",
    "\n",
    "We'll revisit this soon when we discuss strings in more depth."
   ]
  },
  {
   "cell_type": "code",
   "execution_count": null,
   "id": "2cf2264a",
   "metadata": {
    "slideshow": {
     "slide_type": "-"
    }
   },
   "outputs": [],
   "source": [
    "### Addition \"concatenates\" strings\n",
    "\"a\" + \"pple\""
   ]
  },
  {
   "cell_type": "markdown",
   "id": "832c4736",
   "metadata": {
    "slideshow": {
     "slide_type": "slide"
    }
   },
   "source": [
    "### Assignment in Python\n",
    "\n",
    "We've already learned about the basic **assignment operator**: the symbol `=` can be used to assign a value to a variable name.\n",
    "\n",
    "There are also a few \"syntactic tricks\" with this operator, such as:\n",
    "\n",
    "| Operation | Symbol | Example |\n",
    "| --------- | ------ | ------- |\n",
    "| Add to variable | `+=` | `x += 1`|\n",
    "| Subtract from | `+=` | `x -= 1`|\n",
    "\n",
    "\n",
    "These are equivalent to just writing out something like: `x = x + 1` or `x = x - 1`."
   ]
  },
  {
   "cell_type": "code",
   "execution_count": null,
   "id": "38245517",
   "metadata": {
    "slideshow": {
     "slide_type": "-"
    }
   },
   "outputs": [],
   "source": [
    "x = 10\n",
    "x += 1\n",
    "x"
   ]
  },
  {
   "cell_type": "markdown",
   "id": "9e3dfe03",
   "metadata": {
    "slideshow": {
     "slide_type": "slide"
    }
   },
   "source": [
    "### Logical operators\n",
    "\n",
    "Logical operators can be used to produce a `boolean` value. They are particularly useful when writing **conditional statements**, which we'll discuss soon.\n",
    "\n",
    "| Symbol | Description | Example |\n",
    "| --------- | ------ | ------- |\n",
    "| `and` | Returns `True` if both parts are true | `True and True`|\n",
    "| `or` | Returns `True` if at least one part is true | `True or False`|\n",
    "| `not` | Returns the reverse | `not True`|\n"
   ]
  },
  {
   "cell_type": "code",
   "execution_count": null,
   "id": "6f7e6d69",
   "metadata": {
    "slideshow": {
     "slide_type": "-"
    }
   },
   "outputs": [],
   "source": [
    "True and False"
   ]
  },
  {
   "cell_type": "code",
   "execution_count": null,
   "id": "d7dcfd4c",
   "metadata": {
    "slideshow": {
     "slide_type": "-"
    }
   },
   "outputs": [],
   "source": [
    "True or False"
   ]
  },
  {
   "cell_type": "code",
   "execution_count": null,
   "id": "4061c7ae",
   "metadata": {
    "slideshow": {
     "slide_type": "-"
    }
   },
   "outputs": [],
   "source": [
    "True and (not False)"
   ]
  },
  {
   "cell_type": "markdown",
   "id": "6ec5fa41",
   "metadata": {
    "slideshow": {
     "slide_type": "slide"
    }
   },
   "source": [
    "### Comparison operators\n",
    "\n",
    "A **comparison operator** *compares* one value to another. This includes whether those values are the *same*, but also whether one is larger or smaller than the other, and so on.\n",
    "\n",
    "| Symbol | Description |\n",
    "| --------- | ------ | \n",
    "| `==` | Equal | \n",
    "| `!=` | Not Equal | \n",
    "| `>` | Greater Than |\n",
    "| `<` | Less Than |\n",
    "| `>=` | Greater Than or Equal To|\n",
    "| `<=` | Less Than or Equal To|"
   ]
  },
  {
   "cell_type": "code",
   "execution_count": null,
   "id": "0566bcd2",
   "metadata": {
    "slideshow": {
     "slide_type": "-"
    }
   },
   "outputs": [],
   "source": [
    "## Equal operator\n",
    "2 == (1 + 1)"
   ]
  },
  {
   "cell_type": "code",
   "execution_count": null,
   "id": "54028210",
   "metadata": {
    "slideshow": {
     "slide_type": "-"
    }
   },
   "outputs": [],
   "source": [
    "## Greater than\n",
    "2 > (1 + 1)"
   ]
  },
  {
   "cell_type": "markdown",
   "id": "c3834dfd",
   "metadata": {
    "slideshow": {
     "slide_type": "slide"
    }
   },
   "source": [
    "#### Comparing strings\n",
    "\n",
    "Note that these operators can also be applied to *strings*.\n",
    "\n",
    "- The equality operator (`==`) tests whether the two strings have the same characters.  \n",
    "- The greater/less than operators (`>` and `<`) test the relative *ordinal value* of the strings, i.e., if they were to be sorted."
   ]
  },
  {
   "cell_type": "code",
   "execution_count": null,
   "id": "36ad3dd4",
   "metadata": {
    "slideshow": {
     "slide_type": "-"
    }
   },
   "outputs": [],
   "source": [
    "## Are these strings equal?\n",
    "\"test\" == \"test\""
   ]
  },
  {
   "cell_type": "code",
   "execution_count": null,
   "id": "f216659f",
   "metadata": {
    "slideshow": {
     "slide_type": "-"
    }
   },
   "outputs": [],
   "source": [
    "## Is b \"larger\" than a?\n",
    "\"b\" > \"a\""
   ]
  },
  {
   "cell_type": "code",
   "execution_count": null,
   "id": "247c8ca0",
   "metadata": {
    "slideshow": {
     "slide_type": "-"
    }
   },
   "outputs": [],
   "source": [
    "## Is ab \"larger\" than aa?\n",
    "\"ab\" > \"aa\""
   ]
  },
  {
   "cell_type": "markdown",
   "id": "410b9f7f",
   "metadata": {
    "slideshow": {
     "slide_type": "slide"
    }
   },
   "source": [
    "### Check-in\n",
    "\n",
    "Would the following code return `True` or `False`?\n",
    "\n",
    "```python\n",
    "\"bat\" > \"cat\"\n",
    "```"
   ]
  },
  {
   "cell_type": "code",
   "execution_count": null,
   "id": "0d4848c1",
   "metadata": {
    "slideshow": {
     "slide_type": "-"
    }
   },
   "outputs": [],
   "source": [
    "### Your code here"
   ]
  },
  {
   "cell_type": "markdown",
   "id": "be457d72",
   "metadata": {
    "slideshow": {
     "slide_type": "slide"
    }
   },
   "source": [
    "### Identity operators\n",
    "\n",
    "An **identity operator** determines whether two objects are `identical` or not. There are just two symbols:\n",
    "\n",
    "| Symbol | Description |\n",
    "| --------- | ------ | \n",
    "| `is` | Identical | \n",
    "| `is not` | Not Identical | \n",
    "\n",
    "\n",
    "Note that **identity** is [not exactly the same as **equality**](https://realpython.com/python-is-identity-vs-equality/#comparing-equality-with-the-python-and-operators). \n",
    "\n",
    "- A test for **equality** (`==`) checks whether two *values* are the same.  \n",
    "- A test for **identity** (`is`) checks whether two operands point to the same *object* in memory.  \n",
    "  - You don't need to know all the details here––the most important thing is that they're subtly different."
   ]
  },
  {
   "cell_type": "code",
   "execution_count": null,
   "id": "ee3a68a8",
   "metadata": {
    "slideshow": {
     "slide_type": "-"
    }
   },
   "outputs": [],
   "source": [
    "# Comparing equality vs. identity\n",
    "a = \"This is a fairly long string\"\n",
    "b = \"This is a fairly long string\"\n",
    "print(a == b)\n",
    "print(a is b)"
   ]
  },
  {
   "cell_type": "markdown",
   "id": "7b053f13",
   "metadata": {
    "slideshow": {
     "slide_type": "slide"
    }
   },
   "source": [
    "#### Identity vs. Equality: The details\n",
    "\n",
    "- Two variables can have the same **value** (they're *equal*), but reference different objects in **memory** (i.e., they're not *identical*).\n",
    "\n",
    "- We can access the `id` of an object using `id(x)`. "
   ]
  },
  {
   "cell_type": "code",
   "execution_count": null,
   "id": "aac27435",
   "metadata": {
    "slideshow": {
     "slide_type": "-"
    }
   },
   "outputs": [],
   "source": [
    "x = 1000\n",
    "y = 1000\n",
    "print(id(x))\n",
    "print(id(y))\n",
    "print(x == y)\n",
    "print(x is y)"
   ]
  },
  {
   "cell_type": "markdown",
   "id": "93e97856",
   "metadata": {
    "slideshow": {
     "slide_type": "slide"
    }
   },
   "source": [
    "Behind the scenes, Python creates *objects* in memory whenever we declare a new variable referencing a value, with *some exceptions*:\n",
    "\n",
    "- Simple/short strings.  \n",
    "- Integers between `-5` and `256`\n"
   ]
  },
  {
   "cell_type": "code",
   "execution_count": null,
   "id": "83053885",
   "metadata": {
    "slideshow": {
     "slide_type": "-"
    }
   },
   "outputs": [],
   "source": [
    "x = 1\n",
    "y = 1\n",
    "print(x is y)\n",
    "print(x == y)"
   ]
  },
  {
   "cell_type": "markdown",
   "id": "689b160c",
   "metadata": {
    "slideshow": {
     "slide_type": "slide"
    }
   },
   "source": [
    "### Membership operators\n",
    "\n",
    "A **membership operator** determines whether a given value or variable is present within a larger sequence. \n",
    "\n",
    "\n",
    "| Symbol | Description |\n",
    "| --------- | ------ | \n",
    "| `in` | Is the variable/value in the sequence? | \n",
    "| `not` | Is the variable/value *not* in the sequence? | \n",
    "\n",
    "\n",
    "This will become clearer when we discuss different kinds of **sequences**, such as *strings* (`str`) and *lists* (`list`). For now, it's enough to compare/contrast the examples below."
   ]
  },
  {
   "cell_type": "code",
   "execution_count": null,
   "id": "8cc6a47a",
   "metadata": {
    "slideshow": {
     "slide_type": "-"
    }
   },
   "outputs": [],
   "source": [
    "print(\"a\" in \"apple\")\n",
    "print(\"b\" in \"apple\")"
   ]
  },
  {
   "cell_type": "code",
   "execution_count": null,
   "id": "2e6cf962",
   "metadata": {
    "scrolled": true,
    "slideshow": {
     "slide_type": "-"
    }
   },
   "outputs": [],
   "source": [
    "print(\"a\" not in \"apple\")\n",
    "print(\"b\" not in \"apple\")"
   ]
  },
  {
   "cell_type": "markdown",
   "id": "aff1b316",
   "metadata": {
    "slideshow": {
     "slide_type": "slide"
    }
   },
   "source": [
    "## Indentation in Python\n",
    "\n",
    "In Python, **indentation** matters for how different blocks of code get evaluated.\n",
    "\n",
    "- Everything within an *indented block* gets interpreted as happening \"within\" that block (e.g., within a loop).\n",
    "- This will make more sense when we discuss **conditional logic** (`if/else`) and **loops** (e.g., a `for` loop).  \n",
    "- If you indent where it's not necessary or expected, you'll get a `IndentationError`. "
   ]
  },
  {
   "cell_type": "code",
   "execution_count": null,
   "id": "9e052183",
   "metadata": {
    "slideshow": {
     "slide_type": "-"
    }
   },
   "outputs": [],
   "source": [
    "## We shouldn't have indented here\n",
    "    print(\"Don't indent here\")"
   ]
  },
  {
   "cell_type": "code",
   "execution_count": null,
   "id": "d527d8dc",
   "metadata": {
    "slideshow": {
     "slide_type": "-"
    }
   },
   "outputs": [],
   "source": [
    "## It's appropriate to indent after a conditional statement\n",
    "x = 2 - 1\n",
    "if x == 1:\n",
    "    print(\"This is an indented block\")"
   ]
  },
  {
   "cell_type": "markdown",
   "id": "69418b86",
   "metadata": {
    "slideshow": {
     "slide_type": "slide"
    }
   },
   "source": [
    "## Flow Control"
   ]
  },
  {
   "cell_type": "markdown",
   "id": "a8e79485",
   "metadata": {
    "slideshow": {
     "slide_type": "slide"
    }
   },
   "source": [
    "## What is control flow?\n",
    "\n",
    "By default, Python commands are executed in a *linear* order, i.e., line by line.  \n",
    " - Unless we tell Python otherwise, *each line* will be executed once.\n",
    "\n",
    "But sometimes it's useful to **control the flow of our code**:\n",
    "1. Which lines get executed?\n",
    "2. How many times do those lines get executed?  \n",
    "\n",
    "These control \"parameters\" correspond, roughly, to:\n",
    "1. Conditional statements (`if/elif/else`).  \n",
    "2. Loops (e.g., `for` or `while`). "
   ]
  },
  {
   "cell_type": "markdown",
   "id": "d7e8abd4",
   "metadata": {
    "slideshow": {
     "slide_type": "slide"
    }
   },
   "source": [
    "## What is control flow?\n",
    "\n",
    "![image](https://github.com/umbertomig/CSSBootCamp/blob/main/img/flow1.png?raw=true)"
   ]
  },
  {
   "cell_type": "markdown",
   "id": "825e1d3d",
   "metadata": {
    "slideshow": {
     "slide_type": "slide"
    }
   },
   "source": [
    "## What is a conditional?\n",
    "\n",
    "> In a nutshell, a **conditional** is a statement that checks for whether some *condition* is met.\n",
    "\n",
    "We can use the `if` command to **control** which lines of code are executed."
   ]
  },
  {
   "cell_type": "code",
   "execution_count": null,
   "id": "c1e4ae75",
   "metadata": {
    "slideshow": {
     "slide_type": "-"
    }
   },
   "outputs": [],
   "source": [
    "condition = True\n",
    "if condition:\n",
    "    print(\"This code will only run if the condition is True.\")"
   ]
  },
  {
   "cell_type": "code",
   "execution_count": null,
   "id": "754ea5fc",
   "metadata": {
    "slideshow": {
     "slide_type": "-"
    }
   },
   "outputs": [],
   "source": [
    "condition = False\n",
    "if condition:\n",
    "    print(\"This code will only run if the condition is True.\")"
   ]
  },
  {
   "cell_type": "markdown",
   "id": "0c29e04a",
   "metadata": {
    "slideshow": {
     "slide_type": "slide"
    }
   },
   "source": [
    "### Check-in\n",
    "\n",
    "Consider the code block below. Which part is the **conditional statement**?"
   ]
  },
  {
   "cell_type": "code",
   "execution_count": null,
   "id": "c0afca1f",
   "metadata": {
    "slideshow": {
     "slide_type": "-"
    }
   },
   "outputs": [],
   "source": [
    "x = 10\n",
    "y = 5\n",
    "if x > y:\n",
    "    print(\"X is bigger than Y.\")"
   ]
  },
  {
   "cell_type": "markdown",
   "id": "bf4c25d9",
   "metadata": {
    "slideshow": {
     "slide_type": "slide"
    }
   },
   "source": [
    "### Check-in\n",
    "\n",
    "Consider the code block below. Why won't the `print` statement run?"
   ]
  },
  {
   "cell_type": "code",
   "execution_count": null,
   "id": "e60e9783",
   "metadata": {
    "slideshow": {
     "slide_type": "-"
    }
   },
   "outputs": [],
   "source": [
    "x = \"One string\"\n",
    "y = \"Another string\"\n",
    "if x == y:\n",
    "    print(\"These strings are the same.\")"
   ]
  },
  {
   "cell_type": "markdown",
   "id": "029701de",
   "metadata": {
    "slideshow": {
     "slide_type": "slide"
    }
   },
   "source": [
    "### What belongs in an `if` statement?\n",
    "\n",
    "- An `if` statement should evaluate to `True` or `False`.  \n",
    "  - This includes the outcome of any **comparison** operation (`>`, `==`, etc.).  \n",
    "  - Technically, it also includes numbers/strings (which evaluate to `True`) and `NoneType` (which is equivalent to `False`).  \n",
    "- An `if` statement is *extremely useful* for modifying the behavior of a program, depending on some **condition**."
   ]
  },
  {
   "cell_type": "code",
   "execution_count": null,
   "id": "eab71505",
   "metadata": {
    "slideshow": {
     "slide_type": "-"
    }
   },
   "outputs": [],
   "source": [
    "if None:\n",
    "    print(\"This won't print\")"
   ]
  },
  {
   "cell_type": "markdown",
   "id": "5436d7ce",
   "metadata": {
    "slideshow": {
     "slide_type": "slide"
    }
   },
   "source": [
    "### Check-in\n",
    "\n",
    "What happens if our `if` statement evaluates to `False` (e.g., the statement `4 > 5` would evaluate to `False`)? "
   ]
  },
  {
   "cell_type": "markdown",
   "id": "94a2dc59",
   "metadata": {
    "slideshow": {
     "slide_type": "slide"
    }
   },
   "source": [
    "### Conditionals with operators\n",
    "\n",
    "Conditional statements can be used with **operators**. This is really useful if you want to modify your program based on whether two variables are equal (`==`), or one is larger (`>`) or smaller (`<`) than the others, and so on."
   ]
  },
  {
   "cell_type": "code",
   "execution_count": null,
   "id": "0bdc43a1",
   "metadata": {
    "slideshow": {
     "slide_type": "-"
    }
   },
   "outputs": [],
   "source": [
    "checking_account = 1000\n",
    "if checking_account > 200:\n",
    "    print(\"Withdrawal allowed.\")"
   ]
  },
  {
   "cell_type": "markdown",
   "id": "c22ae539",
   "metadata": {
    "slideshow": {
     "slide_type": "slide"
    }
   },
   "source": [
    "## `else` statement\n",
    "\n",
    "> An `else` statement tells Python what to do if an `if` statement evaluates to `False`."
   ]
  },
  {
   "cell_type": "code",
   "execution_count": null,
   "id": "924a00f2",
   "metadata": {
    "slideshow": {
     "slide_type": "-"
    }
   },
   "outputs": [],
   "source": [
    "condition = False\n",
    "if condition:\n",
    "    print(\"Condition is TRUE.\")\n",
    "else:\n",
    "    print(\"Condition is FALSE.\")"
   ]
  },
  {
   "cell_type": "markdown",
   "id": "58c07b01",
   "metadata": {
    "slideshow": {
     "slide_type": "slide"
    }
   },
   "source": [
    "### When to use an `else` statement?\n",
    "\n",
    "An `else` statement can **only** be used after an `if` statement (see the `SyntaxError` below).  "
   ]
  },
  {
   "cell_type": "code",
   "execution_count": null,
   "id": "a2c00d03",
   "metadata": {
    "slideshow": {
     "slide_type": "-"
    }
   },
   "outputs": [],
   "source": [
    "else:\n",
    "    print(\"test\")"
   ]
  },
  {
   "cell_type": "markdown",
   "id": "9d1e16e4",
   "metadata": {
    "slideshow": {
     "slide_type": "slide"
    }
   },
   "source": [
    "An `else` statement is most useful if you want two different things to happen, depending some condition:\n",
    "\n",
    "1. If `condition == True`, execute Action A.  \n",
    "2. `else`, execute Action B. "
   ]
  },
  {
   "cell_type": "code",
   "execution_count": null,
   "id": "0b3aa3bf",
   "metadata": {
    "slideshow": {
     "slide_type": "-"
    }
   },
   "outputs": [],
   "source": [
    "condition = False\n",
    "if condition:\n",
    "    print(\"Do this if the condition is TRUE.\")\n",
    "else:\n",
    "    print(\"Do this if the condition is FALSE.\")"
   ]
  },
  {
   "cell_type": "markdown",
   "id": "9dba48d1",
   "metadata": {
    "slideshow": {
     "slide_type": "slide"
    }
   },
   "source": [
    "## Quick note on indentation\n",
    "\n",
    "Notice that the code below an `if` or `else` statement must be **indented**, if you want it to be associated with that statement.\n",
    "\n",
    "If there is no indented code below an `if` statement, you'll get an `IndentationError`."
   ]
  },
  {
   "cell_type": "code",
   "execution_count": null,
   "id": "ef9c8ca5",
   "metadata": {
    "slideshow": {
     "slide_type": "-"
    }
   },
   "outputs": [],
   "source": [
    "if 3 > 2:\n",
    "print(\"No idententation\")"
   ]
  },
  {
   "cell_type": "markdown",
   "id": "e608bc3f",
   "metadata": {
    "slideshow": {
     "slide_type": "slide"
    }
   },
   "source": [
    "However, you *can* still have un-indented code below an `if` or `else` statement, as long as there's *also* indented code."
   ]
  },
  {
   "cell_type": "code",
   "execution_count": null,
   "id": "d29102a7",
   "metadata": {
    "slideshow": {
     "slide_type": "-"
    }
   },
   "outputs": [],
   "source": [
    "if 3 > 2:\n",
    "    print(\"This will execute if the condition is met.\")\n",
    "print(\"This will execute regardless.\")"
   ]
  },
  {
   "cell_type": "markdown",
   "id": "41f23d46",
   "metadata": {
    "slideshow": {
     "slide_type": "slide"
    }
   },
   "source": [
    "### Check-in\n",
    "\n",
    "Which lines in the code below would actually print?\n",
    "\n",
    "```python\n",
    "condition = False\n",
    "if condition:\n",
    "    print(\"Do this if the condition is TRUE.\")\n",
    "else:\n",
    "    print(\"Do this if the condition is FALSE.\")\n",
    "print(\"Also do this.\")\n",
    "```"
   ]
  },
  {
   "cell_type": "code",
   "execution_count": null,
   "id": "0257afe9",
   "metadata": {},
   "outputs": [],
   "source": [
    "## Your code here"
   ]
  },
  {
   "cell_type": "markdown",
   "id": "ef34968a",
   "metadata": {
    "slideshow": {
     "slide_type": "slide"
    }
   },
   "source": [
    "## `elif` statement\n",
    "\n",
    "> An `elif` statement tells Python what to do if an `if` statement evaluates to `False`, *and* some other condition is met.\n",
    "\n",
    "This is kind of a combination of an `if` and `else` statement.  "
   ]
  },
  {
   "cell_type": "code",
   "execution_count": null,
   "id": "695f453f",
   "metadata": {
    "slideshow": {
     "slide_type": "-"
    }
   },
   "outputs": [],
   "source": [
    "condition1 = False\n",
    "condition2 = True\n",
    "if condition1:\n",
    "    print(\"Condition 1 is true.\")\n",
    "elif condition2:\n",
    "    print(\"Condition 2 is true.\")"
   ]
  },
  {
   "cell_type": "markdown",
   "id": "63ad04e9",
   "metadata": {
    "slideshow": {
     "slide_type": "slide"
    }
   },
   "source": [
    "### When will an `elif` statement run?\n",
    "\n",
    "An `elif` statement will *only run* if the `if` statement evaluates to `False`––even if the `elif` statement would've evaluated to `True`!"
   ]
  },
  {
   "cell_type": "code",
   "execution_count": null,
   "id": "e663281f",
   "metadata": {
    "slideshow": {
     "slide_type": "-"
    }
   },
   "outputs": [],
   "source": [
    "condition1 = True\n",
    "condition2 = True\n",
    "if condition1:\n",
    "    print(\"Condition 1 is true.\")\n",
    "elif condition2:\n",
    "    print(\"Condition 2 is also true, but this won't print.\")"
   ]
  },
  {
   "cell_type": "markdown",
   "id": "f2ef8847",
   "metadata": {
    "slideshow": {
     "slide_type": "slide"
    }
   },
   "source": [
    "#### `if` vs. `elif`\n",
    "\n",
    "The key difference between two `if` statements in a row vs. an `if/elif` statement is:\n",
    "\n",
    "- The code under both `if` statements can run if both statements are `True`.  \n",
    "- The code under an `elif` statement will only run if the `if` statement is False."
   ]
  },
  {
   "cell_type": "code",
   "execution_count": null,
   "id": "79a05a5d",
   "metadata": {
    "slideshow": {
     "slide_type": "-"
    }
   },
   "outputs": [],
   "source": [
    "condition1 = True\n",
    "condition2 = True\n",
    "if condition1:\n",
    "    print(\"Condition 1 is true.\")\n",
    "if condition2:\n",
    "    print(\"Condition 2 is also true, and this will also print.\")"
   ]
  },
  {
   "cell_type": "markdown",
   "id": "a5ff5a59",
   "metadata": {
    "slideshow": {
     "slide_type": "slide"
    }
   },
   "source": [
    "#### `elif` vs. `else`\n",
    "\n",
    "- An `elif` statement cannot be placed after an `else` statement.\n",
    "   - This will generate a `SyntaxError`. \n",
    "- It also just doesn't make sense logically. If `elif` were at the end, it'd never be evaluated anyway, since `else` covers everything other than the `if` statement.\n"
   ]
  },
  {
   "cell_type": "code",
   "execution_count": null,
   "id": "7b334301",
   "metadata": {
    "slideshow": {
     "slide_type": "-"
    }
   },
   "outputs": [],
   "source": [
    "if 2 > 3:\n",
    "    print(\"True\")\n",
    "else:\n",
    "    print(\"False\")\n",
    "elif 2 > 1:\n",
    "    print(\"True?\")"
   ]
  },
  {
   "cell_type": "markdown",
   "id": "ea43bd99",
   "metadata": {
    "slideshow": {
     "slide_type": "slide"
    }
   },
   "source": [
    "### Check-in\n",
    "\n",
    "What do you expect the value of `x` to be if the following code is run? (Try to figure it out before running the code to check what `x` is.)"
   ]
  },
  {
   "cell_type": "code",
   "execution_count": null,
   "id": "e7d0fa3d",
   "metadata": {
    "slideshow": {
     "slide_type": "-"
    }
   },
   "outputs": [],
   "source": [
    "y = 1\n",
    "x = 0\n",
    "if y >= 1:\n",
    "    x -= 2\n",
    "elif y >= 1:\n",
    "    x -= 1\n",
    "else:\n",
    "    x += 1"
   ]
  },
  {
   "cell_type": "markdown",
   "id": "364de463",
   "metadata": {
    "slideshow": {
     "slide_type": "slide"
    }
   },
   "source": [
    "### Check-in\n",
    "\n",
    "What do you expect the value of `x` to be if the following code is run? (Try to figure it out before running the code to check what `x` is.)"
   ]
  },
  {
   "cell_type": "code",
   "execution_count": null,
   "id": "5f25efc5",
   "metadata": {
    "slideshow": {
     "slide_type": "-"
    }
   },
   "outputs": [],
   "source": [
    "y = 1\n",
    "x = 0\n",
    "if y >= 1:\n",
    "    x -= 2\n",
    "if y >= 0:\n",
    "    x -= 1\n",
    "else:\n",
    "    x += 1"
   ]
  },
  {
   "cell_type": "markdown",
   "id": "2c94be21",
   "metadata": {
    "slideshow": {
     "slide_type": "slide"
    }
   },
   "source": [
    "### Check-in\n",
    "\n",
    "Why did those two different code blocks behave differently?"
   ]
  },
  {
   "cell_type": "markdown",
   "id": "8c10e61a",
   "metadata": {
    "slideshow": {
     "slide_type": "slide"
    }
   },
   "source": [
    "### Both `elif` and `else` \"attach\" to the nearest `if` statement\n",
    "\n",
    "Any given `else` or `elif` statement is attached/associated with exactly one `if` statement (the one immediately above).  \n",
    "\n",
    "This means that we must be very *careful* to think about what each `else` statement is actually comparing against."
   ]
  },
  {
   "cell_type": "markdown",
   "id": "bb158781",
   "metadata": {
    "slideshow": {
     "slide_type": "slide"
    }
   },
   "source": [
    "### Check-in\n",
    "\n",
    "The following code ends up printing a contradiction (e.g., `A is True`, followed by `Neither A nor B are True`). Why is this happening?\n",
    "\n",
    "**Hint**: Think about what we just discussed––an `else` attaches to the nearest `if` statement."
   ]
  },
  {
   "cell_type": "code",
   "execution_count": null,
   "id": "00920007",
   "metadata": {
    "slideshow": {
     "slide_type": "-"
    }
   },
   "outputs": [],
   "source": [
    "A = True\n",
    "B = False\n",
    "C = True\n",
    "if A:\n",
    "    print(\"A is True\")\n",
    "if B:\n",
    "    print(\"B is True\")\n",
    "else:\n",
    "    print(\"Neither A nor B are True.\")"
   ]
  },
  {
   "cell_type": "markdown",
   "id": "61994e01",
   "metadata": {
    "slideshow": {
     "slide_type": "slide"
    }
   },
   "source": [
    "## More complex conditionals\n",
    "\n",
    "So far, we've dealt with fairly limited **conditional** statements:\n",
    "\n",
    "1. Each `if` checks only a single condition.  \n",
    "2. Relatively linear ordering: `if`, `elif`, then `else`.  \n",
    "\n",
    "But conditional statements can be considerably more complex:\n",
    "\n",
    "1. Each `if` statement can check multiple conditions using [logical operators](04-basics-syntax) like `or` and `and`.  \n",
    "2. Conditional statements can be **nested**.  "
   ]
  },
  {
   "cell_type": "markdown",
   "id": "4858d9a8",
   "metadata": {
    "slideshow": {
     "slide_type": "slide"
    }
   },
   "source": [
    "### Using `and` and `or`\n",
    "\n",
    "Recall that `and` and `or` can be used to evaluate *multiple* statements.  \n",
    "\n",
    "- `and` returns `True` if all statements are `True`.  \n",
    "- `or` returns `True` if at least one statement is `True`.  \n",
    "\n",
    "We can use these to check for more complex conditions."
   ]
  },
  {
   "cell_type": "code",
   "execution_count": null,
   "id": "c912c8bf",
   "metadata": {
    "slideshow": {
     "slide_type": "-"
    }
   },
   "outputs": [],
   "source": [
    "a = 20\n",
    "b = 30\n",
    "c = 40\n",
    "if b > a and c > b:\n",
    "    print(\"Both conditions are True.\")"
   ]
  },
  {
   "cell_type": "markdown",
   "id": "3cc75435",
   "metadata": {
    "slideshow": {
     "slide_type": "slide"
    }
   },
   "source": [
    "### Check-in\n",
    "\n",
    "Why does the top code block execute the code under the `if` statement, while the bottom one doesn't?"
   ]
  },
  {
   "cell_type": "code",
   "execution_count": null,
   "id": "4ce7f111",
   "metadata": {
    "slideshow": {
     "slide_type": "-"
    }
   },
   "outputs": [],
   "source": [
    "a = 20\n",
    "b = 30\n",
    "c = 25\n",
    "if b > a or c > b:\n",
    "    print(\"At least one condition is True.\")"
   ]
  },
  {
   "cell_type": "code",
   "execution_count": null,
   "id": "7aa6ca45",
   "metadata": {
    "slideshow": {
     "slide_type": "-"
    }
   },
   "outputs": [],
   "source": [
    "a = 20\n",
    "b = 30\n",
    "c = 25\n",
    "if b > a and c > b:\n",
    "    print(\"Both conditions are True.\")"
   ]
  },
  {
   "cell_type": "markdown",
   "id": "ee8d5ed8",
   "metadata": {
    "slideshow": {
     "slide_type": "slide"
    }
   },
   "source": [
    "### A simple use-case for `and`"
   ]
  },
  {
   "cell_type": "code",
   "execution_count": null,
   "id": "4d0c8057",
   "metadata": {
    "slideshow": {
     "slide_type": "-"
    }
   },
   "outputs": [],
   "source": [
    "is_password = True\n",
    "checking_account = 1000\n",
    "withdrawal = 500\n",
    "if is_password and (withdrawal < checking_account):\n",
    "    print(\"Withdrawal permitted.\")\n",
    "    checking_account -= withdrawal\n",
    "    print(str(checking_account) + \" left in checking.\")"
   ]
  },
  {
   "cell_type": "markdown",
   "id": "eb7f6ecf",
   "metadata": {
    "slideshow": {
     "slide_type": "slide"
    }
   },
   "source": [
    "### A simple use-case for `or`"
   ]
  },
  {
   "cell_type": "code",
   "execution_count": null,
   "id": "9fb7876c",
   "metadata": {
    "slideshow": {
     "slide_type": "-"
    }
   },
   "outputs": [],
   "source": [
    "is_dog = True\n",
    "is_cat = False\n",
    "if is_dog or is_cat:\n",
    "    print(\"This is a dog or cat.\")\n",
    "else:\n",
    "    print(\"This is neither a dog nor cat.\")"
   ]
  },
  {
   "cell_type": "markdown",
   "id": "17d9b8c7",
   "metadata": {
    "slideshow": {
     "slide_type": "slide"
    }
   },
   "source": [
    "### Check-in: `and` vs. `else`\n",
    "\n",
    "How would an `else` statement behave following an `if` statement using an `and` (e.g., `X and Y`)? (Choose either (1) or (2).)\n",
    "\n",
    "1. The `else` statement will run if both `X` and `Y` are `False`.  \n",
    "2. The `else` statement will run if at least one of `X` and `Y` is `False."
   ]
  },
  {
   "cell_type": "markdown",
   "id": "9b5a68f4",
   "metadata": {
    "slideshow": {
     "slide_type": "slide"
    }
   },
   "source": [
    "### Check-in: `or` vs. `else`\n",
    "\n",
    "How would an `else` statement behave following an `if` statement using an `or` (e.g., `X or Y`)? (Choose either (1) or (2).)\n",
    "\n",
    "1. The `else` statement will run if both `X` and `Y` are `False`.  \n",
    "2. The `else` statement will run if at least one of `X` and `Y` is `False."
   ]
  },
  {
   "cell_type": "markdown",
   "id": "de370716",
   "metadata": {
    "slideshow": {
     "slide_type": "slide"
    }
   },
   "source": [
    "### Using nested conditionals\n",
    "\n",
    "> A **nested conditional** is one that contains at least one `if` statement \"nested\" within another conditional statement."
   ]
  },
  {
   "cell_type": "code",
   "execution_count": null,
   "id": "3a4419a0",
   "metadata": {
    "slideshow": {
     "slide_type": "-"
    }
   },
   "outputs": [],
   "source": [
    "a = 8\n",
    "if a > 5:\n",
    "    if a >= 10:\n",
    "        print(\"A is greater than or equal to 10.\")\n",
    "    else:\n",
    "        print(\"A is bigger than 5, but smaller than 10.\")\n",
    "else:\n",
    "    print(\"A is smaller than or equal to 5.\")"
   ]
  },
  {
   "cell_type": "markdown",
   "id": "ee2c7ef8",
   "metadata": {
    "slideshow": {
     "slide_type": "slide"
    }
   },
   "source": [
    "### Nested `if` vs. `and`\n",
    "\n",
    "- A nested `if` statement functions similarly to an `and` statement.\n",
    "- In both cases, some block of code will only run if **both** conditions are met.  \n",
    "- The key difference is that a nested `if` statement allows you more **granularity** in terms of evaluating which conditions are met, and what to do in each case."
   ]
  },
  {
   "cell_type": "markdown",
   "id": "1410e72e",
   "metadata": {
    "slideshow": {
     "slide_type": "slide"
    }
   },
   "source": [
    "## Code Style: Indentation\n",
    "\n",
    "- With conditionals, it's hugely important that you keep track of your **indentation**.  \n",
    "- It's easy to introduce **bugs** by making something indented where it shouldn't be, or the other way around.  \n",
    "- Debugging practice:\n",
    "   - As before, read each line carefully.  \n",
    "   - Track the **state** of each variable.  \n",
    "   - Track whether a given conditional statement evaluates to `True` or `False`, and what would happen next."
   ]
  },
  {
   "cell_type": "markdown",
   "id": "6cd34b00",
   "metadata": {
    "slideshow": {
     "slide_type": "slide"
    }
   },
   "source": [
    "## Loops"
   ]
  },
  {
   "cell_type": "markdown",
   "id": "76d34621",
   "metadata": {
    "slideshow": {
     "slide_type": "slide"
    }
   },
   "source": [
    "## Control flow, revisited\n",
    "\n",
    "By default, Python commands are executed in a *linear* order, i.e., line by line.  \n",
    " - Unless we tell Python otherwise, *each line* will be executed once.\n",
    "\n",
    "But sometimes it's useful to **control**:\n",
    "1. Which lines get executed?\n",
    "2. How many times do those lines get executed?  \n",
    "\n",
    "These control \"parameters\" correspond, roughly, to:\n",
    "\n",
    "1. Conditional statements (`if/elif/else`).  \n",
    "2. Loops (e.g., `for` or `while`). "
   ]
  },
  {
   "cell_type": "markdown",
   "id": "d61c36e3",
   "metadata": {
    "slideshow": {
     "slide_type": "slide"
    }
   },
   "source": [
    "## Loops, explained\n",
    "\n",
    "> A **loop** is a way to repeat the same piece of code multiple times.\n"
   ]
  },
  {
   "cell_type": "markdown",
   "id": "838b115f",
   "metadata": {
    "slideshow": {
     "slide_type": "slide"
    }
   },
   "source": [
    "### When should you use a loop?\n",
    "\n",
    "**Rule of thumb**: if you find yourself copying/pasting the same code many different times...you might think about using a loop!  \n",
    "\n",
    "More generally: in programming, we often want to execute the same action *multiple times*. \n",
    "\n",
    "- Apply the same instruction to every item on a `list`.  \n",
    "- Continue running some code until a condition is met.  "
   ]
  },
  {
   "cell_type": "markdown",
   "id": "e8fffb2b",
   "metadata": {
    "slideshow": {
     "slide_type": "slide"
    }
   },
   "source": [
    "### A loop is an example of *iteration*\n",
    "\n",
    "> Iteration simply means: repeating some sequence of instructions until a specific end result is achieved.\n",
    "\n",
    "That \"end result\" could be any number of things:\n",
    "\n",
    "- You reach the end of a `list`.  \n",
    "- Some other condition is met.  \n",
    "\n",
    "In general, we'll use the term **iterate** to mean \"do over and over again\".\n",
    "\n",
    "- The expression \"iterate over a list\" means: *Do X to every item of that list*. "
   ]
  },
  {
   "cell_type": "markdown",
   "id": "2e21d1f8",
   "metadata": {
    "slideshow": {
     "slide_type": "slide"
    }
   },
   "source": [
    "### Two kinds of loops\n",
    "\n",
    "There are two main kinds of loops you'll use in Python: `for` loops and `while` loops.\n",
    "\n",
    "- A `for` loop runs some code for every item of a `list` or sequence.\n",
    "- A `while` loop runs a piece of code until some condition is met (e.g., `while condition == True`). \n",
    "\n",
    "Today, we'll focus on `for` loops."
   ]
  },
  {
   "cell_type": "markdown",
   "id": "5b8f2852",
   "metadata": {
    "slideshow": {
     "slide_type": "slide"
    }
   },
   "source": [
    "### Side note: lists\n",
    "\n",
    "- We haven't discussed `list` objects in detail yet, but we will introduce them as part of the lecture today.  \n",
    "- High-level: \n",
    "   - A `list` is an ordered collection of elements.  \n",
    "   - Different elements can be accessed by **indexing** through the list."
   ]
  },
  {
   "cell_type": "code",
   "execution_count": null,
   "id": "7b1e11ad",
   "metadata": {
    "slideshow": {
     "slide_type": "-"
    }
   },
   "outputs": [],
   "source": [
    "## This is a list in Python\n",
    "numbers = [1, 2, 3]\n",
    "### This is how we \"index\" particular elements in that list\n",
    "numbers[0]"
   ]
  },
  {
   "cell_type": "markdown",
   "id": "170f9fc1",
   "metadata": {
    "slideshow": {
     "slide_type": "slide"
    }
   },
   "source": [
    "## `for` loops in action\n",
    "\n",
    "> A `for` loop is used for [iterating over a sequence](https://www.w3schools.com/python/python_for_loops.asp). \n",
    "\n",
    "A `for` loop uses the syntax: `for elem in list_name: ...`"
   ]
  },
  {
   "cell_type": "code",
   "execution_count": null,
   "id": "7b8733b7",
   "metadata": {
    "slideshow": {
     "slide_type": "-"
    }
   },
   "outputs": [],
   "source": [
    "## This is a list in Python\n",
    "n = [1, 2, 3]\n",
    "### This is a for loop\n",
    "for i in n:  \n",
    "    print(i ** 2)"
   ]
  },
  {
   "cell_type": "markdown",
   "id": "8a4dac63",
   "metadata": {
    "slideshow": {
     "slide_type": "slide"
    }
   },
   "source": [
    "### Check-in\n",
    "\n",
    "What do you expect the following code block to do, if you executed it?\n",
    "\n",
    "```python\n",
    "for l in \"apple\":\n",
    "    print(l)\n",
    "```"
   ]
  },
  {
   "cell_type": "markdown",
   "id": "0e6da225",
   "metadata": {
    "slideshow": {
     "slide_type": "slide"
    }
   },
   "source": [
    "A `for` loop tells Python to **iterate** over each element in a sequence.\n",
    "\n",
    "The **content** of that loop––the **indented code** underneath the `for` statement––tells Python what to do each time."
   ]
  },
  {
   "cell_type": "code",
   "execution_count": null,
   "id": "d22f7173",
   "metadata": {
    "slideshow": {
     "slide_type": "-"
    }
   },
   "outputs": [],
   "source": [
    "for l in \"apple\":\n",
    "    print(l)"
   ]
  },
  {
   "cell_type": "markdown",
   "id": "c5fd42de",
   "metadata": {
    "slideshow": {
     "slide_type": "slide"
    }
   },
   "source": [
    "### Check-in\n",
    "\n",
    "Approximately how many lines of code would we need if we wanted to `print` each element of a `list` with **100 items**, *without* using any kind of loop? (I.e., copy/paste the same code?)"
   ]
  },
  {
   "cell_type": "markdown",
   "id": "cc188acd",
   "metadata": {
    "slideshow": {
     "slide_type": "slide"
    }
   },
   "source": [
    "### Compare and contrast"
   ]
  },
  {
   "cell_type": "code",
   "execution_count": null,
   "id": "382299de",
   "metadata": {
    "slideshow": {
     "slide_type": "-"
    }
   },
   "outputs": [],
   "source": [
    "### This code prints each number independently\n",
    "numbers = [1, 2, 3, 4, 5]\n",
    "print(numbers[0])\n",
    "print(numbers[1])\n",
    "print(numbers[2])\n",
    "print(numbers[3])\n",
    "print(numbers[4])"
   ]
  },
  {
   "cell_type": "code",
   "execution_count": null,
   "id": "e5979716",
   "metadata": {
    "slideshow": {
     "slide_type": "-"
    }
   },
   "outputs": [],
   "source": [
    "### This code iterates through the list\n",
    "numbers = [1, 2, 3, 4, 5]\n",
    "for number in numbers:\n",
    "    print(number)"
   ]
  },
  {
   "cell_type": "markdown",
   "id": "39e5c41e",
   "metadata": {
    "slideshow": {
     "slide_type": "slide"
    }
   },
   "source": [
    "### What can you use a `for` loop on?\n",
    "\n",
    "> You can use a `for` loop on any **sequence**.\n",
    "\n",
    "We'll talk more about sequences next week, but they include:\n",
    "\n",
    "- Lists, e.g., `[1, 2, 10]`.  \n",
    "- Strings, e.g., `\"apple\"`. \n",
    "- Ranges, e.g., `range(10)`\n",
    "\n"
   ]
  },
  {
   "cell_type": "markdown",
   "id": "8415116b",
   "metadata": {
    "slideshow": {
     "slide_type": "slide"
    }
   },
   "source": [
    "### Introducing `range`\n",
    "\n",
    "> `range` is an **operator** used to create a range of numbers, e.g., from 0 to 100. It's very useful if your main goal is to execute some code $N$ times.\n",
    "\n",
    "Note that `range(10)` will return an iterable object of 10 numbers from *0* to *9*."
   ]
  },
  {
   "cell_type": "code",
   "execution_count": null,
   "id": "ae010a9a",
   "metadata": {
    "slideshow": {
     "slide_type": "-"
    }
   },
   "outputs": [],
   "source": [
    "for i in range(10):\n",
    "    print(i)"
   ]
  },
  {
   "cell_type": "markdown",
   "id": "558f0cd2",
   "metadata": {
    "slideshow": {
     "slide_type": "slide"
    }
   },
   "source": [
    "If you want to start at a different number (e.g., `3`), you can enter that as an argument as well."
   ]
  },
  {
   "cell_type": "code",
   "execution_count": null,
   "id": "a53039ba",
   "metadata": {
    "slideshow": {
     "slide_type": "-"
    }
   },
   "outputs": [],
   "source": [
    "for i in range(3, 10):\n",
    "    print(i)"
   ]
  },
  {
   "cell_type": "markdown",
   "id": "88ef57a9",
   "metadata": {
    "slideshow": {
     "slide_type": "slide"
    }
   },
   "source": [
    "Remember: `range` will produce numbers going all the way up to $N - 1$, *not* $N$. "
   ]
  },
  {
   "cell_type": "code",
   "execution_count": null,
   "id": "0eb4f4d5",
   "metadata": {
    "slideshow": {
     "slide_type": "-"
    }
   },
   "outputs": [],
   "source": [
    "for i in range(5):\n",
    "    print(i)"
   ]
  },
  {
   "cell_type": "markdown",
   "id": "d6dac74f",
   "metadata": {
    "slideshow": {
     "slide_type": "slide"
    }
   },
   "source": [
    "### Check-in\n",
    "\n",
    "Write a `for` loop that `print`s out every letter in the string `\"CSS\"`."
   ]
  },
  {
   "cell_type": "code",
   "execution_count": null,
   "id": "9542eaad",
   "metadata": {
    "slideshow": {
     "slide_type": "-"
    }
   },
   "outputs": [],
   "source": [
    "## First, define a string using something like: word = \"CSS\"\n",
    "for l in 'CSS':\n",
    "    print(l)"
   ]
  },
  {
   "cell_type": "markdown",
   "id": "1427a506",
   "metadata": {
    "slideshow": {
     "slide_type": "slide"
    }
   },
   "source": [
    "### Check-in\n",
    "\n",
    "Write a `for` loop that `print`s out every letter in the string `\"Computational Social Science\"`, **except for the spaces**.\n",
    "\n",
    "**HINT**: Think about how you could combine a `for` loop with an `if` statement."
   ]
  },
  {
   "cell_type": "code",
   "execution_count": null,
   "id": "c0a6f7d2",
   "metadata": {
    "slideshow": {
     "slide_type": "-"
    }
   },
   "outputs": [],
   "source": [
    "## First, define a string using something like: word = \"Computational Social Science\"\n",
    "s = 'Computational Social Sciences'\n",
    "for l in s:\n",
    "    if l != ' ':\n",
    "        print(l, end = '')"
   ]
  },
  {
   "cell_type": "markdown",
   "id": "9ae9dad8",
   "metadata": {
    "slideshow": {
     "slide_type": "slide"
    }
   },
   "source": [
    "## Loops and conditionals, *combined* \n",
    "\n",
    "The real expressive power of a `for` loop comes into play when we use **conditional statements**.\n",
    "\n",
    "- Remember that an `if` statement allows us to run a piece of code *only if* some condition is met.  "
   ]
  },
  {
   "cell_type": "markdown",
   "id": "65d9a2ab",
   "metadata": {
    "slideshow": {
     "slide_type": "slide"
    }
   },
   "source": [
    "### Check-in\n",
    "\n",
    "Why/how could an `if` statement be helpful when using a `for` loop? "
   ]
  },
  {
   "cell_type": "markdown",
   "id": "58fbfb1d",
   "metadata": {
    "slideshow": {
     "slide_type": "slide"
    }
   },
   "source": [
    "### `for` and `if`: a simple use-case\n",
    "\n",
    "Suppose you are instructed to write a program that prints out all the **even numbers** between 1 and 11.\n",
    "\n",
    "Breaking the problem down:\n",
    "\n",
    "1. First, we want to **iterate** through a `range` from `(1, 11)`.  \n",
    "2. Then, we want to check `if` each element of that range is **even**.  \n",
    "3. `if` a given element is even, we `print` it out."
   ]
  },
  {
   "cell_type": "markdown",
   "id": "477774fd",
   "metadata": {
    "slideshow": {
     "slide_type": "slide"
    }
   },
   "source": [
    "#### Check-in\n",
    "\n",
    "How might we determine if a number is even?\n",
    "\n",
    "**Hint**: Think about the *modulo* operator (`%`)."
   ]
  },
  {
   "cell_type": "markdown",
   "id": "e41e0086",
   "metadata": {
    "slideshow": {
     "slide_type": "slide"
    }
   },
   "source": [
    "#### `print`ing even numbers in `range(1, 22)`"
   ]
  },
  {
   "cell_type": "code",
   "execution_count": null,
   "id": "3615ff81",
   "metadata": {
    "slideshow": {
     "slide_type": "-"
    }
   },
   "outputs": [],
   "source": [
    "for num in range(1, 6): ## for loop\n",
    "    if num % 2 == 0:  ## conditional statement\n",
    "        print(num)  ## the code we want to execute"
   ]
  },
  {
   "cell_type": "markdown",
   "id": "6853b530",
   "metadata": {
    "slideshow": {
     "slide_type": "slide"
    }
   },
   "source": [
    "### Check-in\n",
    "\n",
    "Suppose you're going grocery shopping. Here are the costs of each item:"
   ]
  },
  {
   "cell_type": "code",
   "execution_count": null,
   "id": "4a541538",
   "metadata": {
    "slideshow": {
     "slide_type": "-"
    }
   },
   "outputs": [],
   "source": [
    "costs = [5, 8, 4, 10, 15]\n",
    "total_bill = 0\n",
    "for prod in costs:\n",
    "    if prod < 9:\n",
    "        total_bill += prod # (+= same as \"total_bill = total_bill + prod\")\n",
    "print(total_bill)"
   ]
  },
  {
   "cell_type": "markdown",
   "id": "62b5b87f",
   "metadata": {
    "slideshow": {
     "slide_type": "-"
    }
   },
   "source": [
    "You want to keep your costs low, so you decide not to buy anything above $9. How would you write a `for` loop that:\n",
    "\n",
    "- Iterates through `costs`.  \n",
    "- Tracks a `final_bill` variable.  \n",
    "- Only adds items to `final_bill` if they're below 9$?\n",
    "\n",
    "Try to implement this code before looking at the solution below."
   ]
  },
  {
   "cell_type": "code",
   "execution_count": null,
   "id": "701347b1",
   "metadata": {
    "slideshow": {
     "slide_type": "-"
    }
   },
   "outputs": [],
   "source": [
    "#### YOUR CODE HERE"
   ]
  },
  {
   "cell_type": "markdown",
   "id": "0c2f88ff",
   "metadata": {
    "slideshow": {
     "slide_type": "slide"
    }
   },
   "source": [
    "## Controlling `for` loops\n",
    "\n",
    "Sometimes, you may want an even finer degree of control over `for` loops. There are two commands that give you this control:\n",
    "\n",
    "1. `continue`: tells the `for` loop to **continue** onto the next item in the list (i.e., without necessarily doing anything with the current item). \n",
    "2. `break`: **cancels/stops** the `for` loop."
   ]
  },
  {
   "cell_type": "markdown",
   "id": "14333966",
   "metadata": {
    "slideshow": {
     "slide_type": "slide"
    }
   },
   "source": [
    "### `break` in action\n",
    "\n",
    "The following code iterates through a `range`, and `break`s once it gets to `5`."
   ]
  },
  {
   "cell_type": "code",
   "execution_count": null,
   "id": "3ace4eba",
   "metadata": {
    "slideshow": {
     "slide_type": "-"
    }
   },
   "outputs": [],
   "source": [
    "for num in range(1, 10):\n",
    "    if num == 6:\n",
    "        break\n",
    "    print(num)\n",
    "\n",
    "print('back to the flow')"
   ]
  },
  {
   "cell_type": "markdown",
   "id": "682edbe2",
   "metadata": {
    "slideshow": {
     "slide_type": "slide"
    }
   },
   "source": [
    "### `continue` in action\n",
    "\n",
    "The following code iterates through a `range`, and `continue`s once it gets to `5` (i.e., \"skips\")."
   ]
  },
  {
   "cell_type": "code",
   "execution_count": null,
   "id": "d9e78d4d",
   "metadata": {
    "slideshow": {
     "slide_type": "-"
    }
   },
   "outputs": [],
   "source": [
    "for num in range(1, 10):\n",
    "    if num == 5:\n",
    "        continue\n",
    "    print(num)"
   ]
  },
  {
   "cell_type": "markdown",
   "id": "2b540a9e",
   "metadata": {
    "slideshow": {
     "slide_type": "slide"
    }
   },
   "source": [
    "### Check-in\n",
    "\n",
    "How are `break` and `continue` different?"
   ]
  },
  {
   "cell_type": "markdown",
   "id": "321c1b48",
   "metadata": {
    "slideshow": {
     "slide_type": "slide"
    }
   },
   "source": [
    "## Nested `for` loops\n",
    "\n",
    "Just as we can **nest** conditional statements, we can also nest **loops**.  \n",
    "\n",
    "> A **nested loop** is a `for` or `while` loop contained *within* another `for` or `while` loop.\n",
    "\n",
    "As with nested `if` statements, it's very important to **be careful about your indentation**."
   ]
  },
  {
   "cell_type": "markdown",
   "id": "218d2860",
   "metadata": {
    "slideshow": {
     "slide_type": "slide"
    }
   },
   "source": [
    "### Nested loops in action (pt. 1)"
   ]
  },
  {
   "cell_type": "code",
   "execution_count": null,
   "id": "8568edfb",
   "metadata": {
    "slideshow": {
     "slide_type": "-"
    }
   },
   "outputs": [],
   "source": [
    "professors = ['Mignozzetti', 'Styler', 'Trott']\n",
    "classes = ['POLI 30', 'CSS 1']\n",
    "for y in professors:\n",
    "    for x in classes:\n",
    "        print(\"Is {cl} taught by {prof}?\".format(cl = x, prof = y))"
   ]
  },
  {
   "cell_type": "markdown",
   "id": "14f3882b",
   "metadata": {
    "slideshow": {
     "slide_type": "slide"
    }
   },
   "source": [
    "### Nested loops in action (pt. 2)\n",
    "\n",
    "**Note**: The `end = \" \"` parameter in the `print` function just tells Python not to print the `str` on a new line."
   ]
  },
  {
   "cell_type": "code",
   "execution_count": null,
   "id": "f3576464",
   "metadata": {
    "slideshow": {
     "slide_type": "-"
    }
   },
   "outputs": [],
   "source": [
    "for i in range(1, 6):\n",
    "    for j in range(1, i + 1):\n",
    "        print(\"*\", end=\" \")\n",
    "    print(\" \")"
   ]
  },
  {
   "cell_type": "markdown",
   "id": "8fa83d83",
   "metadata": {
    "slideshow": {
     "slide_type": "slide"
    }
   },
   "source": [
    "### A note of caution\n",
    "\n",
    "- Nested `for` loops can take a very long to execute if:\n",
    "   - Your `list`s are very long.  \n",
    "   - You have many, many levels of nesting.  \n",
    "- Technically, the code in a nested for loop will run $N * M$ times, where $N$ is the length of the **outer loop**, and $M$ is the length of the **inner loop**.  \n",
    "   - This is beyond this course, but [making programs more efficient is an important part of Computer Science](https://en.wikipedia.org/wiki/Big_O_notation).  "
   ]
  },
  {
   "cell_type": "markdown",
   "id": "b0d2dd53",
   "metadata": {
    "slideshow": {
     "slide_type": "slide"
    }
   },
   "source": [
    "## `while` loops\n",
    "\n",
    "> A `while` loop is a procedure to repeat the same piece of code `while` some condition is met.\n",
    "\n",
    "For example:\n",
    "\n",
    "- Add numbers to a `shopping_bill` variable `while shopping_bill < 50`.  \n",
    "- Increase a `temperature` variable `while temperature < 85`.  \n",
    "- `while` some condition is met, continue running a **simulation**. "
   ]
  },
  {
   "cell_type": "markdown",
   "id": "a01ee9ec",
   "metadata": {
    "slideshow": {
     "slide_type": "slide"
    }
   },
   "source": [
    "### Check-in\n",
    "\n",
    "How are `for` and `while` loops similar? How are they different?"
   ]
  },
  {
   "cell_type": "markdown",
   "id": "c9bc7719",
   "metadata": {
    "slideshow": {
     "slide_type": "slide"
    }
   },
   "source": [
    "### `while` loops in action\n",
    "\n",
    "A `while` loop is created using the `while` keyword, following by a **condition**. As long as this condition is met, the `while` loop will continue!  \n",
    "\n",
    "In the code below:\n",
    "\n",
    "- The `start` variable begins at `0`.  \n",
    "- We then declare a `while` loop, which will run as long as `start < 2`.  \n",
    "- Then, the `start` variable is incremented by `1` with each **iteration**, guaranteeing that eventually we'll reach the condition where `start >= 2` (thus \"breaking\" the loop)."
   ]
  },
  {
   "cell_type": "code",
   "execution_count": null,
   "id": "6518d5d5",
   "metadata": {
    "slideshow": {
     "slide_type": "-"
    }
   },
   "outputs": [],
   "source": [
    "while start < 10: ### Conditional statement\n",
    "    print(start)\n",
    "    start += 1"
   ]
  },
  {
   "cell_type": "markdown",
   "id": "4da2d601",
   "metadata": {
    "slideshow": {
     "slide_type": "slide"
    }
   },
   "source": [
    "### Iterating through a `list`\n",
    "\n",
    "`while` loops are often used to iterate through a `list`. \n",
    "\n",
    "To do this, we use an **index** variable, which simply keeps track of \"where\" in the list we are.\n",
    "\n",
    "- Recall that we can **index** into a `list` using the syntax `list_name[0]`. \n",
    "- We can also retrieve the **length** of that `list` using `len(list_name)`.  "
   ]
  },
  {
   "cell_type": "code",
   "execution_count": null,
   "id": "434ac8f3",
   "metadata": {
    "slideshow": {
     "slide_type": "-"
    }
   },
   "outputs": [],
   "source": [
    "numbers = [1, 2, 3] ## List to iterate through\n",
    "index = 0 ## Start index at 0\n",
    "while index < len(numbers):\n",
    "    print(\"Index: {i}. Number: {n}.\".format(n = numbers[index], i = index))\n",
    "    index += 1"
   ]
  },
  {
   "cell_type": "markdown",
   "id": "7fc5727d",
   "metadata": {
    "slideshow": {
     "slide_type": "slide"
    }
   },
   "source": [
    "### Check-in\n",
    "\n",
    "You want to keep your grocery costs low, so you decide not to buy anything above 9. How would you write a `while` loop that:\n",
    "\n",
    "- Iterates through `costs`.  \n",
    "- Tracks a `final_bill` variable.  \n",
    "- Only adds items to `final_bill` if they're below 9$?\n",
    "\n",
    "**Hints**:\n",
    "\n",
    "- You can retrieve the *length* of a list using `len(list_name)`.  \n",
    "- If you're using an *index*, remember to **increment** it so you don't get stuck in a loop."
   ]
  },
  {
   "cell_type": "code",
   "execution_count": null,
   "id": "2c3f757b",
   "metadata": {
    "slideshow": {
     "slide_type": "-"
    }
   },
   "outputs": [],
   "source": [
    "costs = [5, 8, 4, 10, 15]\n",
    "#### YOUR CODE HERE"
   ]
  },
  {
   "cell_type": "markdown",
   "id": "2038b863",
   "metadata": {
    "slideshow": {
     "slide_type": "slide"
    }
   },
   "source": [
    "### Stuck in a loop?\n",
    "\n",
    "A common issue that programmers encounter is getting \"stuck\" in an **infinite** `while` loop. This happens because they haven't ensured that the **condition** will eventually evaluate as `False`.  \n",
    "\n",
    "- This is surprisingly easy to do, even as an experienced programmer.  \n",
    "- For this reason, I typically prefer to use a `for` loop rather than a `while` loop, unless I absolutely have to.\n",
    "\n",
    "If you **do** find yourself stuck, you can \"cancel\" the loop manually:\n",
    "\n",
    "- Pressing the **Stop** button in the Jupyter toolbar. \n",
    "- Pressing `Command + C` in the Terminal.  "
   ]
  },
  {
   "cell_type": "markdown",
   "id": "76336178",
   "metadata": {
    "slideshow": {
     "slide_type": "slide"
    }
   },
   "source": [
    "### Check-in\n",
    "\n",
    "What will the final value of `room_temperature` be if the following `while` loop is run? What about the final value of `body_temperature`?"
   ]
  },
  {
   "cell_type": "code",
   "execution_count": null,
   "id": "496e2400",
   "metadata": {
    "slideshow": {
     "slide_type": "-"
    }
   },
   "outputs": [],
   "source": [
    "room_temperature = 40\n",
    "body_temperature = 92\n",
    "while room_temperature < 70:\n",
    "    room_temperature += 1\n",
    "    body_temperature += .2"
   ]
  },
  {
   "cell_type": "markdown",
   "id": "f1361888",
   "metadata": {
    "slideshow": {
     "slide_type": "slide"
    }
   },
   "source": [
    "## Some final (challenging) practice"
   ]
  },
  {
   "cell_type": "markdown",
   "id": "e74d3566",
   "metadata": {
    "slideshow": {
     "slide_type": "slide"
    }
   },
   "source": [
    "### Practice 1\n",
    "\n",
    "Write a `while` loop to count the number of **vowels** in a string. The code block below starts with a `list` of vowels alreay, which you can use to cross-reference when iterating through a string.\n",
    "\n",
    "**Hint**: If you're feeling extra ambitious, you might think about how to handle *upper-case* vowels."
   ]
  },
  {
   "cell_type": "code",
   "execution_count": null,
   "id": "1fd42b6a",
   "metadata": {
    "slideshow": {
     "slide_type": "-"
    }
   },
   "outputs": [],
   "source": [
    "vowels = ['a', 'e', 'i', 'o', 'u']\n",
    "example_string = \"CSS is great\"\n",
    "### Your code here"
   ]
  },
  {
   "cell_type": "markdown",
   "id": "1f263321",
   "metadata": {
    "slideshow": {
     "slide_type": "slide"
    }
   },
   "source": [
    "### Practice 2\n",
    "\n",
    "Write a `for` loop that:\n",
    "\n",
    "- Iterates through a `list` of numbers.  \n",
    "- `if` the number (e.g., `i`) is **even**, iterates through a **nested** `for` loop of all those same numbers, and...\n",
    "   - `if` a given number is **odd** `and` larger than `i`, `print`s out the sum of those numbers.\n",
    "   \n",
    "**Hint**: Remember that `%` can be used to figure out whether a given number is divisible by 2 (e.g., `4 % 2 == 0`). "
   ]
  },
  {
   "cell_type": "code",
   "execution_count": null,
   "id": "fbe765f1",
   "metadata": {
    "slideshow": {
     "slide_type": "-"
    }
   },
   "outputs": [],
   "source": [
    "### Your code here"
   ]
  },
  {
   "cell_type": "markdown",
   "id": "fc098dc8",
   "metadata": {
    "slideshow": {
     "slide_type": "slide"
    }
   },
   "source": [
    "### Practice 3\n",
    "\n",
    "Create a command prompt that runs forever, showing for the user: `You typed: ` and adding what the user typed. The command prompt has to stop when the user types `exit`."
   ]
  },
  {
   "cell_type": "code",
   "execution_count": null,
   "id": "aeb2b007",
   "metadata": {},
   "outputs": [],
   "source": [
    "### Your code here"
   ]
  },
  {
   "cell_type": "markdown",
   "id": "6a5858e4",
   "metadata": {
    "slideshow": {
     "slide_type": "slide"
    }
   },
   "source": [
    "### Practice 4\n",
    "\n",
    "Create a command prompt that runs forever, showing for the user how many times she used the letters `a`, `e`, `i`, `o`, `u`, and `y`. The command prompt has to stop when the user types `exit`."
   ]
  },
  {
   "cell_type": "code",
   "execution_count": null,
   "id": "5daccd99",
   "metadata": {},
   "outputs": [],
   "source": [
    "### Your code here"
   ]
  },
  {
   "cell_type": "markdown",
   "id": "a1c436c0",
   "metadata": {
    "slideshow": {
     "slide_type": "slide"
    }
   },
   "source": [
    "## Conclusion\n",
    "\n",
    "In here we learned:\n",
    "\n",
    "1. **Operators**\n",
    "1. **Variables**\n",
    "1. **Flow control**\n",
    "\n",
    "More to come!"
   ]
  }
 ],
 "metadata": {
  "celltoolbar": "Slideshow",
  "kernelspec": {
   "display_name": "Python 3 (ipykernel)",
   "language": "python",
   "name": "python3"
  },
  "language_info": {
   "codemirror_mode": {
    "name": "ipython",
    "version": 3
   },
   "file_extension": ".py",
   "mimetype": "text/x-python",
   "name": "python",
   "nbconvert_exporter": "python",
   "pygments_lexer": "ipython3",
   "version": "3.9.18"
  }
 },
 "nbformat": 4,
 "nbformat_minor": 5
}
